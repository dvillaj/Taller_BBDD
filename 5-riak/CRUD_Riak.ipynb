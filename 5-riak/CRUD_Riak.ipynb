{
 "cells": [
  {
   "cell_type": "markdown",
   "metadata": {},
   "source": [
    "# Operaciones CRUD en Riak\n"
   ]
  },
  {
   "cell_type": "markdown",
   "metadata": {},
   "source": [
    "## Insertar / Actualizar una clave"
   ]
  },
  {
   "cell_type": "code",
   "execution_count": 15,
   "metadata": {
    "collapsed": false,
    "jupyter": {
     "outputs_hidden": false
    }
   },
   "outputs": [
    {
     "name": "stdout",
     "output_type": "stream",
     "text": [
      "HTTP/1.1 204 No Content\n",
      "\u001b[1mVary\u001b[0m: Accept-Encoding\n",
      "\u001b[1mServer\u001b[0m: MochiWeb/1.1 WebMachine/1.10.9 (cafe not found)\n",
      "\u001b[1mDate\u001b[0m: Mon, 06 Jun 2022 09:39:56 GMT\n",
      "\u001b[1mContent-Type\u001b[0m: text/plain\n",
      "\u001b[1mContent-Length\u001b[0m: 0\n",
      "\n"
     ]
    }
   ],
   "source": [
    "!curl -i -XPUT \"http://localhost:8098/riak/food/favorite\" \\\n",
    "-H \"Content-Type:text/plain\" \\\n",
    "-d \"pizza\"\n"
   ]
  },
  {
   "cell_type": "markdown",
   "metadata": {},
   "source": [
    "## Leer una clave"
   ]
  },
  {
   "cell_type": "code",
   "execution_count": 14,
   "metadata": {
    "collapsed": false,
    "jupyter": {
     "outputs_hidden": false
    }
   },
   "outputs": [
    {
     "name": "stdout",
     "output_type": "stream",
     "text": [
      "HTTP/1.1 404 Object Not Found\n",
      "\u001b[1mServer\u001b[0m: MochiWeb/1.1 WebMachine/1.10.9 (cafe not found)\n",
      "\u001b[1mDate\u001b[0m: Mon, 06 Jun 2022 09:39:50 GMT\n",
      "\u001b[1mContent-Type\u001b[0m: text/plain\n",
      "\u001b[1mContent-Length\u001b[0m: 10\n",
      "\n",
      "not found\n"
     ]
    }
   ],
   "source": [
    "!curl -i -XGET \"http://localhost:8098/riak/food/favorite\" "
   ]
  },
  {
   "cell_type": "markdown",
   "metadata": {},
   "source": [
    "## Borrar una clave"
   ]
  },
  {
   "cell_type": "code",
   "execution_count": 13,
   "metadata": {
    "collapsed": false,
    "jupyter": {
     "outputs_hidden": false
    }
   },
   "outputs": [
    {
     "name": "stdout",
     "output_type": "stream",
     "text": [
      "HTTP/1.1 204 No Content\n",
      "\u001b[1mVary\u001b[0m: Accept-Encoding\n",
      "\u001b[1mServer\u001b[0m: MochiWeb/1.1 WebMachine/1.10.9 (cafe not found)\n",
      "\u001b[1mDate\u001b[0m: Mon, 06 Jun 2022 09:39:47 GMT\n",
      "\u001b[1mContent-Type\u001b[0m: text/plain\n",
      "\u001b[1mContent-Length\u001b[0m: 0\n",
      "\n"
     ]
    }
   ],
   "source": [
    "!curl -i -XDELETE \"http://localhost:8098/riak/food/favorite\" "
   ]
  }
 ],
 "metadata": {
  "kernelspec": {
   "display_name": "Python 3 (ipykernel)",
   "language": "python",
   "name": "python3"
  },
  "language_info": {
   "codemirror_mode": {
    "name": "ipython",
    "version": 3
   },
   "file_extension": ".py",
   "mimetype": "text/x-python",
   "name": "python",
   "nbconvert_exporter": "python",
   "pygments_lexer": "ipython3",
   "version": "3.8.10"
  }
 },
 "nbformat": 4,
 "nbformat_minor": 4
}
