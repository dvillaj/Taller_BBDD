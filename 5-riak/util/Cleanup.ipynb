{
 "cells": [
  {
   "cell_type": "code",
   "execution_count": null,
   "metadata": {
    "jupyter": {
     "outputs_hidden": false
    }
   },
   "outputs": [],
   "source": [
    "import riak\n",
    "\n",
    "client = riak.RiakClient(pb_port=8087, protocol='pbc')"
   ]
  },
  {
   "cell_type": "code",
   "execution_count": null,
   "metadata": {},
   "outputs": [],
   "source": [
    "buckets = !docker exec -i compose-riak_coordinator_1 riak-admin bucket-type list\n",
    "print(buckets)"
   ]
  },
  {
   "cell_type": "code",
   "execution_count": null,
   "metadata": {},
   "outputs": [],
   "source": [
    "# Se permiten operaciones de listado\n",
    "riak.disable_list_exceptions = True"
   ]
  },
  {
   "cell_type": "code",
   "execution_count": null,
   "metadata": {
    "jupyter": {
     "outputs_hidden": false
    }
   },
   "outputs": [],
   "source": [
    "for b in buckets:\n",
    "    if '(active)' in b:\n",
    "        bucket_type = riak.bucket.BucketType(client, b.partition(' ')[0])          \n",
    "        for bucket in bucket_type.get_buckets():\n",
    "            for keys in bucket.stream_keys():\n",
    "                print('Bucket Type {0}: Bucket {1}'.format(bucket_type.name, bucket.name))\n",
    "                "
   ]
  },
  {
   "cell_type": "code",
   "execution_count": null,
   "metadata": {
    "jupyter": {
     "outputs_hidden": false
    }
   },
   "outputs": [],
   "source": [
    "for b in buckets:\n",
    "    if '(active)' in b:\n",
    "        bucket_type = riak.bucket.BucketType(client, b.partition(' ')[0])\n",
    "               \n",
    "        for bucket in bucket_type.get_buckets():\n",
    "            for keys in bucket.stream_keys():\n",
    "                for key in keys:\n",
    "                    #print('Bucket Type {0}: Deleting key {1}/{2}').format(bucket_type.name, bucket.name, key)\n",
    "                    bucket.delete(key)\n"
   ]
  },
  {
   "cell_type": "code",
   "execution_count": null,
   "metadata": {},
   "outputs": [],
   "source": [
    "riak.disable_list_exceptions = False"
   ]
  }
 ],
 "metadata": {
  "kernelspec": {
   "display_name": "Python 3 (ipykernel)",
   "language": "python",
   "name": "python3"
  },
  "language_info": {
   "codemirror_mode": {
    "name": "ipython",
    "version": 3
   },
   "file_extension": ".py",
   "mimetype": "text/x-python",
   "name": "python",
   "nbconvert_exporter": "python",
   "pygments_lexer": "ipython3",
   "version": "3.8.10"
  }
 },
 "nbformat": 4,
 "nbformat_minor": 4
}
