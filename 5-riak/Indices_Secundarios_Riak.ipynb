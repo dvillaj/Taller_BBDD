{
 "cells": [
  {
   "cell_type": "markdown",
   "metadata": {},
   "source": [
    "# Indices Secundarios en Riak"
   ]
  },
  {
   "cell_type": "markdown",
   "metadata": {},
   "source": [
    "## Conexión a Riak"
   ]
  },
  {
   "cell_type": "code",
   "execution_count": null,
   "metadata": {},
   "outputs": [],
   "source": [
    "import riak"
   ]
  },
  {
   "cell_type": "code",
   "execution_count": null,
   "metadata": {
    "jupyter": {
     "outputs_hidden": false
    }
   },
   "outputs": [],
   "source": [
    "cliente = riak.RiakClient()\n",
    "print(\"¿Está Riak disponible?\", cliente.ping())"
   ]
  },
  {
   "cell_type": "markdown",
   "metadata": {},
   "source": [
    "## Escritura en Riak"
   ]
  },
  {
   "cell_type": "markdown",
   "metadata": {},
   "source": [
    "Vamos a crear un dataset de datos ficticio y lo vamos a cargar un dataframe de Pandas"
   ]
  },
  {
   "cell_type": "code",
   "execution_count": null,
   "metadata": {},
   "outputs": [],
   "source": [
    "from faker import Faker\n",
    "import pandas as pd\n",
    "import json\n",
    "\n",
    "faker = Faker()\n",
    "Faker.seed(4321)\n",
    "profiles = []\n",
    "for i in range(10):\n",
    "    profile = faker.simple_profile()\n",
    "    profile['birthdate'] = profile['birthdate'].isoformat()\n",
    "    profiles.append(profile) \n",
    "\n",
    "dataframe = pd.read_json(json.dumps(profiles, default=str))"
   ]
  },
  {
   "cell_type": "code",
   "execution_count": null,
   "metadata": {},
   "outputs": [],
   "source": [
    "dataframe"
   ]
  },
  {
   "cell_type": "markdown",
   "metadata": {},
   "source": [
    "Cada una de las filas del dataset es JSON (diccionario en Python)"
   ]
  },
  {
   "cell_type": "code",
   "execution_count": null,
   "metadata": {},
   "outputs": [],
   "source": [
    "profiles[0]"
   ]
  },
  {
   "cell_type": "code",
   "execution_count": null,
   "metadata": {},
   "outputs": [],
   "source": [
    "print(\"username:\", profiles[0]['username'])\n",
    "print(\"ser:\", profiles[0]['sex'])\n",
    "print(\"mail:\", profiles[0]['mail'])"
   ]
  },
  {
   "cell_type": "markdown",
   "metadata": {},
   "source": [
    "Cargamos la información en Riak en un backet llamado 'profile'-\n",
    "\n",
    "Adicionalmente creamos 2 indices, uno por sexo y otro por email.\n",
    "\n",
    "Los índices secundarios en Riak permiten buscar clavés de una manerá mucho más rápida que si recorrieramos todas las claves de un bucket una tras otra de forma secuencial"
   ]
  },
  {
   "cell_type": "code",
   "execution_count": null,
   "metadata": {},
   "outputs": [],
   "source": [
    "bucket = cliente.bucket(\"profile\")\n",
    "\n",
    "for profile_json in profiles:\n",
    "    key = profile_json['username']\n",
    "    riak_key = bucket.new(key, data = profile_json)\n",
    "    riak_key.add_index('idx_mail_bin', profile_json['mail'])\n",
    "    riak_key.add_index('idx_sex_bin', profile_json['sex'])\n",
    "    riak_key.store()\n",
    "    \n",
    "    print(f\"Inserted key: {key}\")"
   ]
  },
  {
   "cell_type": "markdown",
   "metadata": {},
   "source": [
    "## Lectura\n"
   ]
  },
  {
   "cell_type": "markdown",
   "metadata": {},
   "source": [
    "Podemos acceder al dato directamente a través de la clave ..."
   ]
  },
  {
   "cell_type": "raw",
   "metadata": {},
   "source": [
    "SELECT *\n",
    "FROM profile\n",
    "where key = 'ghardy'"
   ]
  },
  {
   "cell_type": "code",
   "execution_count": null,
   "metadata": {},
   "outputs": [],
   "source": [
    "bucket = cliente.bucket(\"profile\")\n",
    "\n",
    "print(\"ghardy:\", bucket.get(\"ghardy\").data)"
   ]
  },
  {
   "cell_type": "markdown",
   "metadata": {},
   "source": [
    "Obtenemos todas los valores de la tabla y cargamos la información en Pandas.  \n",
    "**Observa que la información recuperada no está ordenada!**"
   ]
  },
  {
   "cell_type": "raw",
   "metadata": {},
   "source": [
    "SELECT *\n",
    "FROM profile"
   ]
  },
  {
   "cell_type": "code",
   "execution_count": null,
   "metadata": {},
   "outputs": [],
   "source": [
    "# Se permiten operaciones de listado (No utilizar en PRODUCCION!)\n",
    "riak.disable_list_exceptions = True"
   ]
  },
  {
   "cell_type": "code",
   "execution_count": null,
   "metadata": {},
   "outputs": [],
   "source": [
    "rows = []\n",
    "bucket = cliente.bucket(\"profile\")\n",
    "for keys in bucket.stream_keys():\n",
    "    for key in keys:\n",
    "        profile_json = bucket.get(key).data\n",
    "        print(f\"Key Recovered: {key}\")\n",
    "        rows.append(profile_json)\n",
    "\n",
    "df = pd.read_json(json.dumps(rows))"
   ]
  },
  {
   "cell_type": "code",
   "execution_count": null,
   "metadata": {},
   "outputs": [],
   "source": [
    "df"
   ]
  },
  {
   "cell_type": "code",
   "execution_count": null,
   "metadata": {},
   "outputs": [],
   "source": [
    "riak.disable_list_exceptions = False"
   ]
  },
  {
   "cell_type": "markdown",
   "metadata": {},
   "source": [
    "Ahora vamos a localizar las claves del sexo \"M\" a través del ínidice"
   ]
  },
  {
   "cell_type": "raw",
   "metadata": {},
   "source": [
    "SELECT *\n",
    "FROM profile\n",
    "WHERE sex = 'M'"
   ]
  },
  {
   "cell_type": "code",
   "execution_count": null,
   "metadata": {
    "jupyter": {
     "outputs_hidden": false
    }
   },
   "outputs": [],
   "source": [
    "rows = []\n",
    "bucket = cliente.bucket(\"profile\")\n",
    "keys = bucket.get_index(\"idx_sex_bin\", 'M')\n",
    "for key in keys.results:\n",
    "    profile_json = bucket.get(key).data\n",
    "    print(f\"Key Recovered: {key}\")\n",
    "    rows.append(profile_json)   \n",
    "       \n",
    "df = pd.read_json(json.dumps(rows))"
   ]
  },
  {
   "cell_type": "code",
   "execution_count": null,
   "metadata": {},
   "outputs": [],
   "source": [
    "df"
   ]
  },
  {
   "cell_type": "code",
   "execution_count": null,
   "metadata": {},
   "outputs": [],
   "source": [
    "print(rows[0]) "
   ]
  },
  {
   "cell_type": "markdown",
   "metadata": {},
   "source": [
    "Ahora vamos a localizar las claves del mail \"joshua01@hotmail.com\" a través del ínidice"
   ]
  },
  {
   "cell_type": "raw",
   "metadata": {},
   "source": [
    "SELECT *\n",
    "FROM profile\n",
    "WHERE mail = 'joshua01@hotmail.com'"
   ]
  },
  {
   "cell_type": "code",
   "execution_count": null,
   "metadata": {},
   "outputs": [],
   "source": [
    "rows = []\n",
    "bucket = cliente.bucket(\"profile\")\n",
    "keys = bucket.get_index(\"idx_mail_bin\", 'joshua01@hotmail.com')\n",
    "for key in keys.results:\n",
    "    profile_json = bucket.get(key).data    \n",
    "    print(f\"Key Recovered: {key}\")\n",
    "    rows.append(profile_json)\n",
    "       \n",
    "df = pd.read_json(json.dumps(rows))"
   ]
  },
  {
   "cell_type": "code",
   "execution_count": null,
   "metadata": {},
   "outputs": [],
   "source": [
    "df"
   ]
  }
 ],
 "metadata": {
  "kernelspec": {
   "display_name": "Python 3 (ipykernel)",
   "language": "python",
   "name": "python3"
  },
  "language_info": {
   "codemirror_mode": {
    "name": "ipython",
    "version": 3
   },
   "file_extension": ".py",
   "mimetype": "text/x-python",
   "name": "python",
   "nbconvert_exporter": "python",
   "pygments_lexer": "ipython3",
   "version": "3.8.10"
  }
 },
 "nbformat": 4,
 "nbformat_minor": 4
}
