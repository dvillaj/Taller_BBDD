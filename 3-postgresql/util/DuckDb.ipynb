{
 "cells": [
  {
   "cell_type": "code",
   "execution_count": 17,
   "id": "8dac2a76-519d-4875-83ea-bd2df359b4b6",
   "metadata": {},
   "outputs": [],
   "source": [
    "import pandas as pd\n",
    "from io import StringIO\n",
    "import requests\n",
    "\n",
    "url=\"http://datos.madrid.es/egob/catalogo/212411-16-madrid-avisa.csv\"\n",
    "data=StringIO(requests.get(url).text)\n",
    "\n",
    "df = pd.read_csv(data, delimiter=\";\", encoding = \"ISO-8859-1\")"
   ]
  },
  {
   "cell_type": "code",
   "execution_count": 21,
   "id": "8694b386-0b30-41bd-a332-dec580870e45",
   "metadata": {},
   "outputs": [
    {
     "name": "stdout",
     "output_type": "stream",
     "text": [
      "--2022-10-29 11:53:25--  http://datos.madrid.es/egob/catalogo/212411-16-madrid-avisa.csv\n",
      "Resolving datos.madrid.es (datos.madrid.es)... 104.113.250.26, 2.22.126.249, 2a02:26f0:13c::6871:fa1a, ...\n",
      "Connecting to datos.madrid.es (datos.madrid.es)|104.113.250.26|:80... connected.\n",
      "HTTP request sent, awaiting response... 301 Moved Permanently\n",
      "Location: https://datos.madrid.es/egob/catalogo/212411-16-madrid-avisa.csv [following]\n",
      "--2022-10-29 11:53:26--  https://datos.madrid.es/egob/catalogo/212411-16-madrid-avisa.csv\n",
      "Connecting to datos.madrid.es (datos.madrid.es)|104.113.250.26|:443... connected.\n",
      "HTTP request sent, awaiting response... 302 Moved Temporarily\n",
      "Location: https://datos.madrid.es:443/datosabiertos/BUSINESS_INTELLIGENCE/AVISA/2017/12/avisa-avisos%20ciudadanos%20mensuales%20recibidos%20en%20el%20ayuntamiento%20201712.csv [following]\n",
      "--2022-10-29 11:53:26--  https://datos.madrid.es/datosabiertos/BUSINESS_INTELLIGENCE/AVISA/2017/12/avisa-avisos%20ciudadanos%20mensuales%20recibidos%20en%20el%20ayuntamiento%20201712.csv\n",
      "Reusing existing connection to datos.madrid.es:443.\n",
      "HTTP request sent, awaiting response... 200 OK\n",
      "Length: unspecified [text/csv]\n",
      "Saving to: ‘212411-16-madrid-avisa.csv’\n",
      "\n",
      "212411-16-madrid-av     [                 <=>] 109.34M  33.5MB/s    in 3.4s    \n",
      "\n",
      "2022-10-29 11:53:29 (32.6 MB/s) - ‘212411-16-madrid-avisa.csv’ saved [114650341]\n",
      "\n"
     ]
    }
   ],
   "source": [
    "!wget -O 212411-16-madrid-avisa.csv \"http://datos.madrid.es/egob/catalogo/212411-16-madrid-avisa.csv\""
   ]
  },
  {
   "cell_type": "code",
   "execution_count": 23,
   "id": "faef2335-54e1-4c4f-bb54-cc4b16f59015",
   "metadata": {},
   "outputs": [
    {
     "name": "stdout",
     "output_type": "stream",
     "text": [
      "TIPO_INCIDENCIA_ID;TIPO_INCIDENCIA;CANAL_DE_ENTRADA_ID;CANAL_DE_ENTRADA;FECHA_DE_RECEPCION;HORA_DE_RECEPCION;SECCION_ID;SECCION;ANOMALIA_ID;ANOMALIA;TIPO_DE_VIAL_ID;TIPO_DE_VIAL;NOMBRE_DE_VIAL;NUMERO;CALIFICADOR;DISTRITO_ID;DISTRITO;BARRIO_ID;BARRIO;CODIGO_POSTAL;COORDENADA_OFICIAL_X;COORDENADA_OFICIAL_Y;COORDENADA_REAL_X;COORDENADA_REAL_Y\n",
      "0;AVISO;1;SYR;18/05/2017;11:58:25;33;L ESPACIOS PUBLICOS/MOBILIARIO/PINTADAS A;3439;LIMPIEZA EXCREMENTOS CANINOS;291;CALLE;HURACAN;18;--;21;BARAJAS;2104;TIMON;28042;44976679;448049476;-1;-1\n",
      "0;AVISO;;PRESENCIAL/TELEFONICOES;18/05/2017;11:59:35;34;L MUEBLES/LINEA BLANCA/ESPACIO PUBLICO E;3324;RECOGIDA MUEBLES Y ENSERES A PETICION DEL CIUDADANO;291;CALLE;ALBERTO AGUILERA;15;A;01;CENTRO;0105;UNIVERSIDAD;28015;43991270;447591429;-1;-1\n",
      "0;AVISO;;PRESENCIAL/TELEFONICOES;18/05/2017;12:07:07;41;R CUBO/CONT (ORGANICO/ENVASES) REPAR_AVERIADO/ROTO E;3358;AVERIADO CUBO NARANJA ORG 2 RUEDAS 240 L;291;CALLE;PRINCIPE;19;--;01;CENTRO;0103;CORTES;28012;44070241;447429078;-1;-1\n",
      "1;Peticion;1;SYR;18/05/2017;12:11:21;50;MOBILIARIO URBANO;3543;INSTALACION MOBILIARIO VARIO;291;CALLE;ISLA DE OZA;1;--;09;MONCLOA-ARAVACA;0903;CIUDAD UNIVERSITARIA;28035;43803172;447991519;-1;-1\n",
      "0;AVISO;;PRESENCIAL/TELEFONICOES;18/05/2017;12:26:28;5;ARBOLADO VIARIO;2657;PODA DE ARBOL;291;CALLE;VALLEHERMOSO;79;--;07;CHAMBERI;0702;ARAPILES;28015;44002504;447687393;-1;-1\n",
      "0;AVISO;;PRESENCIAL/TELEFONICOES;18/05/2017;12:28:52;41;R CUBO/CONT (ORGANICO/ENVASES) REPAR_AVERIADO/ROTO E;3358;AVERIADO CUBO NARANJA ORG 2 RUEDAS 240 L;291;CALLE;ESPIRITU SANTO;7;--;01;CENTRO;0105;UNIVERSIDAD;28004;44050177;447538238;-1;-1\n",
      "0;AVISO;;PRESENCIAL/TELEFONICOES;18/05/2017;12:30:23;34;L MUEBLES/LINEA BLANCA/ESPACIO PUBLICO E;3325;RECOGIDA ELEMENTOS ABANDONADOS EN ESPACIO PUBLICO;291;CALLE;SAN MARIANO;36;--;20;SAN BLAS;2007;CANILLEJAS;28022;44813827;447732978;-1;-1\n",
      "0;AVISO;;PRESENCIAL/TELEFONICOES;18/05/2017;12:34:22;22;PAVIMENTOS;1837;FALTA CAPA DE RODADURA ACERA;291;CALLE;LOPEZ PUIGCERVER;14;--;09;MONCLOA-ARAVACA;0903;CIUDAD UNIVERSITARIA;28035;43855424;447948743;-1;-1\n",
      "0;AVISO;;PRESENCIAL/TELEFONICOES;18/05/2017;12:35:44;34;L MUEBLES/LINEA BLANCA/ESPACIO PUBLICO E;3324;RECOGIDA MUEBLES Y ENSERES A PETICION DEL CIUDADANO;291;CALLE;GENERAL PRIM;21;--;09;MONCLOA-ARAVACA;0903;CIUDAD UNIVERSITARIA;28035;43878897;447967032;-1;-1\n"
     ]
    }
   ],
   "source": [
    "!head 212411-16-madrid-avisa.csv"
   ]
  },
  {
   "cell_type": "code",
   "execution_count": 24,
   "id": "78cd6d4b-196e-4614-9c51-164d952353c5",
   "metadata": {},
   "outputs": [
    {
     "name": "stdout",
     "output_type": "stream",
     "text": [
      "<class 'pandas.core.frame.DataFrame'>\n",
      "RangeIndex: 517342 entries, 0 to 517341\n",
      "Data columns (total 24 columns):\n",
      " #   Column                Non-Null Count   Dtype  \n",
      "---  ------                --------------   -----  \n",
      " 0   TIPO_INCIDENCIA_ID    517342 non-null  int64  \n",
      " 1   TIPO_INCIDENCIA       517342 non-null  object \n",
      " 2   CANAL_DE_ENTRADA_ID   84632 non-null   float64\n",
      " 3   CANAL_DE_ENTRADA      517342 non-null  object \n",
      " 4   FECHA_DE_RECEPCION    517342 non-null  object \n",
      " 5   HORA_DE_RECEPCION     517342 non-null  object \n",
      " 6   SECCION_ID            517342 non-null  int64  \n",
      " 7   SECCION               517342 non-null  object \n",
      " 8   ANOMALIA_ID           517342 non-null  int64  \n",
      " 9   ANOMALIA              517342 non-null  object \n",
      " 10  TIPO_DE_VIAL_ID       517342 non-null  int64  \n",
      " 11  TIPO_DE_VIAL          517342 non-null  object \n",
      " 12  NOMBRE_DE_VIAL        517342 non-null  object \n",
      " 13  NUMERO                517342 non-null  int64  \n",
      " 14  CALIFICADOR           517342 non-null  object \n",
      " 15  DISTRITO_ID           517342 non-null  int64  \n",
      " 16  DISTRITO              517342 non-null  object \n",
      " 17  BARRIO_ID             517342 non-null  int64  \n",
      " 18  BARRIO                517342 non-null  object \n",
      " 19  CODIGO_POSTAL         517342 non-null  int64  \n",
      " 20  COORDENADA_OFICIAL_X  517342 non-null  int64  \n",
      " 21  COORDENADA_OFICIAL_Y  517342 non-null  int64  \n",
      " 22  COORDENADA_REAL_X     517342 non-null  int64  \n",
      " 23  COORDENADA_REAL_Y     517342 non-null  int64  \n",
      "dtypes: float64(1), int64(12), object(11)\n",
      "memory usage: 94.7+ MB\n"
     ]
    }
   ],
   "source": [
    "df.info()"
   ]
  },
  {
   "cell_type": "code",
   "execution_count": 25,
   "id": "b28ee127-750d-4c64-b42c-b5b564010c60",
   "metadata": {},
   "outputs": [],
   "source": [
    "import duckdb\n",
    "df_duck = duckdb.query(\n",
    "    \"\"\"\n",
    "    SELECT TIPO_INCIDENCIA_ID,\n",
    "           CANAL_DE_ENTRADA\n",
    "    FROM df\n",
    "    WHERE CODIGO_POSTAL = '28003'\n",
    "    \"\"\").to_df()"
   ]
  },
  {
   "cell_type": "code",
   "execution_count": null,
   "id": "0e67f704-0551-4753-93ca-f452c614d836",
   "metadata": {},
   "outputs": [
    {
     "name": "stdout",
     "output_type": "stream",
     "text": [
      "<class 'pandas.core.frame.DataFrame'>\n",
      "RangeIndex: 9626 entries, 0 to 9625\n",
      "Data columns (total 2 columns):\n",
      " #   Column              Non-Null Count  Dtype \n",
      "---  ------              --------------  ----- \n",
      " 0   TIPO_INCIDENCIA_ID  9626 non-null   int64 \n",
      " 1   CANAL_DE_ENTRADA    9626 non-null   object\n",
      "dtypes: int64(1), object(1)\n",
      "memory usage: 150.5+ KB\n"
     ]
    }
   ],
   "source": [
    "df_duck.info()"
   ]
  },
  {
   "cell_type": "code",
   "execution_count": 32,
   "id": "bbe6a84f-3696-425d-a8cd-42040998f0d4",
   "metadata": {},
   "outputs": [
    {
     "data": {
      "text/plain": [
       "---------------------\n",
       "--- Relation Tree ---\n",
       "---------------------\n",
       "Subquery\n",
       "\n",
       "---------------------\n",
       "-- Result Columns  --\n",
       "---------------------\n",
       "- TIPO_INCIDENCIA_ID (BIGINT)\n",
       "- TIPO_INCIDENCIA (VARCHAR)\n",
       "- CANAL_DE_ENTRADA_ID (DOUBLE)\n",
       "- CANAL_DE_ENTRADA (VARCHAR)\n",
       "- FECHA_DE_RECEPCION (VARCHAR)\n",
       "- HORA_DE_RECEPCION (VARCHAR)\n",
       "- SECCION_ID (BIGINT)\n",
       "- SECCION (VARCHAR)\n",
       "- ANOMALIA_ID (BIGINT)\n",
       "- ANOMALIA (VARCHAR)\n",
       "- TIPO_DE_VIAL_ID (BIGINT)\n",
       "- TIPO_DE_VIAL (VARCHAR)\n",
       "- NOMBRE_DE_VIAL (VARCHAR)\n",
       "- NUMERO (BIGINT)\n",
       "- CALIFICADOR (VARCHAR)\n",
       "- DISTRITO_ID (BIGINT)\n",
       "- DISTRITO (VARCHAR)\n",
       "- BARRIO_ID (BIGINT)\n",
       "- BARRIO (VARCHAR)\n",
       "- CODIGO_POSTAL (BIGINT)\n",
       "- COORDENADA_OFICIAL_X (BIGINT)\n",
       "- COORDENADA_OFICIAL_Y (BIGINT)\n",
       "- COORDENADA_REAL_X (BIGINT)\n",
       "- COORDENADA_REAL_Y (BIGINT)\n",
       "\n",
       "---------------------\n",
       "-- Result Preview  --\n",
       "---------------------\n",
       "TIPO_INCIDENCIA_ID\tTIPO_INCIDENCIA\tCANAL_DE_ENTRADA_ID\tCANAL_DE_ENTRADA\tFECHA_DE_RECEPCION\tHORA_DE_RECEPCION\tSECCION_ID\tSECCION\tANOMALIA_ID\tANOMALIA\tTIPO_DE_VIAL_ID\tTIPO_DE_VIAL\tNOMBRE_DE_VIAL\tNUMERO\tCALIFICADOR\tDISTRITO_ID\tDISTRITO\tBARRIO_ID\tBARRIO\tCODIGO_POSTAL\tCOORDENADA_OFICIAL_X\tCOORDENADA_OFICIAL_Y\tCOORDENADA_REAL_X\tCOORDENADA_REAL_Y\t\n",
       "BIGINT\tVARCHAR\tDOUBLE\tVARCHAR\tVARCHAR\tVARCHAR\tBIGINT\tVARCHAR\tBIGINT\tVARCHAR\tBIGINT\tVARCHAR\tVARCHAR\tBIGINT\tVARCHAR\tBIGINT\tVARCHAR\tBIGINT\tVARCHAR\tBIGINT\tBIGINT\tBIGINT\tBIGINT\tBIGINT\t\n",
       "[ Rows: 10]\n",
       "0\tAVISO\t1.0\tSYR\t18/05/2017\t11:58:25\t33\tL ESPACIOS PUBLICOS/MOBILIARIO/PINTADAS A\t3439\tLIMPIEZA EXCREMENTOS CANINOS\t291\tCALLE\tHURACAN\t18\t--\t21\tBARAJAS\t2104\tTIMON\t28042\t44976679\t448049476\t-1\t-1\n",
       "0\tAVISO\tNULL\tPRESENCIAL/TELEFONICOES\t18/05/2017\t11:59:35\t34\tL MUEBLES/LINEA BLANCA/ESPACIO PUBLICO E\t3324\tRECOGIDA MUEBLES Y ENSERES A PETICION DEL CIUDADANO\t291\tCALLE\tALBERTO AGUILERA\t15\tA\t1\tCENTRO\t105\tUNIVERSIDAD\t28015\t43991270\t447591429\t-1\t-1\n",
       "0\tAVISO\tNULL\tPRESENCIAL/TELEFONICOES\t18/05/2017\t12:07:07\t41\tR CUBO/CONT (ORGANICO/ENVASES) REPAR_AVERIADO/ROTO E\t3358\tAVERIADO CUBO NARANJA ORG 2 RUEDAS 240 L\t291\tCALLE\tPRINCIPE\t19\t--\t1\tCENTRO\t103\tCORTES\t28012\t44070241\t447429078\t-1\t-1\n",
       "1\tPeticion\t1.0\tSYR\t18/05/2017\t12:11:21\t50\tMOBILIARIO URBANO\t3543\tINSTALACION MOBILIARIO VARIO\t291\tCALLE\tISLA DE OZA\t1\t--\t9\tMONCLOA-ARAVACA\t903\tCIUDAD UNIVERSITARIA\t28035\t43803172\t447991519\t-1\t-1\n",
       "0\tAVISO\tNULL\tPRESENCIAL/TELEFONICOES\t18/05/2017\t12:26:28\t5\tARBOLADO VIARIO\t2657\tPODA DE ARBOL\t291\tCALLE\tVALLEHERMOSO\t79\t--\t7\tCHAMBERI\t702\tARAPILES\t28015\t44002504\t447687393\t-1\t-1\n",
       "0\tAVISO\tNULL\tPRESENCIAL/TELEFONICOES\t18/05/2017\t12:28:52\t41\tR CUBO/CONT (ORGANICO/ENVASES) REPAR_AVERIADO/ROTO E\t3358\tAVERIADO CUBO NARANJA ORG 2 RUEDAS 240 L\t291\tCALLE\tESPIRITU SANTO\t7\t--\t1\tCENTRO\t105\tUNIVERSIDAD\t28004\t44050177\t447538238\t-1\t-1\n",
       "0\tAVISO\tNULL\tPRESENCIAL/TELEFONICOES\t18/05/2017\t12:30:23\t34\tL MUEBLES/LINEA BLANCA/ESPACIO PUBLICO E\t3325\tRECOGIDA ELEMENTOS ABANDONADOS EN ESPACIO PUBLICO\t291\tCALLE\tSAN MARIANO\t36\t--\t20\tSAN BLAS\t2007\tCANILLEJAS\t28022\t44813827\t447732978\t-1\t-1\n",
       "0\tAVISO\tNULL\tPRESENCIAL/TELEFONICOES\t18/05/2017\t12:34:22\t22\tPAVIMENTOS\t1837\tFALTA CAPA DE RODADURA ACERA\t291\tCALLE\tLOPEZ PUIGCERVER\t14\t--\t9\tMONCLOA-ARAVACA\t903\tCIUDAD UNIVERSITARIA\t28035\t43855424\t447948743\t-1\t-1\n",
       "0\tAVISO\tNULL\tPRESENCIAL/TELEFONICOES\t18/05/2017\t12:35:44\t34\tL MUEBLES/LINEA BLANCA/ESPACIO PUBLICO E\t3324\tRECOGIDA MUEBLES Y ENSERES A PETICION DEL CIUDADANO\t291\tCALLE\tGENERAL PRIM\t21\t--\t9\tMONCLOA-ARAVACA\t903\tCIUDAD UNIVERSITARIA\t28035\t43878897\t447967032\t-1\t-1\n",
       "0\tAVISO\tNULL\tPRESENCIAL/TELEFONICOES\t18/05/2017\t12:36:47\t5\tARBOLADO VIARIO\t2655\tENDEREZAR ARBOL INCLINADO\t291\tCALLE\tVALLEHERMOSO\t38\t--\t7\tCHAMBERI\t702\tARAPILES\t28015\t44001597\t447642839\t-1\t-1\n",
       "\n"
      ]
     },
     "execution_count": 32,
     "metadata": {},
     "output_type": "execute_result"
    }
   ],
   "source": [
    "# Registering Dataframe to connection\n",
    "conn.register(\"dframe\", df)\n",
    "\n",
    "# Querying Dataframe\n",
    "conn.query(\"SELECT * from dframe\")"
   ]
  },
  {
   "cell_type": "code",
   "execution_count": 27,
   "id": "80884010-e2d7-4df3-bb61-6e0cc36524af",
   "metadata": {},
   "outputs": [
    {
     "data": {
      "text/plain": [
       "---------------------\n",
       "--- Relation Tree ---\n",
       "---------------------\n",
       "Subquery\n",
       "\n",
       "---------------------\n",
       "-- Result Columns  --\n",
       "---------------------\n",
       "- id (INTEGER)\n",
       "- name (VARCHAR)\n",
       "- age (INTEGER)\n",
       "\n",
       "---------------------\n",
       "-- Result Preview  --\n",
       "---------------------\n",
       "id\tname\tage\t\n",
       "INTEGER\tVARCHAR\tINTEGER\t\n",
       "[ Rows: 2]\n",
       "1\tReed\t45\n",
       "2\tDonald\t23\n",
       "\n"
      ]
     },
     "execution_count": 27,
     "metadata": {},
     "output_type": "execute_result"
    }
   ],
   "source": [
    "import duckdb as ddb\n",
    "\n",
    "# Connecting to in-memory temporary database\n",
    "conn = ddb.connect()\n",
    "\n",
    "# Create table person \n",
    "conn.query(\"CREATE TABLE person (id INTEGER, name VARCHAR, age INTEGER)\")\n",
    "\n",
    "# Insert into database\n",
    "conn.query(\"INSERT INTO person (id, name, age) VALUES (1, 'Reed', 45), (2, 'Donald', 23)\")\n",
    "\n",
    "# Select data from database\n",
    "conn.query(\"SELECT * from person\")\n",
    "\n",
    "# Disconnect "
   ]
  },
  {
   "cell_type": "code",
   "execution_count": 29,
   "id": "1c3452b3-1e74-465c-ae24-4d9e7f4da34b",
   "metadata": {},
   "outputs": [],
   "source": [
    "# Reading a CSV file without additional options\n",
    "csv_data = conn.query(\"SELECT * from '212411-16-madrid-avisa.csv'\")"
   ]
  },
  {
   "cell_type": "code",
   "execution_count": 30,
   "id": "6dec3cd1-ca0d-4177-bacf-5c09dc80e746",
   "metadata": {},
   "outputs": [
    {
     "data": {
      "text/plain": [
       "---------------------\n",
       "--- Relation Tree ---\n",
       "---------------------\n",
       "Subquery\n",
       "\n",
       "---------------------\n",
       "-- Result Columns  --\n",
       "---------------------\n",
       "- TIPO_INCIDENCIA_ID (INTEGER)\n",
       "- TIPO_INCIDENCIA (VARCHAR)\n",
       "- CANAL_DE_ENTRADA_ID (INTEGER)\n",
       "- CANAL_DE_ENTRADA (VARCHAR)\n",
       "- FECHA_DE_RECEPCION (DATE)\n",
       "- HORA_DE_RECEPCION (TIME)\n",
       "- SECCION_ID (INTEGER)\n",
       "- SECCION (VARCHAR)\n",
       "- ANOMALIA_ID (INTEGER)\n",
       "- ANOMALIA (VARCHAR)\n",
       "- TIPO_DE_VIAL_ID (INTEGER)\n",
       "- TIPO_DE_VIAL (VARCHAR)\n",
       "- NOMBRE_DE_VIAL (VARCHAR)\n",
       "- NUMERO (INTEGER)\n",
       "- CALIFICADOR (VARCHAR)\n",
       "- DISTRITO_ID (INTEGER)\n",
       "- DISTRITO (VARCHAR)\n",
       "- BARRIO_ID (INTEGER)\n",
       "- BARRIO (VARCHAR)\n",
       "- CODIGO_POSTAL (INTEGER)\n",
       "- COORDENADA_OFICIAL_X (INTEGER)\n",
       "- COORDENADA_OFICIAL_Y (INTEGER)\n",
       "- COORDENADA_REAL_X (INTEGER)\n",
       "- COORDENADA_REAL_Y (INTEGER)\n",
       "\n",
       "---------------------\n",
       "-- Result Preview  --\n",
       "---------------------\n",
       "Invalid Input Error: Error in file \"212411-16-madrid-avisa.csv\" between line 9217 and 10241 in column \"\"SECCION\"\": file is not valid UTF8. Parser options: DELIMITER=';' (auto detected), QUOTE='\"' (auto detected), ESCAPE='' (auto detected), HEADER=1 (auto detected), SAMPLE_SIZE=10240, IGNORE_ERRORS=0, ALL_VARCHAR=0\n"
      ]
     },
     "execution_count": 30,
     "metadata": {},
     "output_type": "execute_result"
    }
   ],
   "source": [
    "csv_data"
   ]
  },
  {
   "cell_type": "code",
   "execution_count": 33,
   "id": "c24a9309-8bca-4ab9-8d71-561abba3646c",
   "metadata": {},
   "outputs": [],
   "source": [
    "data = ddb.from_csv_auto('212411-16-madrid-avisa.csv')"
   ]
  },
  {
   "cell_type": "code",
   "execution_count": 34,
   "id": "16f40a9c-6e00-41dd-ab52-8c699876a58d",
   "metadata": {},
   "outputs": [
    {
     "data": {
      "text/plain": [
       "---------------------\n",
       "--- Relation Tree ---\n",
       "---------------------\n",
       "read_csv_auto(212411-16-madrid-avisa.csv)\n",
       "\n",
       "---------------------\n",
       "-- Result Columns  --\n",
       "---------------------\n",
       "- TIPO_INCIDENCIA_ID (INTEGER)\n",
       "- TIPO_INCIDENCIA (VARCHAR)\n",
       "- CANAL_DE_ENTRADA_ID (INTEGER)\n",
       "- CANAL_DE_ENTRADA (VARCHAR)\n",
       "- FECHA_DE_RECEPCION (DATE)\n",
       "- HORA_DE_RECEPCION (TIME)\n",
       "- SECCION_ID (INTEGER)\n",
       "- SECCION (VARCHAR)\n",
       "- ANOMALIA_ID (INTEGER)\n",
       "- ANOMALIA (VARCHAR)\n",
       "- TIPO_DE_VIAL_ID (INTEGER)\n",
       "- TIPO_DE_VIAL (VARCHAR)\n",
       "- NOMBRE_DE_VIAL (VARCHAR)\n",
       "- NUMERO (INTEGER)\n",
       "- CALIFICADOR (VARCHAR)\n",
       "- DISTRITO_ID (INTEGER)\n",
       "- DISTRITO (VARCHAR)\n",
       "- BARRIO_ID (INTEGER)\n",
       "- BARRIO (VARCHAR)\n",
       "- CODIGO_POSTAL (INTEGER)\n",
       "- COORDENADA_OFICIAL_X (INTEGER)\n",
       "- COORDENADA_OFICIAL_Y (INTEGER)\n",
       "- COORDENADA_REAL_X (INTEGER)\n",
       "- COORDENADA_REAL_Y (INTEGER)\n",
       "\n",
       "---------------------\n",
       "-- Result Preview  --\n",
       "---------------------\n",
       "Invalid Input Error: Error in file \"212411-16-madrid-avisa.csv\" between line 9217 and 10241 in column \"\"SECCION\"\": file is not valid UTF8. Parser options: DELIMITER=';' (auto detected), QUOTE='\"' (auto detected), ESCAPE='' (auto detected), HEADER=1 (auto detected), SAMPLE_SIZE=10240, IGNORE_ERRORS=0, ALL_VARCHAR=0\n"
      ]
     },
     "execution_count": 34,
     "metadata": {},
     "output_type": "execute_result"
    }
   ],
   "source": [
    "data"
   ]
  },
  {
   "cell_type": "code",
   "execution_count": 36,
   "id": "0062d3f5-c910-4fae-9af3-3dd363c4ee89",
   "metadata": {},
   "outputs": [
    {
     "data": {
      "text/plain": [
       "[(1, 2, 3)]"
      ]
     },
     "execution_count": 36,
     "metadata": {},
     "output_type": "execute_result"
    }
   ],
   "source": [
    "conn.execute('select 1, 2, 3').fetchall()"
   ]
  },
  {
   "cell_type": "code",
   "execution_count": 37,
   "id": "d98efb4f-ee16-4715-b7f6-17fd48fde23f",
   "metadata": {},
   "outputs": [
    {
     "name": "stdout",
     "output_type": "stream",
     "text": [
      "Collecting duckdb-engine\n",
      "  Downloading duckdb_engine-0.6.4-py3-none-any.whl (14 kB)\n",
      "Requirement already satisfied: sqlalchemy<2.0.0,>=1.3.19 in /home/learner/venv/lib/python3.8/site-packages (from duckdb-engine) (1.4.37)\n",
      "Requirement already satisfied: duckdb>=0.4.0 in /home/learner/venv/lib/python3.8/site-packages (from duckdb-engine) (0.5.1)\n",
      "Requirement already satisfied: numpy in /home/learner/venv/lib/python3.8/site-packages (from duckdb-engine) (1.23.4)\n",
      "Requirement already satisfied: greenlet!=0.4.17 in /home/learner/venv/lib/python3.8/site-packages (from sqlalchemy<2.0.0,>=1.3.19->duckdb-engine) (1.1.3.post0)\n",
      "Installing collected packages: duckdb-engine\n",
      "Successfully installed duckdb-engine-0.6.4\n"
     ]
    }
   ],
   "source": [
    "!pip install duckdb-engine"
   ]
  },
  {
   "cell_type": "code",
   "execution_count": 38,
   "id": "f04b00dd-f385-41e3-b867-ec0db1353d3d",
   "metadata": {},
   "outputs": [],
   "source": [
    "import pandas as pd\n",
    "import sqlalchemy\n",
    "\n",
    "%load_ext sql"
   ]
  },
  {
   "cell_type": "code",
   "execution_count": null,
   "id": "82486ea0-38d7-4363-87d7-de5c6563381d",
   "metadata": {},
   "outputs": [],
   "source": [
    "%config SqlMagic.autopandas = True\n",
    "%config SqlMagic.feedback = False\n",
    "%config SqlMagic.displaycon = False"
   ]
  },
  {
   "cell_type": "code",
   "execution_count": null,
   "id": "7072a24c-7184-4cba-9a8e-b1b78d01b032",
   "metadata": {},
   "outputs": [],
   "source": []
  }
 ],
 "metadata": {
  "kernelspec": {
   "display_name": "Python 3 (ipykernel)",
   "language": "python",
   "name": "python3"
  },
  "language_info": {
   "codemirror_mode": {
    "name": "ipython",
    "version": 3
   },
   "file_extension": ".py",
   "mimetype": "text/x-python",
   "name": "python",
   "nbconvert_exporter": "python",
   "pygments_lexer": "ipython3",
   "version": "3.8.10"
  }
 },
 "nbformat": 4,
 "nbformat_minor": 5
}
