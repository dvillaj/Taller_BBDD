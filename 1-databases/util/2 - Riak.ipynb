{
 "cells": [
  {
   "cell_type": "markdown",
   "metadata": {
    "tags": []
   },
   "source": [
    "# Setup"
   ]
  },
  {
   "cell_type": "code",
   "execution_count": 1,
   "metadata": {},
   "outputs": [],
   "source": [
    "%alias riak docker-compose -f /opt/compose/compose-riak/docker-compose.yml\n",
    "%alias riak-admin docker exec -it compose-riak_coordinator_1 riak-admin"
   ]
  },
  {
   "cell_type": "code",
   "execution_count": 2,
   "metadata": {},
   "outputs": [
    {
     "name": "stdout",
     "output_type": "stream",
     "text": [
      "CONTAINER ID   IMAGE     COMMAND   CREATED   STATUS    PORTS     NAMES\n"
     ]
    }
   ],
   "source": [
    "!docker ps"
   ]
  },
  {
   "cell_type": "markdown",
   "metadata": {
    "tags": []
   },
   "source": [
    "# Bucket Types"
   ]
  },
  {
   "cell_type": "markdown",
   "metadata": {},
   "source": [
    "* Sets"
   ]
  },
  {
   "cell_type": "code",
   "execution_count": 6,
   "metadata": {},
   "outputs": [
    {
     "name": "stdout",
     "output_type": "stream",
     "text": [
      "Error creating bucket type sets:\n",
      "already_active\n",
      "sets has been activated\n"
     ]
    }
   ],
   "source": [
    "%riak-admin bucket-type create sets '{\"props\":{\"datatype\":\"set\"}}'\n",
    "%riak-admin bucket-type activate sets"
   ]
  },
  {
   "cell_type": "markdown",
   "metadata": {},
   "source": [
    "# Containers"
   ]
  },
  {
   "cell_type": "code",
   "execution_count": 8,
   "metadata": {},
   "outputs": [
    {
     "name": "stdout",
     "output_type": "stream",
     "text": [
      "         Name                   Command           State           Ports         \n",
      "--------------------------------------------------------------------------------\n",
      "compose-                 /usr/lib/riak/riak-      Up      0.0.0.0:8087->8087/tcp\n",
      "riak_coordinator_1       cluster.sh                       ,:::8087->8087/tcp, 0.\n",
      "                                                          0.0.0:8098->8098/tcp,:\n",
      "                                                          ::8098->8098/tcp      \n"
     ]
    }
   ],
   "source": [
    "riak ps"
   ]
  },
  {
   "cell_type": "markdown",
   "metadata": {},
   "source": [
    "# Logs"
   ]
  },
  {
   "cell_type": "code",
   "execution_count": 9,
   "metadata": {},
   "outputs": [
    {
     "name": "stdout",
     "output_type": "stream",
     "text": [
      "\u001b[36mcoordinator_1  |\u001b[0m 2022-06-06 07:56:57.610 [info] <0.573.0>@riak_core:wait_for_service:504 Waiting for service riak_kv to start (0 seconds)\n",
      "\u001b[36mcoordinator_1  |\u001b[0m 2022-06-06 07:57:07.050 [info] <0.360.0>@riak_core:wait_for_service:498 Wait complete for service riak_kv (9 seconds)\n",
      "\u001b[36mcoordinator_1  |\u001b[0m 2022-06-06 07:57:07.050 [info] <0.573.0>@riak_core:wait_for_service:498 Wait complete for service riak_kv (9 seconds)\n",
      "\u001b[36mcoordinator_1  |\u001b[0m 2022-06-06 07:57:07.068 [info] <0.7.0> Application yokozuna started on node 'riak@172.18.0.2'\n",
      "\u001b[36mcoordinator_1  |\u001b[0m 2022-06-06 07:57:07.074 [info] <0.7.0> Application cluster_info started on node 'riak@172.18.0.2'\n",
      "\u001b[36mcoordinator_1  |\u001b[0m 2022-06-06 07:57:07.099 [info] <0.196.0>@riak_core_capability:process_capability_changes:555 New capability: {riak_control,member_info_version} = v1\n",
      "\u001b[36mcoordinator_1  |\u001b[0m 2022-06-06 07:57:07.101 [info] <0.7.0> Application riak_control started on node 'riak@172.18.0.2'\n",
      "\u001b[36mcoordinator_1  |\u001b[0m 2022-06-06 07:57:07.101 [info] <0.7.0> Application erlydtl started on node 'riak@172.18.0.2'\n",
      "\u001b[36mcoordinator_1  |\u001b[0m 2022-06-06 07:57:07.108 [info] <0.7.0> Application riak_auth_mods started on node 'riak@172.18.0.2'\n",
      "\u001b[36mcoordinator_1  |\u001b[0m 2022-06-06 07:57:12.424 [info] <0.353.0>@riak_core_throttle:maybe_log_throttle_change:372 Changing throttle for riak_kv/aae_throttle from undefined to 0 based on load factor 1\n"
     ]
    }
   ],
   "source": [
    "riak logs | tail"
   ]
  },
  {
   "cell_type": "markdown",
   "metadata": {
    "tags": []
   },
   "source": [
    "# Scale the Cluster (4 members)"
   ]
  },
  {
   "cell_type": "markdown",
   "metadata": {},
   "source": [
    "This step scales the cluster (Not mandatory)"
   ]
  },
  {
   "cell_type": "raw",
   "metadata": {},
   "source": [
    "riak up -d --scale member=4"
   ]
  },
  {
   "cell_type": "raw",
   "metadata": {},
   "source": [
    "!sleep 10"
   ]
  },
  {
   "cell_type": "markdown",
   "metadata": {
    "tags": []
   },
   "source": [
    "# Admin Riak"
   ]
  },
  {
   "cell_type": "markdown",
   "metadata": {},
   "source": [
    "http://localhost:8098/admin/"
   ]
  }
 ],
 "metadata": {
  "kernelspec": {
   "display_name": "Python 3 (ipykernel)",
   "language": "python",
   "name": "python3"
  },
  "language_info": {
   "codemirror_mode": {
    "name": "ipython",
    "version": 3
   },
   "file_extension": ".py",
   "mimetype": "text/x-python",
   "name": "python",
   "nbconvert_exporter": "python",
   "pygments_lexer": "ipython3",
   "version": "3.8.10"
  }
 },
 "nbformat": 4,
 "nbformat_minor": 4
}
