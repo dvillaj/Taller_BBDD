{
 "cells": [
  {
   "cell_type": "markdown",
   "metadata": {},
   "source": [
    "# Setup"
   ]
  },
  {
   "cell_type": "code",
   "execution_count": 1,
   "metadata": {},
   "outputs": [],
   "source": [
    "%alias postgres docker-compose -f /opt/compose/compose-postgres/docker-compose.yml"
   ]
  },
  {
   "cell_type": "markdown",
   "metadata": {},
   "source": [
    "# PgAdmin 4\n",
    "\n",
    "User: `pgadmin4@pgadmin.org`  \n",
    "Password: `admin`\n",
    "\n",
    "To connect with the postgres server create a new Server Connection using the following parameters:\n",
    "\n",
    "```\n",
    "General/Name: postgres\n",
    "Connection/Host: postgres\n",
    "Connection/Username: postgres\n",
    "Connection/Password: postgres\n",
    "```"
   ]
  },
  {
   "cell_type": "markdown",
   "metadata": {},
   "source": [
    "http://localhost:5050"
   ]
  },
  {
   "cell_type": "markdown",
   "metadata": {},
   "source": [
    "# Containers"
   ]
  },
  {
   "cell_type": "code",
   "execution_count": 5,
   "metadata": {},
   "outputs": [
    {
     "name": "stdout",
     "output_type": "stream",
     "text": [
      "       Name                  Command            State            Ports          \n",
      "--------------------------------------------------------------------------------\n",
      "pgadmin_container    /entrypoint.sh             Up      443/tcp, 0.0.0.0:5050->8\n",
      "                                                        0/tcp,:::5050->80/tcp   \n",
      "postgres_container   docker-entrypoint.sh       Up      0.0.0.0:5432->5432/tcp,:\n",
      "                     postgres                           ::5432->5432/tcp        \n"
     ]
    }
   ],
   "source": [
    "postgres ps"
   ]
  },
  {
   "cell_type": "markdown",
   "metadata": {},
   "source": [
    "# Logs"
   ]
  },
  {
   "cell_type": "code",
   "execution_count": 6,
   "metadata": {},
   "outputs": [
    {
     "name": "stdout",
     "output_type": "stream",
     "text": [
      "\u001b[33mpostgres_container |\u001b[0m server stopped\n",
      "\u001b[33mpostgres_container |\u001b[0m \n",
      "\u001b[33mpostgres_container |\u001b[0m PostgreSQL init process complete; ready for start up.\n",
      "\u001b[33mpostgres_container |\u001b[0m \n",
      "\u001b[33mpostgres_container |\u001b[0m 2020-12-31 07:23:54.779 UTC [1] LOG:  starting PostgreSQL 12.2 (Debian 12.2-2.pgdg100+1) on x86_64-pc-linux-gnu, compiled by gcc (Debian 8.3.0-6) 8.3.0, 64-bit\n",
      "\u001b[33mpostgres_container |\u001b[0m 2020-12-31 07:23:54.782 UTC [1] LOG:  listening on IPv4 address \"0.0.0.0\", port 5432\n",
      "\u001b[33mpostgres_container |\u001b[0m 2020-12-31 07:23:54.784 UTC [1] LOG:  listening on IPv6 address \"::\", port 5432\n",
      "\u001b[33mpostgres_container |\u001b[0m 2020-12-31 07:23:54.788 UTC [1] LOG:  listening on Unix socket \"/var/run/postgresql/.s.PGSQL.5432\"\n",
      "\u001b[33mpostgres_container |\u001b[0m 2020-12-31 07:23:54.818 UTC [56] LOG:  database system was shut down at 2020-12-31 07:23:54 UTC\n",
      "\u001b[33mpostgres_container |\u001b[0m 2020-12-31 07:23:54.828 UTC [1] LOG:  database system is ready to accept connections\n"
     ]
    }
   ],
   "source": [
    "postgres logs | tail"
   ]
  },
  {
   "cell_type": "code",
   "execution_count": null,
   "metadata": {},
   "outputs": [],
   "source": []
  }
 ],
 "metadata": {
  "kernelspec": {
   "display_name": "Python 3 (ipykernel)",
   "language": "python",
   "name": "python3"
  },
  "language_info": {
   "codemirror_mode": {
    "name": "ipython",
    "version": 3
   },
   "file_extension": ".py",
   "mimetype": "text/x-python",
   "name": "python",
   "nbconvert_exporter": "python",
   "pygments_lexer": "ipython3",
   "version": "3.8.10"
  }
 },
 "nbformat": 4,
 "nbformat_minor": 4
}
