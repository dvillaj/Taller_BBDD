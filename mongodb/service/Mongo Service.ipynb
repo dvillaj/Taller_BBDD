{
 "cells": [
  {
   "cell_type": "markdown",
   "metadata": {},
   "source": [
    "# Setup"
   ]
  },
  {
   "cell_type": "code",
   "execution_count": 1,
   "metadata": {},
   "outputs": [],
   "source": [
    "%alias mongo docker-compose -f /opt/compose/compose-mongodb/docker-compose.yml"
   ]
  },
  {
   "cell_type": "markdown",
   "metadata": {},
   "source": [
    "# Start Service"
   ]
  },
  {
   "cell_type": "code",
   "execution_count": 2,
   "metadata": {},
   "outputs": [
    {
     "name": "stdout",
     "output_type": "stream",
     "text": [
      "mongo_container is up-to-date\n",
      "Starting monuku_container ... \n",
      "\u001b[1Bting monuku_container ... \u001b[32mdone\u001b[0m"
     ]
    }
   ],
   "source": [
    "mongo up -d"
   ]
  },
  {
   "cell_type": "markdown",
   "metadata": {},
   "source": [
    "# Mongo Client"
   ]
  },
  {
   "cell_type": "markdown",
   "metadata": {},
   "source": [
    "http://localhost:3100/"
   ]
  },
  {
   "cell_type": "markdown",
   "metadata": {},
   "source": [
    "# Containers"
   ]
  },
  {
   "cell_type": "code",
   "execution_count": 3,
   "metadata": {},
   "outputs": [
    {
     "name": "stdout",
     "output_type": "stream",
     "text": [
      "      Name                  Command             State            Ports          \n",
      "--------------------------------------------------------------------------------\n",
      "mongo_container    docker-entrypoint.sh         Up      0.0.0.0:27017->27017/tcp\n",
      "                   mongod                                                       \n",
      "monuku_container   /app/docker-run.sh           Up      0.0.0.0:3100->3100/tcp  \n"
     ]
    }
   ],
   "source": [
    "mongo ps"
   ]
  },
  {
   "cell_type": "markdown",
   "metadata": {},
   "source": [
    "# Logs"
   ]
  },
  {
   "cell_type": "code",
   "execution_count": 4,
   "metadata": {},
   "outputs": [
    {
     "name": "stdout",
     "output_type": "stream",
     "text": [
      "\u001b[36mmongo_container |\u001b[0m 2020-12-17T04:28:48.948+0000 I  SHARDING [LogicalSessionCacheReap] Marking collection config.transactions as collection version: <unsharded>\n",
      "\u001b[36mmongo_container |\u001b[0m 2020-12-17T04:28:49.000+0000 I  SHARDING [ftdc] Marking collection local.oplog.rs as collection version: <unsharded>\n",
      "\u001b[36mmongo_container |\u001b[0m 2020-12-17T05:51:17.227+0000 I  NETWORK  [listener] connection accepted from 172.27.0.3:55388 #1 (1 connection now open)\n",
      "\u001b[36mmongo_container |\u001b[0m 2020-12-17T05:51:17.245+0000 I  NETWORK  [conn1] received client metadata from 172.27.0.3:55388 conn1: { driver: { name: \"nodejs\", version: \"3.2.2\" }, os: { type: \"Linux\", name: \"linux\", architecture: \"x64\", version: \"4.15.0-91-generic\" }, platform: \"Node.js v11.13.0, LE, mongodb-core: 3.2.2\" }\n",
      "\u001b[36mmongo_container |\u001b[0m 2020-12-17T05:51:17.258+0000 I  SHARDING [conn1] Marking collection accidentes.accidentes as collection version: <unsharded>\n",
      "\u001b[36mmongo_container |\u001b[0m 2020-12-17T05:51:17.267+0000 I  SHARDING [conn1] Marking collection black.movimientos as collection version: <unsharded>\n",
      "\u001b[36mmongo_container |\u001b[0m 2020-12-17T05:51:17.284+0000 I  SHARDING [conn1] Marking collection test_database.posts as collection version: <unsharded>\n",
      "\u001b[36mmongo_container |\u001b[0m 2020-12-17T05:51:17.290+0000 I  SHARDING [conn1] Marking collection twitter.hashtags as collection version: <unsharded>\n",
      "\u001b[36mmongo_container |\u001b[0m 2020-12-17T05:51:17.294+0000 I  SHARDING [conn1] Marking collection twitter.users as collection version: <unsharded>\n",
      "\u001b[36mmongo_container |\u001b[0m 2020-12-17T05:51:17.299+0000 I  SHARDING [conn1] Marking collection twitter.tweets as collection version: <unsharded>\n"
     ]
    }
   ],
   "source": [
    "mongo logs | tail"
   ]
  },
  {
   "cell_type": "markdown",
   "metadata": {},
   "source": [
    "# Stop Service"
   ]
  },
  {
   "cell_type": "code",
   "execution_count": 5,
   "metadata": {},
   "outputs": [
    {
     "name": "stdout",
     "output_type": "stream",
     "text": [
      "Stopping monuku_container ... \n",
      "Stopping mongo_container  ... \n",
      "\u001b[1Bping mongo_container  ... \u001b[32mdone\u001b[0m\u001b[1A\u001b[2KRemoving monuku_container ... \n",
      "Removing mongo_container  ... \n",
      "\u001b[1BRemoving network compose-mongodb_mongodb\n"
     ]
    }
   ],
   "source": [
    "mongo down"
   ]
  },
  {
   "cell_type": "code",
   "execution_count": null,
   "metadata": {},
   "outputs": [],
   "source": []
  }
 ],
 "metadata": {
  "kernelspec": {
   "display_name": "Python 3",
   "language": "python",
   "name": "python3"
  },
  "language_info": {
   "codemirror_mode": {
    "name": "ipython",
    "version": 3
   },
   "file_extension": ".py",
   "mimetype": "text/x-python",
   "name": "python",
   "nbconvert_exporter": "python",
   "pygments_lexer": "ipython3",
   "version": "3.6.9"
  }
 },
 "nbformat": 4,
 "nbformat_minor": 4
}
