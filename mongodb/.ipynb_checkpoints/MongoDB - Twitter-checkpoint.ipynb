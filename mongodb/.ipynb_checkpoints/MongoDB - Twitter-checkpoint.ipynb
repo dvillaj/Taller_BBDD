{
 "cells": [
  {
   "cell_type": "markdown",
   "metadata": {},
   "source": [
    "# Importando datos de Twiiter en MongoDB"
   ]
  },
  {
   "cell_type": "code",
   "execution_count": null,
   "metadata": {
    "collapsed": false
   },
   "outputs": [],
   "source": [
    "import pymongo \n",
    "from pymongo import MongoClient\n",
    "from pymongo.errors import DuplicateKeyError\n",
    "import json"
   ]
  },
  {
   "cell_type": "code",
   "execution_count": null,
   "metadata": {
    "collapsed": true
   },
   "outputs": [],
   "source": [
    "# connect to database\n",
    "connection = MongoClient('localhost', 27017)"
   ]
  },
  {
   "cell_type": "code",
   "execution_count": null,
   "metadata": {
    "collapsed": false
   },
   "outputs": [],
   "source": [
    "# Borramos la base de datos\n",
    "connection.drop_database('twitter')\n",
    "\n",
    "# Pymongo permite una sintaxis practicamente igual que la original\n",
    "db = connection.twitter"
   ]
  },
  {
   "cell_type": "code",
   "execution_count": null,
   "metadata": {
    "collapsed": false
   },
   "outputs": [],
   "source": [
    "def insert_tweet(tweet_json):\n",
    "   \n",
    "    # Simplificamos la estructura user_mentions a un array de nombres de usuario\n",
    "    user_mencioned_list = []\n",
    "    for user_mencioned in tweet_json['user_mentions']:\n",
    "        user_mencioned_list.append(user_mencioned[\"screen_name\"])\n",
    "        user_mencioned[\"_id\"] = user_mencioned[\"screen_name\"]\n",
    "        try:\n",
    "            db.users.insert_one(user_mencioned)\n",
    "        except DuplicateKeyError:\n",
    "            continue\n",
    "    tweet_json['user_mentions'] = user_mencioned_list\n",
    "                 \n",
    "    # Creamos un documento por hashtag utilizando el operador $inc para incrementar el contador\n",
    "    for entity in tweet_json['entities']:\n",
    "        db.hashtags.find_and_modify(query = {\"_id\" : entity}, \n",
    "                                    update ={ \"$inc\": { \"count\": 1 } } , \n",
    "                                    upsert = True)\n",
    "       \n",
    "    \n",
    "    #Utilizamos como _id de la colección el ID del Tweet\n",
    "    db.tweets.replace_one({\"_id\" : tweet_json[\"id_str\"]}, tweet_json, upsert=True)\n",
    "    \n",
    "    #Insertamos el documento dentro de la colección de usuarios, utilizando como _id el campo screen_name\n",
    "    user_json = tweet_json['user']\n",
    "    db.users.replace_one({\"_id\" : user_json[\"screen_name\"]}, user_json, upsert=True) \n",
    "\n",
    "    \n",
    "    #En el caso de que el Tweet tenga un Tweet padre (retweet) lo almenamos como documento independiente \n",
    "    if 'retweeted_status' in tweet_json:\n",
    "        insert_tweet(tweet_json['retweeted_status'])"
   ]
  },
  {
   "cell_type": "code",
   "execution_count": null,
   "metadata": {
    "collapsed": false
   },
   "outputs": [],
   "source": [
    "tweets_data_path = '../data/tweets.json'\n",
    "\n",
    "tweets_file = open(tweets_data_path, \"r\")\n",
    "for line in tweets_file:\n",
    "    tweet_json = json.loads(line)\n",
    "    insert_tweet(tweet_json)\n"
   ]
  },
  {
   "cell_type": "markdown",
   "metadata": {},
   "source": [
    "![png](./images/Mogodb%20Model.png)"
   ]
  },
  {
   "cell_type": "markdown",
   "metadata": {
    "collapsed": true
   },
   "source": [
    "## Contando el número de registros"
   ]
  },
  {
   "cell_type": "code",
   "execution_count": null,
   "metadata": {
    "collapsed": false
   },
   "outputs": [],
   "source": [
    "print \"Número de Tweets: \" , db.tweets.count()\n",
    "print \"Número de Usuarios: \" , db.users.count()\n",
    "print \"Número de Hashtags: \" , db.hashtags.count()"
   ]
  },
  {
   "cell_type": "markdown",
   "metadata": {},
   "source": [
    "## Encontrar un Tweet que tenga Hashtags"
   ]
  },
  {
   "cell_type": "code",
   "execution_count": null,
   "metadata": {
    "collapsed": false
   },
   "outputs": [],
   "source": [
    "db.tweets.find_one({\"entities.1\" : {\"$exists\" : True }})"
   ]
  },
  {
   "cell_type": "markdown",
   "metadata": {},
   "source": [
    "## Usuarios más populares"
   ]
  },
  {
   "cell_type": "code",
   "execution_count": null,
   "metadata": {
    "collapsed": false
   },
   "outputs": [],
   "source": [
    "cursor_users = db.users.find({\"followers_count\": {\"$exists\" : True }}).sort(\"followers_count\", pymongo.DESCENDING).limit(10)\n",
    "\n",
    "for user in cursor_users:\n",
    "    print user[\"screen_name\"], \"-\", user[\"followers_count\"]"
   ]
  },
  {
   "cell_type": "markdown",
   "metadata": {},
   "source": [
    "## Usuarios que más tweets tienen"
   ]
  },
  {
   "cell_type": "code",
   "execution_count": null,
   "metadata": {
    "collapsed": false
   },
   "outputs": [],
   "source": [
    "cursor = db.tweets.aggregate([\n",
    "        {\"$group\" : { \"_id\" : \"$user.screen_name\", \"count\" : { \"$sum\" : 1}}},\n",
    "        {\"$sort\" : {\"count\" : -1}},\n",
    "        {\"$limit\" : 10}\n",
    "    ])\n",
    "\n",
    "for row in cursor:\n",
    "    print row[\"_id\"],\"-\", row[\"count\"]"
   ]
  },
  {
   "cell_type": "markdown",
   "metadata": {},
   "source": [
    "## Hashtags más populares"
   ]
  },
  {
   "cell_type": "code",
   "execution_count": null,
   "metadata": {
    "collapsed": false
   },
   "outputs": [],
   "source": [
    "for hashtag in db.hashtags.find({}).sort(\"count\", pymongo.DESCENDING).limit(10):\n",
    "    print hashtag[\"_id\"], \"-\", hashtag[\"count\"]\n"
   ]
  },
  {
   "cell_type": "markdown",
   "metadata": {},
   "source": [
    "## Tweets de un determinado Hashtag"
   ]
  },
  {
   "cell_type": "code",
   "execution_count": null,
   "metadata": {
    "collapsed": false
   },
   "outputs": [],
   "source": [
    "for tweet in db.tweets.find({ \"entities\" : \"NoSQL\"}).limit(10):\n",
    "    print tweet[\"user\"][\"screen_name\"], \"-\", tweet[\"text\"]"
   ]
  },
  {
   "cell_type": "markdown",
   "metadata": {},
   "source": [
    "## Tweets de un determinado usuario"
   ]
  },
  {
   "cell_type": "code",
   "execution_count": null,
   "metadata": {
    "collapsed": false
   },
   "outputs": [],
   "source": [
    "for tweet in db.tweets.find({ \"user.screen_name\" : \"MAGISTR_OM\"}).limit(10):\n",
    "    print tweet[\"user\"][\"screen_name\"], \"-\", tweet[\"text\"]"
   ]
  },
  {
   "cell_type": "markdown",
   "metadata": {
    "collapsed": true
   },
   "source": [
    "## Usuarios mas mencionados"
   ]
  },
  {
   "cell_type": "code",
   "execution_count": null,
   "metadata": {
    "collapsed": false
   },
   "outputs": [],
   "source": [
    "cursor = db.tweets.aggregate([\n",
    "        {\"$unwind\" : \"$user_mentions\"},\n",
    "        {\"$group\" : { \"_id\" : \"$user_mentions\", \"count\" : { \"$sum\" : 1}}},\n",
    "        {\"$sort\" : {\"count\" : -1}},\n",
    "        {\"$limit\" : 10}\n",
    "    ])\n",
    "\n",
    "for row in cursor:\n",
    "    print row[\"_id\"],\"-\", row[\"count\"]"
   ]
  },
  {
   "cell_type": "markdown",
   "metadata": {},
   "source": [
    "## Tweets donde se menciona a un usuario"
   ]
  },
  {
   "cell_type": "code",
   "execution_count": null,
   "metadata": {
    "collapsed": false
   },
   "outputs": [],
   "source": [
    "for tweet in db.tweets.find({ \"user_mentions\" : \"couchbase\"}).limit(10):\n",
    "    print tweet[\"user\"][\"screen_name\"], \"-\", tweet[\"text\"]"
   ]
  },
  {
   "cell_type": "code",
   "execution_count": null,
   "metadata": {
    "collapsed": true
   },
   "outputs": [],
   "source": []
  }
 ],
 "metadata": {
  "kernelspec": {
   "display_name": "Python 2",
   "language": "python",
   "name": "python2"
  },
  "language_info": {
   "codemirror_mode": {
    "name": "ipython",
    "version": 2
   },
   "file_extension": ".py",
   "mimetype": "text/x-python",
   "name": "python",
   "nbconvert_exporter": "python",
   "pygments_lexer": "ipython2",
   "version": "2.7.6"
  }
 },
 "nbformat": 4,
 "nbformat_minor": 0
}
