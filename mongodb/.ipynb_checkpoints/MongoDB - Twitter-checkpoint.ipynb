{
 "cells": [
  {
   "cell_type": "code",
   "execution_count": 1,
   "metadata": {
    "collapsed": false
   },
   "outputs": [],
   "source": [
    "import pymongo \n",
    "from pymongo import MongoClient\n",
    "from pymongo.errors import DuplicateKeyError\n",
    "import json"
   ]
  },
  {
   "cell_type": "code",
   "execution_count": 2,
   "metadata": {
    "collapsed": true
   },
   "outputs": [],
   "source": [
    "# connect to database\n",
    "connection = MongoClient('localhost', 27017)"
   ]
  },
  {
   "cell_type": "code",
   "execution_count": 3,
   "metadata": {
    "collapsed": false
   },
   "outputs": [],
   "source": [
    "# Borramos la base de datos\n",
    "connection.drop_database('twitter')\n",
    "\n",
    "# Pymongo permite una sintaxis practicamente igual que la original\n",
    "db = connection.twitter"
   ]
  },
  {
   "cell_type": "code",
   "execution_count": 4,
   "metadata": {
    "collapsed": false
   },
   "outputs": [],
   "source": [
    "def insert_tweet(tweet_json):\n",
    "   \n",
    "    # Simplificamos la estructura user_mentions a un array de nombres de usuario\n",
    "    user_mencioned_list = []\n",
    "    for user_mencioned in tweet_json['user_mentions']:\n",
    "        user_mencioned_list.append(user_mencioned[\"screen_name\"])\n",
    "        user_mencioned[\"_id\"] = user_mencioned[\"screen_name\"]\n",
    "        try:\n",
    "            db.users.insert_one(user_mencioned)\n",
    "        except DuplicateKeyError:\n",
    "            continue\n",
    "    tweet_json['user_mentions'] = user_mencioned_list\n",
    "                 \n",
    "    # Creamos un documento por hashtag utilizando el operador $inc para incrementar el contador\n",
    "    for entity in tweet_json['entities']:\n",
    "        db.hashtags.find_and_modify(query = {\"_id\" : entity}, \n",
    "                                    update ={ \"$inc\": { \"count\": 1 } } , \n",
    "                                    upsert = True)\n",
    "       \n",
    "    \n",
    "    #Utilizamos como _id de la colección el ID del Tweet\n",
    "    db.tweets.replace_one({\"_id\" : tweet_json[\"id_str\"]}, tweet_json, upsert=True)\n",
    "    \n",
    "    #Insertamos el documento dentro de la colección de usuarios, utilizando como _id el campo screen_name\n",
    "    user_json = tweet_json['user']\n",
    "    db.users.replace_one({\"_id\" : user_json[\"screen_name\"]}, user_json, upsert=True) \n",
    "\n",
    "    \n",
    "    #En el caso de que el Tweet tenga un Tweet padre (retweet) lo almenamos como documento independiente \n",
    "    if 'retweeted_status' in tweet_json:\n",
    "        insert_tweet(tweet_json['retweeted_status'])"
   ]
  },
  {
   "cell_type": "code",
   "execution_count": 5,
   "metadata": {
    "collapsed": false
   },
   "outputs": [],
   "source": [
    "tweets_data_path = '../data/tweets.json'\n",
    "\n",
    "tweets_file = open(tweets_data_path, \"r\")\n",
    "for line in tweets_file:\n",
    "    tweet_json = json.loads(line)\n",
    "    insert_tweet(tweet_json)\n"
   ]
  },
  {
   "cell_type": "markdown",
   "metadata": {},
   "source": [
    "![png](./images/Mogodb%20Model.png)"
   ]
  },
  {
   "cell_type": "markdown",
   "metadata": {
    "collapsed": true
   },
   "source": [
    "## Contando el número de registros"
   ]
  },
  {
   "cell_type": "code",
   "execution_count": 6,
   "metadata": {
    "collapsed": false
   },
   "outputs": [
    {
     "name": "stdout",
     "output_type": "stream",
     "text": [
      "Número de Tweets:  2800\n",
      "Número de Usuarios:  1387\n",
      "Número de Hashtags:  629\n"
     ]
    }
   ],
   "source": [
    "print \"Número de Tweets: \" , db.tweets.count()\n",
    "print \"Número de Usuarios: \" , db.users.count()\n",
    "print \"Número de Hashtags: \" , db.hashtags.count()"
   ]
  },
  {
   "cell_type": "markdown",
   "metadata": {},
   "source": [
    "## Encontrar un Tweet que tenga Hashtags"
   ]
  },
  {
   "cell_type": "code",
   "execution_count": 7,
   "metadata": {
    "collapsed": false
   },
   "outputs": [
    {
     "data": {
      "text/plain": [
       "{u'_id': u'658171535824416768',\n",
       " u'created_at': u'Sun Oct 25 06:41:37 +0000 2015',\n",
       " u'entities': [u'SQL', u'NoSQL'],\n",
       " u'favorite_count': 0,\n",
       " u'id': 658171535824416768L,\n",
       " u'id_str': u'658171535824416768',\n",
       " u'lang': u'en',\n",
       " u'retweet_count': 1,\n",
       " u'retweeted_status': {u'created_at': u'Sun Oct 25 06:30:02 +0000 2015',\n",
       "  u'entities': [u'SQL', u'NoSQL'],\n",
       "  u'favorite_count': 0,\n",
       "  u'id': 658168624692228096L,\n",
       "  u'id_str': u'658168624692228096',\n",
       "  u'lang': u'en',\n",
       "  u'retweet_count': 1,\n",
       "  u'source': u'<a href=\"http://bufferapp.com\" rel=\"nofollow\">Buffer</a>',\n",
       "  u'text': u'Coming Full Circle: Why #SQL now powers the #NoSQL Craze, by Ryan Betts of @VoltDB https://t.co/sj11zLPgEX',\n",
       "  u'user': {u'created_at': u'Thu Jan 30 09:46:50 +0000 2014',\n",
       "   u'description': u'We cover #BigData, #FinTech and #IoT - Looking at how data science and connected devices are changing technology.',\n",
       "   u'favourites_count': 1425,\n",
       "   u'followers_count': 8801,\n",
       "   u'friends_count': 2505,\n",
       "   u'geo_enabled': True,\n",
       "   u'id': 2318606822L,\n",
       "   u'id_str': u'2318606822',\n",
       "   u'name': u'Dataconomy',\n",
       "   u'profile_image_url': u'http://pbs.twimg.com/profile_images/634739150382436353/JIjlGeGO_normal.png',\n",
       "   u'screen_name': u'DataconomyMedia',\n",
       "   u'statuses_count': 11179,\n",
       "   u'time_zone': u'Amsterdam'},\n",
       "  u'user_mentions': [{u'id': 97716631,\n",
       "    u'id_str': u'97716631',\n",
       "    u'name': u'VoltDB',\n",
       "    u'screen_name': u'VoltDB'}]},\n",
       " u'source': u'<a href=\"http://twitter.com\" rel=\"nofollow\">Twitter Web Client</a>',\n",
       " u'text': u'RT @DataconomyMedia: Coming Full Circle: Why #SQL now powers the #NoSQL Craze, by Ryan Betts of @VoltDB https://t.co/sj11zLPgEX',\n",
       " u'user': {u'created_at': u'Sat Aug 21 14:30:21 +0000 2010',\n",
       "  u'description': u'',\n",
       "  u'favourites_count': 496,\n",
       "  u'followers_count': 584,\n",
       "  u'friends_count': 2001,\n",
       "  u'geo_enabled': False,\n",
       "  u'id': 181183773,\n",
       "  u'id_str': u'181183773',\n",
       "  u'name': u'Magistr OM MAK',\n",
       "  u'profile_image_url': u'http://pbs.twimg.com/profile_images/1143255121/ds_1__normal.jpg',\n",
       "  u'screen_name': u'MAGISTR_OM',\n",
       "  u'statuses_count': 11403},\n",
       " u'user_mentions': [u'DataconomyMedia', u'VoltDB']}"
      ]
     },
     "execution_count": 7,
     "metadata": {},
     "output_type": "execute_result"
    }
   ],
   "source": [
    "db.tweets.find_one({\"entities.1\" : {\"$exists\" : True }})"
   ]
  },
  {
   "cell_type": "markdown",
   "metadata": {},
   "source": [
    "## Usuarios más populares"
   ]
  },
  {
   "cell_type": "code",
   "execution_count": 8,
   "metadata": {
    "collapsed": false
   },
   "outputs": [
    {
     "name": "stdout",
     "output_type": "stream",
     "text": [
      "googlecloud - 447590\n",
      "Azure - 383977\n",
      "craigbrownphd - 368570\n",
      "DavidPapp - 215114\n",
      "couchbase - 160978\n",
      "iamdevloper - 125526\n",
      "analyticbridge - 117146\n",
      "docker - 91037\n",
      "javacodegeeks - 79307\n",
      "developerWorks - 75534\n"
     ]
    }
   ],
   "source": [
    "cursor_users = db.users.find({\"followers_count\": {\"$exists\" : True }}).sort(\"followers_count\", pymongo.DESCENDING).limit(10)\n",
    "\n",
    "for user in cursor_users:\n",
    "    print user[\"screen_name\"], \"-\", user[\"followers_count\"]"
   ]
  },
  {
   "cell_type": "markdown",
   "metadata": {},
   "source": [
    "## Usuarios que más tweets tienen"
   ]
  },
  {
   "cell_type": "code",
   "execution_count": 9,
   "metadata": {
    "collapsed": false
   },
   "outputs": [
    {
     "name": "stdout",
     "output_type": "stream",
     "text": [
      "Dev_Topics - 208\n",
      "BigDataTweetBot - 147\n",
      "geneolot - 135\n",
      "ameanmbot - 102\n",
      "ClearGrip - 97\n",
      "retweetjava - 72\n",
      "vikasjee - 53\n",
      "NoSqlRR - 38\n",
      "Pvalsfr - 37\n",
      "vermanivivek - 24\n"
     ]
    }
   ],
   "source": [
    "cursor = db.tweets.aggregate([\n",
    "        {\"$group\" : { \"_id\" : \"$user.screen_name\", \"count\" : { \"$sum\" : 1}}},\n",
    "        {\"$sort\" : {\"count\" : -1}},\n",
    "        {\"$limit\" : 10}\n",
    "    ])\n",
    "\n",
    "for row in cursor:\n",
    "    print row[\"_id\"],\"-\", row[\"count\"]"
   ]
  },
  {
   "cell_type": "markdown",
   "metadata": {},
   "source": [
    "## Hashtags más populares"
   ]
  },
  {
   "cell_type": "code",
   "execution_count": 10,
   "metadata": {
    "collapsed": false
   },
   "outputs": [
    {
     "name": "stdout",
     "output_type": "stream",
     "text": [
      "NoSQL - 1830\n",
      "BigData - 843\n",
      "Java - 794\n",
      "MongoDB - 776\n",
      "SoapUi - 756\n",
      "Hadoop - 703\n",
      "nosql - 606\n",
      "hive - 473\n",
      "bigdata - 268\n",
      "MongoDb - 171\n"
     ]
    }
   ],
   "source": [
    "for hashtag in db.hashtags.find({}).sort(\"count\", pymongo.DESCENDING).limit(10):\n",
    "    print hashtag[\"_id\"], \"-\", hashtag[\"count\"]\n"
   ]
  },
  {
   "cell_type": "markdown",
   "metadata": {},
   "source": [
    "## Tweets de un determinado Hashtag"
   ]
  },
  {
   "cell_type": "code",
   "execution_count": 11,
   "metadata": {
    "collapsed": false
   },
   "outputs": [
    {
     "name": "stdout",
     "output_type": "stream",
     "text": [
      "MAGISTR_OM - RT @DataconomyMedia: Coming Full Circle: Why #SQL now powers the #NoSQL Craze, by Ryan Betts of @VoltDB https://t.co/sj11zLPgEX\n",
      "DataconomyMedia - Coming Full Circle: Why #SQL now powers the #NoSQL Craze, by Ryan Betts of @VoltDB https://t.co/sj11zLPgEX\n",
      "jppastor - Four and a Half Types of #NoSQL Databases and when to use them https://t.co/yZuIPpte3D #plevycom  “@plevy\n",
      "DutGRG - RT @javacodegeeks: #MongoDB Tutorial: A Scalable #NoSQL DB - MEGA Course https://t.co/sK6twnkBqG https://t.co/42ebFFLNiu\n",
      "javacodegeeks - #MongoDB Tutorial: A Scalable #NoSQL DB - MEGA Course https://t.co/sK6twnkBqG https://t.co/42ebFFLNiu\n",
      "setechec - RT @javacodegeeks: #MongoDB Tutorial: A Scalable #NoSQL DB - MEGA Course https://t.co/7nz9NgHFnK https://t.co/EQYQ862oTY\n",
      "javacodegeeks - #MongoDB Tutorial: A Scalable #NoSQL DB - MEGA Course https://t.co/7nz9NgHFnK https://t.co/EQYQ862oTY\n",
      "xMAnton - RT @javacodegeeks: #MongoDB Tutorial: A Scalable #NoSQL DB - MEGA Course https://t.co/sK6twnkBqG https://t.co/42ebFFLNiu\n",
      "javapsyche - RT @couchbase: 7 reasons why companies are switching from #MongoDB to #Couchbase: https://t.co/0b9yVl14bb #NoSQL #database\n",
      "couchbase - 7 reasons why companies are switching from #MongoDB to #Couchbase: https://t.co/0b9yVl14bb #NoSQL #database\n"
     ]
    }
   ],
   "source": [
    "for tweet in db.tweets.find({ \"entities\" : \"NoSQL\"}).limit(10):\n",
    "    print tweet[\"user\"][\"screen_name\"], \"-\", tweet[\"text\"]"
   ]
  },
  {
   "cell_type": "markdown",
   "metadata": {},
   "source": [
    "## Tweets de un determinado usuario"
   ]
  },
  {
   "cell_type": "code",
   "execution_count": 12,
   "metadata": {
    "collapsed": false
   },
   "outputs": [
    {
     "name": "stdout",
     "output_type": "stream",
     "text": [
      "MAGISTR_OM - RT @DataconomyMedia: Coming Full Circle: Why #SQL now powers the #NoSQL Craze, by Ryan Betts of @VoltDB https://t.co/sj11zLPgEX\n"
     ]
    }
   ],
   "source": [
    "for tweet in db.tweets.find({ \"user.screen_name\" : \"MAGISTR_OM\"}).limit(10):\n",
    "    print tweet[\"user\"][\"screen_name\"], \"-\", tweet[\"text\"]"
   ]
  },
  {
   "cell_type": "markdown",
   "metadata": {
    "collapsed": true
   },
   "source": [
    "## Usuarios mas mencionados"
   ]
  },
  {
   "cell_type": "code",
   "execution_count": 13,
   "metadata": {
    "collapsed": false
   },
   "outputs": [
    {
     "name": "stdout",
     "output_type": "stream",
     "text": [
      "geneolot - 168\n",
      "couchbase - 100\n",
      "aerospikedb - 64\n",
      "ClearGrip - 54\n",
      "patio11 - 52\n",
      "SiliconArmada - 45\n",
      "vermanivivek - 34\n",
      "javacodegeeks - 32\n",
      "McMcgregory - 30\n",
      "infoworld - 29\n"
     ]
    }
   ],
   "source": [
    "cursor = db.tweets.aggregate([\n",
    "        {\"$unwind\" : \"$user_mentions\"},\n",
    "        {\"$group\" : { \"_id\" : \"$user_mentions\", \"count\" : { \"$sum\" : 1}}},\n",
    "        {\"$sort\" : {\"count\" : -1}},\n",
    "        {\"$limit\" : 10}\n",
    "    ])\n",
    "\n",
    "for row in cursor:\n",
    "    print row[\"_id\"],\"-\", row[\"count\"]"
   ]
  },
  {
   "cell_type": "markdown",
   "metadata": {},
   "source": [
    "## Tweets donde se menciona a un usuario"
   ]
  },
  {
   "cell_type": "code",
   "execution_count": 14,
   "metadata": {
    "collapsed": false
   },
   "outputs": [
    {
     "name": "stdout",
     "output_type": "stream",
     "text": [
      "javapsyche - RT @couchbase: 7 reasons why companies are switching from #MongoDB to #Couchbase: https://t.co/0b9yVl14bb #NoSQL #database\n",
      "P_O_Bourge - RT @couchbase: 7 reasons why companies are switching from #MongoDB to #Couchbase: https://t.co/0b9yVl14bb #NoSQL #database\n",
      "AlessioCavone - RT @FelixLGriffin: 7 reasons companies switch from MongoDB to #Couchbase https://t.co/FWdMm86JxE @couchbase #opensource #NoSQL #PaaS #SaaS …\n",
      "FelixLGriffin - 7 reasons companies switch from MongoDB to #Couchbase https://t.co/FWdMm86JxE @couchbase #opensource #NoSQL #PaaS #SaaS #MaaS #IoT #iTPete\n",
      "jlamigueiro - RT @FelixLGriffin: 7 reasons companies switch from MongoDB to #Couchbase https://t.co/FWdMm86JxE @couchbase #opensource #NoSQL #PaaS #SaaS …\n",
      "ameanmbot - RT @FelixLGriffin: 7 reasons companies switch from MongoDB to #Couchbase https://t.co/FWdMm86JxE @couchbase #opensource #NoSQL #PaaS #SaaS …\n",
      "OHughe5 - RT @couchbase: 7 reasons why companies are switching from #MongoDB to #Couchbase: https://t.co/0b9yVl14bb #NoSQL #database\n",
      "itknowingness - RT @couchbase: 7 reasons why companies are switching from #MongoDB to #Couchbase: https://t.co/0b9yVl14bb #NoSQL #database\n",
      "Dev_Topics - RT @couchbase: $3.2 billion media giant undergoes massive changes &amp; switches from #MongoDB to #Couchbase. https://t.co/gEiV2nVpm1\n",
      "VKyritsis - RT @couchbase: Sign up in Oslo, Helsinki &amp; Stockholm next month for FREE expert #bigdata training. Get developer agility w/ JSON https://t.…\n"
     ]
    }
   ],
   "source": [
    "for tweet in db.tweets.find({ \"user_mentions\" : \"couchbase\"}).limit(10):\n",
    "    print tweet[\"user\"][\"screen_name\"], \"-\", tweet[\"text\"]"
   ]
  },
  {
   "cell_type": "code",
   "execution_count": null,
   "metadata": {
    "collapsed": true
   },
   "outputs": [],
   "source": []
  }
 ],
 "metadata": {
  "kernelspec": {
   "display_name": "Python 2",
   "language": "python",
   "name": "python2"
  },
  "language_info": {
   "codemirror_mode": {
    "name": "ipython",
    "version": 2
   },
   "file_extension": ".py",
   "mimetype": "text/x-python",
   "name": "python",
   "nbconvert_exporter": "python",
   "pygments_lexer": "ipython2",
   "version": "2.7.6"
  }
 },
 "nbformat": 4,
 "nbformat_minor": 0
}
