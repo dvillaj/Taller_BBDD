{
 "cells": [
  {
   "cell_type": "markdown",
   "metadata": {},
   "source": [
    "# MongoDB"
   ]
  },
  {
   "cell_type": "markdown",
   "metadata": {},
   "source": [
    "## Conexión con MongoDB y borrado de datos"
   ]
  },
  {
   "cell_type": "code",
   "execution_count": null,
   "metadata": {},
   "outputs": [],
   "source": [
    "import pymongo \n",
    "from pymongo import MongoClient\n",
    "from pymongo.errors import DuplicateKeyError\n",
    "import json\n",
    "\n",
    "from pprintpp import pprint as pp"
   ]
  },
  {
   "cell_type": "code",
   "execution_count": null,
   "metadata": {},
   "outputs": [],
   "source": [
    "# connect to database\n",
    "connection = MongoClient('localhost', 27017)"
   ]
  },
  {
   "cell_type": "code",
   "execution_count": null,
   "metadata": {},
   "outputs": [],
   "source": [
    "# Borramos la base de datos\n",
    "connection.drop_database('black')\n",
    "\n",
    "# Pymongo permite una sintaxis practicamente igual que la original\n",
    "db = connection.black"
   ]
  },
  {
   "cell_type": "markdown",
   "metadata": {},
   "source": [
    "## Lectura en Pandas"
   ]
  },
  {
   "cell_type": "markdown",
   "metadata": {},
   "source": [
    "Leemos los datos desde el fichero Excel y los desnormalizamos"
   ]
  },
  {
   "cell_type": "code",
   "execution_count": null,
   "metadata": {},
   "outputs": [],
   "source": [
    "import pandas as pd\n",
    "import datetime"
   ]
  },
  {
   "cell_type": "code",
   "execution_count": null,
   "metadata": {
    "collapsed": false,
    "jupyter": {
     "outputs_hidden": false
    }
   },
   "outputs": [],
   "source": [
    "df_mov = pd.read_excel(\"../../data/black.xlsx\", sheet_name= \"Movimientos\")\n",
    "df_miembros = pd.read_excel(\"../../data/black.xlsx\", sheet_name= \"Miembros\")\n",
    "df = pd.merge(df_mov, df_miembros, on = ['id_miembro'], how = 'inner')\n",
    "df.info()"
   ]
  },
  {
   "cell_type": "markdown",
   "metadata": {},
   "source": [
    "## Carga en MongoDB"
   ]
  },
  {
   "cell_type": "markdown",
   "metadata": {},
   "source": [
    "Gracias a Pandas convertimos el dataset en formato JSON, que es el que vamos a insertar en MongoDB prácticamente sin cambios."
   ]
  },
  {
   "cell_type": "code",
   "execution_count": null,
   "metadata": {},
   "outputs": [],
   "source": [
    "json_string = df.to_json(orient = 'records')\n",
    "json_list = json.loads(json_string)"
   ]
  },
  {
   "cell_type": "code",
   "execution_count": null,
   "metadata": {
    "collapsed": false,
    "jupyter": {
     "outputs_hidden": false
    }
   },
   "outputs": [],
   "source": [
    "pp(json_list[0])"
   ]
  },
  {
   "cell_type": "markdown",
   "metadata": {},
   "source": [
    "En MongoDB vamos a crear una única colección donde vamos a guardar todos los datos desnormalizados:"
   ]
  },
  {
   "cell_type": "markdown",
   "metadata": {},
   "source": [
    "<img src=\"images/Modelo%20MongoDB.png\" width=300 height=100>\n",
    "\n",
    "<br><br> "
   ]
  },
  {
   "cell_type": "markdown",
   "metadata": {},
   "source": [
    "En la inserción de la información en mongo realizan algunas tareas de limpieza:\n",
    "\n",
    "- Eliminar los campos nulos (no todos)\n",
    "- Convertir la fecha a un formato DateTime, de forma que mongo inserte el dato correctamente\n",
    "- Eliminar campos que no queremos tener en el modelo (id_miembro)"
   ]
  },
  {
   "cell_type": "code",
   "execution_count": null,
   "metadata": {
    "collapsed": false,
    "jupyter": {
     "outputs_hidden": false
    }
   },
   "outputs": [],
   "source": [
    "for movimiento_json in json_list:\n",
    "    movimiento_json['fecha'] = datetime.datetime.fromtimestamp(movimiento_json['fecha'] / 1e3)\n",
    "    \n",
    "    del movimiento_json['id_miembro']\n",
    "\n",
    "    if  movimiento_json['comercio'] == None:\n",
    "        del movimiento_json['comercio']\n",
    "    \n",
    "    db.movimientos.insert_one(movimiento_json)"
   ]
  },
  {
   "cell_type": "markdown",
   "metadata": {},
   "source": [
    "## Querys"
   ]
  },
  {
   "cell_type": "markdown",
   "metadata": {},
   "source": [
    "Todas las querys de este caso de uso se pueden resolver directamente por la base de datos ..."
   ]
  },
  {
   "cell_type": "markdown",
   "metadata": {},
   "source": [
    "### Los 10 movimientos mas caros"
   ]
  },
  {
   "cell_type": "code",
   "execution_count": null,
   "metadata": {
    "collapsed": false,
    "jupyter": {
     "outputs_hidden": false
    }
   },
   "outputs": [],
   "source": [
    "rs = db.movimientos.find({}, {\n",
    "    \"nombre\": 1,\n",
    "    \"fecha\": 1,\n",
    "    \"actividad_completa\": 1,\n",
    "    \"importe\": 1,\n",
    "    \"_id\" : 0\n",
    "}).limit(10).sort([(\"importe\", -1)])"
   ]
  },
  {
   "cell_type": "code",
   "execution_count": null,
   "metadata": {
    "collapsed": false,
    "jupyter": {
     "outputs_hidden": false
    }
   },
   "outputs": [],
   "source": [
    "pd.DataFrame(list(rs))"
   ]
  },
  {
   "cell_type": "markdown",
   "metadata": {},
   "source": [
    "### Los 10 movimientos mas caros por actividad"
   ]
  },
  {
   "cell_type": "code",
   "execution_count": null,
   "metadata": {},
   "outputs": [],
   "source": [
    "rs = db.movimientos.find({\n",
    "    \"actividad\": \"HOGAR\"\n",
    "}, {\n",
    "    \"nombre\": 1,\n",
    "    \"fecha\": 1,\n",
    "    \"actividad_completa\": 1,\n",
    "    \"importe\": 1,\n",
    "    \"_id\" : 0\n",
    "}).limit(10).sort([(\"importe\", -1)])"
   ]
  },
  {
   "cell_type": "code",
   "execution_count": null,
   "metadata": {
    "collapsed": false,
    "jupyter": {
     "outputs_hidden": false
    }
   },
   "outputs": [],
   "source": [
    "pd.DataFrame(list(rs))"
   ]
  },
  {
   "cell_type": "markdown",
   "metadata": {},
   "source": [
    "### Las 10 personas que mas han gastado"
   ]
  },
  {
   "cell_type": "markdown",
   "metadata": {},
   "source": [
    "En este caso, al obtener un dato agregado, necesitamos utilizar la función **aggregate()** de mongo"
   ]
  },
  {
   "cell_type": "code",
   "execution_count": null,
   "metadata": {
    "collapsed": false,
    "jupyter": {
     "outputs_hidden": false
    }
   },
   "outputs": [],
   "source": [
    "rs = db.movimientos.aggregate([\n",
    "        {\"$group\" : { \"_id\" : \"$nombre\", \"importe\" : { \"$sum\" : \"$importe\"}}},\n",
    "        {\"$sort\" : {\"importe\" : -1}},\n",
    "        {\"$limit\" : 10},\n",
    "        {\"$project\" : {\"_id\" : 0, \"nombre\": \"$_id\", \"importe\": 1}}\n",
    "    ])"
   ]
  },
  {
   "cell_type": "code",
   "execution_count": null,
   "metadata": {
    "collapsed": false,
    "jupyter": {
     "outputs_hidden": false
    }
   },
   "outputs": [],
   "source": [
    "df = pd.DataFrame(list(rs))\n",
    "df"
   ]
  },
  {
   "cell_type": "markdown",
   "metadata": {},
   "source": [
    "### ¿Que comercio es más popular?"
   ]
  },
  {
   "cell_type": "markdown",
   "metadata": {},
   "source": [
    "Este es un caso especial de agregación, ya que cuenta los distintos. Dentro del flujo de la función se realizan varios pasos para resolver esta query:\n",
    "\n",
    "- Formar un conjunto con los distintas personas que han comprado en cada comercio\n",
    "- Desagregar el conjunto\n",
    "- Agrupar los comercios, contanto los distintos elementos de cada conjunto"
   ]
  },
  {
   "cell_type": "code",
   "execution_count": null,
   "metadata": {
    "collapsed": false,
    "jupyter": {
     "outputs_hidden": false
    }
   },
   "outputs": [],
   "source": [
    "rs = db.movimientos.aggregate([\n",
    "        {\"$group\" : { \"_id\" : \"$comercio\", \"nombres\" : { \"$addToSet\" : \"$nombre\"}}},\n",
    "        {\"$unwind\" : \"$nombres\"},\n",
    "        {\"$group\" : { \"_id\" : \"$_id\", \"cuenta\" : { \"$sum\" : 1}}},\n",
    "        {\"$sort\" : {\"cuenta\" : -1}},\n",
    "        {\"$project\" : {\"_id\" : 0, \"comercio\": \"$_id\", \"cuenta\": 1}},\n",
    "        {\"$match\": {\"comercio\": { \"$exists\": True, \"$ne\": None }}},\n",
    "        {\"$limit\" : 10}\n",
    "    ])"
   ]
  },
  {
   "cell_type": "code",
   "execution_count": null,
   "metadata": {
    "collapsed": false,
    "jupyter": {
     "outputs_hidden": false
    }
   },
   "outputs": [],
   "source": [
    "df = pd.DataFrame(list(rs))\n",
    "df"
   ]
  },
  {
   "cell_type": "markdown",
   "metadata": {},
   "source": [
    "Truco ...\n",
    "\n",
    "En este tipo de querys complicadas podemos ver los resultados parciales ..."
   ]
  },
  {
   "cell_type": "code",
   "execution_count": null,
   "metadata": {
    "collapsed": false,
    "jupyter": {
     "outputs_hidden": false
    }
   },
   "outputs": [],
   "source": [
    "rs = db.movimientos.aggregate([\n",
    "        {\"$group\" : { \"_id\" : \"$comercio\", \"nombres\" : { \"$addToSet\" : \"$nombre\"}}},\n",
    "        {\"$unwind\" : \"$nombres\"}\n",
    "    ])\n",
    "\n",
    "pd.DataFrame(list(rs)).head()"
   ]
  }
 ],
 "metadata": {
  "kernelspec": {
   "display_name": "Python 3",
   "language": "python",
   "name": "python3"
  },
  "language_info": {
   "codemirror_mode": {
    "name": "ipython",
    "version": 3
   },
   "file_extension": ".py",
   "mimetype": "text/x-python",
   "name": "python",
   "nbconvert_exporter": "python",
   "pygments_lexer": "ipython3",
   "version": "3.6.9"
  }
 },
 "nbformat": 4,
 "nbformat_minor": 4
}
