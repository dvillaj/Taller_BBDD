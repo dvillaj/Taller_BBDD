{
 "cells": [
  {
   "cell_type": "markdown",
   "metadata": {},
   "source": [
    "# MongoDB"
   ]
  },
  {
   "cell_type": "markdown",
   "metadata": {},
   "source": [
    "## Conexión con MongoDB y borrado de datos"
   ]
  },
  {
   "cell_type": "code",
   "execution_count": 1,
   "metadata": {
    "collapsed": true
   },
   "outputs": [],
   "source": [
    "import pymongo \n",
    "from pymongo import MongoClient\n",
    "from pymongo.errors import DuplicateKeyError\n",
    "import json\n",
    "\n",
    "from pprintpp import pprint as pp"
   ]
  },
  {
   "cell_type": "code",
   "execution_count": 2,
   "metadata": {
    "collapsed": true
   },
   "outputs": [],
   "source": [
    "# connect to database\n",
    "connection = MongoClient('localhost', 27017)"
   ]
  },
  {
   "cell_type": "code",
   "execution_count": 3,
   "metadata": {
    "collapsed": true
   },
   "outputs": [],
   "source": [
    "# Borramos la base de datos\n",
    "connection.drop_database('black')\n",
    "\n",
    "# Pymongo permite una sintaxis practicamente igual que la original\n",
    "db = connection.black"
   ]
  },
  {
   "cell_type": "markdown",
   "metadata": {},
   "source": [
    "## Lectura en Pandas"
   ]
  },
  {
   "cell_type": "markdown",
   "metadata": {},
   "source": [
    "Leemos los datos desde el fichero Excel y los desnormalizamos"
   ]
  },
  {
   "cell_type": "code",
   "execution_count": 4,
   "metadata": {
    "collapsed": true
   },
   "outputs": [],
   "source": [
    "import pandas as pd\n",
    "import datetime"
   ]
  },
  {
   "cell_type": "code",
   "execution_count": 5,
   "metadata": {
    "collapsed": false
   },
   "outputs": [
    {
     "name": "stdout",
     "output_type": "stream",
     "text": [
      "<class 'pandas.core.frame.DataFrame'>\n",
      "Int64Index: 7624 entries, 0 to 7623\n",
      "Data columns (total 11 columns):\n",
      "id_miembro            7624 non-null int64\n",
      "fecha                 7624 non-null datetime64[ns]\n",
      "minuto                7624 non-null int64\n",
      "hora                  7624 non-null int64\n",
      "importe               7624 non-null float64\n",
      "comercio              6864 non-null object\n",
      "actividad_completa    7622 non-null object\n",
      "actividad             7622 non-null object\n",
      "nombre                7624 non-null object\n",
      "funcion               7624 non-null object\n",
      "organizacion          6056 non-null object\n",
      "dtypes: datetime64[ns](1), float64(1), int64(3), object(6)\n",
      "memory usage: 714.8+ KB\n"
     ]
    }
   ],
   "source": [
    "df_mov = pd.read_excel(\"../../data/black.xlsx\", sheetname= \"Movimientos\")\n",
    "df_miembros = pd.read_excel(\"../../data/black.xlsx\", sheetname= \"Miembros\")\n",
    "df = pd.merge(df_mov, df_miembros, on = ['id_miembro'], how = 'inner')\n",
    "df.info()"
   ]
  },
  {
   "cell_type": "markdown",
   "metadata": {},
   "source": [
    "## Carga en MongoDB"
   ]
  },
  {
   "cell_type": "markdown",
   "metadata": {},
   "source": [
    "Gracias a Pandas convertimos el dataset en formato JSON, que es el que vamos a insertar en MongoDB prácticamente sin cambios."
   ]
  },
  {
   "cell_type": "code",
   "execution_count": 6,
   "metadata": {
    "collapsed": true
   },
   "outputs": [],
   "source": [
    "json_string = df.to_json(orient = 'records')\n",
    "json_list = json.loads(json_string)"
   ]
  },
  {
   "cell_type": "code",
   "execution_count": 7,
   "metadata": {
    "collapsed": false
   },
   "outputs": [
    {
     "name": "stdout",
     "output_type": "stream",
     "text": [
      "{\n",
      "    u'actividad': u'RESTAURANTE',\n",
      "    u'actividad_completa': u'RESTAURANTES RESTO',\n",
      "    u'comercio': u'LA VACA ARGENTINA',\n",
      "    u'fecha': 1111968000000,\n",
      "    u'funcion': u'concejal',\n",
      "    u'hora': 16,\n",
      "    u'id_miembro': 40,\n",
      "    u'importe': 73.0,\n",
      "    u'minuto': 11,\n",
      "    u'nombre': u'José María Arteta Vico',\n",
      "    u'organizacion': u'PSOE',\n",
      "}\n"
     ]
    }
   ],
   "source": [
    "pp(json_list[0])"
   ]
  },
  {
   "cell_type": "markdown",
   "metadata": {},
   "source": [
    "En MongoDB vamos a crear una única colección donde vamos a guardar todos los datos desnormalizados:"
   ]
  },
  {
   "cell_type": "markdown",
   "metadata": {},
   "source": [
    "<img src=\"images/Modelo%20MongoDB.png\",width=300,height=100>\n",
    "\n",
    "<br><br> "
   ]
  },
  {
   "cell_type": "markdown",
   "metadata": {},
   "source": [
    "En la inserción de la información en mongo realizan algunas tareas de limpieza:\n",
    "\n",
    "- Eliminar los campos nulos (no todos)\n",
    "- Convertir la fecha a un formato DateTime, de forma que mongo inserte el dato correctamente\n",
    "- Eliminar campos que no queremos tener en el modelo (id_miembro)"
   ]
  },
  {
   "cell_type": "code",
   "execution_count": 8,
   "metadata": {
    "collapsed": false
   },
   "outputs": [],
   "source": [
    "for movimiento_json in json_list:\n",
    "    movimiento_json['fecha'] = datetime.datetime.fromtimestamp(movimiento_json['fecha'] / 1e3)\n",
    "    \n",
    "    del movimiento_json['id_miembro']\n",
    "\n",
    "    if  movimiento_json['comercio'] == None:\n",
    "        del movimiento_json['comercio']\n",
    "    \n",
    "    db.movimientos.insert_one(movimiento_json)"
   ]
  },
  {
   "cell_type": "markdown",
   "metadata": {},
   "source": [
    "## Querys"
   ]
  },
  {
   "cell_type": "markdown",
   "metadata": {},
   "source": [
    "Todas las querys de este caso de uso se pueden resolver directamente por la base de datos ..."
   ]
  },
  {
   "cell_type": "markdown",
   "metadata": {},
   "source": [
    "### Los 10 movimientos mas caros"
   ]
  },
  {
   "cell_type": "code",
   "execution_count": 9,
   "metadata": {
    "collapsed": false
   },
   "outputs": [],
   "source": [
    "rs = db.movimientos.find({}, {\n",
    "    \"nombre\": 1,\n",
    "    \"fecha\": 1,\n",
    "    \"actividad_completa\": 1,\n",
    "    \"importe\": 1,\n",
    "    \"_id\" : 0\n",
    "}).limit(10).sort([(\"importe\", -1)])"
   ]
  },
  {
   "cell_type": "code",
   "execution_count": 10,
   "metadata": {
    "collapsed": false
   },
   "outputs": [
    {
     "data": {
      "text/html": [
       "<div>\n",
       "<style>\n",
       "    .dataframe thead tr:only-child th {\n",
       "        text-align: right;\n",
       "    }\n",
       "\n",
       "    .dataframe thead th {\n",
       "        text-align: left;\n",
       "    }\n",
       "\n",
       "    .dataframe tbody tr th {\n",
       "        vertical-align: top;\n",
       "    }\n",
       "</style>\n",
       "<table border=\"1\" class=\"dataframe\">\n",
       "  <thead>\n",
       "    <tr style=\"text-align: right;\">\n",
       "      <th></th>\n",
       "      <th>actividad_completa</th>\n",
       "      <th>fecha</th>\n",
       "      <th>importe</th>\n",
       "      <th>nombre</th>\n",
       "    </tr>\n",
       "  </thead>\n",
       "  <tbody>\n",
       "    <tr>\n",
       "      <th>0</th>\n",
       "      <td>AGENCIAS BANCARIAS(ANTICIPO VENTANILLA)</td>\n",
       "      <td>2006-02-14 01:00:00</td>\n",
       "      <td>11000.00</td>\n",
       "      <td>Ildefonso José Sánchez Barcoj</td>\n",
       "    </tr>\n",
       "    <tr>\n",
       "      <th>1</th>\n",
       "      <td>EL CORTE INGLES</td>\n",
       "      <td>2008-11-19 01:00:00</td>\n",
       "      <td>6593.20</td>\n",
       "      <td>Ildefonso José Sánchez Barcoj</td>\n",
       "    </tr>\n",
       "    <tr>\n",
       "      <th>2</th>\n",
       "      <td>AGENCIAS DE VIAJES</td>\n",
       "      <td>2010-11-30 01:00:00</td>\n",
       "      <td>6519.12</td>\n",
       "      <td>Matías Amat Roca</td>\n",
       "    </tr>\n",
       "    <tr>\n",
       "      <th>3</th>\n",
       "      <td>V.DIST.VIAJES Y TRANSPORTE DE VIAJEROS</td>\n",
       "      <td>2011-02-14 01:00:00</td>\n",
       "      <td>5500.00</td>\n",
       "      <td>María Carmen Cafranga Cavestany</td>\n",
       "    </tr>\n",
       "    <tr>\n",
       "      <th>4</th>\n",
       "      <td>AGENCIAS DE VIAJES</td>\n",
       "      <td>2004-01-08 01:00:00</td>\n",
       "      <td>5283.33</td>\n",
       "      <td>Ildefonso José Sánchez Barcoj</td>\n",
       "    </tr>\n",
       "    <tr>\n",
       "      <th>5</th>\n",
       "      <td>EL CORTE INGLES</td>\n",
       "      <td>2009-12-25 01:00:00</td>\n",
       "      <td>5000.00</td>\n",
       "      <td>Estanislao Rodríguez-Ponga Salamanca</td>\n",
       "    </tr>\n",
       "    <tr>\n",
       "      <th>6</th>\n",
       "      <td>AGENCIAS BANCARIAS(ANTICIPO VENTANILLA)</td>\n",
       "      <td>2007-02-01 01:00:00</td>\n",
       "      <td>5000.00</td>\n",
       "      <td>Ricardo Morado Iglesias</td>\n",
       "    </tr>\n",
       "    <tr>\n",
       "      <th>7</th>\n",
       "      <td>AGENCIAS DE VIAJES</td>\n",
       "      <td>2010-07-07 02:00:00</td>\n",
       "      <td>4955.00</td>\n",
       "      <td>Ramón Martínez Vilches</td>\n",
       "    </tr>\n",
       "    <tr>\n",
       "      <th>8</th>\n",
       "      <td>AGENCIAS BANCARIAS(ANTICIPO VENTANILLA)</td>\n",
       "      <td>2007-06-25 02:00:00</td>\n",
       "      <td>4500.00</td>\n",
       "      <td>Ricardo Morado Iglesias</td>\n",
       "    </tr>\n",
       "    <tr>\n",
       "      <th>9</th>\n",
       "      <td>EL CORTE INGLES</td>\n",
       "      <td>2010-03-25 01:00:00</td>\n",
       "      <td>4320.50</td>\n",
       "      <td>Ildefonso José Sánchez Barcoj</td>\n",
       "    </tr>\n",
       "  </tbody>\n",
       "</table>\n",
       "</div>"
      ],
      "text/plain": [
       "                        actividad_completa               fecha   importe  \\\n",
       "0  AGENCIAS BANCARIAS(ANTICIPO VENTANILLA) 2006-02-14 01:00:00  11000.00   \n",
       "1                          EL CORTE INGLES 2008-11-19 01:00:00   6593.20   \n",
       "2                       AGENCIAS DE VIAJES 2010-11-30 01:00:00   6519.12   \n",
       "3   V.DIST.VIAJES Y TRANSPORTE DE VIAJEROS 2011-02-14 01:00:00   5500.00   \n",
       "4                       AGENCIAS DE VIAJES 2004-01-08 01:00:00   5283.33   \n",
       "5                          EL CORTE INGLES 2009-12-25 01:00:00   5000.00   \n",
       "6  AGENCIAS BANCARIAS(ANTICIPO VENTANILLA) 2007-02-01 01:00:00   5000.00   \n",
       "7                       AGENCIAS DE VIAJES 2010-07-07 02:00:00   4955.00   \n",
       "8  AGENCIAS BANCARIAS(ANTICIPO VENTANILLA) 2007-06-25 02:00:00   4500.00   \n",
       "9                          EL CORTE INGLES 2010-03-25 01:00:00   4320.50   \n",
       "\n",
       "                                 nombre  \n",
       "0         Ildefonso José Sánchez Barcoj  \n",
       "1         Ildefonso José Sánchez Barcoj  \n",
       "2                      Matías Amat Roca  \n",
       "3       María Carmen Cafranga Cavestany  \n",
       "4         Ildefonso José Sánchez Barcoj  \n",
       "5  Estanislao Rodríguez-Ponga Salamanca  \n",
       "6               Ricardo Morado Iglesias  \n",
       "7                Ramón Martínez Vilches  \n",
       "8               Ricardo Morado Iglesias  \n",
       "9         Ildefonso José Sánchez Barcoj  "
      ]
     },
     "execution_count": 10,
     "metadata": {},
     "output_type": "execute_result"
    }
   ],
   "source": [
    "pd.DataFrame(list(rs))"
   ]
  },
  {
   "cell_type": "markdown",
   "metadata": {},
   "source": [
    "### Los 10 movimientos mas caros por actividad"
   ]
  },
  {
   "cell_type": "code",
   "execution_count": 11,
   "metadata": {
    "collapsed": true
   },
   "outputs": [],
   "source": [
    "rs = db.movimientos.find({\n",
    "    \"actividad\": \"HOGAR\"\n",
    "}, {\n",
    "    \"nombre\": 1,\n",
    "    \"fecha\": 1,\n",
    "    \"actividad_completa\": 1,\n",
    "    \"importe\": 1,\n",
    "    \"_id\" : 0\n",
    "}).limit(10).sort([(\"importe\", -1)])"
   ]
  },
  {
   "cell_type": "code",
   "execution_count": 12,
   "metadata": {
    "collapsed": false
   },
   "outputs": [
    {
     "data": {
      "text/html": [
       "<div>\n",
       "<style>\n",
       "    .dataframe thead tr:only-child th {\n",
       "        text-align: right;\n",
       "    }\n",
       "\n",
       "    .dataframe thead th {\n",
       "        text-align: left;\n",
       "    }\n",
       "\n",
       "    .dataframe tbody tr th {\n",
       "        vertical-align: top;\n",
       "    }\n",
       "</style>\n",
       "<table border=\"1\" class=\"dataframe\">\n",
       "  <thead>\n",
       "    <tr style=\"text-align: right;\">\n",
       "      <th></th>\n",
       "      <th>actividad_completa</th>\n",
       "      <th>fecha</th>\n",
       "      <th>importe</th>\n",
       "      <th>nombre</th>\n",
       "    </tr>\n",
       "  </thead>\n",
       "  <tbody>\n",
       "    <tr>\n",
       "      <th>0</th>\n",
       "      <td>MUEBLES,ANTIGUEDADES Y GALERIAS DE ARTE</td>\n",
       "      <td>2007-10-14 02:00:00</td>\n",
       "      <td>2150.00</td>\n",
       "      <td>Miguel Ángel Araujo Serrano</td>\n",
       "    </tr>\n",
       "    <tr>\n",
       "      <th>1</th>\n",
       "      <td>MUEBLES,ANTIGUEDADES Y GALERIAS DE ARTE</td>\n",
       "      <td>2003-04-11 02:00:00</td>\n",
       "      <td>2072.00</td>\n",
       "      <td>Mariano Pérez Claver</td>\n",
       "    </tr>\n",
       "    <tr>\n",
       "      <th>2</th>\n",
       "      <td>MUEBLES,ANTIGUEDADES Y GALERIAS DE ARTE</td>\n",
       "      <td>2007-05-01 02:00:00</td>\n",
       "      <td>1510.00</td>\n",
       "      <td>Carlos María Martínez Martínez</td>\n",
       "    </tr>\n",
       "    <tr>\n",
       "      <th>3</th>\n",
       "      <td>TAPICERIAS,ALFOMBRAS</td>\n",
       "      <td>2009-08-06 02:00:00</td>\n",
       "      <td>1339.94</td>\n",
       "      <td>Ricardo Romero de Tejada y Picatoste</td>\n",
       "    </tr>\n",
       "    <tr>\n",
       "      <th>4</th>\n",
       "      <td>MIRO ESTABLECIMIENTOS</td>\n",
       "      <td>2003-08-10 02:00:00</td>\n",
       "      <td>1198.00</td>\n",
       "      <td>Rafael Spottorno Díaz Caro</td>\n",
       "    </tr>\n",
       "    <tr>\n",
       "      <th>5</th>\n",
       "      <td>ELECTRODOMESTICOS,EQUIPOS ELECTRICOS</td>\n",
       "      <td>2009-04-06 02:00:00</td>\n",
       "      <td>1000.00</td>\n",
       "      <td>Ricardo Romero de Tejada y Picatoste</td>\n",
       "    </tr>\n",
       "    <tr>\n",
       "      <th>6</th>\n",
       "      <td>FLORES Y PLANTAS</td>\n",
       "      <td>2008-02-14 01:00:00</td>\n",
       "      <td>1000.00</td>\n",
       "      <td>Ricardo Romero de Tejada y Picatoste</td>\n",
       "    </tr>\n",
       "    <tr>\n",
       "      <th>7</th>\n",
       "      <td>ELECTRODOMESTICOS,EQUIPOS ELECTRICOS</td>\n",
       "      <td>2005-05-09 02:00:00</td>\n",
       "      <td>948.00</td>\n",
       "      <td>Alejandro Couceiro Ojeda</td>\n",
       "    </tr>\n",
       "    <tr>\n",
       "      <th>8</th>\n",
       "      <td>FERRETERIA,BRICOLAJE,MENAJE DEL HOGAR</td>\n",
       "      <td>2003-01-02 01:00:00</td>\n",
       "      <td>912.00</td>\n",
       "      <td>Enrique de la Torre Martínez</td>\n",
       "    </tr>\n",
       "    <tr>\n",
       "      <th>9</th>\n",
       "      <td>IKEA</td>\n",
       "      <td>2011-03-27 01:00:00</td>\n",
       "      <td>835.65</td>\n",
       "      <td>Pablo Abejas Juárez</td>\n",
       "    </tr>\n",
       "  </tbody>\n",
       "</table>\n",
       "</div>"
      ],
      "text/plain": [
       "                        actividad_completa               fecha  importe  \\\n",
       "0  MUEBLES,ANTIGUEDADES Y GALERIAS DE ARTE 2007-10-14 02:00:00  2150.00   \n",
       "1  MUEBLES,ANTIGUEDADES Y GALERIAS DE ARTE 2003-04-11 02:00:00  2072.00   \n",
       "2  MUEBLES,ANTIGUEDADES Y GALERIAS DE ARTE 2007-05-01 02:00:00  1510.00   \n",
       "3                     TAPICERIAS,ALFOMBRAS 2009-08-06 02:00:00  1339.94   \n",
       "4                    MIRO ESTABLECIMIENTOS 2003-08-10 02:00:00  1198.00   \n",
       "5     ELECTRODOMESTICOS,EQUIPOS ELECTRICOS 2009-04-06 02:00:00  1000.00   \n",
       "6                         FLORES Y PLANTAS 2008-02-14 01:00:00  1000.00   \n",
       "7     ELECTRODOMESTICOS,EQUIPOS ELECTRICOS 2005-05-09 02:00:00   948.00   \n",
       "8    FERRETERIA,BRICOLAJE,MENAJE DEL HOGAR 2003-01-02 01:00:00   912.00   \n",
       "9                                     IKEA 2011-03-27 01:00:00   835.65   \n",
       "\n",
       "                                 nombre  \n",
       "0           Miguel Ángel Araujo Serrano  \n",
       "1                  Mariano Pérez Claver  \n",
       "2        Carlos María Martínez Martínez  \n",
       "3  Ricardo Romero de Tejada y Picatoste  \n",
       "4            Rafael Spottorno Díaz Caro  \n",
       "5  Ricardo Romero de Tejada y Picatoste  \n",
       "6  Ricardo Romero de Tejada y Picatoste  \n",
       "7              Alejandro Couceiro Ojeda  \n",
       "8          Enrique de la Torre Martínez  \n",
       "9                   Pablo Abejas Juárez  "
      ]
     },
     "execution_count": 12,
     "metadata": {},
     "output_type": "execute_result"
    }
   ],
   "source": [
    "pd.DataFrame(list(rs))"
   ]
  },
  {
   "cell_type": "markdown",
   "metadata": {},
   "source": [
    "### Las 10 personas que mas han gastado"
   ]
  },
  {
   "cell_type": "markdown",
   "metadata": {},
   "source": [
    "En este caso, al obtener un dato agregado, necesitamos utilizar la función **aggregate()** de mongo"
   ]
  },
  {
   "cell_type": "code",
   "execution_count": 13,
   "metadata": {
    "collapsed": false
   },
   "outputs": [],
   "source": [
    "rs = db.movimientos.aggregate([\n",
    "        {\"$group\" : { \"_id\" : \"$nombre\", \"importe\" : { \"$sum\" : \"$importe\"}}},\n",
    "        {\"$sort\" : {\"importe\" : -1}},\n",
    "        {\"$limit\" : 10},\n",
    "        {\"$project\" : {\"_id\" : 0, \"nombre\": \"$_id\", \"importe\": 1}}\n",
    "    ])"
   ]
  },
  {
   "cell_type": "code",
   "execution_count": 14,
   "metadata": {
    "collapsed": false
   },
   "outputs": [
    {
     "data": {
      "text/html": [
       "<div>\n",
       "<style>\n",
       "    .dataframe thead tr:only-child th {\n",
       "        text-align: right;\n",
       "    }\n",
       "\n",
       "    .dataframe thead th {\n",
       "        text-align: left;\n",
       "    }\n",
       "\n",
       "    .dataframe tbody tr th {\n",
       "        vertical-align: top;\n",
       "    }\n",
       "</style>\n",
       "<table border=\"1\" class=\"dataframe\">\n",
       "  <thead>\n",
       "    <tr style=\"text-align: right;\">\n",
       "      <th></th>\n",
       "      <th>importe</th>\n",
       "      <th>nombre</th>\n",
       "    </tr>\n",
       "  </thead>\n",
       "  <tbody>\n",
       "    <tr>\n",
       "      <th>0</th>\n",
       "      <td>64590.50</td>\n",
       "      <td>Ildefonso José Sánchez Barcoj</td>\n",
       "    </tr>\n",
       "    <tr>\n",
       "      <th>1</th>\n",
       "      <td>47292.08</td>\n",
       "      <td>Ricardo Morado Iglesias</td>\n",
       "    </tr>\n",
       "    <tr>\n",
       "      <th>2</th>\n",
       "      <td>41207.26</td>\n",
       "      <td>José Antonio Moral Santín</td>\n",
       "    </tr>\n",
       "    <tr>\n",
       "      <th>3</th>\n",
       "      <td>39946.33</td>\n",
       "      <td>Juan Manuel Astorqui Portera</td>\n",
       "    </tr>\n",
       "    <tr>\n",
       "      <th>4</th>\n",
       "      <td>39820.26</td>\n",
       "      <td>Matías Amat Roca</td>\n",
       "    </tr>\n",
       "    <tr>\n",
       "      <th>5</th>\n",
       "      <td>39473.01</td>\n",
       "      <td>Carlos María Martínez Martínez</td>\n",
       "    </tr>\n",
       "    <tr>\n",
       "      <th>6</th>\n",
       "      <td>35475.15</td>\n",
       "      <td>Miguel Blesa de la Parra</td>\n",
       "    </tr>\n",
       "    <tr>\n",
       "      <th>7</th>\n",
       "      <td>30612.27</td>\n",
       "      <td>Ramón Ferraz Ricarte</td>\n",
       "    </tr>\n",
       "    <tr>\n",
       "      <th>8</th>\n",
       "      <td>26030.22</td>\n",
       "      <td>Maria Mercedes de la Merced Monge</td>\n",
       "    </tr>\n",
       "    <tr>\n",
       "      <th>9</th>\n",
       "      <td>25113.06</td>\n",
       "      <td>Mariano Pérez Claver</td>\n",
       "    </tr>\n",
       "  </tbody>\n",
       "</table>\n",
       "</div>"
      ],
      "text/plain": [
       "    importe                             nombre\n",
       "0  64590.50      Ildefonso José Sánchez Barcoj\n",
       "1  47292.08            Ricardo Morado Iglesias\n",
       "2  41207.26          José Antonio Moral Santín\n",
       "3  39946.33       Juan Manuel Astorqui Portera\n",
       "4  39820.26                   Matías Amat Roca\n",
       "5  39473.01     Carlos María Martínez Martínez\n",
       "6  35475.15           Miguel Blesa de la Parra\n",
       "7  30612.27               Ramón Ferraz Ricarte\n",
       "8  26030.22  Maria Mercedes de la Merced Monge\n",
       "9  25113.06               Mariano Pérez Claver"
      ]
     },
     "execution_count": 14,
     "metadata": {},
     "output_type": "execute_result"
    }
   ],
   "source": [
    "df = pd.DataFrame(list(rs))\n",
    "df"
   ]
  },
  {
   "cell_type": "markdown",
   "metadata": {},
   "source": [
    "### ¿Que comercio es más popular?"
   ]
  },
  {
   "cell_type": "markdown",
   "metadata": {},
   "source": [
    "Este es un caso especial de agregación, ya que cuenta los distintos. Dentro del flujo de la función se realizan varios pasos para resolver esta query:\n",
    "\n",
    "- Formar un conjunto con los distintas personas que han comprado en cada comercio\n",
    "- Desagregar el conjunto\n",
    "- Agrupar los comercios, contanto los distintos elementos de cada conjunto"
   ]
  },
  {
   "cell_type": "code",
   "execution_count": 15,
   "metadata": {
    "collapsed": false
   },
   "outputs": [],
   "source": [
    "rs = db.movimientos.aggregate([\n",
    "        {\"$group\" : { \"_id\" : \"$comercio\", \"nombres\" : { \"$addToSet\" : \"$nombre\"}}},\n",
    "        {\"$unwind\" : \"$nombres\"},\n",
    "        {\"$group\" : { \"_id\" : \"$_id\", \"cuenta\" : { \"$sum\" : 1}}},\n",
    "        {\"$sort\" : {\"cuenta\" : -1}},\n",
    "        {\"$project\" : {\"_id\" : 0, \"comercio\": \"$_id\", \"cuenta\": 1}},\n",
    "        {\"$match\": {\"comercio\": { \"$exists\": True, \"$ne\": None }}},\n",
    "        {\"$limit\" : 10}\n",
    "    ])"
   ]
  },
  {
   "cell_type": "code",
   "execution_count": 16,
   "metadata": {
    "collapsed": false
   },
   "outputs": [
    {
     "data": {
      "text/html": [
       "<div>\n",
       "<style>\n",
       "    .dataframe thead tr:only-child th {\n",
       "        text-align: right;\n",
       "    }\n",
       "\n",
       "    .dataframe thead th {\n",
       "        text-align: left;\n",
       "    }\n",
       "\n",
       "    .dataframe tbody tr th {\n",
       "        vertical-align: top;\n",
       "    }\n",
       "</style>\n",
       "<table border=\"1\" class=\"dataframe\">\n",
       "  <thead>\n",
       "    <tr style=\"text-align: right;\">\n",
       "      <th></th>\n",
       "      <th>comercio</th>\n",
       "      <th>cuenta</th>\n",
       "    </tr>\n",
       "  </thead>\n",
       "  <tbody>\n",
       "    <tr>\n",
       "      <th>0</th>\n",
       "      <td>EL CORTE INGLES</td>\n",
       "      <td>52</td>\n",
       "    </tr>\n",
       "    <tr>\n",
       "      <th>1</th>\n",
       "      <td>IBERIA</td>\n",
       "      <td>27</td>\n",
       "    </tr>\n",
       "    <tr>\n",
       "      <th>2</th>\n",
       "      <td>RENFE 001</td>\n",
       "      <td>23</td>\n",
       "    </tr>\n",
       "    <tr>\n",
       "      <th>3</th>\n",
       "      <td>EL CORTE INGLES S.A.</td>\n",
       "      <td>19</td>\n",
       "    </tr>\n",
       "    <tr>\n",
       "      <th>4</th>\n",
       "      <td>VIAJES ECI</td>\n",
       "      <td>17</td>\n",
       "    </tr>\n",
       "    <tr>\n",
       "      <th>5</th>\n",
       "      <td>FNAC CALLAO</td>\n",
       "      <td>15</td>\n",
       "    </tr>\n",
       "    <tr>\n",
       "      <th>6</th>\n",
       "      <td>ACCESOS DE MADRID</td>\n",
       "      <td>13</td>\n",
       "    </tr>\n",
       "    <tr>\n",
       "      <th>7</th>\n",
       "      <td>PARKING EGUISA C/SEVILLA</td>\n",
       "      <td>12</td>\n",
       "    </tr>\n",
       "    <tr>\n",
       "      <th>8</th>\n",
       "      <td>REST EL ESPIGON</td>\n",
       "      <td>12</td>\n",
       "    </tr>\n",
       "    <tr>\n",
       "      <th>9</th>\n",
       "      <td>REST. MOA#A</td>\n",
       "      <td>12</td>\n",
       "    </tr>\n",
       "  </tbody>\n",
       "</table>\n",
       "</div>"
      ],
      "text/plain": [
       "                   comercio  cuenta\n",
       "0           EL CORTE INGLES      52\n",
       "1                    IBERIA      27\n",
       "2                 RENFE 001      23\n",
       "3      EL CORTE INGLES S.A.      19\n",
       "4                VIAJES ECI      17\n",
       "5               FNAC CALLAO      15\n",
       "6         ACCESOS DE MADRID      13\n",
       "7  PARKING EGUISA C/SEVILLA      12\n",
       "8           REST EL ESPIGON      12\n",
       "9               REST. MOA#A      12"
      ]
     },
     "execution_count": 16,
     "metadata": {},
     "output_type": "execute_result"
    }
   ],
   "source": [
    "df = pd.DataFrame(list(rs))\n",
    "df"
   ]
  },
  {
   "cell_type": "markdown",
   "metadata": {
    "collapsed": true
   },
   "source": [
    "Truco ...\n",
    "\n",
    "En este tipo de querys complicadas podemos ver los resultados parciales ..."
   ]
  },
  {
   "cell_type": "code",
   "execution_count": 17,
   "metadata": {
    "collapsed": false
   },
   "outputs": [
    {
     "data": {
      "text/html": [
       "<div>\n",
       "<style>\n",
       "    .dataframe thead tr:only-child th {\n",
       "        text-align: right;\n",
       "    }\n",
       "\n",
       "    .dataframe thead th {\n",
       "        text-align: left;\n",
       "    }\n",
       "\n",
       "    .dataframe tbody tr th {\n",
       "        vertical-align: top;\n",
       "    }\n",
       "</style>\n",
       "<table border=\"1\" class=\"dataframe\">\n",
       "  <thead>\n",
       "    <tr style=\"text-align: right;\">\n",
       "      <th></th>\n",
       "      <th>_id</th>\n",
       "      <th>nombres</th>\n",
       "    </tr>\n",
       "  </thead>\n",
       "  <tbody>\n",
       "    <tr>\n",
       "      <th>0</th>\n",
       "      <td>MUEBLES MARIN</td>\n",
       "      <td>José Nieto Antolinos</td>\n",
       "    </tr>\n",
       "    <tr>\n",
       "      <th>1</th>\n",
       "      <td>SOHO</td>\n",
       "      <td>José Nieto Antolinos</td>\n",
       "    </tr>\n",
       "    <tr>\n",
       "      <th>2</th>\n",
       "      <td>RESTAURANTE RUGANTINO</td>\n",
       "      <td>José Luis Acero Benedicto</td>\n",
       "    </tr>\n",
       "    <tr>\n",
       "      <th>3</th>\n",
       "      <td>ROMANO</td>\n",
       "      <td>Enrique de la Torre Martínez</td>\n",
       "    </tr>\n",
       "    <tr>\n",
       "      <th>4</th>\n",
       "      <td>FOSTER S HOLLYWOOD A SORIA</td>\n",
       "      <td>José Ricardo Martínez Castro</td>\n",
       "    </tr>\n",
       "  </tbody>\n",
       "</table>\n",
       "</div>"
      ],
      "text/plain": [
       "                          _id                       nombres\n",
       "0               MUEBLES MARIN          José Nieto Antolinos\n",
       "1                        SOHO          José Nieto Antolinos\n",
       "2       RESTAURANTE RUGANTINO     José Luis Acero Benedicto\n",
       "3                      ROMANO  Enrique de la Torre Martínez\n",
       "4  FOSTER S HOLLYWOOD A SORIA  José Ricardo Martínez Castro"
      ]
     },
     "execution_count": 17,
     "metadata": {},
     "output_type": "execute_result"
    }
   ],
   "source": [
    "rs = db.movimientos.aggregate([\n",
    "        {\"$group\" : { \"_id\" : \"$comercio\", \"nombres\" : { \"$addToSet\" : \"$nombre\"}}},\n",
    "        {\"$unwind\" : \"$nombres\"}\n",
    "    ])\n",
    "\n",
    "pd.DataFrame(list(rs)).head()"
   ]
  },
  {
   "cell_type": "code",
   "execution_count": null,
   "metadata": {
    "collapsed": true
   },
   "outputs": [],
   "source": []
  }
 ],
 "metadata": {
  "kernelspec": {
   "display_name": "Python 2",
   "language": "python",
   "name": "python2"
  },
  "language_info": {
   "codemirror_mode": {
    "name": "ipython",
    "version": 2
   },
   "file_extension": ".py",
   "mimetype": "text/x-python",
   "name": "python",
   "nbconvert_exporter": "python",
   "pygments_lexer": "ipython2",
   "version": "2.7.6"
  }
 },
 "nbformat": 4,
 "nbformat_minor": 0
}
