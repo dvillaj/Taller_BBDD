{
 "cells": [
  {
   "cell_type": "markdown",
   "metadata": {},
   "source": [
    "# MongoDB"
   ]
  },
  {
   "cell_type": "markdown",
   "metadata": {},
   "source": [
    "## Conexión con MongoDB y borrado de datos"
   ]
  },
  {
   "cell_type": "code",
   "execution_count": 1,
   "metadata": {
    "collapsed": true
   },
   "outputs": [],
   "source": [
    "import pymongo \n",
    "from pymongo import MongoClient\n",
    "from pymongo.errors import DuplicateKeyError\n",
    "import json\n",
    "\n",
    "from pprintpp import pprint as pp"
   ]
  },
  {
   "cell_type": "code",
   "execution_count": 2,
   "metadata": {
    "collapsed": true
   },
   "outputs": [],
   "source": [
    "# connect to database\n",
    "connection = MongoClient('localhost', 27017)"
   ]
  },
  {
   "cell_type": "code",
   "execution_count": 3,
   "metadata": {
    "collapsed": true
   },
   "outputs": [],
   "source": [
    "# Borramos la base de datos\n",
    "connection.drop_database('black')\n",
    "\n",
    "# Pymongo permite una sintaxis practicamente igual que la original\n",
    "db = connection.black"
   ]
  },
  {
   "cell_type": "markdown",
   "metadata": {},
   "source": [
    "## Lectura en Pandas"
   ]
  },
  {
   "cell_type": "markdown",
   "metadata": {},
   "source": [
    "Leemos los datos desde el fichero Excel y los desnormalizamos"
   ]
  },
  {
   "cell_type": "code",
   "execution_count": 4,
   "metadata": {
    "collapsed": true
   },
   "outputs": [],
   "source": [
    "import pandas as pd\n",
    "import datetime"
   ]
  },
  {
   "cell_type": "code",
   "execution_count": 5,
   "metadata": {
    "collapsed": false
   },
   "outputs": [
    {
     "name": "stdout",
     "output_type": "stream",
     "text": [
      "<class 'pandas.core.frame.DataFrame'>\n",
      "Int64Index: 7624 entries, 0 to 7623\n",
      "Data columns (total 11 columns):\n",
      "id_miembro            7624 non-null int64\n",
      "fecha                 7624 non-null datetime64[ns]\n",
      "minuto                7624 non-null int64\n",
      "hora                  7624 non-null int64\n",
      "importe               7624 non-null float64\n",
      "comercio              6889 non-null object\n",
      "actividad_completa    7623 non-null object\n",
      "actividad             7623 non-null object\n",
      "nombre                7624 non-null object\n",
      "funcion               7624 non-null object\n",
      "organizacion          6041 non-null object\n",
      "dtypes: datetime64[ns](1), float64(1), int64(3), object(6)\n",
      "memory usage: 714.8+ KB\n"
     ]
    }
   ],
   "source": [
    "df_mov = pd.read_excel(\"../../data/black.xlsx\", sheetname= \"Movimientos\")\n",
    "df_miembros = pd.read_excel(\"../../data/black.xlsx\", sheetname= \"Miembros\")\n",
    "df = pd.merge(df_mov, df_miembros, on = ['id_miembro'], how = 'inner')\n",
    "df.info()"
   ]
  },
  {
   "cell_type": "markdown",
   "metadata": {},
   "source": [
    "## Carga en MongoDB"
   ]
  },
  {
   "cell_type": "markdown",
   "metadata": {},
   "source": [
    "Gracias a Pandas convertimos el dataset en formato JSON, que es el que vamos a insertar en MongoDB prácticamente sin cambios."
   ]
  },
  {
   "cell_type": "code",
   "execution_count": 6,
   "metadata": {
    "collapsed": true
   },
   "outputs": [],
   "source": [
    "json_string = df.to_json(orient = 'records')\n",
    "json_list = json.loads(json_string)"
   ]
  },
  {
   "cell_type": "code",
   "execution_count": 7,
   "metadata": {
    "collapsed": false
   },
   "outputs": [
    {
     "name": "stdout",
     "output_type": "stream",
     "text": [
      "{\n",
      "    u'actividad': u'SALUD',\n",
      "    u'actividad_completa': u'FARMACIAS',\n",
      "    u'comercio': u'FARMACIA M JESUS MARTINEZ',\n",
      "    u'fecha': 1252886400000,\n",
      "    u'funcion': u'concejal',\n",
      "    u'hora': 9,\n",
      "    u'id_miembro': 30,\n",
      "    u'importe': 19.26,\n",
      "    u'minuto': 52,\n",
      "    u'nombre': u'Jesús Pedroche Nieto',\n",
      "    u'organizacion': u'Partido Popular',\n",
      "}\n"
     ]
    }
   ],
   "source": [
    "pp(json_list[0])"
   ]
  },
  {
   "cell_type": "markdown",
   "metadata": {},
   "source": [
    "En MongoDB vamos a crear una única colección donde vamos a guardar todos los datos desnormalizados:"
   ]
  },
  {
   "cell_type": "markdown",
   "metadata": {},
   "source": [
    "<img src=\"images/Modelo%20MongoDB.png\",width=300,height=100>\n",
    "\n",
    "<br><br> "
   ]
  },
  {
   "cell_type": "markdown",
   "metadata": {},
   "source": [
    "En la inserción de la información en mongo realizan algunas tareas de limpieza:\n",
    "\n",
    "- Eliminar los campos nulos (no todos)\n",
    "- Convertir la fecha a un formato DateTime, de forma que mongo inserte el dato correctamente\n",
    "- Eliminar campos que no queremos tener en el modelo (id_miembro)"
   ]
  },
  {
   "cell_type": "code",
   "execution_count": 8,
   "metadata": {
    "collapsed": false
   },
   "outputs": [],
   "source": [
    "for movimiento_json in json_list:\n",
    "    movimiento_json['fecha'] = datetime.datetime.fromtimestamp(movimiento_json['fecha'] / 1e3)\n",
    "    \n",
    "    del movimiento_json['id_miembro']\n",
    "\n",
    "    if  movimiento_json['comercio'] == None:\n",
    "        del movimiento_json['comercio']\n",
    "    \n",
    "    db.movimientos.insert_one(movimiento_json)"
   ]
  },
  {
   "cell_type": "markdown",
   "metadata": {},
   "source": [
    "## Querys"
   ]
  },
  {
   "cell_type": "markdown",
   "metadata": {},
   "source": [
    "Todas las querys de este caso de uso se pueden resolver directamente por la base de datos ..."
   ]
  },
  {
   "cell_type": "markdown",
   "metadata": {},
   "source": [
    "### Los 10 movimientos mas caros"
   ]
  },
  {
   "cell_type": "code",
   "execution_count": 9,
   "metadata": {
    "collapsed": false
   },
   "outputs": [],
   "source": [
    "rs = db.movimientos.find({}, {\n",
    "    \"nombre\": 1,\n",
    "    \"fecha\": 1,\n",
    "    \"actividad_completa\": 1,\n",
    "    \"importe\": 1,\n",
    "    \"_id\" : 0\n",
    "}).limit(10).sort([(\"importe\", -1)])"
   ]
  },
  {
   "cell_type": "code",
   "execution_count": 10,
   "metadata": {
    "collapsed": false
   },
   "outputs": [
    {
     "data": {
      "text/html": [
       "<div>\n",
       "<style>\n",
       "    .dataframe thead tr:only-child th {\n",
       "        text-align: right;\n",
       "    }\n",
       "\n",
       "    .dataframe thead th {\n",
       "        text-align: left;\n",
       "    }\n",
       "\n",
       "    .dataframe tbody tr th {\n",
       "        vertical-align: top;\n",
       "    }\n",
       "</style>\n",
       "<table border=\"1\" class=\"dataframe\">\n",
       "  <thead>\n",
       "    <tr style=\"text-align: right;\">\n",
       "      <th></th>\n",
       "      <th>actividad_completa</th>\n",
       "      <th>fecha</th>\n",
       "      <th>importe</th>\n",
       "      <th>nombre</th>\n",
       "    </tr>\n",
       "  </thead>\n",
       "  <tbody>\n",
       "    <tr>\n",
       "      <th>0</th>\n",
       "      <td>AGENCIAS BANCARIAS(ANTICIPO VENTANILLA)</td>\n",
       "      <td>2007-11-25 01:00:00</td>\n",
       "      <td>11930.00</td>\n",
       "      <td>Ricardo Romero de Tejada y Picatoste</td>\n",
       "    </tr>\n",
       "    <tr>\n",
       "      <th>1</th>\n",
       "      <td>VIAJES MARSANS-INTERNACIONAL EXPRESSO</td>\n",
       "      <td>2006-11-01 01:00:00</td>\n",
       "      <td>9825.00</td>\n",
       "      <td>Carlos Vela García</td>\n",
       "    </tr>\n",
       "    <tr>\n",
       "      <th>2</th>\n",
       "      <td>EL CORTE INGLES</td>\n",
       "      <td>2009-03-30 02:00:00</td>\n",
       "      <td>9804.15</td>\n",
       "      <td>Ildefonso José Sánchez Barcoj</td>\n",
       "    </tr>\n",
       "    <tr>\n",
       "      <th>3</th>\n",
       "      <td>HOTELES 4 Y 5 ESTRELLAS,BALNEARIOS,CAMPI</td>\n",
       "      <td>2010-08-15 02:00:00</td>\n",
       "      <td>9076.76</td>\n",
       "      <td>Carmen Contreras Gómez</td>\n",
       "    </tr>\n",
       "    <tr>\n",
       "      <th>4</th>\n",
       "      <td>AGENCIAS BANCARIAS(ANTICIPO VENTANILLA)</td>\n",
       "      <td>2006-11-29 01:00:00</td>\n",
       "      <td>8000.00</td>\n",
       "      <td>Enrique de la Torre Martínez</td>\n",
       "    </tr>\n",
       "    <tr>\n",
       "      <th>5</th>\n",
       "      <td>AGENCIAS BANCARIAS(ANTICIPO VENTANILLA)</td>\n",
       "      <td>2005-07-19 02:00:00</td>\n",
       "      <td>7200.00</td>\n",
       "      <td>Ildefonso José Sánchez Barcoj</td>\n",
       "    </tr>\n",
       "    <tr>\n",
       "      <th>6</th>\n",
       "      <td>EL CORTE INGLES</td>\n",
       "      <td>2007-08-02 02:00:00</td>\n",
       "      <td>6990.87</td>\n",
       "      <td>Miguel Blesa de la Parra</td>\n",
       "    </tr>\n",
       "    <tr>\n",
       "      <th>7</th>\n",
       "      <td>JOYERIAS Y RELOJERIAS</td>\n",
       "      <td>2004-03-30 02:00:00</td>\n",
       "      <td>6905.72</td>\n",
       "      <td>María Elena Gil García</td>\n",
       "    </tr>\n",
       "    <tr>\n",
       "      <th>8</th>\n",
       "      <td>JOYERIAS Y RELOJERIAS</td>\n",
       "      <td>2003-08-28 02:00:00</td>\n",
       "      <td>6000.00</td>\n",
       "      <td>María Elena Gil García</td>\n",
       "    </tr>\n",
       "    <tr>\n",
       "      <th>9</th>\n",
       "      <td>AGENCIAS DE VIAJES</td>\n",
       "      <td>2004-10-18 02:00:00</td>\n",
       "      <td>6000.00</td>\n",
       "      <td>Mariano Pérez Claver</td>\n",
       "    </tr>\n",
       "  </tbody>\n",
       "</table>\n",
       "</div>"
      ],
      "text/plain": [
       "                         actividad_completa               fecha   importe  \\\n",
       "0   AGENCIAS BANCARIAS(ANTICIPO VENTANILLA) 2007-11-25 01:00:00  11930.00   \n",
       "1     VIAJES MARSANS-INTERNACIONAL EXPRESSO 2006-11-01 01:00:00   9825.00   \n",
       "2                           EL CORTE INGLES 2009-03-30 02:00:00   9804.15   \n",
       "3  HOTELES 4 Y 5 ESTRELLAS,BALNEARIOS,CAMPI 2010-08-15 02:00:00   9076.76   \n",
       "4   AGENCIAS BANCARIAS(ANTICIPO VENTANILLA) 2006-11-29 01:00:00   8000.00   \n",
       "5   AGENCIAS BANCARIAS(ANTICIPO VENTANILLA) 2005-07-19 02:00:00   7200.00   \n",
       "6                           EL CORTE INGLES 2007-08-02 02:00:00   6990.87   \n",
       "7                     JOYERIAS Y RELOJERIAS 2004-03-30 02:00:00   6905.72   \n",
       "8                     JOYERIAS Y RELOJERIAS 2003-08-28 02:00:00   6000.00   \n",
       "9                        AGENCIAS DE VIAJES 2004-10-18 02:00:00   6000.00   \n",
       "\n",
       "                                 nombre  \n",
       "0  Ricardo Romero de Tejada y Picatoste  \n",
       "1                    Carlos Vela García  \n",
       "2         Ildefonso José Sánchez Barcoj  \n",
       "3                Carmen Contreras Gómez  \n",
       "4          Enrique de la Torre Martínez  \n",
       "5         Ildefonso José Sánchez Barcoj  \n",
       "6              Miguel Blesa de la Parra  \n",
       "7                María Elena Gil García  \n",
       "8                María Elena Gil García  \n",
       "9                  Mariano Pérez Claver  "
      ]
     },
     "execution_count": 10,
     "metadata": {},
     "output_type": "execute_result"
    }
   ],
   "source": [
    "pd.DataFrame(list(rs))"
   ]
  },
  {
   "cell_type": "markdown",
   "metadata": {},
   "source": [
    "### Los 10 movimientos mas caros por actividad"
   ]
  },
  {
   "cell_type": "code",
   "execution_count": 11,
   "metadata": {
    "collapsed": true
   },
   "outputs": [],
   "source": [
    "rs = db.movimientos.find({\n",
    "    \"actividad\": \"HOGAR\"\n",
    "}, {\n",
    "    \"nombre\": 1,\n",
    "    \"fecha\": 1,\n",
    "    \"actividad_completa\": 1,\n",
    "    \"importe\": 1,\n",
    "    \"_id\" : 0\n",
    "}).limit(10).sort([(\"importe\", -1)])"
   ]
  },
  {
   "cell_type": "code",
   "execution_count": 12,
   "metadata": {
    "collapsed": false
   },
   "outputs": [
    {
     "data": {
      "text/html": [
       "<div>\n",
       "<style>\n",
       "    .dataframe thead tr:only-child th {\n",
       "        text-align: right;\n",
       "    }\n",
       "\n",
       "    .dataframe thead th {\n",
       "        text-align: left;\n",
       "    }\n",
       "\n",
       "    .dataframe tbody tr th {\n",
       "        vertical-align: top;\n",
       "    }\n",
       "</style>\n",
       "<table border=\"1\" class=\"dataframe\">\n",
       "  <thead>\n",
       "    <tr style=\"text-align: right;\">\n",
       "      <th></th>\n",
       "      <th>actividad_completa</th>\n",
       "      <th>fecha</th>\n",
       "      <th>importe</th>\n",
       "      <th>nombre</th>\n",
       "    </tr>\n",
       "  </thead>\n",
       "  <tbody>\n",
       "    <tr>\n",
       "      <th>0</th>\n",
       "      <td>ELECTRODOMESTICOS,EQUIPOS ELECTRICOS</td>\n",
       "      <td>2009-05-07 02:00:00</td>\n",
       "      <td>3794.00</td>\n",
       "      <td>Jesús Pedroche Nieto</td>\n",
       "    </tr>\n",
       "    <tr>\n",
       "      <th>1</th>\n",
       "      <td>ELECTRODOMESTICOS,EQUIPOS ELECTRICOS</td>\n",
       "      <td>2009-07-05 02:00:00</td>\n",
       "      <td>3512.00</td>\n",
       "      <td>Jesús Pedroche Nieto</td>\n",
       "    </tr>\n",
       "    <tr>\n",
       "      <th>2</th>\n",
       "      <td>FERRETERIA,BRICOLAJE,MENAJE DEL HOGAR</td>\n",
       "      <td>2010-02-05 01:00:00</td>\n",
       "      <td>1392.03</td>\n",
       "      <td>Rodrigo de Rato Figaredo</td>\n",
       "    </tr>\n",
       "    <tr>\n",
       "      <th>3</th>\n",
       "      <td>MIRO ESTABLECIMIENTOS</td>\n",
       "      <td>2003-08-10 02:00:00</td>\n",
       "      <td>1198.00</td>\n",
       "      <td>Rafael Spottorno Díaz Caro</td>\n",
       "    </tr>\n",
       "    <tr>\n",
       "      <th>4</th>\n",
       "      <td>MUEBLES,ANTIGUEDADES Y GALERIAS DE ARTE</td>\n",
       "      <td>2009-01-02 01:00:00</td>\n",
       "      <td>1000.41</td>\n",
       "      <td>Jesús Pedroche Nieto</td>\n",
       "    </tr>\n",
       "    <tr>\n",
       "      <th>5</th>\n",
       "      <td>ELECTRODOMESTICOS,EQUIPOS ELECTRICOS</td>\n",
       "      <td>2005-07-04 02:00:00</td>\n",
       "      <td>998.00</td>\n",
       "      <td>Alejandro Couceiro Ojeda</td>\n",
       "    </tr>\n",
       "    <tr>\n",
       "      <th>6</th>\n",
       "      <td>FLORES Y PLANTAS</td>\n",
       "      <td>2007-03-16 01:00:00</td>\n",
       "      <td>864.29</td>\n",
       "      <td>Mariano Pérez Claver</td>\n",
       "    </tr>\n",
       "    <tr>\n",
       "      <th>7</th>\n",
       "      <td>MUEBLES,ANTIGUEDADES Y GALERIAS DE ARTE</td>\n",
       "      <td>2006-07-31 02:00:00</td>\n",
       "      <td>850.00</td>\n",
       "      <td>María Carmen Cafranga Cavestany</td>\n",
       "    </tr>\n",
       "    <tr>\n",
       "      <th>8</th>\n",
       "      <td>MUEBLES,ANTIGUEDADES Y GALERIAS DE ARTE</td>\n",
       "      <td>2005-06-15 02:00:00</td>\n",
       "      <td>850.00</td>\n",
       "      <td>Alejandro Couceiro Ojeda</td>\n",
       "    </tr>\n",
       "    <tr>\n",
       "      <th>9</th>\n",
       "      <td>FERRETERIA,BRICOLAJE,MENAJE DEL HOGAR</td>\n",
       "      <td>2006-06-15 02:00:00</td>\n",
       "      <td>660.00</td>\n",
       "      <td>Rafael Darío Fernández Yruegas Moro</td>\n",
       "    </tr>\n",
       "  </tbody>\n",
       "</table>\n",
       "</div>"
      ],
      "text/plain": [
       "                        actividad_completa               fecha  importe  \\\n",
       "0     ELECTRODOMESTICOS,EQUIPOS ELECTRICOS 2009-05-07 02:00:00  3794.00   \n",
       "1     ELECTRODOMESTICOS,EQUIPOS ELECTRICOS 2009-07-05 02:00:00  3512.00   \n",
       "2    FERRETERIA,BRICOLAJE,MENAJE DEL HOGAR 2010-02-05 01:00:00  1392.03   \n",
       "3                    MIRO ESTABLECIMIENTOS 2003-08-10 02:00:00  1198.00   \n",
       "4  MUEBLES,ANTIGUEDADES Y GALERIAS DE ARTE 2009-01-02 01:00:00  1000.41   \n",
       "5     ELECTRODOMESTICOS,EQUIPOS ELECTRICOS 2005-07-04 02:00:00   998.00   \n",
       "6                         FLORES Y PLANTAS 2007-03-16 01:00:00   864.29   \n",
       "7  MUEBLES,ANTIGUEDADES Y GALERIAS DE ARTE 2006-07-31 02:00:00   850.00   \n",
       "8  MUEBLES,ANTIGUEDADES Y GALERIAS DE ARTE 2005-06-15 02:00:00   850.00   \n",
       "9    FERRETERIA,BRICOLAJE,MENAJE DEL HOGAR 2006-06-15 02:00:00   660.00   \n",
       "\n",
       "                                nombre  \n",
       "0                 Jesús Pedroche Nieto  \n",
       "1                 Jesús Pedroche Nieto  \n",
       "2             Rodrigo de Rato Figaredo  \n",
       "3           Rafael Spottorno Díaz Caro  \n",
       "4                 Jesús Pedroche Nieto  \n",
       "5             Alejandro Couceiro Ojeda  \n",
       "6                 Mariano Pérez Claver  \n",
       "7      María Carmen Cafranga Cavestany  \n",
       "8             Alejandro Couceiro Ojeda  \n",
       "9  Rafael Darío Fernández Yruegas Moro  "
      ]
     },
     "execution_count": 12,
     "metadata": {},
     "output_type": "execute_result"
    }
   ],
   "source": [
    "pd.DataFrame(list(rs))"
   ]
  },
  {
   "cell_type": "markdown",
   "metadata": {},
   "source": [
    "### Las 10 personas que mas han gastado"
   ]
  },
  {
   "cell_type": "markdown",
   "metadata": {},
   "source": [
    "En este caso, al obtener un dato agregado, necesitamos utilizar la función **aggregate()** de mongo"
   ]
  },
  {
   "cell_type": "code",
   "execution_count": 13,
   "metadata": {
    "collapsed": false
   },
   "outputs": [],
   "source": [
    "rs = db.movimientos.aggregate([\n",
    "        {\"$group\" : { \"_id\" : \"$nombre\", \"importe\" : { \"$sum\" : \"$importe\"}}},\n",
    "        {\"$sort\" : {\"importe\" : -1}},\n",
    "        {\"$limit\" : 10},\n",
    "        {\"$project\" : {\"_id\" : 0, \"nombre\": \"$_id\", \"importe\": 1}}\n",
    "    ])"
   ]
  },
  {
   "cell_type": "code",
   "execution_count": 14,
   "metadata": {
    "collapsed": false
   },
   "outputs": [
    {
     "data": {
      "text/html": [
       "<div>\n",
       "<style>\n",
       "    .dataframe thead tr:only-child th {\n",
       "        text-align: right;\n",
       "    }\n",
       "\n",
       "    .dataframe thead th {\n",
       "        text-align: left;\n",
       "    }\n",
       "\n",
       "    .dataframe tbody tr th {\n",
       "        vertical-align: top;\n",
       "    }\n",
       "</style>\n",
       "<table border=\"1\" class=\"dataframe\">\n",
       "  <thead>\n",
       "    <tr style=\"text-align: right;\">\n",
       "      <th></th>\n",
       "      <th>importe</th>\n",
       "      <th>nombre</th>\n",
       "    </tr>\n",
       "  </thead>\n",
       "  <tbody>\n",
       "    <tr>\n",
       "      <th>0</th>\n",
       "      <td>66444.15</td>\n",
       "      <td>Ildefonso José Sánchez Barcoj</td>\n",
       "    </tr>\n",
       "    <tr>\n",
       "      <th>1</th>\n",
       "      <td>40356.29</td>\n",
       "      <td>José Antonio Moral Santín</td>\n",
       "    </tr>\n",
       "    <tr>\n",
       "      <th>2</th>\n",
       "      <td>37639.57</td>\n",
       "      <td>Carlos Vela García</td>\n",
       "    </tr>\n",
       "    <tr>\n",
       "      <th>3</th>\n",
       "      <td>37608.99</td>\n",
       "      <td>Miguel Blesa de la Parra</td>\n",
       "    </tr>\n",
       "    <tr>\n",
       "      <th>4</th>\n",
       "      <td>37472.01</td>\n",
       "      <td>Enrique de la Torre Martínez</td>\n",
       "    </tr>\n",
       "    <tr>\n",
       "      <th>5</th>\n",
       "      <td>36590.68</td>\n",
       "      <td>Matías Amat Roca</td>\n",
       "    </tr>\n",
       "    <tr>\n",
       "      <th>6</th>\n",
       "      <td>36086.89</td>\n",
       "      <td>Maria Mercedes de la Merced Monge</td>\n",
       "    </tr>\n",
       "    <tr>\n",
       "      <th>7</th>\n",
       "      <td>35901.41</td>\n",
       "      <td>Ricardo Romero de Tejada y Picatoste</td>\n",
       "    </tr>\n",
       "    <tr>\n",
       "      <th>8</th>\n",
       "      <td>35574.91</td>\n",
       "      <td>Ricardo Morado Iglesias</td>\n",
       "    </tr>\n",
       "    <tr>\n",
       "      <th>9</th>\n",
       "      <td>35136.97</td>\n",
       "      <td>Ramón Ferraz Ricarte</td>\n",
       "    </tr>\n",
       "  </tbody>\n",
       "</table>\n",
       "</div>"
      ],
      "text/plain": [
       "    importe                                nombre\n",
       "0  66444.15         Ildefonso José Sánchez Barcoj\n",
       "1  40356.29             José Antonio Moral Santín\n",
       "2  37639.57                    Carlos Vela García\n",
       "3  37608.99              Miguel Blesa de la Parra\n",
       "4  37472.01          Enrique de la Torre Martínez\n",
       "5  36590.68                      Matías Amat Roca\n",
       "6  36086.89     Maria Mercedes de la Merced Monge\n",
       "7  35901.41  Ricardo Romero de Tejada y Picatoste\n",
       "8  35574.91               Ricardo Morado Iglesias\n",
       "9  35136.97                  Ramón Ferraz Ricarte"
      ]
     },
     "execution_count": 14,
     "metadata": {},
     "output_type": "execute_result"
    }
   ],
   "source": [
    "df = pd.DataFrame(list(rs))\n",
    "df"
   ]
  },
  {
   "cell_type": "markdown",
   "metadata": {},
   "source": [
    "### ¿Que comercio es más popular?"
   ]
  },
  {
   "cell_type": "markdown",
   "metadata": {},
   "source": [
    "Este es un caso especial de agregación, ya que cuenta los distintos. Dentro del flujo de la función se realizan varios pasos para resolver esta query:\n",
    "\n",
    "- Formar un conjunto con los distintas personas que han comprado en cada comercio\n",
    "- Desagregar el conjunto\n",
    "- Agrupar los comercios, contanto los distintos elementos de cada conjunto"
   ]
  },
  {
   "cell_type": "code",
   "execution_count": 15,
   "metadata": {
    "collapsed": false
   },
   "outputs": [],
   "source": [
    "rs = db.movimientos.aggregate([\n",
    "        {\"$group\" : { \"_id\" : \"$comercio\", \"nombres\" : { \"$addToSet\" : \"$nombre\"}}},\n",
    "        {\"$unwind\" : \"$nombres\"},\n",
    "        {\"$group\" : { \"_id\" : \"$_id\", \"cuenta\" : { \"$sum\" : 1}}},\n",
    "        {\"$sort\" : {\"cuenta\" : -1}},\n",
    "        {\"$project\" : {\"_id\" : 0, \"comercio\": \"$_id\", \"cuenta\": 1}},\n",
    "        {\"$match\": {\"comercio\": { \"$exists\": True, \"$ne\": None }}},\n",
    "        {\"$limit\" : 10}\n",
    "    ])"
   ]
  },
  {
   "cell_type": "code",
   "execution_count": 16,
   "metadata": {
    "collapsed": false
   },
   "outputs": [
    {
     "data": {
      "text/html": [
       "<div>\n",
       "<style>\n",
       "    .dataframe thead tr:only-child th {\n",
       "        text-align: right;\n",
       "    }\n",
       "\n",
       "    .dataframe thead th {\n",
       "        text-align: left;\n",
       "    }\n",
       "\n",
       "    .dataframe tbody tr th {\n",
       "        vertical-align: top;\n",
       "    }\n",
       "</style>\n",
       "<table border=\"1\" class=\"dataframe\">\n",
       "  <thead>\n",
       "    <tr style=\"text-align: right;\">\n",
       "      <th></th>\n",
       "      <th>comercio</th>\n",
       "      <th>cuenta</th>\n",
       "    </tr>\n",
       "  </thead>\n",
       "  <tbody>\n",
       "    <tr>\n",
       "      <th>0</th>\n",
       "      <td>EL CORTE INGLES</td>\n",
       "      <td>47</td>\n",
       "    </tr>\n",
       "    <tr>\n",
       "      <th>1</th>\n",
       "      <td>RENFE 001</td>\n",
       "      <td>24</td>\n",
       "    </tr>\n",
       "    <tr>\n",
       "      <th>2</th>\n",
       "      <td>IBERIA</td>\n",
       "      <td>22</td>\n",
       "    </tr>\n",
       "    <tr>\n",
       "      <th>3</th>\n",
       "      <td>EL CORTE INGLES S.A.</td>\n",
       "      <td>21</td>\n",
       "    </tr>\n",
       "    <tr>\n",
       "      <th>4</th>\n",
       "      <td>VIAJES ECI</td>\n",
       "      <td>20</td>\n",
       "    </tr>\n",
       "    <tr>\n",
       "      <th>5</th>\n",
       "      <td>REST EL ESPIGON</td>\n",
       "      <td>15</td>\n",
       "    </tr>\n",
       "    <tr>\n",
       "      <th>6</th>\n",
       "      <td>FNAC CALLAO</td>\n",
       "      <td>13</td>\n",
       "    </tr>\n",
       "    <tr>\n",
       "      <th>7</th>\n",
       "      <td>APARCAMIENTO CORTES</td>\n",
       "      <td>13</td>\n",
       "    </tr>\n",
       "    <tr>\n",
       "      <th>8</th>\n",
       "      <td>ESPASA CALPE-CASA DEL LIBRO</td>\n",
       "      <td>12</td>\n",
       "    </tr>\n",
       "    <tr>\n",
       "      <th>9</th>\n",
       "      <td>E. S. HIPODROMO</td>\n",
       "      <td>12</td>\n",
       "    </tr>\n",
       "  </tbody>\n",
       "</table>\n",
       "</div>"
      ],
      "text/plain": [
       "                      comercio  cuenta\n",
       "0              EL CORTE INGLES      47\n",
       "1                    RENFE 001      24\n",
       "2                       IBERIA      22\n",
       "3         EL CORTE INGLES S.A.      21\n",
       "4                   VIAJES ECI      20\n",
       "5              REST EL ESPIGON      15\n",
       "6                  FNAC CALLAO      13\n",
       "7          APARCAMIENTO CORTES      13\n",
       "8  ESPASA CALPE-CASA DEL LIBRO      12\n",
       "9              E. S. HIPODROMO      12"
      ]
     },
     "execution_count": 16,
     "metadata": {},
     "output_type": "execute_result"
    }
   ],
   "source": [
    "df = pd.DataFrame(list(rs))\n",
    "df"
   ]
  },
  {
   "cell_type": "markdown",
   "metadata": {
    "collapsed": true
   },
   "source": [
    "Truco ...\n",
    "\n",
    "En este tipo de querys complicadas podemos ver los resultados parciales ..."
   ]
  },
  {
   "cell_type": "code",
   "execution_count": 17,
   "metadata": {
    "collapsed": false
   },
   "outputs": [
    {
     "data": {
      "text/html": [
       "<div>\n",
       "<style>\n",
       "    .dataframe thead tr:only-child th {\n",
       "        text-align: right;\n",
       "    }\n",
       "\n",
       "    .dataframe thead th {\n",
       "        text-align: left;\n",
       "    }\n",
       "\n",
       "    .dataframe tbody tr th {\n",
       "        vertical-align: top;\n",
       "    }\n",
       "</style>\n",
       "<table border=\"1\" class=\"dataframe\">\n",
       "  <thead>\n",
       "    <tr style=\"text-align: right;\">\n",
       "      <th></th>\n",
       "      <th>_id</th>\n",
       "      <th>nombres</th>\n",
       "    </tr>\n",
       "  </thead>\n",
       "  <tbody>\n",
       "    <tr>\n",
       "      <th>0</th>\n",
       "      <td>RESTAURANTE LA NICOLETA</td>\n",
       "      <td>Jorge Rábago Juan Aracil</td>\n",
       "    </tr>\n",
       "    <tr>\n",
       "      <th>1</th>\n",
       "      <td>RESTAURANTE BICE</td>\n",
       "      <td>Jorge Rábago Juan Aracil</td>\n",
       "    </tr>\n",
       "    <tr>\n",
       "      <th>2</th>\n",
       "      <td>AREA DE SERVICIO VILLAMAN</td>\n",
       "      <td>Jorge Rábago Juan Aracil</td>\n",
       "    </tr>\n",
       "    <tr>\n",
       "      <th>3</th>\n",
       "      <td>ASADOR LA VEGA</td>\n",
       "      <td>José Caballero Domínguez</td>\n",
       "    </tr>\n",
       "    <tr>\n",
       "      <th>4</th>\n",
       "      <td>PIZERIA ARS VIVENDI</td>\n",
       "      <td>José Luis Acero Benedicto</td>\n",
       "    </tr>\n",
       "  </tbody>\n",
       "</table>\n",
       "</div>"
      ],
      "text/plain": [
       "                         _id                    nombres\n",
       "0    RESTAURANTE LA NICOLETA   Jorge Rábago Juan Aracil\n",
       "1           RESTAURANTE BICE   Jorge Rábago Juan Aracil\n",
       "2  AREA DE SERVICIO VILLAMAN   Jorge Rábago Juan Aracil\n",
       "3             ASADOR LA VEGA   José Caballero Domínguez\n",
       "4        PIZERIA ARS VIVENDI  José Luis Acero Benedicto"
      ]
     },
     "execution_count": 17,
     "metadata": {},
     "output_type": "execute_result"
    }
   ],
   "source": [
    "rs = db.movimientos.aggregate([\n",
    "        {\"$group\" : { \"_id\" : \"$comercio\", \"nombres\" : { \"$addToSet\" : \"$nombre\"}}},\n",
    "        {\"$unwind\" : \"$nombres\"}\n",
    "    ])\n",
    "\n",
    "pd.DataFrame(list(rs)).head()"
   ]
  },
  {
   "cell_type": "code",
   "execution_count": null,
   "metadata": {
    "collapsed": true
   },
   "outputs": [],
   "source": []
  }
 ],
 "metadata": {
  "kernelspec": {
   "display_name": "Python 2",
   "language": "python",
   "name": "python2"
  },
  "language_info": {
   "codemirror_mode": {
    "name": "ipython",
    "version": 2
   },
   "file_extension": ".py",
   "mimetype": "text/x-python",
   "name": "python",
   "nbconvert_exporter": "python",
   "pygments_lexer": "ipython2",
   "version": "2.7.6"
  }
 },
 "nbformat": 4,
 "nbformat_minor": 0
}
