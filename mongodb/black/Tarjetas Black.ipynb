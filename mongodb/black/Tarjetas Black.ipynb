{
 "cells": [
  {
   "cell_type": "markdown",
   "metadata": {},
   "source": [
    "# MongoDB"
   ]
  },
  {
   "cell_type": "markdown",
   "metadata": {},
   "source": [
    "## Conexión con MongoDB y borrado de datos"
   ]
  },
  {
   "cell_type": "code",
   "execution_count": 1,
   "metadata": {},
   "outputs": [],
   "source": [
    "import pymongo \n",
    "from pymongo import MongoClient\n",
    "from pymongo.errors import DuplicateKeyError\n",
    "import json\n",
    "\n",
    "from pprintpp import pprint as pp"
   ]
  },
  {
   "cell_type": "code",
   "execution_count": 2,
   "metadata": {},
   "outputs": [],
   "source": [
    "# connect to database\n",
    "connection = MongoClient('localhost', 27017)"
   ]
  },
  {
   "cell_type": "code",
   "execution_count": 3,
   "metadata": {},
   "outputs": [],
   "source": [
    "# Borramos la base de datos\n",
    "connection.drop_database('black')\n",
    "\n",
    "# Pymongo permite una sintaxis practicamente igual que la original\n",
    "db = connection.black"
   ]
  },
  {
   "cell_type": "markdown",
   "metadata": {},
   "source": [
    "## Lectura en Pandas"
   ]
  },
  {
   "cell_type": "markdown",
   "metadata": {},
   "source": [
    "Leemos los datos desde el fichero Excel y los desnormalizamos"
   ]
  },
  {
   "cell_type": "code",
   "execution_count": 4,
   "metadata": {},
   "outputs": [],
   "source": [
    "import pandas as pd\n",
    "import datetime"
   ]
  },
  {
   "cell_type": "code",
   "execution_count": 5,
   "metadata": {
    "collapsed": false,
    "jupyter": {
     "outputs_hidden": false
    }
   },
   "outputs": [
    {
     "name": "stdout",
     "output_type": "stream",
     "text": [
      "<class 'pandas.core.frame.DataFrame'>\n",
      "Int64Index: 7624 entries, 0 to 7623\n",
      "Data columns (total 11 columns):\n",
      " #   Column              Non-Null Count  Dtype         \n",
      "---  ------              --------------  -----         \n",
      " 0   id_miembro          7624 non-null   int64         \n",
      " 1   fecha               7624 non-null   datetime64[ns]\n",
      " 2   hora                7624 non-null   int64         \n",
      " 3   minuto              7624 non-null   int64         \n",
      " 4   importe             7624 non-null   float64       \n",
      " 5   comercio            6823 non-null   object        \n",
      " 6   actividad_completa  7623 non-null   object        \n",
      " 7   actividad           7623 non-null   object        \n",
      " 8   nombre              7624 non-null   object        \n",
      " 9   funcion             7624 non-null   object        \n",
      " 10  organizacion        6003 non-null   object        \n",
      "dtypes: datetime64[ns](1), float64(1), int64(3), object(6)\n",
      "memory usage: 714.8+ KB\n"
     ]
    }
   ],
   "source": [
    "df_mov = pd.read_excel(\"../../data/black.xlsx\", sheet_name= \"Movimientos\")\n",
    "df_miembros = pd.read_excel(\"../../data/black.xlsx\", sheet_name= \"Miembros\")\n",
    "df = pd.merge(df_mov, df_miembros, on = ['id_miembro'], how = 'inner')\n",
    "df.info()"
   ]
  },
  {
   "cell_type": "markdown",
   "metadata": {},
   "source": [
    "## Carga en MongoDB"
   ]
  },
  {
   "cell_type": "markdown",
   "metadata": {},
   "source": [
    "Gracias a Pandas convertimos el dataset en formato JSON, que es el que vamos a insertar en MongoDB prácticamente sin cambios."
   ]
  },
  {
   "cell_type": "code",
   "execution_count": 6,
   "metadata": {},
   "outputs": [],
   "source": [
    "json_string = df.to_json(orient = 'records')\n",
    "json_list = json.loads(json_string)"
   ]
  },
  {
   "cell_type": "code",
   "execution_count": 7,
   "metadata": {
    "collapsed": false,
    "jupyter": {
     "outputs_hidden": false
    }
   },
   "outputs": [
    {
     "name": "stdout",
     "output_type": "stream",
     "text": [
      "{\n",
      "    'actividad': 'COCHE',\n",
      "    'actividad_completa': 'GARAJES Y APARCAMIENTOS',\n",
      "    'comercio': 'PARKING EGUISA C/SEVILLA',\n",
      "    'fecha': 1174435200000,\n",
      "    'funcion': 'concejal',\n",
      "    'hora': 15,\n",
      "    'id_miembro': 6,\n",
      "    'importe': 3.2,\n",
      "    'minuto': 26,\n",
      "    'nombre': 'Antonio Romero Lázaro',\n",
      "    'organizacion': 'PSOE',\n",
      "}\n"
     ]
    }
   ],
   "source": [
    "pp(json_list[0])"
   ]
  },
  {
   "cell_type": "markdown",
   "metadata": {},
   "source": [
    "En MongoDB vamos a crear una única colección donde vamos a guardar todos los datos desnormalizados:"
   ]
  },
  {
   "cell_type": "markdown",
   "metadata": {},
   "source": [
    "<img src=\"images/Modelo%20MongoDB.png\" width=300 height=100>\n",
    "\n",
    "<br><br> "
   ]
  },
  {
   "cell_type": "markdown",
   "metadata": {},
   "source": [
    "En la inserción de la información en mongo realizan algunas tareas de limpieza:\n",
    "\n",
    "- Eliminar los campos nulos (no todos)\n",
    "- Convertir la fecha a un formato DateTime, de forma que mongo inserte el dato correctamente\n",
    "- Eliminar campos que no queremos tener en el modelo (id_miembro)"
   ]
  },
  {
   "cell_type": "code",
   "execution_count": 8,
   "metadata": {
    "collapsed": false,
    "jupyter": {
     "outputs_hidden": false
    }
   },
   "outputs": [],
   "source": [
    "for movimiento_json in json_list:\n",
    "    movimiento_json['fecha'] = datetime.datetime.fromtimestamp(movimiento_json['fecha'] / 1e3)\n",
    "    \n",
    "    del movimiento_json['id_miembro']\n",
    "\n",
    "    if  movimiento_json['comercio'] == None:\n",
    "        del movimiento_json['comercio']\n",
    "    \n",
    "    db.movimientos.insert_one(movimiento_json)"
   ]
  },
  {
   "cell_type": "markdown",
   "metadata": {},
   "source": [
    "## Querys"
   ]
  },
  {
   "cell_type": "markdown",
   "metadata": {},
   "source": [
    "Todas las querys de este caso de uso se pueden resolver directamente por la base de datos ..."
   ]
  },
  {
   "cell_type": "markdown",
   "metadata": {},
   "source": [
    "### Los 10 movimientos mas caros"
   ]
  },
  {
   "cell_type": "code",
   "execution_count": 9,
   "metadata": {
    "collapsed": false,
    "jupyter": {
     "outputs_hidden": false
    }
   },
   "outputs": [],
   "source": [
    "rs = db.movimientos.find({}, {\n",
    "    \"nombre\": 1,\n",
    "    \"fecha\": 1,\n",
    "    \"actividad_completa\": 1,\n",
    "    \"importe\": 1,\n",
    "    \"_id\" : 0\n",
    "}).limit(10).sort([(\"importe\", -1)])"
   ]
  },
  {
   "cell_type": "code",
   "execution_count": 10,
   "metadata": {
    "collapsed": false,
    "jupyter": {
     "outputs_hidden": false
    }
   },
   "outputs": [
    {
     "data": {
      "text/html": [
       "<div>\n",
       "<style scoped>\n",
       "    .dataframe tbody tr th:only-of-type {\n",
       "        vertical-align: middle;\n",
       "    }\n",
       "\n",
       "    .dataframe tbody tr th {\n",
       "        vertical-align: top;\n",
       "    }\n",
       "\n",
       "    .dataframe thead th {\n",
       "        text-align: right;\n",
       "    }\n",
       "</style>\n",
       "<table border=\"1\" class=\"dataframe\">\n",
       "  <thead>\n",
       "    <tr style=\"text-align: right;\">\n",
       "      <th></th>\n",
       "      <th>fecha</th>\n",
       "      <th>importe</th>\n",
       "      <th>actividad_completa</th>\n",
       "      <th>nombre</th>\n",
       "    </tr>\n",
       "  </thead>\n",
       "  <tbody>\n",
       "    <tr>\n",
       "      <th>0</th>\n",
       "      <td>2009-12-30</td>\n",
       "      <td>16921.75</td>\n",
       "      <td>EL CORTE INGLES</td>\n",
       "      <td>Ildefonso José Sánchez Barcoj</td>\n",
       "    </tr>\n",
       "    <tr>\n",
       "      <th>1</th>\n",
       "      <td>2006-04-04</td>\n",
       "      <td>12597.26</td>\n",
       "      <td>EL CORTE INGLES</td>\n",
       "      <td>Miguel Blesa de la Parra</td>\n",
       "    </tr>\n",
       "    <tr>\n",
       "      <th>2</th>\n",
       "      <td>2003-04-03</td>\n",
       "      <td>5998.35</td>\n",
       "      <td>AGENCIAS DE VIAJES</td>\n",
       "      <td>Ramón Ferraz Ricarte</td>\n",
       "    </tr>\n",
       "    <tr>\n",
       "      <th>3</th>\n",
       "      <td>2009-08-23</td>\n",
       "      <td>5909.29</td>\n",
       "      <td>HOTELES 4 Y 5 ESTRELLAS,BALNEARIOS,CAMPI</td>\n",
       "      <td>Ramón Ferraz Ricarte</td>\n",
       "    </tr>\n",
       "    <tr>\n",
       "      <th>4</th>\n",
       "      <td>2010-12-20</td>\n",
       "      <td>4985.00</td>\n",
       "      <td>HIPERCOR SUPERMERCADOS EL CORTE INGLES</td>\n",
       "      <td>Estanislao Rodríguez-Ponga Salamanca</td>\n",
       "    </tr>\n",
       "    <tr>\n",
       "      <th>5</th>\n",
       "      <td>2006-08-02</td>\n",
       "      <td>4972.00</td>\n",
       "      <td>AGENCIAS DE VIAJES</td>\n",
       "      <td>Matías Amat Roca</td>\n",
       "    </tr>\n",
       "    <tr>\n",
       "      <th>6</th>\n",
       "      <td>2010-10-07</td>\n",
       "      <td>4336.00</td>\n",
       "      <td>AGENCIAS DE VIAJES</td>\n",
       "      <td>María Carmen Cafranga Cavestany</td>\n",
       "    </tr>\n",
       "    <tr>\n",
       "      <th>7</th>\n",
       "      <td>2010-03-25</td>\n",
       "      <td>4320.50</td>\n",
       "      <td>EL CORTE INGLES</td>\n",
       "      <td>Ildefonso José Sánchez Barcoj</td>\n",
       "    </tr>\n",
       "    <tr>\n",
       "      <th>8</th>\n",
       "      <td>2008-12-19</td>\n",
       "      <td>4218.00</td>\n",
       "      <td>JOYERIAS Y RELOJERIAS</td>\n",
       "      <td>Carmen Contreras Gómez</td>\n",
       "    </tr>\n",
       "    <tr>\n",
       "      <th>9</th>\n",
       "      <td>2007-02-11</td>\n",
       "      <td>4175.87</td>\n",
       "      <td>AIR EUROPA</td>\n",
       "      <td>Carmen Contreras Gómez</td>\n",
       "    </tr>\n",
       "  </tbody>\n",
       "</table>\n",
       "</div>"
      ],
      "text/plain": [
       "       fecha   importe                        actividad_completa  \\\n",
       "0 2009-12-30  16921.75                           EL CORTE INGLES   \n",
       "1 2006-04-04  12597.26                           EL CORTE INGLES   \n",
       "2 2003-04-03   5998.35                        AGENCIAS DE VIAJES   \n",
       "3 2009-08-23   5909.29  HOTELES 4 Y 5 ESTRELLAS,BALNEARIOS,CAMPI   \n",
       "4 2010-12-20   4985.00    HIPERCOR SUPERMERCADOS EL CORTE INGLES   \n",
       "5 2006-08-02   4972.00                        AGENCIAS DE VIAJES   \n",
       "6 2010-10-07   4336.00                        AGENCIAS DE VIAJES   \n",
       "7 2010-03-25   4320.50                           EL CORTE INGLES   \n",
       "8 2008-12-19   4218.00                     JOYERIAS Y RELOJERIAS   \n",
       "9 2007-02-11   4175.87                                AIR EUROPA   \n",
       "\n",
       "                                 nombre  \n",
       "0         Ildefonso José Sánchez Barcoj  \n",
       "1              Miguel Blesa de la Parra  \n",
       "2                  Ramón Ferraz Ricarte  \n",
       "3                  Ramón Ferraz Ricarte  \n",
       "4  Estanislao Rodríguez-Ponga Salamanca  \n",
       "5                      Matías Amat Roca  \n",
       "6       María Carmen Cafranga Cavestany  \n",
       "7         Ildefonso José Sánchez Barcoj  \n",
       "8                Carmen Contreras Gómez  \n",
       "9                Carmen Contreras Gómez  "
      ]
     },
     "execution_count": 10,
     "metadata": {},
     "output_type": "execute_result"
    }
   ],
   "source": [
    "pd.DataFrame(list(rs))"
   ]
  },
  {
   "cell_type": "markdown",
   "metadata": {},
   "source": [
    "### Los 10 movimientos mas caros por actividad"
   ]
  },
  {
   "cell_type": "code",
   "execution_count": 11,
   "metadata": {},
   "outputs": [],
   "source": [
    "rs = db.movimientos.find({\n",
    "    \"actividad\": \"HOGAR\"\n",
    "}, {\n",
    "    \"nombre\": 1,\n",
    "    \"fecha\": 1,\n",
    "    \"actividad_completa\": 1,\n",
    "    \"importe\": 1,\n",
    "    \"_id\" : 0\n",
    "}).limit(10).sort([(\"importe\", -1)])"
   ]
  },
  {
   "cell_type": "code",
   "execution_count": 12,
   "metadata": {
    "collapsed": false,
    "jupyter": {
     "outputs_hidden": false
    }
   },
   "outputs": [
    {
     "data": {
      "text/html": [
       "<div>\n",
       "<style scoped>\n",
       "    .dataframe tbody tr th:only-of-type {\n",
       "        vertical-align: middle;\n",
       "    }\n",
       "\n",
       "    .dataframe tbody tr th {\n",
       "        vertical-align: top;\n",
       "    }\n",
       "\n",
       "    .dataframe thead th {\n",
       "        text-align: right;\n",
       "    }\n",
       "</style>\n",
       "<table border=\"1\" class=\"dataframe\">\n",
       "  <thead>\n",
       "    <tr style=\"text-align: right;\">\n",
       "      <th></th>\n",
       "      <th>fecha</th>\n",
       "      <th>importe</th>\n",
       "      <th>actividad_completa</th>\n",
       "      <th>nombre</th>\n",
       "    </tr>\n",
       "  </thead>\n",
       "  <tbody>\n",
       "    <tr>\n",
       "      <th>0</th>\n",
       "      <td>2009-07-05</td>\n",
       "      <td>3512.00</td>\n",
       "      <td>ELECTRODOMESTICOS,EQUIPOS ELECTRICOS</td>\n",
       "      <td>Jesús Pedroche Nieto</td>\n",
       "    </tr>\n",
       "    <tr>\n",
       "      <th>1</th>\n",
       "      <td>2011-10-20</td>\n",
       "      <td>3061.00</td>\n",
       "      <td>MUEBLES,ANTIGUEDADES Y GALERIAS DE ARTE</td>\n",
       "      <td>Jesús Pedroche Nieto</td>\n",
       "    </tr>\n",
       "    <tr>\n",
       "      <th>2</th>\n",
       "      <td>2008-05-15</td>\n",
       "      <td>2764.19</td>\n",
       "      <td>FLORES Y PLANTAS</td>\n",
       "      <td>Francisco Baquero Noriega</td>\n",
       "    </tr>\n",
       "    <tr>\n",
       "      <th>3</th>\n",
       "      <td>2006-06-30</td>\n",
       "      <td>1217.94</td>\n",
       "      <td>IKEA</td>\n",
       "      <td>Mariano Pérez Claver</td>\n",
       "    </tr>\n",
       "    <tr>\n",
       "      <th>4</th>\n",
       "      <td>2009-01-02</td>\n",
       "      <td>1000.41</td>\n",
       "      <td>MUEBLES,ANTIGUEDADES Y GALERIAS DE ARTE</td>\n",
       "      <td>Jesús Pedroche Nieto</td>\n",
       "    </tr>\n",
       "    <tr>\n",
       "      <th>5</th>\n",
       "      <td>2011-08-22</td>\n",
       "      <td>945.82</td>\n",
       "      <td>MUEBLES,ANTIGUEDADES Y GALERIAS DE ARTE</td>\n",
       "      <td>Jesús Pedroche Nieto</td>\n",
       "    </tr>\n",
       "    <tr>\n",
       "      <th>6</th>\n",
       "      <td>2006-09-12</td>\n",
       "      <td>843.25</td>\n",
       "      <td>MUEBLES,ANTIGUEDADES Y GALERIAS DE ARTE</td>\n",
       "      <td>Maria Mercedes de la Merced Monge</td>\n",
       "    </tr>\n",
       "    <tr>\n",
       "      <th>7</th>\n",
       "      <td>2011-04-02</td>\n",
       "      <td>760.00</td>\n",
       "      <td>MUEBLES,ANTIGUEDADES Y GALERIAS DE ARTE</td>\n",
       "      <td>Ildefonso José Sánchez Barcoj</td>\n",
       "    </tr>\n",
       "    <tr>\n",
       "      <th>8</th>\n",
       "      <td>2006-07-04</td>\n",
       "      <td>620.00</td>\n",
       "      <td>MUEBLES,ANTIGUEDADES Y GALERIAS DE ARTE</td>\n",
       "      <td>Alejandro Couceiro Ojeda</td>\n",
       "    </tr>\n",
       "    <tr>\n",
       "      <th>9</th>\n",
       "      <td>2007-04-11</td>\n",
       "      <td>575.90</td>\n",
       "      <td>MATERIALES CONSTRUCCION,FONTANERIA,SANEA</td>\n",
       "      <td>Enrique de la Torre Martínez</td>\n",
       "    </tr>\n",
       "  </tbody>\n",
       "</table>\n",
       "</div>"
      ],
      "text/plain": [
       "       fecha  importe                        actividad_completa  \\\n",
       "0 2009-07-05  3512.00      ELECTRODOMESTICOS,EQUIPOS ELECTRICOS   \n",
       "1 2011-10-20  3061.00   MUEBLES,ANTIGUEDADES Y GALERIAS DE ARTE   \n",
       "2 2008-05-15  2764.19                          FLORES Y PLANTAS   \n",
       "3 2006-06-30  1217.94                                      IKEA   \n",
       "4 2009-01-02  1000.41   MUEBLES,ANTIGUEDADES Y GALERIAS DE ARTE   \n",
       "5 2011-08-22   945.82   MUEBLES,ANTIGUEDADES Y GALERIAS DE ARTE   \n",
       "6 2006-09-12   843.25   MUEBLES,ANTIGUEDADES Y GALERIAS DE ARTE   \n",
       "7 2011-04-02   760.00   MUEBLES,ANTIGUEDADES Y GALERIAS DE ARTE   \n",
       "8 2006-07-04   620.00   MUEBLES,ANTIGUEDADES Y GALERIAS DE ARTE   \n",
       "9 2007-04-11   575.90  MATERIALES CONSTRUCCION,FONTANERIA,SANEA   \n",
       "\n",
       "                              nombre  \n",
       "0               Jesús Pedroche Nieto  \n",
       "1               Jesús Pedroche Nieto  \n",
       "2          Francisco Baquero Noriega  \n",
       "3               Mariano Pérez Claver  \n",
       "4               Jesús Pedroche Nieto  \n",
       "5               Jesús Pedroche Nieto  \n",
       "6  Maria Mercedes de la Merced Monge  \n",
       "7      Ildefonso José Sánchez Barcoj  \n",
       "8           Alejandro Couceiro Ojeda  \n",
       "9       Enrique de la Torre Martínez  "
      ]
     },
     "execution_count": 12,
     "metadata": {},
     "output_type": "execute_result"
    }
   ],
   "source": [
    "pd.DataFrame(list(rs))"
   ]
  },
  {
   "cell_type": "markdown",
   "metadata": {},
   "source": [
    "### Las 10 personas que mas han gastado"
   ]
  },
  {
   "cell_type": "markdown",
   "metadata": {},
   "source": [
    "En este caso, al obtener un dato agregado, necesitamos utilizar la función **aggregate()** de mongo"
   ]
  },
  {
   "cell_type": "code",
   "execution_count": 13,
   "metadata": {
    "collapsed": false,
    "jupyter": {
     "outputs_hidden": false
    }
   },
   "outputs": [],
   "source": [
    "rs = db.movimientos.aggregate([\n",
    "        {\"$group\" : { \"_id\" : \"$nombre\", \"importe\" : { \"$sum\" : \"$importe\"}}},\n",
    "        {\"$sort\" : {\"importe\" : -1}},\n",
    "        {\"$limit\" : 10},\n",
    "        {\"$project\" : {\"_id\" : 0, \"nombre\": \"$_id\", \"importe\": 1}}\n",
    "    ])"
   ]
  },
  {
   "cell_type": "code",
   "execution_count": 14,
   "metadata": {
    "collapsed": false,
    "jupyter": {
     "outputs_hidden": false
    }
   },
   "outputs": [
    {
     "data": {
      "text/html": [
       "<div>\n",
       "<style scoped>\n",
       "    .dataframe tbody tr th:only-of-type {\n",
       "        vertical-align: middle;\n",
       "    }\n",
       "\n",
       "    .dataframe tbody tr th {\n",
       "        vertical-align: top;\n",
       "    }\n",
       "\n",
       "    .dataframe thead th {\n",
       "        text-align: right;\n",
       "    }\n",
       "</style>\n",
       "<table border=\"1\" class=\"dataframe\">\n",
       "  <thead>\n",
       "    <tr style=\"text-align: right;\">\n",
       "      <th></th>\n",
       "      <th>importe</th>\n",
       "      <th>nombre</th>\n",
       "    </tr>\n",
       "  </thead>\n",
       "  <tbody>\n",
       "    <tr>\n",
       "      <th>0</th>\n",
       "      <td>71331.33</td>\n",
       "      <td>Ildefonso José Sánchez Barcoj</td>\n",
       "    </tr>\n",
       "    <tr>\n",
       "      <th>1</th>\n",
       "      <td>60325.29</td>\n",
       "      <td>Miguel Blesa de la Parra</td>\n",
       "    </tr>\n",
       "    <tr>\n",
       "      <th>2</th>\n",
       "      <td>46435.74</td>\n",
       "      <td>Ricardo Morado Iglesias</td>\n",
       "    </tr>\n",
       "    <tr>\n",
       "      <th>3</th>\n",
       "      <td>45026.71</td>\n",
       "      <td>José Antonio Moral Santín</td>\n",
       "    </tr>\n",
       "    <tr>\n",
       "      <th>4</th>\n",
       "      <td>44438.94</td>\n",
       "      <td>Ramón Ferraz Ricarte</td>\n",
       "    </tr>\n",
       "    <tr>\n",
       "      <th>5</th>\n",
       "      <td>42663.76</td>\n",
       "      <td>Matías Amat Roca</td>\n",
       "    </tr>\n",
       "    <tr>\n",
       "      <th>6</th>\n",
       "      <td>32121.01</td>\n",
       "      <td>Mariano Pérez Claver</td>\n",
       "    </tr>\n",
       "    <tr>\n",
       "      <th>7</th>\n",
       "      <td>31558.70</td>\n",
       "      <td>Francisco Baquero Noriega</td>\n",
       "    </tr>\n",
       "    <tr>\n",
       "      <th>8</th>\n",
       "      <td>30159.02</td>\n",
       "      <td>Carmen Contreras Gómez</td>\n",
       "    </tr>\n",
       "    <tr>\n",
       "      <th>9</th>\n",
       "      <td>27954.38</td>\n",
       "      <td>Antonio Romero Lázaro</td>\n",
       "    </tr>\n",
       "  </tbody>\n",
       "</table>\n",
       "</div>"
      ],
      "text/plain": [
       "    importe                         nombre\n",
       "0  71331.33  Ildefonso José Sánchez Barcoj\n",
       "1  60325.29       Miguel Blesa de la Parra\n",
       "2  46435.74        Ricardo Morado Iglesias\n",
       "3  45026.71      José Antonio Moral Santín\n",
       "4  44438.94           Ramón Ferraz Ricarte\n",
       "5  42663.76               Matías Amat Roca\n",
       "6  32121.01           Mariano Pérez Claver\n",
       "7  31558.70      Francisco Baquero Noriega\n",
       "8  30159.02         Carmen Contreras Gómez\n",
       "9  27954.38          Antonio Romero Lázaro"
      ]
     },
     "execution_count": 14,
     "metadata": {},
     "output_type": "execute_result"
    }
   ],
   "source": [
    "df = pd.DataFrame(list(rs))\n",
    "df"
   ]
  },
  {
   "cell_type": "markdown",
   "metadata": {},
   "source": [
    "### ¿Que comercio es más popular?"
   ]
  },
  {
   "cell_type": "markdown",
   "metadata": {},
   "source": [
    "Este es un caso especial de agregación, ya que cuenta los distintos. Dentro del flujo de la función se realizan varios pasos para resolver esta query:\n",
    "\n",
    "- Formar un conjunto con los distintas personas que han comprado en cada comercio\n",
    "- Desagregar el conjunto\n",
    "- Agrupar los comercios, contanto los distintos elementos de cada conjunto"
   ]
  },
  {
   "cell_type": "code",
   "execution_count": 15,
   "metadata": {
    "collapsed": false,
    "jupyter": {
     "outputs_hidden": false
    }
   },
   "outputs": [],
   "source": [
    "rs = db.movimientos.aggregate([\n",
    "        {\"$group\" : { \"_id\" : \"$comercio\", \"nombres\" : { \"$addToSet\" : \"$nombre\"}}},\n",
    "        {\"$unwind\" : \"$nombres\"},\n",
    "        {\"$group\" : { \"_id\" : \"$_id\", \"cuenta\" : { \"$sum\" : 1}}},\n",
    "        {\"$sort\" : {\"cuenta\" : -1}},\n",
    "        {\"$project\" : {\"_id\" : 0, \"comercio\": \"$_id\", \"cuenta\": 1}},\n",
    "        {\"$match\": {\"comercio\": { \"$exists\": True, \"$ne\": None }}},\n",
    "        {\"$limit\" : 10}\n",
    "    ])"
   ]
  },
  {
   "cell_type": "code",
   "execution_count": 16,
   "metadata": {
    "collapsed": false,
    "jupyter": {
     "outputs_hidden": false
    }
   },
   "outputs": [
    {
     "data": {
      "text/html": [
       "<div>\n",
       "<style scoped>\n",
       "    .dataframe tbody tr th:only-of-type {\n",
       "        vertical-align: middle;\n",
       "    }\n",
       "\n",
       "    .dataframe tbody tr th {\n",
       "        vertical-align: top;\n",
       "    }\n",
       "\n",
       "    .dataframe thead th {\n",
       "        text-align: right;\n",
       "    }\n",
       "</style>\n",
       "<table border=\"1\" class=\"dataframe\">\n",
       "  <thead>\n",
       "    <tr style=\"text-align: right;\">\n",
       "      <th></th>\n",
       "      <th>cuenta</th>\n",
       "      <th>comercio</th>\n",
       "    </tr>\n",
       "  </thead>\n",
       "  <tbody>\n",
       "    <tr>\n",
       "      <th>0</th>\n",
       "      <td>52</td>\n",
       "      <td>EL CORTE INGLES</td>\n",
       "    </tr>\n",
       "    <tr>\n",
       "      <th>1</th>\n",
       "      <td>25</td>\n",
       "      <td>IBERIA</td>\n",
       "    </tr>\n",
       "    <tr>\n",
       "      <th>2</th>\n",
       "      <td>23</td>\n",
       "      <td>EL CORTE INGLES S.A.</td>\n",
       "    </tr>\n",
       "    <tr>\n",
       "      <th>3</th>\n",
       "      <td>22</td>\n",
       "      <td>RENFE 001</td>\n",
       "    </tr>\n",
       "    <tr>\n",
       "      <th>4</th>\n",
       "      <td>17</td>\n",
       "      <td>VIAJES ECI</td>\n",
       "    </tr>\n",
       "    <tr>\n",
       "      <th>5</th>\n",
       "      <td>15</td>\n",
       "      <td>FNAC CALLAO</td>\n",
       "    </tr>\n",
       "    <tr>\n",
       "      <th>6</th>\n",
       "      <td>14</td>\n",
       "      <td>PARKING EGUISA C/SEVILLA</td>\n",
       "    </tr>\n",
       "    <tr>\n",
       "      <th>7</th>\n",
       "      <td>13</td>\n",
       "      <td>APARCAMIENTO CORTES</td>\n",
       "    </tr>\n",
       "    <tr>\n",
       "      <th>8</th>\n",
       "      <td>12</td>\n",
       "      <td>REST EL ESPIGON</td>\n",
       "    </tr>\n",
       "    <tr>\n",
       "      <th>9</th>\n",
       "      <td>10</td>\n",
       "      <td>RESTAURANTE LA ANCHA</td>\n",
       "    </tr>\n",
       "  </tbody>\n",
       "</table>\n",
       "</div>"
      ],
      "text/plain": [
       "   cuenta                  comercio\n",
       "0      52           EL CORTE INGLES\n",
       "1      25                    IBERIA\n",
       "2      23      EL CORTE INGLES S.A.\n",
       "3      22                 RENFE 001\n",
       "4      17                VIAJES ECI\n",
       "5      15               FNAC CALLAO\n",
       "6      14  PARKING EGUISA C/SEVILLA\n",
       "7      13       APARCAMIENTO CORTES\n",
       "8      12           REST EL ESPIGON\n",
       "9      10      RESTAURANTE LA ANCHA"
      ]
     },
     "execution_count": 16,
     "metadata": {},
     "output_type": "execute_result"
    }
   ],
   "source": [
    "df = pd.DataFrame(list(rs))\n",
    "df"
   ]
  },
  {
   "cell_type": "markdown",
   "metadata": {},
   "source": [
    "Truco ...\n",
    "\n",
    "En este tipo de querys complicadas podemos ver los resultados parciales ..."
   ]
  },
  {
   "cell_type": "code",
   "execution_count": 17,
   "metadata": {
    "collapsed": false,
    "jupyter": {
     "outputs_hidden": false
    }
   },
   "outputs": [
    {
     "data": {
      "text/html": [
       "<div>\n",
       "<style scoped>\n",
       "    .dataframe tbody tr th:only-of-type {\n",
       "        vertical-align: middle;\n",
       "    }\n",
       "\n",
       "    .dataframe tbody tr th {\n",
       "        vertical-align: top;\n",
       "    }\n",
       "\n",
       "    .dataframe thead th {\n",
       "        text-align: right;\n",
       "    }\n",
       "</style>\n",
       "<table border=\"1\" class=\"dataframe\">\n",
       "  <thead>\n",
       "    <tr style=\"text-align: right;\">\n",
       "      <th></th>\n",
       "      <th>_id</th>\n",
       "      <th>nombres</th>\n",
       "    </tr>\n",
       "  </thead>\n",
       "  <tbody>\n",
       "    <tr>\n",
       "      <th>0</th>\n",
       "      <td>HOTEL BARCELO SANCTRI PET</td>\n",
       "      <td>Carlos María Martínez Martínez</td>\n",
       "    </tr>\n",
       "    <tr>\n",
       "      <th>1</th>\n",
       "      <td>BOULANGER ESPANA SL</td>\n",
       "      <td>Domingo Navalmoral Sánchez</td>\n",
       "    </tr>\n",
       "    <tr>\n",
       "      <th>2</th>\n",
       "      <td>MADRID CAMISERO</td>\n",
       "      <td>Rafael Spottorno Díaz Caro</td>\n",
       "    </tr>\n",
       "    <tr>\n",
       "      <th>3</th>\n",
       "      <td>RESTAURANTE LA ALBUFERA</td>\n",
       "      <td>Ignacio de Navasques Cobián</td>\n",
       "    </tr>\n",
       "    <tr>\n",
       "      <th>4</th>\n",
       "      <td>APARCAMIENTO PLAZA DE ESPA\u001aA</td>\n",
       "      <td>Antonio Rey de Viñas Sánchez-Majestad</td>\n",
       "    </tr>\n",
       "  </tbody>\n",
       "</table>\n",
       "</div>"
      ],
      "text/plain": [
       "                            _id                                nombres\n",
       "0     HOTEL BARCELO SANCTRI PET         Carlos María Martínez Martínez\n",
       "1           BOULANGER ESPANA SL             Domingo Navalmoral Sánchez\n",
       "2               MADRID CAMISERO             Rafael Spottorno Díaz Caro\n",
       "3       RESTAURANTE LA ALBUFERA            Ignacio de Navasques Cobián\n",
       "4  APARCAMIENTO PLAZA DE ESPA\u001aA  Antonio Rey de Viñas Sánchez-Majestad"
      ]
     },
     "execution_count": 17,
     "metadata": {},
     "output_type": "execute_result"
    }
   ],
   "source": [
    "rs = db.movimientos.aggregate([\n",
    "        {\"$group\" : { \"_id\" : \"$comercio\", \"nombres\" : { \"$addToSet\" : \"$nombre\"}}},\n",
    "        {\"$unwind\" : \"$nombres\"}\n",
    "    ])\n",
    "\n",
    "pd.DataFrame(list(rs)).head()"
   ]
  },
  {
   "cell_type": "code",
   "execution_count": null,
   "metadata": {},
   "outputs": [],
   "source": []
  }
 ],
 "metadata": {
  "kernelspec": {
   "display_name": "Python 3",
   "language": "python",
   "name": "python3"
  },
  "language_info": {
   "codemirror_mode": {
    "name": "ipython",
    "version": 3
   },
   "file_extension": ".py",
   "mimetype": "text/x-python",
   "name": "python",
   "nbconvert_exporter": "python",
   "pygments_lexer": "ipython3",
   "version": "3.6.9"
  }
 },
 "nbformat": 4,
 "nbformat_minor": 4
}
