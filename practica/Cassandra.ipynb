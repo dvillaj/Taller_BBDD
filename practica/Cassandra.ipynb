{
 "cells": [
  {
   "cell_type": "markdown",
   "metadata": {},
   "source": [
    "# Cassandra"
   ]
  },
  {
   "cell_type": "markdown",
   "metadata": {},
   "source": [
    "En **Cassandra** vamos a crear 2 tablas, una donde almacenamos los accidentes en formato desnormalizado, y otra que nos servirá para almacenar el número de accidientes por tipo.\n",
    "\n",
    "En la tabla que almacena los accidentes vamos a utilizar como **PARTITION KEY** el número de expediente y como **CLUSTERING KEY** la fecha del accidente que nos permitirá ordenar la información tal y como nos interesa para nuestro caso de uso.\n",
    "\n",
    "Adiccionalmente tendremos un índice en la tabla de accidentes que nos permitirá localizar la información por Distrito"
   ]
  },
  {
   "cell_type": "markdown",
   "metadata": {},
   "source": [
    "<br><br> \n",
    "\n",
    "<img src=\"images/Cassandra.png\" width=600 height=500>\n",
    "\n",
    "<br><br> "
   ]
  },
  {
   "cell_type": "markdown",
   "metadata": {},
   "source": [
    "## Carga de datos en Pandas"
   ]
  },
  {
   "cell_type": "code",
   "execution_count": 2,
   "metadata": {},
   "outputs": [],
   "source": [
    "import pandas as pd"
   ]
  },
  {
   "cell_type": "code",
   "execution_count": 3,
   "metadata": {},
   "outputs": [
    {
     "name": "stdout",
     "output_type": "stream",
     "text": [
      "<class 'pandas.core.frame.DataFrame'>\n",
      "RangeIndex: 614 entries, 0 to 613\n",
      "Data columns (total 5 columns):\n",
      " #   Column          Non-Null Count  Dtype         \n",
      "---  ------          --------------  -----         \n",
      " 0   num_expediente  614 non-null    object        \n",
      " 1   fecha           614 non-null    datetime64[ns]\n",
      " 2   distrito        614 non-null    object        \n",
      " 3   tipo_accidente  614 non-null    object        \n",
      " 4   sexo            614 non-null    object        \n",
      "dtypes: datetime64[ns](1), object(4)\n",
      "memory usage: 24.1+ KB\n"
     ]
    }
   ],
   "source": [
    "df = pd.read_excel(\"data/accidentes.xlsx\")\n",
    "df.info()"
   ]
  },
  {
   "cell_type": "code",
   "execution_count": 4,
   "metadata": {},
   "outputs": [
    {
     "data": {
      "text/html": [
       "<div>\n",
       "<style scoped>\n",
       "    .dataframe tbody tr th:only-of-type {\n",
       "        vertical-align: middle;\n",
       "    }\n",
       "\n",
       "    .dataframe tbody tr th {\n",
       "        vertical-align: top;\n",
       "    }\n",
       "\n",
       "    .dataframe thead th {\n",
       "        text-align: right;\n",
       "    }\n",
       "</style>\n",
       "<table border=\"1\" class=\"dataframe\">\n",
       "  <thead>\n",
       "    <tr style=\"text-align: right;\">\n",
       "      <th></th>\n",
       "      <th>num_expediente</th>\n",
       "      <th>fecha</th>\n",
       "      <th>distrito</th>\n",
       "      <th>tipo_accidente</th>\n",
       "      <th>sexo</th>\n",
       "    </tr>\n",
       "  </thead>\n",
       "  <tbody>\n",
       "    <tr>\n",
       "      <th>258</th>\n",
       "      <td>2020S008309</td>\n",
       "      <td>2020-06-15</td>\n",
       "      <td>MONCLOA-ARAVACA</td>\n",
       "      <td>Caída</td>\n",
       "      <td>Hombre</td>\n",
       "    </tr>\n",
       "    <tr>\n",
       "      <th>55</th>\n",
       "      <td>2020S003108</td>\n",
       "      <td>2020-02-08</td>\n",
       "      <td>HORTALEZA</td>\n",
       "      <td>Caída</td>\n",
       "      <td>Hombre</td>\n",
       "    </tr>\n",
       "    <tr>\n",
       "      <th>34</th>\n",
       "      <td>2020S001930</td>\n",
       "      <td>2020-01-26</td>\n",
       "      <td>HORTALEZA</td>\n",
       "      <td>Alcance</td>\n",
       "      <td>Hombre</td>\n",
       "    </tr>\n",
       "    <tr>\n",
       "      <th>126</th>\n",
       "      <td>2020S006635</td>\n",
       "      <td>2020-05-07</td>\n",
       "      <td>SAN BLAS-CANILLEJAS</td>\n",
       "      <td>Caída</td>\n",
       "      <td>Hombre</td>\n",
       "    </tr>\n",
       "    <tr>\n",
       "      <th>523</th>\n",
       "      <td>2020S013304</td>\n",
       "      <td>2020-09-23</td>\n",
       "      <td>CHAMARTÍN</td>\n",
       "      <td>Choque contra obstáculo fijo</td>\n",
       "      <td>Hombre</td>\n",
       "    </tr>\n",
       "    <tr>\n",
       "      <th>147</th>\n",
       "      <td>2020S006934</td>\n",
       "      <td>2020-05-16</td>\n",
       "      <td>VICÁLVARO</td>\n",
       "      <td>Caída</td>\n",
       "      <td>Hombre</td>\n",
       "    </tr>\n",
       "    <tr>\n",
       "      <th>3</th>\n",
       "      <td>2020S003622</td>\n",
       "      <td>2020-01-04</td>\n",
       "      <td>RETIRO</td>\n",
       "      <td>Caída</td>\n",
       "      <td>Mujer</td>\n",
       "    </tr>\n",
       "    <tr>\n",
       "      <th>285</th>\n",
       "      <td>2020S008582</td>\n",
       "      <td>2020-06-21</td>\n",
       "      <td>MORATALAZ</td>\n",
       "      <td>Caída</td>\n",
       "      <td>Hombre</td>\n",
       "    </tr>\n",
       "    <tr>\n",
       "      <th>97</th>\n",
       "      <td>2020S005360</td>\n",
       "      <td>2020-03-07</td>\n",
       "      <td>VICÁLVARO</td>\n",
       "      <td>Colisión frontal</td>\n",
       "      <td>Hombre</td>\n",
       "    </tr>\n",
       "    <tr>\n",
       "      <th>335</th>\n",
       "      <td>2020S009494</td>\n",
       "      <td>2020-07-05</td>\n",
       "      <td>MONCLOA-ARAVACA</td>\n",
       "      <td>Caída</td>\n",
       "      <td>Hombre</td>\n",
       "    </tr>\n",
       "  </tbody>\n",
       "</table>\n",
       "</div>"
      ],
      "text/plain": [
       "    num_expediente      fecha             distrito  \\\n",
       "258    2020S008309 2020-06-15      MONCLOA-ARAVACA   \n",
       "55     2020S003108 2020-02-08            HORTALEZA   \n",
       "34     2020S001930 2020-01-26            HORTALEZA   \n",
       "126    2020S006635 2020-05-07  SAN BLAS-CANILLEJAS   \n",
       "523    2020S013304 2020-09-23            CHAMARTÍN   \n",
       "147    2020S006934 2020-05-16            VICÁLVARO   \n",
       "3      2020S003622 2020-01-04               RETIRO   \n",
       "285    2020S008582 2020-06-21            MORATALAZ   \n",
       "97     2020S005360 2020-03-07            VICÁLVARO   \n",
       "335    2020S009494 2020-07-05      MONCLOA-ARAVACA   \n",
       "\n",
       "                   tipo_accidente    sexo  \n",
       "258                         Caída  Hombre  \n",
       "55                          Caída  Hombre  \n",
       "34                        Alcance  Hombre  \n",
       "126                         Caída  Hombre  \n",
       "523  Choque contra obstáculo fijo  Hombre  \n",
       "147                         Caída  Hombre  \n",
       "3                           Caída   Mujer  \n",
       "285                         Caída  Hombre  \n",
       "97               Colisión frontal  Hombre  \n",
       "335                         Caída  Hombre  "
      ]
     },
     "execution_count": 4,
     "metadata": {},
     "output_type": "execute_result"
    }
   ],
   "source": [
    "df.sample(10)"
   ]
  },
  {
   "cell_type": "markdown",
   "metadata": {},
   "source": [
    "## Creacción de Estructura en Cassandra"
   ]
  },
  {
   "cell_type": "code",
   "execution_count": 6,
   "metadata": {},
   "outputs": [],
   "source": [
    "%load_ext cql"
   ]
  },
  {
   "cell_type": "code",
   "execution_count": 7,
   "metadata": {},
   "outputs": [
    {
     "data": {
      "text/plain": [
       "'No results.'"
      ]
     },
     "execution_count": 7,
     "metadata": {},
     "output_type": "execute_result"
    }
   ],
   "source": [
    "%%cql\n",
    "DROP KEYSPACE accidentes;"
   ]
  },
  {
   "cell_type": "code",
   "execution_count": 8,
   "metadata": {},
   "outputs": [
    {
     "data": {
      "text/plain": [
       "'No results.'"
      ]
     },
     "execution_count": 8,
     "metadata": {},
     "output_type": "execute_result"
    }
   ],
   "source": [
    "%%cql\n",
    "CREATE KEYSPACE accidentes \n",
    "WITH replication = {'class':'SimpleStrategy', 'replication_factor': 1};"
   ]
  },
  {
   "cell_type": "code",
   "execution_count": 9,
   "metadata": {},
   "outputs": [
    {
     "data": {
      "text/plain": [
       "'No results.'"
      ]
     },
     "execution_count": 9,
     "metadata": {},
     "output_type": "execute_result"
    }
   ],
   "source": [
    "%cql USE accidentes;"
   ]
  },
  {
   "cell_type": "code",
   "execution_count": 10,
   "metadata": {},
   "outputs": [
    {
     "data": {
      "text/plain": [
       "'No results.'"
      ]
     },
     "execution_count": 10,
     "metadata": {},
     "output_type": "execute_result"
    }
   ],
   "source": [
    "%%cql \n",
    "CREATE TABLE acum_tipo_accidente (\n",
    "    tipo_accidente          text,\n",
    "    total         counter,\n",
    "    PRIMARY KEY (tipo_accidente)\n",
    ")"
   ]
  },
  {
   "cell_type": "code",
   "execution_count": 11,
   "metadata": {},
   "outputs": [
    {
     "data": {
      "text/plain": [
       "'No results.'"
      ]
     },
     "execution_count": 11,
     "metadata": {},
     "output_type": "execute_result"
    }
   ],
   "source": [
    "%%cql \n",
    "CREATE TABLE accidentes (\n",
    "    num_expediente   text,\n",
    "    fecha            date,\n",
    "    distrito         text,\n",
    "    tipo_accidente   text,\n",
    "    sexo             text,\n",
    "    PRIMARY KEY <<TO_BE_COMPLETED>>\n",
    ")\n",
    "WITH CLUSTERING ORDER BY (fecha DESC);"
   ]
  },
  {
   "cell_type": "code",
   "execution_count": 12,
   "metadata": {},
   "outputs": [
    {
     "data": {
      "text/plain": [
       "'No results.'"
      ]
     },
     "execution_count": 12,
     "metadata": {},
     "output_type": "execute_result"
    }
   ],
   "source": [
    "%%cql\n",
    "CREATE INDEX <<TO_BE_COMPLETED>>"
   ]
  },
  {
   "cell_type": "markdown",
   "metadata": {},
   "source": [
    "## Carga de datos en Cassandra"
   ]
  },
  {
   "cell_type": "code",
   "execution_count": 13,
   "metadata": {},
   "outputs": [],
   "source": [
    "from cassandra.cluster import Cluster, BatchStatement, ConsistencyLevel\n",
    "cluster = Cluster()\n",
    "session = cluster.connect('accidentes')"
   ]
  },
  {
   "cell_type": "code",
   "execution_count": 14,
   "metadata": {},
   "outputs": [],
   "source": [
    "import dateutil\n",
    "\n",
    "def insert_accidentes(df):\n",
    "    \n",
    "    sql_insert = \"\"\"\n",
    "INSERT INTO accidentes (\n",
    "num_expediente,\n",
    "fecha,\n",
    "distrito,\n",
    "tipo_accidente,\n",
    "sexo\n",
    ") VALUES (%s, %s, %s, %s, %s)\n",
    "\"\"\"\n",
    "\n",
    "    for index in df.index:\n",
    "        \n",
    "        data = [\n",
    "            df[\"num_expediente\"][index],\n",
    "            (df['fecha'][index]).date(),\n",
    "            df[\"distrito\"][index],\n",
    "            df[\"tipo_accidente\"][index],\n",
    "            df[\"sexo\"][index]\n",
    "        ]\n",
    "        \n",
    "        session.execute(sql_insert, data)             \n",
    "        session.execute(\"UPDATE acum_tipo_accidente SET total = total + 1 WHERE tipo_accidente = %s\", \n",
    "                        [df[\"tipo_accidente\"][index]]\n",
    "        )"
   ]
  },
  {
   "cell_type": "code",
   "execution_count": 15,
   "metadata": {},
   "outputs": [],
   "source": [
    "insert_accidentes(df)"
   ]
  },
  {
   "cell_type": "markdown",
   "metadata": {},
   "source": [
    "## Resolución del caso de uso"
   ]
  },
  {
   "cell_type": "markdown",
   "metadata": {},
   "source": [
    "### Datos del número de expediente 2020S000044"
   ]
  },
  {
   "cell_type": "code",
   "execution_count": null,
   "metadata": {},
   "outputs": [],
   "source": [
    "%%cql \n",
    "<<TO_BE_COMPLETED>>"
   ]
  },
  {
   "cell_type": "markdown",
   "metadata": {},
   "source": [
    "<img src=\"images/Cassandra-1.png\">"
   ]
  },
  {
   "cell_type": "markdown",
   "metadata": {},
   "source": [
    "### Accidentes que ocurren en el distrito de Moratalaz ordenados por fecha"
   ]
  },
  {
   "cell_type": "code",
   "execution_count": null,
   "metadata": {},
   "outputs": [],
   "source": [
    "%%cql \n",
    "<<TO_BE_COMPLETED>>"
   ]
  },
  {
   "cell_type": "markdown",
   "metadata": {},
   "source": [
    "<img src=\"images/Cassandra-2.png\">"
   ]
  },
  {
   "cell_type": "markdown",
   "metadata": {},
   "source": [
    "### Número de accidentes por tipo"
   ]
  },
  {
   "cell_type": "code",
   "execution_count": null,
   "metadata": {},
   "outputs": [],
   "source": [
    "%%cql \n",
    "<<TO_BE_COMPLETED>>"
   ]
  },
  {
   "cell_type": "markdown",
   "metadata": {},
   "source": [
    "<img src=\"images/Cassandra-3.png\">"
   ]
  },
  {
   "cell_type": "markdown",
   "metadata": {},
   "source": [
    "### Número de accidentes cuyo tipo es colisión frontal"
   ]
  },
  {
   "cell_type": "code",
   "execution_count": null,
   "metadata": {},
   "outputs": [],
   "source": [
    "%%cql\n",
    "<<TO_BE_COMPLETED>>"
   ]
  },
  {
   "cell_type": "markdown",
   "metadata": {},
   "source": [
    "<img src=\"images/Cassandra-4.png\">"
   ]
  },
  {
   "cell_type": "code",
   "execution_count": null,
   "metadata": {},
   "outputs": [],
   "source": []
  }
 ],
 "metadata": {
  "kernelspec": {
   "display_name": "Python 3",
   "language": "python",
   "name": "python3"
  },
  "language_info": {
   "codemirror_mode": {
    "name": "ipython",
    "version": 3
   },
   "file_extension": ".py",
   "mimetype": "text/x-python",
   "name": "python",
   "nbconvert_exporter": "python",
   "pygments_lexer": "ipython3",
   "version": "3.6.12"
  }
 },
 "nbformat": 4,
 "nbformat_minor": 4
}
