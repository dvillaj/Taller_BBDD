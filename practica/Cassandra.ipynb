{
 "cells": [
  {
   "cell_type": "markdown",
   "metadata": {},
   "source": [
    "# Cassandra"
   ]
  },
  {
   "cell_type": "markdown",
   "metadata": {},
   "source": [
    "En **Cassandra** vamos a crear 2 tablas, una donde almacenamos los accidentes en formato desnormalizado, y otra que nos servirá para almacenar el número de accidientes por tipo.\n",
    "\n",
    "En la tabla que almacena los accidentes vamos a utilizar como **PARTITION KEY** el número de expediente y como **CLUSTERING KEY** la fecha del accidente que nos permitirá ordenar la información tal y como nos interesa para nuestro caso de uso.\n",
    "\n",
    "Adiccionalmente tendremos un índice en la tabla de accidentes que nos permitirá localizar la información por Distrito"
   ]
  },
  {
   "cell_type": "markdown",
   "metadata": {},
   "source": [
    "<br><br> \n",
    "\n",
    "<img src=\"images/Cassandra.png\" width=600 height=500>\n",
    "\n",
    "<br><br> "
   ]
  },
  {
   "cell_type": "markdown",
   "metadata": {},
   "source": [
    "## Carga de datos en Pandas"
   ]
  },
  {
   "cell_type": "code",
   "execution_count": null,
   "metadata": {},
   "outputs": [],
   "source": [
    "import pandas as pd"
   ]
  },
  {
   "cell_type": "code",
   "execution_count": null,
   "metadata": {},
   "outputs": [],
   "source": [
    "df = pd.read_excel(\"data/accidentes.xlsx\", engine='openpyxl')\n",
    "df.info()"
   ]
  },
  {
   "cell_type": "code",
   "execution_count": null,
   "metadata": {},
   "outputs": [],
   "source": [
    "df.sample(10)"
   ]
  },
  {
   "cell_type": "markdown",
   "metadata": {},
   "source": [
    "## Creacción de Estructura en Cassandra"
   ]
  },
  {
   "cell_type": "code",
   "execution_count": null,
   "metadata": {},
   "outputs": [],
   "source": [
    "%load_ext cql"
   ]
  },
  {
   "cell_type": "code",
   "execution_count": null,
   "metadata": {},
   "outputs": [],
   "source": [
    "%%cql\n",
    "DROP KEYSPACE accidentes;"
   ]
  },
  {
   "cell_type": "code",
   "execution_count": null,
   "metadata": {},
   "outputs": [],
   "source": [
    "%%cql\n",
    "CREATE KEYSPACE accidentes \n",
    "WITH replication = {'class':'SimpleStrategy', 'replication_factor': 1};"
   ]
  },
  {
   "cell_type": "code",
   "execution_count": null,
   "metadata": {},
   "outputs": [],
   "source": [
    "%cql USE accidentes;"
   ]
  },
  {
   "cell_type": "code",
   "execution_count": null,
   "metadata": {},
   "outputs": [],
   "source": [
    "%%cql \n",
    "CREATE TABLE acum_tipo_accidente (\n",
    "    tipo_accidente          text,\n",
    "    total         counter,\n",
    "    PRIMARY KEY (tipo_accidente)\n",
    ")"
   ]
  },
  {
   "cell_type": "markdown",
   "metadata": {},
   "source": [
    "Crea la tabla accidentes de forma que se muestren los datos estén ordenados por fecha"
   ]
  },
  {
   "cell_type": "code",
   "execution_count": null,
   "metadata": {},
   "outputs": [],
   "source": [
    "%%cql \n",
    "CREATE TABLE accidentes (\n",
    "    num_expediente   text,\n",
    "    fecha            date,\n",
    "    distrito         text,\n",
    "    tipo_accidente   text,\n",
    "    sexo             text,\n",
    "    PRIMARY KEY <<COMPLETA EL CODIGO>>\n",
    ")\n",
    "WITH CLUSTERING ORDER BY (fecha DESC);"
   ]
  },
  {
   "cell_type": "markdown",
   "metadata": {},
   "source": [
    "Crea un índice para que puedas hacer búsquedas por distrito"
   ]
  },
  {
   "cell_type": "code",
   "execution_count": null,
   "metadata": {},
   "outputs": [],
   "source": [
    "%%cql\n",
    "CREATE INDEX <<COMPLETA EL CODIGO>>"
   ]
  },
  {
   "cell_type": "markdown",
   "metadata": {},
   "source": [
    "## Carga de datos en Cassandra"
   ]
  },
  {
   "cell_type": "code",
   "execution_count": null,
   "metadata": {},
   "outputs": [],
   "source": [
    "from cassandra.cluster import Cluster, BatchStatement, ConsistencyLevel\n",
    "cluster = Cluster()\n",
    "session = cluster.connect('accidentes')"
   ]
  },
  {
   "cell_type": "code",
   "execution_count": null,
   "metadata": {},
   "outputs": [],
   "source": [
    "import dateutil\n",
    "\n",
    "def insert_accidentes(df):\n",
    "    \n",
    "    sql_insert = \"\"\"\n",
    "INSERT INTO accidentes (\n",
    "num_expediente,\n",
    "fecha,\n",
    "distrito,\n",
    "tipo_accidente,\n",
    "sexo\n",
    ") VALUES (%s, %s, %s, %s, %s)\n",
    "\"\"\"\n",
    "\n",
    "    for index in df.index:\n",
    "        \n",
    "        data = [\n",
    "            df[\"num_expediente\"][index],\n",
    "            (df['fecha'][index]).date(),\n",
    "            df[\"distrito\"][index],\n",
    "            df[\"tipo_accidente\"][index],\n",
    "            df[\"sexo\"][index]\n",
    "        ]\n",
    "        \n",
    "        session.execute(sql_insert, data)             \n",
    "        session.execute(\"UPDATE acum_tipo_accidente SET total = total + 1 WHERE tipo_accidente = %s\", \n",
    "                        [df[\"tipo_accidente\"][index]]\n",
    "        )"
   ]
  },
  {
   "cell_type": "code",
   "execution_count": null,
   "metadata": {},
   "outputs": [],
   "source": [
    "insert_accidentes(df)"
   ]
  },
  {
   "cell_type": "markdown",
   "metadata": {},
   "source": [
    "## Resolución del caso de uso"
   ]
  },
  {
   "cell_type": "markdown",
   "metadata": {},
   "source": [
    "### Datos del número de expediente 2020S000044"
   ]
  },
  {
   "cell_type": "code",
   "execution_count": null,
   "metadata": {},
   "outputs": [],
   "source": [
    "%%cql \n",
    "<<COMPLETA EL CODIGO>>"
   ]
  },
  {
   "cell_type": "markdown",
   "metadata": {},
   "source": [
    "Comprueba que te muestra el siguiente resultado:"
   ]
  },
  {
   "cell_type": "markdown",
   "metadata": {},
   "source": [
    "<img src=\"images/Cassandra-1.png\">"
   ]
  },
  {
   "cell_type": "markdown",
   "metadata": {},
   "source": [
    "### Accidentes que ocurren en el distrito de Moratalaz ordenados por fecha"
   ]
  },
  {
   "cell_type": "code",
   "execution_count": null,
   "metadata": {},
   "outputs": [],
   "source": [
    "%%cql \n",
    "<<COMPLETA EL CODIGO>>"
   ]
  },
  {
   "cell_type": "markdown",
   "metadata": {},
   "source": [
    "Comprueba que te muestra el siguiente resultado:"
   ]
  },
  {
   "cell_type": "markdown",
   "metadata": {},
   "source": [
    "<img src=\"images/Cassandra-2.png\">"
   ]
  },
  {
   "cell_type": "markdown",
   "metadata": {},
   "source": [
    "### Número de accidentes por tipo"
   ]
  },
  {
   "cell_type": "code",
   "execution_count": null,
   "metadata": {},
   "outputs": [],
   "source": [
    "%%cql \n",
    "<<COMPLETA EL CODIGO>>"
   ]
  },
  {
   "cell_type": "markdown",
   "metadata": {},
   "source": [
    "Comprueba que te muestra el siguiente resultado:"
   ]
  },
  {
   "cell_type": "markdown",
   "metadata": {},
   "source": [
    "<img src=\"images/Cassandra-3.png\">"
   ]
  },
  {
   "cell_type": "markdown",
   "metadata": {},
   "source": [
    "### Número de accidentes cuyo tipo es colisión frontal"
   ]
  },
  {
   "cell_type": "code",
   "execution_count": null,
   "metadata": {},
   "outputs": [],
   "source": [
    "%%cql\n",
    "<<COMPLETA EL CODIGO>>"
   ]
  },
  {
   "cell_type": "markdown",
   "metadata": {},
   "source": [
    "Comprueba que te muestra el siguiente resultado:"
   ]
  },
  {
   "cell_type": "markdown",
   "metadata": {},
   "source": [
    "<img src=\"images/Cassandra-4.png\">"
   ]
  }
 ],
 "metadata": {
  "kernelspec": {
   "display_name": "Python 3",
   "language": "python",
   "name": "python3"
  },
  "language_info": {
   "codemirror_mode": {
    "name": "ipython",
    "version": 3
   },
   "file_extension": ".py",
   "mimetype": "text/x-python",
   "name": "python",
   "nbconvert_exporter": "python",
   "pygments_lexer": "ipython3",
   "version": "3.6.12"
  }
 },
 "nbformat": 4,
 "nbformat_minor": 4
}
