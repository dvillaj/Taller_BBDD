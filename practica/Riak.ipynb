{
 "cells": [
  {
   "cell_type": "markdown",
   "metadata": {},
   "source": [
    "# Riak"
   ]
  },
  {
   "cell_type": "code",
   "execution_count": 1,
   "metadata": {},
   "outputs": [
    {
     "data": {
      "text/html": [
       "<style>table {float:left}</style>\n"
      ],
      "text/plain": [
       "<IPython.core.display.HTML object>"
      ]
     },
     "metadata": {},
     "output_type": "display_data"
    }
   ],
   "source": [
    "%%html\n",
    "<style>table {float:left}</style>"
   ]
  },
  {
   "cell_type": "markdown",
   "metadata": {},
   "source": [
    "Vamos a utilizar un bucket para guardar todos los accidentes en formato JSON y otro para guardar la información acumulada por tipo de accidente.\n",
    "\n",
    "En el bucket de accidentes vamos a utilizar como clave el número de expediente, ya que es un valor único en nuestro dataset, y en el bucket con el total de accidentes por tipo la clave será el tipo de accidente, lo que nos permitirá recuperar rápidamente este dato.\n",
    "\n",
    "\n",
    "Se van a crear los siguientes buckets:\n",
    "\n",
    "|bucket|Clave|Contenido|\n",
    "|-|-|-|\n",
    "|**accidentes**|Número de Expediente|Todos los datos del dataset en formnato JSON|\n",
    "|**acum_tipo_accidente**|Tipo de Accidente|Contador con el número de acidentes por tipo|"
   ]
  },
  {
   "cell_type": "markdown",
   "metadata": {},
   "source": [
    "El bucket de accidentes tendrá los siguientes índices:\n",
    "\n",
    "|Nombre del índice|Contenido|¿Que busquedas permite hacer?|\n",
    "|-|-|-|\n",
    "|**idx_distrito_bin**|Distrito|Localizar todos los accdientes en un distrito|"
   ]
  },
  {
   "cell_type": "code",
   "execution_count": 2,
   "metadata": {},
   "outputs": [],
   "source": [
    "import riak\n",
    "from pprintpp import pprint as pp\n",
    "import json\n",
    "import pandas as pd"
   ]
  },
  {
   "cell_type": "markdown",
   "metadata": {},
   "source": [
    "## Carga de datos en Pandas"
   ]
  },
  {
   "cell_type": "code",
   "execution_count": 3,
   "metadata": {},
   "outputs": [
    {
     "name": "stdout",
     "output_type": "stream",
     "text": [
      "<class 'pandas.core.frame.DataFrame'>\n",
      "RangeIndex: 614 entries, 0 to 613\n",
      "Data columns (total 5 columns):\n",
      " #   Column          Non-Null Count  Dtype         \n",
      "---  ------          --------------  -----         \n",
      " 0   num_expediente  614 non-null    object        \n",
      " 1   fecha           614 non-null    datetime64[ns]\n",
      " 2   distrito        614 non-null    object        \n",
      " 3   tipo_accidente  614 non-null    object        \n",
      " 4   sexo            614 non-null    object        \n",
      "dtypes: datetime64[ns](1), object(4)\n",
      "memory usage: 24.1+ KB\n"
     ]
    }
   ],
   "source": [
    "df = pd.read_excel(\"data/accidentes.xlsx\")\n",
    "df.info()"
   ]
  },
  {
   "cell_type": "code",
   "execution_count": 4,
   "metadata": {},
   "outputs": [
    {
     "data": {
      "text/html": [
       "<div>\n",
       "<style scoped>\n",
       "    .dataframe tbody tr th:only-of-type {\n",
       "        vertical-align: middle;\n",
       "    }\n",
       "\n",
       "    .dataframe tbody tr th {\n",
       "        vertical-align: top;\n",
       "    }\n",
       "\n",
       "    .dataframe thead th {\n",
       "        text-align: right;\n",
       "    }\n",
       "</style>\n",
       "<table border=\"1\" class=\"dataframe\">\n",
       "  <thead>\n",
       "    <tr style=\"text-align: right;\">\n",
       "      <th></th>\n",
       "      <th>num_expediente</th>\n",
       "      <th>fecha</th>\n",
       "      <th>distrito</th>\n",
       "      <th>tipo_accidente</th>\n",
       "      <th>sexo</th>\n",
       "    </tr>\n",
       "  </thead>\n",
       "  <tbody>\n",
       "    <tr>\n",
       "      <th>20</th>\n",
       "      <td>2020S001078</td>\n",
       "      <td>2020-01-16</td>\n",
       "      <td>MORATALAZ</td>\n",
       "      <td>Colisión fronto-lateral</td>\n",
       "      <td>Hombre</td>\n",
       "    </tr>\n",
       "    <tr>\n",
       "      <th>249</th>\n",
       "      <td>2020S008296</td>\n",
       "      <td>2020-06-13</td>\n",
       "      <td>MONCLOA-ARAVACA</td>\n",
       "      <td>Caída</td>\n",
       "      <td>Hombre</td>\n",
       "    </tr>\n",
       "    <tr>\n",
       "      <th>528</th>\n",
       "      <td>2020S013469</td>\n",
       "      <td>2020-09-28</td>\n",
       "      <td>MONCLOA-ARAVACA</td>\n",
       "      <td>Colisión fronto-lateral</td>\n",
       "      <td>Hombre</td>\n",
       "    </tr>\n",
       "    <tr>\n",
       "      <th>581</th>\n",
       "      <td>2020S014666</td>\n",
       "      <td>2020-10-18</td>\n",
       "      <td>ARGANZUELA</td>\n",
       "      <td>Caída</td>\n",
       "      <td>Mujer</td>\n",
       "    </tr>\n",
       "    <tr>\n",
       "      <th>99</th>\n",
       "      <td>2020S005627</td>\n",
       "      <td>2020-03-09</td>\n",
       "      <td>CENTRO</td>\n",
       "      <td>Colisión fronto-lateral</td>\n",
       "      <td>Hombre</td>\n",
       "    </tr>\n",
       "    <tr>\n",
       "      <th>176</th>\n",
       "      <td>2020S007210</td>\n",
       "      <td>2020-05-24</td>\n",
       "      <td>VICÁLVARO</td>\n",
       "      <td>Caída</td>\n",
       "      <td>Hombre</td>\n",
       "    </tr>\n",
       "    <tr>\n",
       "      <th>395</th>\n",
       "      <td>2020S010446</td>\n",
       "      <td>2020-07-26</td>\n",
       "      <td>SALAMANCA</td>\n",
       "      <td>Otro</td>\n",
       "      <td>Mujer</td>\n",
       "    </tr>\n",
       "    <tr>\n",
       "      <th>127</th>\n",
       "      <td>2020S006972</td>\n",
       "      <td>2020-05-07</td>\n",
       "      <td>HORTALEZA</td>\n",
       "      <td>Caída</td>\n",
       "      <td>Mujer</td>\n",
       "    </tr>\n",
       "    <tr>\n",
       "      <th>5</th>\n",
       "      <td>2020S000996</td>\n",
       "      <td>2020-01-06</td>\n",
       "      <td>LATINA</td>\n",
       "      <td>Colisión fronto-lateral</td>\n",
       "      <td>Hombre</td>\n",
       "    </tr>\n",
       "    <tr>\n",
       "      <th>88</th>\n",
       "      <td>2020S005007</td>\n",
       "      <td>2020-03-04</td>\n",
       "      <td>FUENCARRAL-EL PARDO</td>\n",
       "      <td>Caída</td>\n",
       "      <td>Mujer</td>\n",
       "    </tr>\n",
       "  </tbody>\n",
       "</table>\n",
       "</div>"
      ],
      "text/plain": [
       "    num_expediente      fecha             distrito           tipo_accidente  \\\n",
       "20     2020S001078 2020-01-16            MORATALAZ  Colisión fronto-lateral   \n",
       "249    2020S008296 2020-06-13      MONCLOA-ARAVACA                    Caída   \n",
       "528    2020S013469 2020-09-28      MONCLOA-ARAVACA  Colisión fronto-lateral   \n",
       "581    2020S014666 2020-10-18           ARGANZUELA                    Caída   \n",
       "99     2020S005627 2020-03-09               CENTRO  Colisión fronto-lateral   \n",
       "176    2020S007210 2020-05-24            VICÁLVARO                    Caída   \n",
       "395    2020S010446 2020-07-26            SALAMANCA                     Otro   \n",
       "127    2020S006972 2020-05-07            HORTALEZA                    Caída   \n",
       "5      2020S000996 2020-01-06               LATINA  Colisión fronto-lateral   \n",
       "88     2020S005007 2020-03-04  FUENCARRAL-EL PARDO                    Caída   \n",
       "\n",
       "       sexo  \n",
       "20   Hombre  \n",
       "249  Hombre  \n",
       "528  Hombre  \n",
       "581   Mujer  \n",
       "99   Hombre  \n",
       "176  Hombre  \n",
       "395   Mujer  \n",
       "127   Mujer  \n",
       "5    Hombre  \n",
       "88    Mujer  "
      ]
     },
     "execution_count": 4,
     "metadata": {},
     "output_type": "execute_result"
    }
   ],
   "source": [
    "df.sample(10)"
   ]
  },
  {
   "cell_type": "markdown",
   "metadata": {},
   "source": [
    "## Creacción de Estructura en Riak"
   ]
  },
  {
   "cell_type": "code",
   "execution_count": 5,
   "metadata": {},
   "outputs": [
    {
     "data": {
      "text/plain": [
       "True"
      ]
     },
     "execution_count": 5,
     "metadata": {},
     "output_type": "execute_result"
    }
   ],
   "source": [
    "# connect to database\n",
    "cliente = riak.RiakClient()\n",
    "cliente.ping()"
   ]
  },
  {
   "cell_type": "code",
   "execution_count": 6,
   "metadata": {},
   "outputs": [],
   "source": [
    "BUCKET_ACCIDENTES = 'accidentes'\n",
    "BUCKET_ACUM_TIPO_ACCIDENTE = 'acum_tipo_accidente'\n",
    "\n",
    "bucket_accidentes = cliente.bucket(BUCKET_ACCIDENTES)\n",
    "bucket_acum_tipo_accidentes = cliente.bucket_type('counters').bucket(BUCKET_ACUM_TIPO_ACCIDENTE)"
   ]
  },
  {
   "cell_type": "markdown",
   "metadata": {},
   "source": [
    "Eliminamos los datos previo a la carga ..."
   ]
  },
  {
   "cell_type": "code",
   "execution_count": 11,
   "metadata": {},
   "outputs": [],
   "source": [
    "def drop_keys(bucket):\n",
    "    for keys in bucket.stream_keys():\n",
    "        for key in keys:\n",
    "            bucket.delete(key)\n",
    "            \n",
    "drop_keys(bucket_accidentes)\n",
    "drop_keys(bucket_acum_tipo_accidentes)   "
   ]
  },
  {
   "cell_type": "markdown",
   "metadata": {},
   "source": [
    "A partir de Dataframe en Pandas obtenemos un array de datos en formato JSON"
   ]
  },
  {
   "cell_type": "code",
   "execution_count": 12,
   "metadata": {},
   "outputs": [],
   "source": [
    "json_string = df.to_json(orient = 'records')\n",
    "json_list = json.loads(json_string)"
   ]
  },
  {
   "cell_type": "code",
   "execution_count": 13,
   "metadata": {},
   "outputs": [
    {
     "name": "stdout",
     "output_type": "stream",
     "text": [
      "614\n"
     ]
    }
   ],
   "source": [
    "print(len(json_list))"
   ]
  },
  {
   "cell_type": "markdown",
   "metadata": {},
   "source": [
    "Carga de los datos en RIAK ..."
   ]
  },
  {
   "cell_type": "code",
   "execution_count": 14,
   "metadata": {},
   "outputs": [],
   "source": [
    "for row_json in json_list:\n",
    "    num_expediente = row_json[\"num_expediente\"]\n",
    "    distrito = row_json[\"distrito\"]\n",
    "    \n",
    "    accidente = bucket_accidentes.new(<<TO_BE_COMPLETED>>, row_json)\n",
    "    accidente.add_index('idx_distrito_bin', <<TO_BE_COMPLETED>>)\n",
    "    accidente.store()\n",
    "    \n",
    "    tipo_accidente = row_json[\"tipo_accidente\"]\n",
    "    map_tipo_accidente = bucket_acum_tipo_accidentes.new(<<TO_BE_COMPLETED>>)\n",
    "    map_tipo_accidente.<<TO_BE_COMPLETED>>(1)\n",
    "    map_tipo_accidente.<<TO_BE_COMPLETED>>()"
   ]
  },
  {
   "cell_type": "markdown",
   "metadata": {},
   "source": [
    "Comprobamos que los datos están bien cargados mostrandos los 3 primeros registros ..."
   ]
  },
  {
   "cell_type": "code",
   "execution_count": null,
   "metadata": {},
   "outputs": [],
   "source": [
    "<TO_BE_COMPLETED>"
   ]
  },
  {
   "cell_type": "raw",
   "metadata": {},
   "source": [
    "Key; 2020S014144 / Value: {'num_expediente': '2020S014144', 'fecha': 1602288000000, 'distrito': 'TETUÁN', 'tipo_accidente': 'Alcance', 'sexo': 'Hombre'}\n",
    "Key; 2020S014000 / Value: {'num_expediente': '2020S014000', 'fecha': 1601510400000, 'distrito': 'CENTRO', 'tipo_accidente': 'Caída', 'sexo': 'Mujer'}\n",
    "Key; 2020S013873 / Value: {'num_expediente': '2020S013873', 'fecha': 1601856000000, 'distrito': 'MONCLOA-ARAVACA', 'tipo_accidente': 'Caída', 'sexo': 'Hombre'}"
   ]
  },
  {
   "cell_type": "markdown",
   "metadata": {},
   "source": [
    "\n",
    "Ahora mostramos los datos dl bucket con los datos acumulados ..."
   ]
  },
  {
   "cell_type": "code",
   "execution_count": null,
   "metadata": {},
   "outputs": [],
   "source": [
    "<TO_BE_COMPLETED>"
   ]
  },
  {
   "cell_type": "raw",
   "metadata": {},
   "source": [
    "Caída -> 281\n",
    "Colisión lateral -> 46\n",
    "Atropello a animal -> 2\n",
    "Alcance -> 78\n",
    "Colisión fronto-lateral -> 153\n",
    "Colisión frontal -> 13\n",
    "Choque contra obstáculo fijo -> 20\n",
    "Otro -> 20\n",
    "Vuelco -> 1"
   ]
  },
  {
   "cell_type": "markdown",
   "metadata": {},
   "source": [
    "## Resolución del caso de uso"
   ]
  },
  {
   "cell_type": "markdown",
   "metadata": {},
   "source": [
    "### Datos del número de expediente 2020S000044"
   ]
  },
  {
   "cell_type": "code",
   "execution_count": null,
   "metadata": {},
   "outputs": [],
   "source": [
    "<TO_BE_COMPLETED>"
   ]
  },
  {
   "cell_type": "raw",
   "metadata": {},
   "source": [
    "{'num_expediente': '2020S000044',\n",
    " 'fecha': 1577923200000,\n",
    " 'distrito': 'SAN BLAS-CANILLEJAS',\n",
    " 'tipo_accidente': 'Colisión frontal',\n",
    " 'sexo': 'Hombre'}"
   ]
  },
  {
   "cell_type": "markdown",
   "metadata": {},
   "source": [
    "### Accidentes que ocurren en el distrito de Moratalaz ordenados por fecha"
   ]
  },
  {
   "cell_type": "code",
   "execution_count": null,
   "metadata": {},
   "outputs": [],
   "source": [
    "<TO_BE_COMPLETED>"
   ]
  },
  {
   "cell_type": "raw",
   "metadata": {},
   "source": [
    "{'num_expediente': '2020S013471', 'fecha': 1601251200000, 'distrito': 'MORATALAZ', 'tipo_accidente': 'Caída', 'sexo': 'Mujer'}\n",
    "{'num_expediente': '2020S001078', 'fecha': 1579132800000, 'distrito': 'MORATALAZ', 'tipo_accidente': 'Colisión fronto-lateral', 'sexo': 'Hombre'}\n",
    "{'num_expediente': '2020S008969', 'fecha': 1593216000000, 'distrito': 'MORATALAZ', 'tipo_accidente': 'Caída', 'sexo': 'Mujer'}\n",
    "{'num_expediente': '2020S008440', 'fecha': 1592438400000, 'distrito': 'MORATALAZ', 'tipo_accidente': 'Caída', 'sexo': 'Hombre'}\n",
    "{'num_expediente': '2020S010126', 'fecha': 1595116800000, 'distrito': 'MORATALAZ', 'tipo_accidente': 'Caída', 'sexo': 'Hombre'}\n",
    "{'num_expediente': '2020S012562', 'fecha': 1599868800000, 'distrito': 'MORATALAZ', 'tipo_accidente': 'Caída', 'sexo': 'Hombre'}\n",
    "{'num_expediente': '2020S013510', 'fecha': 1601337600000, 'distrito': 'MORATALAZ', 'tipo_accidente': 'Caída', 'sexo': 'Hombre'}\n",
    "{'num_expediente': '2020S014930', 'fecha': 1603324800000, 'distrito': 'MORATALAZ', 'tipo_accidente': 'Caída', 'sexo': 'Hombre'}\n",
    "{'num_expediente': '2020S008582', 'fecha': 1592697600000, 'distrito': 'MORATALAZ', 'tipo_accidente': 'Caída', 'sexo': 'Hombre'}"
   ]
  },
  {
   "cell_type": "markdown",
   "metadata": {},
   "source": [
    "### Número de accidentes por tipo"
   ]
  },
  {
   "cell_type": "code",
   "execution_count": null,
   "metadata": {},
   "outputs": [],
   "source": [
    "<TO_BE_COMPLETED>"
   ]
  },
  {
   "cell_type": "raw",
   "metadata": {},
   "source": [
    "Vuelco -> 1\n",
    "Atropello a animal -> 2\n",
    "Alcance -> 78\n",
    "Otro -> 20\n",
    "Colisión fronto-lateral -> 153\n",
    "Colisión frontal -> 13\n",
    "Colisión lateral -> 46\n",
    "Choque contra obstáculo fijo -> 20\n",
    "Caída -> 281"
   ]
  },
  {
   "cell_type": "markdown",
   "metadata": {},
   "source": [
    "### Número de accidentes cuyo tipo es Colisión frontal"
   ]
  },
  {
   "cell_type": "code",
   "execution_count": null,
   "metadata": {},
   "outputs": [],
   "source": [
    "<TO_BE_COMPLETED>"
   ]
  },
  {
   "cell_type": "raw",
   "metadata": {},
   "source": [
    "13"
   ]
  }
 ],
 "metadata": {
  "kernelspec": {
   "display_name": "Python 3",
   "language": "python",
   "name": "python3"
  },
  "language_info": {
   "codemirror_mode": {
    "name": "ipython",
    "version": 3
   },
   "file_extension": ".py",
   "mimetype": "text/x-python",
   "name": "python",
   "nbconvert_exporter": "python",
   "pygments_lexer": "ipython3",
   "version": "3.6.9"
  }
 },
 "nbformat": 4,
 "nbformat_minor": 4
}
