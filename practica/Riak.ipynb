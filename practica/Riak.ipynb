{
 "cells": [
  {
   "cell_type": "markdown",
   "metadata": {},
   "source": [
    "# Riak"
   ]
  },
  {
   "cell_type": "code",
   "execution_count": null,
   "metadata": {},
   "outputs": [],
   "source": [
    "%%html\n",
    "<style>table {float:left}</style>"
   ]
  },
  {
   "cell_type": "markdown",
   "metadata": {},
   "source": [
    "Vamos a utilizar un bucket para guardar todos los accidentes en formato JSON y otro para guardar la información acumulada por tipo de accidente.\n",
    "\n",
    "En el bucket de accidentes vamos a utilizar como clave el número de expediente, ya que es un valor único en nuestro dataset, y en el bucket con el total de accidentes por tipo la clave será el tipo de accidente, lo que nos permitirá recuperar rápidamente este dato.\n",
    "\n",
    "\n",
    "Se van a crear los siguientes buckets:\n",
    "\n",
    "|bucket|Clave|Contenido|\n",
    "|-|-|-|\n",
    "|**accidentes**|Número de Expediente|Todos los datos del dataset en formnato JSON|\n",
    "|**acum_tipo_accidente**|Tipo de Accidente|Contador con el número de acidentes por tipo|"
   ]
  },
  {
   "cell_type": "markdown",
   "metadata": {},
   "source": [
    "El bucket de accidentes tendrá los siguientes índices:\n",
    "\n",
    "|Nombre del índice|Contenido|¿Que busquedas permite hacer?|\n",
    "|-|-|-|\n",
    "|**idx_distrito_bin**|Distrito|Localizar todos los accdientes en un distrito|"
   ]
  },
  {
   "cell_type": "code",
   "execution_count": null,
   "metadata": {},
   "outputs": [],
   "source": [
    "import riak\n",
    "from pprintpp import pprint as pp\n",
    "import pandas as pd\n",
    "import json"
   ]
  },
  {
   "cell_type": "markdown",
   "metadata": {},
   "source": [
    "## Carga de datos en Pandas"
   ]
  },
  {
   "cell_type": "code",
   "execution_count": null,
   "metadata": {},
   "outputs": [],
   "source": [
    "df = pd.read_excel(\"data/accidentes.xlsx\", engine='openpyxl')\n",
    "df.info()"
   ]
  },
  {
   "cell_type": "code",
   "execution_count": null,
   "metadata": {},
   "outputs": [],
   "source": [
    "df.sample(10)"
   ]
  },
  {
   "cell_type": "markdown",
   "metadata": {},
   "source": [
    "## Creacción de Estructura en Riak"
   ]
  },
  {
   "cell_type": "code",
   "execution_count": null,
   "metadata": {},
   "outputs": [],
   "source": [
    "# connect to database\n",
    "cliente = riak.RiakClient()\n",
    "cliente.ping()"
   ]
  },
  {
   "cell_type": "code",
   "execution_count": null,
   "metadata": {},
   "outputs": [],
   "source": [
    "BUCKET_ACCIDENTES = 'accidentes'\n",
    "BUCKET_ACUM_TIPO_ACCIDENTE = 'acum_tipo_accidente'\n",
    "\n",
    "bucket_accidentes = cliente.bucket(BUCKET_ACCIDENTES)\n",
    "bucket_acum_tipo_accidentes = cliente.bucket_type('counters').bucket(BUCKET_ACUM_TIPO_ACCIDENTE)"
   ]
  },
  {
   "cell_type": "markdown",
   "metadata": {},
   "source": [
    "Eliminamos los datos previo a la carga ..."
   ]
  },
  {
   "cell_type": "code",
   "execution_count": null,
   "metadata": {},
   "outputs": [],
   "source": [
    "# Se permiten operaciones de listado (No utilizar en PRODUCCION!)\n",
    "riak.disable_list_exceptions = True"
   ]
  },
  {
   "cell_type": "code",
   "execution_count": null,
   "metadata": {},
   "outputs": [],
   "source": [
    "def drop_keys(bucket):\n",
    "    for keys in bucket.stream_keys():\n",
    "        for key in keys:\n",
    "            bucket.delete(key)\n",
    "    \n",
    "drop_keys(bucket_accidentes)\n",
    "drop_keys(bucket_acum_tipo_accidentes)   "
   ]
  },
  {
   "cell_type": "code",
   "execution_count": null,
   "metadata": {},
   "outputs": [],
   "source": [
    "riak.disable_list_exceptions = False"
   ]
  },
  {
   "cell_type": "markdown",
   "metadata": {},
   "source": [
    "A partir de Dataframe en Pandas obtenemos un array de datos en formato JSON"
   ]
  },
  {
   "cell_type": "code",
   "execution_count": null,
   "metadata": {},
   "outputs": [],
   "source": [
    "json_string = df.to_json(orient = 'records')\n",
    "json_list = json.loads(json_string)"
   ]
  },
  {
   "cell_type": "code",
   "execution_count": null,
   "metadata": {},
   "outputs": [],
   "source": [
    "print(len(json_list))"
   ]
  },
  {
   "cell_type": "markdown",
   "metadata": {},
   "source": [
    "Completa el siguiente código para cargar los datos en RIAK ...\n",
    "\n",
    "**NOTA: Tienes que cambiar el tipo de celda a \"Codigo\" de forma que se pueda ejecutar**"
   ]
  },
  {
   "cell_type": "code",
   "execution_count": null,
   "metadata": {},
   "outputs": [],
   "source": [
    "for row_json in json_list:\n",
    "    num_expediente = row_json[\"num_expediente\"]\n",
    "    distrito = row_json[\"distrito\"]\n",
    "    \n",
    "    accidente = bucket_accidentes.new(<<COMPLETA EL CODIGO>>, row_json)\n",
    "    accidente.add_index('idx_distrito_bin', <<COMPLETA EL CODIGO>>)\n",
    "    accidente.store()\n",
    "    \n",
    "    tipo_accidente = row_json[\"tipo_accidente\"]\n",
    "    map_tipo_accidente = bucket_acum_tipo_accidentes.new(<<COMPLETA EL CODIGO>>)\n",
    "    map_tipo_accidente.<<COMPLETA EL CODIGO>>(1)\n",
    "    map_tipo_accidente.<<COMPLETA EL CODIGO>>()"
   ]
  },
  {
   "cell_type": "markdown",
   "metadata": {},
   "source": [
    "Comprobamos que los datos están bien cargados mostrandos los 3 primeros registros ..."
   ]
  },
  {
   "cell_type": "raw",
   "metadata": {},
   "source": [
    "<< COMPLETA EL CODIGO >>"
   ]
  },
  {
   "cell_type": "markdown",
   "metadata": {},
   "source": [
    "Comprueba que se muestra un resultado similar a:"
   ]
  },
  {
   "cell_type": "raw",
   "metadata": {},
   "source": [
    "Key; 2020S015041 / Value: {'num_expediente': '2020S015041', 'fecha': 1603411200000, 'distrito': 'LATINA', 'tipo_accidente': 'Caída', 'sexo': 'Hombre'}\n",
    "Key; 2020S014477 / Value: {'num_expediente': '2020S014477', 'fecha': 1602806400000, 'distrito': 'LATINA', 'tipo_accidente': 'Caída', 'sexo': 'Hombre'}\n",
    "Key; 2020S012185 / Value: {'num_expediente': '2020S012185', 'fecha': 1599350400000, 'distrito': 'TETUÁN', 'tipo_accidente': 'Colisión lateral', 'sexo': 'Hombre'}"
   ]
  },
  {
   "cell_type": "markdown",
   "metadata": {},
   "source": [
    "\n",
    "Ahora mostramos los datos del bucket con los datos acumulados ..."
   ]
  },
  {
   "cell_type": "raw",
   "metadata": {},
   "source": [
    "<< COMPLETA EL CODIGO >>"
   ]
  },
  {
   "cell_type": "markdown",
   "metadata": {},
   "source": [
    "Comprueba que se muestra el siguiente resultado (no hay que tener en cuenta el orden):"
   ]
  },
  {
   "cell_type": "raw",
   "metadata": {},
   "source": [
    "Otro -> 21\n",
    "Choque contra obstáculo fijo -> 22\n",
    "Alcance -> 80\n",
    "Atropello a animal -> 2\n",
    "Colisión lateral -> 50\n",
    "Colisión fronto-lateral -> 164\n",
    "Colisión frontal -> 19\n",
    "Atropello a persona -> 36\n",
    "Caída -> 290\n",
    "Colisión múltiple -> 1\n",
    "Vuelco -> 1"
   ]
  },
  {
   "cell_type": "markdown",
   "metadata": {},
   "source": [
    "## Resolución del caso de uso"
   ]
  },
  {
   "cell_type": "markdown",
   "metadata": {},
   "source": [
    "### Datos del número de expediente 2020S000044"
   ]
  },
  {
   "cell_type": "raw",
   "metadata": {},
   "source": [
    "<< COMPLETA EL CODIGO >>"
   ]
  },
  {
   "cell_type": "markdown",
   "metadata": {},
   "source": [
    "Comprueba que se muestra el siguiente resultado:"
   ]
  },
  {
   "cell_type": "raw",
   "metadata": {},
   "source": [
    "{'num_expediente': '2020S000044',\n",
    " 'fecha': 1577923200000,\n",
    " 'distrito': 'SAN BLAS-CANILLEJAS',\n",
    " 'tipo_accidente': 'Colisión frontal',\n",
    " 'sexo': 'Hombre'}"
   ]
  },
  {
   "cell_type": "markdown",
   "metadata": {},
   "source": [
    "### Accidentes que ocurren en el distrito de Moratalaz ordenados por fecha"
   ]
  },
  {
   "cell_type": "raw",
   "metadata": {},
   "source": [
    "<< COMPLETA EL CODIGO >>"
   ]
  },
  {
   "cell_type": "markdown",
   "metadata": {},
   "source": [
    "Comprueba que se muestra el siguiente resultado (no hay que tener en cuenta el orden):"
   ]
  },
  {
   "cell_type": "raw",
   "metadata": {},
   "source": [
    "{'num_expediente': '2020S014930', 'fecha': 1603324800000, 'distrito': 'MORATALAZ', 'tipo_accidente': 'Caída', 'sexo': 'Hombre'}\n",
    "{'num_expediente': '2020S008582', 'fecha': 1592697600000, 'distrito': 'MORATALAZ', 'tipo_accidente': 'Caída', 'sexo': 'Hombre'}\n",
    "{'num_expediente': '2020S009414', 'fecha': 1593993600000, 'distrito': 'MORATALAZ', 'tipo_accidente': 'Atropello a persona', 'sexo': 'Hombre'}\n",
    "{'num_expediente': '2020S010126', 'fecha': 1595116800000, 'distrito': 'MORATALAZ', 'tipo_accidente': 'Caída', 'sexo': 'Hombre'}\n",
    "{'num_expediente': '2020S007204', 'fecha': 1590192000000, 'distrito': 'MORATALAZ', 'tipo_accidente': 'Colisión fronto-lateral', 'sexo': 'Hombre'}\n",
    "{'num_expediente': '2020S008969', 'fecha': 1593216000000, 'distrito': 'MORATALAZ', 'tipo_accidente': 'Caída', 'sexo': 'Mujer'}\n",
    "{'num_expediente': '2020S008440', 'fecha': 1592438400000, 'distrito': 'MORATALAZ', 'tipo_accidente': 'Caída', 'sexo': 'Hombre'}\n",
    "{'num_expediente': '2020S013510', 'fecha': 1601337600000, 'distrito': 'MORATALAZ', 'tipo_accidente': 'Caída', 'sexo': 'Hombre'}\n",
    "{'num_expediente': '2020S013471', 'fecha': 1601251200000, 'distrito': 'MORATALAZ', 'tipo_accidente': 'Caída', 'sexo': 'Mujer'}\n",
    "{'num_expediente': '2020S001078', 'fecha': 1579132800000, 'distrito': 'MORATALAZ', 'tipo_accidente': 'Colisión fronto-lateral', 'sexo': 'Hombre'}\n",
    "{'num_expediente': '2020S012562', 'fecha': 1599868800000, 'distrito': 'MORATALAZ', 'tipo_accidente': 'Caída', 'sexo': 'Hombre'}"
   ]
  },
  {
   "cell_type": "markdown",
   "metadata": {},
   "source": [
    "¿Se pueden orderar for fecha?"
   ]
  },
  {
   "cell_type": "raw",
   "metadata": {},
   "source": [
    "<< TU RESPUESTA >>"
   ]
  },
  {
   "cell_type": "markdown",
   "metadata": {},
   "source": [
    "### Número de accidentes por tipo"
   ]
  },
  {
   "cell_type": "raw",
   "metadata": {},
   "source": [
    "<< COMPLETA EL CODIGO >>"
   ]
  },
  {
   "cell_type": "markdown",
   "metadata": {},
   "source": [
    "Comprueba que se muestra el siguiente resultado (no hay que tener en cuenta el orden)"
   ]
  },
  {
   "cell_type": "raw",
   "metadata": {},
   "source": [
    "Caída -> 290\n",
    "Atropello a animal -> 2\n",
    "Colisión lateral -> 50\n",
    "Colisión múltiple -> 1\n",
    "Vuelco -> 1\n",
    "Alcance -> 80\n",
    "Otro -> 21\n",
    "Colisión fronto-lateral -> 164\n",
    "Colisión frontal -> 19\n",
    "Atropello a persona -> 36\n",
    "Choque contra obstáculo fijo -> 22"
   ]
  },
  {
   "cell_type": "markdown",
   "metadata": {},
   "source": [
    "### Número de accidentes cuyo tipo es Colisión frontal"
   ]
  },
  {
   "cell_type": "raw",
   "metadata": {},
   "source": [
    "<< COMPLETA EL CODIGO >>"
   ]
  },
  {
   "cell_type": "markdown",
   "metadata": {},
   "source": [
    "Comprueba que se muestra el siguiente resultado:"
   ]
  },
  {
   "cell_type": "markdown",
   "metadata": {},
   "source": [
    "19"
   ]
  },
  {
   "cell_type": "code",
   "execution_count": null,
   "metadata": {},
   "outputs": [],
   "source": []
  }
 ],
 "metadata": {
  "kernelspec": {
   "display_name": "Python 3 (ipykernel)",
   "language": "python",
   "name": "python3"
  },
  "language_info": {
   "codemirror_mode": {
    "name": "ipython",
    "version": 3
   },
   "file_extension": ".py",
   "mimetype": "text/x-python",
   "name": "python",
   "nbconvert_exporter": "python",
   "pygments_lexer": "ipython3",
   "version": "3.8.10"
  }
 },
 "nbformat": 4,
 "nbformat_minor": 4
}
