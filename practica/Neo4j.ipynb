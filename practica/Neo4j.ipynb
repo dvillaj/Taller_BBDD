{
 "cells": [
  {
   "cell_type": "markdown",
   "metadata": {},
   "source": [
    "# Neo4j"
   ]
  },
  {
   "cell_type": "markdown",
   "metadata": {},
   "source": [
    "<br><br> \n",
    "\n",
    "<img src=\"images/neo4j.jpg\" width=600 height=500>\n",
    "\n",
    "<br><br> "
   ]
  },
  {
   "cell_type": "markdown",
   "metadata": {},
   "source": [
    "Adicionalmente se van a guardar los siguientes atributos:\n",
    "\n",
    "Nodo Persona\n",
    "\n",
    "- Sexo de la persona\n",
    "\n",
    "Nodo Accidente\n",
    "\n",
    "- Número de Expediente\n",
    "- Tipo de Accidente\n",
    "\n",
    "Nodo Lugar\n",
    "\n",
    "- Distrito donde ocurre el accidente  \n",
    "\n",
    "Relación TIENE\n",
    "- Fecha del accidente\n"
   ]
  },
  {
   "cell_type": "markdown",
   "metadata": {},
   "source": [
    "## Carga de datos en Pandas"
   ]
  },
  {
   "cell_type": "code",
   "execution_count": 1,
   "metadata": {},
   "outputs": [
    {
     "name": "stdout",
     "output_type": "stream",
     "text": [
      "<class 'pandas.core.frame.DataFrame'>\n",
      "RangeIndex: 614 entries, 0 to 613\n",
      "Data columns (total 5 columns):\n",
      " #   Column          Non-Null Count  Dtype \n",
      "---  ------          --------------  ----- \n",
      " 0   num_expediente  614 non-null    object\n",
      " 1   fecha           614 non-null    object\n",
      " 2   distrito        614 non-null    object\n",
      " 3   tipo_accidente  614 non-null    object\n",
      " 4   sexo            614 non-null    object\n",
      "dtypes: object(5)\n",
      "memory usage: 24.1+ KB\n"
     ]
    }
   ],
   "source": [
    "import pandas as pd\n",
    "\n",
    "df = pd.read_excel(\"data/accidentes.xlsx\")\n",
    "df = df.assign(fecha = lambda x: x.fecha.dt.strftime('%d-%m-%Y'))\n",
    "df.info()"
   ]
  },
  {
   "cell_type": "code",
   "execution_count": 2,
   "metadata": {},
   "outputs": [
    {
     "data": {
      "text/html": [
       "<div>\n",
       "<style scoped>\n",
       "    .dataframe tbody tr th:only-of-type {\n",
       "        vertical-align: middle;\n",
       "    }\n",
       "\n",
       "    .dataframe tbody tr th {\n",
       "        vertical-align: top;\n",
       "    }\n",
       "\n",
       "    .dataframe thead th {\n",
       "        text-align: right;\n",
       "    }\n",
       "</style>\n",
       "<table border=\"1\" class=\"dataframe\">\n",
       "  <thead>\n",
       "    <tr style=\"text-align: right;\">\n",
       "      <th></th>\n",
       "      <th>num_expediente</th>\n",
       "      <th>fecha</th>\n",
       "      <th>distrito</th>\n",
       "      <th>tipo_accidente</th>\n",
       "      <th>sexo</th>\n",
       "    </tr>\n",
       "  </thead>\n",
       "  <tbody>\n",
       "    <tr>\n",
       "      <th>604</th>\n",
       "      <td>2020S015235</td>\n",
       "      <td>28-10-2020</td>\n",
       "      <td>CHAMARTÍN</td>\n",
       "      <td>Colisión lateral</td>\n",
       "      <td>Hombre</td>\n",
       "    </tr>\n",
       "    <tr>\n",
       "      <th>117</th>\n",
       "      <td>2020S006534</td>\n",
       "      <td>03-05-2020</td>\n",
       "      <td>CENTRO</td>\n",
       "      <td>Colisión fronto-lateral</td>\n",
       "      <td>Hombre</td>\n",
       "    </tr>\n",
       "    <tr>\n",
       "      <th>471</th>\n",
       "      <td>2020S012017</td>\n",
       "      <td>02-09-2020</td>\n",
       "      <td>HORTALEZA</td>\n",
       "      <td>Caída</td>\n",
       "      <td>Hombre</td>\n",
       "    </tr>\n",
       "    <tr>\n",
       "      <th>139</th>\n",
       "      <td>2020S006713</td>\n",
       "      <td>10-05-2020</td>\n",
       "      <td>RETIRO</td>\n",
       "      <td>Colisión lateral</td>\n",
       "      <td>Hombre</td>\n",
       "    </tr>\n",
       "    <tr>\n",
       "      <th>210</th>\n",
       "      <td>2020S007681</td>\n",
       "      <td>02-06-2020</td>\n",
       "      <td>MONCLOA-ARAVACA</td>\n",
       "      <td>Caída</td>\n",
       "      <td>Hombre</td>\n",
       "    </tr>\n",
       "    <tr>\n",
       "      <th>600</th>\n",
       "      <td>2020S015044</td>\n",
       "      <td>25-10-2020</td>\n",
       "      <td>CENTRO</td>\n",
       "      <td>Alcance</td>\n",
       "      <td>Mujer</td>\n",
       "    </tr>\n",
       "    <tr>\n",
       "      <th>169</th>\n",
       "      <td>2020S007178</td>\n",
       "      <td>23-05-2020</td>\n",
       "      <td>CHAMARTÍN</td>\n",
       "      <td>Caída</td>\n",
       "      <td>Mujer</td>\n",
       "    </tr>\n",
       "    <tr>\n",
       "      <th>329</th>\n",
       "      <td>2020S009334</td>\n",
       "      <td>04-07-2020</td>\n",
       "      <td>SAN BLAS-CANILLEJAS</td>\n",
       "      <td>Alcance</td>\n",
       "      <td>Hombre</td>\n",
       "    </tr>\n",
       "    <tr>\n",
       "      <th>286</th>\n",
       "      <td>2020S008610</td>\n",
       "      <td>21-06-2020</td>\n",
       "      <td>FUENCARRAL-EL PARDO</td>\n",
       "      <td>Caída</td>\n",
       "      <td>Hombre</td>\n",
       "    </tr>\n",
       "    <tr>\n",
       "      <th>189</th>\n",
       "      <td>2020S007414</td>\n",
       "      <td>27-05-2020</td>\n",
       "      <td>CENTRO</td>\n",
       "      <td>Alcance</td>\n",
       "      <td>Mujer</td>\n",
       "    </tr>\n",
       "  </tbody>\n",
       "</table>\n",
       "</div>"
      ],
      "text/plain": [
       "    num_expediente       fecha             distrito           tipo_accidente  \\\n",
       "604    2020S015235  28-10-2020            CHAMARTÍN         Colisión lateral   \n",
       "117    2020S006534  03-05-2020               CENTRO  Colisión fronto-lateral   \n",
       "471    2020S012017  02-09-2020            HORTALEZA                    Caída   \n",
       "139    2020S006713  10-05-2020               RETIRO         Colisión lateral   \n",
       "210    2020S007681  02-06-2020      MONCLOA-ARAVACA                    Caída   \n",
       "600    2020S015044  25-10-2020               CENTRO                  Alcance   \n",
       "169    2020S007178  23-05-2020            CHAMARTÍN                    Caída   \n",
       "329    2020S009334  04-07-2020  SAN BLAS-CANILLEJAS                  Alcance   \n",
       "286    2020S008610  21-06-2020  FUENCARRAL-EL PARDO                    Caída   \n",
       "189    2020S007414  27-05-2020               CENTRO                  Alcance   \n",
       "\n",
       "       sexo  \n",
       "604  Hombre  \n",
       "117  Hombre  \n",
       "471  Hombre  \n",
       "139  Hombre  \n",
       "210  Hombre  \n",
       "600   Mujer  \n",
       "169   Mujer  \n",
       "329  Hombre  \n",
       "286  Hombre  \n",
       "189   Mujer  "
      ]
     },
     "execution_count": 2,
     "metadata": {},
     "output_type": "execute_result"
    }
   ],
   "source": [
    "df.sample(10)"
   ]
  },
  {
   "cell_type": "markdown",
   "metadata": {},
   "source": [
    "## Carga de datos en Neo4j"
   ]
  },
  {
   "cell_type": "code",
   "execution_count": 3,
   "metadata": {},
   "outputs": [],
   "source": [
    "%load_ext cypher"
   ]
  },
  {
   "cell_type": "code",
   "execution_count": 4,
   "metadata": {},
   "outputs": [
    {
     "name": "stdout",
     "output_type": "stream",
     "text": [
      "637 nodes deleted.\n",
      "1228 relationship deleted.\n"
     ]
    },
    {
     "data": {
      "text/html": [
       "<table>\n",
       "    <tr>\n",
       "    </tr>\n",
       "</table>"
      ],
      "text/plain": [
       "[]"
      ]
     },
     "execution_count": 4,
     "metadata": {},
     "output_type": "execute_result"
    }
   ],
   "source": [
    "%%cypher\n",
    "MATCH (n)\n",
    "OPTIONAL MATCH (n)-[r]-()\n",
    "DELETE n,r"
   ]
  },
  {
   "cell_type": "code",
   "execution_count": 5,
   "metadata": {},
   "outputs": [],
   "source": [
    "from py2neo import Graph, Node, Relationship\n",
    "\n",
    "graph = Graph()"
   ]
  },
  {
   "cell_type": "code",
   "execution_count": 6,
   "metadata": {},
   "outputs": [],
   "source": [
    "import json\n",
    "\n",
    "json_string = df.to_json(orient = 'records')\n",
    "json_list = json.loads(json_string)"
   ]
  },
  {
   "cell_type": "code",
   "execution_count": 7,
   "metadata": {},
   "outputs": [
    {
     "name": "stdout",
     "output_type": "stream",
     "text": [
      "0\n",
      "100\n",
      "200\n",
      "300\n",
      "400\n",
      "500\n",
      "600\n"
     ]
    }
   ],
   "source": [
    "for index, row_json in enumerate(json_list):\n",
    "    \n",
    "    tipo_accidente_value = row_json[\"tipo_accidente\"]\n",
    "    num_expediente_value =row_json[\"num_expediente\"]\n",
    "    distrito_value = row_json[\"distrito\"]\n",
    "    sexo_value = row_json[\"sexo\"]\n",
    "    fecha_value = row_json[\"fecha\"]\n",
    "    \n",
    "    # Nodos\n",
    "    persona = Node(<<TO_BE_COMPLETED>>)\n",
    "    accidente = Node(<<TO_BE_COMPLETED>>)\n",
    "    lugar = Node(<<TO_BE_COMPLETED>>)\n",
    "\n",
    "    \n",
    "    # Relaciones\n",
    "    rel_accidente_persona = Relationship(<<TO_BE_COMPLETED>>)\n",
    "    rel_accidente_lugar = Relationship(<<TO_BE_COMPLETED>>)\n",
    "       \n",
    "    graph.merge(persona | lugar)\n",
    "    graph.create(accidente | rel_accidente_persona | rel_accidente_lugar)\n",
    "    \n",
    "    if index % 100 == 0:\n",
    "        print(index)"
   ]
  },
  {
   "cell_type": "markdown",
   "metadata": {},
   "source": [
    "## Resolución del caso de uso"
   ]
  },
  {
   "cell_type": "markdown",
   "metadata": {},
   "source": [
    "%%cypher\n",
    "<<TO_BE_COMPLETED>>### Datos del número de expediente 2020S000044"
   ]
  },
  {
   "cell_type": "code",
   "execution_count": null,
   "metadata": {},
   "outputs": [],
   "source": [
    "%%cypher\n",
    "<<TO_BE_COMPLETED>>"
   ]
  },
  {
   "cell_type": "markdown",
   "metadata": {},
   "source": [
    "<img src=\"images/Neo4j-1.png\"> "
   ]
  },
  {
   "cell_type": "markdown",
   "metadata": {},
   "source": [
    "### Accidentes que ocurren en el distrito de Moratalaz ordenados por fecha"
   ]
  },
  {
   "cell_type": "code",
   "execution_count": null,
   "metadata": {},
   "outputs": [],
   "source": [
    "%%cypher\n",
    "<<TO_BE_COMPLETED>>"
   ]
  },
  {
   "cell_type": "markdown",
   "metadata": {},
   "source": [
    "<img src=\"images/Neo4j-2.png\"> "
   ]
  },
  {
   "cell_type": "markdown",
   "metadata": {},
   "source": [
    "### Número de accidentes por tipo"
   ]
  },
  {
   "cell_type": "code",
   "execution_count": null,
   "metadata": {},
   "outputs": [],
   "source": [
    "%%cypher\n",
    "<<TO_BE_COMPLETED>>"
   ]
  },
  {
   "cell_type": "markdown",
   "metadata": {},
   "source": [
    "<img src=\"images/Neo4j-3.png\">"
   ]
  },
  {
   "cell_type": "markdown",
   "metadata": {},
   "source": [
    "### Número de accidentes cuyo tipo es colisión frontal"
   ]
  },
  {
   "cell_type": "code",
   "execution_count": null,
   "metadata": {},
   "outputs": [],
   "source": [
    "%%cypher\n",
    "<<TO_BE_COMPLETED>>"
   ]
  },
  {
   "cell_type": "markdown",
   "metadata": {},
   "source": [
    "<img src=\"images/Neo4j-4.png\">"
   ]
  }
 ],
 "metadata": {
  "kernelspec": {
   "display_name": "Python 3",
   "language": "python",
   "name": "python3"
  },
  "language_info": {
   "codemirror_mode": {
    "name": "ipython",
    "version": 3
   },
   "file_extension": ".py",
   "mimetype": "text/x-python",
   "name": "python",
   "nbconvert_exporter": "python",
   "pygments_lexer": "ipython3",
   "version": "3.6.9"
  }
 },
 "nbformat": 4,
 "nbformat_minor": 4
}
