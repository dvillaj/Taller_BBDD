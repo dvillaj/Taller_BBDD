{
 "cells": [
  {
   "cell_type": "markdown",
   "metadata": {},
   "source": [
    "# Accidentes de tráfico con implicación de bicicletas"
   ]
  },
  {
   "cell_type": "markdown",
   "metadata": {},
   "source": [
    "![Accidente Bicicleta](images/acidente-bicicleta.png)"
   ]
  },
  {
   "cell_type": "markdown",
   "metadata": {},
   "source": [
    "Vamos a utilizar un dataset de accidentes de tráfico de bicicletas que provienen del portal de datos abiertos de Madrid\n",
    "\n",
    "https://datos.madrid.es/portal/site/egob/menuitem.c05c1f754a33a9fbe4b2e4b284f1a5a0/?vgnextoid=20f4a87ebb65b510VgnVCM1000001d4a900aRCRD&vgnextchannel=374512b9ace9f310VgnVCM100000171f5a0aRCRD&vgnextfmt=default\n"
   ]
  },
  {
   "cell_type": "markdown",
   "metadata": {},
   "source": [
    "Una vez preprocesados los datos tendremos un dataset con los siguientes campos:\n",
    "\n",
    "\n",
    "- Número de expediente del accidente\n",
    "- Fecha del accidente\n",
    "- Distrito donde ha ocurrido el accidente\n",
    "- Tipo de accidente\n",
    "- Sexo de la persona que ha tenido el accidente\n",
    "    \n",
    "\n",
    "Vamos a intentar resolver las siguientes preguntas:\n",
    "\n",
    "- Datos del número de expediente 2020S000044\n",
    "- Accidentes que ocurren en el distrito de Moratalaz ordenados por fecha (Descendente)\n",
    "- Número de accidentes por tipo de accidente (sin ningún orden establecido)\n",
    "- Número de accidentes cuyo tipo es Colisión frontal\n",
    "\n",
    "Preprocesado de datos\n",
    "\n",
    "Se realizará un preprocesado de datos cuyo objetico es limpiar, simplificar y normalizar los datos para que la prática resulte más sencilla\n",
    "\n",
    "El formato de salida será un fichero Microsoft Excel que contendrá los datos limpios.\n",
    "\n"
   ]
  },
  {
   "cell_type": "markdown",
   "metadata": {},
   "source": [
    "## Carga de datos"
   ]
  },
  {
   "cell_type": "code",
   "execution_count": 2,
   "metadata": {},
   "outputs": [],
   "source": [
    "import pandas as pd"
   ]
  },
  {
   "cell_type": "markdown",
   "metadata": {},
   "source": [
    "Leemos los datos ..."
   ]
  },
  {
   "cell_type": "code",
   "execution_count": 81,
   "metadata": {},
   "outputs": [],
   "source": [
    "df = pd.read_csv(\"data/AccidentesBicicletas_2020.txt\", delimiter=\";\")"
   ]
  },
  {
   "cell_type": "markdown",
   "metadata": {},
   "source": [
    "## Exploración y limpieza"
   ]
  },
  {
   "cell_type": "markdown",
   "metadata": {},
   "source": [
    "Limpiamos los datos ..."
   ]
  },
  {
   "cell_type": "code",
   "execution_count": 82,
   "metadata": {},
   "outputs": [
    {
     "name": "stdout",
     "output_type": "stream",
     "text": [
      "<class 'pandas.core.frame.DataFrame'>\n",
      "RangeIndex: 775 entries, 0 to 774\n",
      "Data columns (total 13 columns):\n",
      " #   Column               Non-Null Count  Dtype  \n",
      "---  ------               --------------  -----  \n",
      " 0   NumExpediente        775 non-null    object \n",
      " 1   Fecha                775 non-null    object \n",
      " 2   Hora                 775 non-null    object \n",
      " 3   Calle                775 non-null    object \n",
      " 4   Numero               775 non-null    object \n",
      " 5   Distrito             775 non-null    object \n",
      " 6   TipoAccidente        775 non-null    object \n",
      " 7   EstadoMetereologico  759 non-null    object \n",
      " 8   TipoVehiculo         775 non-null    object \n",
      " 9   TipoPersona          775 non-null    object \n",
      " 10  RangoEdad            775 non-null    object \n",
      " 11  Sexo                 763 non-null    object \n",
      " 12  Lesividad            684 non-null    float64\n",
      "dtypes: float64(1), object(12)\n",
      "memory usage: 78.8+ KB\n"
     ]
    }
   ],
   "source": [
    "df.info()"
   ]
  },
  {
   "cell_type": "code",
   "execution_count": 83,
   "metadata": {},
   "outputs": [
    {
     "name": "stdout",
     "output_type": "stream",
     "text": [
      "<class 'pandas.core.frame.DataFrame'>\n",
      "RangeIndex: 775 entries, 0 to 774\n",
      "Data columns (total 5 columns):\n",
      " #   Column          Non-Null Count  Dtype         \n",
      "---  ------          --------------  -----         \n",
      " 0   num_expediente  775 non-null    object        \n",
      " 1   fecha           775 non-null    datetime64[ns]\n",
      " 2   distrito        775 non-null    object        \n",
      " 3   tipo_accidente  775 non-null    object        \n",
      " 4   sexo            763 non-null    object        \n",
      "dtypes: datetime64[ns](1), object(4)\n",
      "memory usage: 30.4+ KB\n"
     ]
    }
   ],
   "source": [
    "df = (df\n",
    "    .assign(Fecha = pd.to_datetime(df.Fecha, format=\"%d/%m/%Y\"),\n",
    "               Min = pd.to_numeric(df.Hora.str.split(\":\").str.get(1)),\n",
    "               Hora = pd.to_numeric(df.Hora.str.split(\":\").str.get(0))\n",
    "              )\n",
    "    .filter([\"NumExpediente\", \"Fecha\", \"Distrito\", \"TipoAccidente\", \"Sexo\"])\n",
    "    # Ponemos las columnas en minúsculas para no se inserten en Postgres con Dobles Comillas\n",
    "    .rename(columns = {\"NumExpediente\" : \"num_expediente\",\n",
    "                           \"Fecha\" : \"fecha\",\n",
    "                           \"Distrito\": \"distrito\",\n",
    "                           \"TipoAccidente\" : \"tipo_accidente\",\n",
    "                           \"Sexo\": \"sexo\"}\n",
    "              )\n",
    ")    \n",
    "df.info()"
   ]
  },
  {
   "cell_type": "code",
   "execution_count": 84,
   "metadata": {},
   "outputs": [
    {
     "data": {
      "text/html": [
       "<div>\n",
       "<style scoped>\n",
       "    .dataframe tbody tr th:only-of-type {\n",
       "        vertical-align: middle;\n",
       "    }\n",
       "\n",
       "    .dataframe tbody tr th {\n",
       "        vertical-align: top;\n",
       "    }\n",
       "\n",
       "    .dataframe thead th {\n",
       "        text-align: right;\n",
       "    }\n",
       "</style>\n",
       "<table border=\"1\" class=\"dataframe\">\n",
       "  <thead>\n",
       "    <tr style=\"text-align: right;\">\n",
       "      <th></th>\n",
       "      <th>num_expediente</th>\n",
       "      <th>fecha</th>\n",
       "      <th>distrito</th>\n",
       "      <th>tipo_accidente</th>\n",
       "      <th>sexo</th>\n",
       "    </tr>\n",
       "  </thead>\n",
       "  <tbody>\n",
       "    <tr>\n",
       "      <th>734</th>\n",
       "      <td>2020S014646</td>\n",
       "      <td>2020-10-18</td>\n",
       "      <td>TETUÁN</td>\n",
       "      <td>Alcance</td>\n",
       "      <td>Hombre</td>\n",
       "    </tr>\n",
       "    <tr>\n",
       "      <th>620</th>\n",
       "      <td>2020S012221</td>\n",
       "      <td>2020-09-08</td>\n",
       "      <td>SAN BLAS-CANILLEJAS</td>\n",
       "      <td>Colisión fronto-lateral</td>\n",
       "      <td>Hombre</td>\n",
       "    </tr>\n",
       "    <tr>\n",
       "      <th>654</th>\n",
       "      <td>2020S012877</td>\n",
       "      <td>2020-09-18</td>\n",
       "      <td>CENTRO</td>\n",
       "      <td>Caída</td>\n",
       "      <td>Hombre</td>\n",
       "    </tr>\n",
       "    <tr>\n",
       "      <th>625</th>\n",
       "      <td>2020S012398</td>\n",
       "      <td>2020-09-10</td>\n",
       "      <td>RETIRO</td>\n",
       "      <td>Caída</td>\n",
       "      <td>Hombre</td>\n",
       "    </tr>\n",
       "    <tr>\n",
       "      <th>531</th>\n",
       "      <td>2020S011015</td>\n",
       "      <td>2020-08-07</td>\n",
       "      <td>CIUDAD LINEAL</td>\n",
       "      <td>Choque contra obstáculo fijo</td>\n",
       "      <td>Hombre</td>\n",
       "    </tr>\n",
       "    <tr>\n",
       "      <th>633</th>\n",
       "      <td>2020S012552</td>\n",
       "      <td>2020-09-13</td>\n",
       "      <td>PUENTE DE VALLECAS</td>\n",
       "      <td>Caída</td>\n",
       "      <td>Hombre</td>\n",
       "    </tr>\n",
       "    <tr>\n",
       "      <th>26</th>\n",
       "      <td>2020S001078</td>\n",
       "      <td>2020-01-16</td>\n",
       "      <td>MORATALAZ</td>\n",
       "      <td>Colisión fronto-lateral</td>\n",
       "      <td>Hombre</td>\n",
       "    </tr>\n",
       "    <tr>\n",
       "      <th>210</th>\n",
       "      <td>2020S007156</td>\n",
       "      <td>2020-05-23</td>\n",
       "      <td>CENTRO</td>\n",
       "      <td>Alcance</td>\n",
       "      <td>Hombre</td>\n",
       "    </tr>\n",
       "    <tr>\n",
       "      <th>350</th>\n",
       "      <td>2020S008526</td>\n",
       "      <td>2020-06-20</td>\n",
       "      <td>ARGANZUELA</td>\n",
       "      <td>Caída</td>\n",
       "      <td>Hombre</td>\n",
       "    </tr>\n",
       "    <tr>\n",
       "      <th>328</th>\n",
       "      <td>2020S008333</td>\n",
       "      <td>2020-06-16</td>\n",
       "      <td>CHAMARTÍN</td>\n",
       "      <td>Caída</td>\n",
       "      <td>Mujer</td>\n",
       "    </tr>\n",
       "  </tbody>\n",
       "</table>\n",
       "</div>"
      ],
      "text/plain": [
       "    num_expediente      fecha             distrito  \\\n",
       "734    2020S014646 2020-10-18               TETUÁN   \n",
       "620    2020S012221 2020-09-08  SAN BLAS-CANILLEJAS   \n",
       "654    2020S012877 2020-09-18               CENTRO   \n",
       "625    2020S012398 2020-09-10               RETIRO   \n",
       "531    2020S011015 2020-08-07        CIUDAD LINEAL   \n",
       "633    2020S012552 2020-09-13   PUENTE DE VALLECAS   \n",
       "26     2020S001078 2020-01-16            MORATALAZ   \n",
       "210    2020S007156 2020-05-23               CENTRO   \n",
       "350    2020S008526 2020-06-20           ARGANZUELA   \n",
       "328    2020S008333 2020-06-16            CHAMARTÍN   \n",
       "\n",
       "                   tipo_accidente    sexo  \n",
       "734                       Alcance  Hombre  \n",
       "620       Colisión fronto-lateral  Hombre  \n",
       "654                         Caída  Hombre  \n",
       "625                         Caída  Hombre  \n",
       "531  Choque contra obstáculo fijo  Hombre  \n",
       "633                         Caída  Hombre  \n",
       "26        Colisión fronto-lateral  Hombre  \n",
       "210                       Alcance  Hombre  \n",
       "350                         Caída  Hombre  \n",
       "328                         Caída   Mujer  "
      ]
     },
     "execution_count": 84,
     "metadata": {},
     "output_type": "execute_result"
    }
   ],
   "source": [
    "df.sample(10)"
   ]
  },
  {
   "cell_type": "markdown",
   "metadata": {},
   "source": [
    "Eliminamos los expedientes duplicados / datos nulos para simplificar el ejemplo ..."
   ]
  },
  {
   "cell_type": "code",
   "execution_count": 87,
   "metadata": {},
   "outputs": [],
   "source": [
    "df = (df\n",
    "    .drop_duplicates([\"num_expediente\"])\n",
    "    .query(\"sexo.notnull()\")\n",
    "    .reset_index(drop = True)\n",
    ")   "
   ]
  },
  {
   "cell_type": "code",
   "execution_count": 88,
   "metadata": {},
   "outputs": [
    {
     "name": "stdout",
     "output_type": "stream",
     "text": [
      "<class 'pandas.core.frame.DataFrame'>\n",
      "RangeIndex: 686 entries, 0 to 685\n",
      "Data columns (total 5 columns):\n",
      " #   Column          Non-Null Count  Dtype         \n",
      "---  ------          --------------  -----         \n",
      " 0   num_expediente  686 non-null    object        \n",
      " 1   fecha           686 non-null    datetime64[ns]\n",
      " 2   distrito        686 non-null    object        \n",
      " 3   tipo_accidente  686 non-null    object        \n",
      " 4   sexo            686 non-null    object        \n",
      "dtypes: datetime64[ns](1), object(4)\n",
      "memory usage: 26.9+ KB\n"
     ]
    }
   ],
   "source": [
    "df.info()"
   ]
  },
  {
   "cell_type": "code",
   "execution_count": 90,
   "metadata": {},
   "outputs": [
    {
     "data": {
      "text/html": [
       "<div>\n",
       "<style scoped>\n",
       "    .dataframe tbody tr th:only-of-type {\n",
       "        vertical-align: middle;\n",
       "    }\n",
       "\n",
       "    .dataframe tbody tr th {\n",
       "        vertical-align: top;\n",
       "    }\n",
       "\n",
       "    .dataframe thead th {\n",
       "        text-align: right;\n",
       "    }\n",
       "</style>\n",
       "<table border=\"1\" class=\"dataframe\">\n",
       "  <thead>\n",
       "    <tr style=\"text-align: right;\">\n",
       "      <th></th>\n",
       "      <th>num_expediente</th>\n",
       "      <th>fecha</th>\n",
       "      <th>distrito</th>\n",
       "      <th>tipo_accidente</th>\n",
       "      <th>sexo</th>\n",
       "    </tr>\n",
       "  </thead>\n",
       "  <tbody>\n",
       "    <tr>\n",
       "      <th>0</th>\n",
       "      <td>2020S000044</td>\n",
       "      <td>2020-01-02</td>\n",
       "      <td>SAN BLAS-CANILLEJAS</td>\n",
       "      <td>Colisión frontal</td>\n",
       "      <td>Hombre</td>\n",
       "    </tr>\n",
       "    <tr>\n",
       "      <th>1</th>\n",
       "      <td>2020S000151</td>\n",
       "      <td>2020-01-04</td>\n",
       "      <td>TETUÁN</td>\n",
       "      <td>Caída</td>\n",
       "      <td>Hombre</td>\n",
       "    </tr>\n",
       "    <tr>\n",
       "      <th>2</th>\n",
       "      <td>2020S000212</td>\n",
       "      <td>2020-01-04</td>\n",
       "      <td>FUENCARRAL-EL PARDO</td>\n",
       "      <td>Caída</td>\n",
       "      <td>Hombre</td>\n",
       "    </tr>\n",
       "    <tr>\n",
       "      <th>3</th>\n",
       "      <td>2020S003622</td>\n",
       "      <td>2020-01-04</td>\n",
       "      <td>RETIRO</td>\n",
       "      <td>Caída</td>\n",
       "      <td>Mujer</td>\n",
       "    </tr>\n",
       "    <tr>\n",
       "      <th>4</th>\n",
       "      <td>2020S000153</td>\n",
       "      <td>2020-01-04</td>\n",
       "      <td>FUENCARRAL-EL PARDO</td>\n",
       "      <td>Colisión múltiple</td>\n",
       "      <td>Hombre</td>\n",
       "    </tr>\n",
       "    <tr>\n",
       "      <th>5</th>\n",
       "      <td>2020S000326</td>\n",
       "      <td>2020-01-05</td>\n",
       "      <td>CARABANCHEL</td>\n",
       "      <td>Colisión fronto-lateral</td>\n",
       "      <td>Hombre</td>\n",
       "    </tr>\n",
       "    <tr>\n",
       "      <th>6</th>\n",
       "      <td>2020S000996</td>\n",
       "      <td>2020-01-06</td>\n",
       "      <td>LATINA</td>\n",
       "      <td>Colisión fronto-lateral</td>\n",
       "      <td>Hombre</td>\n",
       "    </tr>\n",
       "    <tr>\n",
       "      <th>7</th>\n",
       "      <td>2020S000778</td>\n",
       "      <td>2020-01-07</td>\n",
       "      <td>SAN BLAS-CANILLEJAS</td>\n",
       "      <td>Caída</td>\n",
       "      <td>Mujer</td>\n",
       "    </tr>\n",
       "    <tr>\n",
       "      <th>8</th>\n",
       "      <td>2020S000350</td>\n",
       "      <td>2020-01-07</td>\n",
       "      <td>RETIRO</td>\n",
       "      <td>Caída</td>\n",
       "      <td>Hombre</td>\n",
       "    </tr>\n",
       "    <tr>\n",
       "      <th>9</th>\n",
       "      <td>2020S000305</td>\n",
       "      <td>2020-01-07</td>\n",
       "      <td>RETIRO</td>\n",
       "      <td>Otro</td>\n",
       "      <td>Hombre</td>\n",
       "    </tr>\n",
       "  </tbody>\n",
       "</table>\n",
       "</div>"
      ],
      "text/plain": [
       "  num_expediente      fecha             distrito           tipo_accidente  \\\n",
       "0    2020S000044 2020-01-02  SAN BLAS-CANILLEJAS         Colisión frontal   \n",
       "1    2020S000151 2020-01-04               TETUÁN                    Caída   \n",
       "2    2020S000212 2020-01-04  FUENCARRAL-EL PARDO                    Caída   \n",
       "3    2020S003622 2020-01-04               RETIRO                    Caída   \n",
       "4    2020S000153 2020-01-04  FUENCARRAL-EL PARDO        Colisión múltiple   \n",
       "5    2020S000326 2020-01-05          CARABANCHEL  Colisión fronto-lateral   \n",
       "6    2020S000996 2020-01-06               LATINA  Colisión fronto-lateral   \n",
       "7    2020S000778 2020-01-07  SAN BLAS-CANILLEJAS                    Caída   \n",
       "8    2020S000350 2020-01-07               RETIRO                    Caída   \n",
       "9    2020S000305 2020-01-07               RETIRO                     Otro   \n",
       "\n",
       "     sexo  \n",
       "0  Hombre  \n",
       "1  Hombre  \n",
       "2  Hombre  \n",
       "3   Mujer  \n",
       "4  Hombre  \n",
       "5  Hombre  \n",
       "6  Hombre  \n",
       "7   Mujer  \n",
       "8  Hombre  \n",
       "9  Hombre  "
      ]
     },
     "execution_count": 90,
     "metadata": {},
     "output_type": "execute_result"
    }
   ],
   "source": [
    "df.head(10)"
   ]
  },
  {
   "cell_type": "markdown",
   "metadata": {},
   "source": [
    "## Grabación de los datos limpios"
   ]
  },
  {
   "cell_type": "markdown",
   "metadata": {},
   "source": [
    "Y finalmente escribimos el resultado a un fichero Excel ,,,"
   ]
  },
  {
   "cell_type": "code",
   "execution_count": 91,
   "metadata": {},
   "outputs": [],
   "source": [
    "writer = pd.ExcelWriter(\"data/accidentes.xlsx\")\n",
    "df.to_excel(writer, 'Data', index=False)\n",
    "writer.save()"
   ]
  },
  {
   "cell_type": "code",
   "execution_count": null,
   "metadata": {},
   "outputs": [],
   "source": []
  }
 ],
 "metadata": {
  "kernelspec": {
   "display_name": "Python 3 (ipykernel)",
   "language": "python",
   "name": "python3"
  },
  "language_info": {
   "codemirror_mode": {
    "name": "ipython",
    "version": 3
   },
   "file_extension": ".py",
   "mimetype": "text/x-python",
   "name": "python",
   "nbconvert_exporter": "python",
   "pygments_lexer": "ipython3",
   "version": "3.8.10"
  }
 },
 "nbformat": 4,
 "nbformat_minor": 4
}
