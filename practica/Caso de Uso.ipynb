{
 "cells": [
  {
   "cell_type": "markdown",
   "metadata": {},
   "source": [
    "# Acidentes de tráfico de bicicletas"
   ]
  },
  {
   "cell_type": "markdown",
   "metadata": {},
   "source": [
    "Vamos a utilizar un dataset de accidentes de tráfico de bicicletas que provienen del portal de datos abiertos de Madrid\n",
    "\n",
    "https://datos.madrid.es/portal/site/egob/menuitem.c05c1f754a33a9fbe4b2e4b284f1a5a0/?vgnextoid=20f4a87ebb65b510VgnVCM1000001d4a900aRCRD&vgnextchannel=374512b9ace9f310VgnVCM100000171f5a0aRCRD&vgnextfmt=default\n"
   ]
  },
  {
   "cell_type": "markdown",
   "metadata": {},
   "source": [
    "Una vez preprocesados los datos tendremos un dataset con los siguientes campos:\n",
    "\n",
    "\n",
    "- Número de expediente del accidente\n",
    "- Fecha del accidente\n",
    "- Distrito donde ha ocurrido el accidente\n",
    "- Tipo de accidente\n",
    "- Sexo de la persona que ha tenido el accidente\n",
    "    \n",
    "\n",
    "Vamos a intentar resolver las siguientes preguntas:\n",
    "\n",
    "- Datos del número de expediente 2020S000044\n",
    "- Accidentes que ocurren en el distrito de Moratalaz ordenados por fecha (Descendente)\n",
    "- Número de accidentes por tipo de accidente (sin ningún orden establecido)\n",
    "- Número de accidentes cuyo tipo es Colisión frontal\n",
    "\n",
    "Preprocesado de datos\n",
    "\n",
    "Se realizará un preprocesado de datos cuyo objetico es limpiar, simplificar y normalizar los datos para que la prática resulte más sencilla\n",
    "\n",
    "El formato de salida será un fichero Microsoft Excel que contendrá los datos limpios.\n",
    "\n"
   ]
  },
  {
   "cell_type": "markdown",
   "metadata": {},
   "source": [
    "## Carga de datos"
   ]
  },
  {
   "cell_type": "code",
   "execution_count": 28,
   "metadata": {},
   "outputs": [],
   "source": [
    "import pandas as pd"
   ]
  },
  {
   "cell_type": "markdown",
   "metadata": {},
   "source": [
    "Leemos los datos ..."
   ]
  },
  {
   "cell_type": "code",
   "execution_count": 29,
   "metadata": {},
   "outputs": [],
   "source": [
    "df = pd.read_csv(\"data/AccidentesBicicletas_2020.txt\", delimiter=\";\")"
   ]
  },
  {
   "cell_type": "markdown",
   "metadata": {},
   "source": [
    "## Exploración y limpieza"
   ]
  },
  {
   "cell_type": "markdown",
   "metadata": {},
   "source": [
    "Limpiamos los datos ..."
   ]
  },
  {
   "cell_type": "code",
   "execution_count": 30,
   "metadata": {},
   "outputs": [
    {
     "name": "stdout",
     "output_type": "stream",
     "text": [
      "<class 'pandas.core.frame.DataFrame'>\n",
      "RangeIndex: 775 entries, 0 to 774\n",
      "Data columns (total 13 columns):\n",
      " #   Column               Non-Null Count  Dtype  \n",
      "---  ------               --------------  -----  \n",
      " 0   NumExpediente        775 non-null    object \n",
      " 1   Fecha                775 non-null    object \n",
      " 2   Hora                 775 non-null    object \n",
      " 3   Calle                775 non-null    object \n",
      " 4   Numero               775 non-null    object \n",
      " 5   Distrito             775 non-null    object \n",
      " 6   TipoAccidente        775 non-null    object \n",
      " 7   EstadoMetereologico  759 non-null    object \n",
      " 8   TipoVehiculo         775 non-null    object \n",
      " 9   TipoPersona          775 non-null    object \n",
      " 10  RangoEdad            775 non-null    object \n",
      " 11  Sexo                 763 non-null    object \n",
      " 12  Lesividad            684 non-null    float64\n",
      "dtypes: float64(1), object(12)\n",
      "memory usage: 78.8+ KB\n"
     ]
    }
   ],
   "source": [
    "df.info()"
   ]
  },
  {
   "cell_type": "code",
   "execution_count": 31,
   "metadata": {},
   "outputs": [
    {
     "name": "stdout",
     "output_type": "stream",
     "text": [
      "<class 'pandas.core.frame.DataFrame'>\n",
      "RangeIndex: 775 entries, 0 to 774\n",
      "Data columns (total 5 columns):\n",
      " #   Column          Non-Null Count  Dtype         \n",
      "---  ------          --------------  -----         \n",
      " 0   num_expediente  775 non-null    object        \n",
      " 1   fecha           775 non-null    datetime64[ns]\n",
      " 2   distrito        775 non-null    object        \n",
      " 3   tipo_accidente  775 non-null    object        \n",
      " 4   sexo            763 non-null    object        \n",
      "dtypes: datetime64[ns](1), object(4)\n",
      "memory usage: 30.4+ KB\n"
     ]
    }
   ],
   "source": [
    "df = df.assign(Fecha = pd.to_datetime(df.Fecha, format=\"%d/%m/%Y\"),\n",
    "               Min = pd.to_numeric(df.Hora.str.split(\":\").str.get(1)),\n",
    "               Hora = pd.to_numeric(df.Hora.str.split(\":\").str.get(0))\n",
    "              )\n",
    "df = df.filter([\"NumExpediente\", \"Fecha\", \"Distrito\", \"TipoAccidente\", \"Sexo\"])\n",
    "# Ponemos las columnas en minúsculas para no se inserten en Postgres con Dobles Comillas\n",
    "df = df.rename(columns = {\"NumExpediente\" : \"num_expediente\",\n",
    "                           \"Fecha\" : \"fecha\",\n",
    "                           \"Distrito\": \"distrito\",\n",
    "                           \"TipoAccidente\" : \"tipo_accidente\",\n",
    "                           \"Sexo\": \"sexo\"}\n",
    "              )\n",
    "df.info()"
   ]
  },
  {
   "cell_type": "code",
   "execution_count": 32,
   "metadata": {},
   "outputs": [
    {
     "data": {
      "text/html": [
       "<div>\n",
       "<style scoped>\n",
       "    .dataframe tbody tr th:only-of-type {\n",
       "        vertical-align: middle;\n",
       "    }\n",
       "\n",
       "    .dataframe tbody tr th {\n",
       "        vertical-align: top;\n",
       "    }\n",
       "\n",
       "    .dataframe thead th {\n",
       "        text-align: right;\n",
       "    }\n",
       "</style>\n",
       "<table border=\"1\" class=\"dataframe\">\n",
       "  <thead>\n",
       "    <tr style=\"text-align: right;\">\n",
       "      <th></th>\n",
       "      <th>num_expediente</th>\n",
       "      <th>fecha</th>\n",
       "      <th>distrito</th>\n",
       "      <th>tipo_accidente</th>\n",
       "      <th>sexo</th>\n",
       "    </tr>\n",
       "  </thead>\n",
       "  <tbody>\n",
       "    <tr>\n",
       "      <th>365</th>\n",
       "      <td>2020S008713</td>\n",
       "      <td>2020-06-23</td>\n",
       "      <td>CHAMBERÍ</td>\n",
       "      <td>Alcance</td>\n",
       "      <td>Hombre</td>\n",
       "    </tr>\n",
       "    <tr>\n",
       "      <th>364</th>\n",
       "      <td>2020S008701</td>\n",
       "      <td>2020-06-23</td>\n",
       "      <td>CHAMBERÍ</td>\n",
       "      <td>Otro</td>\n",
       "      <td>Hombre</td>\n",
       "    </tr>\n",
       "    <tr>\n",
       "      <th>478</th>\n",
       "      <td>2020S010311</td>\n",
       "      <td>2020-07-23</td>\n",
       "      <td>VILLAVERDE</td>\n",
       "      <td>Colisión fronto-lateral</td>\n",
       "      <td>Hombre</td>\n",
       "    </tr>\n",
       "    <tr>\n",
       "      <th>219</th>\n",
       "      <td>2020S007244</td>\n",
       "      <td>2020-05-25</td>\n",
       "      <td>CENTRO</td>\n",
       "      <td>Caída</td>\n",
       "      <td>Hombre</td>\n",
       "    </tr>\n",
       "    <tr>\n",
       "      <th>435</th>\n",
       "      <td>2020S009674</td>\n",
       "      <td>2020-07-10</td>\n",
       "      <td>RETIRO</td>\n",
       "      <td>Caída</td>\n",
       "      <td>Hombre</td>\n",
       "    </tr>\n",
       "    <tr>\n",
       "      <th>695</th>\n",
       "      <td>2020S013922</td>\n",
       "      <td>2020-10-05</td>\n",
       "      <td>CHAMARTÍN</td>\n",
       "      <td>Caída</td>\n",
       "      <td>Mujer</td>\n",
       "    </tr>\n",
       "    <tr>\n",
       "      <th>201</th>\n",
       "      <td>2020S007104</td>\n",
       "      <td>2020-05-21</td>\n",
       "      <td>HORTALEZA</td>\n",
       "      <td>Colisión fronto-lateral</td>\n",
       "      <td>Hombre</td>\n",
       "    </tr>\n",
       "    <tr>\n",
       "      <th>177</th>\n",
       "      <td>2020S006829</td>\n",
       "      <td>2020-05-13</td>\n",
       "      <td>CENTRO</td>\n",
       "      <td>Caída</td>\n",
       "      <td>Hombre</td>\n",
       "    </tr>\n",
       "    <tr>\n",
       "      <th>574</th>\n",
       "      <td>2020S011620</td>\n",
       "      <td>2020-08-25</td>\n",
       "      <td>TETUÁN</td>\n",
       "      <td>Alcance</td>\n",
       "      <td>Hombre</td>\n",
       "    </tr>\n",
       "    <tr>\n",
       "      <th>763</th>\n",
       "      <td>2020S015311</td>\n",
       "      <td>2020-10-29</td>\n",
       "      <td>RETIRO</td>\n",
       "      <td>Alcance</td>\n",
       "      <td>Hombre</td>\n",
       "    </tr>\n",
       "  </tbody>\n",
       "</table>\n",
       "</div>"
      ],
      "text/plain": [
       "    num_expediente      fecha    distrito           tipo_accidente    sexo\n",
       "365    2020S008713 2020-06-23    CHAMBERÍ                  Alcance  Hombre\n",
       "364    2020S008701 2020-06-23    CHAMBERÍ                     Otro  Hombre\n",
       "478    2020S010311 2020-07-23  VILLAVERDE  Colisión fronto-lateral  Hombre\n",
       "219    2020S007244 2020-05-25      CENTRO                    Caída  Hombre\n",
       "435    2020S009674 2020-07-10      RETIRO                    Caída  Hombre\n",
       "695    2020S013922 2020-10-05   CHAMARTÍN                    Caída   Mujer\n",
       "201    2020S007104 2020-05-21   HORTALEZA  Colisión fronto-lateral  Hombre\n",
       "177    2020S006829 2020-05-13      CENTRO                    Caída  Hombre\n",
       "574    2020S011620 2020-08-25      TETUÁN                  Alcance  Hombre\n",
       "763    2020S015311 2020-10-29      RETIRO                  Alcance  Hombre"
      ]
     },
     "execution_count": 32,
     "metadata": {},
     "output_type": "execute_result"
    }
   ],
   "source": [
    "df.sample(10)"
   ]
  },
  {
   "cell_type": "markdown",
   "metadata": {},
   "source": [
    "Eliminamos los expedientes duplicados para simplificar el ejemplo ..."
   ]
  },
  {
   "cell_type": "code",
   "execution_count": 33,
   "metadata": {},
   "outputs": [
    {
     "name": "stdout",
     "output_type": "stream",
     "text": [
      "<class 'pandas.core.frame.DataFrame'>\n",
      "RangeIndex: 614 entries, 0 to 613\n",
      "Data columns (total 5 columns):\n",
      " #   Column          Non-Null Count  Dtype         \n",
      "---  ------          --------------  -----         \n",
      " 0   num_expediente  614 non-null    object        \n",
      " 1   fecha           614 non-null    datetime64[ns]\n",
      " 2   distrito        614 non-null    object        \n",
      " 3   tipo_accidente  614 non-null    object        \n",
      " 4   sexo            614 non-null    object        \n",
      "dtypes: datetime64[ns](1), object(4)\n",
      "memory usage: 24.1+ KB\n"
     ]
    }
   ],
   "source": [
    "ExpedientesDuplicados = pd.DataFrame(df.groupby(\"num_expediente\").size()).reset_index().rename( columns = {0 : 'n'}).query(\"n > 1\").num_expediente\n",
    "df = df[~df.num_expediente.isin(ExpedientesDuplicados)]\n",
    "df = df[df.sexo.notnull()]\n",
    "df = df.reset_index(drop = True)\n",
    "df.info()"
   ]
  },
  {
   "cell_type": "code",
   "execution_count": 34,
   "metadata": {},
   "outputs": [
    {
     "data": {
      "text/html": [
       "<div>\n",
       "<style scoped>\n",
       "    .dataframe tbody tr th:only-of-type {\n",
       "        vertical-align: middle;\n",
       "    }\n",
       "\n",
       "    .dataframe tbody tr th {\n",
       "        vertical-align: top;\n",
       "    }\n",
       "\n",
       "    .dataframe thead th {\n",
       "        text-align: right;\n",
       "    }\n",
       "</style>\n",
       "<table border=\"1\" class=\"dataframe\">\n",
       "  <thead>\n",
       "    <tr style=\"text-align: right;\">\n",
       "      <th></th>\n",
       "      <th>num_expediente</th>\n",
       "      <th>fecha</th>\n",
       "      <th>distrito</th>\n",
       "      <th>tipo_accidente</th>\n",
       "      <th>sexo</th>\n",
       "    </tr>\n",
       "  </thead>\n",
       "  <tbody>\n",
       "    <tr>\n",
       "      <th>583</th>\n",
       "      <td>2020S014570</td>\n",
       "      <td>2020-10-18</td>\n",
       "      <td>HORTALEZA</td>\n",
       "      <td>Alcance</td>\n",
       "      <td>Hombre</td>\n",
       "    </tr>\n",
       "    <tr>\n",
       "      <th>233</th>\n",
       "      <td>2020S008055</td>\n",
       "      <td>2020-06-09</td>\n",
       "      <td>USERA</td>\n",
       "      <td>Colisión frontal</td>\n",
       "      <td>Hombre</td>\n",
       "    </tr>\n",
       "    <tr>\n",
       "      <th>457</th>\n",
       "      <td>2020S011650</td>\n",
       "      <td>2020-08-26</td>\n",
       "      <td>RETIRO</td>\n",
       "      <td>Colisión fronto-lateral</td>\n",
       "      <td>Mujer</td>\n",
       "    </tr>\n",
       "    <tr>\n",
       "      <th>543</th>\n",
       "      <td>2020S013704</td>\n",
       "      <td>2020-10-03</td>\n",
       "      <td>CIUDAD LINEAL</td>\n",
       "      <td>Caída</td>\n",
       "      <td>Hombre</td>\n",
       "    </tr>\n",
       "    <tr>\n",
       "      <th>352</th>\n",
       "      <td>2020S009691</td>\n",
       "      <td>2020-07-11</td>\n",
       "      <td>ARGANZUELA</td>\n",
       "      <td>Caída</td>\n",
       "      <td>Mujer</td>\n",
       "    </tr>\n",
       "    <tr>\n",
       "      <th>342</th>\n",
       "      <td>2020S010819</td>\n",
       "      <td>2020-07-07</td>\n",
       "      <td>MONCLOA-ARAVACA</td>\n",
       "      <td>Caída</td>\n",
       "      <td>Mujer</td>\n",
       "    </tr>\n",
       "    <tr>\n",
       "      <th>55</th>\n",
       "      <td>2020S003108</td>\n",
       "      <td>2020-02-08</td>\n",
       "      <td>HORTALEZA</td>\n",
       "      <td>Caída</td>\n",
       "      <td>Hombre</td>\n",
       "    </tr>\n",
       "    <tr>\n",
       "      <th>580</th>\n",
       "      <td>2020S014578</td>\n",
       "      <td>2020-10-18</td>\n",
       "      <td>RETIRO</td>\n",
       "      <td>Choque contra obstáculo fijo</td>\n",
       "      <td>Hombre</td>\n",
       "    </tr>\n",
       "    <tr>\n",
       "      <th>71</th>\n",
       "      <td>2020S003961</td>\n",
       "      <td>2020-02-20</td>\n",
       "      <td>RETIRO</td>\n",
       "      <td>Alcance</td>\n",
       "      <td>Hombre</td>\n",
       "    </tr>\n",
       "    <tr>\n",
       "      <th>236</th>\n",
       "      <td>2020S008184</td>\n",
       "      <td>2020-06-10</td>\n",
       "      <td>HORTALEZA</td>\n",
       "      <td>Caída</td>\n",
       "      <td>Mujer</td>\n",
       "    </tr>\n",
       "  </tbody>\n",
       "</table>\n",
       "</div>"
      ],
      "text/plain": [
       "    num_expediente      fecha         distrito                tipo_accidente  \\\n",
       "583    2020S014570 2020-10-18        HORTALEZA                       Alcance   \n",
       "233    2020S008055 2020-06-09            USERA              Colisión frontal   \n",
       "457    2020S011650 2020-08-26           RETIRO       Colisión fronto-lateral   \n",
       "543    2020S013704 2020-10-03    CIUDAD LINEAL                         Caída   \n",
       "352    2020S009691 2020-07-11       ARGANZUELA                         Caída   \n",
       "342    2020S010819 2020-07-07  MONCLOA-ARAVACA                         Caída   \n",
       "55     2020S003108 2020-02-08        HORTALEZA                         Caída   \n",
       "580    2020S014578 2020-10-18           RETIRO  Choque contra obstáculo fijo   \n",
       "71     2020S003961 2020-02-20           RETIRO                       Alcance   \n",
       "236    2020S008184 2020-06-10        HORTALEZA                         Caída   \n",
       "\n",
       "       sexo  \n",
       "583  Hombre  \n",
       "233  Hombre  \n",
       "457   Mujer  \n",
       "543  Hombre  \n",
       "352   Mujer  \n",
       "342   Mujer  \n",
       "55   Hombre  \n",
       "580  Hombre  \n",
       "71   Hombre  \n",
       "236   Mujer  "
      ]
     },
     "execution_count": 34,
     "metadata": {},
     "output_type": "execute_result"
    }
   ],
   "source": [
    "df.sample(10)"
   ]
  },
  {
   "cell_type": "markdown",
   "metadata": {},
   "source": [
    "## Grabación de los datos limpios"
   ]
  },
  {
   "cell_type": "markdown",
   "metadata": {},
   "source": [
    "Y finalmente escribimos el resultado a un fichero Excel ,,,"
   ]
  },
  {
   "cell_type": "code",
   "execution_count": 35,
   "metadata": {},
   "outputs": [],
   "source": [
    "writer = pd.ExcelWriter(\"data/accidentes.xlsx\")\n",
    "df.to_excel(writer, 'Data', index=False)\n",
    "writer.save()"
   ]
  },
  {
   "cell_type": "code",
   "execution_count": null,
   "metadata": {},
   "outputs": [],
   "source": []
  }
 ],
 "metadata": {
  "kernelspec": {
   "display_name": "Python 3",
   "language": "python",
   "name": "python3"
  },
  "language_info": {
   "codemirror_mode": {
    "name": "ipython",
    "version": 3
   },
   "file_extension": ".py",
   "mimetype": "text/x-python",
   "name": "python",
   "nbconvert_exporter": "python",
   "pygments_lexer": "ipython3",
   "version": "3.6.9"
  }
 },
 "nbformat": 4,
 "nbformat_minor": 4
}
