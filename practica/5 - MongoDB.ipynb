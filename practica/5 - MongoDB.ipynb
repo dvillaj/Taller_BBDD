{
 "cells": [
  {
   "cell_type": "markdown",
   "metadata": {},
   "source": [
    "# MongoDB"
   ]
  },
  {
   "cell_type": "markdown",
   "metadata": {},
   "source": [
    "En MongoDB vamos a crear una única colección donde vamos a guardar todos los datos:"
   ]
  },
  {
   "cell_type": "markdown",
   "metadata": {},
   "source": [
    "<img src=\"https://i.imgur.com/uuzxKsH.png\">"
   ]
  },
  {
   "cell_type": "markdown",
   "metadata": {},
   "source": [
    "## Carga de datos en Pandas"
   ]
  },
  {
   "cell_type": "code",
   "execution_count": 1,
   "metadata": {},
   "outputs": [],
   "source": [
    "import pandas as pd\n",
    "import datetime"
   ]
  },
  {
   "cell_type": "code",
   "execution_count": 2,
   "metadata": {},
   "outputs": [
    {
     "name": "stdout",
     "output_type": "stream",
     "text": [
      "<class 'pandas.core.frame.DataFrame'>\n",
      "RangeIndex: 686 entries, 0 to 685\n",
      "Data columns (total 5 columns):\n",
      " #   Column          Non-Null Count  Dtype         \n",
      "---  ------          --------------  -----         \n",
      " 0   num_expediente  686 non-null    object        \n",
      " 1   fecha           686 non-null    datetime64[ns]\n",
      " 2   distrito        686 non-null    object        \n",
      " 3   tipo_accidente  686 non-null    object        \n",
      " 4   sexo            686 non-null    object        \n",
      "dtypes: datetime64[ns](1), object(4)\n",
      "memory usage: 26.9+ KB\n"
     ]
    }
   ],
   "source": [
    "df = pd.read_excel(\"data/accidentes.xlsx\", engine='openpyxl')\n",
    "df.info()"
   ]
  },
  {
   "cell_type": "code",
   "execution_count": 3,
   "metadata": {},
   "outputs": [
    {
     "data": {
      "text/html": [
       "<div>\n",
       "<style scoped>\n",
       "    .dataframe tbody tr th:only-of-type {\n",
       "        vertical-align: middle;\n",
       "    }\n",
       "\n",
       "    .dataframe tbody tr th {\n",
       "        vertical-align: top;\n",
       "    }\n",
       "\n",
       "    .dataframe thead th {\n",
       "        text-align: right;\n",
       "    }\n",
       "</style>\n",
       "<table border=\"1\" class=\"dataframe\">\n",
       "  <thead>\n",
       "    <tr style=\"text-align: right;\">\n",
       "      <th></th>\n",
       "      <th>num_expediente</th>\n",
       "      <th>fecha</th>\n",
       "      <th>distrito</th>\n",
       "      <th>tipo_accidente</th>\n",
       "      <th>sexo</th>\n",
       "    </tr>\n",
       "  </thead>\n",
       "  <tbody>\n",
       "    <tr>\n",
       "      <th>46</th>\n",
       "      <td>2020S002326</td>\n",
       "      <td>2020-02-01</td>\n",
       "      <td>TETUÁN</td>\n",
       "      <td>Caída</td>\n",
       "      <td>Hombre</td>\n",
       "    </tr>\n",
       "    <tr>\n",
       "      <th>207</th>\n",
       "      <td>2020S007277</td>\n",
       "      <td>2020-05-26</td>\n",
       "      <td>CIUDAD LINEAL</td>\n",
       "      <td>Colisión fronto-lateral</td>\n",
       "      <td>Hombre</td>\n",
       "    </tr>\n",
       "    <tr>\n",
       "      <th>129</th>\n",
       "      <td>2020S006534</td>\n",
       "      <td>2020-05-03</td>\n",
       "      <td>CENTRO</td>\n",
       "      <td>Colisión fronto-lateral</td>\n",
       "      <td>Hombre</td>\n",
       "    </tr>\n",
       "    <tr>\n",
       "      <th>12</th>\n",
       "      <td>2020S000398</td>\n",
       "      <td>2020-01-08</td>\n",
       "      <td>CENTRO</td>\n",
       "      <td>Otro</td>\n",
       "      <td>Hombre</td>\n",
       "    </tr>\n",
       "    <tr>\n",
       "      <th>507</th>\n",
       "      <td>2020S011652</td>\n",
       "      <td>2020-08-25</td>\n",
       "      <td>MONCLOA-ARAVACA</td>\n",
       "      <td>Colisión fronto-lateral</td>\n",
       "      <td>Hombre</td>\n",
       "    </tr>\n",
       "    <tr>\n",
       "      <th>26</th>\n",
       "      <td>2020S001240</td>\n",
       "      <td>2020-01-18</td>\n",
       "      <td>MONCLOA-ARAVACA</td>\n",
       "      <td>Caída</td>\n",
       "      <td>Mujer</td>\n",
       "    </tr>\n",
       "    <tr>\n",
       "      <th>471</th>\n",
       "      <td>2020S010855</td>\n",
       "      <td>2020-08-04</td>\n",
       "      <td>PUENTE DE VALLECAS</td>\n",
       "      <td>Caída</td>\n",
       "      <td>Hombre</td>\n",
       "    </tr>\n",
       "    <tr>\n",
       "      <th>456</th>\n",
       "      <td>2020S010688</td>\n",
       "      <td>2020-07-31</td>\n",
       "      <td>CHAMBERÍ</td>\n",
       "      <td>Caída</td>\n",
       "      <td>Mujer</td>\n",
       "    </tr>\n",
       "    <tr>\n",
       "      <th>157</th>\n",
       "      <td>2020S006722</td>\n",
       "      <td>2020-05-11</td>\n",
       "      <td>SAN BLAS-CANILLEJAS</td>\n",
       "      <td>Caída</td>\n",
       "      <td>Hombre</td>\n",
       "    </tr>\n",
       "    <tr>\n",
       "      <th>469</th>\n",
       "      <td>2020S010813</td>\n",
       "      <td>2020-08-03</td>\n",
       "      <td>TETUÁN</td>\n",
       "      <td>Caída</td>\n",
       "      <td>Hombre</td>\n",
       "    </tr>\n",
       "  </tbody>\n",
       "</table>\n",
       "</div>"
      ],
      "text/plain": [
       "    num_expediente      fecha             distrito           tipo_accidente  \\\n",
       "46     2020S002326 2020-02-01               TETUÁN                    Caída   \n",
       "207    2020S007277 2020-05-26        CIUDAD LINEAL  Colisión fronto-lateral   \n",
       "129    2020S006534 2020-05-03               CENTRO  Colisión fronto-lateral   \n",
       "12     2020S000398 2020-01-08               CENTRO                     Otro   \n",
       "507    2020S011652 2020-08-25      MONCLOA-ARAVACA  Colisión fronto-lateral   \n",
       "26     2020S001240 2020-01-18      MONCLOA-ARAVACA                    Caída   \n",
       "471    2020S010855 2020-08-04   PUENTE DE VALLECAS                    Caída   \n",
       "456    2020S010688 2020-07-31             CHAMBERÍ                    Caída   \n",
       "157    2020S006722 2020-05-11  SAN BLAS-CANILLEJAS                    Caída   \n",
       "469    2020S010813 2020-08-03               TETUÁN                    Caída   \n",
       "\n",
       "       sexo  \n",
       "46   Hombre  \n",
       "207  Hombre  \n",
       "129  Hombre  \n",
       "12   Hombre  \n",
       "507  Hombre  \n",
       "26    Mujer  \n",
       "471  Hombre  \n",
       "456   Mujer  \n",
       "157  Hombre  \n",
       "469  Hombre  "
      ]
     },
     "execution_count": 3,
     "metadata": {},
     "output_type": "execute_result"
    }
   ],
   "source": [
    "df.sample(10)"
   ]
  },
  {
   "cell_type": "markdown",
   "metadata": {},
   "source": [
    "## Carga de datos en Mongodb"
   ]
  },
  {
   "cell_type": "code",
   "execution_count": 4,
   "metadata": {},
   "outputs": [],
   "source": [
    "import pymongo \n",
    "from pymongo import MongoClient\n",
    "from pymongo.errors import DuplicateKeyError\n",
    "import json\n",
    "\n",
    "from pprintpp import pprint as pp"
   ]
  },
  {
   "cell_type": "code",
   "execution_count": 5,
   "metadata": {},
   "outputs": [],
   "source": [
    "# connect to database\n",
    "connection = MongoClient('localhost', 27017)"
   ]
  },
  {
   "cell_type": "code",
   "execution_count": 6,
   "metadata": {},
   "outputs": [],
   "source": [
    "# Borramos la base de datos\n",
    "connection.drop_database('accidentes')\n",
    "\n",
    "db = connection.accidentes"
   ]
  },
  {
   "cell_type": "code",
   "execution_count": 7,
   "metadata": {},
   "outputs": [],
   "source": [
    "json_string = df.to_json(orient = 'records')\n",
    "json_list = json.loads(json_string)"
   ]
  },
  {
   "cell_type": "code",
   "execution_count": 8,
   "metadata": {},
   "outputs": [
    {
     "name": "stdout",
     "output_type": "stream",
     "text": [
      "{\n",
      "    'distrito': 'SAN BLAS-CANILLEJAS',\n",
      "    'fecha': 1577923200000,\n",
      "    'num_expediente': '2020S000044',\n",
      "    'sexo': 'Hombre',\n",
      "    'tipo_accidente': 'Colisión frontal',\n",
      "}\n"
     ]
    }
   ],
   "source": [
    "pp(json_list[0])"
   ]
  },
  {
   "cell_type": "markdown",
   "metadata": {},
   "source": [
    "Completa el siguiente código para insertar los datos en MongoDB:"
   ]
  },
  {
   "cell_type": "code",
   "execution_count": null,
   "metadata": {},
   "outputs": [],
   "source": [
    "for row_json in json_list:\n",
    "    row_json['fecha'] = datetime.datetime.fromtimestamp(row_json['fecha'] / 1e3)\n",
    "    \n",
    "    <<COMPLETA EL CODIGO>>"
   ]
  },
  {
   "cell_type": "markdown",
   "metadata": {},
   "source": [
    "Nota: Es necesario convertir la fecha a un tipo que monodb entienda ..."
   ]
  },
  {
   "cell_type": "markdown",
   "metadata": {},
   "source": [
    "## Resolución del caso de uso"
   ]
  },
  {
   "cell_type": "markdown",
   "metadata": {},
   "source": [
    "### Datos del número de expediente 2020S000044"
   ]
  },
  {
   "cell_type": "code",
   "execution_count": null,
   "metadata": {},
   "outputs": [],
   "source": [
    "<<COMPLETA EL CODIGO>>\n",
    "for doc in rs:\n",
    "    print(doc)"
   ]
  },
  {
   "cell_type": "markdown",
   "metadata": {},
   "source": [
    "Comprueba que te muestra el siguiente resultado:"
   ]
  },
  {
   "cell_type": "markdown",
   "metadata": {},
   "source": [
    "```\n",
    "{'_id': ObjectId('5fdaf494a7b30136e036e398'), 'num_expediente': '2020S000044', 'fecha': datetime.datetime(2020, 1, 2, 0, 0), 'distrito': 'SAN BLAS-CANILLEJAS', 'tipo_accidente': 'Colisión frontal', 'sexo': 'Hombre'}\n",
    "```"
   ]
  },
  {
   "cell_type": "markdown",
   "metadata": {},
   "source": [
    "### Accidentes que ocurren en el distrito de Moratalaz ordenados por fecha"
   ]
  },
  {
   "cell_type": "code",
   "execution_count": null,
   "metadata": {},
   "outputs": [],
   "source": [
    "<<COMPLETA EL CODIGO>>\n",
    "for doc in rs:\n",
    "    print(doc)"
   ]
  },
  {
   "cell_type": "markdown",
   "metadata": {},
   "source": [
    "Comprueba que te muestra el siguiente resultado:"
   ]
  },
  {
   "cell_type": "markdown",
   "metadata": {},
   "source": [
    "```\n",
    "{'num_expediente': '2020S014930', 'fecha': datetime.datetime(2020, 10, 22, 0, 0), 'distrito': 'MORATALAZ', 'tipo_accidente': 'Caída', 'sexo': 'Hombre'}\n",
    "{'num_expediente': '2020S013510', 'fecha': datetime.datetime(2020, 9, 29, 0, 0), 'distrito': 'MORATALAZ', 'tipo_accidente': 'Caída', 'sexo': 'Hombre'}\n",
    "{'num_expediente': '2020S013471', 'fecha': datetime.datetime(2020, 9, 28, 0, 0), 'distrito': 'MORATALAZ', 'tipo_accidente': 'Caída', 'sexo': 'Mujer'}\n",
    "{'num_expediente': '2020S012562', 'fecha': datetime.datetime(2020, 9, 12, 0, 0), 'distrito': 'MORATALAZ', 'tipo_accidente': 'Caída', 'sexo': 'Hombre'}\n",
    "{'num_expediente': '2020S010126', 'fecha': datetime.datetime(2020, 7, 19, 0, 0), 'distrito': 'MORATALAZ', 'tipo_accidente': 'Caída', 'sexo': 'Hombre'}\n",
    "{'num_expediente': '2020S009414', 'fecha': datetime.datetime(2020, 7, 6, 0, 0), 'distrito': 'MORATALAZ', 'tipo_accidente': 'Atropello a persona', 'sexo': 'Hombre'}\n",
    "{'num_expediente': '2020S008969', 'fecha': datetime.datetime(2020, 6, 27, 0, 0), 'distrito': 'MORATALAZ', 'tipo_accidente': 'Caída', 'sexo': 'Mujer'}\n",
    "{'num_expediente': '2020S008582', 'fecha': datetime.datetime(2020, 6, 21, 0, 0), 'distrito': 'MORATALAZ', 'tipo_accidente': 'Caída', 'sexo': 'Hombre'}\n",
    "{'num_expediente': '2020S008440', 'fecha': datetime.datetime(2020, 6, 18, 0, 0), 'distrito': 'MORATALAZ', 'tipo_accidente': 'Caída', 'sexo': 'Hombre'}\n",
    "{'num_expediente': '2020S007204', 'fecha': datetime.datetime(2020, 5, 23, 0, 0), 'distrito': 'MORATALAZ', 'tipo_accidente': 'Colisión fronto-lateral', 'sexo': 'Hombre'}\n",
    "{'num_expediente': '2020S001078', 'fecha': datetime.datetime(2020, 1, 16, 0, 0), 'distrito': 'MORATALAZ', 'tipo_accidente': 'Colisión fronto-lateral', 'sexo': 'Hombre'}\n",
    "```"
   ]
  },
  {
   "cell_type": "markdown",
   "metadata": {},
   "source": [
    "### Número de accidentes por tipo"
   ]
  },
  {
   "cell_type": "code",
   "execution_count": null,
   "metadata": {},
   "outputs": [],
   "source": [
    "<<COMPLETA EL CODIGO>>\n",
    "for doc in rs:\n",
    "    print(doc)"
   ]
  },
  {
   "cell_type": "markdown",
   "metadata": {},
   "source": [
    "Comprueba que te muestra el siguiente resultado:"
   ]
  },
  {
   "cell_type": "markdown",
   "metadata": {},
   "source": [
    "```\n",
    "{'total': 21, 'tipo_accidente': 'Otro'}\n",
    "{'total': 290, 'tipo_accidente': 'Caída'}\n",
    "{'total': 19, 'tipo_accidente': 'Colisión frontal'}\n",
    "{'total': 2, 'tipo_accidente': 'Atropello a animal'}\n",
    "{'total': 1, 'tipo_accidente': 'Vuelco'}\n",
    "{'total': 164, 'tipo_accidente': 'Colisión fronto-lateral'}\n",
    "{'total': 1, 'tipo_accidente': 'Colisión múltiple'}\n",
    "{'total': 80, 'tipo_accidente': 'Alcance'}\n",
    "{'total': 50, 'tipo_accidente': 'Colisión lateral'}\n",
    "{'total': 36, 'tipo_accidente': 'Atropello a persona'}\n",
    "{'total': 22, 'tipo_accidente': 'Choque contra obstáculo fijo'}\n",
    "```"
   ]
  },
  {
   "cell_type": "markdown",
   "metadata": {},
   "source": [
    "### Número de accidentes cuyo tipo es colisión frontal"
   ]
  },
  {
   "cell_type": "code",
   "execution_count": null,
   "metadata": {},
   "outputs": [],
   "source": [
    "<<COMPLETA EL CODIGO>>\n",
    "for doc in rs:\n",
    "    print(doc)"
   ]
  },
  {
   "cell_type": "markdown",
   "metadata": {},
   "source": [
    "Comprueba que te muestra el siguiente resultado:"
   ]
  },
  {
   "cell_type": "markdown",
   "metadata": {},
   "source": [
    "```\n",
    "{'total': 19, 'tipo_accidente': 'Colisión frontal'}\n",
    "```"
   ]
  }
 ],
 "metadata": {
  "kernelspec": {
   "display_name": "Python 3 (ipykernel)",
   "language": "python",
   "name": "python3"
  },
  "language_info": {
   "codemirror_mode": {
    "name": "ipython",
    "version": 3
   },
   "file_extension": ".py",
   "mimetype": "text/x-python",
   "name": "python",
   "nbconvert_exporter": "python",
   "pygments_lexer": "ipython3",
   "version": "3.8.10"
  }
 },
 "nbformat": 4,
 "nbformat_minor": 4
}
