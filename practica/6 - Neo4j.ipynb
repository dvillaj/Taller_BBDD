{
 "cells": [
  {
   "cell_type": "markdown",
   "metadata": {},
   "source": [
    "# Neo4j"
   ]
  },
  {
   "cell_type": "markdown",
   "metadata": {},
   "source": [
    "<br><br> \n",
    "\n",
    "<img src=\"https://i.imgur.com/6x5biUO.png\">\n",
    "\n",
    "<br><br> "
   ]
  },
  {
   "cell_type": "markdown",
   "metadata": {},
   "source": [
    "Adicionalmente se van a guardar los siguientes atributos:\n",
    "\n",
    "Nodo Persona\n",
    "\n",
    "- Sexo de la persona\n",
    "\n",
    "Nodo Accidente\n",
    "\n",
    "- Número de Expediente\n",
    "- Tipo de Accidente\n",
    "\n",
    "Nodo Lugar\n",
    "\n",
    "- Distrito donde ocurre el accidente  \n",
    "\n",
    "Relación TIENE\n",
    "- Fecha del accidente\n"
   ]
  },
  {
   "cell_type": "markdown",
   "metadata": {},
   "source": [
    "## Carga de datos en Pandas"
   ]
  },
  {
   "cell_type": "code",
   "execution_count": 1,
   "metadata": {},
   "outputs": [
    {
     "name": "stdout",
     "output_type": "stream",
     "text": [
      "<class 'pandas.core.frame.DataFrame'>\n",
      "RangeIndex: 686 entries, 0 to 685\n",
      "Data columns (total 5 columns):\n",
      " #   Column          Non-Null Count  Dtype \n",
      "---  ------          --------------  ----- \n",
      " 0   num_expediente  686 non-null    object\n",
      " 1   fecha           686 non-null    object\n",
      " 2   distrito        686 non-null    object\n",
      " 3   tipo_accidente  686 non-null    object\n",
      " 4   sexo            686 non-null    object\n",
      "dtypes: object(5)\n",
      "memory usage: 26.9+ KB\n"
     ]
    }
   ],
   "source": [
    "import pandas as pd\n",
    "\n",
    "df = pd.read_excel(\"data/accidentes.xlsx\", engine='openpyxl')\n",
    "df = df.assign(fecha = lambda x: x.fecha.dt.strftime('%d-%m-%Y'))\n",
    "df.info()"
   ]
  },
  {
   "cell_type": "code",
   "execution_count": 2,
   "metadata": {},
   "outputs": [
    {
     "data": {
      "text/html": [
       "<div>\n",
       "<style scoped>\n",
       "    .dataframe tbody tr th:only-of-type {\n",
       "        vertical-align: middle;\n",
       "    }\n",
       "\n",
       "    .dataframe tbody tr th {\n",
       "        vertical-align: top;\n",
       "    }\n",
       "\n",
       "    .dataframe thead th {\n",
       "        text-align: right;\n",
       "    }\n",
       "</style>\n",
       "<table border=\"1\" class=\"dataframe\">\n",
       "  <thead>\n",
       "    <tr style=\"text-align: right;\">\n",
       "      <th></th>\n",
       "      <th>num_expediente</th>\n",
       "      <th>fecha</th>\n",
       "      <th>distrito</th>\n",
       "      <th>tipo_accidente</th>\n",
       "      <th>sexo</th>\n",
       "    </tr>\n",
       "  </thead>\n",
       "  <tbody>\n",
       "    <tr>\n",
       "      <th>194</th>\n",
       "      <td>2020S007186</td>\n",
       "      <td>24-05-2020</td>\n",
       "      <td>CENTRO</td>\n",
       "      <td>Caída</td>\n",
       "      <td>Mujer</td>\n",
       "    </tr>\n",
       "    <tr>\n",
       "      <th>184</th>\n",
       "      <td>2020S007209</td>\n",
       "      <td>22-05-2020</td>\n",
       "      <td>CENTRO</td>\n",
       "      <td>Alcance</td>\n",
       "      <td>Hombre</td>\n",
       "    </tr>\n",
       "    <tr>\n",
       "      <th>656</th>\n",
       "      <td>2020S014792</td>\n",
       "      <td>20-10-2020</td>\n",
       "      <td>SALAMANCA</td>\n",
       "      <td>Caída</td>\n",
       "      <td>Hombre</td>\n",
       "    </tr>\n",
       "    <tr>\n",
       "      <th>669</th>\n",
       "      <td>2020S015049</td>\n",
       "      <td>25-10-2020</td>\n",
       "      <td>CENTRO</td>\n",
       "      <td>Caída</td>\n",
       "      <td>Hombre</td>\n",
       "    </tr>\n",
       "    <tr>\n",
       "      <th>611</th>\n",
       "      <td>2020S013876</td>\n",
       "      <td>05-10-2020</td>\n",
       "      <td>TETUÁN</td>\n",
       "      <td>Caída</td>\n",
       "      <td>Hombre</td>\n",
       "    </tr>\n",
       "    <tr>\n",
       "      <th>188</th>\n",
       "      <td>2020S007178</td>\n",
       "      <td>23-05-2020</td>\n",
       "      <td>CHAMARTÍN</td>\n",
       "      <td>Caída</td>\n",
       "      <td>Mujer</td>\n",
       "    </tr>\n",
       "    <tr>\n",
       "      <th>331</th>\n",
       "      <td>2020S008811</td>\n",
       "      <td>24-06-2020</td>\n",
       "      <td>LATINA</td>\n",
       "      <td>Colisión fronto-lateral</td>\n",
       "      <td>Hombre</td>\n",
       "    </tr>\n",
       "    <tr>\n",
       "      <th>389</th>\n",
       "      <td>2020S009674</td>\n",
       "      <td>10-07-2020</td>\n",
       "      <td>RETIRO</td>\n",
       "      <td>Caída</td>\n",
       "      <td>Hombre</td>\n",
       "    </tr>\n",
       "    <tr>\n",
       "      <th>536</th>\n",
       "      <td>2020S012104</td>\n",
       "      <td>05-09-2020</td>\n",
       "      <td>RETIRO</td>\n",
       "      <td>Colisión fronto-lateral</td>\n",
       "      <td>Mujer</td>\n",
       "    </tr>\n",
       "    <tr>\n",
       "      <th>106</th>\n",
       "      <td>2020S005249</td>\n",
       "      <td>07-03-2020</td>\n",
       "      <td>BARAJAS</td>\n",
       "      <td>Caída</td>\n",
       "      <td>Hombre</td>\n",
       "    </tr>\n",
       "  </tbody>\n",
       "</table>\n",
       "</div>"
      ],
      "text/plain": [
       "    num_expediente       fecha   distrito           tipo_accidente    sexo\n",
       "194    2020S007186  24-05-2020     CENTRO                    Caída   Mujer\n",
       "184    2020S007209  22-05-2020     CENTRO                  Alcance  Hombre\n",
       "656    2020S014792  20-10-2020  SALAMANCA                    Caída  Hombre\n",
       "669    2020S015049  25-10-2020     CENTRO                    Caída  Hombre\n",
       "611    2020S013876  05-10-2020     TETUÁN                    Caída  Hombre\n",
       "188    2020S007178  23-05-2020  CHAMARTÍN                    Caída   Mujer\n",
       "331    2020S008811  24-06-2020     LATINA  Colisión fronto-lateral  Hombre\n",
       "389    2020S009674  10-07-2020     RETIRO                    Caída  Hombre\n",
       "536    2020S012104  05-09-2020     RETIRO  Colisión fronto-lateral   Mujer\n",
       "106    2020S005249  07-03-2020    BARAJAS                    Caída  Hombre"
      ]
     },
     "execution_count": 2,
     "metadata": {},
     "output_type": "execute_result"
    }
   ],
   "source": [
    "df.sample(10)"
   ]
  },
  {
   "cell_type": "markdown",
   "metadata": {},
   "source": [
    "## Carga de datos en Neo4j"
   ]
  },
  {
   "cell_type": "code",
   "execution_count": 3,
   "metadata": {},
   "outputs": [],
   "source": [
    "from py2neo import Graph, Node, Relationship\n",
    "\n",
    "graph = Graph()"
   ]
  },
  {
   "cell_type": "code",
   "execution_count": 4,
   "metadata": {},
   "outputs": [],
   "source": [
    "graph.delete_all()"
   ]
  },
  {
   "cell_type": "code",
   "execution_count": 5,
   "metadata": {},
   "outputs": [],
   "source": [
    "import json\n",
    "\n",
    "json_string = df.to_json(orient = 'records')\n",
    "json_list = json.loads(json_string)"
   ]
  },
  {
   "cell_type": "markdown",
   "metadata": {},
   "source": [
    "Completa el siguiente código para poder insertar los datos en la base de datos "
   ]
  },
  {
   "cell_type": "code",
   "execution_count": null,
   "metadata": {},
   "outputs": [],
   "source": [
    "for index, row_json in enumerate(json_list):\n",
    "    \n",
    "    tipo_accidente_value = row_json[\"tipo_accidente\"]\n",
    "    num_expediente_value =row_json[\"num_expediente\"]\n",
    "    distrito_value = row_json[\"distrito\"]\n",
    "    sexo_value = row_json[\"sexo\"]\n",
    "    fecha_value = row_json[\"fecha\"]\n",
    "    \n",
    "    # Nodos\n",
    "    persona = Node(<<TO_BE_COMPLETED>>)\n",
    "    accidente = Node(<<TO_BE_COMPLETED>>)\n",
    "    lugar = Node(<<TO_BE_COMPLETED>>)\n",
    "\n",
    "    \n",
    "    # Relaciones\n",
    "    rel_accidente_persona = Relationship(<< COMPLETA EL CODIGO >>)\n",
    "    rel_accidente_lugar = Relationship(<< COMPLETA EL CODIGO >>)\n",
    "       \n",
    "    graph.merge(persona, \"Persona\", \"sexo\")\n",
    "    graph.merge(persona, \"Lugar\", \"distrito\")\n",
    "    graph.create(accidente | rel_accidente_persona | rel_accidente_lugar)\n",
    "    \n",
    "    if index % 100 == 0:\n",
    "        print(index)"
   ]
  },
  {
   "cell_type": "markdown",
   "metadata": {},
   "source": [
    "## Resolución del caso de uso"
   ]
  },
  {
   "cell_type": "markdown",
   "metadata": {},
   "source": [
    "### Datos del número de expediente 2020S000044"
   ]
  },
  {
   "cell_type": "code",
   "execution_count": 7,
   "metadata": {},
   "outputs": [],
   "source": [
    "%load_ext cypher"
   ]
  },
  {
   "cell_type": "code",
   "execution_count": null,
   "metadata": {},
   "outputs": [],
   "source": [
    "%%cypher\n",
    "<<TO_BE_COMPLETED>>"
   ]
  },
  {
   "cell_type": "markdown",
   "metadata": {},
   "source": [
    "Comprueba que se muestran los siguientes resultados:"
   ]
  },
  {
   "cell_type": "markdown",
   "metadata": {},
   "source": [
    "<img src=\"https://i.imgur.com/XgYCUNN.png\"> "
   ]
  },
  {
   "cell_type": "markdown",
   "metadata": {},
   "source": [
    "### Accidentes que ocurren en el distrito de Moratalaz ordenados por fecha"
   ]
  },
  {
   "cell_type": "code",
   "execution_count": null,
   "metadata": {},
   "outputs": [],
   "source": [
    "%%cypher\n",
    "<<TO_BE_COMPLETED>>"
   ]
  },
  {
   "cell_type": "markdown",
   "metadata": {},
   "source": [
    "Comprueba que se muestran los siguientes resultados:"
   ]
  },
  {
   "cell_type": "markdown",
   "metadata": {},
   "source": [
    "<img src=\"https://i.imgur.com/9bz5xWP.png\"> "
   ]
  },
  {
   "cell_type": "markdown",
   "metadata": {},
   "source": [
    "### Número de accidentes por tipo"
   ]
  },
  {
   "cell_type": "code",
   "execution_count": null,
   "metadata": {},
   "outputs": [],
   "source": [
    "%%cypher\n",
    "<<TO_BE_COMPLETED>>"
   ]
  },
  {
   "cell_type": "markdown",
   "metadata": {},
   "source": [
    "Comprueba que se muestran los siguientes resultados:"
   ]
  },
  {
   "cell_type": "markdown",
   "metadata": {},
   "source": [
    "<img src=\"https://i.imgur.com/wK8crWQ.png\">"
   ]
  },
  {
   "cell_type": "markdown",
   "metadata": {},
   "source": [
    "### Número de accidentes cuyo tipo es colisión frontal"
   ]
  },
  {
   "cell_type": "code",
   "execution_count": null,
   "metadata": {},
   "outputs": [],
   "source": [
    "%%cypher\n",
    "<<TO_BE_COMPLETED>>"
   ]
  },
  {
   "cell_type": "markdown",
   "metadata": {},
   "source": [
    "Comprueba que se muestran los siguientes resultados:"
   ]
  },
  {
   "cell_type": "markdown",
   "metadata": {},
   "source": [
    "<img src=\"https://i.imgur.com/3J5TnyX.png\">"
   ]
  },
  {
   "cell_type": "code",
   "execution_count": null,
   "metadata": {},
   "outputs": [],
   "source": []
  }
 ],
 "metadata": {
  "kernelspec": {
   "display_name": "Python 3 (ipykernel)",
   "language": "python",
   "name": "python3"
  },
  "language_info": {
   "codemirror_mode": {
    "name": "ipython",
    "version": 3
   },
   "file_extension": ".py",
   "mimetype": "text/x-python",
   "name": "python",
   "nbconvert_exporter": "python",
   "pygments_lexer": "ipython3",
   "version": "3.8.10"
  }
 },
 "nbformat": 4,
 "nbformat_minor": 4
}
