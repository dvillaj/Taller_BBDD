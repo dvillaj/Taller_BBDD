{
 "cells": [
  {
   "cell_type": "markdown",
   "metadata": {},
   "source": [
    "# MongoDB"
   ]
  },
  {
   "cell_type": "markdown",
   "metadata": {},
   "source": [
    "En MongoDB vamos a crear una única colección donde vamos a guardar todos los datos:"
   ]
  },
  {
   "cell_type": "markdown",
   "metadata": {},
   "source": [
    "<img src=\"images/MongoDB.png\">"
   ]
  },
  {
   "cell_type": "markdown",
   "metadata": {},
   "source": [
    "## Carga de datos en Pandas"
   ]
  },
  {
   "cell_type": "code",
   "execution_count": null,
   "metadata": {},
   "outputs": [],
   "source": [
    "import pandas as pd\n",
    "import datetime"
   ]
  },
  {
   "cell_type": "code",
   "execution_count": null,
   "metadata": {},
   "outputs": [],
   "source": [
    "df = pd.read_excel(\"data/accidentes.xlsx\", engine='openpyxl')\n",
    "df.info()"
   ]
  },
  {
   "cell_type": "code",
   "execution_count": null,
   "metadata": {},
   "outputs": [],
   "source": [
    "df.sample(10)"
   ]
  },
  {
   "cell_type": "markdown",
   "metadata": {},
   "source": [
    "## Carga de datos en Mongodb"
   ]
  },
  {
   "cell_type": "code",
   "execution_count": null,
   "metadata": {},
   "outputs": [],
   "source": [
    "import pymongo \n",
    "from pymongo import MongoClient\n",
    "from pymongo.errors import DuplicateKeyError\n",
    "import json\n",
    "\n",
    "from pprintpp import pprint as pp"
   ]
  },
  {
   "cell_type": "code",
   "execution_count": null,
   "metadata": {},
   "outputs": [],
   "source": [
    "# connect to database\n",
    "connection = MongoClient('localhost', 27017)"
   ]
  },
  {
   "cell_type": "code",
   "execution_count": null,
   "metadata": {},
   "outputs": [],
   "source": [
    "# Borramos la base de datos\n",
    "connection.drop_database('accidentes')\n",
    "\n",
    "db = connection.accidentes"
   ]
  },
  {
   "cell_type": "code",
   "execution_count": null,
   "metadata": {},
   "outputs": [],
   "source": [
    "json_string = df.to_json(orient = 'records')\n",
    "json_list = json.loads(json_string)"
   ]
  },
  {
   "cell_type": "code",
   "execution_count": null,
   "metadata": {},
   "outputs": [],
   "source": [
    "pp(json_list[0])"
   ]
  },
  {
   "cell_type": "markdown",
   "metadata": {},
   "source": [
    "Completa el siguiente código para insertar los datos en MongoDB:"
   ]
  },
  {
   "cell_type": "code",
   "execution_count": null,
   "metadata": {},
   "outputs": [],
   "source": [
    "for row_json in json_list:\n",
    "    row_json['fecha'] = datetime.datetime.fromtimestamp(row_json['fecha'] / 1e3)\n",
    "    \n",
    "    <<COMPLETA EL CODIGO>>"
   ]
  },
  {
   "cell_type": "markdown",
   "metadata": {},
   "source": [
    "NOTA: Es necesiario convertir la fecha a un tipo que monodb entienda ..."
   ]
  },
  {
   "cell_type": "markdown",
   "metadata": {},
   "source": [
    "## Resolución del caso de uso"
   ]
  },
  {
   "cell_type": "markdown",
   "metadata": {},
   "source": [
    "### Datos del número de expediente 2020S000044"
   ]
  },
  {
   "cell_type": "code",
   "execution_count": null,
   "metadata": {},
   "outputs": [],
   "source": [
    "<<COMPLETA EL CODIGO>>\n",
    "for doc in rs:\n",
    "    print(doc)"
   ]
  },
  {
   "cell_type": "markdown",
   "metadata": {},
   "source": [
    "Comprueba que te muestra el siguiente resultado:"
   ]
  },
  {
   "cell_type": "raw",
   "metadata": {},
   "source": [
    "{'_id': ObjectId('5fdaf494a7b30136e036e398'), 'num_expediente': '2020S000044', 'fecha': datetime.datetime(2020, 1, 2, 0, 0), 'distrito': 'SAN BLAS-CANILLEJAS', 'tipo_accidente': 'Colisión frontal', 'sexo': 'Hombre'}"
   ]
  },
  {
   "cell_type": "markdown",
   "metadata": {},
   "source": [
    "### Accidentes que ocurren en el distrito de Moratalaz ordenados por fecha"
   ]
  },
  {
   "cell_type": "code",
   "execution_count": null,
   "metadata": {},
   "outputs": [],
   "source": [
    "<<COMPLETA EL CODIGO>>\n",
    "for doc in rs:\n",
    "    print(doc)"
   ]
  },
  {
   "cell_type": "markdown",
   "metadata": {},
   "source": [
    "Comprueba que te muestra el siguiente resultado:"
   ]
  },
  {
   "cell_type": "raw",
   "metadata": {},
   "source": [
    "{'num_expediente': '2020S014930', 'fecha': datetime.datetime(2020, 10, 22, 0, 0), 'distrito': 'MORATALAZ', 'tipo_accidente': 'Caída', 'sexo': 'Hombre'}\n",
    "{'num_expediente': '2020S013510', 'fecha': datetime.datetime(2020, 9, 29, 0, 0), 'distrito': 'MORATALAZ', 'tipo_accidente': 'Caída', 'sexo': 'Hombre'}\n",
    "{'num_expediente': '2020S013471', 'fecha': datetime.datetime(2020, 9, 28, 0, 0), 'distrito': 'MORATALAZ', 'tipo_accidente': 'Caída', 'sexo': 'Mujer'}\n",
    "{'num_expediente': '2020S012562', 'fecha': datetime.datetime(2020, 9, 12, 0, 0), 'distrito': 'MORATALAZ', 'tipo_accidente': 'Caída', 'sexo': 'Hombre'}\n",
    "{'num_expediente': '2020S010126', 'fecha': datetime.datetime(2020, 7, 19, 0, 0), 'distrito': 'MORATALAZ', 'tipo_accidente': 'Caída', 'sexo': 'Hombre'}\n",
    "{'num_expediente': '2020S008969', 'fecha': datetime.datetime(2020, 6, 27, 0, 0), 'distrito': 'MORATALAZ', 'tipo_accidente': 'Caída', 'sexo': 'Mujer'}\n",
    "{'num_expediente': '2020S008582', 'fecha': datetime.datetime(2020, 6, 21, 0, 0), 'distrito': 'MORATALAZ', 'tipo_accidente': 'Caída', 'sexo': 'Hombre'}\n",
    "{'num_expediente': '2020S008440', 'fecha': datetime.datetime(2020, 6, 18, 0, 0), 'distrito': 'MORATALAZ', 'tipo_accidente': 'Caída', 'sexo': 'Hombre'}\n",
    "{'num_expediente': '2020S001078', 'fecha': datetime.datetime(2020, 1, 16, 0, 0), 'distrito': 'MORATALAZ', 'tipo_accidente': 'Colisión fronto-lateral', 'sexo': 'Hombre'}"
   ]
  },
  {
   "cell_type": "markdown",
   "metadata": {},
   "source": [
    "### Número de accidentes por tipo"
   ]
  },
  {
   "cell_type": "code",
   "execution_count": null,
   "metadata": {},
   "outputs": [],
   "source": [
    "<<COMPLETA EL CODIGO>>\n",
    "for doc in rs:\n",
    "    print(doc)"
   ]
  },
  {
   "cell_type": "markdown",
   "metadata": {},
   "source": [
    "Comprueba que te muestra el siguiente resultado:"
   ]
  },
  {
   "cell_type": "raw",
   "metadata": {},
   "source": [
    "{'total': 281, 'tipo_accidente': 'Caída'}\n",
    "{'total': 78, 'tipo_accidente': 'Alcance'}\n",
    "{'total': 20, 'tipo_accidente': 'Otro'}\n",
    "{'total': 13, 'tipo_accidente': 'Colisión frontal'}\n",
    "{'total': 1, 'tipo_accidente': 'Vuelco'}\n",
    "{'total': 20, 'tipo_accidente': 'Choque contra obstáculo fijo'}\n",
    "{'total': 46, 'tipo_accidente': 'Colisión lateral'}\n",
    "{'total': 153, 'tipo_accidente': 'Colisión fronto-lateral'}\n",
    "{'total': 2, 'tipo_accidente': 'Atropello a animal'}"
   ]
  },
  {
   "cell_type": "markdown",
   "metadata": {},
   "source": [
    "### Número de accidentes cuyo tipo es colisión frontal"
   ]
  },
  {
   "cell_type": "code",
   "execution_count": null,
   "metadata": {},
   "outputs": [],
   "source": [
    "<<COMPLETA EL CODIGO>>\n",
    "for doc in rs:\n",
    "    print(doc)"
   ]
  },
  {
   "cell_type": "markdown",
   "metadata": {},
   "source": [
    "Comprueba que te muestra el siguiente resultado:"
   ]
  },
  {
   "cell_type": "raw",
   "metadata": {},
   "source": [
    "{'total': 13, 'tipo_accidente': 'Colisión frontal'}"
   ]
  }
 ],
 "metadata": {
  "kernelspec": {
   "display_name": "Python 3",
   "language": "python",
   "name": "python3"
  },
  "language_info": {
   "codemirror_mode": {
    "name": "ipython",
    "version": 3
   },
   "file_extension": ".py",
   "mimetype": "text/x-python",
   "name": "python",
   "nbconvert_exporter": "python",
   "pygments_lexer": "ipython3",
   "version": "3.6.12"
  }
 },
 "nbformat": 4,
 "nbformat_minor": 4
}
