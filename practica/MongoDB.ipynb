{
 "cells": [
  {
   "cell_type": "markdown",
   "metadata": {},
   "source": [
    "# MongoDB"
   ]
  },
  {
   "cell_type": "markdown",
   "metadata": {},
   "source": [
    "En MongoDB vamos a crear una única colección donde vamos a guardar todos los datos:"
   ]
  },
  {
   "cell_type": "markdown",
   "metadata": {},
   "source": [
    "<img src=\"images/MongoDB.png\">"
   ]
  },
  {
   "cell_type": "markdown",
   "metadata": {},
   "source": [
    "## Carga de datos en Pandas"
   ]
  },
  {
   "cell_type": "code",
   "execution_count": 3,
   "metadata": {},
   "outputs": [],
   "source": [
    "import pandas as pd\n",
    "import datetime"
   ]
  },
  {
   "cell_type": "code",
   "execution_count": 4,
   "metadata": {},
   "outputs": [
    {
     "name": "stdout",
     "output_type": "stream",
     "text": [
      "<class 'pandas.core.frame.DataFrame'>\n",
      "RangeIndex: 614 entries, 0 to 613\n",
      "Data columns (total 5 columns):\n",
      " #   Column          Non-Null Count  Dtype         \n",
      "---  ------          --------------  -----         \n",
      " 0   num_expediente  614 non-null    object        \n",
      " 1   fecha           614 non-null    datetime64[ns]\n",
      " 2   distrito        614 non-null    object        \n",
      " 3   tipo_accidente  614 non-null    object        \n",
      " 4   sexo            614 non-null    object        \n",
      "dtypes: datetime64[ns](1), object(4)\n",
      "memory usage: 24.1+ KB\n"
     ]
    }
   ],
   "source": [
    "df = pd.read_excel(\"data/accidentes.xlsx\")\n",
    "df.info()"
   ]
  },
  {
   "cell_type": "code",
   "execution_count": 5,
   "metadata": {},
   "outputs": [
    {
     "data": {
      "text/html": [
       "<div>\n",
       "<style scoped>\n",
       "    .dataframe tbody tr th:only-of-type {\n",
       "        vertical-align: middle;\n",
       "    }\n",
       "\n",
       "    .dataframe tbody tr th {\n",
       "        vertical-align: top;\n",
       "    }\n",
       "\n",
       "    .dataframe thead th {\n",
       "        text-align: right;\n",
       "    }\n",
       "</style>\n",
       "<table border=\"1\" class=\"dataframe\">\n",
       "  <thead>\n",
       "    <tr style=\"text-align: right;\">\n",
       "      <th></th>\n",
       "      <th>num_expediente</th>\n",
       "      <th>fecha</th>\n",
       "      <th>distrito</th>\n",
       "      <th>tipo_accidente</th>\n",
       "      <th>sexo</th>\n",
       "    </tr>\n",
       "  </thead>\n",
       "  <tbody>\n",
       "    <tr>\n",
       "      <th>212</th>\n",
       "      <td>2020S007679</td>\n",
       "      <td>2020-06-02</td>\n",
       "      <td>PUENTE DE VALLECAS</td>\n",
       "      <td>Caída</td>\n",
       "      <td>Hombre</td>\n",
       "    </tr>\n",
       "    <tr>\n",
       "      <th>207</th>\n",
       "      <td>2020S007812</td>\n",
       "      <td>2020-06-02</td>\n",
       "      <td>HORTALEZA</td>\n",
       "      <td>Caída</td>\n",
       "      <td>Hombre</td>\n",
       "    </tr>\n",
       "    <tr>\n",
       "      <th>173</th>\n",
       "      <td>2020S007159</td>\n",
       "      <td>2020-05-23</td>\n",
       "      <td>MONCLOA-ARAVACA</td>\n",
       "      <td>Caída</td>\n",
       "      <td>Hombre</td>\n",
       "    </tr>\n",
       "    <tr>\n",
       "      <th>239</th>\n",
       "      <td>2020S008091</td>\n",
       "      <td>2020-06-10</td>\n",
       "      <td>ARGANZUELA</td>\n",
       "      <td>Caída</td>\n",
       "      <td>Mujer</td>\n",
       "    </tr>\n",
       "    <tr>\n",
       "      <th>588</th>\n",
       "      <td>2020S014930</td>\n",
       "      <td>2020-10-22</td>\n",
       "      <td>MORATALAZ</td>\n",
       "      <td>Caída</td>\n",
       "      <td>Hombre</td>\n",
       "    </tr>\n",
       "    <tr>\n",
       "      <th>185</th>\n",
       "      <td>2020S007318</td>\n",
       "      <td>2020-05-26</td>\n",
       "      <td>MONCLOA-ARAVACA</td>\n",
       "      <td>Caída</td>\n",
       "      <td>Hombre</td>\n",
       "    </tr>\n",
       "    <tr>\n",
       "      <th>522</th>\n",
       "      <td>2020S013108</td>\n",
       "      <td>2020-09-23</td>\n",
       "      <td>RETIRO</td>\n",
       "      <td>Caída</td>\n",
       "      <td>Hombre</td>\n",
       "    </tr>\n",
       "    <tr>\n",
       "      <th>564</th>\n",
       "      <td>2020S014144</td>\n",
       "      <td>2020-10-10</td>\n",
       "      <td>TETUÁN</td>\n",
       "      <td>Alcance</td>\n",
       "      <td>Hombre</td>\n",
       "    </tr>\n",
       "    <tr>\n",
       "      <th>451</th>\n",
       "      <td>2020S011580</td>\n",
       "      <td>2020-08-24</td>\n",
       "      <td>SAN BLAS-CANILLEJAS</td>\n",
       "      <td>Colisión fronto-lateral</td>\n",
       "      <td>Hombre</td>\n",
       "    </tr>\n",
       "    <tr>\n",
       "      <th>434</th>\n",
       "      <td>2020S011283</td>\n",
       "      <td>2020-08-14</td>\n",
       "      <td>CENTRO</td>\n",
       "      <td>Colisión fronto-lateral</td>\n",
       "      <td>Hombre</td>\n",
       "    </tr>\n",
       "  </tbody>\n",
       "</table>\n",
       "</div>"
      ],
      "text/plain": [
       "    num_expediente      fecha             distrito           tipo_accidente  \\\n",
       "212    2020S007679 2020-06-02   PUENTE DE VALLECAS                    Caída   \n",
       "207    2020S007812 2020-06-02            HORTALEZA                    Caída   \n",
       "173    2020S007159 2020-05-23      MONCLOA-ARAVACA                    Caída   \n",
       "239    2020S008091 2020-06-10           ARGANZUELA                    Caída   \n",
       "588    2020S014930 2020-10-22            MORATALAZ                    Caída   \n",
       "185    2020S007318 2020-05-26      MONCLOA-ARAVACA                    Caída   \n",
       "522    2020S013108 2020-09-23               RETIRO                    Caída   \n",
       "564    2020S014144 2020-10-10               TETUÁN                  Alcance   \n",
       "451    2020S011580 2020-08-24  SAN BLAS-CANILLEJAS  Colisión fronto-lateral   \n",
       "434    2020S011283 2020-08-14               CENTRO  Colisión fronto-lateral   \n",
       "\n",
       "       sexo  \n",
       "212  Hombre  \n",
       "207  Hombre  \n",
       "173  Hombre  \n",
       "239   Mujer  \n",
       "588  Hombre  \n",
       "185  Hombre  \n",
       "522  Hombre  \n",
       "564  Hombre  \n",
       "451  Hombre  \n",
       "434  Hombre  "
      ]
     },
     "execution_count": 5,
     "metadata": {},
     "output_type": "execute_result"
    }
   ],
   "source": [
    "df.sample(10)"
   ]
  },
  {
   "cell_type": "markdown",
   "metadata": {},
   "source": [
    "## Carga de datos en Mongodb"
   ]
  },
  {
   "cell_type": "code",
   "execution_count": 13,
   "metadata": {},
   "outputs": [],
   "source": [
    "import pymongo \n",
    "from pymongo import MongoClient\n",
    "from pymongo.errors import DuplicateKeyError\n",
    "import json\n",
    "\n",
    "from pprintpp import pprint as pp"
   ]
  },
  {
   "cell_type": "code",
   "execution_count": 14,
   "metadata": {},
   "outputs": [],
   "source": [
    "# connect to database\n",
    "connection = MongoClient('localhost', 27017)"
   ]
  },
  {
   "cell_type": "code",
   "execution_count": 15,
   "metadata": {},
   "outputs": [],
   "source": [
    "# Borramos la base de datos\n",
    "connection.drop_database('accidentes')\n",
    "\n",
    "db = connection.accidentes"
   ]
  },
  {
   "cell_type": "code",
   "execution_count": 16,
   "metadata": {},
   "outputs": [],
   "source": [
    "json_string = df.to_json(orient = 'records')\n",
    "json_list = json.loads(json_string)"
   ]
  },
  {
   "cell_type": "code",
   "execution_count": 17,
   "metadata": {},
   "outputs": [
    {
     "name": "stdout",
     "output_type": "stream",
     "text": [
      "{\n",
      "    'distrito': 'SAN BLAS-CANILLEJAS',\n",
      "    'fecha': 1577923200000,\n",
      "    'num_expediente': '2020S000044',\n",
      "    'sexo': 'Hombre',\n",
      "    'tipo_accidente': 'Colisión frontal',\n",
      "}\n"
     ]
    }
   ],
   "source": [
    "pp(json_list[0])"
   ]
  },
  {
   "cell_type": "markdown",
   "metadata": {},
   "source": [
    "Es necesiario convertir la fecha a un tipo que monodb entienda ..."
   ]
  },
  {
   "cell_type": "code",
   "execution_count": 18,
   "metadata": {},
   "outputs": [],
   "source": [
    "for row_json in json_list:\n",
    "    row_json['fecha'] = datetime.datetime.fromtimestamp(row_json['fecha'] / 1e3)\n",
    "    \n",
    "    <<TO_BE_COMPLETED>>"
   ]
  },
  {
   "cell_type": "markdown",
   "metadata": {},
   "source": [
    "## Resolución del caso de uso"
   ]
  },
  {
   "cell_type": "markdown",
   "metadata": {},
   "source": [
    "### Datos del número de expediente 2020S000044"
   ]
  },
  {
   "cell_type": "code",
   "execution_count": null,
   "metadata": {},
   "outputs": [],
   "source": [
    "<<TO_BE_COMPLETED>>\n",
    "for doc in rs:\n",
    "    print(doc)"
   ]
  },
  {
   "cell_type": "raw",
   "metadata": {},
   "source": [
    "{'_id': ObjectId('5fdaf494a7b30136e036e398'), 'num_expediente': '2020S000044', 'fecha': datetime.datetime(2020, 1, 2, 0, 0), 'distrito': 'SAN BLAS-CANILLEJAS', 'tipo_accidente': 'Colisión frontal', 'sexo': 'Hombre'}"
   ]
  },
  {
   "cell_type": "markdown",
   "metadata": {},
   "source": [
    "### Accidentes que ocurren en el distrito de Moratalaz ordenados por fecha"
   ]
  },
  {
   "cell_type": "code",
   "execution_count": null,
   "metadata": {},
   "outputs": [],
   "source": [
    "<<TO_BE_COMPLETED>>\n",
    "for doc in rs:\n",
    "    print(doc)"
   ]
  },
  {
   "cell_type": "raw",
   "metadata": {},
   "source": [
    "{'num_expediente': '2020S014930', 'fecha': datetime.datetime(2020, 10, 22, 0, 0), 'distrito': 'MORATALAZ', 'tipo_accidente': 'Caída', 'sexo': 'Hombre'}\n",
    "{'num_expediente': '2020S013510', 'fecha': datetime.datetime(2020, 9, 29, 0, 0), 'distrito': 'MORATALAZ', 'tipo_accidente': 'Caída', 'sexo': 'Hombre'}\n",
    "{'num_expediente': '2020S013471', 'fecha': datetime.datetime(2020, 9, 28, 0, 0), 'distrito': 'MORATALAZ', 'tipo_accidente': 'Caída', 'sexo': 'Mujer'}\n",
    "{'num_expediente': '2020S012562', 'fecha': datetime.datetime(2020, 9, 12, 0, 0), 'distrito': 'MORATALAZ', 'tipo_accidente': 'Caída', 'sexo': 'Hombre'}\n",
    "{'num_expediente': '2020S010126', 'fecha': datetime.datetime(2020, 7, 19, 0, 0), 'distrito': 'MORATALAZ', 'tipo_accidente': 'Caída', 'sexo': 'Hombre'}\n",
    "{'num_expediente': '2020S008969', 'fecha': datetime.datetime(2020, 6, 27, 0, 0), 'distrito': 'MORATALAZ', 'tipo_accidente': 'Caída', 'sexo': 'Mujer'}\n",
    "{'num_expediente': '2020S008582', 'fecha': datetime.datetime(2020, 6, 21, 0, 0), 'distrito': 'MORATALAZ', 'tipo_accidente': 'Caída', 'sexo': 'Hombre'}\n",
    "{'num_expediente': '2020S008440', 'fecha': datetime.datetime(2020, 6, 18, 0, 0), 'distrito': 'MORATALAZ', 'tipo_accidente': 'Caída', 'sexo': 'Hombre'}\n",
    "{'num_expediente': '2020S001078', 'fecha': datetime.datetime(2020, 1, 16, 0, 0), 'distrito': 'MORATALAZ', 'tipo_accidente': 'Colisión fronto-lateral', 'sexo': 'Hombre'}"
   ]
  },
  {
   "cell_type": "markdown",
   "metadata": {},
   "source": [
    "### Número de accidentes por tipo"
   ]
  },
  {
   "cell_type": "code",
   "execution_count": null,
   "metadata": {},
   "outputs": [],
   "source": [
    "<<TO_BE_COMPLETED>>\n",
    "for doc in rs:\n",
    "    print(doc)"
   ]
  },
  {
   "cell_type": "markdown",
   "metadata": {},
   "source": [
    "{'total': 281, 'tipo_accidente': 'Caída'}\n",
    "{'total': 78, 'tipo_accidente': 'Alcance'}\n",
    "{'total': 20, 'tipo_accidente': 'Otro'}\n",
    "{'total': 13, 'tipo_accidente': 'Colisión frontal'}\n",
    "{'total': 1, 'tipo_accidente': 'Vuelco'}\n",
    "{'total': 20, 'tipo_accidente': 'Choque contra obstáculo fijo'}\n",
    "{'total': 46, 'tipo_accidente': 'Colisión lateral'}\n",
    "{'total': 153, 'tipo_accidente': 'Colisión fronto-lateral'}\n",
    "{'total': 2, 'tipo_accidente': 'Atropello a animal'}"
   ]
  },
  {
   "cell_type": "markdown",
   "metadata": {},
   "source": [
    "### Número de accidentes cuyo tipo es colisión frontal"
   ]
  },
  {
   "cell_type": "code",
   "execution_count": null,
   "metadata": {},
   "outputs": [],
   "source": [
    "<<TO_BE_COMPLETED>>\n",
    "for doc in rs:\n",
    "    print(doc)"
   ]
  },
  {
   "cell_type": "raw",
   "metadata": {},
   "source": [
    "{'total': 13, 'tipo_accidente': 'Colisión frontal'}"
   ]
  }
 ],
 "metadata": {
  "kernelspec": {
   "display_name": "Python 3",
   "language": "python",
   "name": "python3"
  },
  "language_info": {
   "codemirror_mode": {
    "name": "ipython",
    "version": 3
   },
   "file_extension": ".py",
   "mimetype": "text/x-python",
   "name": "python",
   "nbconvert_exporter": "python",
   "pygments_lexer": "ipython3",
   "version": "3.6.9"
  }
 },
 "nbformat": 4,
 "nbformat_minor": 4
}
