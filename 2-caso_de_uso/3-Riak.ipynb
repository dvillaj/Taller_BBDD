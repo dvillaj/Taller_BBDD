{
 "cells": [
  {
   "cell_type": "markdown",
   "metadata": {},
   "source": [
    "# Riak"
   ]
  },
  {
   "cell_type": "code",
   "execution_count": 143,
   "metadata": {},
   "outputs": [],
   "source": [
    "import riak\n",
    "from pprintpp import pprint as pp\n",
    "import json\n",
    "import pandas as pd\n",
    "\n",
    "import uuid\n",
    "import hashlib"
   ]
  },
  {
   "cell_type": "markdown",
   "metadata": {},
   "source": [
    "## Lectura de información en Pandas"
   ]
  },
  {
   "cell_type": "markdown",
   "metadata": {},
   "source": [
    "Partimos del dataset normalizado y lo desnormalizamos para guardarlo todo junto en RIAK"
   ]
  },
  {
   "cell_type": "code",
   "execution_count": 144,
   "metadata": {
    "collapsed": false,
    "jupyter": {
     "outputs_hidden": false
    }
   },
   "outputs": [
    {
     "name": "stderr",
     "output_type": "stream",
     "text": [
      "Exception ignored in: <function RiakClient.__del__ at 0x7f218ad094c0>\n",
      "Traceback (most recent call last):\n",
      "  File \"/home/learner/venv/lib/python3.8/site-packages/riak/client/__init__.py\", line 149, in __del__\n",
      "    self.close()\n",
      "  File \"/home/learner/venv/lib/python3.8/site-packages/riak/client/__init__.py\", line 330, in close\n",
      "    self._tcp_pool.clear()\n",
      "  File \"/home/learner/venv/lib/python3.8/site-packages/riak/transports/pool.py\", line 234, in clear\n",
      "    for resource in self:\n",
      "  File \"/home/learner/venv/lib/python3.8/site-packages/riak/transports/pool.py\", line 290, in __next__\n",
      "    return self.next()\n",
      "  File \"/home/learner/venv/lib/python3.8/site-packages/riak/transports/pool.py\", line 285, in next\n",
      "    self.__claim_resources()\n",
      "  File \"/home/learner/venv/lib/python3.8/site-packages/riak/transports/pool.py\", line 296, in __claim_resources\n",
      "    self.releaser.wait()\n",
      "  File \"/usr/lib/python3.8/threading.py\", line 302, in wait\n",
      "    waiter.acquire()\n",
      "KeyboardInterrupt: \n"
     ]
    },
    {
     "name": "stdout",
     "output_type": "stream",
     "text": [
      "<class 'pandas.core.frame.DataFrame'>\n",
      "Int64Index: 7624 entries, 0 to 7623\n",
      "Data columns (total 11 columns):\n",
      " #   Column              Non-Null Count  Dtype         \n",
      "---  ------              --------------  -----         \n",
      " 0   id_miembro          7624 non-null   int64         \n",
      " 1   fecha               7624 non-null   datetime64[ns]\n",
      " 2   hora                7624 non-null   int64         \n",
      " 3   minuto              7624 non-null   int64         \n",
      " 4   importe             7624 non-null   float64       \n",
      " 5   comercio            6882 non-null   object        \n",
      " 6   actividad_completa  7621 non-null   object        \n",
      " 7   actividad           7621 non-null   object        \n",
      " 8   nombre              7624 non-null   object        \n",
      " 9   funcion             7624 non-null   object        \n",
      " 10  organizacion        6060 non-null   object        \n",
      "dtypes: datetime64[ns](1), float64(1), int64(3), object(6)\n",
      "memory usage: 714.8+ KB\n"
     ]
    }
   ],
   "source": [
    "df_mov = pd.read_excel(\"./data/black.xlsx\", sheet_name= \"Movimientos\",  engine='openpyxl')\n",
    "df_miembros = pd.read_excel(\"./data/black.xlsx\", sheet_name= \"Miembros\",  engine='openpyxl')\n",
    "df = pd.merge(df_mov, df_miembros, on = ['id_miembro'], how = 'inner')\n",
    "df.info()"
   ]
  },
  {
   "cell_type": "code",
   "execution_count": 145,
   "metadata": {
    "collapsed": false,
    "jupyter": {
     "outputs_hidden": false
    }
   },
   "outputs": [
    {
     "data": {
      "text/html": [
       "<div>\n",
       "<style scoped>\n",
       "    .dataframe tbody tr th:only-of-type {\n",
       "        vertical-align: middle;\n",
       "    }\n",
       "\n",
       "    .dataframe tbody tr th {\n",
       "        vertical-align: top;\n",
       "    }\n",
       "\n",
       "    .dataframe thead th {\n",
       "        text-align: right;\n",
       "    }\n",
       "</style>\n",
       "<table border=\"1\" class=\"dataframe\">\n",
       "  <thead>\n",
       "    <tr style=\"text-align: right;\">\n",
       "      <th></th>\n",
       "      <th>id_miembro</th>\n",
       "      <th>fecha</th>\n",
       "      <th>hora</th>\n",
       "      <th>minuto</th>\n",
       "      <th>importe</th>\n",
       "      <th>comercio</th>\n",
       "      <th>actividad_completa</th>\n",
       "      <th>actividad</th>\n",
       "      <th>nombre</th>\n",
       "      <th>funcion</th>\n",
       "      <th>organizacion</th>\n",
       "    </tr>\n",
       "  </thead>\n",
       "  <tbody>\n",
       "    <tr>\n",
       "      <th>0</th>\n",
       "      <td>77</td>\n",
       "      <td>2006-04-17</td>\n",
       "      <td>11</td>\n",
       "      <td>40</td>\n",
       "      <td>44.56</td>\n",
       "      <td>FCIA TORRES MU¬OZ</td>\n",
       "      <td>FARMACIAS</td>\n",
       "      <td>SALUD</td>\n",
       "      <td>Ricardo Romero de Tejada y Picatoste</td>\n",
       "      <td>concejal</td>\n",
       "      <td>Partido Popular</td>\n",
       "    </tr>\n",
       "    <tr>\n",
       "      <th>1</th>\n",
       "      <td>77</td>\n",
       "      <td>2010-12-18</td>\n",
       "      <td>14</td>\n",
       "      <td>35</td>\n",
       "      <td>3.65</td>\n",
       "      <td>PK VELAZQUEZ JORGE JUAN</td>\n",
       "      <td>GARAJES Y APARCAMIENTOS</td>\n",
       "      <td>COCHE</td>\n",
       "      <td>Ricardo Romero de Tejada y Picatoste</td>\n",
       "      <td>concejal</td>\n",
       "      <td>Partido Popular</td>\n",
       "    </tr>\n",
       "    <tr>\n",
       "      <th>2</th>\n",
       "      <td>77</td>\n",
       "      <td>2009-04-06</td>\n",
       "      <td>11</td>\n",
       "      <td>56</td>\n",
       "      <td>1000.00</td>\n",
       "      <td>ANTONIO HUESO</td>\n",
       "      <td>ELECTRODOMESTICOS,EQUIPOS ELECTRICOS</td>\n",
       "      <td>HOGAR</td>\n",
       "      <td>Ricardo Romero de Tejada y Picatoste</td>\n",
       "      <td>concejal</td>\n",
       "      <td>Partido Popular</td>\n",
       "    </tr>\n",
       "    <tr>\n",
       "      <th>3</th>\n",
       "      <td>77</td>\n",
       "      <td>2007-10-19</td>\n",
       "      <td>10</td>\n",
       "      <td>49</td>\n",
       "      <td>102.91</td>\n",
       "      <td>CEDIPSA 17017-1 TRUJILLO</td>\n",
       "      <td>CEPSA</td>\n",
       "      <td>COCHE</td>\n",
       "      <td>Ricardo Romero de Tejada y Picatoste</td>\n",
       "      <td>concejal</td>\n",
       "      <td>Partido Popular</td>\n",
       "    </tr>\n",
       "    <tr>\n",
       "      <th>4</th>\n",
       "      <td>77</td>\n",
       "      <td>2010-02-11</td>\n",
       "      <td>16</td>\n",
       "      <td>48</td>\n",
       "      <td>68.95</td>\n",
       "      <td>CEDIPSA 17018-1 TRUJILLO</td>\n",
       "      <td>CEPSA</td>\n",
       "      <td>COCHE</td>\n",
       "      <td>Ricardo Romero de Tejada y Picatoste</td>\n",
       "      <td>concejal</td>\n",
       "      <td>Partido Popular</td>\n",
       "    </tr>\n",
       "  </tbody>\n",
       "</table>\n",
       "</div>"
      ],
      "text/plain": [
       "   id_miembro      fecha  hora  minuto  importe                  comercio  \\\n",
       "0          77 2006-04-17    11      40    44.56         FCIA TORRES MU¬OZ   \n",
       "1          77 2010-12-18    14      35     3.65   PK VELAZQUEZ JORGE JUAN   \n",
       "2          77 2009-04-06    11      56  1000.00             ANTONIO HUESO   \n",
       "3          77 2007-10-19    10      49   102.91  CEDIPSA 17017-1 TRUJILLO   \n",
       "4          77 2010-02-11    16      48    68.95  CEDIPSA 17018-1 TRUJILLO   \n",
       "\n",
       "                     actividad_completa actividad  \\\n",
       "0                             FARMACIAS     SALUD   \n",
       "1               GARAJES Y APARCAMIENTOS     COCHE   \n",
       "2  ELECTRODOMESTICOS,EQUIPOS ELECTRICOS     HOGAR   \n",
       "3                                 CEPSA     COCHE   \n",
       "4                                 CEPSA     COCHE   \n",
       "\n",
       "                                 nombre   funcion     organizacion  \n",
       "0  Ricardo Romero de Tejada y Picatoste  concejal  Partido Popular  \n",
       "1  Ricardo Romero de Tejada y Picatoste  concejal  Partido Popular  \n",
       "2  Ricardo Romero de Tejada y Picatoste  concejal  Partido Popular  \n",
       "3  Ricardo Romero de Tejada y Picatoste  concejal  Partido Popular  \n",
       "4  Ricardo Romero de Tejada y Picatoste  concejal  Partido Popular  "
      ]
     },
     "execution_count": 145,
     "metadata": {},
     "output_type": "execute_result"
    }
   ],
   "source": [
    "df.head(5)"
   ]
  },
  {
   "cell_type": "markdown",
   "metadata": {},
   "source": [
    "## Funciones de Utilidad"
   ]
  },
  {
   "cell_type": "markdown",
   "metadata": {},
   "source": [
    "### Funcion para convertir una lista de JSON a Pandas"
   ]
  },
  {
   "cell_type": "markdown",
   "metadata": {},
   "source": [
    "En la siguiente función partimos del objeto JSON que nos devuelve RIAK y generamos un DataFrame Pandas.\n",
    "\n",
    "En el caso de la fecha, lo convertimos desde un UNIX Timestamp al formato correcto para Pandas"
   ]
  },
  {
   "cell_type": "code",
   "execution_count": 146,
   "metadata": {},
   "outputs": [],
   "source": [
    "def json_to_pandas(rows):\n",
    "    # Convertimos el objeto JSON en un objeto pandas \n",
    "    df = pd.read_json(json.dumps(rows))\n",
    "    \n",
    "    if 'fecha' in df.columns:\n",
    "        # Las fechas están en formato UNIX TIMESTAMP. Las volvemos a convertir a formato Date...\n",
    "        df = df.assign(fecha = pd.to_datetime(df.fecha, unit = 'ms'))\n",
    "\n",
    "    return df"
   ]
  },
  {
   "cell_type": "code",
   "execution_count": 147,
   "metadata": {},
   "outputs": [
    {
     "data": {
      "text/html": [
       "<div>\n",
       "<style scoped>\n",
       "    .dataframe tbody tr th:only-of-type {\n",
       "        vertical-align: middle;\n",
       "    }\n",
       "\n",
       "    .dataframe tbody tr th {\n",
       "        vertical-align: top;\n",
       "    }\n",
       "\n",
       "    .dataframe thead th {\n",
       "        text-align: right;\n",
       "    }\n",
       "</style>\n",
       "<table border=\"1\" class=\"dataframe\">\n",
       "  <thead>\n",
       "    <tr style=\"text-align: right;\">\n",
       "      <th></th>\n",
       "      <th>column1</th>\n",
       "      <th>column2</th>\n",
       "    </tr>\n",
       "  </thead>\n",
       "  <tbody>\n",
       "    <tr>\n",
       "      <th>0</th>\n",
       "      <td>1</td>\n",
       "      <td>2</td>\n",
       "    </tr>\n",
       "    <tr>\n",
       "      <th>1</th>\n",
       "      <td>13</td>\n",
       "      <td>23</td>\n",
       "    </tr>\n",
       "  </tbody>\n",
       "</table>\n",
       "</div>"
      ],
      "text/plain": [
       "   column1  column2\n",
       "0        1        2\n",
       "1       13       23"
      ]
     },
     "execution_count": 147,
     "metadata": {},
     "output_type": "execute_result"
    }
   ],
   "source": [
    "values = [\n",
    "    { \"column1\" : 1, \"column2\": 2 },\n",
    "    { \"column1\" : 13, \"column2\": 23 }\n",
    "]\n",
    "\n",
    "json_to_pandas(values)\n",
    "    "
   ]
  },
  {
   "cell_type": "markdown",
   "metadata": {},
   "source": [
    "### Funcion para obtener el código Hash de un String"
   ]
  },
  {
   "cell_type": "markdown",
   "metadata": {},
   "source": [
    "La siguiente función convertirá un String a un código HASH que tiene la propiedad de ser siempre el mismo para un determinado String"
   ]
  },
  {
   "cell_type": "code",
   "execution_count": 153,
   "metadata": {
    "tags": []
   },
   "outputs": [],
   "source": [
    "def hash_string(value):\n",
    "    value_utf8 = value.encode('utf-8')\n",
    "    return hashlib.md5(value_utf8).hexdigest()"
   ]
  },
  {
   "cell_type": "code",
   "execution_count": 154,
   "metadata": {},
   "outputs": [
    {
     "name": "stdout",
     "output_type": "stream",
     "text": [
      "779955fdd274a9b63005b12a95f8c639\n"
     ]
    }
   ],
   "source": [
    "print(hash_string(\"Nombre Apellido\"))"
   ]
  },
  {
   "cell_type": "code",
   "execution_count": 155,
   "metadata": {},
   "outputs": [
    {
     "name": "stdout",
     "output_type": "stream",
     "text": [
      "779955fdd274a9b63005b12a95f8c639\n"
     ]
    }
   ],
   "source": [
    "print(hash_string(\"Nombre Apellido\"))"
   ]
  },
  {
   "cell_type": "code",
   "execution_count": 156,
   "metadata": {},
   "outputs": [
    {
     "name": "stdout",
     "output_type": "stream",
     "text": [
      "21775d9ca6b4e250f0a0f6097e329f37\n"
     ]
    }
   ],
   "source": [
    "print(hash_string(\"Nombre Otro Apellido\"))"
   ]
  },
  {
   "cell_type": "markdown",
   "metadata": {},
   "source": [
    "## Riak ..."
   ]
  },
  {
   "cell_type": "code",
   "execution_count": 152,
   "metadata": {
    "collapsed": false,
    "jupyter": {
     "outputs_hidden": false
    }
   },
   "outputs": [
    {
     "data": {
      "text/plain": [
       "True"
      ]
     },
     "execution_count": 152,
     "metadata": {},
     "output_type": "execute_result"
    }
   ],
   "source": [
    "# connect to database\n",
    "cliente = riak.RiakClient()\n",
    "cliente.ping()"
   ]
  },
  {
   "cell_type": "markdown",
   "metadata": {},
   "source": [
    "Utilizamos un bucket para guardar los movimientos en formato JSON y otro para guardar el importe acumulado por miembro.\n",
    "\n",
    "En el bucket de movimientos utilizamos una clave autogenerada (no vamos a poder localizar los movimientos por clave) y en el bucket con el importe acumulado la clave es el nombre de la persona en formato HASH, para no tener problemas ni con los espacios del nombre ni con los acentos\n",
    "\n",
    "Se van a crear los siguientes buckets:"
   ]
  },
  {
   "cell_type": "markdown",
   "metadata": {},
   "source": [
    "<style>\n",
    "table {float:left}\n",
    "</style>\n",
    "\n",
    "\n",
    "|bucket|Clave|Contenido|\n",
    "|:-----|-----|---------|\n",
    "|movimientos|Marca temporal|Todos los datos del dataset en formnato JSON y desnormalizados|\n",
    "|acum_importes|Código HASH de la persona que realiza el movimiento|**Mapa** con el nombre de la persona y el importe acumulado|"
   ]
  },
  {
   "cell_type": "markdown",
   "metadata": {},
   "source": [
    "El bucket de movientos tendrá los siguientes índices:"
   ]
  },
  {
   "cell_type": "markdown",
   "metadata": {},
   "source": [
    "|Nombre del índice|Contenido|¿Que busquedas permite hacer?|\n",
    "|-|-|-|\n",
    "|idx_miembro_bin|Nombre de la persona|Localizar movimientos de una persona concreta|"
   ]
  },
  {
   "cell_type": "code",
   "execution_count": 109,
   "metadata": {
    "collapsed": false,
    "jupyter": {
     "outputs_hidden": false
    }
   },
   "outputs": [],
   "source": [
    "BUCKET_MOVIMIENTOS = 'movimientos'\n",
    "BUCKET_ACUM_IMPORTES = 'acum_importes'\n",
    "\n",
    "bucket_mov = cliente.bucket(BUCKET_MOVIMIENTOS)\n",
    "bucket_acum_importes = cliente.bucket_type('maps').bucket(BUCKET_ACUM_IMPORTES)"
   ]
  },
  {
   "cell_type": "markdown",
   "metadata": {},
   "source": [
    "Función para eliminar los datos de un BUCKET de Riak"
   ]
  },
  {
   "cell_type": "code",
   "execution_count": 110,
   "metadata": {},
   "outputs": [],
   "source": [
    "# Se permiten operaciones de listado (No utilizar en PRODUCCION!)\n",
    "riak.disable_list_exceptions = True"
   ]
  },
  {
   "cell_type": "code",
   "execution_count": 111,
   "metadata": {
    "collapsed": false,
    "jupyter": {
     "outputs_hidden": false
    }
   },
   "outputs": [],
   "source": [
    "def drop_keys(bucket):\n",
    "    for keys in bucket.stream_keys():\n",
    "        for key in keys:\n",
    "            bucket.delete(key)"
   ]
  },
  {
   "cell_type": "code",
   "execution_count": 112,
   "metadata": {
    "collapsed": false,
    "jupyter": {
     "outputs_hidden": false
    }
   },
   "outputs": [],
   "source": [
    "# Borramos los datos ..\n",
    "drop_keys(bucket_mov)\n",
    "drop_keys(bucket_acum_importes)"
   ]
  },
  {
   "cell_type": "code",
   "execution_count": 113,
   "metadata": {},
   "outputs": [],
   "source": [
    "riak.disable_list_exceptions = False"
   ]
  },
  {
   "cell_type": "markdown",
   "metadata": {},
   "source": [
    "## Inserción de información en Riak"
   ]
  },
  {
   "cell_type": "markdown",
   "metadata": {},
   "source": [
    "Para generar los datos en formato JSON partimos del DataFrame de Pandas y lo exportamos a JSON (en formato String) para luego cargarlo en un diccionario de Python\n",
    "\n",
    "Observa que cuando se genera el dato en formato JSON, los campos fechas se almacenan como un [TIMESTAMP de unix](http://www.unixtimestamp.com), por lo que habría que volver a convertirlo a fecha según el caso"
   ]
  },
  {
   "cell_type": "code",
   "execution_count": 114,
   "metadata": {
    "collapsed": false,
    "jupyter": {
     "outputs_hidden": false
    }
   },
   "outputs": [],
   "source": [
    "json_string = df.to_json(orient = 'records')\n",
    "json_list = json.loads(json_string)"
   ]
  },
  {
   "cell_type": "code",
   "execution_count": 115,
   "metadata": {
    "collapsed": false,
    "jupyter": {
     "outputs_hidden": false
    }
   },
   "outputs": [
    {
     "name": "stdout",
     "output_type": "stream",
     "text": [
      "7624\n"
     ]
    }
   ],
   "source": [
    "print(len(json_list))"
   ]
  },
  {
   "cell_type": "code",
   "execution_count": 116,
   "metadata": {
    "collapsed": false,
    "jupyter": {
     "outputs_hidden": false
    }
   },
   "outputs": [
    {
     "name": "stdout",
     "output_type": "stream",
     "text": [
      "{\n",
      "    'actividad': 'SALUD',\n",
      "    'actividad_completa': 'FARMACIAS',\n",
      "    'comercio': 'FCIA TORRES MU¬OZ',\n",
      "    'fecha': 1145232000000,\n",
      "    'funcion': 'concejal',\n",
      "    'hora': 11,\n",
      "    'id_miembro': 77,\n",
      "    'importe': 44.56,\n",
      "    'minuto': 40,\n",
      "    'nombre': 'Ricardo Romero de Tejada y Picatoste',\n",
      "    'organizacion': 'Partido Popular',\n",
      "}\n"
     ]
    }
   ],
   "source": [
    "pp(json_list[0])"
   ]
  },
  {
   "cell_type": "markdown",
   "metadata": {},
   "source": [
    "Vamos a utilizar el nombre de la persona como clave, por lo que necesitamos convertirla previamente a un código que no lleve ni espacios ni acentos. Para ello utilizaremos la función que convierte un String a un código Hash!"
   ]
  },
  {
   "cell_type": "markdown",
   "metadata": {},
   "source": [
    "Recorremos el dataset de movimientos, almacenando la información tanto en el bucket de movimientos como en el bucket que acumula los movimientos por cliente.\n",
    "\n",
    "En este último utilizamos una funcionalidad que nos da Riak para guardar la información tipificada. Utilizamos un mapa que tiene dos elementos: Un registro donde guardamos el nombre del cliente y un contador donde guardamos el importe.\n",
    "\n",
    "Como el contador no puede guardar datos decimimales, convertimos el importe a un entero multiplicando por 100. Cuando recuperemos la informacion devemos de dividir por 100 para volver a tener decimales"
   ]
  },
  {
   "cell_type": "code",
   "execution_count": 119,
   "metadata": {
    "collapsed": false,
    "jupyter": {
     "outputs_hidden": false
    }
   },
   "outputs": [
    {
     "name": "stdout",
     "output_type": "stream",
     "text": [
      "0\n",
      "500\n",
      "1000\n",
      "1500\n",
      "2000\n",
      "Yes!\n",
      "Yes!\n",
      "Yes!\n",
      "Yes!\n",
      "Yes!\n",
      "Yes!\n",
      "Yes!\n",
      "Yes!\n",
      "Yes!\n",
      "Yes!\n",
      "Yes!\n",
      "Yes!\n",
      "Yes!\n",
      "Yes!\n",
      "Yes!\n",
      "Yes!\n",
      "Yes!\n",
      "Yes!\n",
      "Yes!\n",
      "Yes!\n",
      "Yes!\n",
      "Yes!\n",
      "Yes!\n",
      "Yes!\n",
      "Yes!\n",
      "Yes!\n",
      "Yes!\n",
      "Yes!\n",
      "Yes!\n",
      "Yes!\n",
      "Yes!\n",
      "Yes!\n",
      "Yes!\n",
      "Yes!\n",
      "Yes!\n",
      "Yes!\n",
      "Yes!\n",
      "Yes!\n",
      "Yes!\n",
      "Yes!\n",
      "Yes!\n",
      "Yes!\n",
      "Yes!\n",
      "Yes!\n",
      "Yes!\n",
      "Yes!\n",
      "Yes!\n",
      "Yes!\n",
      "Yes!\n",
      "Yes!\n",
      "Yes!\n",
      "Yes!\n",
      "Yes!\n",
      "Yes!\n",
      "Yes!\n",
      "Yes!\n",
      "Yes!\n",
      "Yes!\n",
      "Yes!\n",
      "Yes!\n",
      "Yes!\n",
      "Yes!\n",
      "Yes!\n",
      "Yes!\n",
      "Yes!\n",
      "Yes!\n",
      "Yes!\n",
      "Yes!\n",
      "Yes!\n",
      "Yes!\n",
      "Yes!\n",
      "Yes!\n",
      "Yes!\n",
      "Yes!\n",
      "Yes!\n",
      "Yes!\n",
      "Yes!\n",
      "Yes!\n",
      "Yes!\n",
      "Yes!\n",
      "Yes!\n",
      "Yes!\n",
      "Yes!\n",
      "Yes!\n",
      "Yes!\n",
      "Yes!\n",
      "Yes!\n",
      "Yes!\n",
      "Yes!\n",
      "Yes!\n",
      "Yes!\n",
      "Yes!\n",
      "Yes!\n",
      "Yes!\n",
      "Yes!\n",
      "Yes!\n",
      "Yes!\n",
      "Yes!\n",
      "Yes!\n",
      "Yes!\n",
      "Yes!\n",
      "Yes!\n",
      "Yes!\n",
      "Yes!\n",
      "Yes!\n",
      "Yes!\n",
      "Yes!\n",
      "Yes!\n",
      "Yes!\n",
      "Yes!\n",
      "Yes!\n",
      "Yes!\n",
      "Yes!\n",
      "Yes!\n",
      "Yes!\n",
      "Yes!\n",
      "Yes!\n",
      "Yes!\n",
      "Yes!\n",
      "Yes!\n",
      "Yes!\n",
      "Yes!\n",
      "Yes!\n",
      "Yes!\n",
      "Yes!\n",
      "Yes!\n",
      "Yes!\n",
      "Yes!\n",
      "Yes!\n",
      "Yes!\n",
      "Yes!\n",
      "Yes!\n",
      "Yes!\n",
      "Yes!\n",
      "Yes!\n",
      "Yes!\n",
      "Yes!\n",
      "Yes!\n",
      "Yes!\n",
      "Yes!\n",
      "Yes!\n",
      "Yes!\n",
      "Yes!\n",
      "Yes!\n",
      "Yes!\n",
      "Yes!\n",
      "Yes!\n",
      "Yes!\n",
      "Yes!\n",
      "Yes!\n",
      "Yes!\n",
      "Yes!\n",
      "Yes!\n",
      "Yes!\n",
      "Yes!\n",
      "Yes!\n",
      "Yes!\n",
      "Yes!\n",
      "Yes!\n",
      "Yes!\n",
      "Yes!\n",
      "Yes!\n",
      "Yes!\n",
      "Yes!\n",
      "Yes!\n",
      "Yes!\n",
      "Yes!\n",
      "Yes!\n",
      "Yes!\n",
      "Yes!\n",
      "Yes!\n",
      "Yes!\n",
      "Yes!\n",
      "Yes!\n",
      "Yes!\n",
      "Yes!\n",
      "Yes!\n",
      "Yes!\n",
      "Yes!\n",
      "Yes!\n",
      "Yes!\n",
      "Yes!\n",
      "Yes!\n",
      "Yes!\n",
      "Yes!\n",
      "Yes!\n",
      "Yes!\n",
      "Yes!\n",
      "Yes!\n",
      "Yes!\n",
      "Yes!\n",
      "Yes!\n",
      "Yes!\n",
      "Yes!\n",
      "Yes!\n",
      "Yes!\n",
      "Yes!\n",
      "Yes!\n",
      "Yes!\n",
      "Yes!\n",
      "Yes!\n",
      "Yes!\n",
      "Yes!\n",
      "Yes!\n",
      "Yes!\n",
      "Yes!\n",
      "Yes!\n",
      "Yes!\n",
      "Yes!\n",
      "Yes!\n",
      "Yes!\n",
      "Yes!\n",
      "Yes!\n",
      "Yes!\n",
      "Yes!\n",
      "Yes!\n",
      "Yes!\n",
      "Yes!\n",
      "Yes!\n",
      "Yes!\n",
      "Yes!\n",
      "Yes!\n",
      "Yes!\n",
      "Yes!\n",
      "Yes!\n",
      "Yes!\n",
      "Yes!\n",
      "Yes!\n",
      "Yes!\n",
      "Yes!\n",
      "Yes!\n",
      "Yes!\n",
      "Yes!\n",
      "Yes!\n",
      "Yes!\n",
      "Yes!\n",
      "Yes!\n",
      "Yes!\n",
      "Yes!\n",
      "Yes!\n",
      "Yes!\n",
      "Yes!\n",
      "Yes!\n",
      "Yes!\n",
      "Yes!\n",
      "Yes!\n",
      "Yes!\n",
      "Yes!\n",
      "Yes!\n",
      "Yes!\n",
      "Yes!\n",
      "Yes!\n",
      "Yes!\n",
      "Yes!\n",
      "Yes!\n",
      "Yes!\n",
      "Yes!\n",
      "Yes!\n",
      "Yes!\n",
      "Yes!\n",
      "Yes!\n",
      "Yes!\n",
      "Yes!\n",
      "Yes!\n",
      "Yes!\n",
      "Yes!\n",
      "Yes!\n",
      "Yes!\n",
      "Yes!\n",
      "Yes!\n",
      "Yes!\n",
      "2500\n",
      "3000\n",
      "3500\n",
      "4000\n",
      "4500\n",
      "5000\n",
      "5500\n",
      "6000\n",
      "6500\n",
      "7000\n",
      "7500\n"
     ]
    }
   ],
   "source": [
    "# Bucle de carga de datos ...\n",
    "for index, movimiento_json in enumerate(json_list):\n",
    "    key = uuid.uuid4().hex\n",
    "    hash_nombre =  hash_string(movimiento_json[\"nombre\"])\n",
    "    \n",
    "    movimiento = bucket_mov.new(key, movimiento_json)\n",
    "    movimiento.add_index('idx_miembro_bin', hash_nombre)\n",
    "    movimiento.store()\n",
    "    \n",
    "    map_nombre = bucket_acum_importes.new(hash_nombre)\n",
    "    map_nombre.registers['nombre'].assign(movimiento_json[\"nombre\"])\n",
    "    map_nombre.counters['importe'].increment(int(round(movimiento_json[\"importe\"] * 100)))\n",
    "    map_nombre.store()\n",
    "    \n",
    "    if index % 500 == 0:\n",
    "        print(index)"
   ]
  },
  {
   "cell_type": "markdown",
   "metadata": {},
   "source": [
    "Comprobamos que los datos están correctos en los 3 primeros registros"
   ]
  },
  {
   "cell_type": "code",
   "execution_count": 130,
   "metadata": {},
   "outputs": [
    {
     "data": {
      "text/html": [
       "<div>\n",
       "<style scoped>\n",
       "    .dataframe tbody tr th:only-of-type {\n",
       "        vertical-align: middle;\n",
       "    }\n",
       "\n",
       "    .dataframe tbody tr th {\n",
       "        vertical-align: top;\n",
       "    }\n",
       "\n",
       "    .dataframe thead th {\n",
       "        text-align: right;\n",
       "    }\n",
       "</style>\n",
       "<table border=\"1\" class=\"dataframe\">\n",
       "  <thead>\n",
       "    <tr style=\"text-align: right;\">\n",
       "      <th></th>\n",
       "      <th>id_miembro</th>\n",
       "      <th>fecha</th>\n",
       "      <th>hora</th>\n",
       "      <th>minuto</th>\n",
       "      <th>importe</th>\n",
       "      <th>comercio</th>\n",
       "      <th>actividad_completa</th>\n",
       "      <th>actividad</th>\n",
       "      <th>nombre</th>\n",
       "      <th>funcion</th>\n",
       "      <th>organizacion</th>\n",
       "    </tr>\n",
       "  </thead>\n",
       "  <tbody>\n",
       "    <tr>\n",
       "      <th>0</th>\n",
       "      <td>29</td>\n",
       "      <td>2007-11-26</td>\n",
       "      <td>19</td>\n",
       "      <td>27</td>\n",
       "      <td>74.00</td>\n",
       "      <td>BOCH, SA</td>\n",
       "      <td>CONFECCION TEXTIL EN GENERAL</td>\n",
       "      <td>ROPA</td>\n",
       "      <td>Javier de Miguel Sánchez</td>\n",
       "      <td>concejal</td>\n",
       "      <td>Partido Popular</td>\n",
       "    </tr>\n",
       "    <tr>\n",
       "      <th>1</th>\n",
       "      <td>78</td>\n",
       "      <td>2008-07-27</td>\n",
       "      <td>16</td>\n",
       "      <td>45</td>\n",
       "      <td>30.04</td>\n",
       "      <td>LUCIO IBA#EZ GRANDE</td>\n",
       "      <td>TAXIS</td>\n",
       "      <td>COCHE</td>\n",
       "      <td>Rodolfo Benito Valenciano</td>\n",
       "      <td>concejal</td>\n",
       "      <td>CC OO</td>\n",
       "    </tr>\n",
       "    <tr>\n",
       "      <th>2</th>\n",
       "      <td>73</td>\n",
       "      <td>2006-06-20</td>\n",
       "      <td>16</td>\n",
       "      <td>37</td>\n",
       "      <td>85.05</td>\n",
       "      <td>RESTAURANTE EL CEBADERO</td>\n",
       "      <td>RESTAURANTES RESTO</td>\n",
       "      <td>RESTAURANTE</td>\n",
       "      <td>Ramón Espinar Gallego</td>\n",
       "      <td>concejal</td>\n",
       "      <td>PSOE</td>\n",
       "    </tr>\n",
       "  </tbody>\n",
       "</table>\n",
       "</div>"
      ],
      "text/plain": [
       "   id_miembro      fecha  hora  minuto  importe                 comercio  \\\n",
       "0          29 2007-11-26    19      27    74.00                 BOCH, SA   \n",
       "1          78 2008-07-27    16      45    30.04      LUCIO IBA#EZ GRANDE   \n",
       "2          73 2006-06-20    16      37    85.05  RESTAURANTE EL CEBADERO   \n",
       "\n",
       "             actividad_completa    actividad                     nombre  \\\n",
       "0  CONFECCION TEXTIL EN GENERAL         ROPA   Javier de Miguel Sánchez   \n",
       "1                         TAXIS        COCHE  Rodolfo Benito Valenciano   \n",
       "2            RESTAURANTES RESTO  RESTAURANTE      Ramón Espinar Gallego   \n",
       "\n",
       "    funcion     organizacion  \n",
       "0  concejal  Partido Popular  \n",
       "1  concejal            CC OO  \n",
       "2  concejal             PSOE  "
      ]
     },
     "execution_count": 130,
     "metadata": {},
     "output_type": "execute_result"
    }
   ],
   "source": [
    "riak.disable_list_exceptions = True\n",
    "\n",
    "values = []\n",
    "for key in bucket_mov.get_keys()[0:3]:\n",
    "    data = bucket_mov.get(key).data\n",
    "    values.append(data)\n",
    "    \n",
    "riak.disable_list_exceptions = False\n",
    "\n",
    "json_to_pandas(values)"
   ]
  },
  {
   "cell_type": "markdown",
   "metadata": {},
   "source": [
    "Ahora mostramos los datos del bucket con los datos acumulados ..."
   ]
  },
  {
   "cell_type": "code",
   "execution_count": 131,
   "metadata": {},
   "outputs": [
    {
     "name": "stdout",
     "output_type": "stream",
     "text": [
      "dc08b13bdd86444d8ded7273a8e3ff90 -> {('importe', 'counter'): 1157991, ('nombre', 'register'): 'Jorge Gómez Moreno'}\n",
      "929daca40203a3aa05b3446ecfe7ef46 -> {('importe', 'counter'): 699703, ('nombre', 'register'): 'Beltrán Gutiérrez Moliner'}\n",
      "d51e4e145b8fb8b841381c565704890e -> {('importe', 'counter'): 3155645, ('nombre', 'register'): 'Carmen Contreras Gómez'}\n"
     ]
    }
   ],
   "source": [
    "riak.disable_list_exceptions = True\n",
    "\n",
    "for key in bucket_acum_importes.get_keys()[0:3]:\n",
    "    data = bucket_acum_importes.get(key).value\n",
    "    print('%s -> %s' % (key, data))\n",
    "\n",
    "riak.disable_list_exceptions = False"
   ]
  },
  {
   "cell_type": "markdown",
   "metadata": {},
   "source": [
    "# Lectura de información en Riak"
   ]
  },
  {
   "cell_type": "markdown",
   "metadata": {},
   "source": [
    "### Lectura del bucket de movimientos"
   ]
  },
  {
   "cell_type": "markdown",
   "metadata": {},
   "source": [
    "Cargamos todos los movimientos de la base de datos y lo guardamos en un objeto Pandas, ya que hay ciertas preguntas que no pueden resolverse directamente por esta base de datos\n",
    "\n",
    "Recuerda que RIAK permite obtener información de un clave, pero no le es posible devolver la información ordenada ..."
   ]
  },
  {
   "cell_type": "code",
   "execution_count": 132,
   "metadata": {
    "collapsed": false,
    "jupyter": {
     "outputs_hidden": false
    }
   },
   "outputs": [],
   "source": [
    "rows = []\n",
    "riak.disable_list_exceptions = True\n",
    "for keys in bucket_mov.stream_keys():\n",
    "    for key in keys:\n",
    "        # print('Key %s' % key )\n",
    "        rows.append(bucket_mov.get(key).data)\n",
    "\n",
    "riak.disable_list_exceptions = False        \n",
    "# Convertimos el objeto json en un objeto pandas \n",
    "df_movimientos = json_to_pandas(rows)"
   ]
  },
  {
   "cell_type": "code",
   "execution_count": 133,
   "metadata": {
    "collapsed": false,
    "jupyter": {
     "outputs_hidden": false
    }
   },
   "outputs": [
    {
     "data": {
      "text/html": [
       "<div>\n",
       "<style scoped>\n",
       "    .dataframe tbody tr th:only-of-type {\n",
       "        vertical-align: middle;\n",
       "    }\n",
       "\n",
       "    .dataframe tbody tr th {\n",
       "        vertical-align: top;\n",
       "    }\n",
       "\n",
       "    .dataframe thead th {\n",
       "        text-align: right;\n",
       "    }\n",
       "</style>\n",
       "<table border=\"1\" class=\"dataframe\">\n",
       "  <thead>\n",
       "    <tr style=\"text-align: right;\">\n",
       "      <th></th>\n",
       "      <th>id_miembro</th>\n",
       "      <th>fecha</th>\n",
       "      <th>hora</th>\n",
       "      <th>minuto</th>\n",
       "      <th>importe</th>\n",
       "      <th>comercio</th>\n",
       "      <th>actividad_completa</th>\n",
       "      <th>actividad</th>\n",
       "      <th>nombre</th>\n",
       "      <th>funcion</th>\n",
       "      <th>organizacion</th>\n",
       "    </tr>\n",
       "  </thead>\n",
       "  <tbody>\n",
       "    <tr>\n",
       "      <th>0</th>\n",
       "      <td>17</td>\n",
       "      <td>2008-03-29</td>\n",
       "      <td>15</td>\n",
       "      <td>51</td>\n",
       "      <td>600.00</td>\n",
       "      <td>ADOC GOURMET, S.A.</td>\n",
       "      <td>RESTAURANTES RESTO</td>\n",
       "      <td>RESTAURANTE</td>\n",
       "      <td>Francisco Baquero Noriega</td>\n",
       "      <td>concejal</td>\n",
       "      <td>CC OO</td>\n",
       "    </tr>\n",
       "    <tr>\n",
       "      <th>1</th>\n",
       "      <td>12</td>\n",
       "      <td>2009-08-24</td>\n",
       "      <td>19</td>\n",
       "      <td>8</td>\n",
       "      <td>87.50</td>\n",
       "      <td>EL CORTE INGLES</td>\n",
       "      <td>HIPERCOR SUPERMERCADOS EL CORTE INGLES</td>\n",
       "      <td>SUPERMERCADO</td>\n",
       "      <td>Cándido Cerón Escudero</td>\n",
       "      <td>concejal</td>\n",
       "      <td>Partido Popular</td>\n",
       "    </tr>\n",
       "    <tr>\n",
       "      <th>2</th>\n",
       "      <td>40</td>\n",
       "      <td>2006-04-27</td>\n",
       "      <td>0</td>\n",
       "      <td>24</td>\n",
       "      <td>56.15</td>\n",
       "      <td>PUMMAROLA</td>\n",
       "      <td>RESTAURANTES RESTO</td>\n",
       "      <td>RESTAURANTE</td>\n",
       "      <td>José María Arteta Vico</td>\n",
       "      <td>concejal</td>\n",
       "      <td>PSOE</td>\n",
       "    </tr>\n",
       "    <tr>\n",
       "      <th>3</th>\n",
       "      <td>49</td>\n",
       "      <td>2010-04-22</td>\n",
       "      <td>11</td>\n",
       "      <td>32</td>\n",
       "      <td>44.81</td>\n",
       "      <td>LIBRERIA LE</td>\n",
       "      <td>LIBRERIAS, PAPELERIAS Y DISCOS</td>\n",
       "      <td>LIBRERIA</td>\n",
       "      <td>Juan José Azcona Olondriz</td>\n",
       "      <td>concejal</td>\n",
       "      <td>CC OO</td>\n",
       "    </tr>\n",
       "    <tr>\n",
       "      <th>4</th>\n",
       "      <td>37</td>\n",
       "      <td>2003-12-22</td>\n",
       "      <td>14</td>\n",
       "      <td>24</td>\n",
       "      <td>29.55</td>\n",
       "      <td>HIPERCOR CAMPO NACIONES-SUPER</td>\n",
       "      <td>HIPERCOR SUPERMERCADOS EL CORTE INGLES</td>\n",
       "      <td>SUPERMERCADO</td>\n",
       "      <td>José Carlos Contreras Gómez</td>\n",
       "      <td>directivo</td>\n",
       "      <td>None</td>\n",
       "    </tr>\n",
       "  </tbody>\n",
       "</table>\n",
       "</div>"
      ],
      "text/plain": [
       "   id_miembro      fecha  hora  minuto  importe  \\\n",
       "0          17 2008-03-29    15      51   600.00   \n",
       "1          12 2009-08-24    19       8    87.50   \n",
       "2          40 2006-04-27     0      24    56.15   \n",
       "3          49 2010-04-22    11      32    44.81   \n",
       "4          37 2003-12-22    14      24    29.55   \n",
       "\n",
       "                        comercio                      actividad_completa  \\\n",
       "0             ADOC GOURMET, S.A.                      RESTAURANTES RESTO   \n",
       "1                EL CORTE INGLES  HIPERCOR SUPERMERCADOS EL CORTE INGLES   \n",
       "2                      PUMMAROLA                      RESTAURANTES RESTO   \n",
       "3                    LIBRERIA LE          LIBRERIAS, PAPELERIAS Y DISCOS   \n",
       "4  HIPERCOR CAMPO NACIONES-SUPER  HIPERCOR SUPERMERCADOS EL CORTE INGLES   \n",
       "\n",
       "      actividad                       nombre    funcion     organizacion  \n",
       "0   RESTAURANTE    Francisco Baquero Noriega   concejal            CC OO  \n",
       "1  SUPERMERCADO       Cándido Cerón Escudero   concejal  Partido Popular  \n",
       "2   RESTAURANTE       José María Arteta Vico   concejal             PSOE  \n",
       "3      LIBRERIA    Juan José Azcona Olondriz   concejal            CC OO  \n",
       "4  SUPERMERCADO  José Carlos Contreras Gómez  directivo             None  "
      ]
     },
     "execution_count": 133,
     "metadata": {},
     "output_type": "execute_result"
    }
   ],
   "source": [
    "df_movimientos.head()"
   ]
  },
  {
   "cell_type": "markdown",
   "metadata": {},
   "source": [
    "### Los 10 movimientos mas caros"
   ]
  },
  {
   "cell_type": "markdown",
   "metadata": {},
   "source": [
    "Esta consulta no la podemos contestar directamente con la Base de Datos por lo que nos apoyamos en un proceso en el cliente"
   ]
  },
  {
   "cell_type": "code",
   "execution_count": 134,
   "metadata": {
    "collapsed": false,
    "jupyter": {
     "outputs_hidden": false
    }
   },
   "outputs": [
    {
     "data": {
      "text/html": [
       "<div>\n",
       "<style scoped>\n",
       "    .dataframe tbody tr th:only-of-type {\n",
       "        vertical-align: middle;\n",
       "    }\n",
       "\n",
       "    .dataframe tbody tr th {\n",
       "        vertical-align: top;\n",
       "    }\n",
       "\n",
       "    .dataframe thead th {\n",
       "        text-align: right;\n",
       "    }\n",
       "</style>\n",
       "<table border=\"1\" class=\"dataframe\">\n",
       "  <thead>\n",
       "    <tr style=\"text-align: right;\">\n",
       "      <th></th>\n",
       "      <th>nombre</th>\n",
       "      <th>fecha</th>\n",
       "      <th>actividad_completa</th>\n",
       "      <th>importe</th>\n",
       "    </tr>\n",
       "  </thead>\n",
       "  <tbody>\n",
       "    <tr>\n",
       "      <th>7324</th>\n",
       "      <td>Enrique de la Torre Martínez</td>\n",
       "      <td>2007-11-28</td>\n",
       "      <td>AGENCIAS BANCARIAS(ANTICIPO VENTANILLA)</td>\n",
       "      <td>12000.00</td>\n",
       "    </tr>\n",
       "    <tr>\n",
       "      <th>4211</th>\n",
       "      <td>Ramón Ferraz Ricarte</td>\n",
       "      <td>2007-12-19</td>\n",
       "      <td>AGENCIAS BANCARIAS(ANTICIPO VENTANILLA)</td>\n",
       "      <td>9424.08</td>\n",
       "    </tr>\n",
       "    <tr>\n",
       "      <th>3586</th>\n",
       "      <td>Enrique de la Torre Martínez</td>\n",
       "      <td>2008-10-23</td>\n",
       "      <td>AGENCIAS BANCARIAS(ANTICIPO VENTANILLA)</td>\n",
       "      <td>9000.00</td>\n",
       "    </tr>\n",
       "    <tr>\n",
       "      <th>6769</th>\n",
       "      <td>Enrique de la Torre Martínez</td>\n",
       "      <td>2006-11-29</td>\n",
       "      <td>AGENCIAS BANCARIAS(ANTICIPO VENTANILLA)</td>\n",
       "      <td>8000.00</td>\n",
       "    </tr>\n",
       "    <tr>\n",
       "      <th>486</th>\n",
       "      <td>Miguel Blesa de la Parra</td>\n",
       "      <td>2006-12-26</td>\n",
       "      <td>EL CORTE INGLES</td>\n",
       "      <td>6397.31</td>\n",
       "    </tr>\n",
       "    <tr>\n",
       "      <th>1616</th>\n",
       "      <td>Rafael Spottorno Díaz Caro</td>\n",
       "      <td>2007-11-30</td>\n",
       "      <td>CONFECCION TEXTIL EN GENERAL</td>\n",
       "      <td>6375.00</td>\n",
       "    </tr>\n",
       "    <tr>\n",
       "      <th>2048</th>\n",
       "      <td>Carmen Contreras Gómez</td>\n",
       "      <td>2006-08-13</td>\n",
       "      <td>HOTELES 4 Y 5 ESTRELLAS,BALNEARIOS,CAMPI</td>\n",
       "      <td>6198.02</td>\n",
       "    </tr>\n",
       "    <tr>\n",
       "      <th>2665</th>\n",
       "      <td>Matías Amat Roca</td>\n",
       "      <td>2006-08-13</td>\n",
       "      <td>BRITISH AIRWAYS - BRITISH A</td>\n",
       "      <td>5763.10</td>\n",
       "    </tr>\n",
       "    <tr>\n",
       "      <th>3192</th>\n",
       "      <td>Juan Manuel Astorqui Portera</td>\n",
       "      <td>2005-07-31</td>\n",
       "      <td>AUTOM.Y MOTOCICLETAS ( VENTAS Y REPARAC)</td>\n",
       "      <td>5403.97</td>\n",
       "    </tr>\n",
       "    <tr>\n",
       "      <th>530</th>\n",
       "      <td>Enrique de la Torre Martínez</td>\n",
       "      <td>2004-12-06</td>\n",
       "      <td>AGENCIAS BANCARIAS(ANTICIPO VENTANILLA)</td>\n",
       "      <td>5390.00</td>\n",
       "    </tr>\n",
       "  </tbody>\n",
       "</table>\n",
       "</div>"
      ],
      "text/plain": [
       "                            nombre      fecha  \\\n",
       "7324  Enrique de la Torre Martínez 2007-11-28   \n",
       "4211          Ramón Ferraz Ricarte 2007-12-19   \n",
       "3586  Enrique de la Torre Martínez 2008-10-23   \n",
       "6769  Enrique de la Torre Martínez 2006-11-29   \n",
       "486       Miguel Blesa de la Parra 2006-12-26   \n",
       "1616    Rafael Spottorno Díaz Caro 2007-11-30   \n",
       "2048        Carmen Contreras Gómez 2006-08-13   \n",
       "2665              Matías Amat Roca 2006-08-13   \n",
       "3192  Juan Manuel Astorqui Portera 2005-07-31   \n",
       "530   Enrique de la Torre Martínez 2004-12-06   \n",
       "\n",
       "                            actividad_completa   importe  \n",
       "7324   AGENCIAS BANCARIAS(ANTICIPO VENTANILLA)  12000.00  \n",
       "4211   AGENCIAS BANCARIAS(ANTICIPO VENTANILLA)   9424.08  \n",
       "3586   AGENCIAS BANCARIAS(ANTICIPO VENTANILLA)   9000.00  \n",
       "6769   AGENCIAS BANCARIAS(ANTICIPO VENTANILLA)   8000.00  \n",
       "486                            EL CORTE INGLES   6397.31  \n",
       "1616              CONFECCION TEXTIL EN GENERAL   6375.00  \n",
       "2048  HOTELES 4 Y 5 ESTRELLAS,BALNEARIOS,CAMPI   6198.02  \n",
       "2665               BRITISH AIRWAYS - BRITISH A   5763.10  \n",
       "3192  AUTOM.Y MOTOCICLETAS ( VENTAS Y REPARAC)   5403.97  \n",
       "530    AGENCIAS BANCARIAS(ANTICIPO VENTANILLA)   5390.00  "
      ]
     },
     "execution_count": 134,
     "metadata": {},
     "output_type": "execute_result"
    }
   ],
   "source": [
    "df_movimientos \\\n",
    "    .sort_values('importe', ascending=False)\\\n",
    "    .filter(['nombre', 'fecha', 'actividad_completa', 'importe']) \\\n",
    "    .head(10)"
   ]
  },
  {
   "cell_type": "markdown",
   "metadata": {},
   "source": [
    "### Los movimientos de una persona concreta"
   ]
  },
  {
   "cell_type": "markdown",
   "metadata": {},
   "source": [
    "Para obtener los movimientos de una persona en concreto si podemos **utilizar el índice** que habíamos creado Ad-hoc, aunque la ordenación se realiza en Pandas"
   ]
  },
  {
   "cell_type": "code",
   "execution_count": 137,
   "metadata": {
    "collapsed": false,
    "jupyter": {
     "outputs_hidden": false
    }
   },
   "outputs": [],
   "source": [
    "rows = []\n",
    "keys = bucket_mov.stream_index(\"idx_miembro_bin\", hash_string(u\"Ildefonso José Sánchez Barcoj\"))\n",
    "for keys in keys.results:\n",
    "    for movimiento_key in keys:\n",
    "        rows.append(bucket_mov.get(movimiento_key).data)\n",
    "    \n",
    "df = json_to_pandas(rows)"
   ]
  },
  {
   "cell_type": "code",
   "execution_count": 138,
   "metadata": {
    "collapsed": false,
    "jupyter": {
     "outputs_hidden": false
    }
   },
   "outputs": [
    {
     "data": {
      "text/html": [
       "<div>\n",
       "<style scoped>\n",
       "    .dataframe tbody tr th:only-of-type {\n",
       "        vertical-align: middle;\n",
       "    }\n",
       "\n",
       "    .dataframe tbody tr th {\n",
       "        vertical-align: top;\n",
       "    }\n",
       "\n",
       "    .dataframe thead th {\n",
       "        text-align: right;\n",
       "    }\n",
       "</style>\n",
       "<table border=\"1\" class=\"dataframe\">\n",
       "  <thead>\n",
       "    <tr style=\"text-align: right;\">\n",
       "      <th></th>\n",
       "      <th>nombre</th>\n",
       "      <th>fecha</th>\n",
       "      <th>actividad_completa</th>\n",
       "      <th>importe</th>\n",
       "    </tr>\n",
       "  </thead>\n",
       "  <tbody>\n",
       "    <tr>\n",
       "      <th>163</th>\n",
       "      <td>Ildefonso José Sánchez Barcoj</td>\n",
       "      <td>2009-05-04</td>\n",
       "      <td>AGENCIAS BANCARIAS(ANTICIPO VENTANILLA)</td>\n",
       "      <td>1500.00</td>\n",
       "    </tr>\n",
       "    <tr>\n",
       "      <th>114</th>\n",
       "      <td>Ildefonso José Sánchez Barcoj</td>\n",
       "      <td>2010-07-07</td>\n",
       "      <td>EL CORTE INGLES</td>\n",
       "      <td>1478.07</td>\n",
       "    </tr>\n",
       "    <tr>\n",
       "      <th>56</th>\n",
       "      <td>Ildefonso José Sánchez Barcoj</td>\n",
       "      <td>2008-03-21</td>\n",
       "      <td>HOTELES 4 Y 5 ESTRELLAS,BALNEARIOS,CAMPI</td>\n",
       "      <td>1392.79</td>\n",
       "    </tr>\n",
       "    <tr>\n",
       "      <th>63</th>\n",
       "      <td>Ildefonso José Sánchez Barcoj</td>\n",
       "      <td>2005-10-28</td>\n",
       "      <td>LOUIS VUITTON/LOEWE</td>\n",
       "      <td>1375.00</td>\n",
       "    </tr>\n",
       "    <tr>\n",
       "      <th>224</th>\n",
       "      <td>Ildefonso José Sánchez Barcoj</td>\n",
       "      <td>2009-09-28</td>\n",
       "      <td>AGENCIAS BANCARIAS(ANTICIPO VENTANILLA)</td>\n",
       "      <td>1000.00</td>\n",
       "    </tr>\n",
       "    <tr>\n",
       "      <th>35</th>\n",
       "      <td>Ildefonso José Sánchez Barcoj</td>\n",
       "      <td>2012-03-15</td>\n",
       "      <td>IBERIA</td>\n",
       "      <td>940.00</td>\n",
       "    </tr>\n",
       "    <tr>\n",
       "      <th>26</th>\n",
       "      <td>Ildefonso José Sánchez Barcoj</td>\n",
       "      <td>2010-02-05</td>\n",
       "      <td>CONFECCION TEXTIL EN GENERAL</td>\n",
       "      <td>930.00</td>\n",
       "    </tr>\n",
       "    <tr>\n",
       "      <th>144</th>\n",
       "      <td>Ildefonso José Sánchez Barcoj</td>\n",
       "      <td>2005-12-19</td>\n",
       "      <td>EL CORTE INGLES</td>\n",
       "      <td>731.00</td>\n",
       "    </tr>\n",
       "    <tr>\n",
       "      <th>260</th>\n",
       "      <td>Ildefonso José Sánchez Barcoj</td>\n",
       "      <td>2009-03-20</td>\n",
       "      <td>PARADORES NACIONALES</td>\n",
       "      <td>708.11</td>\n",
       "    </tr>\n",
       "    <tr>\n",
       "      <th>151</th>\n",
       "      <td>Ildefonso José Sánchez Barcoj</td>\n",
       "      <td>2009-12-07</td>\n",
       "      <td>HOTELES 4 Y 5 ESTRELLAS,BALNEARIOS,CAMPI</td>\n",
       "      <td>672.44</td>\n",
       "    </tr>\n",
       "  </tbody>\n",
       "</table>\n",
       "</div>"
      ],
      "text/plain": [
       "                            nombre      fecha  \\\n",
       "163  Ildefonso José Sánchez Barcoj 2009-05-04   \n",
       "114  Ildefonso José Sánchez Barcoj 2010-07-07   \n",
       "56   Ildefonso José Sánchez Barcoj 2008-03-21   \n",
       "63   Ildefonso José Sánchez Barcoj 2005-10-28   \n",
       "224  Ildefonso José Sánchez Barcoj 2009-09-28   \n",
       "35   Ildefonso José Sánchez Barcoj 2012-03-15   \n",
       "26   Ildefonso José Sánchez Barcoj 2010-02-05   \n",
       "144  Ildefonso José Sánchez Barcoj 2005-12-19   \n",
       "260  Ildefonso José Sánchez Barcoj 2009-03-20   \n",
       "151  Ildefonso José Sánchez Barcoj 2009-12-07   \n",
       "\n",
       "                           actividad_completa  importe  \n",
       "163   AGENCIAS BANCARIAS(ANTICIPO VENTANILLA)  1500.00  \n",
       "114                           EL CORTE INGLES  1478.07  \n",
       "56   HOTELES 4 Y 5 ESTRELLAS,BALNEARIOS,CAMPI  1392.79  \n",
       "63                        LOUIS VUITTON/LOEWE  1375.00  \n",
       "224   AGENCIAS BANCARIAS(ANTICIPO VENTANILLA)  1000.00  \n",
       "35                                     IBERIA   940.00  \n",
       "26               CONFECCION TEXTIL EN GENERAL   930.00  \n",
       "144                           EL CORTE INGLES   731.00  \n",
       "260                      PARADORES NACIONALES   708.11  \n",
       "151  HOTELES 4 Y 5 ESTRELLAS,BALNEARIOS,CAMPI   672.44  "
      ]
     },
     "execution_count": 138,
     "metadata": {},
     "output_type": "execute_result"
    }
   ],
   "source": [
    "df \\\n",
    "    .sort_values('importe', ascending=False) \\\n",
    "    .filter(['nombre', 'fecha', 'actividad_completa', 'importe']) \\\n",
    "    .head(10)"
   ]
  },
  {
   "cell_type": "markdown",
   "metadata": {},
   "source": [
    "### Las 10 personas que mas han gastado"
   ]
  },
  {
   "cell_type": "markdown",
   "metadata": {},
   "source": [
    "Hemos creado un bucket especifico con información agregada para poder contestar a esta pregunta. Como la información está en un **mapa** la tenemos que convertir a JSON para poder visualizarla con Pandas"
   ]
  },
  {
   "cell_type": "code",
   "execution_count": 141,
   "metadata": {
    "collapsed": false,
    "jupyter": {
     "outputs_hidden": false
    }
   },
   "outputs": [],
   "source": [
    "rows = []\n",
    "riak.disable_list_exceptions = True\n",
    "for keys in bucket_acum_importes.stream_keys():\n",
    "    #print(keys)\n",
    "    for key in keys:\n",
    "        map_nombre = bucket_acum_importes.get(key)\n",
    "        rows.append({'nombre' : map_nombre.registers['nombre'].value,\n",
    "                     \"importe\" : float(map_nombre.counters['importe'].value) / 100})\n",
    "        \n",
    "riak.disable_list_exceptions = False\n",
    "\n",
    "# Convertimos el objeto json en un objeto pandas \n",
    "df = json_to_pandas(rows)"
   ]
  },
  {
   "cell_type": "markdown",
   "metadata": {},
   "source": [
    "Utilizamos Pandas para ordenar la información ..,"
   ]
  },
  {
   "cell_type": "code",
   "execution_count": 142,
   "metadata": {
    "collapsed": false,
    "jupyter": {
     "outputs_hidden": false
    }
   },
   "outputs": [
    {
     "data": {
      "text/html": [
       "<div>\n",
       "<style scoped>\n",
       "    .dataframe tbody tr th:only-of-type {\n",
       "        vertical-align: middle;\n",
       "    }\n",
       "\n",
       "    .dataframe tbody tr th {\n",
       "        vertical-align: top;\n",
       "    }\n",
       "\n",
       "    .dataframe thead th {\n",
       "        text-align: right;\n",
       "    }\n",
       "</style>\n",
       "<table border=\"1\" class=\"dataframe\">\n",
       "  <thead>\n",
       "    <tr style=\"text-align: right;\">\n",
       "      <th></th>\n",
       "      <th>nombre</th>\n",
       "      <th>importe</th>\n",
       "    </tr>\n",
       "  </thead>\n",
       "  <tbody>\n",
       "    <tr>\n",
       "      <th>78</th>\n",
       "      <td>Enrique de la Torre Martínez</td>\n",
       "      <td>58826.28</td>\n",
       "    </tr>\n",
       "    <tr>\n",
       "      <th>65</th>\n",
       "      <td>José Antonio Moral Santín</td>\n",
       "      <td>52447.07</td>\n",
       "    </tr>\n",
       "    <tr>\n",
       "      <th>17</th>\n",
       "      <td>Ramón Ferraz Ricarte</td>\n",
       "      <td>45371.52</td>\n",
       "    </tr>\n",
       "    <tr>\n",
       "      <th>3</th>\n",
       "      <td>Miguel Blesa de la Parra</td>\n",
       "      <td>40298.84</td>\n",
       "    </tr>\n",
       "    <tr>\n",
       "      <th>33</th>\n",
       "      <td>Ildefonso José Sánchez Barcoj</td>\n",
       "      <td>39437.99</td>\n",
       "    </tr>\n",
       "    <tr>\n",
       "      <th>18</th>\n",
       "      <td>Juan Manuel Astorqui Portera</td>\n",
       "      <td>36627.89</td>\n",
       "    </tr>\n",
       "    <tr>\n",
       "      <th>27</th>\n",
       "      <td>Francisco Baquero Noriega</td>\n",
       "      <td>35256.67</td>\n",
       "    </tr>\n",
       "    <tr>\n",
       "      <th>53</th>\n",
       "      <td>Matías Amat Roca</td>\n",
       "      <td>33434.74</td>\n",
       "    </tr>\n",
       "    <tr>\n",
       "      <th>0</th>\n",
       "      <td>Carmen Contreras Gómez</td>\n",
       "      <td>31556.45</td>\n",
       "    </tr>\n",
       "    <tr>\n",
       "      <th>62</th>\n",
       "      <td>Estanislao Rodríguez-Ponga Salamanca</td>\n",
       "      <td>29350.65</td>\n",
       "    </tr>\n",
       "  </tbody>\n",
       "</table>\n",
       "</div>"
      ],
      "text/plain": [
       "                                  nombre   importe\n",
       "78          Enrique de la Torre Martínez  58826.28\n",
       "65             José Antonio Moral Santín  52447.07\n",
       "17                  Ramón Ferraz Ricarte  45371.52\n",
       "3               Miguel Blesa de la Parra  40298.84\n",
       "33         Ildefonso José Sánchez Barcoj  39437.99\n",
       "18          Juan Manuel Astorqui Portera  36627.89\n",
       "27             Francisco Baquero Noriega  35256.67\n",
       "53                      Matías Amat Roca  33434.74\n",
       "0                 Carmen Contreras Gómez  31556.45\n",
       "62  Estanislao Rodríguez-Ponga Salamanca  29350.65"
      ]
     },
     "execution_count": 142,
     "metadata": {},
     "output_type": "execute_result"
    }
   ],
   "source": [
    "df.sort_values('importe', ascending=False).head(10)"
   ]
  },
  {
   "cell_type": "code",
   "execution_count": null,
   "metadata": {},
   "outputs": [],
   "source": []
  }
 ],
 "metadata": {
  "kernelspec": {
   "display_name": "Python 3 (ipykernel)",
   "language": "python",
   "name": "python3"
  },
  "language_info": {
   "codemirror_mode": {
    "name": "ipython",
    "version": 3
   },
   "file_extension": ".py",
   "mimetype": "text/x-python",
   "name": "python",
   "nbconvert_exporter": "python",
   "pygments_lexer": "ipython3",
   "version": "3.8.10"
  }
 },
 "nbformat": 4,
 "nbformat_minor": 4
}
