{
 "cells": [
  {
   "cell_type": "markdown",
   "metadata": {},
   "source": [
    "# Cassandra"
   ]
  },
  {
   "cell_type": "markdown",
   "metadata": {},
   "source": [
    "## Conexión con Cassandra y borrado de datos"
   ]
  },
  {
   "cell_type": "code",
   "execution_count": null,
   "metadata": {
    "jupyter": {
     "outputs_hidden": false
    }
   },
   "outputs": [],
   "source": [
    "%load_ext cql"
   ]
  },
  {
   "cell_type": "code",
   "execution_count": null,
   "metadata": {
    "jupyter": {
     "outputs_hidden": false
    }
   },
   "outputs": [],
   "source": [
    "%%cql\n",
    "DROP KEYSPACE black;"
   ]
  },
  {
   "cell_type": "code",
   "execution_count": null,
   "metadata": {
    "jupyter": {
     "outputs_hidden": false
    }
   },
   "outputs": [],
   "source": [
    "%%cql\n",
    "CREATE KEYSPACE black \n",
    "WITH replication = {'class':'SimpleStrategy', 'replication_factor': 1};"
   ]
  },
  {
   "cell_type": "code",
   "execution_count": null,
   "metadata": {
    "jupyter": {
     "outputs_hidden": false
    }
   },
   "outputs": [],
   "source": [
    "%cql USE black;"
   ]
  },
  {
   "cell_type": "markdown",
   "metadata": {},
   "source": [
    "## Creacción de las tablas"
   ]
  },
  {
   "cell_type": "markdown",
   "metadata": {},
   "source": [
    "En **Cassandra** vamos a crear 2 tablas principales, una donde almacenamos los movimientos en formato desnormalizado, y otra que nos servirá para almacenar los importes acumulados por cliente."
   ]
  },
  {
   "cell_type": "markdown",
   "metadata": {},
   "source": [
    "También tenemos una tabla auxiliar, creada gracias a la funcionalidad que nos da la base de datos de VISTAS MATERIALIZADAS, que vamos a utilizar para facilitar otros patrones distintos de acceso a la información."
   ]
  },
  {
   "cell_type": "markdown",
   "metadata": {},
   "source": [
    "En la tabla que almacena los movimientos vamos a tener como **PARTITION_KEY** el campo nombre, ya que nos interesa tener en el mismo nodo todos los datos de una persona. Como **CUSTERING_KEY** vamos a tener el importe, debido a que en nuestro caso de uso queremos los datos ordenador por importe"
   ]
  },
  {
   "cell_type": "markdown",
   "metadata": {},
   "source": [
    "<br><br> \n",
    "\n",
    "<img src=\"images/Modelo_Cassandra.png\" width=\"800\" height=\"500\">\n",
    "\n",
    "<br><br> "
   ]
  },
  {
   "cell_type": "code",
   "execution_count": null,
   "metadata": {
    "jupyter": {
     "outputs_hidden": false
    }
   },
   "outputs": [],
   "source": [
    "%%cql \n",
    "CREATE TABLE acum_movimientos_nombre (\n",
    "    nombre          text,\n",
    "    importe         counter,\n",
    "    PRIMARY KEY (nombre)\n",
    ")"
   ]
  },
  {
   "cell_type": "code",
   "execution_count": null,
   "metadata": {
    "jupyter": {
     "outputs_hidden": false
    }
   },
   "outputs": [],
   "source": [
    "%%cql \n",
    "CREATE TABLE movimientos (\n",
    "    fecha           date,\n",
    "    hora            int,\n",
    "    minuto          int,\n",
    "    importe         decimal,\n",
    "    comercio        text,\n",
    "    actividad_completa text,\n",
    "    actividad       text,\n",
    "    nombre          text,\n",
    "    funcion         text,\n",
    "    organizacion    text,\n",
    "    PRIMARY KEY ((nombre), importe, fecha, hora, minuto)\n",
    ")\n",
    "WITH CLUSTERING ORDER BY (importe DESC);"
   ]
  },
  {
   "cell_type": "markdown",
   "metadata": {},
   "source": [
    "En la vista materializada no es necesario insertar datos ya que se ocupa la propia base de datos"
   ]
  },
  {
   "cell_type": "code",
   "execution_count": null,
   "metadata": {
    "jupyter": {
     "outputs_hidden": false
    }
   },
   "outputs": [],
   "source": [
    "%%cql\n",
    "CREATE MATERIALIZED VIEW vm_movimientos_by_actividad AS\n",
    "   SELECT * FROM movimientos\n",
    "   WHERE actividad IS NOT NULL \n",
    "         and importe IS NOT NULL \n",
    "         and fecha IS NOT NULL\n",
    "         and hora IS NOT NULL \n",
    "         and minuto IS NOT NULL \n",
    "         and nombre IS NOT NULL\n",
    "   PRIMARY KEY (actividad, importe, fecha,hora,minuto,nombre)\n",
    "   WITH CLUSTERING ORDER BY (importe desc)"
   ]
  },
  {
   "cell_type": "markdown",
   "metadata": {},
   "source": [
    "## Carga de datos en pandas"
   ]
  },
  {
   "cell_type": "markdown",
   "metadata": {},
   "source": [
    "Cargamos los datos en formato Excel y los desnormalizamos ..."
   ]
  },
  {
   "cell_type": "code",
   "execution_count": null,
   "metadata": {
    "jupyter": {
     "outputs_hidden": false
    }
   },
   "outputs": [],
   "source": [
    "import pandas as pd\n",
    "df_mov = pd.read_excel(\"./data/black.xlsx\", sheet_name= \"Movimientos\", engine='openpyxl')\n",
    "df_miembros = pd.read_excel(\"./data/black.xlsx\", sheet_name= \"Miembros\", engine='openpyxl')\n",
    "df = pd.merge(df_mov, df_miembros, on = ['id_miembro'], how = 'inner')\n",
    "df.info()"
   ]
  },
  {
   "cell_type": "markdown",
   "metadata": {},
   "source": [
    "### Carga de datos en Cassandra"
   ]
  },
  {
   "cell_type": "code",
   "execution_count": null,
   "metadata": {},
   "outputs": [],
   "source": [
    "from cassandra.cluster import Cluster, BatchStatement, ConsistencyLevel\n",
    "cluster = Cluster()\n",
    "session = cluster.connect('black')"
   ]
  },
  {
   "cell_type": "markdown",
   "metadata": {},
   "source": [
    "A destacar varios aspectos:\n",
    "- El tipo de las fechas. Hay que dejarlo con el tipo **Date** de Python para no tener problemas (El tipo de la columna es también Date)\n",
    "- Los nulos en Pandas son del tipo NumPy.nan, por lo hay convertirlos a None para que la inserción en Cassandra sea correcta\n",
    "- En la tabla de importes acumulados guardamos el importe en un dato de tipo **counter**, que tiene un tipo entero, por lo que multiplicamos el dato por 100 para poder almacenarlo correctamete"
   ]
  },
  {
   "cell_type": "code",
   "execution_count": null,
   "metadata": {},
   "outputs": [],
   "source": [
    "df.loc[df.comercio.isnull(),['comercio']] = None\n",
    "df.loc[df.organizacion.isnull(),['organizacion']] = None\n",
    "df.loc[df.actividad.isnull(),['actividad']] = None\n",
    "df.loc[df.actividad_completa.isnull(),['actividad_completa']] = None"
   ]
  },
  {
   "cell_type": "code",
   "execution_count": null,
   "metadata": {},
   "outputs": [],
   "source": [
    "import dateutil\n",
    "\n",
    "def insert_movientos(df):\n",
    "    \n",
    "    sql_insert = \"\"\"\n",
    "INSERT INTO movimientos (\n",
    "importe,\n",
    "actividad,\n",
    "fecha,\n",
    "actividad_completa,\n",
    "comercio,\n",
    "funcion,\n",
    "hora,\n",
    "minuto,\n",
    "organizacion,\n",
    "nombre\n",
    ") VALUES (%s, %s, %s, %s, %s, %s, %s, %s, %s, %s)\n",
    "\"\"\"\n",
    "\n",
    "    for index in df.index:\n",
    "        fecha = df['fecha'][index]\n",
    "        \n",
    "        data = [\n",
    "            df[\"importe\"][index],\n",
    "            df[\"actividad\"][index],\n",
    "            fecha.date(),\n",
    "            df[\"actividad_completa\"][index],\n",
    "            df[\"comercio\"][index],\n",
    "            df[\"funcion\"][index],\n",
    "            df[\"hora\"][index],\n",
    "            df[\"minuto\"][index],\n",
    "            df[\"organizacion\"][index],\n",
    "            df[\"nombre\"][index],\n",
    "        ]\n",
    "        \n",
    "        session.execute(sql_insert, data)\n",
    "        \n",
    "        importe_int = int(round(df[\"importe\"][index] * 100))        \n",
    "        session.execute(\"UPDATE acum_movimientos_nombre SET importe = importe + %s WHERE nombre = %s\", \n",
    "                        [importe_int, \n",
    "                         df[\"nombre\"][index]]\n",
    "        )"
   ]
  },
  {
   "cell_type": "markdown",
   "metadata": {},
   "source": [
    "Ya podemos insertar los datos ..."
   ]
  },
  {
   "cell_type": "code",
   "execution_count": null,
   "metadata": {
    "jupyter": {
     "outputs_hidden": false
    }
   },
   "outputs": [],
   "source": [
    "insert_movientos(df)"
   ]
  },
  {
   "cell_type": "markdown",
   "metadata": {},
   "source": [
    "## Consulta de datos"
   ]
  },
  {
   "cell_type": "markdown",
   "metadata": {},
   "source": [
    "Función de utilidad que realiza un query en Cassandra y devuelve un DataFrame de Pandas"
   ]
  },
  {
   "cell_type": "code",
   "execution_count": null,
   "metadata": {},
   "outputs": [],
   "source": [
    "def execute_query(sql):\n",
    "    rows = session.execute(sql)\n",
    "    return pd.DataFrame(list(rows))"
   ]
  },
  {
   "cell_type": "markdown",
   "metadata": {},
   "source": [
    "### Los 10 movimientos mas caros"
   ]
  },
  {
   "cell_type": "markdown",
   "metadata": {},
   "source": [
    "Para resolver esta query con la base de datos tendríamos que tener un PARTITION KEY única para todos los registros"
   ]
  },
  {
   "cell_type": "code",
   "execution_count": null,
   "metadata": {
    "jupyter": {
     "outputs_hidden": false
    }
   },
   "outputs": [],
   "source": [
    "sql = \"\"\"\n",
    "SELECT nombre, fecha, actividad_completa, importe\n",
    "FROM MOVIMIENTOS\n",
    "\"\"\"\n",
    "df = execute_query(sql)"
   ]
  },
  {
   "cell_type": "code",
   "execution_count": null,
   "metadata": {
    "jupyter": {
     "outputs_hidden": false
    }
   },
   "outputs": [],
   "source": [
    "df \\\n",
    "    .sort_values('importe', ascending = False) \\\n",
    "    .head(10)"
   ]
  },
  {
   "cell_type": "markdown",
   "metadata": {},
   "source": [
    "### Los movimientos de una persona concreta"
   ]
  },
  {
   "cell_type": "markdown",
   "metadata": {},
   "source": [
    "Se resuelve la query con la base de datos, ya que la PARTITION KEY es el campo **nombre**, y los registros están ordenados por importe"
   ]
  },
  {
   "cell_type": "code",
   "execution_count": null,
   "metadata": {
    "jupyter": {
     "outputs_hidden": false
    }
   },
   "outputs": [],
   "source": [
    "sql = \"\"\"\n",
    "select nombre, fecha, actividad_completa, importe\n",
    "from movimientos\n",
    "where nombre = 'Javier de Miguel Sánchez'\n",
    "limit 10\n",
    "\"\"\"\n",
    "execute_query(sql)"
   ]
  },
  {
   "cell_type": "markdown",
   "metadata": {},
   "source": [
    "### Las 10 personas que mas han gastado"
   ]
  },
  {
   "cell_type": "markdown",
   "metadata": {},
   "source": [
    "Esta consulta se pueder resolver mediante el acumulado que habíamos creado ad-doc. Observa que el importe es entero, por lo que hay que dividirlo por 100 para convertirlo a decimal"
   ]
  },
  {
   "cell_type": "code",
   "execution_count": null,
   "metadata": {
    "jupyter": {
     "outputs_hidden": false
    }
   },
   "outputs": [],
   "source": [
    "sql = \"\"\"\n",
    "select *\n",
    "from acum_movimientos_nombre\n",
    "\"\"\"\n",
    "df = execute_query(sql)"
   ]
  },
  {
   "cell_type": "code",
   "execution_count": null,
   "metadata": {
    "jupyter": {
     "outputs_hidden": false
    }
   },
   "outputs": [],
   "source": [
    "df \\\n",
    "    .assign(importe = df.importe / 100) \\\n",
    "    .sort_values('importe', ascending = False) \\\n",
    "    .head(10)"
   ]
  },
  {
   "cell_type": "markdown",
   "metadata": {},
   "source": [
    "### Los 10 movimientos mas caros por actividad"
   ]
  },
  {
   "cell_type": "markdown",
   "metadata": {},
   "source": [
    "Esta consulta se pueder resolver mediante la vista materializada que hemos creado ad-hoc para resolver esta consulta"
   ]
  },
  {
   "cell_type": "code",
   "execution_count": null,
   "metadata": {
    "jupyter": {
     "outputs_hidden": false
    }
   },
   "outputs": [],
   "source": [
    "sql = \"\"\"\n",
    "select nombre, fecha, actividad, actividad_completa, importe\n",
    "from vm_movimientos_by_actividad\n",
    "where actividad = 'HOGAR'\n",
    "limit 10\n",
    "\"\"\"\n",
    "execute_query(sql)"
   ]
  }
 ],
 "metadata": {
  "kernelspec": {
   "display_name": "Python 3 (ipykernel)",
   "language": "python",
   "name": "python3"
  },
  "language_info": {
   "codemirror_mode": {
    "name": "ipython",
    "version": 3
   },
   "file_extension": ".py",
   "mimetype": "text/x-python",
   "name": "python",
   "nbconvert_exporter": "python",
   "pygments_lexer": "ipython3",
   "version": "3.8.10"
  }
 },
 "nbformat": 4,
 "nbformat_minor": 4
}
