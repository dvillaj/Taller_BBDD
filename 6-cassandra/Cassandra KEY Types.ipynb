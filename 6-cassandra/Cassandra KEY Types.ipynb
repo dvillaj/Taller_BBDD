{
 "cells": [
  {
   "cell_type": "markdown",
   "metadata": {},
   "source": [
    "# Difference between partition key, composite key and clustering key in Cassandra"
   ]
  },
  {
   "cell_type": "markdown",
   "metadata": {},
   "source": [
    "http://stackoverflow.com/questions/24949676/difference-between-partition-key-composite-key-and-clustering-key-in-cassandra"
   ]
  },
  {
   "cell_type": "code",
   "execution_count": null,
   "metadata": {
    "jupyter": {
     "outputs_hidden": false
    }
   },
   "outputs": [],
   "source": [
    "%load_ext cql"
   ]
  },
  {
   "cell_type": "code",
   "execution_count": null,
   "metadata": {
    "jupyter": {
     "outputs_hidden": false
    }
   },
   "outputs": [],
   "source": [
    "%%cql\n",
    "DROP KEYSPACE demo "
   ]
  },
  {
   "cell_type": "code",
   "execution_count": null,
   "metadata": {
    "jupyter": {
     "outputs_hidden": false
    }
   },
   "outputs": [],
   "source": [
    "%%cql\n",
    "CREATE KEYSPACE demo \n",
    "WITH replication = {'class': 'SimpleStrategy', 'replication_factor' : 1};"
   ]
  },
  {
   "cell_type": "code",
   "execution_count": null,
   "metadata": {
    "jupyter": {
     "outputs_hidden": false
    }
   },
   "outputs": [],
   "source": [
    "%keyspace demo"
   ]
  },
  {
   "cell_type": "markdown",
   "metadata": {},
   "source": [
    "There is a lot of confusion around this, I will try to make it as simple as possible.\n",
    "\n",
    "The primary key is a general concept to indicate one or more columns used to retrieve data from a Table.\n",
    "\n",
    "The primary key may be **SIMPLE**"
   ]
  },
  {
   "cell_type": "code",
   "execution_count": null,
   "metadata": {
    "jupyter": {
     "outputs_hidden": false
    }
   },
   "outputs": [],
   "source": [
    "%%cql \n",
    "create table stackoverflow (\n",
    "      key text PRIMARY KEY,\n",
    "      data text      \n",
    "  );"
   ]
  },
  {
   "cell_type": "markdown",
   "metadata": {},
   "source": [
    "That means that it is made by a single column."
   ]
  },
  {
   "cell_type": "code",
   "execution_count": null,
   "metadata": {
    "jupyter": {
     "outputs_hidden": false
    }
   },
   "outputs": [],
   "source": [
    "%cql insert into stackoverflow (key, data) VALUES ('han', 'solo');\n",
    "%cql select * from stackoverflow where key='han';"
   ]
  },
  {
   "cell_type": "markdown",
   "metadata": {},
   "source": [
    "But the primary key can also be **COMPOSITE** (aka **COMPOUND**), generated from more columns."
   ]
  },
  {
   "cell_type": "code",
   "execution_count": null,
   "metadata": {
    "jupyter": {
     "outputs_hidden": false
    }
   },
   "outputs": [],
   "source": [
    "%%cql\n",
    "create table stackoverflow2 (\n",
    "  key_part_one text,\n",
    "  key_part_two int,\n",
    "  data text,\n",
    "  PRIMARY KEY(key_part_one, key_part_two)      \n",
    ");"
   ]
  },
  {
   "cell_type": "markdown",
   "metadata": {},
   "source": [
    "In a situation of **COMPOSITE** primary key, the \"first part\" of the key is called **PARTITION KEY** (in this example key_part_one is the partition key) and the second part of the key is the **CLUSTERING KEY** (key_part_two)"
   ]
  },
  {
   "cell_type": "code",
   "execution_count": null,
   "metadata": {
    "jupyter": {
     "outputs_hidden": false
    }
   },
   "outputs": [],
   "source": [
    "%cql insert into stackoverflow2 (key_part_one, key_part_two, data) VALUES ('ronaldo', 9, 'football player');\n",
    "%cql insert into stackoverflow2 (key_part_one, key_part_two, data) VALUES ('ronaldo', 10, 'ex-football player');\n",
    "%cql select * from stackoverflow2 where key_part_one = 'ronaldo';"
   ]
  },
  {
   "cell_type": "markdown",
   "metadata": {},
   "source": [
    "But you can query with all key ..."
   ]
  },
  {
   "cell_type": "code",
   "execution_count": null,
   "metadata": {
    "jupyter": {
     "outputs_hidden": false
    }
   },
   "outputs": [],
   "source": [
    "%cql select * from stackoverflow2 where key_part_one = 'ronaldo' and key_part_two  = 10;"
   ]
  },
  {
   "cell_type": "markdown",
   "metadata": {},
   "source": [
    "**Important note:** the partition key is the minimum-specifier needed to perform a query using where clause. If you have a+ composite partition key, like the following\n",
    "\n",
    "eg: PRIMARY KEY((col1, col2), col10, col4))\n",
    "\n",
    "You can perform query only passing at least both col1 and col2, these are the 2 columns that defines the partition key. The \"general\" rule to make query is you have to pass at least all partition key columns, then you can add each key in the order they're set.\n",
    "\n",
    "**so the valid queries are** (excluding secondary indexes)\n",
    "\n",
    "- col1 and col2\n",
    "- col1 and col2 and col10\n",
    "- col1 and col2 and col10 and col 4\n",
    "\n",
    "**Invalid:**\n",
    "\n",
    "- col1 and col2 and col4\n",
    "- anything that does not contain both col1 and col2"
   ]
  },
  {
   "cell_type": "code",
   "execution_count": null,
   "metadata": {
    "jupyter": {
     "outputs_hidden": false
    }
   },
   "outputs": [],
   "source": [
    "%%cql\n",
    "create table stackoverflow3 (\n",
    "  key_part_one text,\n",
    "  key_part_two int,\n",
    "  data text,\n",
    "  PRIMARY KEY(key_part_one, key_part_two)      \n",
    ")\n",
    "WITH CLUSTERING ORDER BY (key_part_two DESC);"
   ]
  },
  {
   "cell_type": "code",
   "execution_count": null,
   "metadata": {
    "jupyter": {
     "outputs_hidden": false
    }
   },
   "outputs": [],
   "source": [
    "%cql insert into stackoverflow3 (key_part_one, key_part_two, data) VALUES ('ronaldo', 9, 'football player');\n",
    "%cql insert into stackoverflow3 (key_part_one, key_part_two, data) VALUES ('ronaldo', 10, 'ex-football player');\n",
    "%cql select * from stackoverflow3 where key_part_one = 'ronaldo';"
   ]
  },
  {
   "cell_type": "markdown",
   "metadata": {},
   "source": [
    "**Please note that the both partition and clustering key can be made by more columns**"
   ]
  },
  {
   "cell_type": "code",
   "execution_count": null,
   "metadata": {
    "jupyter": {
     "outputs_hidden": false
    }
   },
   "outputs": [],
   "source": [
    "%%cql\n",
    "create table stackoverflow4 (\n",
    "  k_part_one text,\n",
    "  k_part_two int,\n",
    "  k_clust_one text,\n",
    "  k_clust_two int,\n",
    "  k_clust_three uuid,\n",
    "  data text,\n",
    "  PRIMARY KEY((k_part_one,k_part_two), k_clust_one, k_clust_two, k_clust_three)      \n",
    ");"
   ]
  },
  {
   "cell_type": "markdown",
   "metadata": {},
   "source": [
    "Behind these names ...\n",
    "\n",
    "- The **Partition Key** is responsible for **data distribution** across your nodes.\n",
    "- The **Clustering Key** is responsible for **data sorting** within the partition.\n",
    "- The **Primary Key** is equivalent to the **Partition Key** in a single-field-key table.\n",
    "- The **Composite/Compound Key** is just a **multiple-columns** key"
   ]
  },
  {
   "cell_type": "code",
   "execution_count": null,
   "metadata": {},
   "outputs": [],
   "source": []
  }
 ],
 "metadata": {
  "kernelspec": {
   "display_name": "Python 3",
   "language": "python",
   "name": "python3"
  },
  "language_info": {
   "codemirror_mode": {
    "name": "ipython",
    "version": 3
   },
   "file_extension": ".py",
   "mimetype": "text/x-python",
   "name": "python",
   "nbconvert_exporter": "python",
   "pygments_lexer": "ipython3",
   "version": "3.6.9"
  }
 },
 "nbformat": 4,
 "nbformat_minor": 4
}
