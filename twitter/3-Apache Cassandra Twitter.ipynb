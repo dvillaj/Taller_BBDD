{
 "cells": [
  {
   "cell_type": "markdown",
   "metadata": {},
   "source": [
    "# Insertando datos de Twitter en Cassandra"
   ]
  },
  {
   "cell_type": "markdown",
   "metadata": {},
   "source": [
    "![png](./images/Cassandra.png)"
   ]
  },
  {
   "cell_type": "markdown",
   "metadata": {},
   "source": [
    "## Creacción del KeySpace"
   ]
  },
  {
   "cell_type": "code",
   "execution_count": null,
   "metadata": {
    "jupyter": {
     "outputs_hidden": false
    }
   },
   "outputs": [],
   "source": [
    "%load_ext cql"
   ]
  },
  {
   "cell_type": "code",
   "execution_count": null,
   "metadata": {
    "jupyter": {
     "outputs_hidden": false
    }
   },
   "outputs": [],
   "source": [
    "%%cql\n",
    "DROP KEYSPACE twitter;"
   ]
  },
  {
   "cell_type": "code",
   "execution_count": null,
   "metadata": {
    "jupyter": {
     "outputs_hidden": false
    }
   },
   "outputs": [],
   "source": [
    "%%cql\n",
    "CREATE KEYSPACE twitter \n",
    "WITH replication = {'class':'SimpleStrategy', 'replication_factor': 1};"
   ]
  },
  {
   "cell_type": "markdown",
   "metadata": {},
   "source": [
    "## Uso del KeySpace\n",
    "\n",
    "Se utiliza USE para cambiar el keyspace por defecto\n"
   ]
  },
  {
   "cell_type": "code",
   "execution_count": null,
   "metadata": {
    "jupyter": {
     "outputs_hidden": false
    }
   },
   "outputs": [],
   "source": [
    "%cql USE twitter;"
   ]
  },
  {
   "cell_type": "markdown",
   "metadata": {},
   "source": [
    "## Creacción de tablas\n",
    "\n",
    "* Los Keyspaces contienen tablas\n",
    "* Las tablas contienen datos"
   ]
  },
  {
   "cell_type": "code",
   "execution_count": null,
   "metadata": {
    "jupyter": {
     "outputs_hidden": false
    }
   },
   "outputs": [],
   "source": [
    "%%cql\n",
    "CREATE TABLE users (\n",
    "    screen_name text,\n",
    "    created_at timestamp,\n",
    "    id_str text,\n",
    "    name text,\n",
    "    description text,\n",
    "    profile_image_url text,\n",
    "    time_zone text,\n",
    "    geo_enabled boolean,\n",
    "    favourites_count int,\n",
    "    followers_count int,\n",
    "    friends_count int,\n",
    "    statuses_count int,\n",
    "    PRIMARY KEY (screen_name)\n",
    ");"
   ]
  },
  {
   "cell_type": "code",
   "execution_count": null,
   "metadata": {
    "jupyter": {
     "outputs_hidden": false
    }
   },
   "outputs": [],
   "source": [
    "%%cql\n",
    "CREATE TYPE geo (\n",
    "  type text,\n",
    "  coordinates list<float>\n",
    ")"
   ]
  },
  {
   "cell_type": "code",
   "execution_count": null,
   "metadata": {
    "jupyter": {
     "outputs_hidden": false
    }
   },
   "outputs": [],
   "source": [
    "%%cql\n",
    "CREATE TABLE tweets (\n",
    "    id text,\n",
    "    created_at timestamp,\n",
    "    entities list<text>,\n",
    "    favorite_count int,\n",
    "    retweet_count int,\n",
    "    source text,\n",
    "    lang text,\n",
    "    text text,\n",
    "    geo  frozen<geo>,\n",
    "    user_mentions list<text>,\n",
    "    user text,\n",
    "    retweet_id text,\n",
    "    PRIMARY KEY (id)\n",
    ");"
   ]
  },
  {
   "cell_type": "code",
   "execution_count": null,
   "metadata": {
    "jupyter": {
     "outputs_hidden": false
    }
   },
   "outputs": [],
   "source": [
    "%%cql\n",
    "CREATE INDEX tweets_hashtag ON tweets(entities)"
   ]
  },
  {
   "cell_type": "code",
   "execution_count": null,
   "metadata": {
    "jupyter": {
     "outputs_hidden": false
    }
   },
   "outputs": [],
   "source": [
    "%%cql\n",
    "CREATE INDEX tweets_user ON tweets(user)"
   ]
  },
  {
   "cell_type": "code",
   "execution_count": null,
   "metadata": {
    "jupyter": {
     "outputs_hidden": false
    }
   },
   "outputs": [],
   "source": [
    "%%cql\n",
    "CREATE TABLE tweets_by_user (\n",
    "    user text,\n",
    "    created_at timestamp,\n",
    "    lang text,\n",
    "    text text,\n",
    "    id text,\n",
    "    retweet_id text,\n",
    "    PRIMARY KEY ((user), created_at)\n",
    ")\n",
    "WITH CLUSTERING ORDER BY (created_at DESC);"
   ]
  },
  {
   "cell_type": "code",
   "execution_count": null,
   "metadata": {
    "jupyter": {
     "outputs_hidden": false
    }
   },
   "outputs": [],
   "source": [
    "%%cql\n",
    "CREATE TABLE tweets_by_hashtag (\n",
    "    hashtag text,\n",
    "    created_at timestamp,\n",
    "    lang text,\n",
    "    text text,\n",
    "    user text,\n",
    "    id text,\n",
    "    retweet_id text,\n",
    "    PRIMARY KEY ((hashtag), created_at)\n",
    ")\n",
    "WITH CLUSTERING ORDER BY (created_at DESC);"
   ]
  },
  {
   "cell_type": "code",
   "execution_count": null,
   "metadata": {
    "jupyter": {
     "outputs_hidden": false
    }
   },
   "outputs": [],
   "source": [
    "%%cql\n",
    "CREATE TABLE hashtags (\n",
    "    hashtag text,\n",
    "    count counter,\n",
    "    PRIMARY KEY (hashtag)\n",
    ");"
   ]
  },
  {
   "cell_type": "markdown",
   "metadata": {},
   "source": [
    "![png](./images/Cassandra_Model.png)"
   ]
  },
  {
   "cell_type": "markdown",
   "metadata": {},
   "source": [
    "## Inserción de la información"
   ]
  },
  {
   "cell_type": "code",
   "execution_count": null,
   "metadata": {},
   "outputs": [],
   "source": [
    "from cassandra.cluster import Cluster, BatchStatement, ConsistencyLevel\n",
    "cluster = Cluster()\n",
    "session = cluster.connect('twitter')"
   ]
  },
  {
   "cell_type": "code",
   "execution_count": null,
   "metadata": {
    "jupyter": {
     "outputs_hidden": false
    }
   },
   "outputs": [],
   "source": [
    "from datetime import datetime\n",
    "import dateutil.parser"
   ]
  },
  {
   "cell_type": "code",
   "execution_count": null,
   "metadata": {},
   "outputs": [],
   "source": [
    "from collections import namedtuple\n",
    "\n",
    "Geo = namedtuple('geo', ('type', 'coordinates'))\n",
    "cluster.register_user_type(\"twitter\", \"geo\", Geo)"
   ]
  },
  {
   "cell_type": "code",
   "execution_count": null,
   "metadata": {
    "jupyter": {
     "outputs_hidden": false
    }
   },
   "outputs": [],
   "source": [
    "def insert_tweet(tweet_json):\n",
    "    geo = None\n",
    "    retweet_id = None\n",
    "    \n",
    "    created_at = dateutil.parser.parse(tweet_json[\"created_at\"])\n",
    "    user = tweet_json[\"user\"][\"screen_name\"]\n",
    "    \n",
    "    if \"retweet_status\" in tweet_json: retweet_id = tweet_json[\"retweet_status\"][\"id_str\"]\n",
    "    if \"geo\" in tweet_json: Geo(tweet_json[\"geo\"][\"type\"], tweet_json[\"geo\"][\"coordinates\"])\n",
    "          \n",
    "    session.execute(\n",
    "\"\"\"\n",
    "INSERT INTO tweets (\n",
    "id,\n",
    "created_at,\n",
    "entities,\n",
    "favorite_count,\n",
    "retweet_count,\n",
    "source,\n",
    "lang,\n",
    "text,\n",
    "geo,\n",
    "user_mentions,\n",
    "user,\n",
    "retweet_id\n",
    ") VALUES (\n",
    "%s,\n",
    "%s,\n",
    "%s,\n",
    "%s,\n",
    "%s,\n",
    "%s,\n",
    "%s,\n",
    "%s,\n",
    "%s,\n",
    "%s,\n",
    "%s,\n",
    "%s\n",
    ")\n",
    "\"\"\"\n",
    "    , [\n",
    "        tweet_json[\"id_str\"],\n",
    "        created_at,\n",
    "        tweet_json[\"entities\"],\n",
    "        tweet_json[\"favorite_count\"],\n",
    "        tweet_json[\"retweet_count\"],\n",
    "        tweet_json[\"source\"],\n",
    "        tweet_json[\"lang\"],\n",
    "        tweet_json[\"text\"],\n",
    "        geo,\n",
    "        tweet_json[\"user_mentions\"],\n",
    "        user,\n",
    "        retweet_id\n",
    "    ])\n",
    "    \n",
    "    \n",
    "    #Timeline del usuario\n",
    "    session.execute(\n",
    "\"\"\"\n",
    "INSERT INTO tweets_by_user (\n",
    "    user,\n",
    "    created_at,\n",
    "    lang,\n",
    "    text,\n",
    "    id,\n",
    "    retweet_id\n",
    ") VALUES (\n",
    "%s,\n",
    "%s,\n",
    "%s,\n",
    "%s,\n",
    "%s,\n",
    "%s\n",
    ")\n",
    "\"\"\"\n",
    "    , [\n",
    "        user,\n",
    "        created_at,\n",
    "        tweet_json[\"lang\"],\n",
    "        tweet_json[\"text\"],\n",
    "        tweet_json[\"id_str\"],\n",
    "        retweet_id\n",
    "    ])\n",
    "    \n",
    "   \n",
    "\n",
    "    #Tweets por tag\n",
    "    for hashtag in tweet_json[\"entities\"]:\n",
    "        \n",
    "        session.execute(\n",
    "\"\"\"\n",
    "INSERT INTO tweets_by_hashtag (\n",
    "    hashtag,\n",
    "    created_at,\n",
    "    lang,\n",
    "    text,\n",
    "    user,\n",
    "    id,\n",
    "    retweet_id\n",
    ") VALUES (\n",
    "%s,\n",
    "%s,\n",
    "%s,\n",
    "%s,\n",
    "%s,\n",
    "%s,\n",
    "%s\n",
    ")\n",
    "\"\"\"\n",
    "        , [\n",
    "            hashtag,\n",
    "            created_at,\n",
    "            tweet_json[\"lang\"],\n",
    "            tweet_json[\"text\"],\n",
    "            user,\n",
    "            tweet_json[\"id_str\"],\n",
    "            retweet_id\n",
    "        ])"
   ]
  },
  {
   "cell_type": "code",
   "execution_count": null,
   "metadata": {},
   "outputs": [],
   "source": [
    "def insert_hashtag(hashtag):\n",
    "    session.execute(\"UPDATE hashtags SET count = count + 1 WHERE hashtag = %s\", [hashtag])"
   ]
  },
  {
   "cell_type": "code",
   "execution_count": null,
   "metadata": {},
   "outputs": [],
   "source": [
    "def insert_user(user_json):\n",
    "    session.execute(\"INSERT INTO users (screen_name, name, id_str) VALUES (%s, %s, %s)\", [\n",
    "            user_json[\"screen_name\"],\n",
    "            user_json[\"name\"],\n",
    "            user_json[\"id_str\"]\n",
    "            ])"
   ]
  },
  {
   "cell_type": "code",
   "execution_count": null,
   "metadata": {},
   "outputs": [],
   "source": [
    "def insert_user_mencion(user_json):\n",
    "    session.execute(\"UPDATE users SET name = %s, id_str=%s WHERE screen_name = %s\", [\n",
    "            user_json[\"name\"],\n",
    "            user_json[\"id_str\"],\n",
    "            user_json[\"screen_name\"]\n",
    "            ])"
   ]
  },
  {
   "cell_type": "code",
   "execution_count": null,
   "metadata": {},
   "outputs": [],
   "source": [
    "def insert_user(user_json):\n",
    "    \n",
    "    time_zone = None;\n",
    "    created_at = dateutil.parser.parse(user_json[\"created_at\"])\n",
    "    if \"time_zone\" in tweet_json: time_zone = tweet_json[\"time_zone\"]\n",
    "    \n",
    "         \n",
    "    session.execute(\n",
    "\"\"\"\n",
    "INSERT INTO users (\n",
    "screen_name,\n",
    "created_at,\n",
    "id_str,\n",
    "name,\n",
    "description,\n",
    "profile_image_url,\n",
    "time_zone,\n",
    "geo_enabled,\n",
    "favourites_count,\n",
    "followers_count,\n",
    "friends_count,\n",
    "statuses_count\n",
    ") VALUES (\n",
    "%s,\n",
    "%s,\n",
    "%s,\n",
    "%s,\n",
    "%s,\n",
    "%s,\n",
    "%s,\n",
    "%s,\n",
    "%s,\n",
    "%s,\n",
    "%s,\n",
    "%s\n",
    ")\n",
    "\"\"\", [       \n",
    "        user_json[\"screen_name\"],\n",
    "        created_at,\n",
    "        user_json[\"id_str\"],\n",
    "        user_json[\"name\"],\n",
    "        user_json[\"description\"],\n",
    "        user_json[\"profile_image_url\"],\n",
    "        time_zone,\n",
    "        user_json[\"geo_enabled\"],\n",
    "        user_json[\"favourites_count\"],\n",
    "        user_json[\"followers_count\"],\n",
    "        user_json[\"friends_count\"],\n",
    "        user_json[\"statuses_count\"]\n",
    "    ])\n",
    "            "
   ]
  },
  {
   "cell_type": "code",
   "execution_count": null,
   "metadata": {
    "jupyter": {
     "outputs_hidden": false
    }
   },
   "outputs": [],
   "source": [
    "def parse_tweet(tweet_json):\n",
    "   \n",
    "    # Simplificamos la estructura user_mentions a un array de nombres de usuario\n",
    "    user_mencioned_list = []\n",
    "    for user_mencioned in tweet_json['user_mentions']:\n",
    "        user_mencioned_list.append(user_mencioned[\"screen_name\"])\n",
    "        insert_user_mencion(user_mencioned)\n",
    "        \n",
    "    tweet_json['user_mentions'] = user_mencioned_list\n",
    "                 \n",
    "    for entity in tweet_json['entities']:\n",
    "        insert_hashtag(entity)\n",
    "    \n",
    "    insert_tweet(tweet_json)\n",
    "    \n",
    "    user_json = tweet_json['user']\n",
    "    insert_user(user_json)\n",
    "    \n",
    "    #En el caso de que el Tweet tenga un Tweet padre (retweet) lo almenamos como documento independiente \n",
    "    if 'retweeted_status' in tweet_json:\n",
    "        parse_tweet(tweet_json['retweeted_status'])\n"
   ]
  },
  {
   "cell_type": "code",
   "execution_count": null,
   "metadata": {
    "jupyter": {
     "outputs_hidden": false
    }
   },
   "outputs": [],
   "source": [
    "import json\n",
    "from pprintpp import pprint as pp\n",
    "import sys\n",
    "\n",
    "tweets_data_path = './data/tweets.json'\n",
    "\n",
    "tweets_file = open(tweets_data_path, \"r\")\n",
    "for line in tweets_file:\n",
    "    tweet_json = json.loads(line)\n",
    "    parse_tweet(tweet_json)\n"
   ]
  },
  {
   "cell_type": "markdown",
   "metadata": {},
   "source": [
    "## Querys"
   ]
  },
  {
   "cell_type": "code",
   "execution_count": null,
   "metadata": {},
   "outputs": [],
   "source": [
    "session.execute(\"SELECT count(*) from users\").one()"
   ]
  },
  {
   "cell_type": "code",
   "execution_count": null,
   "metadata": {
    "jupyter": {
     "outputs_hidden": false
    }
   },
   "outputs": [],
   "source": [
    "print(\"Users\", session.execute(\"SELECT count(*) from users\").one().count)\n",
    "print(\"Tweets\",session.execute(\"SELECT count(*) from tweets\").one().count)\n",
    "print(\"Tweets por Usuario\",session.execute(\"SELECT count(*) from tweets_by_user\").one().count)\n",
    "print(\"Tweets por Hashtag\",session.execute(\"SELECT count(*) from tweets_by_hashtag\").one().count)\n",
    "print(\"Hashtags\",session.execute(\"SELECT count(*) from hashtags\").one().count)"
   ]
  },
  {
   "cell_type": "markdown",
   "metadata": {},
   "source": [
    "## Consulta de usuarios"
   ]
  },
  {
   "cell_type": "code",
   "execution_count": null,
   "metadata": {
    "jupyter": {
     "outputs_hidden": false
    }
   },
   "outputs": [],
   "source": [
    "%%cql\n",
    "SELECT * from users\n",
    "WHERE screen_name IN  ( 'Grandite', 'pinaldave')"
   ]
  },
  {
   "cell_type": "markdown",
   "metadata": {},
   "source": [
    "## Tweets de un determinado usuario"
   ]
  },
  {
   "cell_type": "code",
   "execution_count": null,
   "metadata": {
    "jupyter": {
     "outputs_hidden": false
    }
   },
   "outputs": [],
   "source": [
    "%%cql\n",
    "SELECT * from tweets\n",
    "WHERE user = 'Grandite'\n",
    "LIMIT 2"
   ]
  },
  {
   "cell_type": "markdown",
   "metadata": {},
   "source": [
    "## Hashtags mas populares"
   ]
  },
  {
   "cell_type": "code",
   "execution_count": null,
   "metadata": {
    "jupyter": {
     "outputs_hidden": false
    }
   },
   "outputs": [],
   "source": [
    "result_cursor = session.execute(\"select * from hashtags\")\n",
    "\n",
    "def getCount(item):\n",
    "    return item.count\n",
    "\n",
    "for row in sorted(result_cursor, key=getCount, reverse=True)[0:10]:\n",
    "    print(row.hashtag, \"-\", row.count)"
   ]
  },
  {
   "cell_type": "markdown",
   "metadata": {},
   "source": [
    "## Timeline del usuario"
   ]
  },
  {
   "cell_type": "code",
   "execution_count": null,
   "metadata": {
    "jupyter": {
     "outputs_hidden": false
    }
   },
   "outputs": [],
   "source": [
    "%%cql\n",
    "SELECT * from tweets_by_user\n",
    "WHERE user = 'Grandite'\n",
    "LIMIT 2"
   ]
  },
  {
   "cell_type": "markdown",
   "metadata": {},
   "source": [
    "## Querys que contienen un determinado tag"
   ]
  },
  {
   "cell_type": "code",
   "execution_count": null,
   "metadata": {
    "jupyter": {
     "outputs_hidden": false
    }
   },
   "outputs": [],
   "source": [
    "%%cql\n",
    "SELECT * from tweets\n",
    "WHERE entities CONTAINS 'NoSQL'\n",
    "LIMIT 2"
   ]
  },
  {
   "cell_type": "markdown",
   "metadata": {},
   "source": [
    "## Tweets por hashtag ordernados por fecha de creacción"
   ]
  },
  {
   "cell_type": "code",
   "execution_count": null,
   "metadata": {
    "jupyter": {
     "outputs_hidden": false
    }
   },
   "outputs": [],
   "source": [
    "%%cql\n",
    "SELECT * from tweets_by_hashtag\n",
    "WHERE hashtag = 'NoSQL'\n",
    "   and created_at <= '2015-10-25'\n",
    "LIMIT 4"
   ]
  },
  {
   "cell_type": "code",
   "execution_count": null,
   "metadata": {},
   "outputs": [],
   "source": []
  }
 ],
 "metadata": {
  "kernelspec": {
   "display_name": "Python 3 (ipykernel)",
   "language": "python",
   "name": "python3"
  },
  "language_info": {
   "codemirror_mode": {
    "name": "ipython",
    "version": 3
   },
   "file_extension": ".py",
   "mimetype": "text/x-python",
   "name": "python",
   "nbconvert_exporter": "python",
   "pygments_lexer": "ipython3",
   "version": "3.8.10"
  }
 },
 "nbformat": 4,
 "nbformat_minor": 4
}
