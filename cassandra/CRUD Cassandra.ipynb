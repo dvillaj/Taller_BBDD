{
 "cells": [
  {
   "cell_type": "markdown",
   "metadata": {},
   "source": [
    "# Operaciones CRUD en Cassandra"
   ]
  },
  {
   "cell_type": "code",
   "execution_count": 5,
   "metadata": {
    "collapsed": false
   },
   "outputs": [
    {
     "name": "stdout",
     "output_type": "stream",
     "text": [
      "The cql extension is already loaded. To reload it, use:\n",
      "  %reload_ext cql\n"
     ]
    }
   ],
   "source": [
    "%load_ext cql"
   ]
  },
  {
   "cell_type": "code",
   "execution_count": 18,
   "metadata": {
    "collapsed": false
   },
   "outputs": [
    {
     "data": {
      "text/plain": [
       "'No results.'"
      ]
     },
     "execution_count": 18,
     "metadata": {},
     "output_type": "execute_result"
    }
   ],
   "source": [
    "%%cql\n",
    "DROP KEYSPACE demo "
   ]
  },
  {
   "cell_type": "code",
   "execution_count": 7,
   "metadata": {
    "collapsed": false
   },
   "outputs": [
    {
     "data": {
      "text/plain": [
       "'No results.'"
      ]
     },
     "execution_count": 7,
     "metadata": {},
     "output_type": "execute_result"
    }
   ],
   "source": [
    "%%cql\n",
    "CREATE KEYSPACE demo \n",
    "WITH replication = {'class': 'SimpleStrategy', 'replication_factor' : 1};"
   ]
  },
  {
   "cell_type": "code",
   "execution_count": 8,
   "metadata": {
    "collapsed": false
   },
   "outputs": [
    {
     "name": "stdout",
     "output_type": "stream",
     "text": [
      "Using keyspace demo\n"
     ]
    }
   ],
   "source": [
    "%keyspace demo"
   ]
  },
  {
   "cell_type": "code",
   "execution_count": 9,
   "metadata": {
    "collapsed": false
   },
   "outputs": [
    {
     "data": {
      "text/html": [
       "<table>\n",
       "    <tr>\n",
       "        <th>release_version</th>\n",
       "    </tr>\n",
       "    <tr>\n",
       "        <td>3.0.9</td>\n",
       "    </tr>\n",
       "</table>"
      ],
      "text/plain": [
       "+-----------------+\n",
       "| release_version |\n",
       "+-----------------+\n",
       "|      3.0.9      |\n",
       "+-----------------+"
      ]
     },
     "execution_count": 9,
     "metadata": {},
     "output_type": "execute_result"
    }
   ],
   "source": [
    "%cql select release_version from system.local;"
   ]
  },
  {
   "cell_type": "code",
   "execution_count": 10,
   "metadata": {
    "collapsed": false
   },
   "outputs": [
    {
     "data": {
      "text/plain": [
       "'No results.'"
      ]
     },
     "execution_count": 10,
     "metadata": {},
     "output_type": "execute_result"
    }
   ],
   "source": [
    "%%cql\n",
    "CREATE TABLE users (\n",
    "firstname text, \n",
    "lastname text, \n",
    "age int, \n",
    "email text, \n",
    "city text, \n",
    "PRIMARY KEY (lastname));"
   ]
  },
  {
   "cell_type": "code",
   "execution_count": 11,
   "metadata": {
    "collapsed": false
   },
   "outputs": [
    {
     "data": {
      "text/plain": [
       "'No results.'"
      ]
     },
     "execution_count": 11,
     "metadata": {},
     "output_type": "execute_result"
    }
   ],
   "source": [
    "%cql INSERT INTO users (firstname, lastname, age, email, city) VALUES ('John', 'Smith', 46, 'johnsmith@email.com', 'Sacramento'); \n",
    "%cql INSERT INTO users (firstname, lastname, age, email, city) VALUES ('Jane', 'Doe', 36, 'janedoe@email.com', 'Beverly Hills'); \n",
    "%cql INSERT INTO users (firstname, lastname, age, email, city) VALUES ('Rob', 'Byrne', 24, 'robbyrne@email.com', 'San Diego');"
   ]
  },
  {
   "cell_type": "code",
   "execution_count": 12,
   "metadata": {
    "collapsed": false
   },
   "outputs": [
    {
     "data": {
      "text/html": [
       "<table>\n",
       "    <tr>\n",
       "        <th>lastname</th>\n",
       "        <th>age</th>\n",
       "        <th>city</th>\n",
       "        <th>email</th>\n",
       "        <th>firstname</th>\n",
       "    </tr>\n",
       "    <tr>\n",
       "        <td>Doe</td>\n",
       "        <td>36</td>\n",
       "        <td>Beverly Hills</td>\n",
       "        <td>janedoe@email.com</td>\n",
       "        <td>Jane</td>\n",
       "    </tr>\n",
       "    <tr>\n",
       "        <td>Byrne</td>\n",
       "        <td>24</td>\n",
       "        <td>San Diego</td>\n",
       "        <td>robbyrne@email.com</td>\n",
       "        <td>Rob</td>\n",
       "    </tr>\n",
       "    <tr>\n",
       "        <td>Smith</td>\n",
       "        <td>46</td>\n",
       "        <td>Sacramento</td>\n",
       "        <td>johnsmith@email.com</td>\n",
       "        <td>John</td>\n",
       "    </tr>\n",
       "</table>"
      ],
      "text/plain": [
       "+----------+-----+---------------+---------------------+-----------+\n",
       "| lastname | age |      city     |        email        | firstname |\n",
       "+----------+-----+---------------+---------------------+-----------+\n",
       "|   Doe    |  36 | Beverly Hills |  janedoe@email.com  |    Jane   |\n",
       "|  Byrne   |  24 |   San Diego   |  robbyrne@email.com |    Rob    |\n",
       "|  Smith   |  46 |   Sacramento  | johnsmith@email.com |    John   |\n",
       "+----------+-----+---------------+---------------------+-----------+"
      ]
     },
     "execution_count": 12,
     "metadata": {},
     "output_type": "execute_result"
    }
   ],
   "source": [
    "%cql SELECT * FROM users;"
   ]
  },
  {
   "cell_type": "code",
   "execution_count": 13,
   "metadata": {
    "collapsed": false
   },
   "outputs": [
    {
     "data": {
      "text/html": [
       "<table>\n",
       "    <tr>\n",
       "        <th>lastname</th>\n",
       "        <th>age</th>\n",
       "        <th>city</th>\n",
       "        <th>email</th>\n",
       "        <th>firstname</th>\n",
       "    </tr>\n",
       "    <tr>\n",
       "        <td>Doe</td>\n",
       "        <td>36</td>\n",
       "        <td>Beverly Hills</td>\n",
       "        <td>janedoe@email.com</td>\n",
       "        <td>Jane</td>\n",
       "    </tr>\n",
       "</table>"
      ],
      "text/plain": [
       "+----------+-----+---------------+-------------------+-----------+\n",
       "| lastname | age |      city     |       email       | firstname |\n",
       "+----------+-----+---------------+-------------------+-----------+\n",
       "|   Doe    |  36 | Beverly Hills | janedoe@email.com |    Jane   |\n",
       "+----------+-----+---------------+-------------------+-----------+"
      ]
     },
     "execution_count": 13,
     "metadata": {},
     "output_type": "execute_result"
    }
   ],
   "source": [
    "%cql SELECT * FROM users WHERE lastname= 'Doe';"
   ]
  },
  {
   "cell_type": "code",
   "execution_count": 14,
   "metadata": {
    "collapsed": false
   },
   "outputs": [
    {
     "data": {
      "text/plain": [
       "'No results.'"
      ]
     },
     "execution_count": 14,
     "metadata": {},
     "output_type": "execute_result"
    }
   ],
   "source": [
    "%cql UPDATE users SET city= 'San Jose' WHERE lastname= 'Doe';"
   ]
  },
  {
   "cell_type": "code",
   "execution_count": 15,
   "metadata": {
    "collapsed": false
   },
   "outputs": [
    {
     "data": {
      "text/html": [
       "<table>\n",
       "    <tr>\n",
       "        <th>lastname</th>\n",
       "        <th>age</th>\n",
       "        <th>city</th>\n",
       "        <th>email</th>\n",
       "        <th>firstname</th>\n",
       "    </tr>\n",
       "    <tr>\n",
       "        <td>Doe</td>\n",
       "        <td>36</td>\n",
       "        <td>San Jose</td>\n",
       "        <td>janedoe@email.com</td>\n",
       "        <td>Jane</td>\n",
       "    </tr>\n",
       "</table>"
      ],
      "text/plain": [
       "+----------+-----+----------+-------------------+-----------+\n",
       "| lastname | age |   city   |       email       | firstname |\n",
       "+----------+-----+----------+-------------------+-----------+\n",
       "|   Doe    |  36 | San Jose | janedoe@email.com |    Jane   |\n",
       "+----------+-----+----------+-------------------+-----------+"
      ]
     },
     "execution_count": 15,
     "metadata": {},
     "output_type": "execute_result"
    }
   ],
   "source": [
    "%cql SELECT * FROM users where lastname= 'Doe';"
   ]
  },
  {
   "cell_type": "code",
   "execution_count": 16,
   "metadata": {
    "collapsed": false
   },
   "outputs": [
    {
     "data": {
      "text/plain": [
       "'No results.'"
      ]
     },
     "execution_count": 16,
     "metadata": {},
     "output_type": "execute_result"
    }
   ],
   "source": [
    "%cql DELETE from users WHERE lastname = 'Doe';"
   ]
  },
  {
   "cell_type": "code",
   "execution_count": 17,
   "metadata": {
    "collapsed": false
   },
   "outputs": [
    {
     "data": {
      "text/html": [
       "<table>\n",
       "    <tr>\n",
       "        <th>lastname</th>\n",
       "        <th>age</th>\n",
       "        <th>city</th>\n",
       "        <th>email</th>\n",
       "        <th>firstname</th>\n",
       "    </tr>\n",
       "    <tr>\n",
       "        <td>Byrne</td>\n",
       "        <td>24</td>\n",
       "        <td>San Diego</td>\n",
       "        <td>robbyrne@email.com</td>\n",
       "        <td>Rob</td>\n",
       "    </tr>\n",
       "    <tr>\n",
       "        <td>Smith</td>\n",
       "        <td>46</td>\n",
       "        <td>Sacramento</td>\n",
       "        <td>johnsmith@email.com</td>\n",
       "        <td>John</td>\n",
       "    </tr>\n",
       "</table>"
      ],
      "text/plain": [
       "+----------+-----+------------+---------------------+-----------+\n",
       "| lastname | age |    city    |        email        | firstname |\n",
       "+----------+-----+------------+---------------------+-----------+\n",
       "|  Byrne   |  24 | San Diego  |  robbyrne@email.com |    Rob    |\n",
       "|  Smith   |  46 | Sacramento | johnsmith@email.com |    John   |\n",
       "+----------+-----+------------+---------------------+-----------+"
      ]
     },
     "execution_count": 17,
     "metadata": {},
     "output_type": "execute_result"
    }
   ],
   "source": [
    "%cql SELECT * FROM users;"
   ]
  },
  {
   "cell_type": "code",
   "execution_count": null,
   "metadata": {
    "collapsed": true
   },
   "outputs": [],
   "source": []
  }
 ],
 "metadata": {
  "kernelspec": {
   "display_name": "Python 2",
   "language": "python",
   "name": "python2"
  },
  "language_info": {
   "codemirror_mode": {
    "name": "ipython",
    "version": 2
   },
   "file_extension": ".py",
   "mimetype": "text/x-python",
   "name": "python",
   "nbconvert_exporter": "python",
   "pygments_lexer": "ipython2",
   "version": "2.7.6"
  }
 },
 "nbformat": 4,
 "nbformat_minor": 0
}
