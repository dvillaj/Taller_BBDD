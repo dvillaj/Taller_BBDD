{
 "cells": [
  {
   "cell_type": "code",
   "execution_count": 1,
   "metadata": {
    "collapsed": false
   },
   "outputs": [
    {
     "name": "stderr",
     "output_type": "stream",
     "text": [
      "/usr/local/lib/python2.7/dist-packages/IPython/config.py:13: ShimWarning: The `IPython.config` package has been deprecated. You should import from traitlets.config instead.\n",
      "  \"You should import from traitlets.config instead.\", ShimWarning)\n"
     ]
    }
   ],
   "source": [
    "%load_ext cql"
   ]
  },
  {
   "cell_type": "code",
   "execution_count": 9,
   "metadata": {
    "collapsed": false
   },
   "outputs": [
    {
     "data": {
      "text/plain": [
       "'No results.'"
      ]
     },
     "execution_count": 9,
     "metadata": {},
     "output_type": "execute_result"
    }
   ],
   "source": [
    "%%cql\n",
    "CREATE KEYSPACE demo \n",
    "WITH replication = {'class': 'SimpleStrategy', 'replication_factor' : 1};"
   ]
  },
  {
   "cell_type": "code",
   "execution_count": 10,
   "metadata": {
    "collapsed": false
   },
   "outputs": [
    {
     "name": "stdout",
     "output_type": "stream",
     "text": [
      "Using keyspace demo\n"
     ]
    }
   ],
   "source": [
    "%keyspace demo"
   ]
  },
  {
   "cell_type": "code",
   "execution_count": 11,
   "metadata": {
    "collapsed": false
   },
   "outputs": [
    {
     "data": {
      "text/plain": [
       "'No results.'"
      ]
     },
     "execution_count": 11,
     "metadata": {},
     "output_type": "execute_result"
    }
   ],
   "source": [
    "%%cql\n",
    "CREATE TABLE users (\n",
    "firstname text, \n",
    "lastname text, \n",
    "age int, \n",
    "email text, \n",
    "city text, \n",
    "PRIMARY KEY (lastname));"
   ]
  },
  {
   "cell_type": "code",
   "execution_count": 15,
   "metadata": {
    "collapsed": false
   },
   "outputs": [
    {
     "data": {
      "text/plain": [
       "'No results.'"
      ]
     },
     "execution_count": 15,
     "metadata": {},
     "output_type": "execute_result"
    }
   ],
   "source": [
    "%cql INSERT INTO users (firstname, lastname, age, email, city) VALUES ('John', 'Smith', 46, 'johnsmith@email.com', 'Sacramento'); \n",
    "%cql INSERT INTO users (firstname, lastname, age, email, city) VALUES ('Jane', 'Doe', 36, 'janedoe@email.com', 'Beverly Hills'); \n",
    "%cql INSERT INTO users (firstname, lastname, age, email, city) VALUES ('Rob', 'Byrne', 24, 'robbyrne@email.com', 'San Diego');"
   ]
  },
  {
   "cell_type": "code",
   "execution_count": 16,
   "metadata": {
    "collapsed": false
   },
   "outputs": [
    {
     "data": {
      "text/html": [
       "<table>\n",
       "    <tr>\n",
       "        <th>lastname</th>\n",
       "        <th>age</th>\n",
       "        <th>city</th>\n",
       "        <th>email</th>\n",
       "        <th>firstname</th>\n",
       "    </tr>\n",
       "    <tr>\n",
       "        <td>Doe</td>\n",
       "        <td>36</td>\n",
       "        <td>Beverly Hills</td>\n",
       "        <td>janedoe@email.com</td>\n",
       "        <td>Jane</td>\n",
       "    </tr>\n",
       "    <tr>\n",
       "        <td>Byrne</td>\n",
       "        <td>24</td>\n",
       "        <td>San Diego</td>\n",
       "        <td>robbyrne@email.com</td>\n",
       "        <td>Rob</td>\n",
       "    </tr>\n",
       "    <tr>\n",
       "        <td>Smith</td>\n",
       "        <td>46</td>\n",
       "        <td>Sacramento</td>\n",
       "        <td>johnsmith@email.com</td>\n",
       "        <td>John</td>\n",
       "    </tr>\n",
       "</table>"
      ],
      "text/plain": [
       "+----------+-----+---------------+---------------------+-----------+\n",
       "| lastname | age |      city     |        email        | firstname |\n",
       "+----------+-----+---------------+---------------------+-----------+\n",
       "|   Doe    |  36 | Beverly Hills |  janedoe@email.com  |    Jane   |\n",
       "|  Byrne   |  24 |   San Diego   |  robbyrne@email.com |    Rob    |\n",
       "|  Smith   |  46 |   Sacramento  | johnsmith@email.com |    John   |\n",
       "+----------+-----+---------------+---------------------+-----------+"
      ]
     },
     "execution_count": 16,
     "metadata": {},
     "output_type": "execute_result"
    }
   ],
   "source": [
    "%cql SELECT * FROM users;"
   ]
  },
  {
   "cell_type": "code",
   "execution_count": 17,
   "metadata": {
    "collapsed": false
   },
   "outputs": [
    {
     "data": {
      "text/html": [
       "<table>\n",
       "    <tr>\n",
       "        <th>lastname</th>\n",
       "        <th>age</th>\n",
       "        <th>city</th>\n",
       "        <th>email</th>\n",
       "        <th>firstname</th>\n",
       "    </tr>\n",
       "    <tr>\n",
       "        <td>Doe</td>\n",
       "        <td>36</td>\n",
       "        <td>Beverly Hills</td>\n",
       "        <td>janedoe@email.com</td>\n",
       "        <td>Jane</td>\n",
       "    </tr>\n",
       "</table>"
      ],
      "text/plain": [
       "+----------+-----+---------------+-------------------+-----------+\n",
       "| lastname | age |      city     |       email       | firstname |\n",
       "+----------+-----+---------------+-------------------+-----------+\n",
       "|   Doe    |  36 | Beverly Hills | janedoe@email.com |    Jane   |\n",
       "+----------+-----+---------------+-------------------+-----------+"
      ]
     },
     "execution_count": 17,
     "metadata": {},
     "output_type": "execute_result"
    }
   ],
   "source": [
    "%cql SELECT * FR%OM users WHERE lastname= 'Doe';"
   ]
  },
  {
   "cell_type": "code",
   "execution_count": 18,
   "metadata": {
    "collapsed": false
   },
   "outputs": [
    {
     "data": {
      "text/plain": [
       "'No results.'"
      ]
     },
     "execution_count": 18,
     "metadata": {},
     "output_type": "execute_result"
    }
   ],
   "source": [
    "%cql UPDATE users SET city= 'San Jose' WHERE lastname= 'Doe';"
   ]
  },
  {
   "cell_type": "code",
   "execution_count": 19,
   "metadata": {
    "collapsed": false
   },
   "outputs": [
    {
     "data": {
      "text/html": [
       "<table>\n",
       "    <tr>\n",
       "        <th>lastname</th>\n",
       "        <th>age</th>\n",
       "        <th>city</th>\n",
       "        <th>email</th>\n",
       "        <th>firstname</th>\n",
       "    </tr>\n",
       "    <tr>\n",
       "        <td>Doe</td>\n",
       "        <td>36</td>\n",
       "        <td>San Jose</td>\n",
       "        <td>janedoe@email.com</td>\n",
       "        <td>Jane</td>\n",
       "    </tr>\n",
       "</table>"
      ],
      "text/plain": [
       "+----------+-----+----------+-------------------+-----------+\n",
       "| lastname | age |   city   |       email       | firstname |\n",
       "+----------+-----+----------+-------------------+-----------+\n",
       "|   Doe    |  36 | San Jose | janedoe@email.com |    Jane   |\n",
       "+----------+-----+----------+-------------------+-----------+"
      ]
     },
     "execution_count": 19,
     "metadata": {},
     "output_type": "execute_result"
    }
   ],
   "source": [
    "%cql SELECT * FROM users where lastname= 'Doe';"
   ]
  },
  {
   "cell_type": "code",
   "execution_count": 20,
   "metadata": {
    "collapsed": false
   },
   "outputs": [
    {
     "data": {
      "text/plain": [
       "'No results.'"
      ]
     },
     "execution_count": 20,
     "metadata": {},
     "output_type": "execute_result"
    }
   ],
   "source": [
    "%cql DELETE from users WHERE lastname = 'Doe';"
   ]
  },
  {
   "cell_type": "code",
   "execution_count": 22,
   "metadata": {
    "collapsed": false
   },
   "outputs": [
    {
     "data": {
      "text/html": [
       "<table>\n",
       "    <tr>\n",
       "        <th>lastname</th>\n",
       "        <th>age</th>\n",
       "        <th>city</th>\n",
       "        <th>email</th>\n",
       "        <th>firstname</th>\n",
       "    </tr>\n",
       "    <tr>\n",
       "        <td>Byrne</td>\n",
       "        <td>24</td>\n",
       "        <td>San Diego</td>\n",
       "        <td>robbyrne@email.com</td>\n",
       "        <td>Rob</td>\n",
       "    </tr>\n",
       "    <tr>\n",
       "        <td>Smith</td>\n",
       "        <td>46</td>\n",
       "        <td>Sacramento</td>\n",
       "        <td>johnsmith@email.com</td>\n",
       "        <td>John</td>\n",
       "    </tr>\n",
       "</table>"
      ],
      "text/plain": [
       "+----------+-----+------------+---------------------+-----------+\n",
       "| lastname | age |    city    |        email        | firstname |\n",
       "+----------+-----+------------+---------------------+-----------+\n",
       "|  Byrne   |  24 | San Diego  |  robbyrne@email.com |    Rob    |\n",
       "|  Smith   |  46 | Sacramento | johnsmith@email.com |    John   |\n",
       "+----------+-----+------------+---------------------+-----------+"
      ]
     },
     "execution_count": 22,
     "metadata": {},
     "output_type": "execute_result"
    }
   ],
   "source": [
    "%cql SELECT * FROM users;"
   ]
  },
  {
   "cell_type": "code",
   "execution_count": 23,
   "metadata": {
    "collapsed": false
   },
   "outputs": [
    {
     "data": {
      "text/html": [
       "<table>\n",
       "    <tr>\n",
       "        <th>name</th>\n",
       "        <th>partition key</th>\n",
       "        <th>clustering key</th>\n",
       "        <th>compaction</th>\n",
       "    </tr>\n",
       "    <tr>\n",
       "        <td>users</td>\n",
       "        <td>lastname</td>\n",
       "        <td></td>\n",
       "        <td>SizeTieredCompactionStrategy</td>\n",
       "    </tr>\n",
       "</table>"
      ],
      "text/plain": [
       "+-------+---------------+----------------+------------------------------+\n",
       "|  name | partition key | clustering key |          compaction          |\n",
       "+-------+---------------+----------------+------------------------------+\n",
       "| users |    lastname   |                | SizeTieredCompactionStrategy |\n",
       "+-------+---------------+----------------+------------------------------+"
      ]
     },
     "execution_count": 23,
     "metadata": {},
     "output_type": "execute_result"
    }
   ],
   "source": [
    "%tables"
   ]
  },
  {
   "cell_type": "code",
   "execution_count": 24,
   "metadata": {
    "collapsed": false
   },
   "outputs": [
    {
     "data": {
      "text/plain": [
       "'No results.'"
      ]
     },
     "execution_count": 24,
     "metadata": {},
     "output_type": "execute_result"
    }
   ],
   "source": [
    "%cql DROP KEYSPACE demo"
   ]
  },
  {
   "cell_type": "code",
   "execution_count": null,
   "metadata": {
    "collapsed": true
   },
   "outputs": [],
   "source": []
  }
 ],
 "metadata": {
  "kernelspec": {
   "display_name": "Python 2",
   "language": "python",
   "name": "python2"
  },
  "language_info": {
   "codemirror_mode": {
    "name": "ipython",
    "version": 2
   },
   "file_extension": ".py",
   "mimetype": "text/x-python",
   "name": "python",
   "nbconvert_exporter": "python",
   "pygments_lexer": "ipython2",
   "version": "2.7.6"
  }
 },
 "nbformat": 4,
 "nbformat_minor": 0
}
