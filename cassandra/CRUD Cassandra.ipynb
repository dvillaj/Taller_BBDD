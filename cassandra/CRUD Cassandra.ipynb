{
 "cells": [
  {
   "cell_type": "markdown",
   "metadata": {},
   "source": [
    "# Operaciones CRUD en Cassandra"
   ]
  },
  {
   "cell_type": "code",
   "execution_count": 32,
   "metadata": {
    "collapsed": false,
    "jupyter": {
     "outputs_hidden": false
    }
   },
   "outputs": [
    {
     "name": "stdout",
     "output_type": "stream",
     "text": [
      "The cql extension is already loaded. To reload it, use:\n",
      "  %reload_ext cql\n"
     ]
    }
   ],
   "source": [
    "%load_ext cql"
   ]
  },
  {
   "cell_type": "code",
   "execution_count": 33,
   "metadata": {
    "collapsed": false,
    "jupyter": {
     "outputs_hidden": false
    }
   },
   "outputs": [
    {
     "data": {
      "text/plain": [
       "'No results.'"
      ]
     },
     "execution_count": 33,
     "metadata": {},
     "output_type": "execute_result"
    }
   ],
   "source": [
    "%cql DROP KEYSPACE demo"
   ]
  },
  {
   "cell_type": "code",
   "execution_count": 34,
   "metadata": {
    "collapsed": false,
    "jupyter": {
     "outputs_hidden": false
    }
   },
   "outputs": [
    {
     "data": {
      "text/plain": [
       "'No results.'"
      ]
     },
     "execution_count": 34,
     "metadata": {},
     "output_type": "execute_result"
    }
   ],
   "source": [
    "%%cql\n",
    "CREATE KEYSPACE demo \n",
    "WITH replication = {'class': 'SimpleStrategy', 'replication_factor' : 1};"
   ]
  },
  {
   "cell_type": "code",
   "execution_count": 35,
   "metadata": {
    "collapsed": false,
    "jupyter": {
     "outputs_hidden": false
    }
   },
   "outputs": [
    {
     "name": "stdout",
     "output_type": "stream",
     "text": [
      "Using keyspace demo\n"
     ]
    }
   ],
   "source": [
    "%keyspace demo"
   ]
  },
  {
   "cell_type": "code",
   "execution_count": 36,
   "metadata": {
    "collapsed": false,
    "jupyter": {
     "outputs_hidden": false
    }
   },
   "outputs": [
    {
     "data": {
      "text/html": [
       "<table>\n",
       "    <tr>\n",
       "        <th>release_version</th>\n",
       "    </tr>\n",
       "    <tr>\n",
       "        <td>3.11.6</td>\n",
       "    </tr>\n",
       "</table>"
      ],
      "text/plain": [
       "+-----------------+\n",
       "| release_version |\n",
       "+-----------------+\n",
       "|      3.11.6     |\n",
       "+-----------------+"
      ]
     },
     "execution_count": 36,
     "metadata": {},
     "output_type": "execute_result"
    }
   ],
   "source": [
    "%cql select release_version from system.local;"
   ]
  },
  {
   "cell_type": "code",
   "execution_count": 37,
   "metadata": {
    "collapsed": false,
    "jupyter": {
     "outputs_hidden": false
    }
   },
   "outputs": [
    {
     "data": {
      "text/plain": [
       "'No results.'"
      ]
     },
     "execution_count": 37,
     "metadata": {},
     "output_type": "execute_result"
    }
   ],
   "source": [
    "%%cql\n",
    "CREATE TABLE users (\n",
    "firstname text, \n",
    "lastname text, \n",
    "age int, \n",
    "email text, \n",
    "city text, \n",
    "PRIMARY KEY (lastname));"
   ]
  },
  {
   "cell_type": "code",
   "execution_count": 38,
   "metadata": {
    "collapsed": false,
    "jupyter": {
     "outputs_hidden": false
    }
   },
   "outputs": [
    {
     "data": {
      "text/plain": [
       "'No results.'"
      ]
     },
     "execution_count": 38,
     "metadata": {},
     "output_type": "execute_result"
    }
   ],
   "source": [
    "%cql INSERT INTO users (firstname, lastname, age, email, city) VALUES ('John', 'Smith', 46, 'johnsmith@email.com', 'Sacramento'); \n",
    "%cql INSERT INTO users (firstname, lastname, age, email, city) VALUES ('Jane', 'Doe', 36, 'janedoe@email.com', 'Beverly Hills'); \n",
    "%cql INSERT INTO users (firstname, lastname, age, email, city) VALUES ('Rob', 'Byrne', 24, 'robbyrne@email.com', 'San Diego');"
   ]
  },
  {
   "cell_type": "code",
   "execution_count": 39,
   "metadata": {
    "collapsed": false,
    "jupyter": {
     "outputs_hidden": false
    }
   },
   "outputs": [
    {
     "data": {
      "text/html": [
       "<table>\n",
       "    <tr>\n",
       "        <th>lastname</th>\n",
       "        <th>age</th>\n",
       "        <th>city</th>\n",
       "        <th>email</th>\n",
       "        <th>firstname</th>\n",
       "    </tr>\n",
       "    <tr>\n",
       "        <td>Doe</td>\n",
       "        <td>36</td>\n",
       "        <td>Beverly Hills</td>\n",
       "        <td>janedoe@email.com</td>\n",
       "        <td>Jane</td>\n",
       "    </tr>\n",
       "    <tr>\n",
       "        <td>Byrne</td>\n",
       "        <td>24</td>\n",
       "        <td>San Diego</td>\n",
       "        <td>robbyrne@email.com</td>\n",
       "        <td>Rob</td>\n",
       "    </tr>\n",
       "    <tr>\n",
       "        <td>Smith</td>\n",
       "        <td>46</td>\n",
       "        <td>Sacramento</td>\n",
       "        <td>johnsmith@email.com</td>\n",
       "        <td>John</td>\n",
       "    </tr>\n",
       "</table>"
      ],
      "text/plain": [
       "+----------+-----+---------------+---------------------+-----------+\n",
       "| lastname | age |      city     |        email        | firstname |\n",
       "+----------+-----+---------------+---------------------+-----------+\n",
       "|   Doe    |  36 | Beverly Hills |  janedoe@email.com  |    Jane   |\n",
       "|  Byrne   |  24 |   San Diego   |  robbyrne@email.com |    Rob    |\n",
       "|  Smith   |  46 |   Sacramento  | johnsmith@email.com |    John   |\n",
       "+----------+-----+---------------+---------------------+-----------+"
      ]
     },
     "execution_count": 39,
     "metadata": {},
     "output_type": "execute_result"
    }
   ],
   "source": [
    "%cql SELECT * FROM users;"
   ]
  },
  {
   "cell_type": "code",
   "execution_count": 40,
   "metadata": {
    "collapsed": false,
    "jupyter": {
     "outputs_hidden": false
    }
   },
   "outputs": [
    {
     "data": {
      "text/html": [
       "<table>\n",
       "    <tr>\n",
       "        <th>lastname</th>\n",
       "        <th>age</th>\n",
       "        <th>city</th>\n",
       "        <th>email</th>\n",
       "        <th>firstname</th>\n",
       "    </tr>\n",
       "    <tr>\n",
       "        <td>Doe</td>\n",
       "        <td>36</td>\n",
       "        <td>Beverly Hills</td>\n",
       "        <td>janedoe@email.com</td>\n",
       "        <td>Jane</td>\n",
       "    </tr>\n",
       "</table>"
      ],
      "text/plain": [
       "+----------+-----+---------------+-------------------+-----------+\n",
       "| lastname | age |      city     |       email       | firstname |\n",
       "+----------+-----+---------------+-------------------+-----------+\n",
       "|   Doe    |  36 | Beverly Hills | janedoe@email.com |    Jane   |\n",
       "+----------+-----+---------------+-------------------+-----------+"
      ]
     },
     "execution_count": 40,
     "metadata": {},
     "output_type": "execute_result"
    }
   ],
   "source": [
    "%cql SELECT * FROM users WHERE lastname= 'Doe';"
   ]
  },
  {
   "cell_type": "code",
   "execution_count": 41,
   "metadata": {
    "collapsed": false,
    "jupyter": {
     "outputs_hidden": false
    }
   },
   "outputs": [
    {
     "data": {
      "text/plain": [
       "'No results.'"
      ]
     },
     "execution_count": 41,
     "metadata": {},
     "output_type": "execute_result"
    }
   ],
   "source": [
    "%cql UPDATE users SET city= 'San Jose' WHERE lastname= 'Doe';"
   ]
  },
  {
   "cell_type": "code",
   "execution_count": 42,
   "metadata": {
    "collapsed": false,
    "jupyter": {
     "outputs_hidden": false
    }
   },
   "outputs": [
    {
     "data": {
      "text/html": [
       "<table>\n",
       "    <tr>\n",
       "        <th>lastname</th>\n",
       "        <th>age</th>\n",
       "        <th>city</th>\n",
       "        <th>email</th>\n",
       "        <th>firstname</th>\n",
       "    </tr>\n",
       "    <tr>\n",
       "        <td>Doe</td>\n",
       "        <td>36</td>\n",
       "        <td>San Jose</td>\n",
       "        <td>janedoe@email.com</td>\n",
       "        <td>Jane</td>\n",
       "    </tr>\n",
       "</table>"
      ],
      "text/plain": [
       "+----------+-----+----------+-------------------+-----------+\n",
       "| lastname | age |   city   |       email       | firstname |\n",
       "+----------+-----+----------+-------------------+-----------+\n",
       "|   Doe    |  36 | San Jose | janedoe@email.com |    Jane   |\n",
       "+----------+-----+----------+-------------------+-----------+"
      ]
     },
     "execution_count": 42,
     "metadata": {},
     "output_type": "execute_result"
    }
   ],
   "source": [
    "%cql SELECT * FROM users where lastname= 'Doe';"
   ]
  },
  {
   "cell_type": "code",
   "execution_count": 43,
   "metadata": {
    "collapsed": false,
    "jupyter": {
     "outputs_hidden": false
    }
   },
   "outputs": [
    {
     "data": {
      "text/plain": [
       "'No results.'"
      ]
     },
     "execution_count": 43,
     "metadata": {},
     "output_type": "execute_result"
    }
   ],
   "source": [
    "%cql DELETE from users WHERE lastname = 'Doe';"
   ]
  },
  {
   "cell_type": "code",
   "execution_count": 44,
   "metadata": {
    "collapsed": false,
    "jupyter": {
     "outputs_hidden": false
    }
   },
   "outputs": [
    {
     "data": {
      "text/html": [
       "<table>\n",
       "    <tr>\n",
       "        <th>lastname</th>\n",
       "        <th>age</th>\n",
       "        <th>city</th>\n",
       "        <th>email</th>\n",
       "        <th>firstname</th>\n",
       "    </tr>\n",
       "    <tr>\n",
       "        <td>Byrne</td>\n",
       "        <td>24</td>\n",
       "        <td>San Diego</td>\n",
       "        <td>robbyrne@email.com</td>\n",
       "        <td>Rob</td>\n",
       "    </tr>\n",
       "    <tr>\n",
       "        <td>Smith</td>\n",
       "        <td>46</td>\n",
       "        <td>Sacramento</td>\n",
       "        <td>johnsmith@email.com</td>\n",
       "        <td>John</td>\n",
       "    </tr>\n",
       "</table>"
      ],
      "text/plain": [
       "+----------+-----+------------+---------------------+-----------+\n",
       "| lastname | age |    city    |        email        | firstname |\n",
       "+----------+-----+------------+---------------------+-----------+\n",
       "|  Byrne   |  24 | San Diego  |  robbyrne@email.com |    Rob    |\n",
       "|  Smith   |  46 | Sacramento | johnsmith@email.com |    John   |\n",
       "+----------+-----+------------+---------------------+-----------+"
      ]
     },
     "execution_count": 44,
     "metadata": {},
     "output_type": "execute_result"
    }
   ],
   "source": [
    "%cql SELECT * FROM users;"
   ]
  }
 ],
 "metadata": {
  "kernelspec": {
   "display_name": "Python 3",
   "language": "python",
   "name": "python3"
  },
  "language_info": {
   "codemirror_mode": {
    "name": "ipython",
    "version": 3
   },
   "file_extension": ".py",
   "mimetype": "text/x-python",
   "name": "python",
   "nbconvert_exporter": "python",
   "pygments_lexer": "ipython3",
   "version": "3.6.9"
  }
 },
 "nbformat": 4,
 "nbformat_minor": 4
}
