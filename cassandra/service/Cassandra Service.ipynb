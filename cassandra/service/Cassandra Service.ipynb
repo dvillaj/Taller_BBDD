{
 "cells": [
  {
   "cell_type": "markdown",
   "metadata": {},
   "source": [
    "# Setup"
   ]
  },
  {
   "cell_type": "code",
   "execution_count": 2,
   "metadata": {},
   "outputs": [],
   "source": [
    "%alias cassandra docker-compose -f /opt/compose/compose-cassandra/docker-compose.yml"
   ]
  },
  {
   "cell_type": "code",
   "execution_count": 7,
   "metadata": {},
   "outputs": [
    {
     "name": "stdout",
     "output_type": "stream",
     "text": [
      "CONTAINER ID   IMAGE     COMMAND   CREATED   STATUS    PORTS     NAMES\n"
     ]
    }
   ],
   "source": [
    "!docker ps"
   ]
  },
  {
   "cell_type": "markdown",
   "metadata": {},
   "source": [
    "# Start Service"
   ]
  },
  {
   "cell_type": "code",
   "execution_count": 11,
   "metadata": {},
   "outputs": [
    {
     "name": "stdout",
     "output_type": "stream",
     "text": [
      "Starting compose-cassandra_cassandra_1 ... \n",
      "\u001b[1Bting compose-cassandra_cassandra_1 ... \u001b[32mdone\u001b[0m"
     ]
    }
   ],
   "source": [
    "cassandra up -d"
   ]
  },
  {
   "cell_type": "code",
   "execution_count": 12,
   "metadata": {},
   "outputs": [],
   "source": [
    "!sleep 10"
   ]
  },
  {
   "cell_type": "code",
   "execution_count": 13,
   "metadata": {},
   "outputs": [
    {
     "name": "stdout",
     "output_type": "stream",
     "text": [
      "\u001b[36mcassandra_1  |\u001b[0m INFO  [Thread-2] 2020-12-25 07:37:22,512 ThriftServer.java:133 - Listening for thrift clients...\n"
     ]
    }
   ],
   "source": [
    "cassandra logs | grep \"Listening for thrift clients\""
   ]
  },
  {
   "cell_type": "markdown",
   "metadata": {},
   "source": [
    "# Containers"
   ]
  },
  {
   "cell_type": "code",
   "execution_count": 14,
   "metadata": {},
   "outputs": [
    {
     "name": "stdout",
     "output_type": "stream",
     "text": [
      "         Name                   Command           State           Ports         \n",
      "--------------------------------------------------------------------------------\n",
      "compose-                 docker-entrypoint.sh     Up      7000/tcp, 7001/tcp,   \n",
      "cassandra_cassandra_1    cassa ...                        7199/tcp, 0.0.0.0:9042\n",
      "                                                          ->9042/tcp, 9160/tcp  \n"
     ]
    }
   ],
   "source": [
    "cassandra ps"
   ]
  },
  {
   "cell_type": "markdown",
   "metadata": {},
   "source": [
    "# Logs"
   ]
  },
  {
   "cell_type": "code",
   "execution_count": 15,
   "metadata": {},
   "outputs": [
    {
     "name": "stdout",
     "output_type": "stream",
     "text": [
      "\u001b[36mcassandra_1  |\u001b[0m INFO  [main] 2020-12-25 07:37:13,983 SecondaryIndexManager.java:512 - Executing pre-join tasks for: CFS(Keyspace='demo', ColumnFamily='alltimehigh')\n",
      "\u001b[36mcassandra_1  |\u001b[0m INFO  [main] 2020-12-25 07:37:14,027 StorageService.java:2408 - Node /172.26.0.2 state jump to NORMAL\n",
      "\u001b[36mcassandra_1  |\u001b[0m INFO  [main] 2020-12-25 07:37:14,031 Gossiper.java:1796 - Waiting for gossip to settle...\n",
      "\u001b[36mcassandra_1  |\u001b[0m INFO  [main] 2020-12-25 07:37:22,041 Gossiper.java:1827 - No gossip backlog; proceeding\n",
      "\u001b[36mcassandra_1  |\u001b[0m INFO  [main] 2020-12-25 07:37:22,299 NativeTransportService.java:68 - Netty using native Epoll event loop\n",
      "\u001b[36mcassandra_1  |\u001b[0m INFO  [main] 2020-12-25 07:37:22,376 Server.java:158 - Using Netty Version: [netty-buffer=netty-buffer-4.0.44.Final.452812a, netty-codec=netty-codec-4.0.44.Final.452812a, netty-codec-haproxy=netty-codec-haproxy-4.0.44.Final.452812a, netty-codec-http=netty-codec-http-4.0.44.Final.452812a, netty-codec-socks=netty-codec-socks-4.0.44.Final.452812a, netty-common=netty-common-4.0.44.Final.452812a, netty-handler=netty-handler-4.0.44.Final.452812a, netty-tcnative=netty-tcnative-1.1.33.Fork26.142ecbb, netty-transport=netty-transport-4.0.44.Final.452812a, netty-transport-native-epoll=netty-transport-native-epoll-4.0.44.Final.452812a, netty-transport-rxtx=netty-transport-rxtx-4.0.44.Final.452812a, netty-transport-sctp=netty-transport-sctp-4.0.44.Final.452812a, netty-transport-udt=netty-transport-udt-4.0.44.Final.452812a]\n",
      "\u001b[36mcassandra_1  |\u001b[0m INFO  [main] 2020-12-25 07:37:22,377 Server.java:159 - Starting listening for CQL clients on /0.0.0.0:9042 (unencrypted)...\n",
      "\u001b[36mcassandra_1  |\u001b[0m INFO  [main] 2020-12-25 07:37:22,493 ThriftServer.java:116 - Binding thrift service to /0.0.0.0:9160\n",
      "\u001b[36mcassandra_1  |\u001b[0m INFO  [main] 2020-12-25 07:37:22,511 CassandraDaemon.java:650 - Startup complete\n",
      "\u001b[36mcassandra_1  |\u001b[0m INFO  [Thread-2] 2020-12-25 07:37:22,512 ThriftServer.java:133 - Listening for thrift clients...\n"
     ]
    }
   ],
   "source": [
    "cassandra logs | tail"
   ]
  },
  {
   "cell_type": "markdown",
   "metadata": {},
   "source": [
    "# Stop Service"
   ]
  },
  {
   "cell_type": "code",
   "execution_count": 6,
   "metadata": {},
   "outputs": [
    {
     "name": "stdout",
     "output_type": "stream",
     "text": [
      "Stopping compose-cassandra_cassandra_1 ... \n",
      "\u001b[1BRemoving compose-cassandra_cassandra_1 ... mdone\u001b[0m\n",
      "\u001b[1BRemoving network compose-cassandra_default2mdone\u001b[0m\n"
     ]
    }
   ],
   "source": [
    "cassandra down"
   ]
  },
  {
   "cell_type": "code",
   "execution_count": null,
   "metadata": {},
   "outputs": [],
   "source": []
  }
 ],
 "metadata": {
  "kernelspec": {
   "display_name": "Python 3",
   "language": "python",
   "name": "python3"
  },
  "language_info": {
   "codemirror_mode": {
    "name": "ipython",
    "version": 3
   },
   "file_extension": ".py",
   "mimetype": "text/x-python",
   "name": "python",
   "nbconvert_exporter": "python",
   "pygments_lexer": "ipython3",
   "version": "3.6.13"
  }
 },
 "nbformat": 4,
 "nbformat_minor": 4
}
