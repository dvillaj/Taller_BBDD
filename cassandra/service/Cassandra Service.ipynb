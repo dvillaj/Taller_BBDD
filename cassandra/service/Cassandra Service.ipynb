{
 "cells": [
  {
   "cell_type": "markdown",
   "metadata": {},
   "source": [
    "# Setup"
   ]
  },
  {
   "cell_type": "code",
   "execution_count": 1,
   "metadata": {},
   "outputs": [],
   "source": [
    "%alias cassandra /usr/local/bin/docker-compose -f /opt/compose/compose-cassandra/docker-compose.yml"
   ]
  },
  {
   "cell_type": "markdown",
   "metadata": {},
   "source": [
    "# Star Service"
   ]
  },
  {
   "cell_type": "code",
   "execution_count": 2,
   "metadata": {},
   "outputs": [
    {
     "name": "stdout",
     "output_type": "stream",
     "text": [
      "Starting compose-cassandra_cassandra_1 ... \n",
      "\u001b[1Bting compose-cassandra_cassandra_1 ... \u001b[32mdone\u001b[0m"
     ]
    }
   ],
   "source": [
    "cassandra up -d"
   ]
  },
  {
   "cell_type": "markdown",
   "metadata": {},
   "source": [
    "# Containers"
   ]
  },
  {
   "cell_type": "code",
   "execution_count": 3,
   "metadata": {},
   "outputs": [
    {
     "name": "stdout",
     "output_type": "stream",
     "text": [
      "         Name                   Command           State           Ports         \n",
      "--------------------------------------------------------------------------------\n",
      "compose-                 docker-entrypoint.sh     Up      7000/tcp, 7001/tcp,   \n",
      "cassandra_cassandra_1    cassa ...                        7199/tcp, 0.0.0.0:9042\n",
      "                                                          ->9042/tcp, 9160/tcp  \n"
     ]
    }
   ],
   "source": [
    "cassandra ps"
   ]
  },
  {
   "cell_type": "markdown",
   "metadata": {},
   "source": [
    "# Logs"
   ]
  },
  {
   "cell_type": "code",
   "execution_count": 4,
   "metadata": {},
   "outputs": [
    {
     "name": "stdout",
     "output_type": "stream",
     "text": [
      "\u001b[36mcassandra_1  |\u001b[0m INFO  [main] 2020-12-17 05:07:01,969 SecondaryIndexManager.java:512 - Executing pre-join tasks for: CFS(Keyspace='black', ColumnFamily='vm_movimientos_by_actividad')\n",
      "\u001b[36mcassandra_1  |\u001b[0m INFO  [main] 2020-12-17 05:07:01,969 SecondaryIndexManager.java:512 - Executing pre-join tasks for: CFS(Keyspace='black', ColumnFamily='movimientos')\n",
      "\u001b[36mcassandra_1  |\u001b[0m INFO  [main] 2020-12-17 05:07:01,970 SecondaryIndexManager.java:512 - Executing pre-join tasks for: CFS(Keyspace='accidentes', ColumnFamily='acum_tipo_accidente')\n",
      "\u001b[36mcassandra_1  |\u001b[0m INFO  [main] 2020-12-17 05:07:01,970 SecondaryIndexManager.java:512 - Executing pre-join tasks for: CFS(Keyspace='accidentes', ColumnFamily='accidentes')\n",
      "\u001b[36mcassandra_1  |\u001b[0m INFO  [main] 2020-12-17 05:07:01,971 SecondaryIndexManager.java:512 - Executing pre-join tasks for: CFS(Keyspace='demo', ColumnFamily='dailyhigh')\n",
      "\u001b[36mcassandra_1  |\u001b[0m INFO  [main] 2020-12-17 05:07:01,971 SecondaryIndexManager.java:512 - Executing pre-join tasks for: CFS(Keyspace='demo', ColumnFamily='alltimehigh')\n",
      "\u001b[36mcassandra_1  |\u001b[0m INFO  [main] 2020-12-17 05:07:01,971 SecondaryIndexManager.java:512 - Executing pre-join tasks for: CFS(Keyspace='demo', ColumnFamily='monthlyhigh')\n",
      "\u001b[36mcassandra_1  |\u001b[0m INFO  [main] 2020-12-17 05:07:01,971 SecondaryIndexManager.java:512 - Executing pre-join tasks for: CFS(Keyspace='demo', ColumnFamily='scores')\n",
      "\u001b[36mcassandra_1  |\u001b[0m INFO  [main] 2020-12-17 05:07:02,054 StorageService.java:2408 - Node /172.26.0.2 state jump to NORMAL\n",
      "\u001b[36mcassandra_1  |\u001b[0m INFO  [main] 2020-12-17 05:07:02,066 Gossiper.java:1796 - Waiting for gossip to settle...\n"
     ]
    }
   ],
   "source": [
    "cassandra logs | tail"
   ]
  },
  {
   "cell_type": "markdown",
   "metadata": {},
   "source": [
    "# Stop Service"
   ]
  },
  {
   "cell_type": "code",
   "execution_count": 7,
   "metadata": {},
   "outputs": [
    {
     "name": "stdout",
     "output_type": "stream",
     "text": [
      "Stopping compose-cassandra_cassandra_1 ... \n",
      "\u001b[1BRemoving compose-cassandra_cassandra_1 ... mdone\u001b[0m\n",
      "\u001b[1BRemoving network compose-cassandra_default2mdone\u001b[0m\n"
     ]
    }
   ],
   "source": [
    "cassandra down"
   ]
  },
  {
   "cell_type": "code",
   "execution_count": null,
   "metadata": {},
   "outputs": [],
   "source": []
  }
 ],
 "metadata": {
  "kernelspec": {
   "display_name": "Python 3",
   "language": "python",
   "name": "python3"
  },
  "language_info": {
   "codemirror_mode": {
    "name": "ipython",
    "version": 3
   },
   "file_extension": ".py",
   "mimetype": "text/x-python",
   "name": "python",
   "nbconvert_exporter": "python",
   "pygments_lexer": "ipython3",
   "version": "3.6.9"
  }
 },
 "nbformat": 4,
 "nbformat_minor": 4
}
