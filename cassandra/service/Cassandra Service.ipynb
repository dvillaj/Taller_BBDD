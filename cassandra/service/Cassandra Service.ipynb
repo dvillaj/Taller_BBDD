{
 "cells": [
  {
   "cell_type": "markdown",
   "metadata": {},
   "source": [
    "# Setup"
   ]
  },
  {
   "cell_type": "code",
   "execution_count": 1,
   "metadata": {},
   "outputs": [],
   "source": [
    "%alias cassandra /usr/local/bin/docker-compose -f /opt/compose/compose-cassandra/docker-compose.yml"
   ]
  },
  {
   "cell_type": "markdown",
   "metadata": {},
   "source": [
    "# Start Service"
   ]
  },
  {
   "cell_type": "code",
   "execution_count": 13,
   "metadata": {},
   "outputs": [
    {
     "name": "stdout",
     "output_type": "stream",
     "text": [
      "Starting compose-cassandra_cassandra_1 ... \n",
      "\u001b[1BAttaching to compose-cassandra_cassandra_12mdone\u001b[0m\n",
      "\u001b[36mcompose-cassandra_cassandra_1 exited with code 137\n",
      "\u001b[0m"
     ]
    }
   ],
   "source": [
    "cassandra up"
   ]
  },
  {
   "cell_type": "markdown",
   "metadata": {},
   "source": [
    "# Containers"
   ]
  },
  {
   "cell_type": "code",
   "execution_count": 11,
   "metadata": {},
   "outputs": [
    {
     "name": "stdout",
     "output_type": "stream",
     "text": [
      "            Name                           Command               State     Ports\n",
      "--------------------------------------------------------------------------------\n",
      "compose-cassandra_cassandra_1   docker-entrypoint.sh cassa      Exit 137        \n",
      "                                ...                                             \n"
     ]
    }
   ],
   "source": [
    "cassandra ps"
   ]
  },
  {
   "cell_type": "markdown",
   "metadata": {},
   "source": [
    "# Logs"
   ]
  },
  {
   "cell_type": "code",
   "execution_count": 12,
   "metadata": {},
   "outputs": [
    {
     "name": "stdout",
     "output_type": "stream",
     "text": [
      "Attaching to compose-cassandra_cassandra_1\n"
     ]
    }
   ],
   "source": [
    "cassandra logs | tail"
   ]
  },
  {
   "cell_type": "markdown",
   "metadata": {},
   "source": [
    "# Stop Service"
   ]
  },
  {
   "cell_type": "code",
   "execution_count": 14,
   "metadata": {},
   "outputs": [
    {
     "name": "stdout",
     "output_type": "stream",
     "text": [
      "Removing compose-cassandra_cassandra_1 ... \n",
      "\u001b[1BRemoving network compose-cassandra_default2mdone\u001b[0m\n"
     ]
    }
   ],
   "source": [
    "cassandra down"
   ]
  },
  {
   "cell_type": "code",
   "execution_count": null,
   "metadata": {},
   "outputs": [],
   "source": []
  }
 ],
 "metadata": {
  "kernelspec": {
   "display_name": "Python 3",
   "language": "python",
   "name": "python3"
  },
  "language_info": {
   "codemirror_mode": {
    "name": "ipython",
    "version": 3
   },
   "file_extension": ".py",
   "mimetype": "text/x-python",
   "name": "python",
   "nbconvert_exporter": "python",
   "pygments_lexer": "ipython3",
   "version": "3.6.12"
  }
 },
 "nbformat": 4,
 "nbformat_minor": 4
}
