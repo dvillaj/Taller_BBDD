{
 "cells": [
  {
   "cell_type": "markdown",
   "metadata": {},
   "source": [
    "# Apache Cassandra"
   ]
  },
  {
   "cell_type": "markdown",
   "metadata": {},
   "source": [
    "## Insertando datos de Twitter"
   ]
  },
  {
   "cell_type": "markdown",
   "metadata": {},
   "source": [
    "## Creacción del KeySpace"
   ]
  },
  {
   "cell_type": "code",
   "execution_count": 45,
   "metadata": {
    "collapsed": false
   },
   "outputs": [
    {
     "name": "stdout",
     "output_type": "stream",
     "text": [
      "The cql extension is already loaded. To reload it, use:\n",
      "  %reload_ext cql\n"
     ]
    }
   ],
   "source": [
    "%load_ext cql"
   ]
  },
  {
   "cell_type": "code",
   "execution_count": 46,
   "metadata": {
    "collapsed": false
   },
   "outputs": [
    {
     "data": {
      "text/plain": [
       "'No results.'"
      ]
     },
     "execution_count": 46,
     "metadata": {},
     "output_type": "execute_result"
    }
   ],
   "source": [
    "%%cql\n",
    "DROP KEYSPACE twitter;"
   ]
  },
  {
   "cell_type": "code",
   "execution_count": 47,
   "metadata": {
    "collapsed": false
   },
   "outputs": [
    {
     "data": {
      "text/plain": [
       "'No results.'"
      ]
     },
     "execution_count": 47,
     "metadata": {},
     "output_type": "execute_result"
    }
   ],
   "source": [
    "%%cql\n",
    "CREATE KEYSPACE twitter \n",
    "WITH replication = {'class':'SimpleStrategy', 'replication_factor': 1};"
   ]
  },
  {
   "cell_type": "markdown",
   "metadata": {},
   "source": [
    "## Uso del KeySpace\n",
    "\n",
    "Se utiliza USE para cambiar el keyspace por defecto\n"
   ]
  },
  {
   "cell_type": "code",
   "execution_count": 48,
   "metadata": {
    "collapsed": false
   },
   "outputs": [
    {
     "data": {
      "text/plain": [
       "'No results.'"
      ]
     },
     "execution_count": 48,
     "metadata": {},
     "output_type": "execute_result"
    }
   ],
   "source": [
    "%cql USE twitter;"
   ]
  },
  {
   "cell_type": "markdown",
   "metadata": {
    "collapsed": true
   },
   "source": [
    "## Creacción de tablas\n",
    "\n",
    "* Los Keyspaces contienen tablas\n",
    "* Las tablas contienen datos"
   ]
  },
  {
   "cell_type": "code",
   "execution_count": 49,
   "metadata": {
    "collapsed": false
   },
   "outputs": [
    {
     "data": {
      "text/plain": [
       "'No results.'"
      ]
     },
     "execution_count": 49,
     "metadata": {},
     "output_type": "execute_result"
    }
   ],
   "source": [
    "%%cql\n",
    "CREATE TABLE users (\n",
    "    screen_name text,\n",
    "    created_at timestamp,\n",
    "    id_str text,\n",
    "    name text,\n",
    "    description text,\n",
    "    profile_image_url text,\n",
    "    time_zone text,\n",
    "    geo_enabled boolean,\n",
    "    favourites_count int,\n",
    "    followers_count int,\n",
    "    friends_count int,\n",
    "    statuses_count int,\n",
    "    PRIMARY KEY (screen_name)\n",
    ");"
   ]
  },
  {
   "cell_type": "code",
   "execution_count": 50,
   "metadata": {
    "collapsed": false
   },
   "outputs": [
    {
     "data": {
      "text/plain": [
       "'No results.'"
      ]
     },
     "execution_count": 50,
     "metadata": {},
     "output_type": "execute_result"
    }
   ],
   "source": [
    "%%cql\n",
    "CREATE TYPE geo (\n",
    "  type text,\n",
    "  coordinates list<float>\n",
    ")"
   ]
  },
  {
   "cell_type": "code",
   "execution_count": 51,
   "metadata": {
    "collapsed": false
   },
   "outputs": [
    {
     "data": {
      "text/plain": [
       "'No results.'"
      ]
     },
     "execution_count": 51,
     "metadata": {},
     "output_type": "execute_result"
    }
   ],
   "source": [
    "%%cql\n",
    "CREATE TABLE tweets (\n",
    "    id text,\n",
    "    created_at timestamp,\n",
    "    entities list<text>,\n",
    "    favorite_count int,\n",
    "    retweet_count int,\n",
    "    source text,\n",
    "    lang text,\n",
    "    text text,\n",
    "    geo  frozen<geo>,\n",
    "    user_mentions list<text>,\n",
    "    user text,\n",
    "    retweet_id text,\n",
    "    PRIMARY KEY (id)\n",
    ");"
   ]
  },
  {
   "cell_type": "code",
   "execution_count": 52,
   "metadata": {
    "collapsed": false
   },
   "outputs": [
    {
     "data": {
      "text/plain": [
       "'No results.'"
      ]
     },
     "execution_count": 52,
     "metadata": {},
     "output_type": "execute_result"
    }
   ],
   "source": [
    "%%cql\n",
    "CREATE INDEX tweets_hashtag ON tweets(entities)"
   ]
  },
  {
   "cell_type": "code",
   "execution_count": 53,
   "metadata": {
    "collapsed": false
   },
   "outputs": [
    {
     "data": {
      "text/plain": [
       "'No results.'"
      ]
     },
     "execution_count": 53,
     "metadata": {},
     "output_type": "execute_result"
    }
   ],
   "source": [
    "%%cql\n",
    "CREATE INDEX tweets_user ON tweets(user)"
   ]
  },
  {
   "cell_type": "code",
   "execution_count": 54,
   "metadata": {
    "collapsed": false
   },
   "outputs": [
    {
     "data": {
      "text/plain": [
       "'No results.'"
      ]
     },
     "execution_count": 54,
     "metadata": {},
     "output_type": "execute_result"
    }
   ],
   "source": [
    "%%cql\n",
    "CREATE TABLE tweets_by_user (\n",
    "    user text,\n",
    "    created_at timestamp,\n",
    "    lang text,\n",
    "    text text,\n",
    "    id text,\n",
    "    retweet_id text,\n",
    "    PRIMARY KEY ((user), created_at)\n",
    ")\n",
    "WITH CLUSTERING ORDER BY (created_at DESC);"
   ]
  },
  {
   "cell_type": "code",
   "execution_count": 55,
   "metadata": {
    "collapsed": false
   },
   "outputs": [
    {
     "data": {
      "text/plain": [
       "'No results.'"
      ]
     },
     "execution_count": 55,
     "metadata": {},
     "output_type": "execute_result"
    }
   ],
   "source": [
    "%%cql\n",
    "CREATE TABLE tweets_by_hashtag (\n",
    "    hashtag text,\n",
    "    created_at timestamp,\n",
    "    lang text,\n",
    "    text text,\n",
    "    user text,\n",
    "    id text,\n",
    "    retweet_id text,\n",
    "    PRIMARY KEY ((hashtag), created_at)\n",
    ")\n",
    "WITH CLUSTERING ORDER BY (created_at DESC);"
   ]
  },
  {
   "cell_type": "code",
   "execution_count": 56,
   "metadata": {
    "collapsed": false
   },
   "outputs": [
    {
     "data": {
      "text/plain": [
       "'No results.'"
      ]
     },
     "execution_count": 56,
     "metadata": {},
     "output_type": "execute_result"
    }
   ],
   "source": [
    "%%cql\n",
    "CREATE TABLE hashtags (\n",
    "    hashtag text,\n",
    "    count counter,\n",
    "    PRIMARY KEY (hashtag)\n",
    ");"
   ]
  },
  {
   "cell_type": "markdown",
   "metadata": {},
   "source": [
    "![png](./images/Cassandra%20Model.png)"
   ]
  },
  {
   "cell_type": "markdown",
   "metadata": {},
   "source": [
    "## Inserción de la información"
   ]
  },
  {
   "cell_type": "code",
   "execution_count": 57,
   "metadata": {
    "collapsed": true
   },
   "outputs": [],
   "source": [
    "from cassandra.cluster import Cluster, BatchStatement, ConsistencyLevel\n",
    "cluster = Cluster()\n",
    "session = cluster.connect('twitter')"
   ]
  },
  {
   "cell_type": "code",
   "execution_count": 58,
   "metadata": {
    "collapsed": false
   },
   "outputs": [],
   "source": [
    "from datetime import datetime\n",
    "import dateutil.parser"
   ]
  },
  {
   "cell_type": "code",
   "execution_count": 59,
   "metadata": {
    "collapsed": true
   },
   "outputs": [],
   "source": [
    "from collections import namedtuple\n",
    "\n",
    "Geo = namedtuple('geo', ('type', 'coordinates'))\n",
    "cluster.register_user_type(\"twitter\", \"geo\", Geo)"
   ]
  },
  {
   "cell_type": "code",
   "execution_count": 60,
   "metadata": {
    "collapsed": false
   },
   "outputs": [],
   "source": [
    "def insert_tweet(tweet_json):\n",
    "    geo = None\n",
    "    retweet_id = None\n",
    "    \n",
    "    created_at = dateutil.parser.parse(tweet_json[\"created_at\"])\n",
    "    user = tweet_json[\"user\"][\"screen_name\"]\n",
    "    \n",
    "    if \"retweet_status\" in tweet_json: retweet_id = tweet_json[\"retweet_status\"][\"id_str\"]\n",
    "    if \"geo\" in tweet_json: Geo(tweet_json[\"geo\"][\"type\"], tweet_json[\"geo\"][\"coordinates\"])\n",
    "          \n",
    "    session.execute(\n",
    "\"\"\"\n",
    "INSERT INTO tweets (\n",
    "id,\n",
    "created_at,\n",
    "entities,\n",
    "favorite_count,\n",
    "retweet_count,\n",
    "source,\n",
    "lang,\n",
    "text,\n",
    "geo,\n",
    "user_mentions,\n",
    "user,\n",
    "retweet_id\n",
    ") VALUES (\n",
    "%s,\n",
    "%s,\n",
    "%s,\n",
    "%s,\n",
    "%s,\n",
    "%s,\n",
    "%s,\n",
    "%s,\n",
    "%s,\n",
    "%s,\n",
    "%s,\n",
    "%s\n",
    ")\n",
    "\"\"\"\n",
    "    , [\n",
    "        tweet_json[\"id_str\"],\n",
    "        created_at,\n",
    "        tweet_json[\"entities\"],\n",
    "        tweet_json[\"favorite_count\"],\n",
    "        tweet_json[\"retweet_count\"],\n",
    "        tweet_json[\"source\"],\n",
    "        tweet_json[\"lang\"],\n",
    "        tweet_json[\"text\"],\n",
    "        geo,\n",
    "        tweet_json[\"user_mentions\"],\n",
    "        user,\n",
    "        retweet_id\n",
    "    ])\n",
    "    \n",
    "    \n",
    "    #Timeline del usuario\n",
    "    session.execute(\n",
    "\"\"\"\n",
    "INSERT INTO tweets_by_user (\n",
    "    user,\n",
    "    created_at,\n",
    "    lang,\n",
    "    text,\n",
    "    id,\n",
    "    retweet_id\n",
    ") VALUES (\n",
    "%s,\n",
    "%s,\n",
    "%s,\n",
    "%s,\n",
    "%s,\n",
    "%s\n",
    ")\n",
    "\"\"\"\n",
    "    , [\n",
    "        user,\n",
    "        created_at,\n",
    "        tweet_json[\"lang\"],\n",
    "        tweet_json[\"text\"],\n",
    "        tweet_json[\"id_str\"],\n",
    "        retweet_id\n",
    "    ])\n",
    "    \n",
    "   \n",
    "\n",
    "    #Tweets por tag\n",
    "    for hashtag in tweet_json[\"entities\"]:\n",
    "        \n",
    "        session.execute(\n",
    "\"\"\"\n",
    "INSERT INTO tweets_by_hashtag (\n",
    "    hashtag,\n",
    "    created_at,\n",
    "    lang,\n",
    "    text,\n",
    "    user,\n",
    "    id,\n",
    "    retweet_id\n",
    ") VALUES (\n",
    "%s,\n",
    "%s,\n",
    "%s,\n",
    "%s,\n",
    "%s,\n",
    "%s,\n",
    "%s\n",
    ")\n",
    "\"\"\"\n",
    "        , [\n",
    "            hashtag,\n",
    "            created_at,\n",
    "            tweet_json[\"lang\"],\n",
    "            tweet_json[\"text\"],\n",
    "            user,\n",
    "            tweet_json[\"id_str\"],\n",
    "            retweet_id\n",
    "        ])"
   ]
  },
  {
   "cell_type": "code",
   "execution_count": 61,
   "metadata": {
    "collapsed": true
   },
   "outputs": [],
   "source": [
    "def insert_hashtag(hashtag):\n",
    "    session.execute(\"UPDATE hashtags SET count = count + 1 WHERE hashtag = %s\", [hashtag])"
   ]
  },
  {
   "cell_type": "code",
   "execution_count": 62,
   "metadata": {
    "collapsed": true
   },
   "outputs": [],
   "source": [
    "def insert_user(user_json):\n",
    "    session.execute(\"INSERT INTO users (screen_name, name, id_str) VALUES (%s, %s, %s)\", [\n",
    "            user_json[\"screen_name\"],\n",
    "            user_json[\"name\"],\n",
    "            user_json[\"id_str\"]\n",
    "            ])"
   ]
  },
  {
   "cell_type": "code",
   "execution_count": 63,
   "metadata": {
    "collapsed": true
   },
   "outputs": [],
   "source": [
    "def insert_user_mencion(user_json):\n",
    "    session.execute(\"UPDATE users SET name = %s, id_str=%s WHERE screen_name = %s\", [\n",
    "            user_json[\"name\"],\n",
    "            user_json[\"id_str\"],\n",
    "            user_json[\"screen_name\"]\n",
    "            ])"
   ]
  },
  {
   "cell_type": "code",
   "execution_count": 64,
   "metadata": {
    "collapsed": true
   },
   "outputs": [],
   "source": [
    "def insert_user(user_json):\n",
    "    \n",
    "    time_zone = None;\n",
    "    created_at = dateutil.parser.parse(user_json[\"created_at\"])\n",
    "    if \"time_zone\" in tweet_json: time_zone = tweet_json[\"time_zone\"]\n",
    "    \n",
    "         \n",
    "    session.execute(\n",
    "\"\"\"\n",
    "INSERT INTO users (\n",
    "screen_name,\n",
    "created_at,\n",
    "id_str,\n",
    "name,\n",
    "description,\n",
    "profile_image_url,\n",
    "time_zone,\n",
    "geo_enabled,\n",
    "favourites_count,\n",
    "followers_count,\n",
    "friends_count,\n",
    "statuses_count\n",
    ") VALUES (\n",
    "%s,\n",
    "%s,\n",
    "%s,\n",
    "%s,\n",
    "%s,\n",
    "%s,\n",
    "%s,\n",
    "%s,\n",
    "%s,\n",
    "%s,\n",
    "%s,\n",
    "%s\n",
    ")\n",
    "\"\"\", [       \n",
    "        user_json[\"screen_name\"],\n",
    "        created_at,\n",
    "        user_json[\"id_str\"],\n",
    "        user_json[\"name\"],\n",
    "        user_json[\"description\"],\n",
    "        user_json[\"profile_image_url\"],\n",
    "        time_zone,\n",
    "        user_json[\"geo_enabled\"],\n",
    "        user_json[\"favourites_count\"],\n",
    "        user_json[\"followers_count\"],\n",
    "        user_json[\"friends_count\"],\n",
    "        user_json[\"statuses_count\"]\n",
    "    ])\n",
    "            "
   ]
  },
  {
   "cell_type": "code",
   "execution_count": 65,
   "metadata": {
    "collapsed": false
   },
   "outputs": [],
   "source": [
    "def parse_tweet(tweet_json):\n",
    "   \n",
    "    # Simplificamos la estructura user_mentions a un array de nombres de usuario\n",
    "    user_mencioned_list = []\n",
    "    for user_mencioned in tweet_json['user_mentions']:\n",
    "        user_mencioned_list.append(user_mencioned[\"screen_name\"])\n",
    "        insert_user_mencion(user_mencioned)\n",
    "        \n",
    "    tweet_json['user_mentions'] = user_mencioned_list\n",
    "                 \n",
    "    for entity in tweet_json['entities']:\n",
    "        insert_hashtag(entity)\n",
    "    \n",
    "    insert_tweet(tweet_json)\n",
    "    \n",
    "    user_json = tweet_json['user']\n",
    "    insert_user(user_json)\n",
    "    \n",
    "    #En el caso de que el Tweet tenga un Tweet padre (retweet) lo almenamos como documento independiente \n",
    "    if 'retweeted_status' in tweet_json:\n",
    "        parse_tweet(tweet_json['retweeted_status'])\n"
   ]
  },
  {
   "cell_type": "code",
   "execution_count": 66,
   "metadata": {
    "collapsed": false
   },
   "outputs": [],
   "source": [
    "import json\n",
    "from pprintpp import pprint as pp\n",
    "import sys\n",
    "\n",
    "tweets_data_path = '../data/tweets.json'\n",
    "\n",
    "tweets_file = open(tweets_data_path, \"r\")\n",
    "for line in tweets_file:\n",
    "    tweet_json = json.loads(line)\n",
    "    parse_tweet(tweet_json)\n"
   ]
  },
  {
   "cell_type": "markdown",
   "metadata": {},
   "source": [
    "## Querys"
   ]
  },
  {
   "cell_type": "code",
   "execution_count": 67,
   "metadata": {
    "collapsed": false
   },
   "outputs": [
    {
     "name": "stdout",
     "output_type": "stream",
     "text": [
      "Users 1387\n",
      "Tweets 2800\n",
      "Tweets por Usuario 2768\n",
      "Tweets por Hashtag 9075\n",
      "Hashtags 629\n"
     ]
    },
    {
     "name": "stderr",
     "output_type": "stream",
     "text": [
      "WARNING:cassandra.protocol:Server warning: Aggregation query used without partition key\n",
      "WARNING:cassandra.protocol:Server warning: Aggregation query used without partition key\n",
      "WARNING:cassandra.protocol:Server warning: Aggregation query used without partition key\n",
      "WARNING:cassandra.protocol:Server warning: Aggregation query used without partition key\n",
      "WARNING:cassandra.protocol:Server warning: Aggregation query used without partition key\n"
     ]
    }
   ],
   "source": [
    "print \"Users\", session.execute(\"SELECT count(*) from users\")[0].count\n",
    "print \"Tweets\",session.execute(\"SELECT count(*) from tweets\")[0].count\n",
    "print \"Tweets por Usuario\",session.execute(\"SELECT count(*) from tweets_by_user\")[0].count\n",
    "print \"Tweets por Hashtag\",session.execute(\"SELECT count(*) from tweets_by_hashtag\")[0].count\n",
    "print \"Hashtags\",session.execute(\"SELECT count(*) from hashtags\")[0].count"
   ]
  },
  {
   "cell_type": "markdown",
   "metadata": {},
   "source": [
    "## Consulta de usuarios"
   ]
  },
  {
   "cell_type": "code",
   "execution_count": 68,
   "metadata": {
    "collapsed": false
   },
   "outputs": [
    {
     "data": {
      "text/html": [
       "<table>\n",
       "    <tr>\n",
       "        <th>screen_name</th>\n",
       "        <th>created_at</th>\n",
       "        <th>description</th>\n",
       "        <th>favourites_count</th>\n",
       "        <th>followers_count</th>\n",
       "        <th>friends_count</th>\n",
       "        <th>geo_enabled</th>\n",
       "        <th>id_str</th>\n",
       "        <th>name</th>\n",
       "        <th>profile_image_url</th>\n",
       "        <th>statuses_count</th>\n",
       "        <th>time_zone</th>\n",
       "    </tr>\n",
       "    <tr>\n",
       "        <td>Grandite</td>\n",
       "        <td>2008-11-28 19:24:48</td>\n",
       "        <td>Professional Business Process, Data and UML Modeling Tools</td>\n",
       "        <td>0</td>\n",
       "        <td>369</td>\n",
       "        <td>127</td>\n",
       "        <td>False</td>\n",
       "        <td>17717256</td>\n",
       "        <td>Grandite</td>\n",
       "        <td>http://pbs.twimg.com/profile_images/1373004005/G_2400dpi_at_red-tr_normal.png</td>\n",
       "        <td>8468</td>\n",
       "        <td>None</td>\n",
       "    </tr>\n",
       "    <tr>\n",
       "        <td>pinaldave</td>\n",
       "        <td>2007-05-14 02:07:41</td>\n",
       "        <td>SQL, SQL Server, MySQL, Big Data and http://t.co/AdcHKNHeDc, Independent Consultant</td>\n",
       "        <td>0</td>\n",
       "        <td>14280</td>\n",
       "        <td>555</td>\n",
       "        <td>False</td>\n",
       "        <td>6020572</td>\n",
       "        <td>Pinal Dave</td>\n",
       "        <td>http://pbs.twimg.com/profile_images/2741455121/a3b2ea7afacceea3098a3bd2fe11a082_normal.png</td>\n",
       "        <td>44873</td>\n",
       "        <td>None</td>\n",
       "    </tr>\n",
       "</table>"
      ],
      "text/plain": [
       "+-------------+---------------------+-------------------------------------------------------------------------------------+------------------+-----------------+---------------+-------------+----------+------------+--------------------------------------------------------------------------------------------+----------------+-----------+\n",
       "| screen_name |      created_at     |                                     description                                     | favourites_count | followers_count | friends_count | geo_enabled |  id_str  |    name    |                                     profile_image_url                                      | statuses_count | time_zone |\n",
       "+-------------+---------------------+-------------------------------------------------------------------------------------+------------------+-----------------+---------------+-------------+----------+------------+--------------------------------------------------------------------------------------------+----------------+-----------+\n",
       "|   Grandite  | 2008-11-28 19:24:48 |              Professional Business Process, Data and UML Modeling Tools             |        0         |       369       |      127      |    False    | 17717256 |  Grandite  |       http://pbs.twimg.com/profile_images/1373004005/G_2400dpi_at_red-tr_normal.png        |      8468      |    None   |\n",
       "|  pinaldave  | 2007-05-14 02:07:41 | SQL, SQL Server, MySQL, Big Data and http://t.co/AdcHKNHeDc, Independent Consultant |        0         |      14280      |      555      |    False    | 6020572  | Pinal Dave | http://pbs.twimg.com/profile_images/2741455121/a3b2ea7afacceea3098a3bd2fe11a082_normal.png |     44873      |    None   |\n",
       "+-------------+---------------------+-------------------------------------------------------------------------------------+------------------+-----------------+---------------+-------------+----------+------------+--------------------------------------------------------------------------------------------+----------------+-----------+"
      ]
     },
     "execution_count": 68,
     "metadata": {},
     "output_type": "execute_result"
    }
   ],
   "source": [
    "%%cql\n",
    "SELECT * from users\n",
    "WHERE screen_name IN  ( 'Grandite', 'pinaldave')"
   ]
  },
  {
   "cell_type": "markdown",
   "metadata": {},
   "source": [
    "## Tweets de un determinado usuario"
   ]
  },
  {
   "cell_type": "code",
   "execution_count": 69,
   "metadata": {
    "collapsed": false
   },
   "outputs": [
    {
     "data": {
      "text/html": [
       "<table>\n",
       "    <tr>\n",
       "        <th>id</th>\n",
       "        <th>created_at</th>\n",
       "        <th>entities</th>\n",
       "        <th>favorite_count</th>\n",
       "        <th>geo</th>\n",
       "        <th>lang</th>\n",
       "        <th>retweet_count</th>\n",
       "        <th>retweet_id</th>\n",
       "        <th>source</th>\n",
       "        <th>text</th>\n",
       "        <th>user</th>\n",
       "        <th>user_mentions</th>\n",
       "    </tr>\n",
       "    <tr>\n",
       "        <td>658043028339302400</td>\n",
       "        <td>2015-10-24 22:10:58</td>\n",
       "        <td>None</td>\n",
       "        <td>0</td>\n",
       "        <td>None</td>\n",
       "        <td>en</td>\n",
       "        <td>0</td>\n",
       "        <td>None</td>\n",
       "        <td>&lt;a href=\"https://about.twitter.com/products/tweetdeck\" rel=\"nofollow\"&gt;TweetDeck&lt;/a&gt;</td>\n",
       "        <td>.@Grandite's Not Only NoSQL https://t.co/lyVRzT59LD featuring @AxelTroike @Rick345 @DataStax @not_only_NoSQL</td>\n",
       "        <td>Grandite</td>\n",
       "        <td>[u'Grandite', u'AxelTroike', u'Rick345', u'DataStax', u'not_only_NoSQL']</td>\n",
       "    </tr>\n",
       "    <tr>\n",
       "        <td>657584598008770560</td>\n",
       "        <td>2015-10-23 15:49:20</td>\n",
       "        <td>None</td>\n",
       "        <td>0</td>\n",
       "        <td>None</td>\n",
       "        <td>en</td>\n",
       "        <td>0</td>\n",
       "        <td>None</td>\n",
       "        <td>&lt;a href=\"https://about.twitter.com/products/tweetdeck\" rel=\"nofollow\"&gt;TweetDeck&lt;/a&gt;</td>\n",
       "        <td>.@Grandite's Not Only NoSQL https://t.co/2YuydUtS6F featuring @not_only_NoSQL @Rick345 @craigmullins</td>\n",
       "        <td>Grandite</td>\n",
       "        <td>[u'Grandite', u'not_only_NoSQL', u'Rick345', u'craigmullins']</td>\n",
       "    </tr>\n",
       "</table>"
      ],
      "text/plain": [
       "+--------------------+---------------------+----------+----------------+------+------+---------------+------------+-------------------------------------------------------------------------------------+--------------------------------------------------------------------------------------------------------------+----------+--------------------------------------------------------------------------+\n",
       "|         id         |      created_at     | entities | favorite_count | geo  | lang | retweet_count | retweet_id |                                        source                                       |                                                     text                                                     |   user   |                              user_mentions                               |\n",
       "+--------------------+---------------------+----------+----------------+------+------+---------------+------------+-------------------------------------------------------------------------------------+--------------------------------------------------------------------------------------------------------------+----------+--------------------------------------------------------------------------+\n",
       "| 658043028339302400 | 2015-10-24 22:10:58 |   None   |       0        | None |  en  |       0       |    None    | <a href=\"https://about.twitter.com/products/tweetdeck\" rel=\"nofollow\">TweetDeck</a> | .@Grandite's Not Only NoSQL https://t.co/lyVRzT59LD featuring @AxelTroike @Rick345 @DataStax @not_only_NoSQL | Grandite | [u'Grandite', u'AxelTroike', u'Rick345', u'DataStax', u'not_only_NoSQL'] |\n",
       "| 657584598008770560 | 2015-10-23 15:49:20 |   None   |       0        | None |  en  |       0       |    None    | <a href=\"https://about.twitter.com/products/tweetdeck\" rel=\"nofollow\">TweetDeck</a> |     .@Grandite's Not Only NoSQL https://t.co/2YuydUtS6F featuring @not_only_NoSQL @Rick345 @craigmullins     | Grandite |      [u'Grandite', u'not_only_NoSQL', u'Rick345', u'craigmullins']       |\n",
       "+--------------------+---------------------+----------+----------------+------+------+---------------+------------+-------------------------------------------------------------------------------------+--------------------------------------------------------------------------------------------------------------+----------+--------------------------------------------------------------------------+"
      ]
     },
     "execution_count": 69,
     "metadata": {},
     "output_type": "execute_result"
    }
   ],
   "source": [
    "%%cql\n",
    "SELECT * from tweets\n",
    "WHERE user = 'Grandite'\n",
    "LIMIT 2"
   ]
  },
  {
   "cell_type": "markdown",
   "metadata": {},
   "source": [
    "## Hashtags mas populares"
   ]
  },
  {
   "cell_type": "code",
   "execution_count": 70,
   "metadata": {
    "collapsed": false
   },
   "outputs": [
    {
     "name": "stdout",
     "output_type": "stream",
     "text": [
      "NoSQL - 1830\n",
      "BigData - 843\n",
      "Java - 794\n",
      "MongoDB - 776\n",
      "SoapUi - 756\n",
      "Hadoop - 703\n",
      "nosql - 606\n",
      "hive - 473\n",
      "bigdata - 268\n",
      "MongoDb - 171\n"
     ]
    }
   ],
   "source": [
    "result_cursor = session.execute(\"select * from hashtags\")\n",
    "\n",
    "def getCount(item):\n",
    "    return item.count\n",
    "\n",
    "for row in sorted(result_cursor, key=getCount, reverse=True)[0:10]:\n",
    "    print row.hashtag, \"-\", row.count"
   ]
  },
  {
   "cell_type": "markdown",
   "metadata": {
    "collapsed": true
   },
   "source": [
    "## Timeline del usuario"
   ]
  },
  {
   "cell_type": "code",
   "execution_count": 71,
   "metadata": {
    "collapsed": false
   },
   "outputs": [
    {
     "data": {
      "text/html": [
       "<table>\n",
       "    <tr>\n",
       "        <th>user</th>\n",
       "        <th>created_at</th>\n",
       "        <th>id</th>\n",
       "        <th>lang</th>\n",
       "        <th>retweet_id</th>\n",
       "        <th>text</th>\n",
       "    </tr>\n",
       "    <tr>\n",
       "        <td>Grandite</td>\n",
       "        <td>2015-10-24 22:10:58</td>\n",
       "        <td>658043028339302400</td>\n",
       "        <td>en</td>\n",
       "        <td>None</td>\n",
       "        <td>.@Grandite's Not Only NoSQL https://t.co/lyVRzT59LD featuring @AxelTroike @Rick345 @DataStax @not_only_NoSQL</td>\n",
       "    </tr>\n",
       "    <tr>\n",
       "        <td>Grandite</td>\n",
       "        <td>2015-10-23 15:49:20</td>\n",
       "        <td>657584598008770560</td>\n",
       "        <td>en</td>\n",
       "        <td>None</td>\n",
       "        <td>.@Grandite's Not Only NoSQL https://t.co/2YuydUtS6F featuring @not_only_NoSQL @Rick345 @craigmullins</td>\n",
       "    </tr>\n",
       "</table>"
      ],
      "text/plain": [
       "+----------+---------------------+--------------------+------+------------+--------------------------------------------------------------------------------------------------------------+\n",
       "|   user   |      created_at     |         id         | lang | retweet_id |                                                     text                                                     |\n",
       "+----------+---------------------+--------------------+------+------------+--------------------------------------------------------------------------------------------------------------+\n",
       "| Grandite | 2015-10-24 22:10:58 | 658043028339302400 |  en  |    None    | .@Grandite's Not Only NoSQL https://t.co/lyVRzT59LD featuring @AxelTroike @Rick345 @DataStax @not_only_NoSQL |\n",
       "| Grandite | 2015-10-23 15:49:20 | 657584598008770560 |  en  |    None    |     .@Grandite's Not Only NoSQL https://t.co/2YuydUtS6F featuring @not_only_NoSQL @Rick345 @craigmullins     |\n",
       "+----------+---------------------+--------------------+------+------------+--------------------------------------------------------------------------------------------------------------+"
      ]
     },
     "execution_count": 71,
     "metadata": {},
     "output_type": "execute_result"
    }
   ],
   "source": [
    "%%cql\n",
    "SELECT * from tweets_by_user\n",
    "WHERE user = 'Grandite'\n",
    "LIMIT 2"
   ]
  },
  {
   "cell_type": "markdown",
   "metadata": {},
   "source": [
    "## Querys que contienen un determinado tag"
   ]
  },
  {
   "cell_type": "code",
   "execution_count": 72,
   "metadata": {
    "collapsed": false
   },
   "outputs": [
    {
     "data": {
      "text/html": [
       "<table>\n",
       "    <tr>\n",
       "        <th>id</th>\n",
       "        <th>created_at</th>\n",
       "        <th>entities</th>\n",
       "        <th>favorite_count</th>\n",
       "        <th>geo</th>\n",
       "        <th>lang</th>\n",
       "        <th>retweet_count</th>\n",
       "        <th>retweet_id</th>\n",
       "        <th>source</th>\n",
       "        <th>text</th>\n",
       "        <th>user</th>\n",
       "        <th>user_mentions</th>\n",
       "    </tr>\n",
       "    <tr>\n",
       "        <td>656958312899092484</td>\n",
       "        <td>2015-10-21 22:20:42</td>\n",
       "        <td>[u'BigData', u'Java', u'SoapUi', u'Hadoop', u'NoSQL', u'hive', u'MongoDB']</td>\n",
       "        <td>0</td>\n",
       "        <td>None</td>\n",
       "        <td>en</td>\n",
       "        <td>2</td>\n",
       "        <td>None</td>\n",
       "        <td>&lt;a href=\"https://gamedevbrain.wordpress.com/\" rel=\"nofollow\"&gt;BigDataTweetBot&lt;/a&gt;</td>\n",
       "        <td>RT @geneolot: Hottest in a sense of Technology and women #BigData #Java #SoapUi #Hadoop #NoSQL #hive #MongoDB https://t.co/CD55jAQOx0</td>\n",
       "        <td>BigDataTweetBot</td>\n",
       "        <td>[u'geneolot']</td>\n",
       "    </tr>\n",
       "    <tr>\n",
       "        <td>657012074699210752</td>\n",
       "        <td>2015-10-22 01:54:19</td>\n",
       "        <td>[u'BigData', u'Java', u'SoapUi', u'Hadoop', u'NoSQL', u'hive', u'MongoDB']</td>\n",
       "        <td>0</td>\n",
       "        <td>None</td>\n",
       "        <td>sl</td>\n",
       "        <td>1</td>\n",
       "        <td>None</td>\n",
       "        <td>&lt;a href=\"http://ifttt.com\" rel=\"nofollow\"&gt;IFTTT&lt;/a&gt;</td>\n",
       "        <td>geneolot: #BigData #Java #SoapUi #Hadoop #NoSQL #hive #MongoDB https://t.co/SlxhhHnaEz</td>\n",
       "        <td>ClearGrip</td>\n",
       "        <td>None</td>\n",
       "    </tr>\n",
       "</table>"
      ],
      "text/plain": [
       "+--------------------+---------------------+----------------------------------------------------------------------------+----------------+------+------+---------------+------------+----------------------------------------------------------------------------------+---------------------------------------------------------------------------------------------------------------------------------------+-----------------+---------------+\n",
       "|         id         |      created_at     |                                  entities                                  | favorite_count | geo  | lang | retweet_count | retweet_id |                                      source                                      |                                                                  text                                                                 |       user      | user_mentions |\n",
       "+--------------------+---------------------+----------------------------------------------------------------------------+----------------+------+------+---------------+------------+----------------------------------------------------------------------------------+---------------------------------------------------------------------------------------------------------------------------------------+-----------------+---------------+\n",
       "| 656958312899092484 | 2015-10-21 22:20:42 | [u'BigData', u'Java', u'SoapUi', u'Hadoop', u'NoSQL', u'hive', u'MongoDB'] |       0        | None |  en  |       2       |    None    | <a href=\"https://gamedevbrain.wordpress.com/\" rel=\"nofollow\">BigDataTweetBot</a> | RT @geneolot: Hottest in a sense of Technology and women #BigData #Java #SoapUi #Hadoop #NoSQL #hive #MongoDB https://t.co/CD55jAQOx0 | BigDataTweetBot | [u'geneolot'] |\n",
       "| 657012074699210752 | 2015-10-22 01:54:19 | [u'BigData', u'Java', u'SoapUi', u'Hadoop', u'NoSQL', u'hive', u'MongoDB'] |       0        | None |  sl  |       1       |    None    |               <a href=\"http://ifttt.com\" rel=\"nofollow\">IFTTT</a>                |                         geneolot: #BigData #Java #SoapUi #Hadoop #NoSQL #hive #MongoDB https://t.co/SlxhhHnaEz                        |    ClearGrip    |      None     |\n",
       "+--------------------+---------------------+----------------------------------------------------------------------------+----------------+------+------+---------------+------------+----------------------------------------------------------------------------------+---------------------------------------------------------------------------------------------------------------------------------------+-----------------+---------------+"
      ]
     },
     "execution_count": 72,
     "metadata": {},
     "output_type": "execute_result"
    }
   ],
   "source": [
    "%%cql\n",
    "SELECT * from tweets\n",
    "WHERE entities CONTAINS 'NoSQL'\n",
    "LIMIT 2"
   ]
  },
  {
   "cell_type": "markdown",
   "metadata": {},
   "source": [
    "## Tweets por hashtag ordernados por fecha de creacción"
   ]
  },
  {
   "cell_type": "code",
   "execution_count": 73,
   "metadata": {
    "collapsed": false
   },
   "outputs": [
    {
     "data": {
      "text/html": [
       "<table>\n",
       "    <tr>\n",
       "        <th>hashtag</th>\n",
       "        <th>created_at</th>\n",
       "        <th>id</th>\n",
       "        <th>lang</th>\n",
       "        <th>retweet_id</th>\n",
       "        <th>text</th>\n",
       "        <th>user</th>\n",
       "    </tr>\n",
       "    <tr>\n",
       "        <td>NoSQL</td>\n",
       "        <td>2014-12-22 09:47:02</td>\n",
       "        <td>546965124247207936</td>\n",
       "        <td>en</td>\n",
       "        <td>None</td>\n",
       "        <td>Quickly get started with #Java and #Cloudant #NoSQL DB service on #IBMBluemix. By @hansb001 http://t.co/CHtsvlOa0b via @wordpressdotcom</td>\n",
       "        <td>HansB001</td>\n",
       "    </tr>\n",
       "</table>"
      ],
      "text/plain": [
       "+---------+---------------------+--------------------+------+------------+-----------------------------------------------------------------------------------------------------------------------------------------+----------+\n",
       "| hashtag |      created_at     |         id         | lang | retweet_id |                                                                   text                                                                  |   user   |\n",
       "+---------+---------------------+--------------------+------+------------+-----------------------------------------------------------------------------------------------------------------------------------------+----------+\n",
       "|  NoSQL  | 2014-12-22 09:47:02 | 546965124247207936 |  en  |    None    | Quickly get started with #Java and #Cloudant #NoSQL DB service on #IBMBluemix. By @hansb001 http://t.co/CHtsvlOa0b via @wordpressdotcom | HansB001 |\n",
       "+---------+---------------------+--------------------+------+------------+-----------------------------------------------------------------------------------------------------------------------------------------+----------+"
      ]
     },
     "execution_count": 73,
     "metadata": {},
     "output_type": "execute_result"
    }
   ],
   "source": [
    "%%cql\n",
    "SELECT * from tweets_by_hashtag\n",
    "WHERE hashtag = 'NoSQL'\n",
    "    and created_at <= '2014-12-23'\n",
    "LIMIT 4"
   ]
  },
  {
   "cell_type": "code",
   "execution_count": null,
   "metadata": {
    "collapsed": true
   },
   "outputs": [],
   "source": []
  }
 ],
 "metadata": {
  "kernelspec": {
   "display_name": "Python 2",
   "language": "python",
   "name": "python2"
  },
  "language_info": {
   "codemirror_mode": {
    "name": "ipython",
    "version": 2
   },
   "file_extension": ".py",
   "mimetype": "text/x-python",
   "name": "python",
   "nbconvert_exporter": "python",
   "pygments_lexer": "ipython2",
   "version": "2.7.6"
  }
 },
 "nbformat": 4,
 "nbformat_minor": 0
}
