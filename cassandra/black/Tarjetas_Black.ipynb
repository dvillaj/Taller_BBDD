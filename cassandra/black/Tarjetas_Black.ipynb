{
 "cells": [
  {
   "cell_type": "markdown",
   "metadata": {},
   "source": [
    "# Cassandra"
   ]
  },
  {
   "cell_type": "markdown",
   "metadata": {},
   "source": [
    "## Conexión con Cassandra y borrado de datos"
   ]
  },
  {
   "cell_type": "code",
   "execution_count": 1,
   "metadata": {
    "collapsed": false,
    "jupyter": {
     "outputs_hidden": false
    }
   },
   "outputs": [],
   "source": [
    "%load_ext cql"
   ]
  },
  {
   "cell_type": "code",
   "execution_count": 2,
   "metadata": {
    "collapsed": false,
    "jupyter": {
     "outputs_hidden": false
    }
   },
   "outputs": [
    {
     "data": {
      "text/plain": [
       "'No results.'"
      ]
     },
     "execution_count": 2,
     "metadata": {},
     "output_type": "execute_result"
    }
   ],
   "source": [
    "%%cql\n",
    "DROP KEYSPACE black;"
   ]
  },
  {
   "cell_type": "code",
   "execution_count": 3,
   "metadata": {
    "collapsed": false,
    "jupyter": {
     "outputs_hidden": false
    }
   },
   "outputs": [
    {
     "data": {
      "text/plain": [
       "'No results.'"
      ]
     },
     "execution_count": 3,
     "metadata": {},
     "output_type": "execute_result"
    }
   ],
   "source": [
    "%%cql\n",
    "CREATE KEYSPACE black \n",
    "WITH replication = {'class':'SimpleStrategy', 'replication_factor': 1};"
   ]
  },
  {
   "cell_type": "code",
   "execution_count": 4,
   "metadata": {
    "collapsed": false,
    "jupyter": {
     "outputs_hidden": false
    }
   },
   "outputs": [
    {
     "data": {
      "text/plain": [
       "'No results.'"
      ]
     },
     "execution_count": 4,
     "metadata": {},
     "output_type": "execute_result"
    }
   ],
   "source": [
    "%cql USE black;"
   ]
  },
  {
   "cell_type": "markdown",
   "metadata": {},
   "source": [
    "## Creacción de las tablas"
   ]
  },
  {
   "cell_type": "markdown",
   "metadata": {},
   "source": [
    "En **Cassandra** vamos a crear 2 tablas principales, una donde almacenamos los movimientos en formato desnormalizado, y otra que nos servirá para almacenar los importes acumulados por cliente."
   ]
  },
  {
   "cell_type": "markdown",
   "metadata": {},
   "source": [
    "También tenemos una tabla auxiliar, creada gracias a la funcionalidad que nos da la base de datos de VISTAS MATERIALIZADAS, que vamos a utilizar para facilitar otros patrones distintos de acceso a la información."
   ]
  },
  {
   "cell_type": "markdown",
   "metadata": {},
   "source": [
    "En la tabla que almacena los movimientos vamos a tener como **PARTITION_KEY** el campo nombre, ya que nos interesa tener en el mismo nodo todos los datos de una persona. Como **CUSTERING_KEY** vamos a tener el importe, debido a que en nuestro caso de uso queremos los datos ordenador por importe"
   ]
  },
  {
   "cell_type": "markdown",
   "metadata": {},
   "source": [
    "<br><br> \n",
    "\n",
    "<img src=\"images/Modelo%20Cassandra.png\" width=\"800\" height=\"500\">\n",
    "\n",
    "<br><br> "
   ]
  },
  {
   "cell_type": "code",
   "execution_count": 5,
   "metadata": {
    "collapsed": false,
    "jupyter": {
     "outputs_hidden": false
    }
   },
   "outputs": [
    {
     "data": {
      "text/plain": [
       "'No results.'"
      ]
     },
     "execution_count": 5,
     "metadata": {},
     "output_type": "execute_result"
    }
   ],
   "source": [
    "%%cql \n",
    "CREATE TABLE acum_movimientos_nombre (\n",
    "    nombre          text,\n",
    "    importe         counter,\n",
    "    PRIMARY KEY (nombre)\n",
    ")"
   ]
  },
  {
   "cell_type": "code",
   "execution_count": 6,
   "metadata": {
    "collapsed": false,
    "jupyter": {
     "outputs_hidden": false
    }
   },
   "outputs": [
    {
     "data": {
      "text/plain": [
       "'No results.'"
      ]
     },
     "execution_count": 6,
     "metadata": {},
     "output_type": "execute_result"
    }
   ],
   "source": [
    "%%cql \n",
    "CREATE TABLE movimientos (\n",
    "    fecha           date,\n",
    "    hora            int,\n",
    "    minuto          int,\n",
    "    importe         decimal,\n",
    "    comercio        text,\n",
    "    actividad_completa text,\n",
    "    actividad       text,\n",
    "    nombre          text,\n",
    "    funcion         text,\n",
    "    organizacion    text,\n",
    "    PRIMARY KEY ((nombre), importe, fecha, hora, minuto)\n",
    ")\n",
    "WITH CLUSTERING ORDER BY (importe DESC);"
   ]
  },
  {
   "cell_type": "markdown",
   "metadata": {},
   "source": [
    "En la vista materializada no es necesario insertar datos ya que se ocupa la propia base de datos"
   ]
  },
  {
   "cell_type": "code",
   "execution_count": 7,
   "metadata": {
    "collapsed": false,
    "jupyter": {
     "outputs_hidden": false
    }
   },
   "outputs": [
    {
     "data": {
      "text/plain": [
       "'No results.'"
      ]
     },
     "execution_count": 7,
     "metadata": {},
     "output_type": "execute_result"
    }
   ],
   "source": [
    "%%cql\n",
    "CREATE MATERIALIZED VIEW vm_movimientos_by_actividad AS\n",
    "   SELECT * FROM movimientos\n",
    "   WHERE actividad IS NOT NULL \n",
    "         and importe IS NOT NULL \n",
    "         and fecha IS NOT NULL\n",
    "         and hora IS NOT NULL \n",
    "         and minuto IS NOT NULL \n",
    "         and nombre IS NOT NULL\n",
    "   PRIMARY KEY (actividad, importe, fecha,hora,minuto,nombre)\n",
    "   WITH CLUSTERING ORDER BY (importe desc)"
   ]
  },
  {
   "cell_type": "markdown",
   "metadata": {},
   "source": [
    "## Carga de datos en pandas"
   ]
  },
  {
   "cell_type": "markdown",
   "metadata": {},
   "source": [
    "Cargamos los datos en formato Excel y los desnormalizamos ..."
   ]
  },
  {
   "cell_type": "code",
   "execution_count": 8,
   "metadata": {
    "collapsed": false,
    "jupyter": {
     "outputs_hidden": false
    }
   },
   "outputs": [
    {
     "name": "stdout",
     "output_type": "stream",
     "text": [
      "<class 'pandas.core.frame.DataFrame'>\n",
      "Int64Index: 7624 entries, 0 to 7623\n",
      "Data columns (total 11 columns):\n",
      " #   Column              Non-Null Count  Dtype         \n",
      "---  ------              --------------  -----         \n",
      " 0   id_miembro          7624 non-null   int64         \n",
      " 1   fecha               7624 non-null   datetime64[ns]\n",
      " 2   hora                7624 non-null   int64         \n",
      " 3   minuto              7624 non-null   int64         \n",
      " 4   importe             7624 non-null   float64       \n",
      " 5   comercio            6882 non-null   object        \n",
      " 6   actividad_completa  7621 non-null   object        \n",
      " 7   actividad           7621 non-null   object        \n",
      " 8   nombre              7624 non-null   object        \n",
      " 9   funcion             7624 non-null   object        \n",
      " 10  organizacion        6060 non-null   object        \n",
      "dtypes: datetime64[ns](1), float64(1), int64(3), object(6)\n",
      "memory usage: 714.8+ KB\n"
     ]
    }
   ],
   "source": [
    "import pandas as pd\n",
    "df_mov = pd.read_excel(\"../../data/black.xlsx\", sheet_name= \"Movimientos\")\n",
    "df_miembros = pd.read_excel(\"../../data/black.xlsx\", sheet_name= \"Miembros\")\n",
    "df = pd.merge(df_mov, df_miembros, on = ['id_miembro'], how = 'inner')\n",
    "df.info()"
   ]
  },
  {
   "cell_type": "markdown",
   "metadata": {},
   "source": [
    "### Carga de datos en Cassandra"
   ]
  },
  {
   "cell_type": "code",
   "execution_count": 9,
   "metadata": {},
   "outputs": [],
   "source": [
    "from cassandra.cluster import Cluster, BatchStatement, ConsistencyLevel\n",
    "cluster = Cluster()\n",
    "session = cluster.connect('black')"
   ]
  },
  {
   "cell_type": "markdown",
   "metadata": {},
   "source": [
    "A destacar varios aspectos:\n",
    "- El tipo de las fechas. Hay que dejarlo con el tipo **Date** de Python para no tener problemas (El tipo de la columna es también Date)\n",
    "- Los nulos en Pandas son del tipo NumPy.nan, por lo hay convertirlos a None para que la inserción en Cassandra sea correcta\n",
    "- En la tabla de importes acumulados guardamos el importe en un dato de tipo **counter**, que tiene un tipo entero, por lo que multiplicamos el dato por 100 para poder almacenarlo correctamete"
   ]
  },
  {
   "cell_type": "code",
   "execution_count": 10,
   "metadata": {},
   "outputs": [],
   "source": [
    "df.loc[df.comercio.isnull(),['comercio']] = None\n",
    "df.loc[df.organizacion.isnull(),['organizacion']] = None\n",
    "df.loc[df.actividad.isnull(),['actividad']] = None\n",
    "df.loc[df.actividad_completa.isnull(),['actividad_completa']] = None"
   ]
  },
  {
   "cell_type": "code",
   "execution_count": 11,
   "metadata": {},
   "outputs": [],
   "source": [
    "import dateutil\n",
    "\n",
    "def insert_movientos(df):\n",
    "    \n",
    "    sql_insert = \"\"\"\n",
    "INSERT INTO movimientos (\n",
    "importe,\n",
    "actividad,\n",
    "fecha,\n",
    "actividad_completa,\n",
    "comercio,\n",
    "funcion,\n",
    "hora,\n",
    "minuto,\n",
    "organizacion,\n",
    "nombre\n",
    ") VALUES (%s, %s, %s, %s, %s, %s, %s, %s, %s, %s)\n",
    "\"\"\"\n",
    "\n",
    "    for index in df.index:\n",
    "        fecha = df['fecha'][index]\n",
    "        \n",
    "        data = [\n",
    "            df[\"importe\"][index],\n",
    "            df[\"actividad\"][index],\n",
    "            fecha.date(),\n",
    "            df[\"actividad_completa\"][index],\n",
    "            df[\"comercio\"][index],\n",
    "            df[\"funcion\"][index],\n",
    "            df[\"hora\"][index],\n",
    "            df[\"minuto\"][index],\n",
    "            df[\"organizacion\"][index],\n",
    "            df[\"nombre\"][index],\n",
    "        ]\n",
    "        \n",
    "        session.execute(sql_insert, data)\n",
    "        \n",
    "        importe_int = int(round(df[\"importe\"][index] * 100))        \n",
    "        session.execute(\"UPDATE acum_movimientos_nombre SET importe = importe + %s WHERE nombre = %s\", \n",
    "                        [importe_int, \n",
    "                         df[\"nombre\"][index]]\n",
    "        )"
   ]
  },
  {
   "cell_type": "markdown",
   "metadata": {},
   "source": [
    "Ya podemos insertar los datos ..."
   ]
  },
  {
   "cell_type": "code",
   "execution_count": 12,
   "metadata": {
    "collapsed": false,
    "jupyter": {
     "outputs_hidden": false
    }
   },
   "outputs": [],
   "source": [
    "insert_movientos(df)"
   ]
  },
  {
   "cell_type": "markdown",
   "metadata": {},
   "source": [
    "## Consulta de datos"
   ]
  },
  {
   "cell_type": "markdown",
   "metadata": {},
   "source": [
    "Función de utilidad que realiza un query en Cassandra y devuelve un DataFrame de Pandas"
   ]
  },
  {
   "cell_type": "code",
   "execution_count": 13,
   "metadata": {},
   "outputs": [],
   "source": [
    "def execute_query(sql):\n",
    "    rows = session.execute(sql)\n",
    "    return pd.DataFrame(list(rows))"
   ]
  },
  {
   "cell_type": "markdown",
   "metadata": {},
   "source": [
    "### Los 10 movimientos mas caros"
   ]
  },
  {
   "cell_type": "markdown",
   "metadata": {},
   "source": [
    "Para resolver esta query con la base de datos tendríamos que tener un PARTITION KEY única para todos los registros"
   ]
  },
  {
   "cell_type": "code",
   "execution_count": 14,
   "metadata": {
    "collapsed": false,
    "jupyter": {
     "outputs_hidden": false
    }
   },
   "outputs": [],
   "source": [
    "sql = \"\"\"\n",
    "SELECT nombre, fecha, actividad_completa, importe\n",
    "FROM MOVIMIENTOS\n",
    "\"\"\"\n",
    "df = execute_query(sql)"
   ]
  },
  {
   "cell_type": "code",
   "execution_count": 15,
   "metadata": {
    "collapsed": false,
    "jupyter": {
     "outputs_hidden": false
    }
   },
   "outputs": [
    {
     "data": {
      "text/html": [
       "<div>\n",
       "<style scoped>\n",
       "    .dataframe tbody tr th:only-of-type {\n",
       "        vertical-align: middle;\n",
       "    }\n",
       "\n",
       "    .dataframe tbody tr th {\n",
       "        vertical-align: top;\n",
       "    }\n",
       "\n",
       "    .dataframe thead th {\n",
       "        text-align: right;\n",
       "    }\n",
       "</style>\n",
       "<table border=\"1\" class=\"dataframe\">\n",
       "  <thead>\n",
       "    <tr style=\"text-align: right;\">\n",
       "      <th></th>\n",
       "      <th>nombre</th>\n",
       "      <th>fecha</th>\n",
       "      <th>actividad_completa</th>\n",
       "      <th>importe</th>\n",
       "    </tr>\n",
       "  </thead>\n",
       "  <tbody>\n",
       "    <tr>\n",
       "      <th>716</th>\n",
       "      <td>Enrique de la Torre Martínez</td>\n",
       "      <td>2007-11-28</td>\n",
       "      <td>AGENCIAS BANCARIAS(ANTICIPO VENTANILLA)</td>\n",
       "      <td>12000.0</td>\n",
       "    </tr>\n",
       "    <tr>\n",
       "      <th>368</th>\n",
       "      <td>Ramón Ferraz Ricarte</td>\n",
       "      <td>2007-12-19</td>\n",
       "      <td>AGENCIAS BANCARIAS(ANTICIPO VENTANILLA)</td>\n",
       "      <td>9424.08</td>\n",
       "    </tr>\n",
       "    <tr>\n",
       "      <th>717</th>\n",
       "      <td>Enrique de la Torre Martínez</td>\n",
       "      <td>2008-10-23</td>\n",
       "      <td>AGENCIAS BANCARIAS(ANTICIPO VENTANILLA)</td>\n",
       "      <td>9000.0</td>\n",
       "    </tr>\n",
       "    <tr>\n",
       "      <th>718</th>\n",
       "      <td>Enrique de la Torre Martínez</td>\n",
       "      <td>2006-11-29</td>\n",
       "      <td>AGENCIAS BANCARIAS(ANTICIPO VENTANILLA)</td>\n",
       "      <td>8000.0</td>\n",
       "    </tr>\n",
       "    <tr>\n",
       "      <th>4304</th>\n",
       "      <td>Miguel Blesa de la Parra</td>\n",
       "      <td>2006-12-26</td>\n",
       "      <td>EL CORTE INGLES</td>\n",
       "      <td>6397.31</td>\n",
       "    </tr>\n",
       "    <tr>\n",
       "      <th>1020</th>\n",
       "      <td>Rafael Spottorno Díaz Caro</td>\n",
       "      <td>2007-11-30</td>\n",
       "      <td>CONFECCION TEXTIL EN GENERAL</td>\n",
       "      <td>6375.0</td>\n",
       "    </tr>\n",
       "    <tr>\n",
       "      <th>2636</th>\n",
       "      <td>Carmen Contreras Gómez</td>\n",
       "      <td>2006-08-13</td>\n",
       "      <td>HOTELES 4 Y 5 ESTRELLAS,BALNEARIOS,CAMPI</td>\n",
       "      <td>6198.02</td>\n",
       "    </tr>\n",
       "    <tr>\n",
       "      <th>5634</th>\n",
       "      <td>Matías Amat Roca</td>\n",
       "      <td>2006-08-13</td>\n",
       "      <td>BRITISH AIRWAYS - BRITISH A</td>\n",
       "      <td>5763.1</td>\n",
       "    </tr>\n",
       "    <tr>\n",
       "      <th>4881</th>\n",
       "      <td>Juan Manuel Astorqui Portera</td>\n",
       "      <td>2005-07-31</td>\n",
       "      <td>AUTOM.Y MOTOCICLETAS ( VENTAS Y REPARAC)</td>\n",
       "      <td>5403.97</td>\n",
       "    </tr>\n",
       "    <tr>\n",
       "      <th>719</th>\n",
       "      <td>Enrique de la Torre Martínez</td>\n",
       "      <td>2004-12-06</td>\n",
       "      <td>AGENCIAS BANCARIAS(ANTICIPO VENTANILLA)</td>\n",
       "      <td>5390.0</td>\n",
       "    </tr>\n",
       "  </tbody>\n",
       "</table>\n",
       "</div>"
      ],
      "text/plain": [
       "                            nombre       fecha  \\\n",
       "716   Enrique de la Torre Martínez  2007-11-28   \n",
       "368           Ramón Ferraz Ricarte  2007-12-19   \n",
       "717   Enrique de la Torre Martínez  2008-10-23   \n",
       "718   Enrique de la Torre Martínez  2006-11-29   \n",
       "4304      Miguel Blesa de la Parra  2006-12-26   \n",
       "1020    Rafael Spottorno Díaz Caro  2007-11-30   \n",
       "2636        Carmen Contreras Gómez  2006-08-13   \n",
       "5634              Matías Amat Roca  2006-08-13   \n",
       "4881  Juan Manuel Astorqui Portera  2005-07-31   \n",
       "719   Enrique de la Torre Martínez  2004-12-06   \n",
       "\n",
       "                            actividad_completa  importe  \n",
       "716    AGENCIAS BANCARIAS(ANTICIPO VENTANILLA)  12000.0  \n",
       "368    AGENCIAS BANCARIAS(ANTICIPO VENTANILLA)  9424.08  \n",
       "717    AGENCIAS BANCARIAS(ANTICIPO VENTANILLA)   9000.0  \n",
       "718    AGENCIAS BANCARIAS(ANTICIPO VENTANILLA)   8000.0  \n",
       "4304                           EL CORTE INGLES  6397.31  \n",
       "1020              CONFECCION TEXTIL EN GENERAL   6375.0  \n",
       "2636  HOTELES 4 Y 5 ESTRELLAS,BALNEARIOS,CAMPI  6198.02  \n",
       "5634               BRITISH AIRWAYS - BRITISH A   5763.1  \n",
       "4881  AUTOM.Y MOTOCICLETAS ( VENTAS Y REPARAC)  5403.97  \n",
       "719    AGENCIAS BANCARIAS(ANTICIPO VENTANILLA)   5390.0  "
      ]
     },
     "execution_count": 15,
     "metadata": {},
     "output_type": "execute_result"
    }
   ],
   "source": [
    "df.sort_values('importe', ascending = False).head(10)"
   ]
  },
  {
   "cell_type": "markdown",
   "metadata": {},
   "source": [
    "### Los movimientos de una persona concreta"
   ]
  },
  {
   "cell_type": "markdown",
   "metadata": {},
   "source": [
    "Se resuelve la query con la base de datos, ya que la PARTITION KEY es el campo **nombre**, y los registros están ordenados por importe"
   ]
  },
  {
   "cell_type": "code",
   "execution_count": 16,
   "metadata": {
    "collapsed": false,
    "jupyter": {
     "outputs_hidden": false
    }
   },
   "outputs": [
    {
     "data": {
      "text/html": [
       "<div>\n",
       "<style scoped>\n",
       "    .dataframe tbody tr th:only-of-type {\n",
       "        vertical-align: middle;\n",
       "    }\n",
       "\n",
       "    .dataframe tbody tr th {\n",
       "        vertical-align: top;\n",
       "    }\n",
       "\n",
       "    .dataframe thead th {\n",
       "        text-align: right;\n",
       "    }\n",
       "</style>\n",
       "<table border=\"1\" class=\"dataframe\">\n",
       "  <thead>\n",
       "    <tr style=\"text-align: right;\">\n",
       "      <th></th>\n",
       "      <th>nombre</th>\n",
       "      <th>fecha</th>\n",
       "      <th>actividad_completa</th>\n",
       "      <th>importe</th>\n",
       "    </tr>\n",
       "  </thead>\n",
       "  <tbody>\n",
       "    <tr>\n",
       "      <th>0</th>\n",
       "      <td>Javier de Miguel Sánchez</td>\n",
       "      <td>2003-02-11</td>\n",
       "      <td>EL CORTE INGLES</td>\n",
       "      <td>1190.0</td>\n",
       "    </tr>\n",
       "    <tr>\n",
       "      <th>1</th>\n",
       "      <td>Javier de Miguel Sánchez</td>\n",
       "      <td>2007-10-12</td>\n",
       "      <td>AUTOM.Y MOTOCICLETAS ( VENTAS Y REPARAC)</td>\n",
       "      <td>795.0</td>\n",
       "    </tr>\n",
       "    <tr>\n",
       "      <th>2</th>\n",
       "      <td>Javier de Miguel Sánchez</td>\n",
       "      <td>2009-07-18</td>\n",
       "      <td>HOTELES 4 Y 5 ESTRELLAS,BALNEARIOS,CAMPI</td>\n",
       "      <td>571.61</td>\n",
       "    </tr>\n",
       "    <tr>\n",
       "      <th>3</th>\n",
       "      <td>Javier de Miguel Sánchez</td>\n",
       "      <td>2008-05-02</td>\n",
       "      <td>CONFECCION TEXTIL EN GENERAL</td>\n",
       "      <td>474.0</td>\n",
       "    </tr>\n",
       "    <tr>\n",
       "      <th>4</th>\n",
       "      <td>Javier de Miguel Sánchez</td>\n",
       "      <td>2008-11-28</td>\n",
       "      <td>CONFECCION TEXTIL EN GENERAL</td>\n",
       "      <td>389.0</td>\n",
       "    </tr>\n",
       "    <tr>\n",
       "      <th>5</th>\n",
       "      <td>Javier de Miguel Sánchez</td>\n",
       "      <td>2009-04-15</td>\n",
       "      <td>RESTAURANTES RESTO</td>\n",
       "      <td>355.2</td>\n",
       "    </tr>\n",
       "    <tr>\n",
       "      <th>6</th>\n",
       "      <td>Javier de Miguel Sánchez</td>\n",
       "      <td>2003-04-28</td>\n",
       "      <td>RESTAURANTES RESTO</td>\n",
       "      <td>338.01</td>\n",
       "    </tr>\n",
       "    <tr>\n",
       "      <th>7</th>\n",
       "      <td>Javier de Miguel Sánchez</td>\n",
       "      <td>2005-06-19</td>\n",
       "      <td>ZAPATERIAS</td>\n",
       "      <td>328.0</td>\n",
       "    </tr>\n",
       "    <tr>\n",
       "      <th>8</th>\n",
       "      <td>Javier de Miguel Sánchez</td>\n",
       "      <td>2006-12-08</td>\n",
       "      <td>EL CORTE INGLES</td>\n",
       "      <td>304.66</td>\n",
       "    </tr>\n",
       "    <tr>\n",
       "      <th>9</th>\n",
       "      <td>Javier de Miguel Sánchez</td>\n",
       "      <td>2009-09-11</td>\n",
       "      <td>CADENA MEDIA MARKT</td>\n",
       "      <td>299.0</td>\n",
       "    </tr>\n",
       "  </tbody>\n",
       "</table>\n",
       "</div>"
      ],
      "text/plain": [
       "                     nombre       fecha  \\\n",
       "0  Javier de Miguel Sánchez  2003-02-11   \n",
       "1  Javier de Miguel Sánchez  2007-10-12   \n",
       "2  Javier de Miguel Sánchez  2009-07-18   \n",
       "3  Javier de Miguel Sánchez  2008-05-02   \n",
       "4  Javier de Miguel Sánchez  2008-11-28   \n",
       "5  Javier de Miguel Sánchez  2009-04-15   \n",
       "6  Javier de Miguel Sánchez  2003-04-28   \n",
       "7  Javier de Miguel Sánchez  2005-06-19   \n",
       "8  Javier de Miguel Sánchez  2006-12-08   \n",
       "9  Javier de Miguel Sánchez  2009-09-11   \n",
       "\n",
       "                         actividad_completa importe  \n",
       "0                           EL CORTE INGLES  1190.0  \n",
       "1  AUTOM.Y MOTOCICLETAS ( VENTAS Y REPARAC)   795.0  \n",
       "2  HOTELES 4 Y 5 ESTRELLAS,BALNEARIOS,CAMPI  571.61  \n",
       "3              CONFECCION TEXTIL EN GENERAL   474.0  \n",
       "4              CONFECCION TEXTIL EN GENERAL   389.0  \n",
       "5                        RESTAURANTES RESTO   355.2  \n",
       "6                        RESTAURANTES RESTO  338.01  \n",
       "7                                ZAPATERIAS   328.0  \n",
       "8                           EL CORTE INGLES  304.66  \n",
       "9                        CADENA MEDIA MARKT   299.0  "
      ]
     },
     "execution_count": 16,
     "metadata": {},
     "output_type": "execute_result"
    }
   ],
   "source": [
    "sql = \"\"\"\n",
    "select nombre, fecha, actividad_completa, importe\n",
    "from movimientos\n",
    "where nombre = 'Javier de Miguel Sánchez'\n",
    "limit 10\n",
    "\"\"\"\n",
    "execute_query(sql)"
   ]
  },
  {
   "cell_type": "markdown",
   "metadata": {},
   "source": [
    "### Las 10 personas que mas han gastado"
   ]
  },
  {
   "cell_type": "markdown",
   "metadata": {},
   "source": [
    "Esta consulta se pueder resolver mediante el acumulado que habíamos creado ad-doc. Observa que el importe es entero, por lo que hay que dividirlo por 100 para convertirlo a decimal"
   ]
  },
  {
   "cell_type": "code",
   "execution_count": 17,
   "metadata": {
    "collapsed": false,
    "jupyter": {
     "outputs_hidden": false
    }
   },
   "outputs": [],
   "source": [
    "sql = \"\"\"\n",
    "select *\n",
    "from acum_movimientos_nombre\n",
    "\"\"\"\n",
    "df = execute_query(sql)"
   ]
  },
  {
   "cell_type": "code",
   "execution_count": 18,
   "metadata": {
    "collapsed": false,
    "jupyter": {
     "outputs_hidden": false
    }
   },
   "outputs": [
    {
     "data": {
      "text/html": [
       "<div>\n",
       "<style scoped>\n",
       "    .dataframe tbody tr th:only-of-type {\n",
       "        vertical-align: middle;\n",
       "    }\n",
       "\n",
       "    .dataframe tbody tr th {\n",
       "        vertical-align: top;\n",
       "    }\n",
       "\n",
       "    .dataframe thead th {\n",
       "        text-align: right;\n",
       "    }\n",
       "</style>\n",
       "<table border=\"1\" class=\"dataframe\">\n",
       "  <thead>\n",
       "    <tr style=\"text-align: right;\">\n",
       "      <th></th>\n",
       "      <th>nombre</th>\n",
       "      <th>importe</th>\n",
       "    </tr>\n",
       "  </thead>\n",
       "  <tbody>\n",
       "    <tr>\n",
       "      <th>11</th>\n",
       "      <td>Enrique de la Torre Martínez</td>\n",
       "      <td>58826.28</td>\n",
       "    </tr>\n",
       "    <tr>\n",
       "      <th>71</th>\n",
       "      <td>José Antonio Moral Santín</td>\n",
       "      <td>52447.07</td>\n",
       "    </tr>\n",
       "    <tr>\n",
       "      <th>4</th>\n",
       "      <td>Ramón Ferraz Ricarte</td>\n",
       "      <td>45371.52</td>\n",
       "    </tr>\n",
       "    <tr>\n",
       "      <th>54</th>\n",
       "      <td>Miguel Blesa de la Parra</td>\n",
       "      <td>40298.84</td>\n",
       "    </tr>\n",
       "    <tr>\n",
       "      <th>56</th>\n",
       "      <td>Ildefonso José Sánchez Barcoj</td>\n",
       "      <td>39437.99</td>\n",
       "    </tr>\n",
       "    <tr>\n",
       "      <th>58</th>\n",
       "      <td>Juan Manuel Astorqui Portera</td>\n",
       "      <td>36627.89</td>\n",
       "    </tr>\n",
       "    <tr>\n",
       "      <th>53</th>\n",
       "      <td>Francisco Baquero Noriega</td>\n",
       "      <td>35256.67</td>\n",
       "    </tr>\n",
       "    <tr>\n",
       "      <th>66</th>\n",
       "      <td>Matías Amat Roca</td>\n",
       "      <td>33434.74</td>\n",
       "    </tr>\n",
       "    <tr>\n",
       "      <th>34</th>\n",
       "      <td>Carmen Contreras Gómez</td>\n",
       "      <td>31556.45</td>\n",
       "    </tr>\n",
       "    <tr>\n",
       "      <th>20</th>\n",
       "      <td>Estanislao Rodríguez-Ponga Salamanca</td>\n",
       "      <td>29350.65</td>\n",
       "    </tr>\n",
       "  </tbody>\n",
       "</table>\n",
       "</div>"
      ],
      "text/plain": [
       "                                  nombre   importe\n",
       "11          Enrique de la Torre Martínez  58826.28\n",
       "71             José Antonio Moral Santín  52447.07\n",
       "4                   Ramón Ferraz Ricarte  45371.52\n",
       "54              Miguel Blesa de la Parra  40298.84\n",
       "56         Ildefonso José Sánchez Barcoj  39437.99\n",
       "58          Juan Manuel Astorqui Portera  36627.89\n",
       "53             Francisco Baquero Noriega  35256.67\n",
       "66                      Matías Amat Roca  33434.74\n",
       "34                Carmen Contreras Gómez  31556.45\n",
       "20  Estanislao Rodríguez-Ponga Salamanca  29350.65"
      ]
     },
     "execution_count": 18,
     "metadata": {},
     "output_type": "execute_result"
    }
   ],
   "source": [
    "df.assign(importe = df.importe / 100).sort_values('importe', ascending = False).head(10)"
   ]
  },
  {
   "cell_type": "markdown",
   "metadata": {},
   "source": [
    "### Los 10 movimientos mas caros por actividad"
   ]
  },
  {
   "cell_type": "markdown",
   "metadata": {},
   "source": [
    "Esta consulta se pueder resolver mediante la vista materializa que hemos creado ad-hoc para resolver esta consulta"
   ]
  },
  {
   "cell_type": "code",
   "execution_count": 19,
   "metadata": {
    "collapsed": false,
    "jupyter": {
     "outputs_hidden": false
    }
   },
   "outputs": [
    {
     "data": {
      "text/html": [
       "<div>\n",
       "<style scoped>\n",
       "    .dataframe tbody tr th:only-of-type {\n",
       "        vertical-align: middle;\n",
       "    }\n",
       "\n",
       "    .dataframe tbody tr th {\n",
       "        vertical-align: top;\n",
       "    }\n",
       "\n",
       "    .dataframe thead th {\n",
       "        text-align: right;\n",
       "    }\n",
       "</style>\n",
       "<table border=\"1\" class=\"dataframe\">\n",
       "  <thead>\n",
       "    <tr style=\"text-align: right;\">\n",
       "      <th></th>\n",
       "      <th>nombre</th>\n",
       "      <th>fecha</th>\n",
       "      <th>actividad</th>\n",
       "      <th>actividad_completa</th>\n",
       "      <th>importe</th>\n",
       "    </tr>\n",
       "  </thead>\n",
       "  <tbody>\n",
       "    <tr>\n",
       "      <th>0</th>\n",
       "      <td>Miguel Ángel Araujo Serrano</td>\n",
       "      <td>2007-10-14</td>\n",
       "      <td>HOGAR</td>\n",
       "      <td>MUEBLES,ANTIGUEDADES Y GALERIAS DE ARTE</td>\n",
       "      <td>2150.0</td>\n",
       "    </tr>\n",
       "    <tr>\n",
       "      <th>1</th>\n",
       "      <td>Mariano Pérez Claver</td>\n",
       "      <td>2005-12-16</td>\n",
       "      <td>HOGAR</td>\n",
       "      <td>FLORES Y PLANTAS</td>\n",
       "      <td>1908.19</td>\n",
       "    </tr>\n",
       "    <tr>\n",
       "      <th>2</th>\n",
       "      <td>Domingo Navalmoral Sánchez</td>\n",
       "      <td>2004-01-09</td>\n",
       "      <td>HOGAR</td>\n",
       "      <td>TAPICERIAS,ALFOMBRAS</td>\n",
       "      <td>1800.0</td>\n",
       "    </tr>\n",
       "    <tr>\n",
       "      <th>3</th>\n",
       "      <td>Ramón Ferraz Ricarte</td>\n",
       "      <td>2008-07-06</td>\n",
       "      <td>HOGAR</td>\n",
       "      <td>MUEBLES,ANTIGUEDADES Y GALERIAS DE ARTE</td>\n",
       "      <td>1281.31</td>\n",
       "    </tr>\n",
       "    <tr>\n",
       "      <th>4</th>\n",
       "      <td>Miguel Ángel Araujo Serrano</td>\n",
       "      <td>2011-03-10</td>\n",
       "      <td>HOGAR</td>\n",
       "      <td>MUEBLES DE COCINA</td>\n",
       "      <td>1231.0</td>\n",
       "    </tr>\n",
       "    <tr>\n",
       "      <th>5</th>\n",
       "      <td>Francisco Baquero Noriega</td>\n",
       "      <td>2007-04-20</td>\n",
       "      <td>HOGAR</td>\n",
       "      <td>MUEBLES,ANTIGUEDADES Y GALERIAS DE ARTE</td>\n",
       "      <td>1188.9</td>\n",
       "    </tr>\n",
       "    <tr>\n",
       "      <th>6</th>\n",
       "      <td>Francisco Baquero Noriega</td>\n",
       "      <td>2006-11-03</td>\n",
       "      <td>HOGAR</td>\n",
       "      <td>MUEBLES,ANTIGUEDADES Y GALERIAS DE ARTE</td>\n",
       "      <td>1090.0</td>\n",
       "    </tr>\n",
       "    <tr>\n",
       "      <th>7</th>\n",
       "      <td>Pedro Bugidos Garay</td>\n",
       "      <td>2006-02-07</td>\n",
       "      <td>HOGAR</td>\n",
       "      <td>MUEBLES,ANTIGUEDADES Y GALERIAS DE ARTE</td>\n",
       "      <td>1000.0</td>\n",
       "    </tr>\n",
       "    <tr>\n",
       "      <th>8</th>\n",
       "      <td>Ricardo Romero de Tejada y Picatoste</td>\n",
       "      <td>2009-04-06</td>\n",
       "      <td>HOGAR</td>\n",
       "      <td>ELECTRODOMESTICOS,EQUIPOS ELECTRICOS</td>\n",
       "      <td>1000.0</td>\n",
       "    </tr>\n",
       "    <tr>\n",
       "      <th>9</th>\n",
       "      <td>Jesús Pedroche Nieto</td>\n",
       "      <td>2011-05-24</td>\n",
       "      <td>HOGAR</td>\n",
       "      <td>MUEBLES,ANTIGUEDADES Y GALERIAS DE ARTE</td>\n",
       "      <td>1000.0</td>\n",
       "    </tr>\n",
       "  </tbody>\n",
       "</table>\n",
       "</div>"
      ],
      "text/plain": [
       "                                 nombre       fecha actividad  \\\n",
       "0           Miguel Ángel Araujo Serrano  2007-10-14     HOGAR   \n",
       "1                  Mariano Pérez Claver  2005-12-16     HOGAR   \n",
       "2            Domingo Navalmoral Sánchez  2004-01-09     HOGAR   \n",
       "3                  Ramón Ferraz Ricarte  2008-07-06     HOGAR   \n",
       "4           Miguel Ángel Araujo Serrano  2011-03-10     HOGAR   \n",
       "5             Francisco Baquero Noriega  2007-04-20     HOGAR   \n",
       "6             Francisco Baquero Noriega  2006-11-03     HOGAR   \n",
       "7                   Pedro Bugidos Garay  2006-02-07     HOGAR   \n",
       "8  Ricardo Romero de Tejada y Picatoste  2009-04-06     HOGAR   \n",
       "9                  Jesús Pedroche Nieto  2011-05-24     HOGAR   \n",
       "\n",
       "                        actividad_completa  importe  \n",
       "0  MUEBLES,ANTIGUEDADES Y GALERIAS DE ARTE   2150.0  \n",
       "1                         FLORES Y PLANTAS  1908.19  \n",
       "2                     TAPICERIAS,ALFOMBRAS   1800.0  \n",
       "3  MUEBLES,ANTIGUEDADES Y GALERIAS DE ARTE  1281.31  \n",
       "4                        MUEBLES DE COCINA   1231.0  \n",
       "5  MUEBLES,ANTIGUEDADES Y GALERIAS DE ARTE   1188.9  \n",
       "6  MUEBLES,ANTIGUEDADES Y GALERIAS DE ARTE   1090.0  \n",
       "7  MUEBLES,ANTIGUEDADES Y GALERIAS DE ARTE   1000.0  \n",
       "8     ELECTRODOMESTICOS,EQUIPOS ELECTRICOS   1000.0  \n",
       "9  MUEBLES,ANTIGUEDADES Y GALERIAS DE ARTE   1000.0  "
      ]
     },
     "execution_count": 19,
     "metadata": {},
     "output_type": "execute_result"
    }
   ],
   "source": [
    "sql = \"\"\"\n",
    "select nombre, fecha, actividad, actividad_completa, importe\n",
    "from vm_movimientos_by_actividad\n",
    "where actividad = 'HOGAR'\n",
    "limit 10\n",
    "\"\"\"\n",
    "execute_query(sql)"
   ]
  }
 ],
 "metadata": {
  "kernelspec": {
   "display_name": "Python 3",
   "language": "python",
   "name": "python3"
  },
  "language_info": {
   "codemirror_mode": {
    "name": "ipython",
    "version": 3
   },
   "file_extension": ".py",
   "mimetype": "text/x-python",
   "name": "python",
   "nbconvert_exporter": "python",
   "pygments_lexer": "ipython3",
   "version": "3.6.9"
  }
 },
 "nbformat": 4,
 "nbformat_minor": 4
}
