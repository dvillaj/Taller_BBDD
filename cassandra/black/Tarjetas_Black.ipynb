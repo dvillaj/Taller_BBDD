{
 "cells": [
  {
   "cell_type": "markdown",
   "metadata": {},
   "source": [
    "# Cassandra"
   ]
  },
  {
   "cell_type": "markdown",
   "metadata": {},
   "source": [
    "## Conexión con Cassandra y borrado de datos"
   ]
  },
  {
   "cell_type": "code",
   "execution_count": 1,
   "metadata": {
    "collapsed": false
   },
   "outputs": [],
   "source": [
    "%load_ext cql"
   ]
  },
  {
   "cell_type": "code",
   "execution_count": 2,
   "metadata": {
    "collapsed": false
   },
   "outputs": [
    {
     "data": {
      "text/plain": [
       "'No results.'"
      ]
     },
     "execution_count": 2,
     "metadata": {},
     "output_type": "execute_result"
    }
   ],
   "source": [
    "%%cql\n",
    "DROP KEYSPACE black;"
   ]
  },
  {
   "cell_type": "code",
   "execution_count": 3,
   "metadata": {
    "collapsed": false
   },
   "outputs": [
    {
     "data": {
      "text/plain": [
       "'No results.'"
      ]
     },
     "execution_count": 3,
     "metadata": {},
     "output_type": "execute_result"
    }
   ],
   "source": [
    "%%cql\n",
    "CREATE KEYSPACE black \n",
    "WITH replication = {'class':'SimpleStrategy', 'replication_factor': 1};"
   ]
  },
  {
   "cell_type": "code",
   "execution_count": 4,
   "metadata": {
    "collapsed": false
   },
   "outputs": [
    {
     "data": {
      "text/plain": [
       "'No results.'"
      ]
     },
     "execution_count": 4,
     "metadata": {},
     "output_type": "execute_result"
    }
   ],
   "source": [
    "%cql USE black;"
   ]
  },
  {
   "cell_type": "markdown",
   "metadata": {},
   "source": [
    "## Creacción de las tablas"
   ]
  },
  {
   "cell_type": "markdown",
   "metadata": {},
   "source": [
    "En **Cassandra** vamos a crear 2 tablas principales, una donde almacenamos los movimientos en formato desnormalizado, y otra que nos servirá para almacenar los importes acumulados por cliente."
   ]
  },
  {
   "cell_type": "markdown",
   "metadata": {},
   "source": [
    "También tenemos una tabla auxiliar, creada gracias a la funcionalidad que nos da la base de datos de VISTAS MATERIALIZADAS, que vamos a utilizar para facilitar otros patrones distintos de acceso a la información."
   ]
  },
  {
   "cell_type": "markdown",
   "metadata": {},
   "source": [
    "En la tabla que almacena los movimientos, como no tenemos una PK clara, vamos a utilizar un tipo UUID (marca temporal única) donde guardaremos un TIMESTAMP con la hora de creación del registro"
   ]
  },
  {
   "cell_type": "markdown",
   "metadata": {},
   "source": [
    "<br><br> \n",
    "\n",
    "<img src=\"images/Modelo%20Cassandra.png\",width=800,height=500>\n",
    "\n",
    "<br><br> "
   ]
  },
  {
   "cell_type": "code",
   "execution_count": 5,
   "metadata": {
    "collapsed": false
   },
   "outputs": [
    {
     "data": {
      "text/plain": [
       "'No results.'"
      ]
     },
     "execution_count": 5,
     "metadata": {},
     "output_type": "execute_result"
    }
   ],
   "source": [
    "%%cql \n",
    "CREATE TABLE acum_movimientos_nombre (\n",
    "    nombre          text,\n",
    "    importe         counter,\n",
    "    PRIMARY KEY (nombre)\n",
    ")"
   ]
  },
  {
   "cell_type": "code",
   "execution_count": 6,
   "metadata": {
    "collapsed": false
   },
   "outputs": [
    {
     "data": {
      "text/plain": [
       "'No results.'"
      ]
     },
     "execution_count": 6,
     "metadata": {},
     "output_type": "execute_result"
    }
   ],
   "source": [
    "%%cql \n",
    "CREATE TABLE movimientos (\n",
    "    uid             uuid,\n",
    "    fecha           date,\n",
    "    hora            int,\n",
    "    minuto          int,\n",
    "    importe         decimal,\n",
    "    comercio        text,\n",
    "    actividad_completa text,\n",
    "    actividad       text,\n",
    "    nombre          text,\n",
    "    funcion         text,\n",
    "    organizacion    text,\n",
    "    PRIMARY KEY ((nombre), importe, fecha, hora, minuto)\n",
    ")\n",
    "WITH CLUSTERING ORDER BY (importe DESC);"
   ]
  },
  {
   "cell_type": "markdown",
   "metadata": {},
   "source": [
    "En la vista materializada no es necesario insertar datos ya que se ocupa la propia base de datos"
   ]
  },
  {
   "cell_type": "code",
   "execution_count": 7,
   "metadata": {
    "collapsed": false
   },
   "outputs": [
    {
     "data": {
      "text/plain": [
       "'No results.'"
      ]
     },
     "execution_count": 7,
     "metadata": {},
     "output_type": "execute_result"
    }
   ],
   "source": [
    "%%cql\n",
    "CREATE MATERIALIZED VIEW vm_movimientos_by_actividad AS\n",
    "   SELECT * FROM movimientos\n",
    "   WHERE actividad IS NOT NULL \n",
    "         and importe IS NOT NULL \n",
    "         and fecha IS NOT NULL\n",
    "         and hora IS NOT NULL \n",
    "         and minuto IS NOT NULL \n",
    "         and nombre IS NOT NULL\n",
    "   PRIMARY KEY (actividad, importe, fecha,hora,minuto,nombre)\n",
    "   WITH CLUSTERING ORDER BY (importe desc)"
   ]
  },
  {
   "cell_type": "markdown",
   "metadata": {},
   "source": [
    "## Carga de datos en pandas"
   ]
  },
  {
   "cell_type": "markdown",
   "metadata": {},
   "source": [
    "Cargamos los datos en formato Excel y los desnormalizamos ..."
   ]
  },
  {
   "cell_type": "code",
   "execution_count": 8,
   "metadata": {
    "collapsed": false
   },
   "outputs": [
    {
     "name": "stdout",
     "output_type": "stream",
     "text": [
      "<class 'pandas.core.frame.DataFrame'>\n",
      "Int64Index: 7624 entries, 0 to 7623\n",
      "Data columns (total 11 columns):\n",
      "id_miembro            7624 non-null int64\n",
      "fecha                 7624 non-null datetime64[ns]\n",
      "minuto                7624 non-null int64\n",
      "hora                  7624 non-null int64\n",
      "importe               7624 non-null float64\n",
      "comercio              6889 non-null object\n",
      "actividad_completa    7623 non-null object\n",
      "actividad             7623 non-null object\n",
      "nombre                7624 non-null object\n",
      "funcion               7624 non-null object\n",
      "organizacion          6041 non-null object\n",
      "dtypes: datetime64[ns](1), float64(1), int64(3), object(6)\n",
      "memory usage: 714.8+ KB\n"
     ]
    }
   ],
   "source": [
    "import pandas as pd\n",
    "df_mov = pd.read_excel(\"../../data/black.xlsx\", sheetname= \"Movimientos\")\n",
    "df_miembros = pd.read_excel(\"../../data/black.xlsx\", sheetname= \"Miembros\")\n",
    "df = pd.merge(df_mov, df_miembros, on = ['id_miembro'], how = 'inner')\n",
    "df.info()"
   ]
  },
  {
   "cell_type": "markdown",
   "metadata": {
    "collapsed": true
   },
   "source": [
    "### Carga de datos en Cassandra"
   ]
  },
  {
   "cell_type": "code",
   "execution_count": 9,
   "metadata": {
    "collapsed": true
   },
   "outputs": [],
   "source": [
    "from cassandra.cluster import Cluster, BatchStatement, ConsistencyLevel\n",
    "cluster = Cluster()\n",
    "session = cluster.connect('black')"
   ]
  },
  {
   "cell_type": "markdown",
   "metadata": {},
   "source": [
    "A destacar varios aspectos:\n",
    "- El tipo de las fechas. Hay que dejarlo con el tipo **Date** de Python para no tener problemas (El tipo de la columna es también Date)\n",
    "- Los nulos en Pandas son del tipo NumPy.nan, por lo hay convertirlos a None para que la inserción en Cassandra sea correcta\n",
    "- En la tabla de importes acumulados guardamos el importe en un dato de tipo **counter**, que tiene un tipo entero, por lo que multiplicamos el dato por 100 para poder almacenarlo correctamete"
   ]
  },
  {
   "cell_type": "code",
   "execution_count": 10,
   "metadata": {
    "collapsed": false
   },
   "outputs": [],
   "source": [
    "df.ix[df.comercio.isnull(), 'comercio'] = None\n",
    "df.ix[df.organizacion.isnull(), 'organizacion'] = None\n",
    "df.ix[df.actividad.isnull(), 'actividad'] = None\n",
    "df.ix[df.actividad_completa.isnull(), 'actividad_completa'] = None"
   ]
  },
  {
   "cell_type": "code",
   "execution_count": 11,
   "metadata": {
    "collapsed": true
   },
   "outputs": [],
   "source": [
    "import dateutil\n",
    "\n",
    "def insert_movientos(df):\n",
    "    \n",
    "    sql_insert = \"\"\"\n",
    "INSERT INTO movimientos (\n",
    "uid,\n",
    "importe,\n",
    "actividad,\n",
    "fecha,\n",
    "actividad_completa,\n",
    "comercio,\n",
    "funcion,\n",
    "hora,\n",
    "minuto,\n",
    "organizacion,\n",
    "nombre\n",
    ") VALUES (now(), %s, %s, %s, %s, %s, %s, %s, %s, %s, %s)\n",
    "\"\"\"\n",
    "\n",
    "    for index in df.index:\n",
    "        fecha = df.ix[index, 'fecha']\n",
    "        \n",
    "        data = [\n",
    "            df.ix[index, \"importe\"],\n",
    "            df.ix[index, \"actividad\"],\n",
    "            fecha.to_datetime().date(),\n",
    "            df.ix[index, \"actividad_completa\"],\n",
    "            df.ix[index, \"comercio\"],\n",
    "            df.ix[index, \"funcion\"],\n",
    "            df.ix[index, \"hora\"],\n",
    "            df.ix[index, \"minuto\"],\n",
    "            df.ix[index, \"organizacion\"],\n",
    "            df.ix[index, \"nombre\"]\n",
    "        ]\n",
    "        \n",
    "        session.execute(sql_insert, data)\n",
    "        \n",
    "        importe_int = int(round(df.ix[index, \"importe\"] * 100))        \n",
    "        session.execute(\"UPDATE acum_movimientos_nombre SET importe = importe + %s WHERE nombre = %s\", \n",
    "                        [importe_int, \n",
    "                         df.ix[index, \"nombre\"]]\n",
    "        )"
   ]
  },
  {
   "cell_type": "markdown",
   "metadata": {},
   "source": [
    "Ya podemos insertar los datos ..."
   ]
  },
  {
   "cell_type": "code",
   "execution_count": 12,
   "metadata": {
    "collapsed": false
   },
   "outputs": [],
   "source": [
    "insert_movientos(df)"
   ]
  },
  {
   "cell_type": "markdown",
   "metadata": {},
   "source": [
    "## Consulta de datos"
   ]
  },
  {
   "cell_type": "markdown",
   "metadata": {},
   "source": [
    "Función de utilidad que realiza un query en Cassandra y devuelve un DataFrame de Pandas"
   ]
  },
  {
   "cell_type": "code",
   "execution_count": 13,
   "metadata": {
    "collapsed": true
   },
   "outputs": [],
   "source": [
    "def execute_query(sql):\n",
    "    rows = session.execute(sql)\n",
    "    return pd.DataFrame(list(rows))"
   ]
  },
  {
   "cell_type": "markdown",
   "metadata": {},
   "source": [
    "### Los 10 movimientos mas caros"
   ]
  },
  {
   "cell_type": "markdown",
   "metadata": {},
   "source": [
    "Para resolver esta query con la base de datos tendríamos que tener un PARTITION KEY única para todos los registros"
   ]
  },
  {
   "cell_type": "code",
   "execution_count": 14,
   "metadata": {
    "collapsed": false
   },
   "outputs": [
    {
     "name": "stderr",
     "output_type": "stream",
     "text": [
      "WARNING:cassandra.protocol:Server warning: Read 5000 live rows and 1709 tombstone cells for query SELECT * FROM black.movimientos LIMIT 5000 (see tombstone_warn_threshold)\n"
     ]
    }
   ],
   "source": [
    "sql = \"\"\"\n",
    "SELECT nombre, fecha, actividad_completa, importe\n",
    "FROM MOVIMIENTOS\n",
    "\"\"\"\n",
    "df = execute_query(sql)"
   ]
  },
  {
   "cell_type": "code",
   "execution_count": 15,
   "metadata": {
    "collapsed": false
   },
   "outputs": [
    {
     "data": {
      "text/html": [
       "<div>\n",
       "<style>\n",
       "    .dataframe thead tr:only-child th {\n",
       "        text-align: right;\n",
       "    }\n",
       "\n",
       "    .dataframe thead th {\n",
       "        text-align: left;\n",
       "    }\n",
       "\n",
       "    .dataframe tbody tr th {\n",
       "        vertical-align: top;\n",
       "    }\n",
       "</style>\n",
       "<table border=\"1\" class=\"dataframe\">\n",
       "  <thead>\n",
       "    <tr style=\"text-align: right;\">\n",
       "      <th></th>\n",
       "      <th>nombre</th>\n",
       "      <th>fecha</th>\n",
       "      <th>actividad_completa</th>\n",
       "      <th>importe</th>\n",
       "    </tr>\n",
       "  </thead>\n",
       "  <tbody>\n",
       "    <tr>\n",
       "      <th>1573</th>\n",
       "      <td>Ricardo Romero de Tejada y Picatoste</td>\n",
       "      <td>2007-11-25</td>\n",
       "      <td>AGENCIAS BANCARIAS(ANTICIPO VENTANILLA)</td>\n",
       "      <td>11930.0</td>\n",
       "    </tr>\n",
       "    <tr>\n",
       "      <th>5418</th>\n",
       "      <td>Carlos Vela García</td>\n",
       "      <td>2006-11-01</td>\n",
       "      <td>VIAJES MARSANS-INTERNACIONAL EXPRESSO</td>\n",
       "      <td>9825.0</td>\n",
       "    </tr>\n",
       "    <tr>\n",
       "      <th>4731</th>\n",
       "      <td>Ildefonso José Sánchez Barcoj</td>\n",
       "      <td>2009-03-30</td>\n",
       "      <td>EL CORTE INGLES</td>\n",
       "      <td>9804.15</td>\n",
       "    </tr>\n",
       "    <tr>\n",
       "      <th>2775</th>\n",
       "      <td>Carmen Contreras Gómez</td>\n",
       "      <td>2010-08-15</td>\n",
       "      <td>HOTELES 4 Y 5 ESTRELLAS,BALNEARIOS,CAMPI</td>\n",
       "      <td>9076.76</td>\n",
       "    </tr>\n",
       "    <tr>\n",
       "      <th>778</th>\n",
       "      <td>Enrique de la Torre Martínez</td>\n",
       "      <td>2006-11-29</td>\n",
       "      <td>AGENCIAS BANCARIAS(ANTICIPO VENTANILLA)</td>\n",
       "      <td>8000.0</td>\n",
       "    </tr>\n",
       "    <tr>\n",
       "      <th>4732</th>\n",
       "      <td>Ildefonso José Sánchez Barcoj</td>\n",
       "      <td>2005-07-19</td>\n",
       "      <td>AGENCIAS BANCARIAS(ANTICIPO VENTANILLA)</td>\n",
       "      <td>7200.0</td>\n",
       "    </tr>\n",
       "    <tr>\n",
       "      <th>4454</th>\n",
       "      <td>Miguel Blesa de la Parra</td>\n",
       "      <td>2007-08-02</td>\n",
       "      <td>EL CORTE INGLES</td>\n",
       "      <td>6990.87</td>\n",
       "    </tr>\n",
       "    <tr>\n",
       "      <th>3666</th>\n",
       "      <td>María Elena Gil García</td>\n",
       "      <td>2004-03-30</td>\n",
       "      <td>JOYERIAS Y RELOJERIAS</td>\n",
       "      <td>6905.72</td>\n",
       "    </tr>\n",
       "    <tr>\n",
       "      <th>3667</th>\n",
       "      <td>María Elena Gil García</td>\n",
       "      <td>2003-08-28</td>\n",
       "      <td>JOYERIAS Y RELOJERIAS</td>\n",
       "      <td>6000.0</td>\n",
       "    </tr>\n",
       "    <tr>\n",
       "      <th>2412</th>\n",
       "      <td>Mariano Pérez Claver</td>\n",
       "      <td>2004-10-18</td>\n",
       "      <td>AGENCIAS DE VIAJES</td>\n",
       "      <td>6000.0</td>\n",
       "    </tr>\n",
       "  </tbody>\n",
       "</table>\n",
       "</div>"
      ],
      "text/plain": [
       "                                    nombre       fecha  \\\n",
       "1573  Ricardo Romero de Tejada y Picatoste  2007-11-25   \n",
       "5418                    Carlos Vela García  2006-11-01   \n",
       "4731         Ildefonso José Sánchez Barcoj  2009-03-30   \n",
       "2775                Carmen Contreras Gómez  2010-08-15   \n",
       "778           Enrique de la Torre Martínez  2006-11-29   \n",
       "4732         Ildefonso José Sánchez Barcoj  2005-07-19   \n",
       "4454              Miguel Blesa de la Parra  2007-08-02   \n",
       "3666                María Elena Gil García  2004-03-30   \n",
       "3667                María Elena Gil García  2003-08-28   \n",
       "2412                  Mariano Pérez Claver  2004-10-18   \n",
       "\n",
       "                            actividad_completa  importe  \n",
       "1573   AGENCIAS BANCARIAS(ANTICIPO VENTANILLA)  11930.0  \n",
       "5418     VIAJES MARSANS-INTERNACIONAL EXPRESSO   9825.0  \n",
       "4731                           EL CORTE INGLES  9804.15  \n",
       "2775  HOTELES 4 Y 5 ESTRELLAS,BALNEARIOS,CAMPI  9076.76  \n",
       "778    AGENCIAS BANCARIAS(ANTICIPO VENTANILLA)   8000.0  \n",
       "4732   AGENCIAS BANCARIAS(ANTICIPO VENTANILLA)   7200.0  \n",
       "4454                           EL CORTE INGLES  6990.87  \n",
       "3666                     JOYERIAS Y RELOJERIAS  6905.72  \n",
       "3667                     JOYERIAS Y RELOJERIAS   6000.0  \n",
       "2412                        AGENCIAS DE VIAJES   6000.0  "
      ]
     },
     "execution_count": 15,
     "metadata": {},
     "output_type": "execute_result"
    }
   ],
   "source": [
    "df.sort_values('importe', ascending = False).head(10)"
   ]
  },
  {
   "cell_type": "markdown",
   "metadata": {
    "collapsed": true
   },
   "source": [
    "### Los movimientos de una persona concreta"
   ]
  },
  {
   "cell_type": "markdown",
   "metadata": {},
   "source": [
    "Se resuelve la query con la base de datos, ya que la PARTITION KEY es el campo **nombre**, y los registros están ordenados por importe"
   ]
  },
  {
   "cell_type": "code",
   "execution_count": 16,
   "metadata": {
    "collapsed": false
   },
   "outputs": [
    {
     "data": {
      "text/html": [
       "<div>\n",
       "<style>\n",
       "    .dataframe thead tr:only-child th {\n",
       "        text-align: right;\n",
       "    }\n",
       "\n",
       "    .dataframe thead th {\n",
       "        text-align: left;\n",
       "    }\n",
       "\n",
       "    .dataframe tbody tr th {\n",
       "        vertical-align: top;\n",
       "    }\n",
       "</style>\n",
       "<table border=\"1\" class=\"dataframe\">\n",
       "  <thead>\n",
       "    <tr style=\"text-align: right;\">\n",
       "      <th></th>\n",
       "      <th>nombre</th>\n",
       "      <th>fecha</th>\n",
       "      <th>actividad_completa</th>\n",
       "      <th>importe</th>\n",
       "    </tr>\n",
       "  </thead>\n",
       "  <tbody>\n",
       "    <tr>\n",
       "      <th>0</th>\n",
       "      <td>Javier de Miguel Sánchez</td>\n",
       "      <td>2008-06-12</td>\n",
       "      <td>ELECTRODOMESTICOS,EQUIPOS ELECTRICOS</td>\n",
       "      <td>572.0</td>\n",
       "    </tr>\n",
       "    <tr>\n",
       "      <th>1</th>\n",
       "      <td>Javier de Miguel Sánchez</td>\n",
       "      <td>2006-05-01</td>\n",
       "      <td>HOTELES,MOTELES,BALNEARIOS,CAMPINGS REST</td>\n",
       "      <td>571.65</td>\n",
       "    </tr>\n",
       "    <tr>\n",
       "      <th>2</th>\n",
       "      <td>Javier de Miguel Sánchez</td>\n",
       "      <td>2003-09-30</td>\n",
       "      <td>AUTOM.Y MOTOCICLETAS ( VENTAS Y REPARAC)</td>\n",
       "      <td>417.88</td>\n",
       "    </tr>\n",
       "    <tr>\n",
       "      <th>3</th>\n",
       "      <td>Javier de Miguel Sánchez</td>\n",
       "      <td>2010-01-12</td>\n",
       "      <td>MATERIALES CONSTRUCCION,FONTANERIA,SANEA</td>\n",
       "      <td>383.0</td>\n",
       "    </tr>\n",
       "    <tr>\n",
       "      <th>4</th>\n",
       "      <td>Javier de Miguel Sánchez</td>\n",
       "      <td>2006-12-08</td>\n",
       "      <td>EL CORTE INGLES</td>\n",
       "      <td>304.66</td>\n",
       "    </tr>\n",
       "    <tr>\n",
       "      <th>5</th>\n",
       "      <td>Javier de Miguel Sánchez</td>\n",
       "      <td>2008-03-16</td>\n",
       "      <td>HOTELES 4 Y 5 ESTRELLAS,BALNEARIOS,CAMPI</td>\n",
       "      <td>287.07</td>\n",
       "    </tr>\n",
       "    <tr>\n",
       "      <th>6</th>\n",
       "      <td>Javier de Miguel Sánchez</td>\n",
       "      <td>2009-06-19</td>\n",
       "      <td>HIPERCOR SUPERMERCADOS EL CORTE INGLES</td>\n",
       "      <td>283.0</td>\n",
       "    </tr>\n",
       "    <tr>\n",
       "      <th>7</th>\n",
       "      <td>Javier de Miguel Sánchez</td>\n",
       "      <td>2009-12-22</td>\n",
       "      <td>MATERIALES CONSTRUCCION,FONTANERIA,SANEA</td>\n",
       "      <td>272.85</td>\n",
       "    </tr>\n",
       "    <tr>\n",
       "      <th>8</th>\n",
       "      <td>Javier de Miguel Sánchez</td>\n",
       "      <td>2003-08-13</td>\n",
       "      <td>HOTELES,MOTELES,BALNEARIOS,CAMPINGS REST</td>\n",
       "      <td>268.0</td>\n",
       "    </tr>\n",
       "    <tr>\n",
       "      <th>9</th>\n",
       "      <td>Javier de Miguel Sánchez</td>\n",
       "      <td>2009-08-16</td>\n",
       "      <td>PARADORES NACIONALES</td>\n",
       "      <td>250.38</td>\n",
       "    </tr>\n",
       "  </tbody>\n",
       "</table>\n",
       "</div>"
      ],
      "text/plain": [
       "                     nombre       fecha  \\\n",
       "0  Javier de Miguel Sánchez  2008-06-12   \n",
       "1  Javier de Miguel Sánchez  2006-05-01   \n",
       "2  Javier de Miguel Sánchez  2003-09-30   \n",
       "3  Javier de Miguel Sánchez  2010-01-12   \n",
       "4  Javier de Miguel Sánchez  2006-12-08   \n",
       "5  Javier de Miguel Sánchez  2008-03-16   \n",
       "6  Javier de Miguel Sánchez  2009-06-19   \n",
       "7  Javier de Miguel Sánchez  2009-12-22   \n",
       "8  Javier de Miguel Sánchez  2003-08-13   \n",
       "9  Javier de Miguel Sánchez  2009-08-16   \n",
       "\n",
       "                         actividad_completa importe  \n",
       "0      ELECTRODOMESTICOS,EQUIPOS ELECTRICOS   572.0  \n",
       "1  HOTELES,MOTELES,BALNEARIOS,CAMPINGS REST  571.65  \n",
       "2  AUTOM.Y MOTOCICLETAS ( VENTAS Y REPARAC)  417.88  \n",
       "3  MATERIALES CONSTRUCCION,FONTANERIA,SANEA   383.0  \n",
       "4                           EL CORTE INGLES  304.66  \n",
       "5  HOTELES 4 Y 5 ESTRELLAS,BALNEARIOS,CAMPI  287.07  \n",
       "6    HIPERCOR SUPERMERCADOS EL CORTE INGLES   283.0  \n",
       "7  MATERIALES CONSTRUCCION,FONTANERIA,SANEA  272.85  \n",
       "8  HOTELES,MOTELES,BALNEARIOS,CAMPINGS REST   268.0  \n",
       "9                      PARADORES NACIONALES  250.38  "
      ]
     },
     "execution_count": 16,
     "metadata": {},
     "output_type": "execute_result"
    }
   ],
   "source": [
    "sql = \"\"\"\n",
    "select nombre, fecha, actividad_completa, importe\n",
    "from movimientos\n",
    "where nombre = 'Javier de Miguel Sánchez'\n",
    "limit 10\n",
    "\"\"\"\n",
    "execute_query(sql)"
   ]
  },
  {
   "cell_type": "markdown",
   "metadata": {},
   "source": [
    "### Las 10 personas que mas han gastado"
   ]
  },
  {
   "cell_type": "markdown",
   "metadata": {},
   "source": [
    "Esta consulta se pueder resolver mediante el acumulado que habíamos creado ad-doc. Observa que el importe es entero, por lo que hay que dividirlo por 100 para convertirlo a decimal"
   ]
  },
  {
   "cell_type": "code",
   "execution_count": 17,
   "metadata": {
    "collapsed": false
   },
   "outputs": [],
   "source": [
    "sql = \"\"\"\n",
    "select *\n",
    "from acum_movimientos_nombre\n",
    "\"\"\"\n",
    "df = execute_query(sql)"
   ]
  },
  {
   "cell_type": "code",
   "execution_count": 18,
   "metadata": {
    "collapsed": false
   },
   "outputs": [
    {
     "data": {
      "text/html": [
       "<div>\n",
       "<style>\n",
       "    .dataframe thead tr:only-child th {\n",
       "        text-align: right;\n",
       "    }\n",
       "\n",
       "    .dataframe thead th {\n",
       "        text-align: left;\n",
       "    }\n",
       "\n",
       "    .dataframe tbody tr th {\n",
       "        vertical-align: top;\n",
       "    }\n",
       "</style>\n",
       "<table border=\"1\" class=\"dataframe\">\n",
       "  <thead>\n",
       "    <tr style=\"text-align: right;\">\n",
       "      <th></th>\n",
       "      <th>nombre</th>\n",
       "      <th>importe</th>\n",
       "    </tr>\n",
       "  </thead>\n",
       "  <tbody>\n",
       "    <tr>\n",
       "      <th>57</th>\n",
       "      <td>Ildefonso José Sánchez Barcoj</td>\n",
       "      <td>66444.15</td>\n",
       "    </tr>\n",
       "    <tr>\n",
       "      <th>72</th>\n",
       "      <td>José Antonio Moral Santín</td>\n",
       "      <td>40356.29</td>\n",
       "    </tr>\n",
       "    <tr>\n",
       "      <th>62</th>\n",
       "      <td>Carlos Vela García</td>\n",
       "      <td>37639.57</td>\n",
       "    </tr>\n",
       "    <tr>\n",
       "      <th>55</th>\n",
       "      <td>Miguel Blesa de la Parra</td>\n",
       "      <td>37608.99</td>\n",
       "    </tr>\n",
       "    <tr>\n",
       "      <th>11</th>\n",
       "      <td>Enrique de la Torre Martínez</td>\n",
       "      <td>37472.01</td>\n",
       "    </tr>\n",
       "    <tr>\n",
       "      <th>67</th>\n",
       "      <td>Matías Amat Roca</td>\n",
       "      <td>36590.68</td>\n",
       "    </tr>\n",
       "    <tr>\n",
       "      <th>33</th>\n",
       "      <td>Maria Mercedes de la Merced Monge</td>\n",
       "      <td>36086.89</td>\n",
       "    </tr>\n",
       "    <tr>\n",
       "      <th>21</th>\n",
       "      <td>Ricardo Romero de Tejada y Picatoste</td>\n",
       "      <td>35901.41</td>\n",
       "    </tr>\n",
       "    <tr>\n",
       "      <th>73</th>\n",
       "      <td>Ricardo Morado Iglesias</td>\n",
       "      <td>35574.91</td>\n",
       "    </tr>\n",
       "    <tr>\n",
       "      <th>4</th>\n",
       "      <td>Ramón Ferraz Ricarte</td>\n",
       "      <td>35136.97</td>\n",
       "    </tr>\n",
       "  </tbody>\n",
       "</table>\n",
       "</div>"
      ],
      "text/plain": [
       "                                  nombre   importe\n",
       "57         Ildefonso José Sánchez Barcoj  66444.15\n",
       "72             José Antonio Moral Santín  40356.29\n",
       "62                    Carlos Vela García  37639.57\n",
       "55              Miguel Blesa de la Parra  37608.99\n",
       "11          Enrique de la Torre Martínez  37472.01\n",
       "67                      Matías Amat Roca  36590.68\n",
       "33     Maria Mercedes de la Merced Monge  36086.89\n",
       "21  Ricardo Romero de Tejada y Picatoste  35901.41\n",
       "73               Ricardo Morado Iglesias  35574.91\n",
       "4                   Ramón Ferraz Ricarte  35136.97"
      ]
     },
     "execution_count": 18,
     "metadata": {},
     "output_type": "execute_result"
    }
   ],
   "source": [
    "df.assign(importe = df.importe / 100).sort_values('importe', ascending = False).head(10)"
   ]
  },
  {
   "cell_type": "markdown",
   "metadata": {},
   "source": [
    "### Los 10 movimientos mas caros por actividad"
   ]
  },
  {
   "cell_type": "markdown",
   "metadata": {},
   "source": [
    "Esta consulta se pueder resolver mediante la vista materializa que hemos creado ad-hoc para resolver esta consulta"
   ]
  },
  {
   "cell_type": "code",
   "execution_count": 19,
   "metadata": {
    "collapsed": false
   },
   "outputs": [
    {
     "data": {
      "text/html": [
       "<div>\n",
       "<style>\n",
       "    .dataframe thead tr:only-child th {\n",
       "        text-align: right;\n",
       "    }\n",
       "\n",
       "    .dataframe thead th {\n",
       "        text-align: left;\n",
       "    }\n",
       "\n",
       "    .dataframe tbody tr th {\n",
       "        vertical-align: top;\n",
       "    }\n",
       "</style>\n",
       "<table border=\"1\" class=\"dataframe\">\n",
       "  <thead>\n",
       "    <tr style=\"text-align: right;\">\n",
       "      <th></th>\n",
       "      <th>nombre</th>\n",
       "      <th>fecha</th>\n",
       "      <th>actividad</th>\n",
       "      <th>actividad_completa</th>\n",
       "      <th>importe</th>\n",
       "    </tr>\n",
       "  </thead>\n",
       "  <tbody>\n",
       "    <tr>\n",
       "      <th>0</th>\n",
       "      <td>Jesús Pedroche Nieto</td>\n",
       "      <td>2009-05-07</td>\n",
       "      <td>HOGAR</td>\n",
       "      <td>ELECTRODOMESTICOS,EQUIPOS ELECTRICOS</td>\n",
       "      <td>3794.0</td>\n",
       "    </tr>\n",
       "    <tr>\n",
       "      <th>1</th>\n",
       "      <td>Jesús Pedroche Nieto</td>\n",
       "      <td>2009-07-05</td>\n",
       "      <td>HOGAR</td>\n",
       "      <td>ELECTRODOMESTICOS,EQUIPOS ELECTRICOS</td>\n",
       "      <td>3512.0</td>\n",
       "    </tr>\n",
       "    <tr>\n",
       "      <th>2</th>\n",
       "      <td>Rodrigo de Rato Figaredo</td>\n",
       "      <td>2010-02-05</td>\n",
       "      <td>HOGAR</td>\n",
       "      <td>FERRETERIA,BRICOLAJE,MENAJE DEL HOGAR</td>\n",
       "      <td>1392.03</td>\n",
       "    </tr>\n",
       "    <tr>\n",
       "      <th>3</th>\n",
       "      <td>Rafael Spottorno Díaz Caro</td>\n",
       "      <td>2003-08-10</td>\n",
       "      <td>HOGAR</td>\n",
       "      <td>MIRO ESTABLECIMIENTOS</td>\n",
       "      <td>1198.0</td>\n",
       "    </tr>\n",
       "    <tr>\n",
       "      <th>4</th>\n",
       "      <td>Jesús Pedroche Nieto</td>\n",
       "      <td>2009-01-02</td>\n",
       "      <td>HOGAR</td>\n",
       "      <td>MUEBLES,ANTIGUEDADES Y GALERIAS DE ARTE</td>\n",
       "      <td>1000.41</td>\n",
       "    </tr>\n",
       "    <tr>\n",
       "      <th>5</th>\n",
       "      <td>Alejandro Couceiro Ojeda</td>\n",
       "      <td>2005-07-04</td>\n",
       "      <td>HOGAR</td>\n",
       "      <td>ELECTRODOMESTICOS,EQUIPOS ELECTRICOS</td>\n",
       "      <td>998.0</td>\n",
       "    </tr>\n",
       "    <tr>\n",
       "      <th>6</th>\n",
       "      <td>Mariano Pérez Claver</td>\n",
       "      <td>2007-03-16</td>\n",
       "      <td>HOGAR</td>\n",
       "      <td>FLORES Y PLANTAS</td>\n",
       "      <td>864.29</td>\n",
       "    </tr>\n",
       "    <tr>\n",
       "      <th>7</th>\n",
       "      <td>Alejandro Couceiro Ojeda</td>\n",
       "      <td>2005-06-15</td>\n",
       "      <td>HOGAR</td>\n",
       "      <td>MUEBLES,ANTIGUEDADES Y GALERIAS DE ARTE</td>\n",
       "      <td>850.0</td>\n",
       "    </tr>\n",
       "    <tr>\n",
       "      <th>8</th>\n",
       "      <td>María Carmen Cafranga Cavestany</td>\n",
       "      <td>2006-07-31</td>\n",
       "      <td>HOGAR</td>\n",
       "      <td>MUEBLES,ANTIGUEDADES Y GALERIAS DE ARTE</td>\n",
       "      <td>850.0</td>\n",
       "    </tr>\n",
       "    <tr>\n",
       "      <th>9</th>\n",
       "      <td>Rafael Darío Fernández Yruegas Moro</td>\n",
       "      <td>2006-06-15</td>\n",
       "      <td>HOGAR</td>\n",
       "      <td>FERRETERIA,BRICOLAJE,MENAJE DEL HOGAR</td>\n",
       "      <td>660.0</td>\n",
       "    </tr>\n",
       "  </tbody>\n",
       "</table>\n",
       "</div>"
      ],
      "text/plain": [
       "                                nombre       fecha actividad  \\\n",
       "0                 Jesús Pedroche Nieto  2009-05-07     HOGAR   \n",
       "1                 Jesús Pedroche Nieto  2009-07-05     HOGAR   \n",
       "2             Rodrigo de Rato Figaredo  2010-02-05     HOGAR   \n",
       "3           Rafael Spottorno Díaz Caro  2003-08-10     HOGAR   \n",
       "4                 Jesús Pedroche Nieto  2009-01-02     HOGAR   \n",
       "5             Alejandro Couceiro Ojeda  2005-07-04     HOGAR   \n",
       "6                 Mariano Pérez Claver  2007-03-16     HOGAR   \n",
       "7             Alejandro Couceiro Ojeda  2005-06-15     HOGAR   \n",
       "8      María Carmen Cafranga Cavestany  2006-07-31     HOGAR   \n",
       "9  Rafael Darío Fernández Yruegas Moro  2006-06-15     HOGAR   \n",
       "\n",
       "                        actividad_completa  importe  \n",
       "0     ELECTRODOMESTICOS,EQUIPOS ELECTRICOS   3794.0  \n",
       "1     ELECTRODOMESTICOS,EQUIPOS ELECTRICOS   3512.0  \n",
       "2    FERRETERIA,BRICOLAJE,MENAJE DEL HOGAR  1392.03  \n",
       "3                    MIRO ESTABLECIMIENTOS   1198.0  \n",
       "4  MUEBLES,ANTIGUEDADES Y GALERIAS DE ARTE  1000.41  \n",
       "5     ELECTRODOMESTICOS,EQUIPOS ELECTRICOS    998.0  \n",
       "6                         FLORES Y PLANTAS   864.29  \n",
       "7  MUEBLES,ANTIGUEDADES Y GALERIAS DE ARTE    850.0  \n",
       "8  MUEBLES,ANTIGUEDADES Y GALERIAS DE ARTE    850.0  \n",
       "9    FERRETERIA,BRICOLAJE,MENAJE DEL HOGAR    660.0  "
      ]
     },
     "execution_count": 19,
     "metadata": {},
     "output_type": "execute_result"
    }
   ],
   "source": [
    "sql = \"\"\"\n",
    "select nombre, fecha, actividad, actividad_completa, importe\n",
    "from vm_movimientos_by_actividad\n",
    "where actividad = 'HOGAR'\n",
    "limit 10\n",
    "\"\"\"\n",
    "execute_query(sql)"
   ]
  }
 ],
 "metadata": {
  "kernelspec": {
   "display_name": "Python 2",
   "language": "python",
   "name": "python2"
  },
  "language_info": {
   "codemirror_mode": {
    "name": "ipython",
    "version": 2
   },
   "file_extension": ".py",
   "mimetype": "text/x-python",
   "name": "python",
   "nbconvert_exporter": "python",
   "pygments_lexer": "ipython2",
   "version": "2.7.6"
  }
 },
 "nbformat": 4,
 "nbformat_minor": 0
}
