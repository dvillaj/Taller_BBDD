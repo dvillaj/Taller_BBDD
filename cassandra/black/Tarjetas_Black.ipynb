{
 "cells": [
  {
   "cell_type": "markdown",
   "metadata": {},
   "source": [
    "# Cassandra"
   ]
  },
  {
   "cell_type": "markdown",
   "metadata": {},
   "source": [
    "## Conexión con Cassandra y borrado de datos"
   ]
  },
  {
   "cell_type": "code",
   "execution_count": 1,
   "metadata": {
    "collapsed": false,
    "jupyter": {
     "outputs_hidden": false
    }
   },
   "outputs": [],
   "source": [
    "%load_ext cql"
   ]
  },
  {
   "cell_type": "code",
   "execution_count": 13,
   "metadata": {
    "collapsed": false,
    "jupyter": {
     "outputs_hidden": false
    }
   },
   "outputs": [
    {
     "data": {
      "text/plain": [
       "'No results.'"
      ]
     },
     "execution_count": 13,
     "metadata": {},
     "output_type": "execute_result"
    }
   ],
   "source": [
    "%%cql\n",
    "DROP KEYSPACE black;"
   ]
  },
  {
   "cell_type": "code",
   "execution_count": 14,
   "metadata": {
    "collapsed": false,
    "jupyter": {
     "outputs_hidden": false
    }
   },
   "outputs": [
    {
     "data": {
      "text/plain": [
       "'No results.'"
      ]
     },
     "execution_count": 14,
     "metadata": {},
     "output_type": "execute_result"
    }
   ],
   "source": [
    "%%cql\n",
    "CREATE KEYSPACE black \n",
    "WITH replication = {'class':'SimpleStrategy', 'replication_factor': 1};"
   ]
  },
  {
   "cell_type": "code",
   "execution_count": 15,
   "metadata": {
    "collapsed": false,
    "jupyter": {
     "outputs_hidden": false
    }
   },
   "outputs": [
    {
     "data": {
      "text/plain": [
       "'No results.'"
      ]
     },
     "execution_count": 15,
     "metadata": {},
     "output_type": "execute_result"
    }
   ],
   "source": [
    "%cql USE black;"
   ]
  },
  {
   "cell_type": "markdown",
   "metadata": {},
   "source": [
    "## Creacción de las tablas"
   ]
  },
  {
   "cell_type": "markdown",
   "metadata": {},
   "source": [
    "En **Cassandra** vamos a crear 2 tablas principales, una donde almacenamos los movimientos en formato desnormalizado, y otra que nos servirá para almacenar los importes acumulados por cliente."
   ]
  },
  {
   "cell_type": "markdown",
   "metadata": {},
   "source": [
    "También tenemos una tabla auxiliar, creada gracias a la funcionalidad que nos da la base de datos de VISTAS MATERIALIZADAS, que vamos a utilizar para facilitar otros patrones distintos de acceso a la información."
   ]
  },
  {
   "cell_type": "markdown",
   "metadata": {},
   "source": [
    "En la tabla que almacena los movimientos, como no tenemos una PK clara, vamos a utilizar un tipo UUID (marca temporal única) donde guardaremos un TIMESTAMP con la hora de creación del registro"
   ]
  },
  {
   "cell_type": "markdown",
   "metadata": {},
   "source": [
    "<br><br> \n",
    "\n",
    "<img src=\"images/Modelo%20Cassandra.png\" width=\"800\" height=\"500\">\n",
    "\n",
    "<br><br> "
   ]
  },
  {
   "cell_type": "code",
   "execution_count": 16,
   "metadata": {
    "collapsed": false,
    "jupyter": {
     "outputs_hidden": false
    }
   },
   "outputs": [
    {
     "data": {
      "text/plain": [
       "'No results.'"
      ]
     },
     "execution_count": 16,
     "metadata": {},
     "output_type": "execute_result"
    }
   ],
   "source": [
    "%%cql \n",
    "CREATE TABLE acum_movimientos_nombre (\n",
    "    nombre          text,\n",
    "    importe         counter,\n",
    "    PRIMARY KEY (nombre)\n",
    ")"
   ]
  },
  {
   "cell_type": "code",
   "execution_count": 17,
   "metadata": {
    "collapsed": false,
    "jupyter": {
     "outputs_hidden": false
    }
   },
   "outputs": [
    {
     "data": {
      "text/plain": [
       "'No results.'"
      ]
     },
     "execution_count": 17,
     "metadata": {},
     "output_type": "execute_result"
    }
   ],
   "source": [
    "%%cql \n",
    "CREATE TABLE movimientos (\n",
    "    uid             uuid,\n",
    "    fecha           date,\n",
    "    hora            int,\n",
    "    minuto          int,\n",
    "    importe         decimal,\n",
    "    comercio        text,\n",
    "    actividad_completa text,\n",
    "    actividad       text,\n",
    "    nombre          text,\n",
    "    funcion         text,\n",
    "    organizacion    text,\n",
    "    PRIMARY KEY ((nombre), importe, fecha, hora, minuto)\n",
    ")\n",
    "WITH CLUSTERING ORDER BY (importe DESC);"
   ]
  },
  {
   "cell_type": "markdown",
   "metadata": {},
   "source": [
    "En la vista materializada no es necesario insertar datos ya que se ocupa la propia base de datos"
   ]
  },
  {
   "cell_type": "code",
   "execution_count": 18,
   "metadata": {
    "collapsed": false,
    "jupyter": {
     "outputs_hidden": false
    }
   },
   "outputs": [
    {
     "data": {
      "text/plain": [
       "'No results.'"
      ]
     },
     "execution_count": 18,
     "metadata": {},
     "output_type": "execute_result"
    }
   ],
   "source": [
    "%%cql\n",
    "CREATE MATERIALIZED VIEW vm_movimientos_by_actividad AS\n",
    "   SELECT * FROM movimientos\n",
    "   WHERE actividad IS NOT NULL \n",
    "         and importe IS NOT NULL \n",
    "         and fecha IS NOT NULL\n",
    "         and hora IS NOT NULL \n",
    "         and minuto IS NOT NULL \n",
    "         and nombre IS NOT NULL\n",
    "   PRIMARY KEY (actividad, importe, fecha,hora,minuto,nombre)\n",
    "   WITH CLUSTERING ORDER BY (importe desc)"
   ]
  },
  {
   "cell_type": "markdown",
   "metadata": {},
   "source": [
    "## Carga de datos en pandas"
   ]
  },
  {
   "cell_type": "markdown",
   "metadata": {},
   "source": [
    "Cargamos los datos en formato Excel y los desnormalizamos ..."
   ]
  },
  {
   "cell_type": "code",
   "execution_count": 19,
   "metadata": {
    "collapsed": false,
    "jupyter": {
     "outputs_hidden": false
    }
   },
   "outputs": [
    {
     "name": "stdout",
     "output_type": "stream",
     "text": [
      "<class 'pandas.core.frame.DataFrame'>\n",
      "Int64Index: 7624 entries, 0 to 7623\n",
      "Data columns (total 11 columns):\n",
      " #   Column              Non-Null Count  Dtype         \n",
      "---  ------              --------------  -----         \n",
      " 0   id_miembro          7624 non-null   int64         \n",
      " 1   fecha               7624 non-null   datetime64[ns]\n",
      " 2   hora                7624 non-null   int64         \n",
      " 3   minuto              7624 non-null   int64         \n",
      " 4   importe             7624 non-null   float64       \n",
      " 5   comercio            6823 non-null   object        \n",
      " 6   actividad_completa  7623 non-null   object        \n",
      " 7   actividad           7623 non-null   object        \n",
      " 8   nombre              7624 non-null   object        \n",
      " 9   funcion             7624 non-null   object        \n",
      " 10  organizacion        6003 non-null   object        \n",
      "dtypes: datetime64[ns](1), float64(1), int64(3), object(6)\n",
      "memory usage: 714.8+ KB\n"
     ]
    }
   ],
   "source": [
    "import pandas as pd\n",
    "df_mov = pd.read_excel(\"../../data/black.xlsx\", sheet_name= \"Movimientos\")\n",
    "df_miembros = pd.read_excel(\"../../data/black.xlsx\", sheet_name= \"Miembros\")\n",
    "df = pd.merge(df_mov, df_miembros, on = ['id_miembro'], how = 'inner')\n",
    "df.info()"
   ]
  },
  {
   "cell_type": "markdown",
   "metadata": {},
   "source": [
    "### Carga de datos en Cassandra"
   ]
  },
  {
   "cell_type": "code",
   "execution_count": 20,
   "metadata": {},
   "outputs": [],
   "source": [
    "from cassandra.cluster import Cluster, BatchStatement, ConsistencyLevel\n",
    "cluster = Cluster()\n",
    "session = cluster.connect('black')"
   ]
  },
  {
   "cell_type": "markdown",
   "metadata": {},
   "source": [
    "A destacar varios aspectos:\n",
    "- El tipo de las fechas. Hay que dejarlo con el tipo **Date** de Python para no tener problemas (El tipo de la columna es también Date)\n",
    "- Los nulos en Pandas son del tipo NumPy.nan, por lo hay convertirlos a None para que la inserción en Cassandra sea correcta\n",
    "- En la tabla de importes acumulados guardamos el importe en un dato de tipo **counter**, que tiene un tipo entero, por lo que multiplicamos el dato por 100 para poder almacenarlo correctamete"
   ]
  },
  {
   "cell_type": "code",
   "execution_count": 21,
   "metadata": {},
   "outputs": [],
   "source": [
    "df.loc[df.comercio.isnull(),['comercio']] = None\n",
    "df.loc[df.organizacion.isnull(),['organizacion']] = None\n",
    "df.loc[df.actividad.isnull(),['actividad']] = None\n",
    "df.loc[df.actividad_completa.isnull(),['actividad_completa']] = None"
   ]
  },
  {
   "cell_type": "code",
   "execution_count": 22,
   "metadata": {},
   "outputs": [],
   "source": [
    "import dateutil\n",
    "\n",
    "def insert_movientos(df):\n",
    "    \n",
    "    sql_insert = \"\"\"\n",
    "INSERT INTO movimientos (\n",
    "uid,\n",
    "importe,\n",
    "actividad,\n",
    "fecha,\n",
    "actividad_completa,\n",
    "comercio,\n",
    "funcion,\n",
    "hora,\n",
    "minuto,\n",
    "organizacion,\n",
    "nombre\n",
    ") VALUES (now(), %s, %s, %s, %s, %s, %s, %s, %s, %s, %s)\n",
    "\"\"\"\n",
    "\n",
    "    for index in df.index:\n",
    "        fecha = df['fecha'][index]\n",
    "        \n",
    "        data = [\n",
    "            df[\"importe\"][index],\n",
    "            df[\"actividad\"][index],\n",
    "            fecha.date(),\n",
    "            df[\"actividad_completa\"][index],\n",
    "            df[\"comercio\"][index],\n",
    "            df[\"funcion\"][index],\n",
    "            df[\"hora\"][index],\n",
    "            df[\"minuto\"][index],\n",
    "            df[\"organizacion\"][index],\n",
    "            df[\"nombre\"][index],\n",
    "        ]\n",
    "        \n",
    "        session.execute(sql_insert, data)\n",
    "        \n",
    "        importe_int = int(round(df[\"importe\"][index] * 100))        \n",
    "        session.execute(\"UPDATE acum_movimientos_nombre SET importe = importe + %s WHERE nombre = %s\", \n",
    "                        [importe_int, \n",
    "                         df[\"nombre\"][index]]\n",
    "        )"
   ]
  },
  {
   "cell_type": "markdown",
   "metadata": {},
   "source": [
    "Ya podemos insertar los datos ..."
   ]
  },
  {
   "cell_type": "code",
   "execution_count": 23,
   "metadata": {
    "collapsed": false,
    "jupyter": {
     "outputs_hidden": false
    }
   },
   "outputs": [],
   "source": [
    "insert_movientos(df)"
   ]
  },
  {
   "cell_type": "markdown",
   "metadata": {},
   "source": [
    "## Consulta de datos"
   ]
  },
  {
   "cell_type": "markdown",
   "metadata": {},
   "source": [
    "Función de utilidad que realiza un query en Cassandra y devuelve un DataFrame de Pandas"
   ]
  },
  {
   "cell_type": "code",
   "execution_count": 24,
   "metadata": {},
   "outputs": [],
   "source": [
    "def execute_query(sql):\n",
    "    rows = session.execute(sql)\n",
    "    return pd.DataFrame(list(rows))"
   ]
  },
  {
   "cell_type": "markdown",
   "metadata": {},
   "source": [
    "### Los 10 movimientos mas caros"
   ]
  },
  {
   "cell_type": "markdown",
   "metadata": {},
   "source": [
    "Para resolver esta query con la base de datos tendríamos que tener un PARTITION KEY única para todos los registros"
   ]
  },
  {
   "cell_type": "code",
   "execution_count": 25,
   "metadata": {
    "collapsed": false,
    "jupyter": {
     "outputs_hidden": false
    }
   },
   "outputs": [],
   "source": [
    "sql = \"\"\"\n",
    "SELECT nombre, fecha, actividad_completa, importe\n",
    "FROM MOVIMIENTOS\n",
    "\"\"\"\n",
    "df = execute_query(sql)"
   ]
  },
  {
   "cell_type": "code",
   "execution_count": 26,
   "metadata": {
    "collapsed": false,
    "jupyter": {
     "outputs_hidden": false
    }
   },
   "outputs": [
    {
     "data": {
      "text/html": [
       "<div>\n",
       "<style scoped>\n",
       "    .dataframe tbody tr th:only-of-type {\n",
       "        vertical-align: middle;\n",
       "    }\n",
       "\n",
       "    .dataframe tbody tr th {\n",
       "        vertical-align: top;\n",
       "    }\n",
       "\n",
       "    .dataframe thead th {\n",
       "        text-align: right;\n",
       "    }\n",
       "</style>\n",
       "<table border=\"1\" class=\"dataframe\">\n",
       "  <thead>\n",
       "    <tr style=\"text-align: right;\">\n",
       "      <th></th>\n",
       "      <th>nombre</th>\n",
       "      <th>fecha</th>\n",
       "      <th>actividad_completa</th>\n",
       "      <th>importe</th>\n",
       "    </tr>\n",
       "  </thead>\n",
       "  <tbody>\n",
       "    <tr>\n",
       "      <th>4699</th>\n",
       "      <td>Ildefonso José Sánchez Barcoj</td>\n",
       "      <td>2009-12-30</td>\n",
       "      <td>EL CORTE INGLES</td>\n",
       "      <td>16921.75</td>\n",
       "    </tr>\n",
       "    <tr>\n",
       "      <th>4409</th>\n",
       "      <td>Miguel Blesa de la Parra</td>\n",
       "      <td>2006-04-04</td>\n",
       "      <td>EL CORTE INGLES</td>\n",
       "      <td>12597.26</td>\n",
       "    </tr>\n",
       "    <tr>\n",
       "      <th>397</th>\n",
       "      <td>Ramón Ferraz Ricarte</td>\n",
       "      <td>2003-04-03</td>\n",
       "      <td>AGENCIAS DE VIAJES</td>\n",
       "      <td>5998.35</td>\n",
       "    </tr>\n",
       "    <tr>\n",
       "      <th>398</th>\n",
       "      <td>Ramón Ferraz Ricarte</td>\n",
       "      <td>2009-08-23</td>\n",
       "      <td>HOTELES 4 Y 5 ESTRELLAS,BALNEARIOS,CAMPI</td>\n",
       "      <td>5909.29</td>\n",
       "    </tr>\n",
       "    <tr>\n",
       "      <th>1433</th>\n",
       "      <td>Estanislao Rodríguez-Ponga Salamanca</td>\n",
       "      <td>2010-12-20</td>\n",
       "      <td>HIPERCOR SUPERMERCADOS EL CORTE INGLES</td>\n",
       "      <td>4985.0</td>\n",
       "    </tr>\n",
       "    <tr>\n",
       "      <th>5732</th>\n",
       "      <td>Matías Amat Roca</td>\n",
       "      <td>2006-08-02</td>\n",
       "      <td>AGENCIAS DE VIAJES</td>\n",
       "      <td>4972.0</td>\n",
       "    </tr>\n",
       "    <tr>\n",
       "      <th>3371</th>\n",
       "      <td>María Carmen Cafranga Cavestany</td>\n",
       "      <td>2010-10-07</td>\n",
       "      <td>AGENCIAS DE VIAJES</td>\n",
       "      <td>4336.0</td>\n",
       "    </tr>\n",
       "    <tr>\n",
       "      <th>4700</th>\n",
       "      <td>Ildefonso José Sánchez Barcoj</td>\n",
       "      <td>2010-03-25</td>\n",
       "      <td>EL CORTE INGLES</td>\n",
       "      <td>4320.5</td>\n",
       "    </tr>\n",
       "    <tr>\n",
       "      <th>2698</th>\n",
       "      <td>Carmen Contreras Gómez</td>\n",
       "      <td>2008-12-19</td>\n",
       "      <td>JOYERIAS Y RELOJERIAS</td>\n",
       "      <td>4218.0</td>\n",
       "    </tr>\n",
       "    <tr>\n",
       "      <th>2699</th>\n",
       "      <td>Carmen Contreras Gómez</td>\n",
       "      <td>2007-02-11</td>\n",
       "      <td>AIR EUROPA</td>\n",
       "      <td>4175.87</td>\n",
       "    </tr>\n",
       "  </tbody>\n",
       "</table>\n",
       "</div>"
      ],
      "text/plain": [
       "                                    nombre       fecha  \\\n",
       "4699         Ildefonso José Sánchez Barcoj  2009-12-30   \n",
       "4409              Miguel Blesa de la Parra  2006-04-04   \n",
       "397                   Ramón Ferraz Ricarte  2003-04-03   \n",
       "398                   Ramón Ferraz Ricarte  2009-08-23   \n",
       "1433  Estanislao Rodríguez-Ponga Salamanca  2010-12-20   \n",
       "5732                      Matías Amat Roca  2006-08-02   \n",
       "3371       María Carmen Cafranga Cavestany  2010-10-07   \n",
       "4700         Ildefonso José Sánchez Barcoj  2010-03-25   \n",
       "2698                Carmen Contreras Gómez  2008-12-19   \n",
       "2699                Carmen Contreras Gómez  2007-02-11   \n",
       "\n",
       "                            actividad_completa   importe  \n",
       "4699                           EL CORTE INGLES  16921.75  \n",
       "4409                           EL CORTE INGLES  12597.26  \n",
       "397                         AGENCIAS DE VIAJES   5998.35  \n",
       "398   HOTELES 4 Y 5 ESTRELLAS,BALNEARIOS,CAMPI   5909.29  \n",
       "1433    HIPERCOR SUPERMERCADOS EL CORTE INGLES    4985.0  \n",
       "5732                        AGENCIAS DE VIAJES    4972.0  \n",
       "3371                        AGENCIAS DE VIAJES    4336.0  \n",
       "4700                           EL CORTE INGLES    4320.5  \n",
       "2698                     JOYERIAS Y RELOJERIAS    4218.0  \n",
       "2699                                AIR EUROPA   4175.87  "
      ]
     },
     "execution_count": 26,
     "metadata": {},
     "output_type": "execute_result"
    }
   ],
   "source": [
    "df.sort_values('importe', ascending = False).head(10)"
   ]
  },
  {
   "cell_type": "markdown",
   "metadata": {},
   "source": [
    "### Los movimientos de una persona concreta"
   ]
  },
  {
   "cell_type": "markdown",
   "metadata": {},
   "source": [
    "Se resuelve la query con la base de datos, ya que la PARTITION KEY es el campo **nombre**, y los registros están ordenados por importe"
   ]
  },
  {
   "cell_type": "code",
   "execution_count": 27,
   "metadata": {
    "collapsed": false,
    "jupyter": {
     "outputs_hidden": false
    }
   },
   "outputs": [
    {
     "data": {
      "text/html": [
       "<div>\n",
       "<style scoped>\n",
       "    .dataframe tbody tr th:only-of-type {\n",
       "        vertical-align: middle;\n",
       "    }\n",
       "\n",
       "    .dataframe tbody tr th {\n",
       "        vertical-align: top;\n",
       "    }\n",
       "\n",
       "    .dataframe thead th {\n",
       "        text-align: right;\n",
       "    }\n",
       "</style>\n",
       "<table border=\"1\" class=\"dataframe\">\n",
       "  <thead>\n",
       "    <tr style=\"text-align: right;\">\n",
       "      <th></th>\n",
       "      <th>nombre</th>\n",
       "      <th>fecha</th>\n",
       "      <th>actividad_completa</th>\n",
       "      <th>importe</th>\n",
       "    </tr>\n",
       "  </thead>\n",
       "  <tbody>\n",
       "    <tr>\n",
       "      <th>0</th>\n",
       "      <td>Javier de Miguel Sánchez</td>\n",
       "      <td>2003-02-11</td>\n",
       "      <td>EL CORTE INGLES</td>\n",
       "      <td>1190.0</td>\n",
       "    </tr>\n",
       "    <tr>\n",
       "      <th>1</th>\n",
       "      <td>Javier de Miguel Sánchez</td>\n",
       "      <td>2004-05-18</td>\n",
       "      <td>MELIA (CADENA DE HOTELES)</td>\n",
       "      <td>593.39</td>\n",
       "    </tr>\n",
       "    <tr>\n",
       "      <th>2</th>\n",
       "      <td>Javier de Miguel Sánchez</td>\n",
       "      <td>2008-06-12</td>\n",
       "      <td>ELECTRODOMESTICOS,EQUIPOS ELECTRICOS</td>\n",
       "      <td>572.0</td>\n",
       "    </tr>\n",
       "    <tr>\n",
       "      <th>3</th>\n",
       "      <td>Javier de Miguel Sánchez</td>\n",
       "      <td>2004-04-06</td>\n",
       "      <td>HOTELES,MOTELES,BALNEARIOS,CAMPINGS REST</td>\n",
       "      <td>538.97</td>\n",
       "    </tr>\n",
       "    <tr>\n",
       "      <th>4</th>\n",
       "      <td>Javier de Miguel Sánchez</td>\n",
       "      <td>2009-05-30</td>\n",
       "      <td>CONFECCION TEXTIL EN GENERAL</td>\n",
       "      <td>350.0</td>\n",
       "    </tr>\n",
       "    <tr>\n",
       "      <th>5</th>\n",
       "      <td>Javier de Miguel Sánchez</td>\n",
       "      <td>2009-12-22</td>\n",
       "      <td>MATERIALES CONSTRUCCION,FONTANERIA,SANEA</td>\n",
       "      <td>280.0</td>\n",
       "    </tr>\n",
       "    <tr>\n",
       "      <th>6</th>\n",
       "      <td>Javier de Miguel Sánchez</td>\n",
       "      <td>2008-04-24</td>\n",
       "      <td>SERV.ORG.PUBL.Y GRANDES EMPRESAS</td>\n",
       "      <td>269.92</td>\n",
       "    </tr>\n",
       "    <tr>\n",
       "      <th>7</th>\n",
       "      <td>Javier de Miguel Sánchez</td>\n",
       "      <td>2010-01-19</td>\n",
       "      <td>FERRETERIA,BRICOLAJE,MENAJE DEL HOGAR</td>\n",
       "      <td>260.72</td>\n",
       "    </tr>\n",
       "    <tr>\n",
       "      <th>8</th>\n",
       "      <td>Javier de Miguel Sánchez</td>\n",
       "      <td>2009-01-28</td>\n",
       "      <td>HOSPITALES,SANATORIOS Y CONSULTAS MEDIC</td>\n",
       "      <td>250.0</td>\n",
       "    </tr>\n",
       "    <tr>\n",
       "      <th>9</th>\n",
       "      <td>Javier de Miguel Sánchez</td>\n",
       "      <td>2005-09-19</td>\n",
       "      <td>CONFECCION TEXTIL EN GENERAL</td>\n",
       "      <td>222.5</td>\n",
       "    </tr>\n",
       "  </tbody>\n",
       "</table>\n",
       "</div>"
      ],
      "text/plain": [
       "                     nombre       fecha  \\\n",
       "0  Javier de Miguel Sánchez  2003-02-11   \n",
       "1  Javier de Miguel Sánchez  2004-05-18   \n",
       "2  Javier de Miguel Sánchez  2008-06-12   \n",
       "3  Javier de Miguel Sánchez  2004-04-06   \n",
       "4  Javier de Miguel Sánchez  2009-05-30   \n",
       "5  Javier de Miguel Sánchez  2009-12-22   \n",
       "6  Javier de Miguel Sánchez  2008-04-24   \n",
       "7  Javier de Miguel Sánchez  2010-01-19   \n",
       "8  Javier de Miguel Sánchez  2009-01-28   \n",
       "9  Javier de Miguel Sánchez  2005-09-19   \n",
       "\n",
       "                         actividad_completa importe  \n",
       "0                           EL CORTE INGLES  1190.0  \n",
       "1                 MELIA (CADENA DE HOTELES)  593.39  \n",
       "2      ELECTRODOMESTICOS,EQUIPOS ELECTRICOS   572.0  \n",
       "3  HOTELES,MOTELES,BALNEARIOS,CAMPINGS REST  538.97  \n",
       "4              CONFECCION TEXTIL EN GENERAL   350.0  \n",
       "5  MATERIALES CONSTRUCCION,FONTANERIA,SANEA   280.0  \n",
       "6          SERV.ORG.PUBL.Y GRANDES EMPRESAS  269.92  \n",
       "7     FERRETERIA,BRICOLAJE,MENAJE DEL HOGAR  260.72  \n",
       "8   HOSPITALES,SANATORIOS Y CONSULTAS MEDIC   250.0  \n",
       "9              CONFECCION TEXTIL EN GENERAL   222.5  "
      ]
     },
     "execution_count": 27,
     "metadata": {},
     "output_type": "execute_result"
    }
   ],
   "source": [
    "sql = \"\"\"\n",
    "select nombre, fecha, actividad_completa, importe\n",
    "from movimientos\n",
    "where nombre = 'Javier de Miguel Sánchez'\n",
    "limit 10\n",
    "\"\"\"\n",
    "execute_query(sql)"
   ]
  },
  {
   "cell_type": "markdown",
   "metadata": {},
   "source": [
    "### Las 10 personas que mas han gastado"
   ]
  },
  {
   "cell_type": "markdown",
   "metadata": {},
   "source": [
    "Esta consulta se pueder resolver mediante el acumulado que habíamos creado ad-doc. Observa que el importe es entero, por lo que hay que dividirlo por 100 para convertirlo a decimal"
   ]
  },
  {
   "cell_type": "code",
   "execution_count": 28,
   "metadata": {
    "collapsed": false,
    "jupyter": {
     "outputs_hidden": false
    }
   },
   "outputs": [],
   "source": [
    "sql = \"\"\"\n",
    "select *\n",
    "from acum_movimientos_nombre\n",
    "\"\"\"\n",
    "df = execute_query(sql)"
   ]
  },
  {
   "cell_type": "code",
   "execution_count": 29,
   "metadata": {
    "collapsed": false,
    "jupyter": {
     "outputs_hidden": false
    }
   },
   "outputs": [
    {
     "data": {
      "text/html": [
       "<div>\n",
       "<style scoped>\n",
       "    .dataframe tbody tr th:only-of-type {\n",
       "        vertical-align: middle;\n",
       "    }\n",
       "\n",
       "    .dataframe tbody tr th {\n",
       "        vertical-align: top;\n",
       "    }\n",
       "\n",
       "    .dataframe thead th {\n",
       "        text-align: right;\n",
       "    }\n",
       "</style>\n",
       "<table border=\"1\" class=\"dataframe\">\n",
       "  <thead>\n",
       "    <tr style=\"text-align: right;\">\n",
       "      <th></th>\n",
       "      <th>nombre</th>\n",
       "      <th>importe</th>\n",
       "    </tr>\n",
       "  </thead>\n",
       "  <tbody>\n",
       "    <tr>\n",
       "      <th>57</th>\n",
       "      <td>Ildefonso José Sánchez Barcoj</td>\n",
       "      <td>71331.33</td>\n",
       "    </tr>\n",
       "    <tr>\n",
       "      <th>55</th>\n",
       "      <td>Miguel Blesa de la Parra</td>\n",
       "      <td>60325.29</td>\n",
       "    </tr>\n",
       "    <tr>\n",
       "      <th>73</th>\n",
       "      <td>Ricardo Morado Iglesias</td>\n",
       "      <td>46435.74</td>\n",
       "    </tr>\n",
       "    <tr>\n",
       "      <th>72</th>\n",
       "      <td>José Antonio Moral Santín</td>\n",
       "      <td>45026.71</td>\n",
       "    </tr>\n",
       "    <tr>\n",
       "      <th>4</th>\n",
       "      <td>Ramón Ferraz Ricarte</td>\n",
       "      <td>44438.94</td>\n",
       "    </tr>\n",
       "    <tr>\n",
       "      <th>67</th>\n",
       "      <td>Matías Amat Roca</td>\n",
       "      <td>42663.76</td>\n",
       "    </tr>\n",
       "    <tr>\n",
       "      <th>30</th>\n",
       "      <td>Mariano Pérez Claver</td>\n",
       "      <td>32121.01</td>\n",
       "    </tr>\n",
       "    <tr>\n",
       "      <th>54</th>\n",
       "      <td>Francisco Baquero Noriega</td>\n",
       "      <td>31558.70</td>\n",
       "    </tr>\n",
       "    <tr>\n",
       "      <th>34</th>\n",
       "      <td>Carmen Contreras Gómez</td>\n",
       "      <td>30159.02</td>\n",
       "    </tr>\n",
       "    <tr>\n",
       "      <th>46</th>\n",
       "      <td>Antonio Romero Lázaro</td>\n",
       "      <td>27954.38</td>\n",
       "    </tr>\n",
       "  </tbody>\n",
       "</table>\n",
       "</div>"
      ],
      "text/plain": [
       "                           nombre   importe\n",
       "57  Ildefonso José Sánchez Barcoj  71331.33\n",
       "55       Miguel Blesa de la Parra  60325.29\n",
       "73        Ricardo Morado Iglesias  46435.74\n",
       "72      José Antonio Moral Santín  45026.71\n",
       "4            Ramón Ferraz Ricarte  44438.94\n",
       "67               Matías Amat Roca  42663.76\n",
       "30           Mariano Pérez Claver  32121.01\n",
       "54      Francisco Baquero Noriega  31558.70\n",
       "34         Carmen Contreras Gómez  30159.02\n",
       "46          Antonio Romero Lázaro  27954.38"
      ]
     },
     "execution_count": 29,
     "metadata": {},
     "output_type": "execute_result"
    }
   ],
   "source": [
    "df.assign(importe = df.importe / 100).sort_values('importe', ascending = False).head(10)"
   ]
  },
  {
   "cell_type": "markdown",
   "metadata": {},
   "source": [
    "### Los 10 movimientos mas caros por actividad"
   ]
  },
  {
   "cell_type": "markdown",
   "metadata": {},
   "source": [
    "Esta consulta se pueder resolver mediante la vista materializa que hemos creado ad-hoc para resolver esta consulta"
   ]
  },
  {
   "cell_type": "code",
   "execution_count": 30,
   "metadata": {
    "collapsed": false,
    "jupyter": {
     "outputs_hidden": false
    }
   },
   "outputs": [
    {
     "data": {
      "text/html": [
       "<div>\n",
       "<style scoped>\n",
       "    .dataframe tbody tr th:only-of-type {\n",
       "        vertical-align: middle;\n",
       "    }\n",
       "\n",
       "    .dataframe tbody tr th {\n",
       "        vertical-align: top;\n",
       "    }\n",
       "\n",
       "    .dataframe thead th {\n",
       "        text-align: right;\n",
       "    }\n",
       "</style>\n",
       "<table border=\"1\" class=\"dataframe\">\n",
       "  <thead>\n",
       "    <tr style=\"text-align: right;\">\n",
       "      <th></th>\n",
       "      <th>nombre</th>\n",
       "      <th>fecha</th>\n",
       "      <th>actividad</th>\n",
       "      <th>actividad_completa</th>\n",
       "      <th>importe</th>\n",
       "    </tr>\n",
       "  </thead>\n",
       "  <tbody>\n",
       "    <tr>\n",
       "      <th>0</th>\n",
       "      <td>Jesús Pedroche Nieto</td>\n",
       "      <td>2009-07-05</td>\n",
       "      <td>HOGAR</td>\n",
       "      <td>ELECTRODOMESTICOS,EQUIPOS ELECTRICOS</td>\n",
       "      <td>3512.0</td>\n",
       "    </tr>\n",
       "    <tr>\n",
       "      <th>1</th>\n",
       "      <td>Jesús Pedroche Nieto</td>\n",
       "      <td>2011-10-20</td>\n",
       "      <td>HOGAR</td>\n",
       "      <td>MUEBLES,ANTIGUEDADES Y GALERIAS DE ARTE</td>\n",
       "      <td>3061.0</td>\n",
       "    </tr>\n",
       "    <tr>\n",
       "      <th>2</th>\n",
       "      <td>Francisco Baquero Noriega</td>\n",
       "      <td>2008-05-15</td>\n",
       "      <td>HOGAR</td>\n",
       "      <td>FLORES Y PLANTAS</td>\n",
       "      <td>2764.19</td>\n",
       "    </tr>\n",
       "    <tr>\n",
       "      <th>3</th>\n",
       "      <td>Mariano Pérez Claver</td>\n",
       "      <td>2006-06-30</td>\n",
       "      <td>HOGAR</td>\n",
       "      <td>IKEA</td>\n",
       "      <td>1217.94</td>\n",
       "    </tr>\n",
       "    <tr>\n",
       "      <th>4</th>\n",
       "      <td>Jesús Pedroche Nieto</td>\n",
       "      <td>2009-01-02</td>\n",
       "      <td>HOGAR</td>\n",
       "      <td>MUEBLES,ANTIGUEDADES Y GALERIAS DE ARTE</td>\n",
       "      <td>1000.41</td>\n",
       "    </tr>\n",
       "    <tr>\n",
       "      <th>5</th>\n",
       "      <td>Jesús Pedroche Nieto</td>\n",
       "      <td>2011-08-22</td>\n",
       "      <td>HOGAR</td>\n",
       "      <td>MUEBLES,ANTIGUEDADES Y GALERIAS DE ARTE</td>\n",
       "      <td>945.82</td>\n",
       "    </tr>\n",
       "    <tr>\n",
       "      <th>6</th>\n",
       "      <td>Maria Mercedes de la Merced Monge</td>\n",
       "      <td>2006-09-12</td>\n",
       "      <td>HOGAR</td>\n",
       "      <td>MUEBLES,ANTIGUEDADES Y GALERIAS DE ARTE</td>\n",
       "      <td>843.25</td>\n",
       "    </tr>\n",
       "    <tr>\n",
       "      <th>7</th>\n",
       "      <td>Ildefonso José Sánchez Barcoj</td>\n",
       "      <td>2011-04-02</td>\n",
       "      <td>HOGAR</td>\n",
       "      <td>MUEBLES,ANTIGUEDADES Y GALERIAS DE ARTE</td>\n",
       "      <td>760.0</td>\n",
       "    </tr>\n",
       "    <tr>\n",
       "      <th>8</th>\n",
       "      <td>Alejandro Couceiro Ojeda</td>\n",
       "      <td>2006-07-04</td>\n",
       "      <td>HOGAR</td>\n",
       "      <td>MUEBLES,ANTIGUEDADES Y GALERIAS DE ARTE</td>\n",
       "      <td>620.0</td>\n",
       "    </tr>\n",
       "    <tr>\n",
       "      <th>9</th>\n",
       "      <td>Enrique de la Torre Martínez</td>\n",
       "      <td>2007-04-11</td>\n",
       "      <td>HOGAR</td>\n",
       "      <td>MATERIALES CONSTRUCCION,FONTANERIA,SANEA</td>\n",
       "      <td>575.9</td>\n",
       "    </tr>\n",
       "  </tbody>\n",
       "</table>\n",
       "</div>"
      ],
      "text/plain": [
       "                              nombre       fecha actividad  \\\n",
       "0               Jesús Pedroche Nieto  2009-07-05     HOGAR   \n",
       "1               Jesús Pedroche Nieto  2011-10-20     HOGAR   \n",
       "2          Francisco Baquero Noriega  2008-05-15     HOGAR   \n",
       "3               Mariano Pérez Claver  2006-06-30     HOGAR   \n",
       "4               Jesús Pedroche Nieto  2009-01-02     HOGAR   \n",
       "5               Jesús Pedroche Nieto  2011-08-22     HOGAR   \n",
       "6  Maria Mercedes de la Merced Monge  2006-09-12     HOGAR   \n",
       "7      Ildefonso José Sánchez Barcoj  2011-04-02     HOGAR   \n",
       "8           Alejandro Couceiro Ojeda  2006-07-04     HOGAR   \n",
       "9       Enrique de la Torre Martínez  2007-04-11     HOGAR   \n",
       "\n",
       "                         actividad_completa  importe  \n",
       "0      ELECTRODOMESTICOS,EQUIPOS ELECTRICOS   3512.0  \n",
       "1   MUEBLES,ANTIGUEDADES Y GALERIAS DE ARTE   3061.0  \n",
       "2                          FLORES Y PLANTAS  2764.19  \n",
       "3                                      IKEA  1217.94  \n",
       "4   MUEBLES,ANTIGUEDADES Y GALERIAS DE ARTE  1000.41  \n",
       "5   MUEBLES,ANTIGUEDADES Y GALERIAS DE ARTE   945.82  \n",
       "6   MUEBLES,ANTIGUEDADES Y GALERIAS DE ARTE   843.25  \n",
       "7   MUEBLES,ANTIGUEDADES Y GALERIAS DE ARTE    760.0  \n",
       "8   MUEBLES,ANTIGUEDADES Y GALERIAS DE ARTE    620.0  \n",
       "9  MATERIALES CONSTRUCCION,FONTANERIA,SANEA    575.9  "
      ]
     },
     "execution_count": 30,
     "metadata": {},
     "output_type": "execute_result"
    }
   ],
   "source": [
    "sql = \"\"\"\n",
    "select nombre, fecha, actividad, actividad_completa, importe\n",
    "from vm_movimientos_by_actividad\n",
    "where actividad = 'HOGAR'\n",
    "limit 10\n",
    "\"\"\"\n",
    "execute_query(sql)"
   ]
  },
  {
   "cell_type": "code",
   "execution_count": null,
   "metadata": {},
   "outputs": [],
   "source": []
  }
 ],
 "metadata": {
  "kernelspec": {
   "display_name": "Python 3",
   "language": "python",
   "name": "python3"
  },
  "language_info": {
   "codemirror_mode": {
    "name": "ipython",
    "version": 3
   },
   "file_extension": ".py",
   "mimetype": "text/x-python",
   "name": "python",
   "nbconvert_exporter": "python",
   "pygments_lexer": "ipython3",
   "version": "3.6.9"
  }
 },
 "nbformat": 4,
 "nbformat_minor": 4
}
