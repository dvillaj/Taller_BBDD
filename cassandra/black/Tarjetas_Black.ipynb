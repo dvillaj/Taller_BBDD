{
 "cells": [
  {
   "cell_type": "markdown",
   "metadata": {},
   "source": [
    "# Cassandra"
   ]
  },
  {
   "cell_type": "markdown",
   "metadata": {},
   "source": [
    "## Conexión con Cassandra y borrado de datos"
   ]
  },
  {
   "cell_type": "code",
   "execution_count": 1,
   "metadata": {
    "collapsed": false
   },
   "outputs": [],
   "source": [
    "%load_ext cql"
   ]
  },
  {
   "cell_type": "code",
   "execution_count": 4,
   "metadata": {
    "collapsed": false
   },
   "outputs": [
    {
     "data": {
      "text/plain": [
       "'No results.'"
      ]
     },
     "execution_count": 4,
     "metadata": {},
     "output_type": "execute_result"
    }
   ],
   "source": [
    "%%cql\n",
    "DROP KEYSPACE black;"
   ]
  },
  {
   "cell_type": "code",
   "execution_count": 5,
   "metadata": {
    "collapsed": false
   },
   "outputs": [
    {
     "data": {
      "text/plain": [
       "'No results.'"
      ]
     },
     "execution_count": 5,
     "metadata": {},
     "output_type": "execute_result"
    }
   ],
   "source": [
    "%%cql\n",
    "CREATE KEYSPACE black \n",
    "WITH replication = {'class':'SimpleStrategy', 'replication_factor': 1};"
   ]
  },
  {
   "cell_type": "code",
   "execution_count": 6,
   "metadata": {
    "collapsed": false
   },
   "outputs": [
    {
     "data": {
      "text/plain": [
       "'No results.'"
      ]
     },
     "execution_count": 6,
     "metadata": {},
     "output_type": "execute_result"
    }
   ],
   "source": [
    "%cql USE black;"
   ]
  },
  {
   "cell_type": "markdown",
   "metadata": {},
   "source": [
    "## Creacción de las tablas"
   ]
  },
  {
   "cell_type": "markdown",
   "metadata": {},
   "source": [
    "En **Cassandra** vamos a crear 2 tablas principales, una donde almacenamos los movimientos en formato desnormalizado, y otra que nos servirá para almacenar los importes acumulados por cliente."
   ]
  },
  {
   "cell_type": "markdown",
   "metadata": {},
   "source": [
    "También tenemos una tabla auxiliar, creada gracias a la funcionalidad que nos da la base de datos de VISTAS MATERIALIZADAS, que vamos a utilizar para facilitar otros patrones distintos de acceso a la información."
   ]
  },
  {
   "cell_type": "markdown",
   "metadata": {},
   "source": [
    "En la tabla que almacena los movimientos, como no tenemos una PK clara, vamos a utilizar un tipo UUID (marca temporal única) donde guardaremos un TIMESTAMP con la hora de creación del registro"
   ]
  },
  {
   "cell_type": "markdown",
   "metadata": {},
   "source": [
    "<br><br> \n",
    "\n",
    "<img src=\"images/Modelo%20Cassandra.png\",width=800,height=500>\n",
    "\n",
    "<br><br> "
   ]
  },
  {
   "cell_type": "code",
   "execution_count": 7,
   "metadata": {
    "collapsed": false
   },
   "outputs": [
    {
     "data": {
      "text/plain": [
       "'No results.'"
      ]
     },
     "execution_count": 7,
     "metadata": {},
     "output_type": "execute_result"
    }
   ],
   "source": [
    "%%cql \n",
    "CREATE TABLE acum_movimientos_nombre (\n",
    "    nombre          text,\n",
    "    importe         counter,\n",
    "    PRIMARY KEY (nombre)\n",
    ")"
   ]
  },
  {
   "cell_type": "code",
   "execution_count": 8,
   "metadata": {
    "collapsed": false
   },
   "outputs": [
    {
     "data": {
      "text/plain": [
       "'No results.'"
      ]
     },
     "execution_count": 8,
     "metadata": {},
     "output_type": "execute_result"
    }
   ],
   "source": [
    "%%cql \n",
    "CREATE TABLE movimientos (\n",
    "    uid             uuid,\n",
    "    fecha           date,\n",
    "    hora            int,\n",
    "    minuto          int,\n",
    "    importe         decimal,\n",
    "    comercio        text,\n",
    "    actividad_completa text,\n",
    "    actividad       text,\n",
    "    nombre          text,\n",
    "    funcion         text,\n",
    "    organizacion    text,\n",
    "    PRIMARY KEY ((nombre), importe, fecha, hora, minuto)\n",
    ")\n",
    "WITH CLUSTERING ORDER BY (importe DESC);"
   ]
  },
  {
   "cell_type": "markdown",
   "metadata": {},
   "source": [
    "En la vista materializada no es necesario insertar datos ya que se ocupa la propia base de datos"
   ]
  },
  {
   "cell_type": "code",
   "execution_count": 9,
   "metadata": {
    "collapsed": false
   },
   "outputs": [
    {
     "data": {
      "text/plain": [
       "'No results.'"
      ]
     },
     "execution_count": 9,
     "metadata": {},
     "output_type": "execute_result"
    }
   ],
   "source": [
    "%%cql\n",
    "CREATE MATERIALIZED VIEW vm_movimientos_by_actividad AS\n",
    "   SELECT * FROM movimientos\n",
    "   WHERE actividad IS NOT NULL \n",
    "         and importe IS NOT NULL \n",
    "         and fecha IS NOT NULL\n",
    "         and hora IS NOT NULL \n",
    "         and minuto IS NOT NULL \n",
    "         and nombre IS NOT NULL\n",
    "   PRIMARY KEY (actividad, importe, fecha,hora,minuto,nombre)\n",
    "   WITH CLUSTERING ORDER BY (importe desc)"
   ]
  },
  {
   "cell_type": "markdown",
   "metadata": {},
   "source": [
    "## Carga de datos en pandas"
   ]
  },
  {
   "cell_type": "markdown",
   "metadata": {},
   "source": [
    "Cargamos los datos en formato Excel y los desnormalizamos ..."
   ]
  },
  {
   "cell_type": "code",
   "execution_count": 10,
   "metadata": {
    "collapsed": false
   },
   "outputs": [
    {
     "name": "stdout",
     "output_type": "stream",
     "text": [
      "<class 'pandas.core.frame.DataFrame'>\n",
      "Int64Index: 7624 entries, 0 to 7623\n",
      "Data columns (total 11 columns):\n",
      "id_miembro            7624 non-null int64\n",
      "fecha                 7624 non-null datetime64[ns]\n",
      "minuto                7624 non-null int64\n",
      "hora                  7624 non-null int64\n",
      "importe               7624 non-null float64\n",
      "comercio              6864 non-null object\n",
      "actividad_completa    7622 non-null object\n",
      "actividad             7622 non-null object\n",
      "nombre                7624 non-null object\n",
      "funcion               7624 non-null object\n",
      "organizacion          6056 non-null object\n",
      "dtypes: datetime64[ns](1), float64(1), int64(3), object(6)\n",
      "memory usage: 714.8+ KB\n"
     ]
    }
   ],
   "source": [
    "import pandas as pd\n",
    "df_mov = pd.read_excel(\"../../data/black.xlsx\", sheetname= \"Movimientos\")\n",
    "df_miembros = pd.read_excel(\"../../data/black.xlsx\", sheetname= \"Miembros\")\n",
    "df = pd.merge(df_mov, df_miembros, on = ['id_miembro'], how = 'inner')\n",
    "df.info()"
   ]
  },
  {
   "cell_type": "markdown",
   "metadata": {
    "collapsed": true
   },
   "source": [
    "### Carga de datos en Cassandra"
   ]
  },
  {
   "cell_type": "code",
   "execution_count": 11,
   "metadata": {
    "collapsed": true
   },
   "outputs": [],
   "source": [
    "from cassandra.cluster import Cluster, BatchStatement, ConsistencyLevel\n",
    "cluster = Cluster()\n",
    "session = cluster.connect('black')"
   ]
  },
  {
   "cell_type": "markdown",
   "metadata": {},
   "source": [
    "A destacar varios aspectos:\n",
    "- El tipo de las fechas. Hay que dejarlo con el tipo **Date** de Python para no tener problemas (El tipo de la columna es también Date)\n",
    "- Los nulos en Pandas son del tipo NumPy.nan, por lo hay convertirlos a None para que la inserción en Cassandra sea correcta\n",
    "- En la tabla de importes acumulados guardamos el importe en un dato de tipo **counter**, que tiene un tipo entero, por lo que multiplicamos el dato por 100 para poder almacenarlo correctamete"
   ]
  },
  {
   "cell_type": "code",
   "execution_count": 12,
   "metadata": {
    "collapsed": false
   },
   "outputs": [],
   "source": [
    "df.ix[df.comercio.isnull(), 'comercio'] = None\n",
    "df.ix[df.organizacion.isnull(), 'organizacion'] = None\n",
    "df.ix[df.actividad.isnull(), 'actividad'] = None\n",
    "df.ix[df.actividad_completa.isnull(), 'actividad_completa'] = None"
   ]
  },
  {
   "cell_type": "code",
   "execution_count": 13,
   "metadata": {
    "collapsed": true
   },
   "outputs": [],
   "source": [
    "import dateutil\n",
    "\n",
    "def insert_movientos(df):\n",
    "    \n",
    "    sql_insert = \"\"\"\n",
    "INSERT INTO movimientos (\n",
    "uid,\n",
    "importe,\n",
    "actividad,\n",
    "fecha,\n",
    "actividad_completa,\n",
    "comercio,\n",
    "funcion,\n",
    "hora,\n",
    "minuto,\n",
    "organizacion,\n",
    "nombre\n",
    ") VALUES (now(), %s, %s, %s, %s, %s, %s, %s, %s, %s, %s)\n",
    "\"\"\"\n",
    "\n",
    "    for index in df.index:\n",
    "        fecha = df.ix[index, 'fecha']\n",
    "        \n",
    "        data = [\n",
    "            df.ix[index, \"importe\"],\n",
    "            df.ix[index, \"actividad\"],\n",
    "            fecha.to_datetime().date(),\n",
    "            df.ix[index, \"actividad_completa\"],\n",
    "            df.ix[index, \"comercio\"],\n",
    "            df.ix[index, \"funcion\"],\n",
    "            df.ix[index, \"hora\"],\n",
    "            df.ix[index, \"minuto\"],\n",
    "            df.ix[index, \"organizacion\"],\n",
    "            df.ix[index, \"nombre\"]\n",
    "        ]\n",
    "        \n",
    "        session.execute(sql_insert, data)\n",
    "        \n",
    "        importe_int = int(round(df.ix[index, \"importe\"] * 100))        \n",
    "        session.execute(\"UPDATE acum_movimientos_nombre SET importe = importe + %s WHERE nombre = %s\", \n",
    "                        [importe_int, \n",
    "                         df.ix[index, \"nombre\"]]\n",
    "        )"
   ]
  },
  {
   "cell_type": "markdown",
   "metadata": {},
   "source": [
    "Ya podemos insertar los datos ..."
   ]
  },
  {
   "cell_type": "code",
   "execution_count": 14,
   "metadata": {
    "collapsed": false
   },
   "outputs": [],
   "source": [
    "insert_movientos(df)"
   ]
  },
  {
   "cell_type": "markdown",
   "metadata": {},
   "source": [
    "## Consulta de datos"
   ]
  },
  {
   "cell_type": "markdown",
   "metadata": {},
   "source": [
    "Función de utilidad que realiza un query en Cassandra y devuelve un DataFrame de Pandas"
   ]
  },
  {
   "cell_type": "code",
   "execution_count": 15,
   "metadata": {
    "collapsed": true
   },
   "outputs": [],
   "source": [
    "def execute_query(sql):\n",
    "    rows = session.execute(sql)\n",
    "    return pd.DataFrame(list(rows))"
   ]
  },
  {
   "cell_type": "markdown",
   "metadata": {},
   "source": [
    "### Los 10 movimientos mas caros"
   ]
  },
  {
   "cell_type": "markdown",
   "metadata": {},
   "source": [
    "Para resolver esta query con la base de datos tendríamos que tener un PARTITION KEY única para todos los registros"
   ]
  },
  {
   "cell_type": "code",
   "execution_count": 16,
   "metadata": {
    "collapsed": false
   },
   "outputs": [
    {
     "name": "stderr",
     "output_type": "stream",
     "text": [
      "WARNING:cassandra.protocol:Server warning: Read 5000 live rows and 1761 tombstone cells for query SELECT * FROM black.movimientos LIMIT 5000 (see tombstone_warn_threshold)\n"
     ]
    }
   ],
   "source": [
    "sql = \"\"\"\n",
    "SELECT nombre, fecha, actividad_completa, importe\n",
    "FROM MOVIMIENTOS\n",
    "\"\"\"\n",
    "df = execute_query(sql)"
   ]
  },
  {
   "cell_type": "code",
   "execution_count": 17,
   "metadata": {
    "collapsed": false
   },
   "outputs": [
    {
     "data": {
      "text/html": [
       "<div>\n",
       "<style>\n",
       "    .dataframe thead tr:only-child th {\n",
       "        text-align: right;\n",
       "    }\n",
       "\n",
       "    .dataframe thead th {\n",
       "        text-align: left;\n",
       "    }\n",
       "\n",
       "    .dataframe tbody tr th {\n",
       "        vertical-align: top;\n",
       "    }\n",
       "</style>\n",
       "<table border=\"1\" class=\"dataframe\">\n",
       "  <thead>\n",
       "    <tr style=\"text-align: right;\">\n",
       "      <th></th>\n",
       "      <th>nombre</th>\n",
       "      <th>fecha</th>\n",
       "      <th>actividad_completa</th>\n",
       "      <th>importe</th>\n",
       "    </tr>\n",
       "  </thead>\n",
       "  <tbody>\n",
       "    <tr>\n",
       "      <th>4737</th>\n",
       "      <td>Ildefonso José Sánchez Barcoj</td>\n",
       "      <td>2006-02-14</td>\n",
       "      <td>AGENCIAS BANCARIAS(ANTICIPO VENTANILLA)</td>\n",
       "      <td>11000.0</td>\n",
       "    </tr>\n",
       "    <tr>\n",
       "      <th>4738</th>\n",
       "      <td>Ildefonso José Sánchez Barcoj</td>\n",
       "      <td>2008-11-19</td>\n",
       "      <td>EL CORTE INGLES</td>\n",
       "      <td>6593.2</td>\n",
       "    </tr>\n",
       "    <tr>\n",
       "      <th>5684</th>\n",
       "      <td>Matías Amat Roca</td>\n",
       "      <td>2010-11-30</td>\n",
       "      <td>AGENCIAS DE VIAJES</td>\n",
       "      <td>6519.12</td>\n",
       "    </tr>\n",
       "    <tr>\n",
       "      <th>3407</th>\n",
       "      <td>María Carmen Cafranga Cavestany</td>\n",
       "      <td>2011-02-14</td>\n",
       "      <td>V.DIST.VIAJES Y TRANSPORTE DE VIAJEROS</td>\n",
       "      <td>5500.0</td>\n",
       "    </tr>\n",
       "    <tr>\n",
       "      <th>4739</th>\n",
       "      <td>Ildefonso José Sánchez Barcoj</td>\n",
       "      <td>2004-01-08</td>\n",
       "      <td>AGENCIAS DE VIAJES</td>\n",
       "      <td>5283.33</td>\n",
       "    </tr>\n",
       "    <tr>\n",
       "      <th>6206</th>\n",
       "      <td>Ricardo Morado Iglesias</td>\n",
       "      <td>2007-02-01</td>\n",
       "      <td>AGENCIAS BANCARIAS(ANTICIPO VENTANILLA)</td>\n",
       "      <td>5000.0</td>\n",
       "    </tr>\n",
       "    <tr>\n",
       "      <th>1446</th>\n",
       "      <td>Estanislao Rodríguez-Ponga Salamanca</td>\n",
       "      <td>2009-12-25</td>\n",
       "      <td>EL CORTE INGLES</td>\n",
       "      <td>5000.0</td>\n",
       "    </tr>\n",
       "    <tr>\n",
       "      <th>4296</th>\n",
       "      <td>Ramón Martínez Vilches</td>\n",
       "      <td>2010-07-07</td>\n",
       "      <td>AGENCIAS DE VIAJES</td>\n",
       "      <td>4955.0</td>\n",
       "    </tr>\n",
       "    <tr>\n",
       "      <th>6207</th>\n",
       "      <td>Ricardo Morado Iglesias</td>\n",
       "      <td>2007-06-25</td>\n",
       "      <td>AGENCIAS BANCARIAS(ANTICIPO VENTANILLA)</td>\n",
       "      <td>4500.0</td>\n",
       "    </tr>\n",
       "    <tr>\n",
       "      <th>4740</th>\n",
       "      <td>Ildefonso José Sánchez Barcoj</td>\n",
       "      <td>2010-03-25</td>\n",
       "      <td>EL CORTE INGLES</td>\n",
       "      <td>4320.5</td>\n",
       "    </tr>\n",
       "  </tbody>\n",
       "</table>\n",
       "</div>"
      ],
      "text/plain": [
       "                                    nombre       fecha  \\\n",
       "4737         Ildefonso José Sánchez Barcoj  2006-02-14   \n",
       "4738         Ildefonso José Sánchez Barcoj  2008-11-19   \n",
       "5684                      Matías Amat Roca  2010-11-30   \n",
       "3407       María Carmen Cafranga Cavestany  2011-02-14   \n",
       "4739         Ildefonso José Sánchez Barcoj  2004-01-08   \n",
       "6206               Ricardo Morado Iglesias  2007-02-01   \n",
       "1446  Estanislao Rodríguez-Ponga Salamanca  2009-12-25   \n",
       "4296                Ramón Martínez Vilches  2010-07-07   \n",
       "6207               Ricardo Morado Iglesias  2007-06-25   \n",
       "4740         Ildefonso José Sánchez Barcoj  2010-03-25   \n",
       "\n",
       "                           actividad_completa  importe  \n",
       "4737  AGENCIAS BANCARIAS(ANTICIPO VENTANILLA)  11000.0  \n",
       "4738                          EL CORTE INGLES   6593.2  \n",
       "5684                       AGENCIAS DE VIAJES  6519.12  \n",
       "3407   V.DIST.VIAJES Y TRANSPORTE DE VIAJEROS   5500.0  \n",
       "4739                       AGENCIAS DE VIAJES  5283.33  \n",
       "6206  AGENCIAS BANCARIAS(ANTICIPO VENTANILLA)   5000.0  \n",
       "1446                          EL CORTE INGLES   5000.0  \n",
       "4296                       AGENCIAS DE VIAJES   4955.0  \n",
       "6207  AGENCIAS BANCARIAS(ANTICIPO VENTANILLA)   4500.0  \n",
       "4740                          EL CORTE INGLES   4320.5  "
      ]
     },
     "execution_count": 17,
     "metadata": {},
     "output_type": "execute_result"
    }
   ],
   "source": [
    "df.sort_values('importe', ascending = False).head(10)"
   ]
  },
  {
   "cell_type": "markdown",
   "metadata": {
    "collapsed": true
   },
   "source": [
    "### Los movimientos de una persona concreta"
   ]
  },
  {
   "cell_type": "markdown",
   "metadata": {},
   "source": [
    "Se resuelve la query con la base de datos, ya que la PARTITION KEY es el campo **nombre**, y los registros están ordenados por importe"
   ]
  },
  {
   "cell_type": "code",
   "execution_count": 18,
   "metadata": {
    "collapsed": false
   },
   "outputs": [
    {
     "data": {
      "text/html": [
       "<div>\n",
       "<style>\n",
       "    .dataframe thead tr:only-child th {\n",
       "        text-align: right;\n",
       "    }\n",
       "\n",
       "    .dataframe thead th {\n",
       "        text-align: left;\n",
       "    }\n",
       "\n",
       "    .dataframe tbody tr th {\n",
       "        vertical-align: top;\n",
       "    }\n",
       "</style>\n",
       "<table border=\"1\" class=\"dataframe\">\n",
       "  <thead>\n",
       "    <tr style=\"text-align: right;\">\n",
       "      <th></th>\n",
       "      <th>nombre</th>\n",
       "      <th>fecha</th>\n",
       "      <th>actividad_completa</th>\n",
       "      <th>importe</th>\n",
       "    </tr>\n",
       "  </thead>\n",
       "  <tbody>\n",
       "    <tr>\n",
       "      <th>0</th>\n",
       "      <td>Javier de Miguel Sánchez</td>\n",
       "      <td>2010-01-12</td>\n",
       "      <td>MATERIALES CONSTRUCCION,FONTANERIA,SANEA</td>\n",
       "      <td>383.0</td>\n",
       "    </tr>\n",
       "    <tr>\n",
       "      <th>1</th>\n",
       "      <td>Javier de Miguel Sánchez</td>\n",
       "      <td>2009-05-30</td>\n",
       "      <td>CONFECCION TEXTIL EN GENERAL</td>\n",
       "      <td>350.0</td>\n",
       "    </tr>\n",
       "    <tr>\n",
       "      <th>2</th>\n",
       "      <td>Javier de Miguel Sánchez</td>\n",
       "      <td>2010-01-12</td>\n",
       "      <td>MATERIALES CONSTRUCCION,FONTANERIA,SANEA</td>\n",
       "      <td>345.0</td>\n",
       "    </tr>\n",
       "    <tr>\n",
       "      <th>3</th>\n",
       "      <td>Javier de Miguel Sánchez</td>\n",
       "      <td>2009-03-27</td>\n",
       "      <td>HIPERCOR SUPERMERCADOS EL CORTE INGLES</td>\n",
       "      <td>268.5</td>\n",
       "    </tr>\n",
       "    <tr>\n",
       "      <th>4</th>\n",
       "      <td>Javier de Miguel Sánchez</td>\n",
       "      <td>2010-01-19</td>\n",
       "      <td>FERRETERIA,BRICOLAJE,MENAJE DEL HOGAR</td>\n",
       "      <td>260.72</td>\n",
       "    </tr>\n",
       "    <tr>\n",
       "      <th>5</th>\n",
       "      <td>Javier de Miguel Sánchez</td>\n",
       "      <td>2004-04-21</td>\n",
       "      <td>JOYERIAS Y RELOJERIAS</td>\n",
       "      <td>240.0</td>\n",
       "    </tr>\n",
       "    <tr>\n",
       "      <th>6</th>\n",
       "      <td>Javier de Miguel Sánchez</td>\n",
       "      <td>2009-05-29</td>\n",
       "      <td>HIPERCOR SUPERMERCADOS EL CORTE INGLES</td>\n",
       "      <td>236.05</td>\n",
       "    </tr>\n",
       "    <tr>\n",
       "      <th>7</th>\n",
       "      <td>Javier de Miguel Sánchez</td>\n",
       "      <td>2008-12-29</td>\n",
       "      <td>HIPERCOR SUPERMERCADOS EL CORTE INGLES</td>\n",
       "      <td>236.0</td>\n",
       "    </tr>\n",
       "    <tr>\n",
       "      <th>8</th>\n",
       "      <td>Javier de Miguel Sánchez</td>\n",
       "      <td>2006-08-30</td>\n",
       "      <td>EL CORTE INGLES</td>\n",
       "      <td>233.39</td>\n",
       "    </tr>\n",
       "    <tr>\n",
       "      <th>9</th>\n",
       "      <td>Javier de Miguel Sánchez</td>\n",
       "      <td>2004-07-14</td>\n",
       "      <td>RESTAURANTES RESTO</td>\n",
       "      <td>213.25</td>\n",
       "    </tr>\n",
       "  </tbody>\n",
       "</table>\n",
       "</div>"
      ],
      "text/plain": [
       "                     nombre       fecha  \\\n",
       "0  Javier de Miguel Sánchez  2010-01-12   \n",
       "1  Javier de Miguel Sánchez  2009-05-30   \n",
       "2  Javier de Miguel Sánchez  2010-01-12   \n",
       "3  Javier de Miguel Sánchez  2009-03-27   \n",
       "4  Javier de Miguel Sánchez  2010-01-19   \n",
       "5  Javier de Miguel Sánchez  2004-04-21   \n",
       "6  Javier de Miguel Sánchez  2009-05-29   \n",
       "7  Javier de Miguel Sánchez  2008-12-29   \n",
       "8  Javier de Miguel Sánchez  2006-08-30   \n",
       "9  Javier de Miguel Sánchez  2004-07-14   \n",
       "\n",
       "                         actividad_completa importe  \n",
       "0  MATERIALES CONSTRUCCION,FONTANERIA,SANEA   383.0  \n",
       "1              CONFECCION TEXTIL EN GENERAL   350.0  \n",
       "2  MATERIALES CONSTRUCCION,FONTANERIA,SANEA   345.0  \n",
       "3    HIPERCOR SUPERMERCADOS EL CORTE INGLES   268.5  \n",
       "4     FERRETERIA,BRICOLAJE,MENAJE DEL HOGAR  260.72  \n",
       "5                     JOYERIAS Y RELOJERIAS   240.0  \n",
       "6    HIPERCOR SUPERMERCADOS EL CORTE INGLES  236.05  \n",
       "7    HIPERCOR SUPERMERCADOS EL CORTE INGLES   236.0  \n",
       "8                           EL CORTE INGLES  233.39  \n",
       "9                        RESTAURANTES RESTO  213.25  "
      ]
     },
     "execution_count": 18,
     "metadata": {},
     "output_type": "execute_result"
    }
   ],
   "source": [
    "sql = \"\"\"\n",
    "select nombre, fecha, actividad_completa, importe\n",
    "from movimientos\n",
    "where nombre = 'Javier de Miguel Sánchez'\n",
    "limit 10\n",
    "\"\"\"\n",
    "execute_query(sql)"
   ]
  },
  {
   "cell_type": "markdown",
   "metadata": {},
   "source": [
    "### Las 10 personas que mas han gastado"
   ]
  },
  {
   "cell_type": "markdown",
   "metadata": {},
   "source": [
    "Esta consulta se pueder resolver mediante el acumulado que habíamos creado ad-doc. Observa que el importe es entero, por lo que hay que dividirlo por 100 para convertirlo a decimal"
   ]
  },
  {
   "cell_type": "code",
   "execution_count": 19,
   "metadata": {
    "collapsed": false
   },
   "outputs": [],
   "source": [
    "sql = \"\"\"\n",
    "select *\n",
    "from acum_movimientos_nombre\n",
    "\"\"\"\n",
    "df = execute_query(sql)"
   ]
  },
  {
   "cell_type": "code",
   "execution_count": 20,
   "metadata": {
    "collapsed": false
   },
   "outputs": [
    {
     "data": {
      "text/html": [
       "<div>\n",
       "<style>\n",
       "    .dataframe thead tr:only-child th {\n",
       "        text-align: right;\n",
       "    }\n",
       "\n",
       "    .dataframe thead th {\n",
       "        text-align: left;\n",
       "    }\n",
       "\n",
       "    .dataframe tbody tr th {\n",
       "        vertical-align: top;\n",
       "    }\n",
       "</style>\n",
       "<table border=\"1\" class=\"dataframe\">\n",
       "  <thead>\n",
       "    <tr style=\"text-align: right;\">\n",
       "      <th></th>\n",
       "      <th>nombre</th>\n",
       "      <th>importe</th>\n",
       "    </tr>\n",
       "  </thead>\n",
       "  <tbody>\n",
       "    <tr>\n",
       "      <th>57</th>\n",
       "      <td>Ildefonso José Sánchez Barcoj</td>\n",
       "      <td>64590.50</td>\n",
       "    </tr>\n",
       "    <tr>\n",
       "      <th>73</th>\n",
       "      <td>Ricardo Morado Iglesias</td>\n",
       "      <td>47292.08</td>\n",
       "    </tr>\n",
       "    <tr>\n",
       "      <th>72</th>\n",
       "      <td>José Antonio Moral Santín</td>\n",
       "      <td>41207.26</td>\n",
       "    </tr>\n",
       "    <tr>\n",
       "      <th>59</th>\n",
       "      <td>Juan Manuel Astorqui Portera</td>\n",
       "      <td>39946.33</td>\n",
       "    </tr>\n",
       "    <tr>\n",
       "      <th>67</th>\n",
       "      <td>Matías Amat Roca</td>\n",
       "      <td>39820.26</td>\n",
       "    </tr>\n",
       "    <tr>\n",
       "      <th>36</th>\n",
       "      <td>Carlos María Martínez Martínez</td>\n",
       "      <td>39473.01</td>\n",
       "    </tr>\n",
       "    <tr>\n",
       "      <th>55</th>\n",
       "      <td>Miguel Blesa de la Parra</td>\n",
       "      <td>35475.15</td>\n",
       "    </tr>\n",
       "    <tr>\n",
       "      <th>4</th>\n",
       "      <td>Ramón Ferraz Ricarte</td>\n",
       "      <td>30612.27</td>\n",
       "    </tr>\n",
       "    <tr>\n",
       "      <th>33</th>\n",
       "      <td>Maria Mercedes de la Merced Monge</td>\n",
       "      <td>26030.22</td>\n",
       "    </tr>\n",
       "    <tr>\n",
       "      <th>30</th>\n",
       "      <td>Mariano Pérez Claver</td>\n",
       "      <td>25113.06</td>\n",
       "    </tr>\n",
       "  </tbody>\n",
       "</table>\n",
       "</div>"
      ],
      "text/plain": [
       "                               nombre   importe\n",
       "57      Ildefonso José Sánchez Barcoj  64590.50\n",
       "73            Ricardo Morado Iglesias  47292.08\n",
       "72          José Antonio Moral Santín  41207.26\n",
       "59       Juan Manuel Astorqui Portera  39946.33\n",
       "67                   Matías Amat Roca  39820.26\n",
       "36     Carlos María Martínez Martínez  39473.01\n",
       "55           Miguel Blesa de la Parra  35475.15\n",
       "4                Ramón Ferraz Ricarte  30612.27\n",
       "33  Maria Mercedes de la Merced Monge  26030.22\n",
       "30               Mariano Pérez Claver  25113.06"
      ]
     },
     "execution_count": 20,
     "metadata": {},
     "output_type": "execute_result"
    }
   ],
   "source": [
    "df.assign(importe = df.importe / 100).sort_values('importe', ascending = False).head(10)"
   ]
  },
  {
   "cell_type": "markdown",
   "metadata": {},
   "source": [
    "### Los 10 movimientos mas caros por actividad"
   ]
  },
  {
   "cell_type": "markdown",
   "metadata": {},
   "source": [
    "Esta consulta se pueder resolver mediante la vista materializa que hemos creado ad-hoc para resolver esta consulta"
   ]
  },
  {
   "cell_type": "code",
   "execution_count": 21,
   "metadata": {
    "collapsed": false
   },
   "outputs": [
    {
     "data": {
      "text/html": [
       "<div>\n",
       "<style>\n",
       "    .dataframe thead tr:only-child th {\n",
       "        text-align: right;\n",
       "    }\n",
       "\n",
       "    .dataframe thead th {\n",
       "        text-align: left;\n",
       "    }\n",
       "\n",
       "    .dataframe tbody tr th {\n",
       "        vertical-align: top;\n",
       "    }\n",
       "</style>\n",
       "<table border=\"1\" class=\"dataframe\">\n",
       "  <thead>\n",
       "    <tr style=\"text-align: right;\">\n",
       "      <th></th>\n",
       "      <th>nombre</th>\n",
       "      <th>fecha</th>\n",
       "      <th>actividad</th>\n",
       "      <th>actividad_completa</th>\n",
       "      <th>importe</th>\n",
       "    </tr>\n",
       "  </thead>\n",
       "  <tbody>\n",
       "    <tr>\n",
       "      <th>0</th>\n",
       "      <td>Miguel Ángel Araujo Serrano</td>\n",
       "      <td>2007-10-14</td>\n",
       "      <td>HOGAR</td>\n",
       "      <td>MUEBLES,ANTIGUEDADES Y GALERIAS DE ARTE</td>\n",
       "      <td>2150.0</td>\n",
       "    </tr>\n",
       "    <tr>\n",
       "      <th>1</th>\n",
       "      <td>Mariano Pérez Claver</td>\n",
       "      <td>2003-04-11</td>\n",
       "      <td>HOGAR</td>\n",
       "      <td>MUEBLES,ANTIGUEDADES Y GALERIAS DE ARTE</td>\n",
       "      <td>2072.0</td>\n",
       "    </tr>\n",
       "    <tr>\n",
       "      <th>2</th>\n",
       "      <td>Carlos María Martínez Martínez</td>\n",
       "      <td>2007-05-01</td>\n",
       "      <td>HOGAR</td>\n",
       "      <td>MUEBLES,ANTIGUEDADES Y GALERIAS DE ARTE</td>\n",
       "      <td>1510.0</td>\n",
       "    </tr>\n",
       "    <tr>\n",
       "      <th>3</th>\n",
       "      <td>Ricardo Romero de Tejada y Picatoste</td>\n",
       "      <td>2009-08-06</td>\n",
       "      <td>HOGAR</td>\n",
       "      <td>TAPICERIAS,ALFOMBRAS</td>\n",
       "      <td>1339.94</td>\n",
       "    </tr>\n",
       "    <tr>\n",
       "      <th>4</th>\n",
       "      <td>Rafael Spottorno Díaz Caro</td>\n",
       "      <td>2003-08-10</td>\n",
       "      <td>HOGAR</td>\n",
       "      <td>MIRO ESTABLECIMIENTOS</td>\n",
       "      <td>1198.0</td>\n",
       "    </tr>\n",
       "    <tr>\n",
       "      <th>5</th>\n",
       "      <td>Ricardo Romero de Tejada y Picatoste</td>\n",
       "      <td>2008-02-14</td>\n",
       "      <td>HOGAR</td>\n",
       "      <td>FLORES Y PLANTAS</td>\n",
       "      <td>1000.0</td>\n",
       "    </tr>\n",
       "    <tr>\n",
       "      <th>6</th>\n",
       "      <td>Ricardo Romero de Tejada y Picatoste</td>\n",
       "      <td>2009-04-06</td>\n",
       "      <td>HOGAR</td>\n",
       "      <td>ELECTRODOMESTICOS,EQUIPOS ELECTRICOS</td>\n",
       "      <td>1000.0</td>\n",
       "    </tr>\n",
       "    <tr>\n",
       "      <th>7</th>\n",
       "      <td>Alejandro Couceiro Ojeda</td>\n",
       "      <td>2005-05-09</td>\n",
       "      <td>HOGAR</td>\n",
       "      <td>ELECTRODOMESTICOS,EQUIPOS ELECTRICOS</td>\n",
       "      <td>948.0</td>\n",
       "    </tr>\n",
       "    <tr>\n",
       "      <th>8</th>\n",
       "      <td>Enrique de la Torre Martínez</td>\n",
       "      <td>2003-01-02</td>\n",
       "      <td>HOGAR</td>\n",
       "      <td>FERRETERIA,BRICOLAJE,MENAJE DEL HOGAR</td>\n",
       "      <td>912.0</td>\n",
       "    </tr>\n",
       "    <tr>\n",
       "      <th>9</th>\n",
       "      <td>Pablo Abejas Juárez</td>\n",
       "      <td>2011-03-27</td>\n",
       "      <td>HOGAR</td>\n",
       "      <td>IKEA</td>\n",
       "      <td>835.65</td>\n",
       "    </tr>\n",
       "  </tbody>\n",
       "</table>\n",
       "</div>"
      ],
      "text/plain": [
       "                                 nombre       fecha actividad  \\\n",
       "0           Miguel Ángel Araujo Serrano  2007-10-14     HOGAR   \n",
       "1                  Mariano Pérez Claver  2003-04-11     HOGAR   \n",
       "2        Carlos María Martínez Martínez  2007-05-01     HOGAR   \n",
       "3  Ricardo Romero de Tejada y Picatoste  2009-08-06     HOGAR   \n",
       "4            Rafael Spottorno Díaz Caro  2003-08-10     HOGAR   \n",
       "5  Ricardo Romero de Tejada y Picatoste  2008-02-14     HOGAR   \n",
       "6  Ricardo Romero de Tejada y Picatoste  2009-04-06     HOGAR   \n",
       "7              Alejandro Couceiro Ojeda  2005-05-09     HOGAR   \n",
       "8          Enrique de la Torre Martínez  2003-01-02     HOGAR   \n",
       "9                   Pablo Abejas Juárez  2011-03-27     HOGAR   \n",
       "\n",
       "                        actividad_completa  importe  \n",
       "0  MUEBLES,ANTIGUEDADES Y GALERIAS DE ARTE   2150.0  \n",
       "1  MUEBLES,ANTIGUEDADES Y GALERIAS DE ARTE   2072.0  \n",
       "2  MUEBLES,ANTIGUEDADES Y GALERIAS DE ARTE   1510.0  \n",
       "3                     TAPICERIAS,ALFOMBRAS  1339.94  \n",
       "4                    MIRO ESTABLECIMIENTOS   1198.0  \n",
       "5                         FLORES Y PLANTAS   1000.0  \n",
       "6     ELECTRODOMESTICOS,EQUIPOS ELECTRICOS   1000.0  \n",
       "7     ELECTRODOMESTICOS,EQUIPOS ELECTRICOS    948.0  \n",
       "8    FERRETERIA,BRICOLAJE,MENAJE DEL HOGAR    912.0  \n",
       "9                                     IKEA   835.65  "
      ]
     },
     "execution_count": 21,
     "metadata": {},
     "output_type": "execute_result"
    }
   ],
   "source": [
    "sql = \"\"\"\n",
    "select nombre, fecha, actividad, actividad_completa, importe\n",
    "from vm_movimientos_by_actividad\n",
    "where actividad = 'HOGAR'\n",
    "limit 10\n",
    "\"\"\"\n",
    "execute_query(sql)"
   ]
  },
  {
   "cell_type": "code",
   "execution_count": null,
   "metadata": {
    "collapsed": true
   },
   "outputs": [],
   "source": []
  }
 ],
 "metadata": {
  "kernelspec": {
   "display_name": "Python 2",
   "language": "python",
   "name": "python2"
  },
  "language_info": {
   "codemirror_mode": {
    "name": "ipython",
    "version": 2
   },
   "file_extension": ".py",
   "mimetype": "text/x-python",
   "name": "python",
   "nbconvert_exporter": "python",
   "pygments_lexer": "ipython2",
   "version": "2.7.6"
  }
 },
 "nbformat": 4,
 "nbformat_minor": 0
}
