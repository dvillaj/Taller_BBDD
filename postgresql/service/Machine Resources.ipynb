{
 "cells": [
  {
   "cell_type": "markdown",
   "metadata": {},
   "source": [
    "# Resources"
   ]
  },
  {
   "cell_type": "markdown",
   "metadata": {},
   "source": [
    "## Setup"
   ]
  },
  {
   "cell_type": "code",
   "execution_count": 3,
   "metadata": {},
   "outputs": [],
   "source": [
    "%alias portainer docker-compose -f /opt/compose/compose-portainer/docker-compose.yml"
   ]
  },
  {
   "cell_type": "markdown",
   "metadata": {},
   "source": [
    "## Glances"
   ]
  },
  {
   "cell_type": "markdown",
   "metadata": {},
   "source": [
    "Glances is an web appication for monitoring the machine resources"
   ]
  },
  {
   "cell_type": "markdown",
   "metadata": {},
   "source": [
    "http://localhost:61208"
   ]
  },
  {
   "cell_type": "markdown",
   "metadata": {},
   "source": [
    "## Portainer"
   ]
  },
  {
   "cell_type": "markdown",
   "metadata": {},
   "source": [
    "Portainer is an web appication for monitoring docker images and containers"
   ]
  },
  {
   "cell_type": "markdown",
   "metadata": {},
   "source": [
    "### Up"
   ]
  },
  {
   "cell_type": "code",
   "execution_count": 11,
   "metadata": {},
   "outputs": [
    {
     "name": "stdout",
     "output_type": "stream",
     "text": [
      "Creating network \"compose-portainer_local\" with driver \"bridge\"\n",
      "Creating compose-portainer_portainer_1 ... \n",
      "\u001b[1Bting compose-portainer_portainer_1 ... \u001b[32mdone\u001b[0m"
     ]
    }
   ],
   "source": [
    "portainer up -d"
   ]
  },
  {
   "cell_type": "markdown",
   "metadata": {},
   "source": [
    "### Access Portainer"
   ]
  },
  {
   "cell_type": "markdown",
   "metadata": {},
   "source": [
    "http://localhost:9000\n"
   ]
  },
  {
   "cell_type": "markdown",
   "metadata": {},
   "source": [
    "Credential:  \n",
    "User: `admin`\n",
    "Pass: `password`"
   ]
  },
  {
   "cell_type": "markdown",
   "metadata": {},
   "source": [
    "### Down"
   ]
  },
  {
   "cell_type": "code",
   "execution_count": 9,
   "metadata": {},
   "outputs": [
    {
     "name": "stdout",
     "output_type": "stream",
     "text": [
      "Stopping compose-portainer_portainer_1 ... \n",
      "\u001b[1BRemoving compose-portainer_portainer_1 ... mdone\u001b[0m\n",
      "\u001b[1BRemoving network compose-portainer_local[32mdone\u001b[0m\n"
     ]
    }
   ],
   "source": [
    "portainer down"
   ]
  },
  {
   "cell_type": "markdown",
   "metadata": {},
   "source": [
    "## Memory"
   ]
  },
  {
   "cell_type": "code",
   "execution_count": 1,
   "metadata": {},
   "outputs": [
    {
     "name": "stdout",
     "output_type": "stream",
     "text": [
      "              total        used        free      shared  buff/cache   available\n",
      "Mem:          1.9Gi       363Mi       196Mi       0.0Ki       1.4Gi       1.4Gi\n",
      "Swap:         2.0Gi        93Mi       1.9Gi\n"
     ]
    }
   ],
   "source": [
    "!free -h"
   ]
  },
  {
   "cell_type": "markdown",
   "metadata": {},
   "source": [
    "## Disk"
   ]
  },
  {
   "cell_type": "code",
   "execution_count": 2,
   "metadata": {},
   "outputs": [
    {
     "name": "stdout",
     "output_type": "stream",
     "text": [
      "Filesystem      Size  Used Avail Use% Mounted on\n",
      "/dev/vda1        49G   11G   39G  21% /\n"
     ]
    }
   ],
   "source": [
    "!df -h /"
   ]
  },
  {
   "cell_type": "markdown",
   "metadata": {},
   "source": [
    "## CPU"
   ]
  },
  {
   "cell_type": "code",
   "execution_count": 3,
   "metadata": {},
   "outputs": [
    {
     "name": "stdout",
     "output_type": "stream",
     "text": [
      "\u001b[?1h\u001b=\u001b[H\u001b[2J\u001b[mtop - 10:46:00 up  2:24,  0 users,  load average: 0.09, 0.09, 0.14\u001b[m\u001b[m\u001b[m\u001b[m\u001b[K\n",
      "Tasks:\u001b[m\u001b[m\u001b[1m 106 \u001b[m\u001b[mtotal,\u001b[m\u001b[m\u001b[1m   1 \u001b[m\u001b[mrunning,\u001b[m\u001b[m\u001b[1m 105 \u001b[m\u001b[msleeping,\u001b[m\u001b[m\u001b[1m   0 \u001b[m\u001b[mstopped,\u001b[m\u001b[m\u001b[1m   0 \u001b[m\u001b[mzombie\u001b[m\u001b[m\u001b[m\u001b[m\u001b[K\n",
      "%Cpu(s):\u001b[m\u001b[m\u001b[1m  6.1 \u001b[m\u001b[mus,\u001b[m\u001b[m\u001b[1m  3.0 \u001b[m\u001b[msy,\u001b[m\u001b[m\u001b[1m  0.0 \u001b[m\u001b[mni,\u001b[m\u001b[m\u001b[1m 90.9 \u001b[m\u001b[mid,\u001b[m\u001b[m\u001b[1m  0.0 \u001b[m\u001b[mwa,\u001b[m\u001b[m\u001b[1m  0.0 \u001b[m\u001b[mhi,\u001b[m\u001b[m\u001b[1m  0.0 \u001b[m\u001b[msi,\u001b[m\u001b[m\u001b[1m  0.0 \u001b[m\u001b[mst\u001b[m\u001b[m\u001b[m\u001b[m\u001b[K\n",
      "GiB Mem :\u001b[m\u001b[m\u001b[1m      1.9 \u001b[m\u001b[mtotal,\u001b[m\u001b[m\u001b[1m      0.1 \u001b[m\u001b[mfree,\u001b[m\u001b[m\u001b[1m      0.3 \u001b[m\u001b[mused,\u001b[m\u001b[m\u001b[1m      1.5 \u001b[m\u001b[mbuff/cache\u001b[m\u001b[m\u001b[m\u001b[m\u001b[K\n",
      "GiB Swap:\u001b[m\u001b[m\u001b[1m      2.0 \u001b[m\u001b[mtotal,\u001b[m\u001b[m\u001b[1m      1.9 \u001b[m\u001b[mfree,\u001b[m\u001b[m\u001b[1m      0.1 \u001b[m\u001b[mused.\u001b[m\u001b[m\u001b[1m      1.5 \u001b[m\u001b[mavail Mem \u001b[m\u001b[m\u001b[m\u001b[m\u001b[K\n",
      "\u001b[K\n",
      "\u001b[7m    PID USER      PR  NI    VIRT    RES    SHR S  %CPU  %MEM     TIME+ COMMAND  \u001b[m\u001b[m\u001b[K\n",
      "\u001b[m  35411 learner   20   0 1143840  73232  13772 S   6.2   3.6   0:25.27 jupyter+ \u001b[m\u001b[m\u001b[K\n",
      "\u001b[m  40718 learner   20   0  785264  91868  27740 S   6.2   4.5   0:01.10 python   \u001b[m\u001b[m\u001b[K\n",
      "\u001b[m\u001b[1m  40748 learner   20   0   11008   3740   3232 R   6.2   0.2   0:00.01 top      \u001b[m\u001b[m\u001b[K\n",
      "\u001b[m      1 root      20   0  103152   9676   6076 S   0.0   0.5   0:02.65 systemd  \u001b[m\u001b[m\u001b[K\n",
      "\u001b[m      2 root      20   0       0      0      0 S   0.0   0.0   0:00.00 kthreadd \u001b[m\u001b[m\u001b[K\n",
      "\u001b[m      3 root       0 -20       0      0      0 I   0.0   0.0   0:00.00 rcu_gp   \u001b[m\u001b[m\u001b[K\n",
      "\u001b[m      4 root       0 -20       0      0      0 I   0.0   0.0   0:00.00 rcu_par+ \u001b[m\u001b[m\u001b[K\n",
      "\u001b[m      6 root       0 -20       0      0      0 I   0.0   0.0   0:00.00 kworker+ \u001b[m\u001b[m\u001b[K\n",
      "\u001b[m      9 root       0 -20       0      0      0 I   0.0   0.0   0:00.00 mm_perc+ \u001b[m\u001b[m\u001b[K\n",
      "\u001b[m     10 root      20   0       0      0      0 S   0.0   0.0   0:01.20 ksoftir+ \u001b[m\u001b[m\u001b[K\n",
      "\u001b[m     11 root      20   0       0      0      0 I   0.0   0.0   0:01.78 rcu_sch+ \u001b[m\u001b[m\u001b[K\n",
      "\u001b[m     12 root      rt   0       0      0      0 S   0.0   0.0   0:00.13 migrati+ \u001b[m\u001b[m\u001b[K\n",
      "\u001b[m     13 root     -51   0       0      0      0 S   0.0   0.0   0:00.00 idle_in+ \u001b[m\u001b[m\u001b[K\n",
      "\u001b[m     14 root      20   0       0      0      0 S   0.0   0.0   0:00.00 cpuhp/0  \u001b[m\u001b[m\u001b[K\n",
      "\u001b[m     15 root      20   0       0      0      0 S   0.0   0.0   0:00.00 cpuhp/1  \u001b[m\u001b[m\u001b[K\n",
      "\u001b[m     16 root     -51   0       0      0      0 S   0.0   0.0   0:00.00 idle_in+ \u001b[m\u001b[m\u001b[K\n",
      "\u001b[m     17 root      rt   0       0      0      0 S   0.0   0.0   0:00.32 migrati+ \u001b[m\u001b[m\u001b[K\u001b[?1l\u001b>\u001b[25;1H\n",
      "\u001b[K"
     ]
    }
   ],
   "source": [
    "!top -n 1 -E g"
   ]
  }
 ],
 "metadata": {
  "kernelspec": {
   "display_name": "Python 3 (ipykernel)",
   "language": "python",
   "name": "python3"
  },
  "language_info": {
   "codemirror_mode": {
    "name": "ipython",
    "version": 3
   },
   "file_extension": ".py",
   "mimetype": "text/x-python",
   "name": "python",
   "nbconvert_exporter": "python",
   "pygments_lexer": "ipython3",
   "version": "3.8.10"
  }
 },
 "nbformat": 4,
 "nbformat_minor": 4
}
