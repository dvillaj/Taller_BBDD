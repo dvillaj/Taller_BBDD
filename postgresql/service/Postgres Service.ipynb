{
 "cells": [
  {
   "cell_type": "markdown",
   "metadata": {},
   "source": [
    "# Setup"
   ]
  },
  {
   "cell_type": "code",
   "execution_count": 1,
   "metadata": {},
   "outputs": [],
   "source": [
    "%alias postgres /usr/local/bin/docker-compose -f /opt/compose/compose-postgres/docker-compose.yml"
   ]
  },
  {
   "cell_type": "markdown",
   "metadata": {},
   "source": [
    "# Resources"
   ]
  },
  {
   "cell_type": "markdown",
   "metadata": {},
   "source": [
    "Abre un nuevo terminal y ejecuta el comando `htop`"
   ]
  },
  {
   "cell_type": "code",
   "execution_count": 22,
   "metadata": {},
   "outputs": [
    {
     "name": "stdout",
     "output_type": "stream",
     "text": [
      "              total        used        free      shared  buff/cache   available\n",
      "Mem:          1.9Gi       307Mi       138Mi       0.0Ki       1.5Gi       1.5Gi\n",
      "Swap:         2.0Gi        89Mi       1.9Gi\n"
     ]
    }
   ],
   "source": [
    "!free -h"
   ]
  },
  {
   "cell_type": "code",
   "execution_count": 23,
   "metadata": {},
   "outputs": [
    {
     "name": "stdout",
     "output_type": "stream",
     "text": [
      "\u001b[?1h\u001b=\u001b[H\u001b[2J\u001b[mtop - 10:35:52 up  2:14,  0 users,  load average: 0.14, 0.10, 0.21\u001b[m\u001b[m\u001b[m\u001b[m\u001b[K\n",
      "Tasks:\u001b[m\u001b[m\u001b[1m 107 \u001b[m\u001b[mtotal,\u001b[m\u001b[m\u001b[1m   1 \u001b[m\u001b[mrunning,\u001b[m\u001b[m\u001b[1m 106 \u001b[m\u001b[msleeping,\u001b[m\u001b[m\u001b[1m   0 \u001b[m\u001b[mstopped,\u001b[m\u001b[m\u001b[1m   0 \u001b[m\u001b[mzombie\u001b[m\u001b[m\u001b[m\u001b[m\u001b[K\n",
      "%Cpu(s):\u001b[m\u001b[m\u001b[1m  3.2 \u001b[m\u001b[mus,\u001b[m\u001b[m\u001b[1m  0.0 \u001b[m\u001b[msy,\u001b[m\u001b[m\u001b[1m  0.0 \u001b[m\u001b[mni,\u001b[m\u001b[m\u001b[1m 96.8 \u001b[m\u001b[mid,\u001b[m\u001b[m\u001b[1m  0.0 \u001b[m\u001b[mwa,\u001b[m\u001b[m\u001b[1m  0.0 \u001b[m\u001b[mhi,\u001b[m\u001b[m\u001b[1m  0.0 \u001b[m\u001b[msi,\u001b[m\u001b[m\u001b[1m  0.0 \u001b[m\u001b[mst\u001b[m\u001b[m\u001b[m\u001b[m\u001b[K\n",
      "GiB Mem :\u001b[m\u001b[m\u001b[1m      1.9 \u001b[m\u001b[mtotal,\u001b[m\u001b[m\u001b[1m      0.1 \u001b[m\u001b[mfree,\u001b[m\u001b[m\u001b[1m      0.3 \u001b[m\u001b[mused,\u001b[m\u001b[m\u001b[1m      1.5 \u001b[m\u001b[mbuff/cache\u001b[m\u001b[m\u001b[m\u001b[m\u001b[K\n",
      "GiB Swap:\u001b[m\u001b[m\u001b[1m      2.0 \u001b[m\u001b[mtotal,\u001b[m\u001b[m\u001b[1m      1.9 \u001b[m\u001b[mfree,\u001b[m\u001b[m\u001b[1m      0.1 \u001b[m\u001b[mused.\u001b[m\u001b[m\u001b[1m      1.5 \u001b[m\u001b[mavail Mem \u001b[m\u001b[m\u001b[m\u001b[m\u001b[K\n",
      "\u001b[K\n",
      "\u001b[7m    PID USER      PR  NI    VIRT    RES    SHR S  %CPU  %MEM     TIME+ COMMAND  \u001b[m\u001b[m\u001b[K\n",
      "\u001b[m      1 root      20   0  103152   9676   6076 S   0.0   0.5   0:02.64 systemd  \u001b[m\u001b[m\u001b[K\n",
      "\u001b[m      2 root      20   0       0      0      0 S   0.0   0.0   0:00.00 kthreadd \u001b[m\u001b[m\u001b[K\n",
      "\u001b[m      3 root       0 -20       0      0      0 I   0.0   0.0   0:00.00 rcu_gp   \u001b[m\u001b[m\u001b[K\n",
      "\u001b[m      4 root       0 -20       0      0      0 I   0.0   0.0   0:00.00 rcu_par+ \u001b[m\u001b[m\u001b[K\n",
      "\u001b[m      6 root       0 -20       0      0      0 I   0.0   0.0   0:00.00 kworker+ \u001b[m\u001b[m\u001b[K\n",
      "\u001b[m      9 root       0 -20       0      0      0 I   0.0   0.0   0:00.00 mm_perc+ \u001b[m\u001b[m\u001b[K\n",
      "\u001b[m     10 root      20   0       0      0      0 S   0.0   0.0   0:01.16 ksoftir+ \u001b[m\u001b[m\u001b[K\n",
      "\u001b[m     11 root      20   0       0      0      0 I   0.0   0.0   0:01.47 rcu_sch+ \u001b[m\u001b[m\u001b[K\n",
      "\u001b[m     12 root      rt   0       0      0      0 S   0.0   0.0   0:00.12 migrati+ \u001b[m\u001b[m\u001b[K\n",
      "\u001b[m     13 root     -51   0       0      0      0 S   0.0   0.0   0:00.00 idle_in+ \u001b[m\u001b[m\u001b[K\n",
      "\u001b[m     14 root      20   0       0      0      0 S   0.0   0.0   0:00.00 cpuhp/0  \u001b[m\u001b[m\u001b[K\n",
      "\u001b[m     15 root      20   0       0      0      0 S   0.0   0.0   0:00.00 cpuhp/1  \u001b[m\u001b[m\u001b[K\n",
      "\u001b[m     16 root     -51   0       0      0      0 S   0.0   0.0   0:00.00 idle_in+ \u001b[m\u001b[m\u001b[K\n",
      "\u001b[m     17 root      rt   0       0      0      0 S   0.0   0.0   0:00.31 migrati+ \u001b[m\u001b[m\u001b[K\n",
      "\u001b[m     18 root      20   0       0      0      0 S   0.0   0.0   0:00.30 ksoftir+ \u001b[m\u001b[m\u001b[K\n",
      "\u001b[m     20 root       0 -20       0      0      0 I   0.0   0.0   0:00.00 kworker+ \u001b[m\u001b[m\u001b[K\n",
      "\u001b[m     21 root      20   0       0      0      0 S   0.0   0.0   0:00.00 kdevtmp+ \u001b[m\u001b[m\u001b[K\u001b[?1l\u001b>\u001b[25;1H\n",
      "\u001b[K"
     ]
    }
   ],
   "source": [
    "!top -n 1 -E g"
   ]
  },
  {
   "cell_type": "markdown",
   "metadata": {},
   "source": [
    "# Start Service"
   ]
  },
  {
   "cell_type": "code",
   "execution_count": 8,
   "metadata": {},
   "outputs": [
    {
     "name": "stdout",
     "output_type": "stream",
     "text": [
      "Creating network \"compose-postgres_postgres\" with driver \"bridge\"\n",
      "Creating postgres_container ... \n",
      "Creating pgadmin_container  ... \n",
      "\u001b[1Bting pgadmin_container  ... \u001b[32mdone\u001b[0m\u001b[1A\u001b[2K"
     ]
    }
   ],
   "source": [
    "postgres up -d"
   ]
  },
  {
   "cell_type": "code",
   "execution_count": 9,
   "metadata": {},
   "outputs": [
    {
     "name": "stdout",
     "output_type": "stream",
     "text": [
      "\u001b[33mpostgres_container |\u001b[0m 2020-12-25 08:17:05.354 UTC [1] LOG:  database system is ready to accept connections\n"
     ]
    }
   ],
   "source": [
    "postgres logs | grep \"database system is ready to accept connections\""
   ]
  },
  {
   "cell_type": "markdown",
   "metadata": {},
   "source": [
    "# PgAdmin 4\n",
    "\n",
    "User: `pgadmin4@pgadmin.org`  \n",
    "Password: `admin`\n",
    "\n",
    "To connect with the postgres server create a new Server Connection using the following parameters:\n",
    "\n",
    "```\n",
    "General/Name: postgres\n",
    "Connection/Host: postgres\n",
    "Connection/Username: postgres\n",
    "Connection/Password: postgres\n",
    "```"
   ]
  },
  {
   "cell_type": "markdown",
   "metadata": {},
   "source": [
    "http://localhost:5050"
   ]
  },
  {
   "cell_type": "markdown",
   "metadata": {},
   "source": [
    "# Containers"
   ]
  },
  {
   "cell_type": "code",
   "execution_count": 3,
   "metadata": {},
   "outputs": [
    {
     "name": "stdout",
     "output_type": "stream",
     "text": [
      "       Name                  Command            State            Ports          \n",
      "--------------------------------------------------------------------------------\n",
      "pgadmin_container    /entrypoint.sh             Up      443/tcp,                \n",
      "                                                        0.0.0.0:5050->80/tcp    \n",
      "postgres_container   docker-entrypoint.sh       Up      0.0.0.0:5432->5432/tcp  \n",
      "                     postgres                                                   \n"
     ]
    }
   ],
   "source": [
    "postgres ps"
   ]
  },
  {
   "cell_type": "markdown",
   "metadata": {},
   "source": [
    "# Logs"
   ]
  },
  {
   "cell_type": "code",
   "execution_count": 4,
   "metadata": {},
   "outputs": [
    {
     "name": "stdout",
     "output_type": "stream",
     "text": [
      "\u001b[33mpostgres_container |\u001b[0m server stopped\n",
      "\u001b[33mpostgres_container |\u001b[0m \n",
      "\u001b[33mpostgres_container |\u001b[0m PostgreSQL init process complete; ready for start up.\n",
      "\u001b[33mpostgres_container |\u001b[0m \n",
      "\u001b[33mpostgres_container |\u001b[0m 2020-12-25 08:16:14.433 UTC [1] LOG:  starting PostgreSQL 12.2 (Debian 12.2-2.pgdg100+1) on x86_64-pc-linux-gnu, compiled by gcc (Debian 8.3.0-6) 8.3.0, 64-bit\n",
      "\u001b[33mpostgres_container |\u001b[0m 2020-12-25 08:16:14.433 UTC [1] LOG:  listening on IPv4 address \"0.0.0.0\", port 5432\n",
      "\u001b[33mpostgres_container |\u001b[0m 2020-12-25 08:16:14.433 UTC [1] LOG:  listening on IPv6 address \"::\", port 5432\n",
      "\u001b[33mpostgres_container |\u001b[0m 2020-12-25 08:16:14.438 UTC [1] LOG:  listening on Unix socket \"/var/run/postgresql/.s.PGSQL.5432\"\n",
      "\u001b[33mpostgres_container |\u001b[0m 2020-12-25 08:16:14.447 UTC [56] LOG:  database system was shut down at 2020-12-25 08:16:14 UTC\n",
      "\u001b[33mpostgres_container |\u001b[0m 2020-12-25 08:16:14.450 UTC [1] LOG:  database system is ready to accept connections\n"
     ]
    }
   ],
   "source": [
    "postgres logs | tail"
   ]
  },
  {
   "cell_type": "markdown",
   "metadata": {},
   "source": [
    "# Stop Service"
   ]
  },
  {
   "cell_type": "code",
   "execution_count": 5,
   "metadata": {},
   "outputs": [
    {
     "name": "stdout",
     "output_type": "stream",
     "text": [
      "Stopping pgadmin_container  ... \n",
      "Stopping postgres_container ... \n",
      "\u001b[2BRemoving pgadmin_container  ... mdone\u001b[0m\u001b[2A\u001b[2K\n",
      "Removing postgres_container ... \n",
      "\u001b[1BRemoving network compose-postgres_postgres\n"
     ]
    }
   ],
   "source": [
    "postgres down"
   ]
  },
  {
   "cell_type": "code",
   "execution_count": null,
   "metadata": {},
   "outputs": [],
   "source": []
  }
 ],
 "metadata": {
  "kernelspec": {
   "display_name": "Python 3",
   "language": "python",
   "name": "python3"
  },
  "language_info": {
   "codemirror_mode": {
    "name": "ipython",
    "version": 3
   },
   "file_extension": ".py",
   "mimetype": "text/x-python",
   "name": "python",
   "nbconvert_exporter": "python",
   "pygments_lexer": "ipython3",
   "version": "3.6.12"
  }
 },
 "nbformat": 4,
 "nbformat_minor": 4
}
