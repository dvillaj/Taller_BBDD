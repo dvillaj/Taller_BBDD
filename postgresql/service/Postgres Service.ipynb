{
 "cells": [
  {
   "cell_type": "markdown",
   "metadata": {},
   "source": [
    "# Setup"
   ]
  },
  {
   "cell_type": "code",
   "execution_count": 1,
   "metadata": {},
   "outputs": [],
   "source": [
    "%alias postgres /usr/local/bin/docker-compose -f /opt/compose/compose-postgres/docker-compose.yml"
   ]
  },
  {
   "cell_type": "markdown",
   "metadata": {},
   "source": [
    "# Resources"
   ]
  },
  {
   "cell_type": "code",
   "execution_count": 2,
   "metadata": {},
   "outputs": [],
   "source": [
    "%%bash\n",
    "sleep 1 & echo q | htop | aha --black --line-fix > ./.resources.html"
   ]
  },
  {
   "cell_type": "markdown",
   "metadata": {},
   "source": [
    "[Resources](./.resources.html)"
   ]
  },
  {
   "cell_type": "markdown",
   "metadata": {},
   "source": [
    "# Start Service"
   ]
  },
  {
   "cell_type": "code",
   "execution_count": 3,
   "metadata": {},
   "outputs": [
    {
     "name": "stdout",
     "output_type": "stream",
     "text": [
      "Creating network \"compose-postgres_postgres\" with driver \"bridge\"\n",
      "Creating volume \"compose-postgres_postgres\" with default driver\n",
      "Creating volume \"compose-postgres_pgadmin\" with default driver\n",
      "Creating pgadmin_container ... \n",
      "Creating postgres_container ... \n",
      "\u001b[1Bting postgres_container ... \u001b[32mdone\u001b[0m\u001b[1A\u001b[2K"
     ]
    }
   ],
   "source": [
    "postgres up -d"
   ]
  },
  {
   "cell_type": "markdown",
   "metadata": {},
   "source": [
    "# PgAdmin 4\n",
    "\n",
    "User: `pgadmin4@pgadmin.org`  \n",
    "Password: `admin`\n",
    "\n",
    "To connect with the postgres server create a new Server Connection using the following parameters:\n",
    "\n",
    "```\n",
    "General/Name: postgres\n",
    "Connection/Host: postgres\n",
    "Connection/Username: postgres\n",
    "Connection/Password: postgres\n",
    "```"
   ]
  },
  {
   "cell_type": "markdown",
   "metadata": {},
   "source": [
    "http://localhost:5050"
   ]
  },
  {
   "cell_type": "markdown",
   "metadata": {},
   "source": [
    "# Containers"
   ]
  },
  {
   "cell_type": "code",
   "execution_count": 4,
   "metadata": {},
   "outputs": [
    {
     "name": "stdout",
     "output_type": "stream",
     "text": [
      "       Name                  Command            State            Ports          \n",
      "--------------------------------------------------------------------------------\n",
      "pgadmin_container    /entrypoint.sh             Up      443/tcp,                \n",
      "                                                        0.0.0.0:5050->80/tcp    \n",
      "postgres_container   docker-entrypoint.sh       Up      0.0.0.0:5432->5432/tcp  \n",
      "                     postgres                                                   \n"
     ]
    }
   ],
   "source": [
    "postgres ps"
   ]
  },
  {
   "cell_type": "markdown",
   "metadata": {},
   "source": [
    "# Logs"
   ]
  },
  {
   "cell_type": "code",
   "execution_count": 5,
   "metadata": {},
   "outputs": [
    {
     "name": "stdout",
     "output_type": "stream",
     "text": [
      "\u001b[33mpostgres_container |\u001b[0m server stopped\n",
      "\u001b[33mpostgres_container |\u001b[0m \n",
      "\u001b[33mpostgres_container |\u001b[0m PostgreSQL init process complete; ready for start up.\n",
      "\u001b[33mpostgres_container |\u001b[0m \n",
      "\u001b[33mpostgres_container |\u001b[0m 2020-12-24 10:00:02.475 UTC [1] LOG:  starting PostgreSQL 12.2 (Debian 12.2-2.pgdg100+1) on x86_64-pc-linux-gnu, compiled by gcc (Debian 8.3.0-6) 8.3.0, 64-bit\n",
      "\u001b[33mpostgres_container |\u001b[0m 2020-12-24 10:00:02.476 UTC [1] LOG:  listening on IPv4 address \"0.0.0.0\", port 5432\n",
      "\u001b[33mpostgres_container |\u001b[0m 2020-12-24 10:00:02.476 UTC [1] LOG:  listening on IPv6 address \"::\", port 5432\n",
      "\u001b[33mpostgres_container |\u001b[0m 2020-12-24 10:00:02.483 UTC [1] LOG:  listening on Unix socket \"/var/run/postgresql/.s.PGSQL.5432\"\n",
      "\u001b[33mpostgres_container |\u001b[0m 2020-12-24 10:00:02.491 UTC [57] LOG:  database system was shut down at 2020-12-24 10:00:02 UTC\n",
      "\u001b[33mpostgres_container |\u001b[0m 2020-12-24 10:00:02.495 UTC [1] LOG:  database system is ready to accept connections\n"
     ]
    }
   ],
   "source": [
    "postgres logs | tail"
   ]
  },
  {
   "cell_type": "markdown",
   "metadata": {},
   "source": [
    "# Stop Service"
   ]
  },
  {
   "cell_type": "code",
   "execution_count": 6,
   "metadata": {},
   "outputs": [
    {
     "name": "stdout",
     "output_type": "stream",
     "text": [
      "Stopping postgres_container ... \n",
      "Stopping pgadmin_container  ... \n",
      "\u001b[1BRemoving postgres_container ... mdone\u001b[0m\u001b[1A\u001b[2K\n",
      "Removing pgadmin_container  ... \n",
      "\u001b[1BRemoving network compose-postgres_postgres\n"
     ]
    }
   ],
   "source": [
    "postgres down"
   ]
  },
  {
   "cell_type": "code",
   "execution_count": null,
   "metadata": {},
   "outputs": [],
   "source": []
  }
 ],
 "metadata": {
  "kernelspec": {
   "display_name": "Python 3",
   "language": "python",
   "name": "python3"
  },
  "language_info": {
   "codemirror_mode": {
    "name": "ipython",
    "version": 3
   },
   "file_extension": ".py",
   "mimetype": "text/x-python",
   "name": "python",
   "nbconvert_exporter": "python",
   "pygments_lexer": "ipython3",
   "version": "3.6.12"
  }
 },
 "nbformat": 4,
 "nbformat_minor": 4
}
