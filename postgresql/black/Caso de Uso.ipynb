{
 "cells": [
  {
   "cell_type": "markdown",
   "metadata": {},
   "source": [
    "# Tarjetas Black\n"
   ]
  },
  {
   "cell_type": "markdown",
   "metadata": {},
   "source": [
    "Vamos a utilizar un dataset de movimientos de tarjetas de crédito que provienen de tarjetas Black. \n",
    "\n",
    "El origen es el siguiente repositorio de GitHub (aunque han sido preprocesados en R):\n",
    "\n",
    "https://github.com/splatsh/tarjetasblack\n",
    "\n",
    "Originalmente la información viene de la siguiente fuente:\n",
    "\n",
    "https://www.cuartopoder.es/multimedia/2014/10/11/gastos-de-los-exdirectivos-de-caja-madrid-uno-a-uno-con-las-tarjetas-negras-tabla/3403\n",
    "\n",
    "\n",
    "## Modelo conceptual\n",
    "\n",
    "<br><br> \n",
    "\n",
    "\n",
    "<img src=\"images/Modelo%20conceptual.png\",width=800,height=500>\n",
    "<br><br> \n",
    "\n",
    "## Modelo de relación\n",
    "\n",
    "<br><br> \n",
    "\n",
    "<img src=\"images/Modelo%20relacion.png\",width=500,height=500>\n",
    "\n",
    "<br><br> \n",
    "\n",
    "## Contenido de la información\n",
    "\n",
    "Contiene la siguiente información:\n",
    "\n",
    "- Nombre: Nombre de la persona que posee la tarjeta y realiza el movimiento\n",
    "- Fecha: Fecha del movimiento\n",
    "- Hora: Hora del movimiento\n",
    "- Minuto: Minuto del movimiento\n",
    "- Importe: Importe del movimiento\n",
    "- Comercio donde se realiza el movimiento\n",
    "- Actividad Completa: Detalle de la que se dedica el comercio\n",
    "- Actividad: Contiene una clasificación de la actividad del comercio. Una Actividad puede agrupar a varios comercios\n",
    "- Función: Función que desempeña la persona dentro de su organización (Sólo para los partidos políticos)\n",
    "- Organización: Organización a la que pertenece la persona que realiza el gasto\n",
    "\n",
    "Podrían existir movimientos con campos vacíos.\n",
    "\n",
    "## Formato del fichero\n",
    "\n",
    "El fichero con los datos está comprimido, en formato CSV, y utiliza el carácter ~ cómo separador de columnas.\n"
   ]
  },
  {
   "cell_type": "markdown",
   "metadata": {},
   "source": [
    "## Preguntas\n",
    "\n",
    "Vamos a intentar resolver las siguientes preguntas:\n",
    "    \n",
    "- Los 10 movimientos mas caros por actividad\n",
    "- Los 10 movimientos mas caros\n",
    "- Los movimientos de una persona concreta (ordenados por importe)\n",
    "- Las 10 personas que mas han gastado\n",
    "- Importes de una persona agrupados por actividad\n",
    "- ¿Quién se gasta más, los concejales o los directivos?\n",
    "- ¿Qué organización se gasta más?\n",
    "- ¿Qué comercio es más popular entre los miembros?"
   ]
  },
  {
   "cell_type": "markdown",
   "metadata": {
    "collapsed": true
   },
   "source": [
    "# Preprocesado de datos\n",
    "\n",
    "Se realizará un preprocesado de datos cuyo objetico es limpiar y normalizar los datos para que se puedan utilizar más fácilmente por el resto de prácticas  \n",
    "\n",
    "El formato de salida será un fichero Microsoft Excel que contendrá los siguientes datasets:\n",
    "\n",
    "- Movimientos: Movimientos donde se han eliminado los atributos personales y se han sustituido por un ID\n",
    "- Miembros: Dataset con todas las personas que han realzado movimientos"
   ]
  },
  {
   "cell_type": "code",
   "execution_count": 1,
   "metadata": {
    "collapsed": false
   },
   "outputs": [],
   "source": [
    "import numpy as np\n",
    "import pandas as pd"
   ]
  },
  {
   "cell_type": "code",
   "execution_count": 2,
   "metadata": {
    "collapsed": false
   },
   "outputs": [],
   "source": [
    "df = pd.read_csv(\"../../data/black.txt.gz\", compression='gzip', sep='~',  index_col=False )"
   ]
  },
  {
   "cell_type": "code",
   "execution_count": 3,
   "metadata": {
    "collapsed": false
   },
   "outputs": [
    {
     "data": {
      "text/html": [
       "<div>\n",
       "<style>\n",
       "    .dataframe thead tr:only-child th {\n",
       "        text-align: right;\n",
       "    }\n",
       "\n",
       "    .dataframe thead th {\n",
       "        text-align: left;\n",
       "    }\n",
       "\n",
       "    .dataframe tbody tr th {\n",
       "        vertical-align: top;\n",
       "    }\n",
       "</style>\n",
       "<table border=\"1\" class=\"dataframe\">\n",
       "  <thead>\n",
       "    <tr style=\"text-align: right;\">\n",
       "      <th></th>\n",
       "      <th>nombre</th>\n",
       "      <th>fecha</th>\n",
       "      <th>hora</th>\n",
       "      <th>minuto</th>\n",
       "      <th>importe</th>\n",
       "      <th>comercio</th>\n",
       "      <th>actividad_completa</th>\n",
       "      <th>actividad</th>\n",
       "      <th>funcion</th>\n",
       "      <th>organizacion</th>\n",
       "    </tr>\n",
       "  </thead>\n",
       "  <tbody>\n",
       "    <tr>\n",
       "      <th>0</th>\n",
       "      <td>Alberto Recarte García Andrade</td>\n",
       "      <td>2003-01-03</td>\n",
       "      <td>12</td>\n",
       "      <td>30</td>\n",
       "      <td>38.70</td>\n",
       "      <td>RCG OFICINA</td>\n",
       "      <td>CONFECCION TEXTIL EN GENERAL</td>\n",
       "      <td>ROPA</td>\n",
       "      <td>concejal</td>\n",
       "      <td>Partido Popular</td>\n",
       "    </tr>\n",
       "    <tr>\n",
       "      <th>1</th>\n",
       "      <td>Alberto Recarte García Andrade</td>\n",
       "      <td>2003-01-03</td>\n",
       "      <td>12</td>\n",
       "      <td>32</td>\n",
       "      <td>14.60</td>\n",
       "      <td>MANZANIL AREA</td>\n",
       "      <td>HOTELES,MOTELES,BALNEARIOS,CAMPINGS REST</td>\n",
       "      <td>HOTEL</td>\n",
       "      <td>concejal</td>\n",
       "      <td>Partido Popular</td>\n",
       "    </tr>\n",
       "    <tr>\n",
       "      <th>2</th>\n",
       "      <td>Alberto Recarte García Andrade</td>\n",
       "      <td>2003-01-04</td>\n",
       "      <td>19</td>\n",
       "      <td>7</td>\n",
       "      <td>95.62</td>\n",
       "      <td>REST REAL C GOLF SOTOGRAN</td>\n",
       "      <td>RESTAURANTES RESTO</td>\n",
       "      <td>RESTAURANTE</td>\n",
       "      <td>concejal</td>\n",
       "      <td>Partido Popular</td>\n",
       "    </tr>\n",
       "    <tr>\n",
       "      <th>3</th>\n",
       "      <td>Alberto Recarte García Andrade</td>\n",
       "      <td>2003-01-07</td>\n",
       "      <td>15</td>\n",
       "      <td>31</td>\n",
       "      <td>49.13</td>\n",
       "      <td>ESTACONES DE SERVICIO ML</td>\n",
       "      <td>GASOLINERAS</td>\n",
       "      <td>COCHE</td>\n",
       "      <td>concejal</td>\n",
       "      <td>Partido Popular</td>\n",
       "    </tr>\n",
       "    <tr>\n",
       "      <th>4</th>\n",
       "      <td>Alberto Recarte García Andrade</td>\n",
       "      <td>2003-01-07</td>\n",
       "      <td>16</td>\n",
       "      <td>5</td>\n",
       "      <td>13.93</td>\n",
       "      <td>NISA (H 24) VINHOLAN  S.A.</td>\n",
       "      <td>GASOLINERAS</td>\n",
       "      <td>COCHE</td>\n",
       "      <td>concejal</td>\n",
       "      <td>Partido Popular</td>\n",
       "    </tr>\n",
       "  </tbody>\n",
       "</table>\n",
       "</div>"
      ],
      "text/plain": [
       "                           nombre       fecha  hora  minuto  importe  \\\n",
       "0  Alberto Recarte García Andrade  2003-01-03    12      30    38.70   \n",
       "1  Alberto Recarte García Andrade  2003-01-03    12      32    14.60   \n",
       "2  Alberto Recarte García Andrade  2003-01-04    19       7    95.62   \n",
       "3  Alberto Recarte García Andrade  2003-01-07    15      31    49.13   \n",
       "4  Alberto Recarte García Andrade  2003-01-07    16       5    13.93   \n",
       "\n",
       "                     comercio                        actividad_completa  \\\n",
       "0                 RCG OFICINA              CONFECCION TEXTIL EN GENERAL   \n",
       "1               MANZANIL AREA  HOTELES,MOTELES,BALNEARIOS,CAMPINGS REST   \n",
       "2   REST REAL C GOLF SOTOGRAN                        RESTAURANTES RESTO   \n",
       "3    ESTACONES DE SERVICIO ML                               GASOLINERAS   \n",
       "4  NISA (H 24) VINHOLAN  S.A.                               GASOLINERAS   \n",
       "\n",
       "     actividad   funcion     organizacion  \n",
       "0         ROPA  concejal  Partido Popular  \n",
       "1        HOTEL  concejal  Partido Popular  \n",
       "2  RESTAURANTE  concejal  Partido Popular  \n",
       "3        COCHE  concejal  Partido Popular  \n",
       "4        COCHE  concejal  Partido Popular  "
      ]
     },
     "execution_count": 3,
     "metadata": {},
     "output_type": "execute_result"
    }
   ],
   "source": [
    "df.head()"
   ]
  },
  {
   "cell_type": "markdown",
   "metadata": {},
   "source": [
    "Nos quedamos sólo con los registros únicos"
   ]
  },
  {
   "cell_type": "code",
   "execution_count": 4,
   "metadata": {
    "collapsed": false
   },
   "outputs": [
    {
     "data": {
      "text/html": [
       "<div>\n",
       "<style>\n",
       "    .dataframe thead tr:only-child th {\n",
       "        text-align: right;\n",
       "    }\n",
       "\n",
       "    .dataframe thead th {\n",
       "        text-align: left;\n",
       "    }\n",
       "\n",
       "    .dataframe tbody tr th {\n",
       "        vertical-align: top;\n",
       "    }\n",
       "</style>\n",
       "<table border=\"1\" class=\"dataframe\">\n",
       "  <thead>\n",
       "    <tr style=\"text-align: right;\">\n",
       "      <th></th>\n",
       "      <th>nombre</th>\n",
       "      <th>funcion</th>\n",
       "      <th>organizacion</th>\n",
       "    </tr>\n",
       "  </thead>\n",
       "  <tbody>\n",
       "    <tr>\n",
       "      <th>0</th>\n",
       "      <td>Alberto Recarte García Andrade</td>\n",
       "      <td>concejal</td>\n",
       "      <td>Partido Popular</td>\n",
       "    </tr>\n",
       "    <tr>\n",
       "      <th>1305</th>\n",
       "      <td>Alejandro Couceiro Ojeda</td>\n",
       "      <td>concejal</td>\n",
       "      <td>CEIM</td>\n",
       "    </tr>\n",
       "    <tr>\n",
       "      <th>1851</th>\n",
       "      <td>Ángel Eugenio Gómez del Pulgar Perales</td>\n",
       "      <td>concejal</td>\n",
       "      <td>PSOE</td>\n",
       "    </tr>\n",
       "    <tr>\n",
       "      <th>2832</th>\n",
       "      <td>Angel Rizaldos González</td>\n",
       "      <td>concejal</td>\n",
       "      <td>Izquierda Unida</td>\n",
       "    </tr>\n",
       "    <tr>\n",
       "      <th>2952</th>\n",
       "      <td>Antonio Cámara Eguinoa</td>\n",
       "      <td>concejal</td>\n",
       "      <td>Partido Popular</td>\n",
       "    </tr>\n",
       "  </tbody>\n",
       "</table>\n",
       "</div>"
      ],
      "text/plain": [
       "                                      nombre   funcion     organizacion\n",
       "0             Alberto Recarte García Andrade  concejal  Partido Popular\n",
       "1305                Alejandro Couceiro Ojeda  concejal             CEIM\n",
       "1851  Ángel Eugenio Gómez del Pulgar Perales  concejal             PSOE\n",
       "2832                 Angel Rizaldos González  concejal  Izquierda Unida\n",
       "2952                  Antonio Cámara Eguinoa  concejal  Partido Popular"
      ]
     },
     "execution_count": 4,
     "metadata": {},
     "output_type": "execute_result"
    }
   ],
   "source": [
    "df_miembros = df[[\"nombre\", \"funcion\", \"organizacion\"]].drop_duplicates()\n",
    "df_miembros.head()"
   ]
  },
  {
   "cell_type": "markdown",
   "metadata": {},
   "source": [
    "Se crea un dataset de miembros, asignado a cada persona un ID único"
   ]
  },
  {
   "cell_type": "code",
   "execution_count": 5,
   "metadata": {
    "collapsed": false
   },
   "outputs": [
    {
     "data": {
      "text/html": [
       "<div>\n",
       "<style>\n",
       "    .dataframe thead tr:only-child th {\n",
       "        text-align: right;\n",
       "    }\n",
       "\n",
       "    .dataframe thead th {\n",
       "        text-align: left;\n",
       "    }\n",
       "\n",
       "    .dataframe tbody tr th {\n",
       "        vertical-align: top;\n",
       "    }\n",
       "</style>\n",
       "<table border=\"1\" class=\"dataframe\">\n",
       "  <thead>\n",
       "    <tr style=\"text-align: right;\">\n",
       "      <th></th>\n",
       "      <th>id_miembro</th>\n",
       "      <th>nombre</th>\n",
       "      <th>funcion</th>\n",
       "      <th>organizacion</th>\n",
       "    </tr>\n",
       "  </thead>\n",
       "  <tbody>\n",
       "    <tr>\n",
       "      <th>0</th>\n",
       "      <td>1</td>\n",
       "      <td>Alberto Recarte García Andrade</td>\n",
       "      <td>concejal</td>\n",
       "      <td>Partido Popular</td>\n",
       "    </tr>\n",
       "    <tr>\n",
       "      <th>1305</th>\n",
       "      <td>2</td>\n",
       "      <td>Alejandro Couceiro Ojeda</td>\n",
       "      <td>concejal</td>\n",
       "      <td>CEIM</td>\n",
       "    </tr>\n",
       "    <tr>\n",
       "      <th>1851</th>\n",
       "      <td>83</td>\n",
       "      <td>Ángel Eugenio Gómez del Pulgar Perales</td>\n",
       "      <td>concejal</td>\n",
       "      <td>PSOE</td>\n",
       "    </tr>\n",
       "    <tr>\n",
       "      <th>2832</th>\n",
       "      <td>3</td>\n",
       "      <td>Angel Rizaldos González</td>\n",
       "      <td>concejal</td>\n",
       "      <td>Izquierda Unida</td>\n",
       "    </tr>\n",
       "    <tr>\n",
       "      <th>2952</th>\n",
       "      <td>4</td>\n",
       "      <td>Antonio Cámara Eguinoa</td>\n",
       "      <td>concejal</td>\n",
       "      <td>Partido Popular</td>\n",
       "    </tr>\n",
       "  </tbody>\n",
       "</table>\n",
       "</div>"
      ],
      "text/plain": [
       "      id_miembro                                  nombre   funcion  \\\n",
       "0              1          Alberto Recarte García Andrade  concejal   \n",
       "1305           2                Alejandro Couceiro Ojeda  concejal   \n",
       "1851          83  Ángel Eugenio Gómez del Pulgar Perales  concejal   \n",
       "2832           3                 Angel Rizaldos González  concejal   \n",
       "2952           4                  Antonio Cámara Eguinoa  concejal   \n",
       "\n",
       "         organizacion  \n",
       "0     Partido Popular  \n",
       "1305             CEIM  \n",
       "1851             PSOE  \n",
       "2832  Izquierda Unida  \n",
       "2952  Partido Popular  "
      ]
     },
     "execution_count": 5,
     "metadata": {},
     "output_type": "execute_result"
    }
   ],
   "source": [
    "df_miembros = df_miembros.assign(id_miembro = df_miembros.nombre.rank(method='min').astype(int))\n",
    "df_miembros = df_miembros[['id_miembro', 'nombre', 'funcion', 'organizacion']]\n",
    "df_miembros.head()"
   ]
  },
  {
   "cell_type": "markdown",
   "metadata": {},
   "source": [
    "Se inserta en el dataset principal el ID creado anteriormente"
   ]
  },
  {
   "cell_type": "code",
   "execution_count": 6,
   "metadata": {
    "collapsed": false
   },
   "outputs": [
    {
     "data": {
      "text/html": [
       "<div>\n",
       "<style>\n",
       "    .dataframe thead tr:only-child th {\n",
       "        text-align: right;\n",
       "    }\n",
       "\n",
       "    .dataframe thead th {\n",
       "        text-align: left;\n",
       "    }\n",
       "\n",
       "    .dataframe tbody tr th {\n",
       "        vertical-align: top;\n",
       "    }\n",
       "</style>\n",
       "<table border=\"1\" class=\"dataframe\">\n",
       "  <thead>\n",
       "    <tr style=\"text-align: right;\">\n",
       "      <th></th>\n",
       "      <th>nombre</th>\n",
       "      <th>fecha</th>\n",
       "      <th>hora</th>\n",
       "      <th>minuto</th>\n",
       "      <th>importe</th>\n",
       "      <th>comercio</th>\n",
       "      <th>actividad_completa</th>\n",
       "      <th>actividad</th>\n",
       "      <th>funcion</th>\n",
       "      <th>organizacion</th>\n",
       "      <th>id_miembro</th>\n",
       "    </tr>\n",
       "  </thead>\n",
       "  <tbody>\n",
       "    <tr>\n",
       "      <th>0</th>\n",
       "      <td>Alberto Recarte García Andrade</td>\n",
       "      <td>2003-01-03</td>\n",
       "      <td>12</td>\n",
       "      <td>30</td>\n",
       "      <td>38.70</td>\n",
       "      <td>RCG OFICINA</td>\n",
       "      <td>CONFECCION TEXTIL EN GENERAL</td>\n",
       "      <td>ROPA</td>\n",
       "      <td>concejal</td>\n",
       "      <td>Partido Popular</td>\n",
       "      <td>1</td>\n",
       "    </tr>\n",
       "    <tr>\n",
       "      <th>1</th>\n",
       "      <td>Alberto Recarte García Andrade</td>\n",
       "      <td>2003-01-03</td>\n",
       "      <td>12</td>\n",
       "      <td>32</td>\n",
       "      <td>14.60</td>\n",
       "      <td>MANZANIL AREA</td>\n",
       "      <td>HOTELES,MOTELES,BALNEARIOS,CAMPINGS REST</td>\n",
       "      <td>HOTEL</td>\n",
       "      <td>concejal</td>\n",
       "      <td>Partido Popular</td>\n",
       "      <td>1</td>\n",
       "    </tr>\n",
       "    <tr>\n",
       "      <th>2</th>\n",
       "      <td>Alberto Recarte García Andrade</td>\n",
       "      <td>2003-01-04</td>\n",
       "      <td>19</td>\n",
       "      <td>7</td>\n",
       "      <td>95.62</td>\n",
       "      <td>REST REAL C GOLF SOTOGRAN</td>\n",
       "      <td>RESTAURANTES RESTO</td>\n",
       "      <td>RESTAURANTE</td>\n",
       "      <td>concejal</td>\n",
       "      <td>Partido Popular</td>\n",
       "      <td>1</td>\n",
       "    </tr>\n",
       "    <tr>\n",
       "      <th>3</th>\n",
       "      <td>Alberto Recarte García Andrade</td>\n",
       "      <td>2003-01-07</td>\n",
       "      <td>15</td>\n",
       "      <td>31</td>\n",
       "      <td>49.13</td>\n",
       "      <td>ESTACONES DE SERVICIO ML</td>\n",
       "      <td>GASOLINERAS</td>\n",
       "      <td>COCHE</td>\n",
       "      <td>concejal</td>\n",
       "      <td>Partido Popular</td>\n",
       "      <td>1</td>\n",
       "    </tr>\n",
       "    <tr>\n",
       "      <th>4</th>\n",
       "      <td>Alberto Recarte García Andrade</td>\n",
       "      <td>2003-01-07</td>\n",
       "      <td>16</td>\n",
       "      <td>5</td>\n",
       "      <td>13.93</td>\n",
       "      <td>NISA (H 24) VINHOLAN  S.A.</td>\n",
       "      <td>GASOLINERAS</td>\n",
       "      <td>COCHE</td>\n",
       "      <td>concejal</td>\n",
       "      <td>Partido Popular</td>\n",
       "      <td>1</td>\n",
       "    </tr>\n",
       "  </tbody>\n",
       "</table>\n",
       "</div>"
      ],
      "text/plain": [
       "                           nombre       fecha  hora  minuto  importe  \\\n",
       "0  Alberto Recarte García Andrade  2003-01-03    12      30    38.70   \n",
       "1  Alberto Recarte García Andrade  2003-01-03    12      32    14.60   \n",
       "2  Alberto Recarte García Andrade  2003-01-04    19       7    95.62   \n",
       "3  Alberto Recarte García Andrade  2003-01-07    15      31    49.13   \n",
       "4  Alberto Recarte García Andrade  2003-01-07    16       5    13.93   \n",
       "\n",
       "                     comercio                        actividad_completa  \\\n",
       "0                 RCG OFICINA              CONFECCION TEXTIL EN GENERAL   \n",
       "1               MANZANIL AREA  HOTELES,MOTELES,BALNEARIOS,CAMPINGS REST   \n",
       "2   REST REAL C GOLF SOTOGRAN                        RESTAURANTES RESTO   \n",
       "3    ESTACONES DE SERVICIO ML                               GASOLINERAS   \n",
       "4  NISA (H 24) VINHOLAN  S.A.                               GASOLINERAS   \n",
       "\n",
       "     actividad   funcion     organizacion  id_miembro  \n",
       "0         ROPA  concejal  Partido Popular           1  \n",
       "1        HOTEL  concejal  Partido Popular           1  \n",
       "2  RESTAURANTE  concejal  Partido Popular           1  \n",
       "3        COCHE  concejal  Partido Popular           1  \n",
       "4        COCHE  concejal  Partido Popular           1  "
      ]
     },
     "execution_count": 6,
     "metadata": {},
     "output_type": "execute_result"
    }
   ],
   "source": [
    "df_result = pd.merge(df, df_miembros, on = ['nombre', 'funcion', 'organizacion'], how = 'inner')\n",
    "df_result.head()"
   ]
  },
  {
   "cell_type": "markdown",
   "metadata": {},
   "source": [
    "Seleccionamos las columnas que nos interesan"
   ]
  },
  {
   "cell_type": "code",
   "execution_count": 7,
   "metadata": {
    "collapsed": false
   },
   "outputs": [],
   "source": [
    "df_movimientos = df_result[['id_miembro','fecha', 'minuto', 'hora', 'importe', 'comercio', 'actividad_completa', 'actividad']]"
   ]
  },
  {
   "cell_type": "markdown",
   "metadata": {},
   "source": [
    "Eliminamos la información horaria de la fecha"
   ]
  },
  {
   "cell_type": "code",
   "execution_count": 8,
   "metadata": {
    "collapsed": false
   },
   "outputs": [
    {
     "name": "stdout",
     "output_type": "stream",
     "text": [
      "<class 'pandas.core.frame.DataFrame'>\n",
      "Int64Index: 76238 entries, 0 to 76237\n",
      "Data columns (total 8 columns):\n",
      "id_miembro            76238 non-null int64\n",
      "fecha                 76238 non-null object\n",
      "minuto                76238 non-null int64\n",
      "hora                  76238 non-null int64\n",
      "importe               76238 non-null float64\n",
      "comercio              68500 non-null object\n",
      "actividad_completa    76221 non-null object\n",
      "actividad             76220 non-null object\n",
      "dtypes: float64(1), int64(3), object(4)\n",
      "memory usage: 5.2+ MB\n"
     ]
    }
   ],
   "source": [
    "df_movimientos = df_movimientos.assign(fecha = pd.to_datetime(df['fecha']).dt.date)\n",
    "df_movimientos.info()"
   ]
  },
  {
   "cell_type": "code",
   "execution_count": 9,
   "metadata": {
    "collapsed": false
   },
   "outputs": [
    {
     "data": {
      "text/html": [
       "<div>\n",
       "<style>\n",
       "    .dataframe thead tr:only-child th {\n",
       "        text-align: right;\n",
       "    }\n",
       "\n",
       "    .dataframe thead th {\n",
       "        text-align: left;\n",
       "    }\n",
       "\n",
       "    .dataframe tbody tr th {\n",
       "        vertical-align: top;\n",
       "    }\n",
       "</style>\n",
       "<table border=\"1\" class=\"dataframe\">\n",
       "  <thead>\n",
       "    <tr style=\"text-align: right;\">\n",
       "      <th></th>\n",
       "      <th>id_miembro</th>\n",
       "      <th>fecha</th>\n",
       "      <th>minuto</th>\n",
       "      <th>hora</th>\n",
       "      <th>importe</th>\n",
       "      <th>comercio</th>\n",
       "      <th>actividad_completa</th>\n",
       "      <th>actividad</th>\n",
       "    </tr>\n",
       "  </thead>\n",
       "  <tbody>\n",
       "    <tr>\n",
       "      <th>0</th>\n",
       "      <td>1</td>\n",
       "      <td>2003-01-03</td>\n",
       "      <td>30</td>\n",
       "      <td>12</td>\n",
       "      <td>38.70</td>\n",
       "      <td>RCG OFICINA</td>\n",
       "      <td>CONFECCION TEXTIL EN GENERAL</td>\n",
       "      <td>ROPA</td>\n",
       "    </tr>\n",
       "    <tr>\n",
       "      <th>1</th>\n",
       "      <td>1</td>\n",
       "      <td>2003-01-03</td>\n",
       "      <td>32</td>\n",
       "      <td>12</td>\n",
       "      <td>14.60</td>\n",
       "      <td>MANZANIL AREA</td>\n",
       "      <td>HOTELES,MOTELES,BALNEARIOS,CAMPINGS REST</td>\n",
       "      <td>HOTEL</td>\n",
       "    </tr>\n",
       "    <tr>\n",
       "      <th>2</th>\n",
       "      <td>1</td>\n",
       "      <td>2003-01-04</td>\n",
       "      <td>7</td>\n",
       "      <td>19</td>\n",
       "      <td>95.62</td>\n",
       "      <td>REST REAL C GOLF SOTOGRAN</td>\n",
       "      <td>RESTAURANTES RESTO</td>\n",
       "      <td>RESTAURANTE</td>\n",
       "    </tr>\n",
       "    <tr>\n",
       "      <th>3</th>\n",
       "      <td>1</td>\n",
       "      <td>2003-01-07</td>\n",
       "      <td>31</td>\n",
       "      <td>15</td>\n",
       "      <td>49.13</td>\n",
       "      <td>ESTACONES DE SERVICIO ML</td>\n",
       "      <td>GASOLINERAS</td>\n",
       "      <td>COCHE</td>\n",
       "    </tr>\n",
       "    <tr>\n",
       "      <th>4</th>\n",
       "      <td>1</td>\n",
       "      <td>2003-01-07</td>\n",
       "      <td>5</td>\n",
       "      <td>16</td>\n",
       "      <td>13.93</td>\n",
       "      <td>NISA (H 24) VINHOLAN  S.A.</td>\n",
       "      <td>GASOLINERAS</td>\n",
       "      <td>COCHE</td>\n",
       "    </tr>\n",
       "  </tbody>\n",
       "</table>\n",
       "</div>"
      ],
      "text/plain": [
       "   id_miembro       fecha  minuto  hora  importe                    comercio  \\\n",
       "0           1  2003-01-03      30    12    38.70                 RCG OFICINA   \n",
       "1           1  2003-01-03      32    12    14.60               MANZANIL AREA   \n",
       "2           1  2003-01-04       7    19    95.62   REST REAL C GOLF SOTOGRAN   \n",
       "3           1  2003-01-07      31    15    49.13    ESTACONES DE SERVICIO ML   \n",
       "4           1  2003-01-07       5    16    13.93  NISA (H 24) VINHOLAN  S.A.   \n",
       "\n",
       "                         actividad_completa    actividad  \n",
       "0              CONFECCION TEXTIL EN GENERAL         ROPA  \n",
       "1  HOTELES,MOTELES,BALNEARIOS,CAMPINGS REST        HOTEL  \n",
       "2                        RESTAURANTES RESTO  RESTAURANTE  \n",
       "3                               GASOLINERAS        COCHE  \n",
       "4                               GASOLINERAS        COCHE  "
      ]
     },
     "execution_count": 9,
     "metadata": {},
     "output_type": "execute_result"
    }
   ],
   "source": [
    "df_movimientos.head()"
   ]
  },
  {
   "cell_type": "markdown",
   "metadata": {},
   "source": [
    "Y por último selecionamos al azar un 10% de los datos para que la práctica sea más ágil ..."
   ]
  },
  {
   "cell_type": "code",
   "execution_count": 10,
   "metadata": {
    "collapsed": false
   },
   "outputs": [
    {
     "name": "stdout",
     "output_type": "stream",
     "text": [
      "<class 'pandas.core.frame.DataFrame'>\n",
      "Int64Index: 7624 entries, 30053 to 21461\n",
      "Data columns (total 8 columns):\n",
      "id_miembro            7624 non-null int64\n",
      "fecha                 7624 non-null object\n",
      "minuto                7624 non-null int64\n",
      "hora                  7624 non-null int64\n",
      "importe               7624 non-null float64\n",
      "comercio              6864 non-null object\n",
      "actividad_completa    7622 non-null object\n",
      "actividad             7622 non-null object\n",
      "dtypes: float64(1), int64(3), object(4)\n",
      "memory usage: 536.1+ KB\n"
     ]
    }
   ],
   "source": [
    "df_movimientos_lite = df_movimientos.sample(frac=0.10)\n",
    "df_movimientos_lite.info()"
   ]
  },
  {
   "cell_type": "code",
   "execution_count": 11,
   "metadata": {
    "collapsed": false
   },
   "outputs": [
    {
     "data": {
      "text/html": [
       "<div>\n",
       "<style>\n",
       "    .dataframe thead tr:only-child th {\n",
       "        text-align: right;\n",
       "    }\n",
       "\n",
       "    .dataframe thead th {\n",
       "        text-align: left;\n",
       "    }\n",
       "\n",
       "    .dataframe tbody tr th {\n",
       "        vertical-align: top;\n",
       "    }\n",
       "</style>\n",
       "<table border=\"1\" class=\"dataframe\">\n",
       "  <thead>\n",
       "    <tr style=\"text-align: right;\">\n",
       "      <th></th>\n",
       "      <th>id_miembro</th>\n",
       "      <th>fecha</th>\n",
       "      <th>minuto</th>\n",
       "      <th>hora</th>\n",
       "      <th>importe</th>\n",
       "      <th>comercio</th>\n",
       "      <th>actividad_completa</th>\n",
       "      <th>actividad</th>\n",
       "    </tr>\n",
       "  </thead>\n",
       "  <tbody>\n",
       "    <tr>\n",
       "      <th>30053</th>\n",
       "      <td>40</td>\n",
       "      <td>2005-03-28</td>\n",
       "      <td>11</td>\n",
       "      <td>16</td>\n",
       "      <td>73.00</td>\n",
       "      <td>LA VACA ARGENTINA</td>\n",
       "      <td>RESTAURANTES RESTO</td>\n",
       "      <td>RESTAURANTE</td>\n",
       "    </tr>\n",
       "    <tr>\n",
       "      <th>55589</th>\n",
       "      <td>80</td>\n",
       "      <td>2006-06-27</td>\n",
       "      <td>4</td>\n",
       "      <td>15</td>\n",
       "      <td>28.78</td>\n",
       "      <td>ASADOR CRUZ NEVADA</td>\n",
       "      <td>RESTAURANTES RESTO</td>\n",
       "      <td>RESTAURANTE</td>\n",
       "    </tr>\n",
       "    <tr>\n",
       "      <th>56355</th>\n",
       "      <td>80</td>\n",
       "      <td>2008-07-21</td>\n",
       "      <td>40</td>\n",
       "      <td>14</td>\n",
       "      <td>1.79</td>\n",
       "      <td>ACCESOS DE MADRID</td>\n",
       "      <td>AUTOPISTAS (TERMINALES)</td>\n",
       "      <td>COCHE</td>\n",
       "    </tr>\n",
       "    <tr>\n",
       "      <th>14018</th>\n",
       "      <td>16</td>\n",
       "      <td>2007-01-14</td>\n",
       "      <td>1</td>\n",
       "      <td>16</td>\n",
       "      <td>29.69</td>\n",
       "      <td>OAM THONG</td>\n",
       "      <td>RESTAURANTES RESTO</td>\n",
       "      <td>RESTAURANTE</td>\n",
       "    </tr>\n",
       "    <tr>\n",
       "      <th>63577</th>\n",
       "      <td>61</td>\n",
       "      <td>2004-03-11</td>\n",
       "      <td>7</td>\n",
       "      <td>17</td>\n",
       "      <td>519.60</td>\n",
       "      <td>RESTAURANTE HORCHER</td>\n",
       "      <td>RESTAURANTE 4/5 TENEDORES NIVEL 2</td>\n",
       "      <td>RESTAURANTE</td>\n",
       "    </tr>\n",
       "  </tbody>\n",
       "</table>\n",
       "</div>"
      ],
      "text/plain": [
       "       id_miembro       fecha  minuto  hora  importe             comercio  \\\n",
       "30053          40  2005-03-28      11    16    73.00    LA VACA ARGENTINA   \n",
       "55589          80  2006-06-27       4    15    28.78   ASADOR CRUZ NEVADA   \n",
       "56355          80  2008-07-21      40    14     1.79    ACCESOS DE MADRID   \n",
       "14018          16  2007-01-14       1    16    29.69            OAM THONG   \n",
       "63577          61  2004-03-11       7    17   519.60  RESTAURANTE HORCHER   \n",
       "\n",
       "                      actividad_completa    actividad  \n",
       "30053                 RESTAURANTES RESTO  RESTAURANTE  \n",
       "55589                 RESTAURANTES RESTO  RESTAURANTE  \n",
       "56355            AUTOPISTAS (TERMINALES)        COCHE  \n",
       "14018                 RESTAURANTES RESTO  RESTAURANTE  \n",
       "63577  RESTAURANTE 4/5 TENEDORES NIVEL 2  RESTAURANTE  "
      ]
     },
     "execution_count": 11,
     "metadata": {},
     "output_type": "execute_result"
    }
   ],
   "source": [
    "df_movimientos_lite.head()"
   ]
  },
  {
   "cell_type": "markdown",
   "metadata": {},
   "source": [
    "Grabamos el resultado en un fichero Excel donde cada dataset estará en un hoja diferente"
   ]
  },
  {
   "cell_type": "code",
   "execution_count": 12,
   "metadata": {
    "collapsed": false
   },
   "outputs": [],
   "source": [
    "writer = pd.ExcelWriter(\"../../data/black.xlsx\")\n",
    "df_movimientos_lite.to_excel(writer,'Movimientos')\n",
    "df_miembros.to_excel(writer, 'Miembros')\n",
    "writer.save()"
   ]
  },
  {
   "cell_type": "code",
   "execution_count": null,
   "metadata": {
    "collapsed": true
   },
   "outputs": [],
   "source": []
  }
 ],
 "metadata": {
  "kernelspec": {
   "display_name": "Python 2",
   "language": "python",
   "name": "python2"
  },
  "language_info": {
   "codemirror_mode": {
    "name": "ipython",
    "version": 2
   },
   "file_extension": ".py",
   "mimetype": "text/x-python",
   "name": "python",
   "nbconvert_exporter": "python",
   "pygments_lexer": "ipython2",
   "version": "2.7.6"
  }
 },
 "nbformat": 4,
 "nbformat_minor": 0
}
