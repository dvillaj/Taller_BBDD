{
 "cells": [
  {
   "cell_type": "markdown",
   "metadata": {},
   "source": [
    "# Tarjetas Black\n"
   ]
  },
  {
   "cell_type": "markdown",
   "metadata": {},
   "source": [
    "Vamos a utilizar un dataset de movimientos de tarjetas de crédito que provienen de tarjetas Black. \n",
    "\n",
    "El origen es el siguiente repositorio de GitHub (aunque han sido preprocesados en R):\n",
    "\n",
    "https://github.com/splatsh/tarjetasblack\n",
    "\n",
    "Originalmente la información viene de la siguiente fuente:\n",
    "\n",
    "https://www.cuartopoder.es/multimedia/2014/10/11/gastos-de-los-exdirectivos-de-caja-madrid-uno-a-uno-con-las-tarjetas-negras-tabla/3403\n",
    "\n",
    "\n",
    "## Modelo conceptual\n",
    "\n",
    "<br><br> \n",
    "\n",
    "<img src=\"./images/Modelo_conceptual.png\" alt=\"Example\">\n",
    "<br><br> \n",
    "\n",
    "## Modelo de relación\n",
    "\n",
    "<br><br> \n",
    "\n",
    "<img src=\"./images/Modelo_relacion.png\" alt=\"Example\" width=\"500\" height=\"500\">\n",
    "\n",
    "<br><br> \n",
    "\n",
    "## Contenido de la información\n",
    "\n",
    "Contiene la siguiente información:\n",
    "\n",
    "- Nombre: Nombre de la persona que posee la tarjeta y realiza el movimiento\n",
    "- Fecha: Fecha del movimiento\n",
    "- Hora: Hora del movimiento\n",
    "- Minuto: Minuto del movimiento\n",
    "- Importe: Importe del movimiento\n",
    "- Comercio donde se realiza el movimiento\n",
    "- Actividad Completa: Detalle de la que se dedica el comercio\n",
    "- Actividad: Contiene una clasificación de la actividad del comercio. Una Actividad puede agrupar a varios comercios\n",
    "- Función: Función que desempeña la persona dentro de su organización (Sólo para los partidos políticos)\n",
    "- Organización: Organización a la que pertenece la persona que realiza el gasto\n",
    "\n",
    "Podrían existir movimientos con campos vacíos.\n",
    "\n",
    "## Formato del fichero\n",
    "\n",
    "El fichero con los datos está comprimido, en formato CSV, y utiliza el carácter ~ cómo separador de columnas.\n"
   ]
  },
  {
   "cell_type": "markdown",
   "metadata": {},
   "source": [
    "## Preguntas\n",
    "\n",
    "Vamos a intentar resolver las siguientes preguntas:\n",
    "    \n",
    "- Los 10 movimientos mas caros por actividad\n",
    "- Los 10 movimientos mas caros\n",
    "- Los movimientos de una persona concreta (ordenados por importe)\n",
    "- Las 10 personas que mas han gastado\n",
    "- Importes de una persona agrupados por actividad\n",
    "- ¿Quién se gasta más, los concejales o los directivos?\n",
    "- ¿Qué organización se gasta más?\n",
    "- ¿Qué comercio es más popular entre los miembros?"
   ]
  },
  {
   "cell_type": "markdown",
   "metadata": {},
   "source": [
    "# Preprocesado de datos\n",
    "\n",
    "Se realizará un preprocesado de datos cuyo objetico es limpiar y normalizar los datos para que se puedan utilizar más fácilmente por el resto de prácticas  \n",
    "\n",
    "El formato de salida será un fichero Microsoft Excel que contendrá los siguientes datasets:\n",
    "\n",
    "- Movimientos: Movimientos donde se han eliminado los atributos personales y se han sustituido por un ID\n",
    "- Miembros: Dataset con todas las personas que han realzado movimientos"
   ]
  },
  {
   "cell_type": "code",
   "execution_count": null,
   "metadata": {},
   "outputs": [],
   "source": [
    "import numpy as np\n",
    "import pandas as pd"
   ]
  },
  {
   "cell_type": "code",
   "execution_count": null,
   "metadata": {},
   "outputs": [],
   "source": [
    "df = pd.read_csv(\"../../data/black.txt.gz\", compression='gzip', sep='~',  index_col=False, low_memory=False)"
   ]
  },
  {
   "cell_type": "code",
   "execution_count": null,
   "metadata": {},
   "outputs": [],
   "source": [
    "df.head()"
   ]
  },
  {
   "cell_type": "markdown",
   "metadata": {},
   "source": [
    "Nos quedamos sólo con los registros únicos"
   ]
  },
  {
   "cell_type": "code",
   "execution_count": null,
   "metadata": {},
   "outputs": [],
   "source": [
    "df_miembros = df.filter([\"nombre\", \"funcion\", \"organizacion\"]) \\\n",
    "                .drop_duplicates()\n",
    "df_miembros.head()"
   ]
  },
  {
   "cell_type": "markdown",
   "metadata": {},
   "source": [
    "Se crea un dataset de miembros, asignado a cada persona un ID único"
   ]
  },
  {
   "cell_type": "code",
   "execution_count": null,
   "metadata": {},
   "outputs": [],
   "source": [
    "df_miembros.sort_values(by = \"nombre\").assign(\n",
    "        id_miembro = df_miembros.nombre.rank().astype(int)\n",
    ").head()"
   ]
  },
  {
   "cell_type": "code",
   "execution_count": null,
   "metadata": {},
   "outputs": [],
   "source": [
    "df_miembros = (df_miembros\n",
    "    .assign(id_miembro = df_miembros.nombre.rank(method='min').astype(int))\n",
    "    .filter(['id_miembro', 'nombre', 'funcion', 'organizacion'])\n",
    ")               "
   ]
  },
  {
   "cell_type": "code",
   "execution_count": null,
   "metadata": {},
   "outputs": [],
   "source": [
    "df_miembros.head()"
   ]
  },
  {
   "cell_type": "markdown",
   "metadata": {},
   "source": [
    "Se inserta en el dataset principal el ID creado anteriormente"
   ]
  },
  {
   "cell_type": "code",
   "execution_count": null,
   "metadata": {},
   "outputs": [],
   "source": [
    "df_result = pd.merge(df, df_miembros, on = ['nombre', 'funcion', 'organizacion'], how = 'inner')\n",
    "df_result.head()"
   ]
  },
  {
   "cell_type": "markdown",
   "metadata": {},
   "source": [
    "Seleccionamos las columnas que nos interesan"
   ]
  },
  {
   "cell_type": "code",
   "execution_count": null,
   "metadata": {},
   "outputs": [],
   "source": [
    "df_movimientos = df_result.filter(\n",
    "    ['id_miembro','fecha', 'hora', 'minuto', 'importe', 'comercio', 'actividad_completa', 'actividad']\n",
    ")"
   ]
  },
  {
   "cell_type": "markdown",
   "metadata": {},
   "source": [
    "Eliminamos la información horaria de la fecha"
   ]
  },
  {
   "cell_type": "code",
   "execution_count": null,
   "metadata": {},
   "outputs": [],
   "source": [
    "df_movimientos = df_movimientos.assign(\n",
    "    fecha = pd.to_datetime(df['fecha']).dt.date\n",
    ")\n",
    "df_movimientos.info()"
   ]
  },
  {
   "cell_type": "code",
   "execution_count": null,
   "metadata": {},
   "outputs": [],
   "source": [
    "df_movimientos.head()"
   ]
  },
  {
   "cell_type": "markdown",
   "metadata": {},
   "source": [
    "Y por último selecionamos al azar un 10% de los datos para que la práctica sea más ágil ..."
   ]
  },
  {
   "cell_type": "code",
   "execution_count": null,
   "metadata": {},
   "outputs": [],
   "source": [
    "df_movimientos_lite = df_movimientos.sample(frac=0.10, random_state = 1313)\n",
    "df_movimientos_lite.info()"
   ]
  },
  {
   "cell_type": "code",
   "execution_count": null,
   "metadata": {},
   "outputs": [],
   "source": [
    "df_movimientos_lite.head()"
   ]
  },
  {
   "cell_type": "markdown",
   "metadata": {},
   "source": [
    "Grabamos el resultado en un fichero Excel donde cada dataset estará en un hoja diferente"
   ]
  },
  {
   "cell_type": "code",
   "execution_count": null,
   "metadata": {},
   "outputs": [],
   "source": [
    "writer = pd.ExcelWriter(\"../../data/black.xlsx\")\n",
    "df_movimientos_lite.to_excel(writer,'Movimientos', index=False)\n",
    "df_miembros.to_excel(writer, 'Miembros', index=False)\n",
    "writer.save()"
   ]
  },
  {
   "cell_type": "code",
   "execution_count": null,
   "metadata": {},
   "outputs": [],
   "source": []
  }
 ],
 "metadata": {
  "kernelspec": {
   "display_name": "Python 3 (ipykernel)",
   "language": "python",
   "name": "python3"
  },
  "language_info": {
   "codemirror_mode": {
    "name": "ipython",
    "version": 3
   },
   "file_extension": ".py",
   "mimetype": "text/x-python",
   "name": "python",
   "nbconvert_exporter": "python",
   "pygments_lexer": "ipython3",
   "version": "3.8.10"
  }
 },
 "nbformat": 4,
 "nbformat_minor": 4
}
