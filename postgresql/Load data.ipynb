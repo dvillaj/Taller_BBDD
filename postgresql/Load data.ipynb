{
 "cells": [
  {
   "cell_type": "code",
   "execution_count": 19,
   "metadata": {
    "collapsed": true
   },
   "outputs": [],
   "source": [
    "import psycopg2\n",
    "import sys"
   ]
  },
  {
   "cell_type": "code",
   "execution_count": 20,
   "metadata": {
    "collapsed": false
   },
   "outputs": [],
   "source": [
    "con = psycopg2.connect(database='twitter', user='learner')"
   ]
  },
  {
   "cell_type": "code",
   "execution_count": 21,
   "metadata": {
    "collapsed": false
   },
   "outputs": [],
   "source": [
    "cur = con.cursor()"
   ]
  },
  {
   "cell_type": "code",
   "execution_count": 22,
   "metadata": {
    "collapsed": false
   },
   "outputs": [
    {
     "name": "stdout",
     "output_type": "stream",
     "text": [
      "('PostgreSQL 9.3.10 on x86_64-unknown-linux-gnu, compiled by gcc (Ubuntu 4.8.2-19ubuntu1) 4.8.2, 64-bit',)\n"
     ]
    }
   ],
   "source": [
    "cur.execute('SELECT version()')\n",
    "ver = cur.fetchone()\n",
    "print ver"
   ]
  },
  {
   "cell_type": "code",
   "execution_count": 23,
   "metadata": {
    "collapsed": false
   },
   "outputs": [],
   "source": [
    "cur.execute(\"DELETE FROM tweet_usermention\")\n",
    "cur.execute(\"DELETE FROM tweet_entities\")\n",
    "cur.execute(\"DELETE FROM tweets\")\n",
    "cur.execute(\"DELETE FROM users\")\n",
    "con.commit()\n"
   ]
  },
  {
   "cell_type": "code",
   "execution_count": 24,
   "metadata": {
    "collapsed": true
   },
   "outputs": [],
   "source": [
    "users = {}\n",
    "tweets = {}\n",
    "retweets = {}\n",
    "tweet_usermentions = []\n",
    "tweet_entities = []"
   ]
  },
  {
   "cell_type": "code",
   "execution_count": 25,
   "metadata": {
    "collapsed": true
   },
   "outputs": [],
   "source": [
    "def append_field(list_name, json, field_name):\n",
    "    if field_name in json:\n",
    "        list_name.append(json[field_name])\n",
    "    else: \n",
    "        list_name.append(None)"
   ]
  },
  {
   "cell_type": "code",
   "execution_count": 26,
   "metadata": {
    "collapsed": false
   },
   "outputs": [],
   "source": [
    "def parse_user(json):\n",
    "    user = []\n",
    "    \n",
    "    user.append(json['id'])\n",
    "    user.append(json['screen_name'])\n",
    "    user.append(json['name'])\n",
    "    append_field(user, json, 'created_at')\n",
    "    append_field(user, json, 'description')\n",
    "    append_field(user, json, 'retweet_count')\n",
    "    append_field(user, json, 'favorite_count')\n",
    "    append_field(user, json, 'friends_count')\n",
    "    append_field(user, json, 'followers_count')\n",
    "    append_field(user, json, 'statuses_count')\n",
    "    append_field(user, json, 'geo_enabled')\n",
    "    append_field(user, json, 'time_zone')\n",
    "    append_field(user, json, 'profile_image_url')\n",
    "    \n",
    "    if user[0] in users:\n",
    "        if users[user[0]][12] is None:\n",
    "            users[user[0]] = user\n",
    "    else:\n",
    "        users[user[0]] = user"
   ]
  },
  {
   "cell_type": "code",
   "execution_count": 27,
   "metadata": {
    "collapsed": false
   },
   "outputs": [],
   "source": [
    "def parse_tweet(list_name, json):\n",
    "    tweet = []\n",
    "   \n",
    "    tweet.append(json['id'])\n",
    "    tweet.append(json['created_at'])\n",
    "    \n",
    "    if 'retweeted_status' in json:\n",
    "        tweet.append(json['retweeted_status']['id'])\n",
    "    else:\n",
    "        tweet.append(None)\n",
    "        \n",
    "    append_field(tweet, json, 'source')\n",
    "    append_field(tweet, json, 'text')\n",
    "    append_field(tweet, json, 'retweet_count')\n",
    "    append_field(tweet, json, 'favorite_count')\n",
    "    tweet.append(json['user']['id'])\n",
    "        \n",
    "    append_field(tweet, json, 'lang')\n",
    "    if 'geo' in json:\n",
    "        tweet.append(json['geo']['type'])\n",
    "        tweet.append(json['geo']['coordinates'][0])\n",
    "        tweet.append(json['geo']['coordinates'][1])\n",
    "    else:\n",
    "        tweet.append(None)\n",
    "        tweet.append(None)\n",
    "        tweet.append(None)\n",
    "        \n",
    "    if 'in_reply_to_user' in json:\n",
    "        tweet.append(json['in_reply_to_user']['id'])\n",
    "    else:\n",
    "        tweet.append(None)\n",
    "    \n",
    "    list_name[tweet[0]] = tweet\n",
    "    \n",
    "    for entity in json['entities']:\n",
    "        tweet_entities.append((tweet[0], entity))     \n",
    "    \n",
    "    for user in json['user_mentions']:\n",
    "        tweet_usermentions.append((tweet[0], user[\"id\"]))"
   ]
  },
  {
   "cell_type": "code",
   "execution_count": 28,
   "metadata": {
    "collapsed": true
   },
   "outputs": [],
   "source": [
    "def parse(json):\n",
    "    parse_user(json['user'])\n",
    "    if 'retweeted_status' in json:\n",
    "        parse_user(json['retweeted_status']['user'])\n",
    "        \n",
    "    for user in json['user_mentions']:\n",
    "        parse_user(user)\n",
    "        \n",
    "    if 'in_reply_to_user' in json:\n",
    "        parse_user(json['in_reply_to_user'])\n",
    "        \n",
    "    if 'retweeted_status' in json:\n",
    "        parse_tweet(retweets, json['retweeted_status'])\n",
    "        \n",
    "    parse_tweet(tweets, json)"
   ]
  },
  {
   "cell_type": "code",
   "execution_count": 29,
   "metadata": {
    "collapsed": true
   },
   "outputs": [],
   "source": [
    "cur = con.cursor()"
   ]
  },
  {
   "cell_type": "code",
   "execution_count": 30,
   "metadata": {
    "collapsed": true
   },
   "outputs": [],
   "source": [
    "def load_file(tweets_data_path):\n",
    "    tweets_file = open(tweets_data_path, \"r\")\n",
    "    for line in tweets_file:\n",
    "        try:\n",
    "            tweet = json.loads(line)\n",
    "            parse(tweet)\n",
    "\n",
    "        except:\n",
    "            print \"Unexpected error:\", sys.exc_info()[0]\n",
    "            raise"
   ]
  },
  {
   "cell_type": "code",
   "execution_count": 31,
   "metadata": {
    "collapsed": false
   },
   "outputs": [
    {
     "name": "stdout",
     "output_type": "stream",
     "text": [
      "3403\n",
      "5367\n",
      "3701\n",
      "23578\n",
      "7416\n"
     ]
    }
   ],
   "source": [
    "import json\n",
    "from pprintpp import pprint as pp\n",
    "\n",
    "load_file('../data/tweets.json')\n",
    "load_file('../data/timeline.json')\n",
    "\n",
    "for tweet_id in retweets:\n",
    "    tweets.pop(tweet_id, None)\n",
    "\n",
    "print len(users)\n",
    "print len(tweets)\n",
    "print len(retweets)\n",
    "print len(set(tweet_entities))\n",
    "print len(set(tweet_usermentions))"
   ]
  },
  {
   "cell_type": "code",
   "execution_count": 32,
   "metadata": {
    "collapsed": false
   },
   "outputs": [],
   "source": [
    "query = \"\"\"INSERT INTO users (user_id, \n",
    "            screen_name, \n",
    "            name,\n",
    "            created_at,\n",
    "            description,\n",
    "            retweet_count,\n",
    "            favorite_count,\n",
    "            friends_count,\n",
    "            followers_count,\n",
    "            statuses_count,\n",
    "            geo_enabled,\n",
    "            time_zone,\n",
    "            profile_image_url)\n",
    "        VALUES (%s,%s,%s,%s,%s,%s,%s,%s,%s,%s,%s,%s,%s)\"\"\"\n",
    "\n",
    "cur.executemany(query, users.values())"
   ]
  },
  {
   "cell_type": "code",
   "execution_count": 33,
   "metadata": {
    "collapsed": false
   },
   "outputs": [],
   "source": [
    "query = \"\"\"\n",
    "       INSERT INTO tweets (tweet_id, \n",
    "            created_at, \n",
    "            tweet_id_retweeted,\n",
    "            source,\n",
    "            text,\n",
    "            retweet_count,\n",
    "            favorite_count,\n",
    "            user_id,\n",
    "            lang,\n",
    "            geo_type,\n",
    "            geo_x,\n",
    "            geo_y,\n",
    "            reply_to_user_id)\n",
    "        VALUES (%s,%s,%s,%s,%s,%s,%s,%s,%s,%s,%s,%s,%s)\n",
    "        \"\"\"\n",
    "\n",
    "cur.executemany(query, retweets.values())\n",
    "cur.executemany(query, tweets.values())"
   ]
  },
  {
   "cell_type": "code",
   "execution_count": 34,
   "metadata": {
    "collapsed": false
   },
   "outputs": [],
   "source": [
    "query = \"\"\"INSERT INTO tweet_usermention (tweet_id, \n",
    "            user_id)\n",
    "        VALUES (%s,%s)\"\"\"\n",
    "\n",
    "cur.executemany(query, set(tweet_usermentions))"
   ]
  },
  {
   "cell_type": "code",
   "execution_count": 35,
   "metadata": {
    "collapsed": true
   },
   "outputs": [],
   "source": [
    "query = \"\"\"INSERT INTO tweet_entities (tweet_id, \n",
    "            entity)\n",
    "        VALUES (%s,%s)\"\"\"\n",
    "\n",
    "cur.executemany(query, set(tweet_entities))"
   ]
  },
  {
   "cell_type": "code",
   "execution_count": 36,
   "metadata": {
    "collapsed": true
   },
   "outputs": [],
   "source": [
    "con.commit()\n",
    "con.close()"
   ]
  },
  {
   "cell_type": "code",
   "execution_count": null,
   "metadata": {
    "collapsed": true
   },
   "outputs": [],
   "source": []
  }
 ],
 "metadata": {
  "kernelspec": {
   "display_name": "Python 2",
   "language": "python",
   "name": "python2"
  },
  "language_info": {
   "codemirror_mode": {
    "name": "ipython",
    "version": 2
   },
   "file_extension": ".py",
   "mimetype": "text/x-python",
   "name": "python",
   "nbconvert_exporter": "python",
   "pygments_lexer": "ipython2",
   "version": "2.7.6"
  }
 },
 "nbformat": 4,
 "nbformat_minor": 0
}
