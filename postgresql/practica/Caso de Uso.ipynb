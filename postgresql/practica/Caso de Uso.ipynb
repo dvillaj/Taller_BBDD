{
 "cells": [
  {
   "cell_type": "markdown",
   "metadata": {},
   "source": [
    "# Acidentes de tráfico de bicicletas"
   ]
  },
  {
   "cell_type": "markdown",
   "metadata": {},
   "source": [
    "Vamos a utilizar un dataset de accidentes de tráfico de bicicletas que provienen del portal de datos abiertos de Madrid\n",
    "\n",
    "https://datos.madrid.es/portal/site/egob/menuitem.c05c1f754a33a9fbe4b2e4b284f1a5a0/?vgnextoid=20f4a87ebb65b510VgnVCM1000001d4a900aRCRD&vgnextchannel=374512b9ace9f310VgnVCM100000171f5a0aRCRD&vgnextfmt=default\n"
   ]
  },
  {
   "cell_type": "markdown",
   "metadata": {},
   "source": [
    "Una vez preprocesados los datos tendremos un dataset con los siguientes campos:\n",
    "\n",
    "\n",
    "- Número de expediente del accidente\n",
    "- Fecha del accidente\n",
    "- Distrito donde ha ocurrido el accidente\n",
    "- Tipo de accidente\n",
    "- Sexo de la persona que ha tenido el accidente\n",
    "    \n",
    "\n",
    "Vamos a intentar resolver las siguientes preguntas:\n",
    "\n",
    "- Datos del número de expediente 2020S000044\n",
    "- Accidentes que ocurren en el distrito de Moratalaz ordenados por fecha (Descendente)\n",
    "- Número de accidentes por tipo de accidente (sin ningún orden establecido)\n",
    "- Número de accidentes cuyo tipo es Colisión frontal\n",
    "\n",
    "Preprocesado de datos\n",
    "\n",
    "Se realizará un preprocesado de datos cuyo objetico es limpiar, simplificar y normalizar los datos para que la prática resulte más sencilla\n",
    "\n",
    "El formato de salida será un fichero Microsoft Excel que contendrá los datos limpios.\n",
    "\n"
   ]
  },
  {
   "cell_type": "markdown",
   "metadata": {},
   "source": [
    "## Carga de datos"
   ]
  },
  {
   "cell_type": "code",
   "execution_count": 1,
   "metadata": {},
   "outputs": [],
   "source": [
    "import pandas as pd"
   ]
  },
  {
   "cell_type": "markdown",
   "metadata": {},
   "source": [
    "Leemos los datos ..."
   ]
  },
  {
   "cell_type": "code",
   "execution_count": 2,
   "metadata": {},
   "outputs": [],
   "source": [
    "df = pd.read_csv(\"data/AccidentesBicicletas_2020.txt\", delimiter=\";\")"
   ]
  },
  {
   "cell_type": "markdown",
   "metadata": {},
   "source": [
    "## Exploración y limpieza"
   ]
  },
  {
   "cell_type": "markdown",
   "metadata": {},
   "source": [
    "Limpiamos los datos ..."
   ]
  },
  {
   "cell_type": "code",
   "execution_count": 3,
   "metadata": {},
   "outputs": [
    {
     "name": "stdout",
     "output_type": "stream",
     "text": [
      "<class 'pandas.core.frame.DataFrame'>\n",
      "RangeIndex: 775 entries, 0 to 774\n",
      "Data columns (total 13 columns):\n",
      " #   Column               Non-Null Count  Dtype  \n",
      "---  ------               --------------  -----  \n",
      " 0   NumExpediente        775 non-null    object \n",
      " 1   Fecha                775 non-null    object \n",
      " 2   Hora                 775 non-null    object \n",
      " 3   Calle                775 non-null    object \n",
      " 4   Numero               775 non-null    object \n",
      " 5   Distrito             775 non-null    object \n",
      " 6   TipoAccidente        775 non-null    object \n",
      " 7   EstadoMetereologico  759 non-null    object \n",
      " 8   TipoVehiculo         775 non-null    object \n",
      " 9   TipoPersona          775 non-null    object \n",
      " 10  RangoEdad            775 non-null    object \n",
      " 11  Sexo                 763 non-null    object \n",
      " 12  Lesividad            684 non-null    float64\n",
      "dtypes: float64(1), object(12)\n",
      "memory usage: 78.8+ KB\n"
     ]
    }
   ],
   "source": [
    "df.info()"
   ]
  },
  {
   "cell_type": "code",
   "execution_count": 4,
   "metadata": {},
   "outputs": [
    {
     "name": "stdout",
     "output_type": "stream",
     "text": [
      "<class 'pandas.core.frame.DataFrame'>\n",
      "RangeIndex: 775 entries, 0 to 774\n",
      "Data columns (total 5 columns):\n",
      " #   Column          Non-Null Count  Dtype         \n",
      "---  ------          --------------  -----         \n",
      " 0   num_expediente  775 non-null    object        \n",
      " 1   fecha           775 non-null    datetime64[ns]\n",
      " 2   distrito        775 non-null    object        \n",
      " 3   tipo_accidente  775 non-null    object        \n",
      " 4   sexo            763 non-null    object        \n",
      "dtypes: datetime64[ns](1), object(4)\n",
      "memory usage: 30.4+ KB\n"
     ]
    }
   ],
   "source": [
    "df = df.assign(Fecha = pd.to_datetime(df.Fecha, format=\"%d/%m/%Y\"),\n",
    "               Min = pd.to_numeric(df.Hora.str.split(\":\").str.get(1)),\n",
    "               Hora = pd.to_numeric(df.Hora.str.split(\":\").str.get(0))\n",
    "              )\n",
    "df = df.filter([\"NumExpediente\", \"Fecha\", \"Distrito\", \"TipoAccidente\", \"Sexo\"])\n",
    "# Ponemos las columnas en minúsculas para no se inserten en Postgres con Dobles Comillas\n",
    "df = df.rename(columns = {\"NumExpediente\" : \"num_expediente\",\n",
    "                           \"Fecha\" : \"fecha\",\n",
    "                           \"Distrito\": \"distrito\",\n",
    "                           \"TipoAccidente\" : \"tipo_accidente\",\n",
    "                           \"Sexo\": \"sexo\"}\n",
    "              )\n",
    "df.info()"
   ]
  },
  {
   "cell_type": "code",
   "execution_count": 5,
   "metadata": {},
   "outputs": [
    {
     "data": {
      "text/html": [
       "<div>\n",
       "<style scoped>\n",
       "    .dataframe tbody tr th:only-of-type {\n",
       "        vertical-align: middle;\n",
       "    }\n",
       "\n",
       "    .dataframe tbody tr th {\n",
       "        vertical-align: top;\n",
       "    }\n",
       "\n",
       "    .dataframe thead th {\n",
       "        text-align: right;\n",
       "    }\n",
       "</style>\n",
       "<table border=\"1\" class=\"dataframe\">\n",
       "  <thead>\n",
       "    <tr style=\"text-align: right;\">\n",
       "      <th></th>\n",
       "      <th>num_expediente</th>\n",
       "      <th>fecha</th>\n",
       "      <th>distrito</th>\n",
       "      <th>tipo_accidente</th>\n",
       "      <th>sexo</th>\n",
       "    </tr>\n",
       "  </thead>\n",
       "  <tbody>\n",
       "    <tr>\n",
       "      <th>454</th>\n",
       "      <td>2020S009961</td>\n",
       "      <td>2020-07-16</td>\n",
       "      <td>ARGANZUELA</td>\n",
       "      <td>Caída</td>\n",
       "      <td>Hombre</td>\n",
       "    </tr>\n",
       "    <tr>\n",
       "      <th>513</th>\n",
       "      <td>2020S010760</td>\n",
       "      <td>2020-08-01</td>\n",
       "      <td>VILLA DE VALLECAS</td>\n",
       "      <td>Choque contra obstáculo fijo</td>\n",
       "      <td>Hombre</td>\n",
       "    </tr>\n",
       "    <tr>\n",
       "      <th>324</th>\n",
       "      <td>2020S008367</td>\n",
       "      <td>2020-06-16</td>\n",
       "      <td>HORTALEZA</td>\n",
       "      <td>Caída</td>\n",
       "      <td>Hombre</td>\n",
       "    </tr>\n",
       "    <tr>\n",
       "      <th>49</th>\n",
       "      <td>2020S002409</td>\n",
       "      <td>2020-01-31</td>\n",
       "      <td>VILLAVERDE</td>\n",
       "      <td>Caída</td>\n",
       "      <td>Hombre</td>\n",
       "    </tr>\n",
       "    <tr>\n",
       "      <th>736</th>\n",
       "      <td>2020S014666</td>\n",
       "      <td>2020-10-18</td>\n",
       "      <td>ARGANZUELA</td>\n",
       "      <td>Caída</td>\n",
       "      <td>Mujer</td>\n",
       "    </tr>\n",
       "    <tr>\n",
       "      <th>740</th>\n",
       "      <td>2020S014766</td>\n",
       "      <td>2020-10-19</td>\n",
       "      <td>MONCLOA-ARAVACA</td>\n",
       "      <td>Colisión fronto-lateral</td>\n",
       "      <td>Hombre</td>\n",
       "    </tr>\n",
       "    <tr>\n",
       "      <th>689</th>\n",
       "      <td>2020S013804</td>\n",
       "      <td>2020-10-03</td>\n",
       "      <td>MONCLOA-ARAVACA</td>\n",
       "      <td>Caída</td>\n",
       "      <td>Mujer</td>\n",
       "    </tr>\n",
       "    <tr>\n",
       "      <th>430</th>\n",
       "      <td>2020S009930</td>\n",
       "      <td>2020-07-08</td>\n",
       "      <td>LATINA</td>\n",
       "      <td>Colisión lateral</td>\n",
       "      <td>Hombre</td>\n",
       "    </tr>\n",
       "    <tr>\n",
       "      <th>279</th>\n",
       "      <td>2020S007862</td>\n",
       "      <td>2020-06-05</td>\n",
       "      <td>MONCLOA-ARAVACA</td>\n",
       "      <td>Caída</td>\n",
       "      <td>Hombre</td>\n",
       "    </tr>\n",
       "    <tr>\n",
       "      <th>294</th>\n",
       "      <td>2020S008055</td>\n",
       "      <td>2020-06-09</td>\n",
       "      <td>USERA</td>\n",
       "      <td>Colisión frontal</td>\n",
       "      <td>Hombre</td>\n",
       "    </tr>\n",
       "  </tbody>\n",
       "</table>\n",
       "</div>"
      ],
      "text/plain": [
       "    num_expediente      fecha           distrito  \\\n",
       "454    2020S009961 2020-07-16         ARGANZUELA   \n",
       "513    2020S010760 2020-08-01  VILLA DE VALLECAS   \n",
       "324    2020S008367 2020-06-16          HORTALEZA   \n",
       "49     2020S002409 2020-01-31         VILLAVERDE   \n",
       "736    2020S014666 2020-10-18         ARGANZUELA   \n",
       "740    2020S014766 2020-10-19    MONCLOA-ARAVACA   \n",
       "689    2020S013804 2020-10-03    MONCLOA-ARAVACA   \n",
       "430    2020S009930 2020-07-08             LATINA   \n",
       "279    2020S007862 2020-06-05    MONCLOA-ARAVACA   \n",
       "294    2020S008055 2020-06-09              USERA   \n",
       "\n",
       "                   tipo_accidente    sexo  \n",
       "454                         Caída  Hombre  \n",
       "513  Choque contra obstáculo fijo  Hombre  \n",
       "324                         Caída  Hombre  \n",
       "49                          Caída  Hombre  \n",
       "736                         Caída   Mujer  \n",
       "740       Colisión fronto-lateral  Hombre  \n",
       "689                         Caída   Mujer  \n",
       "430              Colisión lateral  Hombre  \n",
       "279                         Caída  Hombre  \n",
       "294              Colisión frontal  Hombre  "
      ]
     },
     "execution_count": 5,
     "metadata": {},
     "output_type": "execute_result"
    }
   ],
   "source": [
    "df.sample(10)"
   ]
  },
  {
   "cell_type": "markdown",
   "metadata": {},
   "source": [
    "Eliminamos los expedientes duplicados para simplificar el ejemplo ..."
   ]
  },
  {
   "cell_type": "code",
   "execution_count": 6,
   "metadata": {},
   "outputs": [
    {
     "name": "stdout",
     "output_type": "stream",
     "text": [
      "<class 'pandas.core.frame.DataFrame'>\n",
      "RangeIndex: 614 entries, 0 to 613\n",
      "Data columns (total 5 columns):\n",
      " #   Column          Non-Null Count  Dtype         \n",
      "---  ------          --------------  -----         \n",
      " 0   num_expediente  614 non-null    object        \n",
      " 1   fecha           614 non-null    datetime64[ns]\n",
      " 2   distrito        614 non-null    object        \n",
      " 3   tipo_accidente  614 non-null    object        \n",
      " 4   sexo            614 non-null    object        \n",
      "dtypes: datetime64[ns](1), object(4)\n",
      "memory usage: 24.1+ KB\n"
     ]
    }
   ],
   "source": [
    "ExpedientesDuplicados = pd.DataFrame(df.groupby(\"num_expediente\").size()).reset_index().rename( columns = {0 : 'n'}).query(\"n > 1\").num_expediente\n",
    "df = df[~df.num_expediente.isin(ExpedientesDuplicados)]\n",
    "df = df[df.sexo.notnull()]\n",
    "df = df.reset_index(drop = True)\n",
    "df.info()"
   ]
  },
  {
   "cell_type": "code",
   "execution_count": 7,
   "metadata": {},
   "outputs": [
    {
     "data": {
      "text/html": [
       "<div>\n",
       "<style scoped>\n",
       "    .dataframe tbody tr th:only-of-type {\n",
       "        vertical-align: middle;\n",
       "    }\n",
       "\n",
       "    .dataframe tbody tr th {\n",
       "        vertical-align: top;\n",
       "    }\n",
       "\n",
       "    .dataframe thead th {\n",
       "        text-align: right;\n",
       "    }\n",
       "</style>\n",
       "<table border=\"1\" class=\"dataframe\">\n",
       "  <thead>\n",
       "    <tr style=\"text-align: right;\">\n",
       "      <th></th>\n",
       "      <th>num_expediente</th>\n",
       "      <th>fecha</th>\n",
       "      <th>distrito</th>\n",
       "      <th>tipo_accidente</th>\n",
       "      <th>sexo</th>\n",
       "    </tr>\n",
       "  </thead>\n",
       "  <tbody>\n",
       "    <tr>\n",
       "      <th>269</th>\n",
       "      <td>2020S008630</td>\n",
       "      <td>2020-06-19</td>\n",
       "      <td>USERA</td>\n",
       "      <td>Colisión fronto-lateral</td>\n",
       "      <td>Hombre</td>\n",
       "    </tr>\n",
       "    <tr>\n",
       "      <th>151</th>\n",
       "      <td>2020S006942</td>\n",
       "      <td>2020-05-17</td>\n",
       "      <td>MONCLOA-ARAVACA</td>\n",
       "      <td>Caída</td>\n",
       "      <td>Hombre</td>\n",
       "    </tr>\n",
       "    <tr>\n",
       "      <th>96</th>\n",
       "      <td>2020S005296</td>\n",
       "      <td>2020-03-07</td>\n",
       "      <td>CENTRO</td>\n",
       "      <td>Choque contra obstáculo fijo</td>\n",
       "      <td>Hombre</td>\n",
       "    </tr>\n",
       "    <tr>\n",
       "      <th>214</th>\n",
       "      <td>2020S007762</td>\n",
       "      <td>2020-06-03</td>\n",
       "      <td>LATINA</td>\n",
       "      <td>Caída</td>\n",
       "      <td>Hombre</td>\n",
       "    </tr>\n",
       "    <tr>\n",
       "      <th>376</th>\n",
       "      <td>2020S010103</td>\n",
       "      <td>2020-07-20</td>\n",
       "      <td>CIUDAD LINEAL</td>\n",
       "      <td>Colisión fronto-lateral</td>\n",
       "      <td>Hombre</td>\n",
       "    </tr>\n",
       "    <tr>\n",
       "      <th>340</th>\n",
       "      <td>2020S009498</td>\n",
       "      <td>2020-07-07</td>\n",
       "      <td>RETIRO</td>\n",
       "      <td>Alcance</td>\n",
       "      <td>Mujer</td>\n",
       "    </tr>\n",
       "    <tr>\n",
       "      <th>391</th>\n",
       "      <td>2020S010363</td>\n",
       "      <td>2020-07-24</td>\n",
       "      <td>TETUÁN</td>\n",
       "      <td>Colisión frontal</td>\n",
       "      <td>Hombre</td>\n",
       "    </tr>\n",
       "    <tr>\n",
       "      <th>565</th>\n",
       "      <td>2020S014302</td>\n",
       "      <td>2020-10-11</td>\n",
       "      <td>LATINA</td>\n",
       "      <td>Caída</td>\n",
       "      <td>Hombre</td>\n",
       "    </tr>\n",
       "    <tr>\n",
       "      <th>387</th>\n",
       "      <td>2020S010311</td>\n",
       "      <td>2020-07-23</td>\n",
       "      <td>VILLAVERDE</td>\n",
       "      <td>Colisión fronto-lateral</td>\n",
       "      <td>Hombre</td>\n",
       "    </tr>\n",
       "    <tr>\n",
       "      <th>535</th>\n",
       "      <td>2020S013667</td>\n",
       "      <td>2020-10-01</td>\n",
       "      <td>CHAMARTÍN</td>\n",
       "      <td>Colisión lateral</td>\n",
       "      <td>Mujer</td>\n",
       "    </tr>\n",
       "  </tbody>\n",
       "</table>\n",
       "</div>"
      ],
      "text/plain": [
       "    num_expediente      fecha         distrito                tipo_accidente  \\\n",
       "269    2020S008630 2020-06-19            USERA       Colisión fronto-lateral   \n",
       "151    2020S006942 2020-05-17  MONCLOA-ARAVACA                         Caída   \n",
       "96     2020S005296 2020-03-07           CENTRO  Choque contra obstáculo fijo   \n",
       "214    2020S007762 2020-06-03           LATINA                         Caída   \n",
       "376    2020S010103 2020-07-20    CIUDAD LINEAL       Colisión fronto-lateral   \n",
       "340    2020S009498 2020-07-07           RETIRO                       Alcance   \n",
       "391    2020S010363 2020-07-24           TETUÁN              Colisión frontal   \n",
       "565    2020S014302 2020-10-11           LATINA                         Caída   \n",
       "387    2020S010311 2020-07-23       VILLAVERDE       Colisión fronto-lateral   \n",
       "535    2020S013667 2020-10-01        CHAMARTÍN              Colisión lateral   \n",
       "\n",
       "       sexo  \n",
       "269  Hombre  \n",
       "151  Hombre  \n",
       "96   Hombre  \n",
       "214  Hombre  \n",
       "376  Hombre  \n",
       "340   Mujer  \n",
       "391  Hombre  \n",
       "565  Hombre  \n",
       "387  Hombre  \n",
       "535   Mujer  "
      ]
     },
     "execution_count": 7,
     "metadata": {},
     "output_type": "execute_result"
    }
   ],
   "source": [
    "df.sample(10)"
   ]
  },
  {
   "cell_type": "markdown",
   "metadata": {},
   "source": [
    "## Grabación de los datos limpios"
   ]
  },
  {
   "cell_type": "markdown",
   "metadata": {},
   "source": [
    "Y finalmente escribimos el resultado a un fichero Excel ,,,"
   ]
  },
  {
   "cell_type": "code",
   "execution_count": 8,
   "metadata": {},
   "outputs": [],
   "source": [
    "writer = pd.ExcelWriter(\"data/accidentes.xlsx\")\n",
    "df.to_excel(writer, 'Data', index=False)\n",
    "writer.save()"
   ]
  },
  {
   "cell_type": "code",
   "execution_count": null,
   "metadata": {},
   "outputs": [],
   "source": []
  }
 ],
 "metadata": {
  "kernelspec": {
   "display_name": "Python 3",
   "language": "python",
   "name": "python3"
  },
  "language_info": {
   "codemirror_mode": {
    "name": "ipython",
    "version": 3
   },
   "file_extension": ".py",
   "mimetype": "text/x-python",
   "name": "python",
   "nbconvert_exporter": "python",
   "pygments_lexer": "ipython3",
   "version": "3.6.12"
  }
 },
 "nbformat": 4,
 "nbformat_minor": 4
}
