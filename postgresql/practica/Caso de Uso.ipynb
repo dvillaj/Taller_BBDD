{
 "cells": [
  {
   "cell_type": "markdown",
   "metadata": {},
   "source": [
    "# Acidentes de tráfico de bicicletas"
   ]
  },
  {
   "cell_type": "markdown",
   "metadata": {},
   "source": [
    "Vamos a utilizar un dataset de accidentes de tráfico de bicicletas que provienen del portal de datos abiertos de Madrid\n",
    "\n",
    "https://datos.madrid.es/portal/site/egob/menuitem.c05c1f754a33a9fbe4b2e4b284f1a5a0/?vgnextoid=20f4a87ebb65b510VgnVCM1000001d4a900aRCRD&vgnextchannel=374512b9ace9f310VgnVCM100000171f5a0aRCRD&vgnextfmt=default\n"
   ]
  },
  {
   "cell_type": "markdown",
   "metadata": {},
   "source": [
    "Una vez preprocesados los datos tendremos un dataset con los siguientes campos:\n",
    "\n",
    "\n",
    "- Número de expediente del accidente\n",
    "- Fecha del accidente\n",
    "- Distrito donde ha ocurrido el accidente\n",
    "- Tipo de accidente\n",
    "- Sexo de la persona que ha tenido el accidente\n",
    "    \n",
    "\n",
    "Vamos a intentar resolver las siguientes preguntas:\n",
    "\n",
    "- Datos del número de expediente 2020S000044\n",
    "- Accidentes que ocurren en el distrito de Moratalaz ordenados por fecha (Descendente)\n",
    "- Número de accidentes por tipo de accidente (sin ningún orden establecido)\n",
    "- Número de accidentes cuyo tipo es Colisión frontal\n",
    "\n",
    "Preprocesado de datos\n",
    "\n",
    "Se realizará un preprocesado de datos cuyo objetico es limpiar, simplificar y normalizar los datos para que la prática resulte más sencilla\n",
    "\n",
    "El formato de salida será un fichero Microsoft Excel que contendrá los datos limpios.\n",
    "\n"
   ]
  },
  {
   "cell_type": "markdown",
   "metadata": {},
   "source": [
    "## Carga de datos"
   ]
  },
  {
   "cell_type": "code",
   "execution_count": null,
   "metadata": {},
   "outputs": [],
   "source": [
    "import pandas as pd"
   ]
  },
  {
   "cell_type": "markdown",
   "metadata": {},
   "source": [
    "Leemos los datos ..."
   ]
  },
  {
   "cell_type": "code",
   "execution_count": null,
   "metadata": {},
   "outputs": [],
   "source": [
    "df = pd.read_csv(\"../../data/AccidentesBicicletas_2020.txt\", delimiter=\";\")"
   ]
  },
  {
   "cell_type": "markdown",
   "metadata": {},
   "source": [
    "## Exploración y limpieza"
   ]
  },
  {
   "cell_type": "markdown",
   "metadata": {},
   "source": [
    "Limpiamos los datos ..."
   ]
  },
  {
   "cell_type": "code",
   "execution_count": null,
   "metadata": {},
   "outputs": [],
   "source": [
    "df.info()"
   ]
  },
  {
   "cell_type": "code",
   "execution_count": null,
   "metadata": {},
   "outputs": [],
   "source": [
    "df = df.assign(Fecha = pd.to_datetime(df.Fecha, format=\"%d/%m/%Y\"),\n",
    "               Min = pd.to_numeric(df.Hora.str.split(\":\").str.get(1)),\n",
    "               Hora = pd.to_numeric(df.Hora.str.split(\":\").str.get(0))\n",
    "              )\n",
    "df = df.filter([\"NumExpediente\", \"Fecha\", \"Distrito\", \"TipoAccidente\", \"Sexo\"])\n",
    "# Ponemos las columnas en minúsculas para no se inserten en Postgres con Dobles Comillas\n",
    "df = df.rename(columns = {\"NumExpediente\" : \"num_expediente\",\n",
    "                           \"Fecha\" : \"fecha\",\n",
    "                           \"Distrito\": \"distrito\",\n",
    "                           \"TipoAccidente\" : \"tipo_accidente\",\n",
    "                           \"Sexo\": \"sexo\"}\n",
    "              )\n",
    "df.info()"
   ]
  },
  {
   "cell_type": "code",
   "execution_count": null,
   "metadata": {},
   "outputs": [],
   "source": [
    "df.sample(10)"
   ]
  },
  {
   "cell_type": "markdown",
   "metadata": {},
   "source": [
    "Eliminamos los expedientes duplicados para simplificar el ejemplo ..."
   ]
  },
  {
   "cell_type": "code",
   "execution_count": null,
   "metadata": {},
   "outputs": [],
   "source": [
    "ExpedientesDuplicados = pd.DataFrame(df.groupby(\"num_expediente\").size()).reset_index().rename( columns = {0 : 'n'}).query(\"n > 1\").num_expediente\n",
    "df = df[~df.num_expediente.isin(ExpedientesDuplicados)]\n",
    "df = df[df.sexo.notnull()]\n",
    "df = df.reset_index(drop = True)\n",
    "df.info()"
   ]
  },
  {
   "cell_type": "code",
   "execution_count": null,
   "metadata": {},
   "outputs": [],
   "source": [
    "df.sample(10)"
   ]
  },
  {
   "cell_type": "markdown",
   "metadata": {},
   "source": [
    "## Grabación de los datos limpios"
   ]
  },
  {
   "cell_type": "markdown",
   "metadata": {},
   "source": [
    "Y finalmente escribimos el resultado a un fichero Excel ,,,"
   ]
  },
  {
   "cell_type": "code",
   "execution_count": null,
   "metadata": {},
   "outputs": [],
   "source": [
    "writer = pd.ExcelWriter(\"../../data/accidentes.xlsx\")\n",
    "df.to_excel(writer, 'Data', index=False)\n",
    "writer.save()"
   ]
  },
  {
   "cell_type": "code",
   "execution_count": null,
   "metadata": {},
   "outputs": [],
   "source": []
  }
 ],
 "metadata": {
  "kernelspec": {
   "display_name": "Python 3",
   "language": "python",
   "name": "python3"
  },
  "language_info": {
   "codemirror_mode": {
    "name": "ipython",
    "version": 3
   },
   "file_extension": ".py",
   "mimetype": "text/x-python",
   "name": "python",
   "nbconvert_exporter": "python",
   "pygments_lexer": "ipython3",
   "version": "3.6.12"
  }
 },
 "nbformat": 4,
 "nbformat_minor": 4
}
