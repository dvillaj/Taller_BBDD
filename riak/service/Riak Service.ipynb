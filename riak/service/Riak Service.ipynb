{
 "cells": [
  {
   "cell_type": "markdown",
   "metadata": {},
   "source": [
    "# Setup"
   ]
  },
  {
   "cell_type": "code",
   "execution_count": 43,
   "metadata": {},
   "outputs": [],
   "source": [
    "%alias riak /usr/local/bin/docker-compose -f /opt/compose/compose-riak/docker-compose.yml"
   ]
  },
  {
   "cell_type": "markdown",
   "metadata": {},
   "source": [
    "# Star Coordinator"
   ]
  },
  {
   "cell_type": "code",
   "execution_count": 63,
   "metadata": {},
   "outputs": [
    {
     "name": "stdout",
     "output_type": "stream",
     "text": [
      "Creating network \"compose-riak_default\" with the default driver\n",
      "Creating compose-riak_coordinator_1 ... \n",
      "\u001b[1Bting compose-riak_coordinator_1 ... \u001b[32mdone\u001b[0m"
     ]
    }
   ],
   "source": [
    "riak up -d coordinator"
   ]
  },
  {
   "cell_type": "markdown",
   "metadata": {},
   "source": [
    "# Scale the Cluster (4 members)"
   ]
  },
  {
   "cell_type": "code",
   "execution_count": 64,
   "metadata": {},
   "outputs": [
    {
     "name": "stdout",
     "output_type": "stream",
     "text": [
      "compose-riak_coordinator_1 is up-to-date\n",
      "Creating compose-riak_member_1 ... \n",
      "Creating compose-riak_member_2 ... \n",
      "Creating compose-riak_member_3 ... \n",
      "Creating compose-riak_member_4 ... \n",
      "\u001b[4Bting compose-riak_member_1 ... \u001b[32mdone\u001b[0m\u001b[3A\u001b[2K\u001b[2A\u001b[2K\u001b[4A\u001b[2K"
     ]
    }
   ],
   "source": [
    "riak up -d --scale member=4"
   ]
  },
  {
   "cell_type": "markdown",
   "metadata": {},
   "source": [
    "# Bucket Types"
   ]
  },
  {
   "cell_type": "code",
   "execution_count": 68,
   "metadata": {},
   "outputs": [],
   "source": [
    "%alias riak-admin docker exec -it compose-riak_coordinator_1 riak-admin"
   ]
  },
  {
   "cell_type": "code",
   "execution_count": 69,
   "metadata": {},
   "outputs": [
    {
     "name": "stdout",
     "output_type": "stream",
     "text": [
      "maps created\n",
      "\n",
      "WARNING: After activating maps, nodes in this cluster\n",
      "can no longer be downgraded to a version of Riak prior to 2.0\n",
      "sets created\n",
      "\n",
      "WARNING: After activating sets, nodes in this cluster\n",
      "can no longer be downgraded to a version of Riak prior to 2.0\n",
      "counters created\n",
      "\n",
      "WARNING: After activating counters, nodes in this cluster\n",
      "can no longer be downgraded to a version of Riak prior to 2.0\n"
     ]
    }
   ],
   "source": [
    "%riak-admin bucket-type create maps '{\"props\":{\"datatype\":\"map\"}}'\n",
    "%riak-admin bucket-type create sets '{\"props\":{\"datatype\":\"set\"}}'\n",
    "%riak-admin bucket-type create counters '{\"props\":{\"datatype\":\"counter\"}}'"
   ]
  },
  {
   "cell_type": "code",
   "execution_count": 70,
   "metadata": {},
   "outputs": [
    {
     "name": "stdout",
     "output_type": "stream",
     "text": [
      "maps has been activated\n",
      "\n",
      "WARNING: Nodes in this cluster can no longer be\n",
      "downgraded to a version of Riak prior to 2.0\n",
      "sets has been activated\n",
      "counters has been activated\n"
     ]
    }
   ],
   "source": [
    "%riak-admin bucket-type activate maps\n",
    "%riak-admin bucket-type activate sets\n",
    "%riak-admin bucket-type activate counters"
   ]
  },
  {
   "cell_type": "markdown",
   "metadata": {},
   "source": [
    "# Containers"
   ]
  },
  {
   "cell_type": "code",
   "execution_count": 71,
   "metadata": {},
   "outputs": [
    {
     "name": "stdout",
     "output_type": "stream",
     "text": [
      "         Name                   Command           State           Ports         \n",
      "--------------------------------------------------------------------------------\n",
      "compose-                 /usr/lib/riak/riak-      Up      0.0.0.0:8087->8087/tcp\n",
      "riak_coordinator_1       cluster.sh                       ,                     \n",
      "                                                          0.0.0.0:8098->8098/tcp\n",
      "compose-riak_member_1    /usr/lib/riak/riak-      Up      0.0.0.0:32797->8087/tc\n",
      "                         cluster.sh                       p, 0.0.0.0:32796->8098\n",
      "                                                          /tcp                  \n",
      "compose-riak_member_2    /usr/lib/riak/riak-      Up      0.0.0.0:32793->8087/tc\n",
      "                         cluster.sh                       p, 0.0.0.0:32792->8098\n",
      "                                                          /tcp                  \n",
      "compose-riak_member_3    /usr/lib/riak/riak-      Up      0.0.0.0:32799->8087/tc\n",
      "                         cluster.sh                       p, 0.0.0.0:32798->8098\n",
      "                                                          /tcp                  \n",
      "compose-riak_member_4    /usr/lib/riak/riak-      Up      0.0.0.0:32795->8087/tc\n",
      "                         cluster.sh                       p, 0.0.0.0:32794->8098\n",
      "                                                          /tcp                  \n"
     ]
    }
   ],
   "source": [
    "riak ps"
   ]
  },
  {
   "cell_type": "markdown",
   "metadata": {},
   "source": [
    "# Admin Riak"
   ]
  },
  {
   "cell_type": "markdown",
   "metadata": {},
   "source": [
    "http://localhost:8098/admin/"
   ]
  },
  {
   "cell_type": "markdown",
   "metadata": {},
   "source": [
    "# Logs"
   ]
  },
  {
   "cell_type": "code",
   "execution_count": 60,
   "metadata": {},
   "outputs": [
    {
     "name": "stdout",
     "output_type": "stream",
     "text": [
      "Attaching to compose-riak_member_4, compose-riak_member_2, compose-riak_member_1, compose-riak_member_3, compose-riak_coordinator_1\n",
      "\u001b[36mcoordinator_1  |\u001b[0m + [[ -x /usr/sbin/riak ]]\n",
      "\u001b[36mcoordinator_1  |\u001b[0m + export RIAK=/usr/sbin/riak\n",
      "\u001b[36mcoordinator_1  |\u001b[0m + RIAK=/usr/sbin/riak\n",
      "\u001b[36mcoordinator_1  |\u001b[0m + export RIAK_CONF=/etc/riak/riak.conf\n",
      "\u001b[36mcoordinator_1  |\u001b[0m + RIAK_CONF=/etc/riak/riak.conf\n",
      "\u001b[36mcoordinator_1  |\u001b[0m + export USER_CONF=/etc/riak/user.conf\n",
      "\u001b[36mcoordinator_1  |\u001b[0m + USER_CONF=/etc/riak/user.conf\n",
      "\u001b[36mcoordinator_1  |\u001b[0m + export RIAK_ADVANCED_CONF=/etc/riak/advanced.config\n",
      "\u001b[36mcoordinator_1  |\u001b[0m + RIAK_ADVANCED_CONF=/etc/riak/advanced.config\n",
      "\u001b[36mcoordinator_1  |\u001b[0m + [[ -x /usr/sbin/riak-admin ]]\n",
      "\u001b[36mcoordinator_1  |\u001b[0m + export RIAK_ADMIN=/usr/sbin/riak-admin\n",
      "\u001b[36mcoordinator_1  |\u001b[0m + RIAK_ADMIN=/usr/sbin/riak-admin\n",
      "\u001b[36mcoordinator_1  |\u001b[0m + export SCHEMAS_DIR=/etc/riak/schemas/\n",
      "\u001b[36mcoordinator_1  |\u001b[0m + SCHEMAS_DIR=/etc/riak/schemas/\n",
      "\u001b[36mcoordinator_1  |\u001b[0m + export PB_PORT=8087\n",
      "\u001b[36mcoordinator_1  |\u001b[0m + PB_PORT=8087\n",
      "\u001b[36mcoordinator_1  |\u001b[0m + export HTTP_PORT=8098\n",
      "\u001b[36mcoordinator_1  |\u001b[0m + HTTP_PORT=8098\n",
      "\u001b[36mcoordinator_1  |\u001b[0m ++ ping -c1 531c38a84157\n",
      "\u001b[36mcoordinator_1  |\u001b[0m ++ awk '/^PING/ {print $3}'\n",
      "\u001b[36mcoordinator_1  |\u001b[0m ++ sed 's/[()]//g'\n",
      "\u001b[36mcoordinator_1  |\u001b[0m + export HOST=172.23.0.2\n",
      "\u001b[36mcoordinator_1  |\u001b[0m + HOST=172.23.0.2\n",
      "\u001b[36mcoordinator_1  |\u001b[0m + export CLUSTER_NAME=riakkv\n",
      "\u001b[36mcoordinator_1  |\u001b[0m + CLUSTER_NAME=riakkv\n",
      "\u001b[36mcoordinator_1  |\u001b[0m + export COORDINATOR_NODE=531c38a84157\n",
      "\u001b[36mcoordinator_1  |\u001b[0m + COORDINATOR_NODE=531c38a84157\n",
      "\u001b[36mcoordinator_1  |\u001b[0m ++ ping -c1 531c38a84157\n",
      "\u001b[36mcoordinator_1  |\u001b[0m ++ awk '/^PING/ {print $3}'\n",
      "\u001b[36mcoordinator_1  |\u001b[0m ++ sed 's/[()]//g'\n",
      "\u001b[36mcoordinator_1  |\u001b[0m + export COORDINATOR_NODE_HOST=172.23.0.2\n",
      "\u001b[36mcoordinator_1  |\u001b[0m + COORDINATOR_NODE_HOST=172.23.0.2\n",
      "\u001b[36mcoordinator_1  |\u001b[0m ++ sort\n",
      "\u001b[36mcoordinator_1  |\u001b[0m ++ find /etc/riak/prestart.d -name '*.sh' -print\n",
      "\u001b[36mcoordinator_1  |\u001b[0m + PRESTART='/etc/riak/prestart.d/00-update-riak-conf.sh\n",
      "\u001b[36mcoordinator_1  |\u001b[0m /etc/riak/prestart.d/01-maybe-update-cluster-convergence.sh\n",
      "\u001b[36mcoordinator_1  |\u001b[0m /etc/riak/prestart.d/script.sh'\n",
      "\u001b[36mcoordinator_1  |\u001b[0m + for s in '$PRESTART'\n",
      "\u001b[36mcoordinator_1  |\u001b[0m + . /etc/riak/prestart.d/00-update-riak-conf.sh\n",
      "\u001b[36mcoordinator_1  |\u001b[0m ++ cat\n",
      "\u001b[36mcoordinator_1  |\u001b[0m ++ '[' -s /etc/riak/user.conf ']'\n",
      "\u001b[36mcoordinator_1  |\u001b[0m + for s in '$PRESTART'\n",
      "\u001b[36mcoordinator_1  |\u001b[0m + . /etc/riak/prestart.d/01-maybe-update-cluster-convergence.sh\n",
      "\u001b[36mcoordinator_1  |\u001b[0m +++ awk -F= '/ring_size/{print $2}' /etc/riak/riak.conf\n",
      "\u001b[36mcoordinator_1  |\u001b[0m +++ sed 's/[ ]//'\n",
      "\u001b[36mcoordinator_1  |\u001b[0m ++ RING_SIZE=64\n",
      "\u001b[36mcoordinator_1  |\u001b[0m ++ CLUSTER_CONVERGENCE=standard\n",
      "\u001b[36mcoordinator_1  |\u001b[0m ++ [[ fast == \\s\\t\\a\\n\\d\\a\\r\\d ]]\n",
      "\u001b[36mcoordinator_1  |\u001b[0m + for s in '$PRESTART'\n",
      "\u001b[36mcoordinator_1  |\u001b[0m + . /etc/riak/prestart.d/script.sh\n",
      "\u001b[36mcoordinator_1  |\u001b[0m ++ set -eux\n",
      "\u001b[36mcoordinator_1  |\u001b[0m ++ sed -i 's/storage_backend = bitcask/storage_backend = leveldb/' /etc/riak/riak.conf\n",
      "\u001b[36mcoordinator_1  |\u001b[0m + /usr/sbin/riak start\n",
      "\u001b[36mcoordinator_1  |\u001b[0m + /usr/sbin/riak-admin wait-for-service riak_kv\n",
      "\u001b[36mcoordinator_1  |\u001b[0m riak_kv is not up: []\n",
      "\u001b[36mcoordinator_1  |\u001b[0m riak_kv is not up: []\n",
      "\u001b[35mmember_3       |\u001b[0m + [[ -x /usr/sbin/riak ]]\n",
      "\u001b[35mmember_3       |\u001b[0m + export RIAK=/usr/sbin/riak\n",
      "\u001b[35mmember_3       |\u001b[0m + RIAK=/usr/sbin/riak\n",
      "\u001b[35mmember_3       |\u001b[0m + export RIAK_CONF=/etc/riak/riak.conf\n",
      "\u001b[35mmember_3       |\u001b[0m + RIAK_CONF=/etc/riak/riak.conf\n",
      "\u001b[35mmember_3       |\u001b[0m + export USER_CONF=/etc/riak/user.conf\n",
      "\u001b[35mmember_3       |\u001b[0m + USER_CONF=/etc/riak/user.conf\n",
      "\u001b[35mmember_3       |\u001b[0m + export RIAK_ADVANCED_CONF=/etc/riak/advanced.config\n",
      "\u001b[35mmember_3       |\u001b[0m + RIAK_ADVANCED_CONF=/etc/riak/advanced.config\n",
      "\u001b[35mmember_3       |\u001b[0m + [[ -x /usr/sbin/riak-admin ]]\n",
      "\u001b[35mmember_3       |\u001b[0m + export RIAK_ADMIN=/usr/sbin/riak-admin\n",
      "\u001b[35mmember_3       |\u001b[0m + RIAK_ADMIN=/usr/sbin/riak-admin\n",
      "\u001b[35mmember_3       |\u001b[0m + export SCHEMAS_DIR=/etc/riak/schemas/\n",
      "\u001b[35mmember_3       |\u001b[0m + SCHEMAS_DIR=/etc/riak/schemas/\n",
      "\u001b[35mmember_3       |\u001b[0m + export PB_PORT=8087\n",
      "\u001b[35mmember_3       |\u001b[0m + PB_PORT=8087\n",
      "\u001b[35mmember_3       |\u001b[0m + export HTTP_PORT=8098\n",
      "\u001b[35mmember_3       |\u001b[0m + HTTP_PORT=8098\n",
      "\u001b[35mmember_3       |\u001b[0m ++ ping -c1 127a38359f3a\n",
      "\u001b[35mmember_3       |\u001b[0m ++ sed 's/[()]//g'\n",
      "\u001b[35mmember_3       |\u001b[0m ++ awk '/^PING/ {print $3}'\n",
      "\u001b[35mmember_3       |\u001b[0m + export HOST=172.23.0.5\n",
      "\u001b[35mmember_3       |\u001b[0m + HOST=172.23.0.5\n",
      "\u001b[35mmember_3       |\u001b[0m + export CLUSTER_NAME=riakkv\n",
      "\u001b[35mmember_3       |\u001b[0m + CLUSTER_NAME=riakkv\n",
      "\u001b[35mmember_3       |\u001b[0m + export COORDINATOR_NODE=coordinator\n",
      "\u001b[35mmember_3       |\u001b[0m + COORDINATOR_NODE=coordinator\n",
      "\u001b[35mmember_3       |\u001b[0m ++ sed 's/[()]//g'\n",
      "\u001b[35mmember_3       |\u001b[0m ++ awk '/^PING/ {print $3}'\n",
      "\u001b[35mmember_3       |\u001b[0m ++ ping -c1 coordinator\n",
      "\u001b[35mmember_3       |\u001b[0m + export COORDINATOR_NODE_HOST=172.23.0.2\n",
      "\u001b[35mmember_3       |\u001b[0m + COORDINATOR_NODE_HOST=172.23.0.2\n",
      "\u001b[35mmember_3       |\u001b[0m ++ find /etc/riak/prestart.d -name '*.sh' -print\n",
      "\u001b[35mmember_3       |\u001b[0m ++ sort\n",
      "\u001b[35mmember_3       |\u001b[0m + PRESTART='/etc/riak/prestart.d/00-update-riak-conf.sh\n",
      "\u001b[35mmember_3       |\u001b[0m /etc/riak/prestart.d/01-maybe-update-cluster-convergence.sh\n",
      "\u001b[35mmember_3       |\u001b[0m /etc/riak/prestart.d/script.sh'\n",
      "\u001b[35mmember_3       |\u001b[0m + for s in '$PRESTART'\n",
      "\u001b[35mmember_3       |\u001b[0m + . /etc/riak/prestart.d/00-update-riak-conf.sh\n",
      "\u001b[35mmember_3       |\u001b[0m ++ cat\n",
      "\u001b[35mmember_3       |\u001b[0m ++ '[' -s /etc/riak/user.conf ']'\n",
      "\u001b[35mmember_3       |\u001b[0m + for s in '$PRESTART'\n",
      "\u001b[35mmember_3       |\u001b[0m + . /etc/riak/prestart.d/01-maybe-update-cluster-convergence.sh\n",
      "\u001b[35mmember_3       |\u001b[0m +++ awk -F= '/ring_size/{print $2}' /etc/riak/riak.conf\n",
      "\u001b[35mmember_3       |\u001b[0m +++ sed 's/[ ]//'\n",
      "\u001b[35mmember_3       |\u001b[0m ++ RING_SIZE=64\n",
      "\u001b[35mmember_3       |\u001b[0m ++ CLUSTER_CONVERGENCE=standard\n",
      "\u001b[35mmember_3       |\u001b[0m ++ [[ fast == \\s\\t\\a\\n\\d\\a\\r\\d ]]\n",
      "\u001b[35mmember_3       |\u001b[0m + for s in '$PRESTART'\n",
      "\u001b[35mmember_3       |\u001b[0m + . /etc/riak/prestart.d/script.sh\n",
      "\u001b[35mmember_3       |\u001b[0m ++ set -eux\n",
      "\u001b[35mmember_3       |\u001b[0m ++ sed -i 's/storage_backend = bitcask/storage_backend = leveldb/' /etc/riak/riak.conf\n",
      "\u001b[35mmember_3       |\u001b[0m + /usr/sbin/riak start\n",
      "\u001b[33mmember_1       |\u001b[0m + [[ -x /usr/sbin/riak ]]\n",
      "\u001b[33mmember_1       |\u001b[0m + export RIAK=/usr/sbin/riak\n",
      "\u001b[33mmember_1       |\u001b[0m + RIAK=/usr/sbin/riak\n",
      "\u001b[33mmember_1       |\u001b[0m + export RIAK_CONF=/etc/riak/riak.conf\n",
      "\u001b[33mmember_1       |\u001b[0m + RIAK_CONF=/etc/riak/riak.conf\n",
      "\u001b[33mmember_1       |\u001b[0m + export USER_CONF=/etc/riak/user.conf\n",
      "\u001b[33mmember_1       |\u001b[0m + USER_CONF=/etc/riak/user.conf\n",
      "\u001b[33mmember_1       |\u001b[0m + export RIAK_ADVANCED_CONF=/etc/riak/advanced.config\n",
      "\u001b[33mmember_1       |\u001b[0m + RIAK_ADVANCED_CONF=/etc/riak/advanced.config\n",
      "\u001b[33mmember_1       |\u001b[0m + [[ -x /usr/sbin/riak-admin ]]\n",
      "\u001b[33mmember_1       |\u001b[0m + export RIAK_ADMIN=/usr/sbin/riak-admin\n",
      "\u001b[33mmember_1       |\u001b[0m + RIAK_ADMIN=/usr/sbin/riak-admin\n",
      "\u001b[33mmember_1       |\u001b[0m + export SCHEMAS_DIR=/etc/riak/schemas/\n",
      "\u001b[33mmember_1       |\u001b[0m + SCHEMAS_DIR=/etc/riak/schemas/\n",
      "\u001b[33mmember_1       |\u001b[0m + export PB_PORT=8087\n",
      "\u001b[33mmember_1       |\u001b[0m + PB_PORT=8087\n",
      "\u001b[33mmember_1       |\u001b[0m + export HTTP_PORT=8098\n",
      "\u001b[33mmember_1       |\u001b[0m + HTTP_PORT=8098\n",
      "\u001b[33mmember_1       |\u001b[0m ++ ping -c1 983994df5a4b\n",
      "\u001b[33mmember_1       |\u001b[0m ++ awk '/^PING/ {print $3}'\n",
      "\u001b[33mmember_1       |\u001b[0m ++ sed 's/[()]//g'\n",
      "\u001b[33mmember_1       |\u001b[0m + export HOST=172.23.0.3\n",
      "\u001b[33mmember_1       |\u001b[0m + HOST=172.23.0.3\n",
      "\u001b[33mmember_1       |\u001b[0m + export CLUSTER_NAME=riakkv\n",
      "\u001b[33mmember_1       |\u001b[0m + CLUSTER_NAME=riakkv\n",
      "\u001b[33mmember_1       |\u001b[0m + export COORDINATOR_NODE=coordinator\n",
      "\u001b[33mmember_1       |\u001b[0m + COORDINATOR_NODE=coordinator\n",
      "\u001b[33mmember_1       |\u001b[0m ++ awk '/^PING/ {print $3}'\n",
      "\u001b[33mmember_1       |\u001b[0m ++ ping -c1 coordinator\n",
      "\u001b[33mmember_1       |\u001b[0m ++ sed 's/[()]//g'\n",
      "\u001b[33mmember_1       |\u001b[0m + export COORDINATOR_NODE_HOST=172.23.0.2\n",
      "\u001b[33mmember_1       |\u001b[0m + COORDINATOR_NODE_HOST=172.23.0.2\n",
      "\u001b[33mmember_1       |\u001b[0m ++ find /etc/riak/prestart.d -name '*.sh' -print\n",
      "\u001b[33mmember_1       |\u001b[0m ++ sort\n",
      "\u001b[33mmember_1       |\u001b[0m + PRESTART='/etc/riak/prestart.d/00-update-riak-conf.sh\n",
      "\u001b[33mmember_1       |\u001b[0m /etc/riak/prestart.d/01-maybe-update-cluster-convergence.sh\n",
      "\u001b[33mmember_1       |\u001b[0m /etc/riak/prestart.d/script.sh'\n",
      "\u001b[33mmember_1       |\u001b[0m + for s in '$PRESTART'\n",
      "\u001b[33mmember_1       |\u001b[0m + . /etc/riak/prestart.d/00-update-riak-conf.sh\n",
      "\u001b[33mmember_1       |\u001b[0m ++ cat\n",
      "\u001b[33mmember_1       |\u001b[0m ++ '[' -s /etc/riak/user.conf ']'\n",
      "\u001b[33mmember_1       |\u001b[0m + for s in '$PRESTART'\n",
      "\u001b[33mmember_1       |\u001b[0m + . /etc/riak/prestart.d/01-maybe-update-cluster-convergence.sh\n",
      "\u001b[33mmember_1       |\u001b[0m +++ awk -F= '/ring_size/{print $2}' /etc/riak/riak.conf\n",
      "\u001b[33mmember_1       |\u001b[0m +++ sed 's/[ ]//'\n",
      "\u001b[33mmember_1       |\u001b[0m ++ RING_SIZE=64\n",
      "\u001b[33mmember_1       |\u001b[0m ++ CLUSTER_CONVERGENCE=standard\n",
      "\u001b[33mmember_1       |\u001b[0m ++ [[ fast == \\s\\t\\a\\n\\d\\a\\r\\d ]]\n",
      "\u001b[33mmember_1       |\u001b[0m + for s in '$PRESTART'\n",
      "\u001b[33mmember_1       |\u001b[0m + . /etc/riak/prestart.d/script.sh\n",
      "\u001b[33mmember_1       |\u001b[0m ++ set -eux\n",
      "\u001b[33mmember_1       |\u001b[0m ++ sed -i 's/storage_backend = bitcask/storage_backend = leveldb/' /etc/riak/riak.conf\n",
      "\u001b[33mmember_1       |\u001b[0m + /usr/sbin/riak start\n",
      "\u001b[33mmember_1       |\u001b[0m + /usr/sbin/riak-admin wait-for-service riak_kv\n",
      "\u001b[33mmember_1       |\u001b[0m riak_kv is not up: []\n",
      "\u001b[34mmember_4       |\u001b[0m + [[ -x /usr/sbin/riak ]]\n",
      "\u001b[34mmember_4       |\u001b[0m + export RIAK=/usr/sbin/riak\n",
      "\u001b[34mmember_4       |\u001b[0m + RIAK=/usr/sbin/riak\n",
      "\u001b[34mmember_4       |\u001b[0m + export RIAK_CONF=/etc/riak/riak.conf\n",
      "\u001b[34mmember_4       |\u001b[0m + RIAK_CONF=/etc/riak/riak.conf\n",
      "\u001b[34mmember_4       |\u001b[0m + export USER_CONF=/etc/riak/user.conf\n",
      "\u001b[34mmember_4       |\u001b[0m + USER_CONF=/etc/riak/user.conf\n",
      "\u001b[34mmember_4       |\u001b[0m + export RIAK_ADVANCED_CONF=/etc/riak/advanced.config\n",
      "\u001b[34mmember_4       |\u001b[0m + RIAK_ADVANCED_CONF=/etc/riak/advanced.config\n",
      "\u001b[34mmember_4       |\u001b[0m + [[ -x /usr/sbin/riak-admin ]]\n",
      "\u001b[34mmember_4       |\u001b[0m + export RIAK_ADMIN=/usr/sbin/riak-admin\n",
      "\u001b[34mmember_4       |\u001b[0m + RIAK_ADMIN=/usr/sbin/riak-admin\n",
      "\u001b[34mmember_4       |\u001b[0m + export SCHEMAS_DIR=/etc/riak/schemas/\n",
      "\u001b[34mmember_4       |\u001b[0m + SCHEMAS_DIR=/etc/riak/schemas/\n",
      "\u001b[34mmember_4       |\u001b[0m + export PB_PORT=8087\n",
      "\u001b[34mmember_4       |\u001b[0m + PB_PORT=8087\n",
      "\u001b[34mmember_4       |\u001b[0m + export HTTP_PORT=8098\n",
      "\u001b[34mmember_4       |\u001b[0m + HTTP_PORT=8098\n",
      "\u001b[34mmember_4       |\u001b[0m ++ awk '/^PING/ {print $3}'\n",
      "\u001b[34mmember_4       |\u001b[0m ++ ping -c1 f5655dab8dc6\n",
      "\u001b[34mmember_4       |\u001b[0m ++ sed 's/[()]//g'\n",
      "\u001b[34mmember_4       |\u001b[0m + export HOST=172.23.0.4\n",
      "\u001b[34mmember_4       |\u001b[0m + HOST=172.23.0.4\n",
      "\u001b[34mmember_4       |\u001b[0m + export CLUSTER_NAME=riakkv\n",
      "\u001b[34mmember_4       |\u001b[0m + CLUSTER_NAME=riakkv\n",
      "\u001b[34mmember_4       |\u001b[0m + export COORDINATOR_NODE=coordinator\n",
      "\u001b[34mmember_4       |\u001b[0m + COORDINATOR_NODE=coordinator\n",
      "\u001b[34mmember_4       |\u001b[0m ++ ping -c1 coordinator\n",
      "\u001b[34mmember_4       |\u001b[0m ++ awk '/^PING/ {print $3}'\n",
      "\u001b[34mmember_4       |\u001b[0m ++ sed 's/[()]//g'\n",
      "\u001b[34mmember_4       |\u001b[0m + export COORDINATOR_NODE_HOST=172.23.0.2\n",
      "\u001b[34mmember_4       |\u001b[0m + COORDINATOR_NODE_HOST=172.23.0.2\n",
      "\u001b[34mmember_4       |\u001b[0m ++ find /etc/riak/prestart.d -name '*.sh' -print\n",
      "\u001b[34mmember_4       |\u001b[0m ++ sort\n",
      "\u001b[34mmember_4       |\u001b[0m + PRESTART='/etc/riak/prestart.d/00-update-riak-conf.sh\n",
      "\u001b[34mmember_4       |\u001b[0m /etc/riak/prestart.d/01-maybe-update-cluster-convergence.sh\n",
      "\u001b[34mmember_4       |\u001b[0m /etc/riak/prestart.d/script.sh'\n",
      "\u001b[34mmember_4       |\u001b[0m + for s in '$PRESTART'\n",
      "\u001b[34mmember_4       |\u001b[0m + . /etc/riak/prestart.d/00-update-riak-conf.sh\n",
      "\u001b[34mmember_4       |\u001b[0m ++ cat\n",
      "\u001b[34mmember_4       |\u001b[0m ++ '[' -s /etc/riak/user.conf ']'\n",
      "\u001b[34mmember_4       |\u001b[0m + for s in '$PRESTART'\n",
      "\u001b[34mmember_4       |\u001b[0m + . /etc/riak/prestart.d/01-maybe-update-cluster-convergence.sh\n",
      "\u001b[34mmember_4       |\u001b[0m +++ awk -F= '/ring_size/{print $2}' /etc/riak/riak.conf\n",
      "\u001b[34mmember_4       |\u001b[0m +++ sed 's/[ ]//'\n",
      "\u001b[34mmember_4       |\u001b[0m ++ RING_SIZE=64\n",
      "\u001b[34mmember_4       |\u001b[0m ++ CLUSTER_CONVERGENCE=standard\n",
      "\u001b[34mmember_4       |\u001b[0m ++ [[ fast == \\s\\t\\a\\n\\d\\a\\r\\d ]]\n",
      "\u001b[34mmember_4       |\u001b[0m + for s in '$PRESTART'\n",
      "\u001b[34mmember_4       |\u001b[0m + . /etc/riak/prestart.d/script.sh\n",
      "\u001b[34mmember_4       |\u001b[0m ++ set -eux\n",
      "\u001b[34mmember_4       |\u001b[0m ++ sed -i 's/storage_backend = bitcask/storage_backend = leveldb/' /etc/riak/riak.conf\n",
      "\u001b[34mmember_4       |\u001b[0m + /usr/sbin/riak start\n",
      "\u001b[34mmember_4       |\u001b[0m + /usr/sbin/riak-admin wait-for-service riak_kv\n",
      "\u001b[34mmember_4       |\u001b[0m riak_kv is not up: []\n",
      "\u001b[32mmember_2       |\u001b[0m + [[ -x /usr/sbin/riak ]]\n",
      "\u001b[32mmember_2       |\u001b[0m + export RIAK=/usr/sbin/riak\n",
      "\u001b[32mmember_2       |\u001b[0m + RIAK=/usr/sbin/riak\n",
      "\u001b[32mmember_2       |\u001b[0m + export RIAK_CONF=/etc/riak/riak.conf\n",
      "\u001b[32mmember_2       |\u001b[0m + RIAK_CONF=/etc/riak/riak.conf\n",
      "\u001b[32mmember_2       |\u001b[0m + export USER_CONF=/etc/riak/user.conf\n",
      "\u001b[32mmember_2       |\u001b[0m + USER_CONF=/etc/riak/user.conf\n",
      "\u001b[32mmember_2       |\u001b[0m + export RIAK_ADVANCED_CONF=/etc/riak/advanced.config\n",
      "\u001b[32mmember_2       |\u001b[0m + RIAK_ADVANCED_CONF=/etc/riak/advanced.config\n",
      "\u001b[32mmember_2       |\u001b[0m + [[ -x /usr/sbin/riak-admin ]]\n",
      "\u001b[32mmember_2       |\u001b[0m + export RIAK_ADMIN=/usr/sbin/riak-admin\n",
      "\u001b[32mmember_2       |\u001b[0m + RIAK_ADMIN=/usr/sbin/riak-admin\n",
      "\u001b[32mmember_2       |\u001b[0m + export SCHEMAS_DIR=/etc/riak/schemas/\n",
      "\u001b[32mmember_2       |\u001b[0m + SCHEMAS_DIR=/etc/riak/schemas/\n",
      "\u001b[32mmember_2       |\u001b[0m + export PB_PORT=8087\n",
      "\u001b[32mmember_2       |\u001b[0m + PB_PORT=8087\n",
      "\u001b[32mmember_2       |\u001b[0m + export HTTP_PORT=8098\n",
      "\u001b[32mmember_2       |\u001b[0m + HTTP_PORT=8098\n",
      "\u001b[32mmember_2       |\u001b[0m ++ ping -c1 627857eda9bc\n",
      "\u001b[32mmember_2       |\u001b[0m ++ awk '/^PING/ {print $3}'\n",
      "\u001b[32mmember_2       |\u001b[0m ++ sed 's/[()]//g'\n",
      "\u001b[32mmember_2       |\u001b[0m + export HOST=172.23.0.6\n",
      "\u001b[32mmember_2       |\u001b[0m + HOST=172.23.0.6\n",
      "\u001b[32mmember_2       |\u001b[0m + export CLUSTER_NAME=riakkv\n",
      "\u001b[32mmember_2       |\u001b[0m + CLUSTER_NAME=riakkv\n",
      "\u001b[32mmember_2       |\u001b[0m + export COORDINATOR_NODE=coordinator\n",
      "\u001b[32mmember_2       |\u001b[0m + COORDINATOR_NODE=coordinator\n",
      "\u001b[32mmember_2       |\u001b[0m ++ ping -c1 coordinator\n",
      "\u001b[32mmember_2       |\u001b[0m ++ awk '/^PING/ {print $3}'\n",
      "\u001b[32mmember_2       |\u001b[0m ++ sed 's/[()]//g'\n",
      "\u001b[32mmember_2       |\u001b[0m + export COORDINATOR_NODE_HOST=172.23.0.2\n",
      "\u001b[32mmember_2       |\u001b[0m + COORDINATOR_NODE_HOST=172.23.0.2\n",
      "\u001b[32mmember_2       |\u001b[0m ++ sort\n",
      "\u001b[32mmember_2       |\u001b[0m ++ find /etc/riak/prestart.d -name '*.sh' -print\n",
      "\u001b[32mmember_2       |\u001b[0m + PRESTART='/etc/riak/prestart.d/00-update-riak-conf.sh\n",
      "\u001b[32mmember_2       |\u001b[0m /etc/riak/prestart.d/01-maybe-update-cluster-convergence.sh\n",
      "\u001b[32mmember_2       |\u001b[0m /etc/riak/prestart.d/script.sh'\n",
      "\u001b[32mmember_2       |\u001b[0m + for s in '$PRESTART'\n",
      "\u001b[32mmember_2       |\u001b[0m + . /etc/riak/prestart.d/00-update-riak-conf.sh\n",
      "\u001b[32mmember_2       |\u001b[0m ++ cat\n",
      "\u001b[32mmember_2       |\u001b[0m ++ '[' -s /etc/riak/user.conf ']'\n",
      "\u001b[32mmember_2       |\u001b[0m + for s in '$PRESTART'\n",
      "\u001b[32mmember_2       |\u001b[0m + . /etc/riak/prestart.d/01-maybe-update-cluster-convergence.sh\n",
      "\u001b[32mmember_2       |\u001b[0m +++ sed 's/[ ]//'\n",
      "\u001b[32mmember_2       |\u001b[0m +++ awk -F= '/ring_size/{print $2}' /etc/riak/riak.conf\n",
      "\u001b[32mmember_2       |\u001b[0m ++ RING_SIZE=64\n",
      "\u001b[32mmember_2       |\u001b[0m ++ CLUSTER_CONVERGENCE=standard\n",
      "\u001b[32mmember_2       |\u001b[0m ++ [[ fast == \\s\\t\\a\\n\\d\\a\\r\\d ]]\n",
      "\u001b[32mmember_2       |\u001b[0m + for s in '$PRESTART'\n",
      "\u001b[32mmember_2       |\u001b[0m + . /etc/riak/prestart.d/script.sh\n",
      "\u001b[32mmember_2       |\u001b[0m ++ set -eux\n",
      "\u001b[32mmember_2       |\u001b[0m ++ sed -i 's/storage_backend = bitcask/storage_backend = leveldb/' /etc/riak/riak.conf\n",
      "\u001b[32mmember_2       |\u001b[0m + /usr/sbin/riak start\n",
      "\u001b[32mmember_2       |\u001b[0m + /usr/sbin/riak-admin wait-for-service riak_kv\n"
     ]
    }
   ],
   "source": [
    "riak logs"
   ]
  },
  {
   "cell_type": "markdown",
   "metadata": {},
   "source": [
    "# Stop Service"
   ]
  },
  {
   "cell_type": "code",
   "execution_count": 61,
   "metadata": {},
   "outputs": [
    {
     "name": "stdout",
     "output_type": "stream",
     "text": [
      "Stopping compose-riak_member_4      ... \n",
      "Stopping compose-riak_member_2      ... \n",
      "Stopping compose-riak_member_1      ... \n",
      "Stopping compose-riak_member_3      ... \n",
      "Stopping compose-riak_coordinator_1 ... \n",
      "\u001b[1BRemoving compose-riak_member_4      ... mdone\u001b[0m\u001b[1A\u001b[2K\n",
      "Removing compose-riak_member_2      ... \n",
      "Removing compose-riak_member_1      ... \n",
      "Removing compose-riak_member_3      ... \n",
      "Removing compose-riak_coordinator_1 ... \n",
      "\u001b[5BRemoving network compose-riak_default[32mdone\u001b[0m\n"
     ]
    }
   ],
   "source": [
    "riak down"
   ]
  },
  {
   "cell_type": "code",
   "execution_count": null,
   "metadata": {},
   "outputs": [],
   "source": []
  }
 ],
 "metadata": {
  "kernelspec": {
   "display_name": "Python 3",
   "language": "python",
   "name": "python3"
  },
  "language_info": {
   "codemirror_mode": {
    "name": "ipython",
    "version": 3
   },
   "file_extension": ".py",
   "mimetype": "text/x-python",
   "name": "python",
   "nbconvert_exporter": "python",
   "pygments_lexer": "ipython3",
   "version": "3.6.9"
  }
 },
 "nbformat": 4,
 "nbformat_minor": 4
}
