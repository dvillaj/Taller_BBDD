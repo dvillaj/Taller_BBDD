{
 "cells": [
  {
   "cell_type": "markdown",
   "metadata": {},
   "source": [
    "# Setup"
   ]
  },
  {
   "cell_type": "code",
   "execution_count": 2,
   "metadata": {},
   "outputs": [],
   "source": [
    "%alias riak /usr/local/bin/docker-compose -f /opt/compose/compose-riak/docker-compose.yml\n",
    "%alias riak-admin docker exec -it compose-riak_coordinator_1 riak-admin"
   ]
  },
  {
   "cell_type": "markdown",
   "metadata": {},
   "source": [
    "# Star Coordinator"
   ]
  },
  {
   "cell_type": "code",
   "execution_count": 4,
   "metadata": {},
   "outputs": [
    {
     "name": "stdout",
     "output_type": "stream",
     "text": [
      "Creating network \"compose-riak_default\" with the default driver\n",
      "Creating compose-riak_coordinator_1 ... \n",
      "\u001b[1Bting compose-riak_coordinator_1 ... \u001b[32mdone\u001b[0m"
     ]
    }
   ],
   "source": [
    "riak up -d coordinator"
   ]
  },
  {
   "cell_type": "markdown",
   "metadata": {},
   "source": [
    "# Admin Riak"
   ]
  },
  {
   "cell_type": "markdown",
   "metadata": {},
   "source": [
    "http://localhost:8098/admin/"
   ]
  },
  {
   "cell_type": "markdown",
   "metadata": {},
   "source": [
    "# Bucket Types"
   ]
  },
  {
   "cell_type": "code",
   "execution_count": 8,
   "metadata": {},
   "outputs": [
    {
     "name": "stdout",
     "output_type": "stream",
     "text": [
      "maps created\n",
      "\n",
      "WARNING: After activating maps, nodes in this cluster\n",
      "can no longer be downgraded to a version of Riak prior to 2.0\n",
      "sets created\n",
      "\n",
      "WARNING: After activating sets, nodes in this cluster\n",
      "can no longer be downgraded to a version of Riak prior to 2.0\n",
      "counters created\n",
      "\n",
      "WARNING: After activating counters, nodes in this cluster\n",
      "can no longer be downgraded to a version of Riak prior to 2.0\n"
     ]
    }
   ],
   "source": [
    "%riak-admin bucket-type create maps '{\"props\":{\"datatype\":\"map\"}}'\n",
    "%riak-admin bucket-type create sets '{\"props\":{\"datatype\":\"set\"}}'\n",
    "%riak-admin bucket-type create counters '{\"props\":{\"datatype\":\"counter\"}}'"
   ]
  },
  {
   "cell_type": "code",
   "execution_count": 9,
   "metadata": {},
   "outputs": [
    {
     "name": "stdout",
     "output_type": "stream",
     "text": [
      "maps has been activated\n",
      "\n",
      "WARNING: Nodes in this cluster can no longer be\n",
      "downgraded to a version of Riak prior to 2.0\n",
      "sets has been activated\n",
      "counters has been activated\n"
     ]
    }
   ],
   "source": [
    "%riak-admin bucket-type activate maps\n",
    "%riak-admin bucket-type activate sets\n",
    "%riak-admin bucket-type activate counters"
   ]
  },
  {
   "cell_type": "markdown",
   "metadata": {},
   "source": [
    "# Containers"
   ]
  },
  {
   "cell_type": "code",
   "execution_count": 10,
   "metadata": {},
   "outputs": [
    {
     "name": "stdout",
     "output_type": "stream",
     "text": [
      "         Name                   Command           State           Ports         \n",
      "--------------------------------------------------------------------------------\n",
      "compose-                 /usr/lib/riak/riak-      Up      0.0.0.0:8087->8087/tcp\n",
      "riak_coordinator_1       cluster.sh                       ,                     \n",
      "                                                          0.0.0.0:8098->8098/tcp\n"
     ]
    }
   ],
   "source": [
    "riak ps"
   ]
  },
  {
   "cell_type": "markdown",
   "metadata": {},
   "source": [
    "# Logs"
   ]
  },
  {
   "cell_type": "code",
   "execution_count": 13,
   "metadata": {},
   "outputs": [
    {
     "name": "stdout",
     "output_type": "stream",
     "text": [
      "\u001b[36mcoordinator_1  |\u001b[0m 2020-12-17 04:31:06.553 [info] <0.590.0>@riak_core:wait_for_service:504 Waiting for service riak_kv to start (0 seconds)\n",
      "\u001b[36mcoordinator_1  |\u001b[0m 2020-12-17 04:31:16.061 [info] <0.377.0>@riak_core:wait_for_service:498 Wait complete for service riak_kv (9 seconds)\n",
      "\u001b[36mcoordinator_1  |\u001b[0m 2020-12-17 04:31:16.061 [info] <0.590.0>@riak_core:wait_for_service:498 Wait complete for service riak_kv (9 seconds)\n",
      "\u001b[36mcoordinator_1  |\u001b[0m 2020-12-17 04:31:16.079 [info] <0.7.0> Application yokozuna started on node 'riak@172.20.0.2'\n",
      "\u001b[36mcoordinator_1  |\u001b[0m 2020-12-17 04:31:16.083 [info] <0.7.0> Application cluster_info started on node 'riak@172.20.0.2'\n",
      "\u001b[36mcoordinator_1  |\u001b[0m 2020-12-17 04:31:16.110 [info] <0.196.0>@riak_core_capability:process_capability_changes:555 New capability: {riak_control,member_info_version} = v1\n",
      "\u001b[36mcoordinator_1  |\u001b[0m 2020-12-17 04:31:16.114 [info] <0.7.0> Application riak_control started on node 'riak@172.20.0.2'\n",
      "\u001b[36mcoordinator_1  |\u001b[0m 2020-12-17 04:31:16.114 [info] <0.7.0> Application erlydtl started on node 'riak@172.20.0.2'\n",
      "\u001b[36mcoordinator_1  |\u001b[0m 2020-12-17 04:31:16.124 [info] <0.7.0> Application riak_auth_mods started on node 'riak@172.20.0.2'\n",
      "\u001b[36mcoordinator_1  |\u001b[0m 2020-12-17 04:31:21.238 [info] <0.370.0>@riak_core_throttle:maybe_log_throttle_change:372 Changing throttle for riak_kv/aae_throttle from undefined to 0 based on load factor 0\n"
     ]
    }
   ],
   "source": [
    "riak logs | tail"
   ]
  },
  {
   "cell_type": "markdown",
   "metadata": {},
   "source": [
    "# Stop Service"
   ]
  },
  {
   "cell_type": "code",
   "execution_count": 3,
   "metadata": {},
   "outputs": [
    {
     "name": "stdout",
     "output_type": "stream",
     "text": [
      "Removing compose-riak_coordinator_1 ... \n",
      "\u001b[1BRemoving network compose-riak_default[32mdone\u001b[0m\n"
     ]
    }
   ],
   "source": [
    "riak down"
   ]
  }
 ],
 "metadata": {
  "kernelspec": {
   "display_name": "Python 3",
   "language": "python",
   "name": "python3"
  },
  "language_info": {
   "codemirror_mode": {
    "name": "ipython",
    "version": 3
   },
   "file_extension": ".py",
   "mimetype": "text/x-python",
   "name": "python",
   "nbconvert_exporter": "python",
   "pygments_lexer": "ipython3",
   "version": "3.6.9"
  }
 },
 "nbformat": 4,
 "nbformat_minor": 4
}
