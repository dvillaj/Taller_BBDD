{
 "cells": [
  {
   "cell_type": "code",
   "execution_count": null,
   "metadata": {
    "collapsed": false
   },
   "outputs": [],
   "source": [
    "import riak\n",
    "\n",
    "client = riak.RiakClient(pb_port=8087, protocol='pbc')"
   ]
  },
  {
   "cell_type": "code",
   "execution_count": null,
   "metadata": {
    "collapsed": false
   },
   "outputs": [],
   "source": [
    "buckets = !echo learner | sudo -S -p \"\" riak-admin bucket-type list\n",
    "print buckets"
   ]
  },
  {
   "cell_type": "code",
   "execution_count": null,
   "metadata": {
    "collapsed": false
   },
   "outputs": [],
   "source": [
    "for b in buckets:\n",
    "    if '(active)' in b:\n",
    "        bucket_type = riak.bucket.BucketType(client, b.partition(' ')[0])          \n",
    "        for bucket in bucket_type.get_buckets():\n",
    "            for keys in bucket.stream_keys():\n",
    "                print('Bucket Type {0}: Bucket {1}').format(bucket_type.name, bucket.name)\n",
    "                "
   ]
  },
  {
   "cell_type": "code",
   "execution_count": null,
   "metadata": {
    "collapsed": false
   },
   "outputs": [],
   "source": [
    "for b in buckets:\n",
    "    if '(active)' in b:\n",
    "        bucket_type = riak.bucket.BucketType(client, b.partition(' ')[0])\n",
    "               \n",
    "        for bucket in bucket_type.get_buckets():\n",
    "            for keys in bucket.stream_keys():\n",
    "                for key in keys:\n",
    "                    print('Bucket Type {0}: Deleting key {1}/{2}').format(bucket_type.name, bucket.name, key)\n",
    "                    bucket.delete(key)\n"
   ]
  }
 ],
 "metadata": {
  "kernelspec": {
   "display_name": "Python 2",
   "language": "python",
   "name": "python2"
  },
  "language_info": {
   "codemirror_mode": {
    "name": "ipython",
    "version": 2
   },
   "file_extension": ".py",
   "mimetype": "text/x-python",
   "name": "python",
   "nbconvert_exporter": "python",
   "pygments_lexer": "ipython2",
   "version": "2.7.6"
  }
 },
 "nbformat": 4,
 "nbformat_minor": 0
}
