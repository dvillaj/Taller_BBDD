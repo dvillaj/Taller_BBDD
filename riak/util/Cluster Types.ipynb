{
 "cells": [
  {
   "cell_type": "markdown",
   "metadata": {},
   "source": [
    "# Bucket Types"
   ]
  },
  {
   "cell_type": "code",
   "execution_count": null,
   "metadata": {},
   "outputs": [],
   "source": [
    "%alias riak-admin docker exec -it compose-riak_coordinator_1 riak-admin"
   ]
  },
  {
   "cell_type": "code",
   "execution_count": null,
   "metadata": {},
   "outputs": [],
   "source": [
    "%riak-admin bucket-type create maps '{\"props\":{\"datatype\":\"map\"}}'\n",
    "%riak-admin bucket-type create sets '{\"props\":{\"datatype\":\"set\"}}'\n",
    "%riak-admin bucket-type create counters '{\"props\":{\"datatype\":\"counter\"}}'"
   ]
  },
  {
   "cell_type": "code",
   "execution_count": null,
   "metadata": {},
   "outputs": [],
   "source": [
    "%riak-admin bucket-type activate maps\n",
    "%riak-admin bucket-type activate sets\n",
    "%riak-admin bucket-type activate counters"
   ]
  }
 ],
 "metadata": {
  "kernelspec": {
   "display_name": "Python 3",
   "language": "python",
   "name": "python3"
  },
  "language_info": {
   "codemirror_mode": {
    "name": "ipython",
    "version": 3
   },
   "file_extension": ".py",
   "mimetype": "text/x-python",
   "name": "python",
   "nbconvert_exporter": "python",
   "pygments_lexer": "ipython3",
   "version": "3.6.9"
  }
 },
 "nbformat": 4,
 "nbformat_minor": 4
}
