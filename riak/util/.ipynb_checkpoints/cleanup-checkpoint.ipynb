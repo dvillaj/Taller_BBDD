{
 "cells": [
  {
   "cell_type": "code",
   "execution_count": 4,
   "metadata": {
    "collapsed": false
   },
   "outputs": [],
   "source": [
    "import riak\n",
    "\n",
    "client = riak.RiakClient(pb_port=8087, protocol='pbc')"
   ]
  },
  {
   "cell_type": "code",
   "execution_count": 5,
   "metadata": {
    "collapsed": false
   },
   "outputs": [
    {
     "name": "stdout",
     "output_type": "stream",
     "text": [
      "['default (active)']\n"
     ]
    }
   ],
   "source": [
    "buckets = !echo learner | sudo -S -p \"\" riak-admin bucket-type list\n",
    "print buckets"
   ]
  },
  {
   "cell_type": "code",
   "execution_count": 6,
   "metadata": {
    "collapsed": false
   },
   "outputs": [
    {
     "name": "stdout",
     "output_type": "stream",
     "text": [
      "Bucket Type default: Bucket BUCKET\n",
      "Bucket Type default: Bucket test\n",
      "Bucket Type default: Bucket test\n",
      "Bucket Type default: Bucket test\n",
      "Bucket Type default: Bucket Orders\n",
      "Bucket Type default: Bucket Orders\n",
      "Bucket Type default: Bucket Orders\n",
      "Bucket Type default: Bucket OrderSummaries\n",
      "Bucket Type default: Bucket Customers\n",
      "Bucket Type default: Bucket images\n",
      "Bucket Type default: Bucket status\n",
      "Bucket Type default: Bucket status\n",
      "Bucket Type default: Bucket status\n",
      "Bucket Type default: Bucket status\n",
      "Bucket Type default: Bucket status\n",
      "Bucket Type default: Bucket status\n",
      "Bucket Type default: Bucket status\n",
      "Bucket Type default: Bucket status\n",
      "Bucket Type default: Bucket status\n",
      "Bucket Type default: Bucket status\n",
      "Bucket Type default: Bucket ejemplo_indices\n",
      "Bucket Type default: Bucket ejemplo_indices\n",
      "Bucket Type default: Bucket ejemplo_indices\n",
      "Bucket Type default: Bucket ejemplo_indices\n",
      "Bucket Type default: Bucket ejemplo_indices\n",
      "Bucket Type default: Bucket bucket_name\n",
      "Bucket Type default: Bucket bucket_name\n",
      "Bucket Type default: Bucket bucket_name\n"
     ]
    }
   ],
   "source": [
    "for b in buckets:\n",
    "    if '(active)' in b:\n",
    "        bucket_type = riak.bucket.BucketType(client, b.partition(' ')[0])          \n",
    "        for bucket in bucket_type.get_buckets():\n",
    "            for keys in bucket.stream_keys():\n",
    "                print('Bucket Type {0}: Bucket {1}').format(bucket_type.name, bucket.name)\n",
    "                "
   ]
  },
  {
   "cell_type": "code",
   "execution_count": 42,
   "metadata": {
    "collapsed": false
   },
   "outputs": [
    {
     "name": "stdout",
     "output_type": "stream",
     "text": [
      "Bucket Type default: Deleting key users/2318606822\n",
      "Bucket Type default: Deleting key users/181183773\n",
      "Bucket Type default: Deleting key users/97716631\n",
      "Bucket Type default: Deleting key tweets/658171535824416768\n",
      "Bucket Type default: Deleting key tweets/658168624692228096\n",
      "Bucket Type sets: Deleting key hashtags/NoSQL\n",
      "Bucket Type sets: Deleting key hashtags/SQL\n"
     ]
    }
   ],
   "source": [
    "for b in buckets:\n",
    "    if '(active)' in b:\n",
    "        bucket_type = riak.bucket.BucketType(client, b.partition(' ')[0])\n",
    "               \n",
    "        for bucket in bucket_type.get_buckets():\n",
    "            for keys in bucket.stream_keys():\n",
    "                for key in keys:\n",
    "                    print('Bucket Type {0}: Deleting key {1}/{2}').format(bucket_type.name, bucket.name, key)\n",
    "                    bucket.delete(key)\n"
   ]
  },
  {
   "cell_type": "code",
   "execution_count": null,
   "metadata": {
    "collapsed": true
   },
   "outputs": [],
   "source": []
  }
 ],
 "metadata": {
  "kernelspec": {
   "display_name": "Python 2",
   "language": "python",
   "name": "python2"
  },
  "language_info": {
   "codemirror_mode": {
    "name": "ipython",
    "version": 2
   },
   "file_extension": ".py",
   "mimetype": "text/x-python",
   "name": "python",
   "nbconvert_exporter": "python",
   "pygments_lexer": "ipython2",
   "version": "2.7.6"
  }
 },
 "nbformat": 4,
 "nbformat_minor": 0
}
