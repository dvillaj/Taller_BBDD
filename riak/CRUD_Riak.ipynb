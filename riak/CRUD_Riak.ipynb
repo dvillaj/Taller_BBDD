{
 "cells": [
  {
   "cell_type": "markdown",
   "metadata": {},
   "source": [
    "# Operaciones CRUD en Riak\n"
   ]
  },
  {
   "cell_type": "markdown",
   "metadata": {},
   "source": [
    "## Insertar / Actualizar una clave"
   ]
  },
  {
   "cell_type": "code",
   "execution_count": 1,
   "metadata": {
    "collapsed": false,
    "jupyter": {
     "outputs_hidden": false
    }
   },
   "outputs": [
    {
     "name": "stdout",
     "output_type": "stream",
     "text": [
      "HTTP/1.1 204 No Content\n",
      "Vary: Accept-Encoding\n",
      "Server: MochiWeb/1.1 WebMachine/1.10.9 (cafe not found)\n",
      "Date: Sat, 28 Mar 2020 07:18:49 GMT\n",
      "Content-Type: text/plain\n",
      "Content-Length: 0\n",
      "\n"
     ]
    }
   ],
   "source": [
    "!curl -i -XPUT \"http://localhost:8098/riak/food/favorite\" \\\n",
    "-H \"Content-Type:text/plain\" \\\n",
    "-d \"pizza\"\n"
   ]
  },
  {
   "cell_type": "markdown",
   "metadata": {},
   "source": [
    "## Leer una clave"
   ]
  },
  {
   "cell_type": "code",
   "execution_count": 2,
   "metadata": {
    "collapsed": false,
    "jupyter": {
     "outputs_hidden": false
    }
   },
   "outputs": [
    {
     "name": "stdout",
     "output_type": "stream",
     "text": [
      "HTTP/1.1 200 OK\n",
      "X-Riak-Vclock: a85hYGBgzGDKBVI8DAbyfSUna75AhBIZ81gZIss+X+fLAgA=\n",
      "Vary: Accept-Encoding\n",
      "Server: MochiWeb/1.1 WebMachine/1.10.9 (cafe not found)\n",
      "Link: </riak/food>; rel=\"up\"\n",
      "Last-Modified: Sat, 28 Mar 2020 07:18:49 GMT\n",
      "ETag: \"XJw0evJdoMP9xTEhin0Oz\"\n",
      "Date: Sat, 28 Mar 2020 07:18:58 GMT\n",
      "Content-Type: text/plain\n",
      "Content-Length: 5\n",
      "\n",
      "pizza"
     ]
    }
   ],
   "source": [
    "!curl -i -XGET \"http://localhost:8098/riak/food/favorite\" "
   ]
  },
  {
   "cell_type": "markdown",
   "metadata": {},
   "source": [
    "## Borrar una clave"
   ]
  },
  {
   "cell_type": "code",
   "execution_count": 3,
   "metadata": {
    "collapsed": false,
    "jupyter": {
     "outputs_hidden": false
    }
   },
   "outputs": [
    {
     "name": "stdout",
     "output_type": "stream",
     "text": [
      "HTTP/1.1 204 No Content\n",
      "Vary: Accept-Encoding\n",
      "Server: MochiWeb/1.1 WebMachine/1.10.9 (cafe not found)\n",
      "Date: Sat, 28 Mar 2020 07:19:02 GMT\n",
      "Content-Type: text/plain\n",
      "Content-Length: 0\n",
      "\n"
     ]
    }
   ],
   "source": [
    "!curl -i -XDELETE \"http://localhost:8098/riak/food/favorite\" "
   ]
  },
  {
   "cell_type": "markdown",
   "metadata": {},
   "source": [
    " ## Insertar un valor sin una utilizar clave (Riak la devuelve)"
   ]
  },
  {
   "cell_type": "code",
   "execution_count": 4,
   "metadata": {
    "collapsed": false,
    "jupyter": {
     "outputs_hidden": false
    }
   },
   "outputs": [
    {
     "name": "stdout",
     "output_type": "stream",
     "text": [
      "HTTP/1.1 201 Created\n",
      "X-Riak-Vclock: a85hYGBgzGDKBVI8DAbyfSUXUg9AhBIZ81gZsso+X+fLAgA=\n",
      "Vary: Accept-Encoding\n",
      "Server: MochiWeb/1.1 WebMachine/1.10.9 (cafe not found)\n",
      "Location: /riak/people/1AiMLuH712AksmDiOxwcsypvNy9\n",
      "Link: </riak/people>; rel=\"up\"\n",
      "Last-Modified: Sat, 28 Mar 2020 07:19:06 GMT\n",
      "ETag: \"4iRlK87VlVTpMfZmGAyu34\"\n",
      "Date: Sat, 28 Mar 2020 07:19:06 GMT\n",
      "Content-Type: application/json\n",
      "Content-Length: 16\n",
      "\n",
      "{\"name\":\"billy\"}"
     ]
    }
   ],
   "source": [
    "! curl -i -XPOST \"http://localhost:8098/riak/people?returnbody=true\" \\\n",
    "-H \"Content-Type:application/json\" \\\n",
    "-d '{\"name\":\"billy\"}'"
   ]
  },
  {
   "cell_type": "code",
   "execution_count": 6,
   "metadata": {
    "collapsed": false,
    "jupyter": {
     "outputs_hidden": false
    }
   },
   "outputs": [
    {
     "name": "stdout",
     "output_type": "stream",
     "text": [
      "{\"name\":\"billy\"}"
     ]
    }
   ],
   "source": [
    "!curl http://localhost:8098/riak/people/1AiMLuH712AksmDiOxwcsypvNy9\n"
   ]
  },
  {
   "cell_type": "markdown",
   "metadata": {},
   "source": [
    "## Listado de buckets"
   ]
  },
  {
   "cell_type": "code",
   "execution_count": 7,
   "metadata": {
    "collapsed": false,
    "jupyter": {
     "outputs_hidden": false
    }
   },
   "outputs": [
    {
     "name": "stdout",
     "output_type": "stream",
     "text": [
      "{\"buckets\":[\"people\"]}"
     ]
    }
   ],
   "source": [
    "!curl \"http://localhost:8098/types/default/buckets?buckets=true\"\n"
   ]
  },
  {
   "cell_type": "markdown",
   "metadata": {},
   "source": [
    "## Listado de claves de un bucket"
   ]
  },
  {
   "cell_type": "code",
   "execution_count": null,
   "metadata": {
    "collapsed": false,
    "jupyter": {
     "outputs_hidden": false
    }
   },
   "outputs": [],
   "source": [
    "!curl \"http://localhost:8098/types/default/buckets/people/keys?keys=true\""
   ]
  },
  {
   "cell_type": "code",
   "execution_count": null,
   "metadata": {
    "collapsed": false,
    "jupyter": {
     "outputs_hidden": false
    }
   },
   "outputs": [],
   "source": [
    "!curl \"http://localhost:8098/types/default/buckets/people/keys?keys=stream\""
   ]
  }
 ],
 "metadata": {
  "kernelspec": {
   "display_name": "Python 3",
   "language": "python",
   "name": "python3"
  },
  "language_info": {
   "codemirror_mode": {
    "name": "ipython",
    "version": 3
   },
   "file_extension": ".py",
   "mimetype": "text/x-python",
   "name": "python",
   "nbconvert_exporter": "python",
   "pygments_lexer": "ipython3",
   "version": "3.6.9"
  }
 },
 "nbformat": 4,
 "nbformat_minor": 4
}
