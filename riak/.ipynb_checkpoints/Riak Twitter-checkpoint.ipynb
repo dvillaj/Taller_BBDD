{
 "cells": [
  {
   "cell_type": "markdown",
   "metadata": {},
   "source": [
    "# Almacenando datos de Twitter en Riak"
   ]
  },
  {
   "cell_type": "markdown",
   "metadata": {},
   "source": [
    "![png](https://upload.wikimedia.org/wikipedia/en/8/8e/Riak_distributed_NoSQL_key-value_data_store_logo.png)"
   ]
  },
  {
   "cell_type": "markdown",
   "metadata": {},
   "source": [
    "Se van a crear los siguientes buckets:\n",
    "\n",
    "|bucket|Clave|Contenido|\n",
    "|-|-|-|\n",
    "|tweets|Id del tweet|Datos del Tweet en formnato JSON. Está incluido el tweet retwiteado y los datos del usuario|\n",
    "|users|Código de usuario (screeen_name)|Datos del usurario en formato JSON|\n",
    "|hashtag|Hashtag|Nº de veces que aparce el hashtag en cualquiera de los tweets|\n",
    "\n",
    "El bucket de tweets tendrá los siguientes índices:\n",
    "\n",
    "|Nombre del índice|Contenido|¿Que busquedas permite hacer?|\n",
    "|-|-|-|\n",
    "|idx_usr_bin|Usuario que crea el tweet|Tweets que ha creado un determinado usuario|\n",
    "|idx_hashtag_bin|Hashtag que se menciona en el tweet|Tweets donde aparece un determinado hashtag|\n",
    "|idx_user_mentioned_bin|Usuario que se mencionan en el tweet| Tweets donde se menciona a un determinado usuario|"
   ]
  },
  {
   "cell_type": "code",
   "execution_count": null,
   "metadata": {
    "collapsed": true
   },
   "outputs": [],
   "source": [
    "import riak\n",
    "from pprintpp import pprint as pp\n",
    "import json"
   ]
  },
  {
   "cell_type": "code",
   "execution_count": null,
   "metadata": {
    "collapsed": false
   },
   "outputs": [],
   "source": [
    "# connect to database\n",
    "myClient = riak.RiakClient()\n",
    "myClient.ping()"
   ]
  },
  {
   "cell_type": "code",
   "execution_count": null,
   "metadata": {
    "collapsed": false
   },
   "outputs": [],
   "source": [
    "BUCKET_TWEETS = 'tweets'\n",
    "BUCKET_USERS = 'users'\n",
    "BUCKET_HASHTAGS = 'hashtags'\n",
    "\n",
    "tweets = myClient.bucket(BUCKET_TWEETS)\n",
    "users = myClient.bucket(BUCKET_USERS)\n",
    "hashtags = myClient.bucket(BUCKET_HASHTAGS)\n"
   ]
  },
  {
   "cell_type": "code",
   "execution_count": null,
   "metadata": {
    "collapsed": false
   },
   "outputs": [],
   "source": [
    "def insert_hashtag(hashtag):\n",
    "    count = hashtags.get(hashtag).data\n",
    "    if count == None:\n",
    "        count = 1\n",
    "    else:\n",
    "        count = count + 1\n",
    "\n",
    "    hashtags.new(hashtag, data = count).store()"
   ]
  },
  {
   "cell_type": "code",
   "execution_count": null,
   "metadata": {
    "collapsed": false
   },
   "outputs": [],
   "source": [
    "def insert_user(user_json, replace = True):\n",
    "    key_user = user_json[\"screen_name\"]\n",
    "    if replace or not users.get(key_user).exists:\n",
    "        user = users.new(key_user, user_json)\n",
    "        user.store()\n",
    "        \n",
    "    return key_user\n",
    "    "
   ]
  },
  {
   "cell_type": "code",
   "execution_count": null,
   "metadata": {
    "collapsed": false
   },
   "outputs": [],
   "source": [
    "def insert_tweet(tweet_json):\n",
    "    tweet = tweets.new(tweet_json[\"id_str\"], tweet_json)\n",
    "    user = insert_user(tweet_json['user'])\n",
    "    tweet.add_index('idx_usr_bin', user)\n",
    "    \n",
    "    for hashtag in tweet_json['entities']:\n",
    "        tweet.add_index('idx_hashtag_bin', hashtag)   \n",
    "        insert_hashtag(hashtag)\n",
    "        \n",
    "    for user_mentioned in tweet_json['user_mentions']:\n",
    "        tweet.add_index('idx_user_mentioned_bin', user_mentioned[\"screen_name\"])   \n",
    "        insert_user(user_mentioned, replace = False)    \n",
    "        \n",
    "    tweet.store()     \n",
    "\n",
    "    if 'retweeted_status' in tweet_json:\n",
    "        insert_tweet(tweet_json['retweeted_status'])\n"
   ]
  },
  {
   "cell_type": "code",
   "execution_count": null,
   "metadata": {
    "collapsed": false
   },
   "outputs": [],
   "source": [
    "tweets_data_path = '../data/tweets.json'\n",
    "tweets_file = open(tweets_data_path, \"r\")\n",
    "\n",
    "i = 1\n",
    "for line in tweets_file:\n",
    "    tweet_json = json.loads(line)\n",
    "    \n",
    "    try:\n",
    "        insert_tweet(tweet_json)\n",
    "        i = i + 1\n",
    "    except:\n",
    "        pass\n",
    "\n",
    "        \n",
    "print(\"%s tweets procesados\" % i)"
   ]
  },
  {
   "cell_type": "markdown",
   "metadata": {},
   "source": [
    "## Imprimir el contenido de 1 Tweet\n",
    "\n",
    "Imprimir el contenido del tweet con el id 655039580312371200"
   ]
  },
  {
   "cell_type": "code",
   "execution_count": null,
   "metadata": {
    "collapsed": false
   },
   "outputs": [],
   "source": [
    "tweet = tweets.get(\"655039580312371200\").data\n",
    "\n",
    "pp(tweet)"
   ]
  },
  {
   "cell_type": "markdown",
   "metadata": {},
   "source": [
    "## Mostrar la información asociada a 1 usuario\n",
    "\n",
    "Mostrar la información asociada al usuario DBaker007"
   ]
  },
  {
   "cell_type": "code",
   "execution_count": null,
   "metadata": {
    "collapsed": false
   },
   "outputs": [],
   "source": [
    "user = users.get(\"DBaker007\").data\n",
    "\n",
    "pp(user)"
   ]
  },
  {
   "cell_type": "markdown",
   "metadata": {},
   "source": [
    "## Listar los Hashtags de mas de 100 tweets"
   ]
  },
  {
   "cell_type": "code",
   "execution_count": null,
   "metadata": {
    "collapsed": false
   },
   "outputs": [],
   "source": [
    "for keys in hashtags.stream_keys():\n",
    "    for key in keys:\n",
    "        count = hashtags.get(key).data\n",
    "        if count > 100:\n",
    "            print('Hashtag %s:%s' % (key,  count))"
   ]
  },
  {
   "cell_type": "markdown",
   "metadata": {},
   "source": [
    "## Listar los tweets asociados a 1 Hashtag"
   ]
  },
  {
   "cell_type": "code",
   "execution_count": null,
   "metadata": {
    "collapsed": false
   },
   "outputs": [],
   "source": [
    "keys = tweets.stream_index(\"idx_hashtag_bin\", 'NoSQL')\n",
    "for keys in keys.results:\n",
    "    for key in keys:\n",
    "        tweet =  tweets.get(key).data\n",
    "        \n",
    "user = tweet[\"user\"][\"screen_name\"]\n",
    "print \"Último Tweet:\"\n",
    "pp(tweet)\n",
    "print \"User:\", user\n"
   ]
  },
  {
   "cell_type": "markdown",
   "metadata": {},
   "source": [
    "## Mostrar los tweets asociados a 1 usuario"
   ]
  },
  {
   "cell_type": "code",
   "execution_count": null,
   "metadata": {
    "collapsed": false
   },
   "outputs": [],
   "source": [
    "keys = tweets.stream_index(\"idx_usr_bin\", user)\n",
    "for keys in keys.results:\n",
    "    for tweet_key in keys:\n",
    "        tweet = tweets.get(tweet_key).data\n",
    "        print \"Tweet:\", tweet_key\n",
    "        \n",
    "pp(tweet)\n"
   ]
  },
  {
   "cell_type": "markdown",
   "metadata": {},
   "source": [
    "## Listado de usuarios"
   ]
  },
  {
   "cell_type": "code",
   "execution_count": null,
   "metadata": {
    "collapsed": false
   },
   "outputs": [],
   "source": [
    "for keys in users.stream_keys():  \n",
    "    for key in keys:\n",
    "        print('User %s' % key)"
   ]
  },
  {
   "cell_type": "code",
   "execution_count": null,
   "metadata": {
    "collapsed": true
   },
   "outputs": [],
   "source": []
  }
 ],
 "metadata": {
  "kernelspec": {
   "display_name": "Python 2",
   "language": "python",
   "name": "python2"
  },
  "language_info": {
   "codemirror_mode": {
    "name": "ipython",
    "version": 2
   },
   "file_extension": ".py",
   "mimetype": "text/x-python",
   "name": "python",
   "nbconvert_exporter": "python",
   "pygments_lexer": "ipython2",
   "version": "2.7.6"
  }
 },
 "nbformat": 4,
 "nbformat_minor": 0
}
