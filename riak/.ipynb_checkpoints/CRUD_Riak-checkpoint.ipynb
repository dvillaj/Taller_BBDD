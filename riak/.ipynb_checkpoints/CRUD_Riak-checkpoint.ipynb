{
 "cells": [
  {
   "cell_type": "markdown",
   "metadata": {},
   "source": [
    "# Operaciones CRUD en Riak\n"
   ]
  },
  {
   "cell_type": "markdown",
   "metadata": {},
   "source": [
    "## Insertar / Actualizar una clave"
   ]
  },
  {
   "cell_type": "code",
   "execution_count": 1,
   "metadata": {
    "collapsed": false
   },
   "outputs": [
    {
     "name": "stdout",
     "output_type": "stream",
     "text": [
      "HTTP/1.1 204 No Content\r",
      "\r\n",
      "Vary: Accept-Encoding\r",
      "\r\n",
      "Server: MochiWeb/1.1 WebMachine/1.10.8 (that head fake, tho)\r",
      "\r\n",
      "Date: Wed, 18 Nov 2015 07:17:29 GMT\r",
      "\r\n",
      "Content-Type: text/plain\r",
      "\r\n",
      "Content-Length: 0\r",
      "\r\n",
      "\r",
      "\r\n"
     ]
    }
   ],
   "source": [
    "!curl -i -XPUT \"http://localhost:8098/riak/food/favorite\" \\\n",
    "-H \"Content-Type:text/plain\" \\\n",
    "-d \"pizza\"\n"
   ]
  },
  {
   "cell_type": "markdown",
   "metadata": {},
   "source": [
    "## Leer una clave"
   ]
  },
  {
   "cell_type": "code",
   "execution_count": 2,
   "metadata": {
    "collapsed": false
   },
   "outputs": [
    {
     "name": "stdout",
     "output_type": "stream",
     "text": [
      "HTTP/1.1 200 OK\r",
      "\r\n",
      "X-Riak-Vclock: a85hYGBgzGDKBVI8ypz/foZvrdKECCUy5rEycC46cJ4vCwA=\r",
      "\r\n",
      "Vary: Accept-Encoding\r",
      "\r\n",
      "Server: MochiWeb/1.1 WebMachine/1.10.8 (that head fake, tho)\r",
      "\r\n",
      "Link: </riak/food>; rel=\"up\"\r",
      "\r\n",
      "Last-Modified: Wed, 18 Nov 2015 07:17:29 GMT\r",
      "\r\n",
      "ETag: \"3tsHuIPjfBybxinzXjQMld\"\r",
      "\r\n",
      "Date: Wed, 18 Nov 2015 07:17:30 GMT\r",
      "\r\n",
      "Content-Type: text/plain\r",
      "\r\n",
      "Content-Length: 5\r",
      "\r\n",
      "\r",
      "\r\n",
      "pizza"
     ]
    }
   ],
   "source": [
    "!curl -i -XGET \"http://localhost:8098/riak/food/favorite\" "
   ]
  },
  {
   "cell_type": "markdown",
   "metadata": {},
   "source": [
    "## Borrar una clave"
   ]
  },
  {
   "cell_type": "code",
   "execution_count": 3,
   "metadata": {
    "collapsed": false
   },
   "outputs": [
    {
     "name": "stdout",
     "output_type": "stream",
     "text": [
      "HTTP/1.1 204 No Content\r",
      "\r\n",
      "Vary: Accept-Encoding\r",
      "\r\n",
      "Server: MochiWeb/1.1 WebMachine/1.10.8 (that head fake, tho)\r",
      "\r\n",
      "Date: Wed, 18 Nov 2015 07:17:31 GMT\r",
      "\r\n",
      "Content-Type: text/plain\r",
      "\r\n",
      "Content-Length: 0\r",
      "\r\n",
      "\r",
      "\r\n"
     ]
    }
   ],
   "source": [
    "!curl -i -XDELETE \"http://localhost:8098/riak/food/favorite\" "
   ]
  },
  {
   "cell_type": "markdown",
   "metadata": {},
   "source": [
    " ## Insertar un valor sin una utilizar clave (Riak la devuelve)"
   ]
  },
  {
   "cell_type": "code",
   "execution_count": 4,
   "metadata": {
    "collapsed": false
   },
   "outputs": [
    {
     "name": "stdout",
     "output_type": "stream",
     "text": [
      "HTTP/1.1 201 Created\r",
      "\r\n",
      "X-Riak-Vclock: a85hYGBgzGDKBVI8ypz/foZvbRODCCUy5rEy8Cw6cJ4vCwA=\r",
      "\r\n",
      "Vary: Accept-Encoding\r",
      "\r\n",
      "Server: MochiWeb/1.1 WebMachine/1.10.8 (that head fake, tho)\r",
      "\r\n",
      "Location: /riak/people/X2J971kGaeG6lPwlWF7fEcl5L9H\r",
      "\r\n",
      "Link: </riak/people>; rel=\"up\"\r",
      "\r\n",
      "Last-Modified: Wed, 18 Nov 2015 07:17:32 GMT\r",
      "\r\n",
      "ETag: \"6lXiI6Al4LvlSMm7Rx0Ty2\"\r",
      "\r\n",
      "Date: Wed, 18 Nov 2015 07:17:32 GMT\r",
      "\r\n",
      "Content-Type: application/json\r",
      "\r\n",
      "Content-Length: 16\r",
      "\r\n",
      "\r",
      "\r\n",
      "{\"name\":\"billy\"}"
     ]
    }
   ],
   "source": [
    "! curl -i -XPOST \"http://localhost:8098/riak/people?returnbody=true\" \\\n",
    "-H \"Content-Type:application/json\" \\\n",
    "-d '{\"name\":\"billy\"}'"
   ]
  },
  {
   "cell_type": "code",
   "execution_count": 5,
   "metadata": {
    "collapsed": false
   },
   "outputs": [
    {
     "name": "stdout",
     "output_type": "stream",
     "text": [
      "not found\r\n"
     ]
    }
   ],
   "source": [
    "!curl http://localhost:8098/riak/people/Ar2G47Ukce3VX1PMqx4AQLEr7ng\n"
   ]
  },
  {
   "cell_type": "markdown",
   "metadata": {},
   "source": [
    "## Listado de buckets"
   ]
  },
  {
   "cell_type": "code",
   "execution_count": 6,
   "metadata": {
    "collapsed": false
   },
   "outputs": [
    {
     "name": "stdout",
     "output_type": "stream",
     "text": [
      "{\"buckets\":[\"food\",\"people\"]}"
     ]
    }
   ],
   "source": [
    "!curl \"http://localhost:8098/types/default/buckets?buckets=true\"\n"
   ]
  },
  {
   "cell_type": "markdown",
   "metadata": {},
   "source": [
    "## Listado de claves de un bucket"
   ]
  },
  {
   "cell_type": "code",
   "execution_count": 7,
   "metadata": {
    "collapsed": false
   },
   "outputs": [
    {
     "name": "stdout",
     "output_type": "stream",
     "text": [
      "{\"keys\":[\"favorite\"]}"
     ]
    }
   ],
   "source": [
    "!curl \"http://localhost:8098/types/default/buckets/food/keys?keys=true\""
   ]
  },
  {
   "cell_type": "code",
   "execution_count": 8,
   "metadata": {
    "collapsed": false
   },
   "outputs": [
    {
     "name": "stdout",
     "output_type": "stream",
     "text": [
      "{\"keys\":[]}{\"keys\":[]}{\"keys\":[]}{\"keys\":[]}{\"keys\":[]}{\"keys\":[]}{\"keys\":[]}{\"keys\":[]}{\"keys\":[]}{\"keys\":[]}{\"keys\":[]}{\"keys\":[]}{\"keys\":[]}{\"keys\":[]}{\"keys\":[]}{\"keys\":[]}{\"keys\":[]}{\"keys\":[]}{\"keys\":[]}{\"keys\":[]}{\"keys\":[]}{\"keys\":[]}{\"keys\":[]}"
     ]
    }
   ],
   "source": [
    "!curl \"http://localhost:8098/types/default/buckets/food/keys?keys=stream\""
   ]
  },
  {
   "cell_type": "code",
   "execution_count": null,
   "metadata": {
    "collapsed": true
   },
   "outputs": [],
   "source": []
  }
 ],
 "metadata": {
  "kernelspec": {
   "display_name": "Python 2",
   "language": "python",
   "name": "python2"
  },
  "language_info": {
   "codemirror_mode": {
    "name": "ipython",
    "version": 2
   },
   "file_extension": ".py",
   "mimetype": "text/x-python",
   "name": "python",
   "nbconvert_exporter": "python",
   "pygments_lexer": "ipython2",
   "version": "2.7.6"
  }
 },
 "nbformat": 4,
 "nbformat_minor": 0
}
