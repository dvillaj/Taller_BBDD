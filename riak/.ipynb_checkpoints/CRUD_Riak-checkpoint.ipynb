{
 "cells": [
  {
   "cell_type": "markdown",
   "metadata": {},
   "source": [
    "# Operaciones CRUD en Riak\n"
   ]
  },
  {
   "cell_type": "markdown",
   "metadata": {},
   "source": [
    "## Insertar / Actualizar una clave"
   ]
  },
  {
   "cell_type": "code",
   "execution_count": 9,
   "metadata": {
    "collapsed": false
   },
   "outputs": [
    {
     "name": "stdout",
     "output_type": "stream",
     "text": [
      "HTTP/1.1 204 No Content\r",
      "\r\n",
      "Vary: Accept-Encoding\r",
      "\r\n",
      "Server: MochiWeb/1.1 WebMachine/1.10.8 (that head fake, tho)\r",
      "\r\n",
      "Date: Sat, 28 May 2016 09:19:08 GMT\r",
      "\r\n",
      "Content-Type: text/plain\r",
      "\r\n",
      "Content-Length: 0\r",
      "\r\n",
      "\r",
      "\r\n"
     ]
    }
   ],
   "source": [
    "!curl -i -XPUT \"http://localhost:8098/riak/food/favorite\" \\\n",
    "-H \"Content-Type:text/plain\" \\\n",
    "-d \"pizza\"\n"
   ]
  },
  {
   "cell_type": "markdown",
   "metadata": {},
   "source": [
    "## Leer una clave"
   ]
  },
  {
   "cell_type": "code",
   "execution_count": 10,
   "metadata": {
    "collapsed": false
   },
   "outputs": [
    {
     "name": "stdout",
     "output_type": "stream",
     "text": [
      "HTTP/1.1 200 OK\r",
      "\r\n",
      "X-Riak-Vclock: a85hYGBgzGDKBVI8ypz/fqZN2JPKwDDHKYMpkTGPlaHn3t4LfFkA\r",
      "\r\n",
      "Vary: Accept-Encoding\r",
      "\r\n",
      "Server: MochiWeb/1.1 WebMachine/1.10.8 (that head fake, tho)\r",
      "\r\n",
      "Link: </riak/food>; rel=\"up\"\r",
      "\r\n",
      "Last-Modified: Sat, 28 May 2016 09:19:08 GMT\r",
      "\r\n",
      "ETag: \"5yv6t2PA2sejuVPrh6kg27\"\r",
      "\r\n",
      "Date: Sat, 28 May 2016 09:19:14 GMT\r",
      "\r\n",
      "Content-Type: text/plain\r",
      "\r\n",
      "Content-Length: 5\r",
      "\r\n",
      "\r",
      "\r\n",
      "pizza"
     ]
    }
   ],
   "source": [
    "!curl -i -XGET \"http://localhost:8098/riak/food/favorite\" "
   ]
  },
  {
   "cell_type": "markdown",
   "metadata": {},
   "source": [
    "## Borrar una clave"
   ]
  },
  {
   "cell_type": "code",
   "execution_count": 11,
   "metadata": {
    "collapsed": false
   },
   "outputs": [
    {
     "name": "stdout",
     "output_type": "stream",
     "text": [
      "HTTP/1.1 204 No Content\r",
      "\r\n",
      "Vary: Accept-Encoding\r",
      "\r\n",
      "Server: MochiWeb/1.1 WebMachine/1.10.8 (that head fake, tho)\r",
      "\r\n",
      "Date: Sat, 28 May 2016 09:19:16 GMT\r",
      "\r\n",
      "Content-Type: text/plain\r",
      "\r\n",
      "Content-Length: 0\r",
      "\r\n",
      "\r",
      "\r\n"
     ]
    }
   ],
   "source": [
    "!curl -i -XDELETE \"http://localhost:8098/riak/food/favorite\" "
   ]
  },
  {
   "cell_type": "markdown",
   "metadata": {},
   "source": [
    " ## Insertar un valor sin una utilizar clave (Riak la devuelve)"
   ]
  },
  {
   "cell_type": "code",
   "execution_count": 12,
   "metadata": {
    "collapsed": false
   },
   "outputs": [
    {
     "name": "stdout",
     "output_type": "stream",
     "text": [
      "HTTP/1.1 201 Created\r",
      "\r\n",
      "X-Riak-Vclock: a85hYGBgzGDKBVI8ypz/fqZNm/yVgWGOYwZTImMeK8Pce3sv8GUBAA==\r",
      "\r\n",
      "Vary: Accept-Encoding\r",
      "\r\n",
      "Server: MochiWeb/1.1 WebMachine/1.10.8 (that head fake, tho)\r",
      "\r\n",
      "Location: /riak/people/SB0N4ViMIdRZJ8L3hKv7uSdIpnN\r",
      "\r\n",
      "Link: </riak/people>; rel=\"up\"\r",
      "\r\n",
      "Last-Modified: Sat, 28 May 2016 09:19:25 GMT\r",
      "\r\n",
      "ETag: \"6elfHL6POvMoPSc9Xf7dcJ\"\r",
      "\r\n",
      "Date: Sat, 28 May 2016 09:19:25 GMT\r",
      "\r\n",
      "Content-Type: application/json\r",
      "\r\n",
      "Content-Length: 16\r",
      "\r\n",
      "\r",
      "\r\n",
      "{\"name\":\"billy\"}"
     ]
    }
   ],
   "source": [
    "! curl -i -XPOST \"http://localhost:8098/riak/people?returnbody=true\" \\\n",
    "-H \"Content-Type:application/json\" \\\n",
    "-d '{\"name\":\"billy\"}'"
   ]
  },
  {
   "cell_type": "code",
   "execution_count": 13,
   "metadata": {
    "collapsed": false
   },
   "outputs": [
    {
     "name": "stdout",
     "output_type": "stream",
     "text": [
      "{\"name\":\"billy\"}"
     ]
    }
   ],
   "source": [
    "!curl http://localhost:8098/riak/people/SB0N4ViMIdRZJ8L3hKv7uSdIpnN\n"
   ]
  },
  {
   "cell_type": "markdown",
   "metadata": {},
   "source": [
    "## Listado de buckets"
   ]
  },
  {
   "cell_type": "code",
   "execution_count": 14,
   "metadata": {
    "collapsed": false
   },
   "outputs": [
    {
     "name": "stdout",
     "output_type": "stream",
     "text": [
      "{\"buckets\":[\"people\"]}"
     ]
    }
   ],
   "source": [
    "!curl \"http://localhost:8098/types/default/buckets?buckets=true\"\n"
   ]
  },
  {
   "cell_type": "markdown",
   "metadata": {},
   "source": [
    "## Listado de claves de un bucket"
   ]
  },
  {
   "cell_type": "code",
   "execution_count": 16,
   "metadata": {
    "collapsed": false
   },
   "outputs": [
    {
     "name": "stdout",
     "output_type": "stream",
     "text": [
      "{\"keys\":[\"SB0N4ViMIdRZJ8L3hKv7uSdIpnN\",\"D0R1xi4wsQV49P1OdErGkq1QOsm\"]}"
     ]
    }
   ],
   "source": [
    "!curl \"http://localhost:8098/types/default/buckets/people/keys?keys=true\""
   ]
  },
  {
   "cell_type": "code",
   "execution_count": 17,
   "metadata": {
    "collapsed": false
   },
   "outputs": [
    {
     "name": "stdout",
     "output_type": "stream",
     "text": [
      "{\"keys\":[]}{\"keys\":[]}{\"keys\":[]}{\"keys\":[]}{\"keys\":[]}{\"keys\":[]}{\"keys\":[]}{\"keys\":[]}{\"keys\":[]}{\"keys\":[]}{\"keys\":[]}{\"keys\":[]}{\"keys\":[]}{\"keys\":[]}{\"keys\":[]}{\"keys\":[]}{\"keys\":[]}{\"keys\":[\"SB0N4ViMIdRZJ8L3hKv7uSdIpnN\"]}{\"keys\":[]}{\"keys\":[]}{\"keys\":[\"D0R1xi4wsQV49P1OdErGkq1QOsm\"]}{\"keys\":[]}{\"keys\":[]}"
     ]
    }
   ],
   "source": [
    "!curl \"http://localhost:8098/types/default/buckets/people/keys?keys=stream\""
   ]
  },
  {
   "cell_type": "code",
   "execution_count": null,
   "metadata": {
    "collapsed": true
   },
   "outputs": [],
   "source": []
  }
 ],
 "metadata": {
  "kernelspec": {
   "display_name": "Python 2",
   "language": "python",
   "name": "python2"
  },
  "language_info": {
   "codemirror_mode": {
    "name": "ipython",
    "version": 2
   },
   "file_extension": ".py",
   "mimetype": "text/x-python",
   "name": "python",
   "nbconvert_exporter": "python",
   "pygments_lexer": "ipython2",
   "version": "2.7.6"
  }
 },
 "nbformat": 4,
 "nbformat_minor": 0
}
