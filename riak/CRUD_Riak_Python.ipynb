{
 "cells": [
  {
   "cell_type": "markdown",
   "metadata": {},
   "source": [
    "# Operaciones CRUD en Riak con Python"
   ]
  },
  {
   "cell_type": "markdown",
   "metadata": {},
   "source": [
    "## Conexión a Riak"
   ]
  },
  {
   "cell_type": "code",
   "execution_count": 1,
   "metadata": {},
   "outputs": [],
   "source": [
    "import riak"
   ]
  },
  {
   "cell_type": "code",
   "execution_count": 2,
   "metadata": {
    "collapsed": false,
    "jupyter": {
     "outputs_hidden": false
    }
   },
   "outputs": [
    {
     "name": "stdout",
     "output_type": "stream",
     "text": [
      "¿Está Riak disponible? True\n"
     ]
    }
   ],
   "source": [
    "cliente = riak.RiakClient()\n",
    "print(\"¿Está Riak disponible?\", cliente.ping())"
   ]
  },
  {
   "cell_type": "code",
   "execution_count": 3,
   "metadata": {
    "collapsed": false,
    "jupyter": {
     "outputs_hidden": false
    }
   },
   "outputs": [
    {
     "name": "stdout",
     "output_type": "stream",
     "text": [
      "\u001b[0;32m\"2.1.7-0-gbd8e312\"\u001b[0m\n"
     ]
    }
   ],
   "source": [
    "!curl -s http://localhost:8098/stats  | jq .riak_kv_version"
   ]
  },
  {
   "cell_type": "markdown",
   "metadata": {},
   "source": [
    "## Insertar valores"
   ]
  },
  {
   "cell_type": "code",
   "execution_count": 4,
   "metadata": {},
   "outputs": [],
   "source": [
    "bucket = cliente.bucket(\"bucket_name\")"
   ]
  },
  {
   "cell_type": "code",
   "execution_count": 5,
   "metadata": {
    "collapsed": false,
    "jupyter": {
     "outputs_hidden": false
    }
   },
   "outputs": [
    {
     "data": {
      "text/plain": [
       "<riak.riak_object.RiakObject at 0x7fdfa4039198>"
      ]
     },
     "execution_count": 5,
     "metadata": {},
     "output_type": "execute_result"
    }
   ],
   "source": [
    "key1 = \"key_one\"\n",
    "val1 = 1\n",
    "key = bucket.new(key1, data = val1)\n",
    "key.store()"
   ]
  },
  {
   "cell_type": "code",
   "execution_count": 6,
   "metadata": {
    "collapsed": false,
    "jupyter": {
     "outputs_hidden": false
    }
   },
   "outputs": [
    {
     "data": {
      "text/plain": [
       "<riak.riak_object.RiakObject at 0x7fdfa40395f8>"
      ]
     },
     "execution_count": 6,
     "metadata": {},
     "output_type": "execute_result"
    }
   ],
   "source": [
    "key2 = \"key_two\"\n",
    "val2 = \"Dos\"\n",
    "key = bucket.new(key2, data = val2)\n",
    "key.store()"
   ]
  },
  {
   "cell_type": "code",
   "execution_count": 7,
   "metadata": {
    "collapsed": false,
    "jupyter": {
     "outputs_hidden": false
    }
   },
   "outputs": [],
   "source": [
    "key3 = \"key_three\"\n",
    "val3 = {\n",
    "    \"val1\" : 1,\n",
    "    \"val2\" : \"Dos\",\n",
    "    \"val3\" : [1, 2, 3, 4, 5],\n",
    "    \n",
    "}"
   ]
  },
  {
   "cell_type": "code",
   "execution_count": 8,
   "metadata": {
    "collapsed": false,
    "jupyter": {
     "outputs_hidden": false
    }
   },
   "outputs": [
    {
     "data": {
      "text/plain": [
       "<riak.riak_object.RiakObject at 0x7fdfa40397b8>"
      ]
     },
     "execution_count": 8,
     "metadata": {},
     "output_type": "execute_result"
    }
   ],
   "source": [
    "key = bucket.new(key3, data = val3)\n",
    "key.store()"
   ]
  },
  {
   "cell_type": "markdown",
   "metadata": {},
   "source": [
    "## Insertando imágenes"
   ]
  },
  {
   "cell_type": "code",
   "execution_count": 9,
   "metadata": {
    "collapsed": false,
    "jupyter": {
     "outputs_hidden": false
    }
   },
   "outputs": [
    {
     "data": {
      "text/plain": [
       "<riak.riak_object.RiakObject at 0x7fdfa4039860>"
      ]
     },
     "execution_count": 9,
     "metadata": {},
     "output_type": "execute_result"
    }
   ],
   "source": [
    "image_bucket = cliente.bucket('images')\n",
    "\n",
    "photo = image_bucket.new_from_file('image_key', './images/demo.image.jpg')\n",
    "photo.store()"
   ]
  },
  {
   "cell_type": "markdown",
   "metadata": {},
   "source": [
    "## Recuperando información"
   ]
  },
  {
   "cell_type": "code",
   "execution_count": 10,
   "metadata": {
    "collapsed": false,
    "jupyter": {
     "outputs_hidden": false
    }
   },
   "outputs": [
    {
     "name": "stdout",
     "output_type": "stream",
     "text": [
      "key_one: 1\n",
      "key_two: Dos\n",
      "key_three: \n",
      "{'val1': 1, 'val2': 'Dos', 'val3': [1, 2, 3, 4, 5]}\n"
     ]
    }
   ],
   "source": [
    "from pprintpp import pprint as pp\n",
    "bucket = cliente.bucket(\"bucket_name\")\n",
    "\n",
    "print(\"key_one:\", bucket.get(\"key_one\").data)\n",
    "print(\"key_two:\", bucket.get(\"key_two\").data)\n",
    "data3 = bucket.get(\"key_three\").data\n",
    "\n",
    "print(\"key_three: \")\n",
    "pp(data3)"
   ]
  },
  {
   "cell_type": "code",
   "execution_count": 11,
   "metadata": {
    "collapsed": false,
    "jupyter": {
     "outputs_hidden": false
    }
   },
   "outputs": [
    {
     "name": "stdout",
     "output_type": "stream",
     "text": [
      "1"
     ]
    }
   ],
   "source": [
    "!curl http://localhost:8098/riak/bucket_name/key_one"
   ]
  },
  {
   "cell_type": "code",
   "execution_count": 12,
   "metadata": {
    "collapsed": false,
    "jupyter": {
     "outputs_hidden": false
    }
   },
   "outputs": [
    {
     "name": "stdout",
     "output_type": "stream",
     "text": [
      "\"Dos\""
     ]
    }
   ],
   "source": [
    "!curl http://localhost:8098/riak/bucket_name/key_two"
   ]
  },
  {
   "cell_type": "code",
   "execution_count": 13,
   "metadata": {
    "collapsed": false,
    "jupyter": {
     "outputs_hidden": false
    }
   },
   "outputs": [
    {
     "name": "stdout",
     "output_type": "stream",
     "text": [
      "\u001b[1;39m{\n",
      "  \u001b[0m\u001b[34;1m\"val1\"\u001b[0m\u001b[1;39m: \u001b[0m\u001b[0;39m1\u001b[0m\u001b[1;39m,\n",
      "  \u001b[0m\u001b[34;1m\"val2\"\u001b[0m\u001b[1;39m: \u001b[0m\u001b[0;32m\"Dos\"\u001b[0m\u001b[1;39m,\n",
      "  \u001b[0m\u001b[34;1m\"val3\"\u001b[0m\u001b[1;39m: \u001b[0m\u001b[1;39m[\n",
      "    \u001b[0;39m1\u001b[0m\u001b[1;39m,\n",
      "    \u001b[0;39m2\u001b[0m\u001b[1;39m,\n",
      "    \u001b[0;39m3\u001b[0m\u001b[1;39m,\n",
      "    \u001b[0;39m4\u001b[0m\u001b[1;39m,\n",
      "    \u001b[0;39m5\u001b[0m\u001b[1;39m\n",
      "  \u001b[1;39m]\u001b[0m\u001b[1;39m\n",
      "\u001b[1;39m}\u001b[0m\n"
     ]
    }
   ],
   "source": [
    "!curl -s http://localhost:8098/riak/bucket_name/key_three | jq"
   ]
  },
  {
   "cell_type": "markdown",
   "metadata": {},
   "source": [
    "http://localhost:8098/riak/images/image_key"
   ]
  },
  {
   "cell_type": "markdown",
   "metadata": {},
   "source": [
    "# Tablas"
   ]
  },
  {
   "cell_type": "code",
   "execution_count": 14,
   "metadata": {},
   "outputs": [
    {
     "name": "stdout",
     "output_type": "stream",
     "text": [
      "Requirement already satisfied: Faker in /home/learner/venv/lib/python3.6/site-packages (8.1.2)\n",
      "Requirement already satisfied: text-unidecode==1.3 in /home/learner/venv/lib/python3.6/site-packages (from Faker) (1.3)\n",
      "Requirement already satisfied: python-dateutil>=2.4 in /home/learner/venv/lib/python3.6/site-packages (from Faker) (2.8.1)\n",
      "Requirement already satisfied: six>=1.5 in /home/learner/venv/lib/python3.6/site-packages (from python-dateutil>=2.4->Faker) (1.16.0)\n"
     ]
    }
   ],
   "source": [
    "!pip install Faker"
   ]
  },
  {
   "cell_type": "markdown",
   "metadata": {},
   "source": [
    "## Escritura en Riak"
   ]
  },
  {
   "cell_type": "markdown",
   "metadata": {},
   "source": [
    "Vamos a crear un dataset de datos ficticio y lo vamos a cargar un dataframe de Pandas"
   ]
  },
  {
   "cell_type": "code",
   "execution_count": 15,
   "metadata": {},
   "outputs": [],
   "source": [
    "from faker import Faker\n",
    "import pandas as pd\n",
    "import json\n",
    "\n",
    "faker = Faker()\n",
    "Faker.seed(4321)\n",
    "profiles = []\n",
    "for i in range(10):\n",
    "    profile = faker.simple_profile()\n",
    "    profile['birthdate'] = profile['birthdate'].isoformat()\n",
    "    profiles.append(profile) \n",
    "\n",
    "dataframe = pd.read_json(json.dumps(profiles, default=str))"
   ]
  },
  {
   "cell_type": "code",
   "execution_count": 16,
   "metadata": {},
   "outputs": [
    {
     "data": {
      "text/html": [
       "<div>\n",
       "<style scoped>\n",
       "    .dataframe tbody tr th:only-of-type {\n",
       "        vertical-align: middle;\n",
       "    }\n",
       "\n",
       "    .dataframe tbody tr th {\n",
       "        vertical-align: top;\n",
       "    }\n",
       "\n",
       "    .dataframe thead th {\n",
       "        text-align: right;\n",
       "    }\n",
       "</style>\n",
       "<table border=\"1\" class=\"dataframe\">\n",
       "  <thead>\n",
       "    <tr style=\"text-align: right;\">\n",
       "      <th></th>\n",
       "      <th>username</th>\n",
       "      <th>name</th>\n",
       "      <th>sex</th>\n",
       "      <th>address</th>\n",
       "      <th>mail</th>\n",
       "      <th>birthdate</th>\n",
       "    </tr>\n",
       "  </thead>\n",
       "  <tbody>\n",
       "    <tr>\n",
       "      <th>0</th>\n",
       "      <td>daniel02</td>\n",
       "      <td>Robert Duffy</td>\n",
       "      <td>M</td>\n",
       "      <td>6936 Griffin Extension Suite 018\\nSouth Jim, S...</td>\n",
       "      <td>annahamilton@gmail.com</td>\n",
       "      <td>2020-10-01</td>\n",
       "    </tr>\n",
       "    <tr>\n",
       "      <th>1</th>\n",
       "      <td>emyers</td>\n",
       "      <td>David Moody</td>\n",
       "      <td>M</td>\n",
       "      <td>335 Gloria Street Suite 675\\nMathisport, NJ 73764</td>\n",
       "      <td>webstermadeline@hotmail.com</td>\n",
       "      <td>1947-05-12</td>\n",
       "    </tr>\n",
       "    <tr>\n",
       "      <th>2</th>\n",
       "      <td>fosterroberto</td>\n",
       "      <td>Nicole Jones</td>\n",
       "      <td>F</td>\n",
       "      <td>84119 Fisher Vista\\nEast Cherylton, MS 37193</td>\n",
       "      <td>amandacunningham@yahoo.com</td>\n",
       "      <td>2019-01-19</td>\n",
       "    </tr>\n",
       "    <tr>\n",
       "      <th>3</th>\n",
       "      <td>masonnguyen</td>\n",
       "      <td>Scott Lucas</td>\n",
       "      <td>M</td>\n",
       "      <td>6401 Jeff Ford\\nAngelicashire, WV 53209</td>\n",
       "      <td>adam32@hotmail.com</td>\n",
       "      <td>1989-03-03</td>\n",
       "    </tr>\n",
       "    <tr>\n",
       "      <th>4</th>\n",
       "      <td>jamie41</td>\n",
       "      <td>Brittany Miller</td>\n",
       "      <td>F</td>\n",
       "      <td>2871 Mary Ways Apt. 812\\nWest Coryhaven, MI 11710</td>\n",
       "      <td>nancy38@yahoo.com</td>\n",
       "      <td>2008-04-07</td>\n",
       "    </tr>\n",
       "    <tr>\n",
       "      <th>5</th>\n",
       "      <td>kmartin</td>\n",
       "      <td>Dwayne Miller</td>\n",
       "      <td>M</td>\n",
       "      <td>56403 Misty Knolls Suite 206\\nMartinstad, ID 6...</td>\n",
       "      <td>gregory32@hotmail.com</td>\n",
       "      <td>2016-10-11</td>\n",
       "    </tr>\n",
       "    <tr>\n",
       "      <th>6</th>\n",
       "      <td>sarahdawson</td>\n",
       "      <td>Brandon Adams</td>\n",
       "      <td>M</td>\n",
       "      <td>873 Amber Underpass\\nMartinezfurt, AK 85986</td>\n",
       "      <td>joshua01@hotmail.com</td>\n",
       "      <td>1972-05-12</td>\n",
       "    </tr>\n",
       "    <tr>\n",
       "      <th>7</th>\n",
       "      <td>andersoncheryl</td>\n",
       "      <td>Ryan Roberts</td>\n",
       "      <td>M</td>\n",
       "      <td>1210 Juarez Crest Suite 970\\nSolisburgh, DC 38745</td>\n",
       "      <td>darrylbanks@yahoo.com</td>\n",
       "      <td>1949-06-15</td>\n",
       "    </tr>\n",
       "    <tr>\n",
       "      <th>8</th>\n",
       "      <td>ghardy</td>\n",
       "      <td>Mr. Gary Griffin</td>\n",
       "      <td>M</td>\n",
       "      <td>65885 Amber Locks Apt. 633\\nNorth Steven, ND 0...</td>\n",
       "      <td>brenda14@yahoo.com</td>\n",
       "      <td>1981-12-25</td>\n",
       "    </tr>\n",
       "    <tr>\n",
       "      <th>9</th>\n",
       "      <td>jcherry</td>\n",
       "      <td>Andrew Martinez</td>\n",
       "      <td>M</td>\n",
       "      <td>14704 Jennifer Extensions Suite 115\\nNorth Ant...</td>\n",
       "      <td>andrewhowell@hotmail.com</td>\n",
       "      <td>1948-03-08</td>\n",
       "    </tr>\n",
       "  </tbody>\n",
       "</table>\n",
       "</div>"
      ],
      "text/plain": [
       "         username              name sex  \\\n",
       "0        daniel02      Robert Duffy   M   \n",
       "1          emyers       David Moody   M   \n",
       "2   fosterroberto      Nicole Jones   F   \n",
       "3     masonnguyen       Scott Lucas   M   \n",
       "4         jamie41   Brittany Miller   F   \n",
       "5         kmartin     Dwayne Miller   M   \n",
       "6     sarahdawson     Brandon Adams   M   \n",
       "7  andersoncheryl      Ryan Roberts   M   \n",
       "8          ghardy  Mr. Gary Griffin   M   \n",
       "9         jcherry   Andrew Martinez   M   \n",
       "\n",
       "                                             address  \\\n",
       "0  6936 Griffin Extension Suite 018\\nSouth Jim, S...   \n",
       "1  335 Gloria Street Suite 675\\nMathisport, NJ 73764   \n",
       "2       84119 Fisher Vista\\nEast Cherylton, MS 37193   \n",
       "3            6401 Jeff Ford\\nAngelicashire, WV 53209   \n",
       "4  2871 Mary Ways Apt. 812\\nWest Coryhaven, MI 11710   \n",
       "5  56403 Misty Knolls Suite 206\\nMartinstad, ID 6...   \n",
       "6        873 Amber Underpass\\nMartinezfurt, AK 85986   \n",
       "7  1210 Juarez Crest Suite 970\\nSolisburgh, DC 38745   \n",
       "8  65885 Amber Locks Apt. 633\\nNorth Steven, ND 0...   \n",
       "9  14704 Jennifer Extensions Suite 115\\nNorth Ant...   \n",
       "\n",
       "                          mail   birthdate  \n",
       "0       annahamilton@gmail.com  2020-10-01  \n",
       "1  webstermadeline@hotmail.com  1947-05-12  \n",
       "2   amandacunningham@yahoo.com  2019-01-19  \n",
       "3           adam32@hotmail.com  1989-03-03  \n",
       "4            nancy38@yahoo.com  2008-04-07  \n",
       "5        gregory32@hotmail.com  2016-10-11  \n",
       "6         joshua01@hotmail.com  1972-05-12  \n",
       "7        darrylbanks@yahoo.com  1949-06-15  \n",
       "8           brenda14@yahoo.com  1981-12-25  \n",
       "9     andrewhowell@hotmail.com  1948-03-08  "
      ]
     },
     "execution_count": 16,
     "metadata": {},
     "output_type": "execute_result"
    }
   ],
   "source": [
    "dataframe"
   ]
  },
  {
   "cell_type": "markdown",
   "metadata": {},
   "source": [
    "Cada una de las filas del dataset es JSON (diccionario en Python)"
   ]
  },
  {
   "cell_type": "code",
   "execution_count": 17,
   "metadata": {},
   "outputs": [
    {
     "data": {
      "text/plain": [
       "{'username': 'daniel02',\n",
       " 'name': 'Robert Duffy',\n",
       " 'sex': 'M',\n",
       " 'address': '6936 Griffin Extension Suite 018\\nSouth Jim, SD 34941',\n",
       " 'mail': 'annahamilton@gmail.com',\n",
       " 'birthdate': '2020-10-01'}"
      ]
     },
     "execution_count": 17,
     "metadata": {},
     "output_type": "execute_result"
    }
   ],
   "source": [
    "profiles[0]"
   ]
  },
  {
   "cell_type": "code",
   "execution_count": 18,
   "metadata": {},
   "outputs": [
    {
     "name": "stdout",
     "output_type": "stream",
     "text": [
      "username: daniel02\n",
      "ser: M\n",
      "mail: annahamilton@gmail.com\n"
     ]
    }
   ],
   "source": [
    "print(\"username:\", profiles[0]['username'])\n",
    "print(\"ser:\", profiles[0]['sex'])\n",
    "print(\"mail:\", profiles[0]['mail'])"
   ]
  },
  {
   "cell_type": "markdown",
   "metadata": {},
   "source": [
    "Cargamos la información en Riak en un backet llamado 'profile'-\n",
    "\n",
    "Adicionalmente creamos 2 indices, uno por sexo y otro por email.\n",
    "\n",
    "Los índices en Riak permiten buscar clavés de una manerá mucho más rápida que si recorrieramos todas las claves de un bucket una tras otra de forma secuencial"
   ]
  },
  {
   "cell_type": "code",
   "execution_count": 19,
   "metadata": {},
   "outputs": [],
   "source": [
    "bucket = cliente.bucket(\"profile\")\n",
    "\n",
    "for profile in profiles:\n",
    "    riak_key = bucket.new(profile['username'], data = profile)\n",
    "    riak_key.add_index('idx_mail_bin', profile['mail'])\n",
    "    riak_key.add_index('idx_sex_bin', profile['sex'])\n",
    "    riak_key.store()"
   ]
  },
  {
   "cell_type": "markdown",
   "metadata": {},
   "source": [
    "## Lectura\n"
   ]
  },
  {
   "cell_type": "markdown",
   "metadata": {},
   "source": [
    "Podemos acceder al dato directamente a través de la clave ..."
   ]
  },
  {
   "cell_type": "code",
   "execution_count": 27,
   "metadata": {},
   "outputs": [
    {
     "name": "stdout",
     "output_type": "stream",
     "text": [
      "ghardy: {'username': 'ghardy', 'name': 'Mr. Gary Griffin', 'sex': 'M', 'address': '65885 Amber Locks Apt. 633\\nNorth Steven, ND 09043', 'mail': 'brenda14@yahoo.com', 'birthdate': '1981-12-25'}\n"
     ]
    }
   ],
   "source": [
    "bucket = cliente.bucket(\"profile\")\n",
    "\n",
    "print(\"ghardy:\", bucket.get(\"ghardy\").data)"
   ]
  },
  {
   "cell_type": "markdown",
   "metadata": {},
   "source": [
    "Obtenemos todas los valores de la tabla y cargamos la información en Pandas"
   ]
  },
  {
   "cell_type": "code",
   "execution_count": 24,
   "metadata": {},
   "outputs": [
    {
     "data": {
      "text/html": [
       "<div>\n",
       "<style scoped>\n",
       "    .dataframe tbody tr th:only-of-type {\n",
       "        vertical-align: middle;\n",
       "    }\n",
       "\n",
       "    .dataframe tbody tr th {\n",
       "        vertical-align: top;\n",
       "    }\n",
       "\n",
       "    .dataframe thead th {\n",
       "        text-align: right;\n",
       "    }\n",
       "</style>\n",
       "<table border=\"1\" class=\"dataframe\">\n",
       "  <thead>\n",
       "    <tr style=\"text-align: right;\">\n",
       "      <th></th>\n",
       "      <th>username</th>\n",
       "      <th>name</th>\n",
       "      <th>sex</th>\n",
       "      <th>address</th>\n",
       "      <th>mail</th>\n",
       "      <th>birthdate</th>\n",
       "    </tr>\n",
       "  </thead>\n",
       "  <tbody>\n",
       "    <tr>\n",
       "      <th>0</th>\n",
       "      <td>ghardy</td>\n",
       "      <td>Mr. Gary Griffin</td>\n",
       "      <td>M</td>\n",
       "      <td>65885 Amber Locks Apt. 633\\nNorth Steven, ND 0...</td>\n",
       "      <td>brenda14@yahoo.com</td>\n",
       "      <td>1981-12-25</td>\n",
       "    </tr>\n",
       "    <tr>\n",
       "      <th>1</th>\n",
       "      <td>masonnguyen</td>\n",
       "      <td>Scott Lucas</td>\n",
       "      <td>M</td>\n",
       "      <td>6401 Jeff Ford\\nAngelicashire, WV 53209</td>\n",
       "      <td>adam32@hotmail.com</td>\n",
       "      <td>1989-03-03</td>\n",
       "    </tr>\n",
       "    <tr>\n",
       "      <th>2</th>\n",
       "      <td>emyers</td>\n",
       "      <td>David Moody</td>\n",
       "      <td>M</td>\n",
       "      <td>335 Gloria Street Suite 675\\nMathisport, NJ 73764</td>\n",
       "      <td>webstermadeline@hotmail.com</td>\n",
       "      <td>1947-05-12</td>\n",
       "    </tr>\n",
       "    <tr>\n",
       "      <th>3</th>\n",
       "      <td>jamie41</td>\n",
       "      <td>Brittany Miller</td>\n",
       "      <td>F</td>\n",
       "      <td>2871 Mary Ways Apt. 812\\nWest Coryhaven, MI 11710</td>\n",
       "      <td>nancy38@yahoo.com</td>\n",
       "      <td>2008-04-07</td>\n",
       "    </tr>\n",
       "    <tr>\n",
       "      <th>4</th>\n",
       "      <td>daniel02</td>\n",
       "      <td>Robert Duffy</td>\n",
       "      <td>M</td>\n",
       "      <td>6936 Griffin Extension Suite 018\\nSouth Jim, S...</td>\n",
       "      <td>annahamilton@gmail.com</td>\n",
       "      <td>2020-10-01</td>\n",
       "    </tr>\n",
       "    <tr>\n",
       "      <th>5</th>\n",
       "      <td>jcherry</td>\n",
       "      <td>Andrew Martinez</td>\n",
       "      <td>M</td>\n",
       "      <td>14704 Jennifer Extensions Suite 115\\nNorth Ant...</td>\n",
       "      <td>andrewhowell@hotmail.com</td>\n",
       "      <td>1948-03-08</td>\n",
       "    </tr>\n",
       "    <tr>\n",
       "      <th>6</th>\n",
       "      <td>kmartin</td>\n",
       "      <td>Dwayne Miller</td>\n",
       "      <td>M</td>\n",
       "      <td>56403 Misty Knolls Suite 206\\nMartinstad, ID 6...</td>\n",
       "      <td>gregory32@hotmail.com</td>\n",
       "      <td>2016-10-11</td>\n",
       "    </tr>\n",
       "    <tr>\n",
       "      <th>7</th>\n",
       "      <td>fosterroberto</td>\n",
       "      <td>Nicole Jones</td>\n",
       "      <td>F</td>\n",
       "      <td>84119 Fisher Vista\\nEast Cherylton, MS 37193</td>\n",
       "      <td>amandacunningham@yahoo.com</td>\n",
       "      <td>2019-01-19</td>\n",
       "    </tr>\n",
       "    <tr>\n",
       "      <th>8</th>\n",
       "      <td>andersoncheryl</td>\n",
       "      <td>Ryan Roberts</td>\n",
       "      <td>M</td>\n",
       "      <td>1210 Juarez Crest Suite 970\\nSolisburgh, DC 38745</td>\n",
       "      <td>darrylbanks@yahoo.com</td>\n",
       "      <td>1949-06-15</td>\n",
       "    </tr>\n",
       "    <tr>\n",
       "      <th>9</th>\n",
       "      <td>sarahdawson</td>\n",
       "      <td>Brandon Adams</td>\n",
       "      <td>M</td>\n",
       "      <td>873 Amber Underpass\\nMartinezfurt, AK 85986</td>\n",
       "      <td>joshua01@hotmail.com</td>\n",
       "      <td>1972-05-12</td>\n",
       "    </tr>\n",
       "  </tbody>\n",
       "</table>\n",
       "</div>"
      ],
      "text/plain": [
       "         username              name sex  \\\n",
       "0          ghardy  Mr. Gary Griffin   M   \n",
       "1     masonnguyen       Scott Lucas   M   \n",
       "2          emyers       David Moody   M   \n",
       "3         jamie41   Brittany Miller   F   \n",
       "4        daniel02      Robert Duffy   M   \n",
       "5         jcherry   Andrew Martinez   M   \n",
       "6         kmartin     Dwayne Miller   M   \n",
       "7   fosterroberto      Nicole Jones   F   \n",
       "8  andersoncheryl      Ryan Roberts   M   \n",
       "9     sarahdawson     Brandon Adams   M   \n",
       "\n",
       "                                             address  \\\n",
       "0  65885 Amber Locks Apt. 633\\nNorth Steven, ND 0...   \n",
       "1            6401 Jeff Ford\\nAngelicashire, WV 53209   \n",
       "2  335 Gloria Street Suite 675\\nMathisport, NJ 73764   \n",
       "3  2871 Mary Ways Apt. 812\\nWest Coryhaven, MI 11710   \n",
       "4  6936 Griffin Extension Suite 018\\nSouth Jim, S...   \n",
       "5  14704 Jennifer Extensions Suite 115\\nNorth Ant...   \n",
       "6  56403 Misty Knolls Suite 206\\nMartinstad, ID 6...   \n",
       "7       84119 Fisher Vista\\nEast Cherylton, MS 37193   \n",
       "8  1210 Juarez Crest Suite 970\\nSolisburgh, DC 38745   \n",
       "9        873 Amber Underpass\\nMartinezfurt, AK 85986   \n",
       "\n",
       "                          mail   birthdate  \n",
       "0           brenda14@yahoo.com  1981-12-25  \n",
       "1           adam32@hotmail.com  1989-03-03  \n",
       "2  webstermadeline@hotmail.com  1947-05-12  \n",
       "3            nancy38@yahoo.com  2008-04-07  \n",
       "4       annahamilton@gmail.com  2020-10-01  \n",
       "5     andrewhowell@hotmail.com  1948-03-08  \n",
       "6        gregory32@hotmail.com  2016-10-11  \n",
       "7   amandacunningham@yahoo.com  2019-01-19  \n",
       "8        darrylbanks@yahoo.com  1949-06-15  \n",
       "9         joshua01@hotmail.com  1972-05-12  "
      ]
     },
     "execution_count": 24,
     "metadata": {},
     "output_type": "execute_result"
    }
   ],
   "source": [
    "rows = []\n",
    "bucket = cliente.bucket(\"profile\")\n",
    "for keys in bucket.stream_keys():\n",
    "    for key in keys:\n",
    "        rows.append(bucket.get(key).data)\n",
    "\n",
    "df = pd.read_json(json.dumps(rows))\n",
    "df"
   ]
  },
  {
   "cell_type": "markdown",
   "metadata": {},
   "source": [
    "Ahora vamos a localizar las claves del sexo \"M\" a través del ínidice"
   ]
  },
  {
   "cell_type": "code",
   "execution_count": 25,
   "metadata": {
    "collapsed": false,
    "jupyter": {
     "outputs_hidden": false
    }
   },
   "outputs": [
    {
     "data": {
      "text/html": [
       "<div>\n",
       "<style scoped>\n",
       "    .dataframe tbody tr th:only-of-type {\n",
       "        vertical-align: middle;\n",
       "    }\n",
       "\n",
       "    .dataframe tbody tr th {\n",
       "        vertical-align: top;\n",
       "    }\n",
       "\n",
       "    .dataframe thead th {\n",
       "        text-align: right;\n",
       "    }\n",
       "</style>\n",
       "<table border=\"1\" class=\"dataframe\">\n",
       "  <thead>\n",
       "    <tr style=\"text-align: right;\">\n",
       "      <th></th>\n",
       "      <th>username</th>\n",
       "      <th>name</th>\n",
       "      <th>sex</th>\n",
       "      <th>address</th>\n",
       "      <th>mail</th>\n",
       "      <th>birthdate</th>\n",
       "    </tr>\n",
       "  </thead>\n",
       "  <tbody>\n",
       "    <tr>\n",
       "      <th>0</th>\n",
       "      <td>sarahdawson</td>\n",
       "      <td>Brandon Adams</td>\n",
       "      <td>M</td>\n",
       "      <td>873 Amber Underpass\\nMartinezfurt, AK 85986</td>\n",
       "      <td>joshua01@hotmail.com</td>\n",
       "      <td>1972-05-12</td>\n",
       "    </tr>\n",
       "    <tr>\n",
       "      <th>1</th>\n",
       "      <td>kmartin</td>\n",
       "      <td>Dwayne Miller</td>\n",
       "      <td>M</td>\n",
       "      <td>56403 Misty Knolls Suite 206\\nMartinstad, ID 6...</td>\n",
       "      <td>gregory32@hotmail.com</td>\n",
       "      <td>2016-10-11</td>\n",
       "    </tr>\n",
       "    <tr>\n",
       "      <th>2</th>\n",
       "      <td>andersoncheryl</td>\n",
       "      <td>Ryan Roberts</td>\n",
       "      <td>M</td>\n",
       "      <td>1210 Juarez Crest Suite 970\\nSolisburgh, DC 38745</td>\n",
       "      <td>darrylbanks@yahoo.com</td>\n",
       "      <td>1949-06-15</td>\n",
       "    </tr>\n",
       "    <tr>\n",
       "      <th>3</th>\n",
       "      <td>ghardy</td>\n",
       "      <td>Mr. Gary Griffin</td>\n",
       "      <td>M</td>\n",
       "      <td>65885 Amber Locks Apt. 633\\nNorth Steven, ND 0...</td>\n",
       "      <td>brenda14@yahoo.com</td>\n",
       "      <td>1981-12-25</td>\n",
       "    </tr>\n",
       "    <tr>\n",
       "      <th>4</th>\n",
       "      <td>masonnguyen</td>\n",
       "      <td>Scott Lucas</td>\n",
       "      <td>M</td>\n",
       "      <td>6401 Jeff Ford\\nAngelicashire, WV 53209</td>\n",
       "      <td>adam32@hotmail.com</td>\n",
       "      <td>1989-03-03</td>\n",
       "    </tr>\n",
       "    <tr>\n",
       "      <th>5</th>\n",
       "      <td>emyers</td>\n",
       "      <td>David Moody</td>\n",
       "      <td>M</td>\n",
       "      <td>335 Gloria Street Suite 675\\nMathisport, NJ 73764</td>\n",
       "      <td>webstermadeline@hotmail.com</td>\n",
       "      <td>1947-05-12</td>\n",
       "    </tr>\n",
       "    <tr>\n",
       "      <th>6</th>\n",
       "      <td>daniel02</td>\n",
       "      <td>Robert Duffy</td>\n",
       "      <td>M</td>\n",
       "      <td>6936 Griffin Extension Suite 018\\nSouth Jim, S...</td>\n",
       "      <td>annahamilton@gmail.com</td>\n",
       "      <td>2020-10-01</td>\n",
       "    </tr>\n",
       "    <tr>\n",
       "      <th>7</th>\n",
       "      <td>jcherry</td>\n",
       "      <td>Andrew Martinez</td>\n",
       "      <td>M</td>\n",
       "      <td>14704 Jennifer Extensions Suite 115\\nNorth Ant...</td>\n",
       "      <td>andrewhowell@hotmail.com</td>\n",
       "      <td>1948-03-08</td>\n",
       "    </tr>\n",
       "  </tbody>\n",
       "</table>\n",
       "</div>"
      ],
      "text/plain": [
       "         username              name sex  \\\n",
       "0     sarahdawson     Brandon Adams   M   \n",
       "1         kmartin     Dwayne Miller   M   \n",
       "2  andersoncheryl      Ryan Roberts   M   \n",
       "3          ghardy  Mr. Gary Griffin   M   \n",
       "4     masonnguyen       Scott Lucas   M   \n",
       "5          emyers       David Moody   M   \n",
       "6        daniel02      Robert Duffy   M   \n",
       "7         jcherry   Andrew Martinez   M   \n",
       "\n",
       "                                             address  \\\n",
       "0        873 Amber Underpass\\nMartinezfurt, AK 85986   \n",
       "1  56403 Misty Knolls Suite 206\\nMartinstad, ID 6...   \n",
       "2  1210 Juarez Crest Suite 970\\nSolisburgh, DC 38745   \n",
       "3  65885 Amber Locks Apt. 633\\nNorth Steven, ND 0...   \n",
       "4            6401 Jeff Ford\\nAngelicashire, WV 53209   \n",
       "5  335 Gloria Street Suite 675\\nMathisport, NJ 73764   \n",
       "6  6936 Griffin Extension Suite 018\\nSouth Jim, S...   \n",
       "7  14704 Jennifer Extensions Suite 115\\nNorth Ant...   \n",
       "\n",
       "                          mail   birthdate  \n",
       "0         joshua01@hotmail.com  1972-05-12  \n",
       "1        gregory32@hotmail.com  2016-10-11  \n",
       "2        darrylbanks@yahoo.com  1949-06-15  \n",
       "3           brenda14@yahoo.com  1981-12-25  \n",
       "4           adam32@hotmail.com  1989-03-03  \n",
       "5  webstermadeline@hotmail.com  1947-05-12  \n",
       "6       annahamilton@gmail.com  2020-10-01  \n",
       "7     andrewhowell@hotmail.com  1948-03-08  "
      ]
     },
     "execution_count": 25,
     "metadata": {},
     "output_type": "execute_result"
    }
   ],
   "source": [
    "rows = []\n",
    "bucket = cliente.bucket(\"profile\")\n",
    "keys = bucket.get_index(\"idx_sex_bin\", 'M')\n",
    "for key in keys.results:\n",
    "    row = bucket.get(key).data\n",
    "    rows.append(row)\n",
    "       \n",
    "df = pd.read_json(json.dumps(rows))\n",
    "df"
   ]
  },
  {
   "cell_type": "code",
   "execution_count": null,
   "metadata": {},
   "outputs": [],
   "source": [
    "print(rows[0]) "
   ]
  },
  {
   "cell_type": "markdown",
   "metadata": {},
   "source": [
    "Ahora vamos a localizar las claves del mail \"joshua01@hotmail.com\" a través del ínidice"
   ]
  },
  {
   "cell_type": "code",
   "execution_count": 26,
   "metadata": {},
   "outputs": [
    {
     "data": {
      "text/html": [
       "<div>\n",
       "<style scoped>\n",
       "    .dataframe tbody tr th:only-of-type {\n",
       "        vertical-align: middle;\n",
       "    }\n",
       "\n",
       "    .dataframe tbody tr th {\n",
       "        vertical-align: top;\n",
       "    }\n",
       "\n",
       "    .dataframe thead th {\n",
       "        text-align: right;\n",
       "    }\n",
       "</style>\n",
       "<table border=\"1\" class=\"dataframe\">\n",
       "  <thead>\n",
       "    <tr style=\"text-align: right;\">\n",
       "      <th></th>\n",
       "      <th>username</th>\n",
       "      <th>name</th>\n",
       "      <th>sex</th>\n",
       "      <th>address</th>\n",
       "      <th>mail</th>\n",
       "      <th>birthdate</th>\n",
       "    </tr>\n",
       "  </thead>\n",
       "  <tbody>\n",
       "    <tr>\n",
       "      <th>0</th>\n",
       "      <td>sarahdawson</td>\n",
       "      <td>Brandon Adams</td>\n",
       "      <td>M</td>\n",
       "      <td>873 Amber Underpass\\nMartinezfurt, AK 85986</td>\n",
       "      <td>joshua01@hotmail.com</td>\n",
       "      <td>1972-05-12</td>\n",
       "    </tr>\n",
       "  </tbody>\n",
       "</table>\n",
       "</div>"
      ],
      "text/plain": [
       "      username           name sex  \\\n",
       "0  sarahdawson  Brandon Adams   M   \n",
       "\n",
       "                                       address                  mail  \\\n",
       "0  873 Amber Underpass\\nMartinezfurt, AK 85986  joshua01@hotmail.com   \n",
       "\n",
       "    birthdate  \n",
       "0  1972-05-12  "
      ]
     },
     "execution_count": 26,
     "metadata": {},
     "output_type": "execute_result"
    }
   ],
   "source": [
    "rows = []\n",
    "bucket = cliente.bucket(\"profile\")\n",
    "keys = bucket.get_index(\"idx_mail_bin\", 'joshua01@hotmail.com')\n",
    "for key in keys.results:\n",
    "    row = bucket.get(key).data\n",
    "    rows.append(row)\n",
    "       \n",
    "df = pd.read_json(json.dumps(rows))\n",
    "df"
   ]
  },
  {
   "cell_type": "markdown",
   "metadata": {},
   "source": [
    "## Listado de Buckets"
   ]
  },
  {
   "cell_type": "code",
   "execution_count": null,
   "metadata": {
    "collapsed": false,
    "jupyter": {
     "outputs_hidden": false
    }
   },
   "outputs": [],
   "source": [
    "for bucket in cliente.get_buckets():\n",
    "        print('Bucket %s' % bucket )"
   ]
  },
  {
   "cell_type": "markdown",
   "metadata": {},
   "source": [
    "## Listado de valores en un Bucket"
   ]
  },
  {
   "cell_type": "code",
   "execution_count": null,
   "metadata": {
    "collapsed": false,
    "jupyter": {
     "outputs_hidden": false
    }
   },
   "outputs": [],
   "source": [
    "for keys in bucket.stream_keys():\n",
    "    print(\"Keys: \", keys)\n",
    "    for key in keys:\n",
    "        value = bucket.get(key).data\n",
    "        print('Key %s: %s' % (key, value))"
   ]
  },
  {
   "cell_type": "code",
   "execution_count": null,
   "metadata": {},
   "outputs": [],
   "source": [
    "for key in bucket.get_keys():\n",
    "    value = bucket.get(key).data\n",
    "    print('Key %s: %s' % (key, value))"
   ]
  },
  {
   "cell_type": "code",
   "execution_count": null,
   "metadata": {},
   "outputs": [],
   "source": []
  }
 ],
 "metadata": {
  "kernelspec": {
   "display_name": "Python 3",
   "language": "python",
   "name": "python3"
  },
  "language_info": {
   "codemirror_mode": {
    "name": "ipython",
    "version": 3
   },
   "file_extension": ".py",
   "mimetype": "text/x-python",
   "name": "python",
   "nbconvert_exporter": "python",
   "pygments_lexer": "ipython3",
   "version": "3.6.13"
  }
 },
 "nbformat": 4,
 "nbformat_minor": 4
}
