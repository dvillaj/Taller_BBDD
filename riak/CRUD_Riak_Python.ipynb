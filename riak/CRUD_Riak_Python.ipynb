{
 "cells": [
  {
   "cell_type": "markdown",
   "metadata": {},
   "source": [
    "# Operaciones CRUD en Riak con Python"
   ]
  },
  {
   "cell_type": "markdown",
   "metadata": {},
   "source": [
    "## Conexión a Riak"
   ]
  },
  {
   "cell_type": "code",
   "execution_count": 4,
   "metadata": {},
   "outputs": [],
   "source": [
    "import riak"
   ]
  },
  {
   "cell_type": "code",
   "execution_count": 5,
   "metadata": {
    "collapsed": false,
    "jupyter": {
     "outputs_hidden": false
    }
   },
   "outputs": [
    {
     "name": "stdout",
     "output_type": "stream",
     "text": [
      "¿Está Riak disponible? True\n"
     ]
    }
   ],
   "source": [
    "cliente = riak.RiakClient()\n",
    "print(\"¿Está Riak disponible?\", cliente.ping())"
   ]
  },
  {
   "cell_type": "code",
   "execution_count": 6,
   "metadata": {
    "collapsed": false,
    "jupyter": {
     "outputs_hidden": false
    }
   },
   "outputs": [
    {
     "name": "stdout",
     "output_type": "stream",
     "text": [
      "\u001b[0;32m\"2.1.7-0-gbd8e312\"\u001b[0m\n"
     ]
    }
   ],
   "source": [
    "!curl -s http://localhost:8098/stats  | jq .riak_kv_version"
   ]
  },
  {
   "cell_type": "markdown",
   "metadata": {},
   "source": [
    "## Insertar valores"
   ]
  },
  {
   "cell_type": "code",
   "execution_count": 7,
   "metadata": {},
   "outputs": [],
   "source": [
    "bucket = cliente.bucket(\"bucket_name\")"
   ]
  },
  {
   "cell_type": "code",
   "execution_count": 8,
   "metadata": {
    "collapsed": false,
    "jupyter": {
     "outputs_hidden": false
    }
   },
   "outputs": [
    {
     "data": {
      "text/plain": [
       "<riak.riak_object.RiakObject at 0x7f4e9276e358>"
      ]
     },
     "execution_count": 8,
     "metadata": {},
     "output_type": "execute_result"
    }
   ],
   "source": [
    "key1 = \"key_one\"\n",
    "val1 = 1\n",
    "key = bucket.new(key1, data = val1)\n",
    "key.store()"
   ]
  },
  {
   "cell_type": "code",
   "execution_count": 9,
   "metadata": {
    "collapsed": false,
    "jupyter": {
     "outputs_hidden": false
    }
   },
   "outputs": [
    {
     "data": {
      "text/plain": [
       "<riak.riak_object.RiakObject at 0x7f4e9276e7b8>"
      ]
     },
     "execution_count": 9,
     "metadata": {},
     "output_type": "execute_result"
    }
   ],
   "source": [
    "key2 = \"key_two\"\n",
    "val2 = \"Dos\"\n",
    "key = bucket.new(key2, data = val2)\n",
    "key.store()"
   ]
  },
  {
   "cell_type": "code",
   "execution_count": 10,
   "metadata": {
    "collapsed": false,
    "jupyter": {
     "outputs_hidden": false
    }
   },
   "outputs": [],
   "source": [
    "key3 = \"key_three\"\n",
    "val3 = {\n",
    "    \"val1\" : 1,\n",
    "    \"val2\" : \"Dos\",\n",
    "    \"val3\" : [1, 2, 3, 4, 5],\n",
    "    \n",
    "}"
   ]
  },
  {
   "cell_type": "code",
   "execution_count": 11,
   "metadata": {
    "collapsed": false,
    "jupyter": {
     "outputs_hidden": false
    }
   },
   "outputs": [
    {
     "data": {
      "text/plain": [
       "<riak.riak_object.RiakObject at 0x7f4e9276e9b0>"
      ]
     },
     "execution_count": 11,
     "metadata": {},
     "output_type": "execute_result"
    }
   ],
   "source": [
    "key = bucket.new(key3, data = val3)\n",
    "key.store()"
   ]
  },
  {
   "cell_type": "markdown",
   "metadata": {},
   "source": [
    "## Insertando imágenes"
   ]
  },
  {
   "cell_type": "code",
   "execution_count": 12,
   "metadata": {
    "collapsed": false,
    "jupyter": {
     "outputs_hidden": false
    }
   },
   "outputs": [
    {
     "data": {
      "text/plain": [
       "<riak.riak_object.RiakObject at 0x7f4e9276ed30>"
      ]
     },
     "execution_count": 12,
     "metadata": {},
     "output_type": "execute_result"
    }
   ],
   "source": [
    "image_bucket = cliente.bucket('images')\n",
    "\n",
    "photo = image_bucket.new_from_file('image_key', './images/demo.image.jpg')\n",
    "photo.store()"
   ]
  },
  {
   "cell_type": "markdown",
   "metadata": {},
   "source": [
    "## Recuperando información"
   ]
  },
  {
   "cell_type": "code",
   "execution_count": 13,
   "metadata": {
    "collapsed": false,
    "jupyter": {
     "outputs_hidden": false
    },
    "scrolled": true
   },
   "outputs": [
    {
     "name": "stdout",
     "output_type": "stream",
     "text": [
      "key_one: 1\n",
      "key_two: Dos\n",
      "key_three: \n",
      "{'val1': 1, 'val2': 'Dos', 'val3': [1, 2, 3, 4, 5]}\n"
     ]
    }
   ],
   "source": [
    "from pprintpp import pprint as pp\n",
    "bucket = cliente.bucket(\"bucket_name\")\n",
    "\n",
    "print(\"key_one:\", bucket.get(\"key_one\").data)\n",
    "print(\"key_two:\", bucket.get(\"key_two\").data)\n",
    "data3 = bucket.get(\"key_three\").data\n",
    "\n",
    "print(\"key_three: \")\n",
    "pp(data3)"
   ]
  },
  {
   "cell_type": "code",
   "execution_count": 14,
   "metadata": {
    "collapsed": false,
    "jupyter": {
     "outputs_hidden": false
    }
   },
   "outputs": [
    {
     "name": "stdout",
     "output_type": "stream",
     "text": [
      "1"
     ]
    }
   ],
   "source": [
    "!curl http://localhost:8098/riak/bucket_name/key_one"
   ]
  },
  {
   "cell_type": "code",
   "execution_count": 15,
   "metadata": {
    "collapsed": false,
    "jupyter": {
     "outputs_hidden": false
    }
   },
   "outputs": [
    {
     "name": "stdout",
     "output_type": "stream",
     "text": [
      "\"Dos\""
     ]
    }
   ],
   "source": [
    "!curl http://localhost:8098/riak/bucket_name/key_two"
   ]
  },
  {
   "cell_type": "code",
   "execution_count": 16,
   "metadata": {
    "collapsed": false,
    "jupyter": {
     "outputs_hidden": false
    }
   },
   "outputs": [
    {
     "name": "stdout",
     "output_type": "stream",
     "text": [
      "\u001b[1;39m{\n",
      "  \u001b[0m\u001b[34;1m\"val1\"\u001b[0m\u001b[1;39m: \u001b[0m\u001b[0;39m1\u001b[0m\u001b[1;39m,\n",
      "  \u001b[0m\u001b[34;1m\"val2\"\u001b[0m\u001b[1;39m: \u001b[0m\u001b[0;32m\"Dos\"\u001b[0m\u001b[1;39m,\n",
      "  \u001b[0m\u001b[34;1m\"val3\"\u001b[0m\u001b[1;39m: \u001b[0m\u001b[1;39m[\n",
      "    \u001b[0;39m1\u001b[0m\u001b[1;39m,\n",
      "    \u001b[0;39m2\u001b[0m\u001b[1;39m,\n",
      "    \u001b[0;39m3\u001b[0m\u001b[1;39m,\n",
      "    \u001b[0;39m4\u001b[0m\u001b[1;39m,\n",
      "    \u001b[0;39m5\u001b[0m\u001b[1;39m\n",
      "  \u001b[1;39m]\u001b[0m\u001b[1;39m\n",
      "\u001b[1;39m}\u001b[0m\n"
     ]
    }
   ],
   "source": [
    "!curl -s http://localhost:8098/riak/bucket_name/key_three | jq"
   ]
  },
  {
   "cell_type": "markdown",
   "metadata": {},
   "source": [
    "http://localhost:8098/riak/images/image_key"
   ]
  },
  {
   "cell_type": "markdown",
   "metadata": {},
   "source": [
    "## Índices"
   ]
  },
  {
   "cell_type": "markdown",
   "metadata": {},
   "source": [
    "Los índices en Riak permiten buscar clavés de una manerá mucho más rápida que si recorrieramos todas las claves de un bucket una tras otra de forma secuencial"
   ]
  },
  {
   "cell_type": "code",
   "execution_count": 17,
   "metadata": {
    "collapsed": false,
    "jupyter": {
     "outputs_hidden": false
    }
   },
   "outputs": [
    {
     "name": "stdout",
     "output_type": "stream",
     "text": [
      "key 1 : {'value': 246, 'key_aux': '1e5522d7a6984bde9527c77d8917ee5e', 'ciudad': 'Madrid'}\n",
      "key 2 : {'value': 139, 'key_aux': '932b5d683c1f4fe58529fdfac28fa6d9', 'ciudad': 'Madrid'}\n",
      "key 3 : {'value': 199, 'key_aux': '0deaf114889c42acb9b8e31090b968c6', 'ciudad': 'Barcelona'}\n",
      "key 4 : {'value': 211, 'key_aux': '71884ce8a97841d98edd95bf41f9a114', 'ciudad': 'Sevilla'}\n",
      "key 5 : {'value': 65, 'key_aux': '31aab13d09a547258e2046a6bb22720c', 'ciudad': 'Madrid'}\n"
     ]
    }
   ],
   "source": [
    "import pandas as pd\n",
    "import json\n",
    "import uuid\n",
    "import random\n",
    "\n",
    "bucket = cliente.bucket(\"ejemplo_indices\")\n",
    "\n",
    "col_Ciudad = [\"Madrid\", \"Madrid\", \"Barcelona\", \"Sevilla\", \"Madrid\"]\n",
    "\n",
    "for i in range(0, 5):\n",
    "    key = str(i+1)\n",
    "    \n",
    "    valor = {\"value\" : random.randint(0,255),\n",
    "             \"key_aux\" :  uuid.uuid4().hex,\n",
    "             \"ciudad\" : col_Ciudad[i]}\n",
    "\n",
    "    riak_key = bucket.new(key, data = valor)\n",
    "    riak_key.add_index('idx_ciudad_bin', valor[\"ciudad\"])\n",
    "    riak_key.add_index('idx_key_aux_bin', valor[\"key_aux\"])\n",
    "    riak_key.store()\n",
    "    \n",
    "    print(\"key\", key, \":\", valor)\n"
   ]
  },
  {
   "cell_type": "markdown",
   "metadata": {},
   "source": [
    "Cargamos la información en Pandas"
   ]
  },
  {
   "cell_type": "code",
   "execution_count": 18,
   "metadata": {},
   "outputs": [
    {
     "data": {
      "text/html": [
       "<div>\n",
       "<style scoped>\n",
       "    .dataframe tbody tr th:only-of-type {\n",
       "        vertical-align: middle;\n",
       "    }\n",
       "\n",
       "    .dataframe tbody tr th {\n",
       "        vertical-align: top;\n",
       "    }\n",
       "\n",
       "    .dataframe thead th {\n",
       "        text-align: right;\n",
       "    }\n",
       "</style>\n",
       "<table border=\"1\" class=\"dataframe\">\n",
       "  <thead>\n",
       "    <tr style=\"text-align: right;\">\n",
       "      <th></th>\n",
       "      <th>value</th>\n",
       "      <th>key_aux</th>\n",
       "      <th>ciudad</th>\n",
       "    </tr>\n",
       "  </thead>\n",
       "  <tbody>\n",
       "    <tr>\n",
       "      <th>0</th>\n",
       "      <td>139</td>\n",
       "      <td>932b5d683c1f4fe58529fdfac28fa6d9</td>\n",
       "      <td>Madrid</td>\n",
       "    </tr>\n",
       "    <tr>\n",
       "      <th>1</th>\n",
       "      <td>246</td>\n",
       "      <td>1e5522d7a6984bde9527c77d8917ee5e</td>\n",
       "      <td>Madrid</td>\n",
       "    </tr>\n",
       "    <tr>\n",
       "      <th>2</th>\n",
       "      <td>211</td>\n",
       "      <td>71884ce8a97841d98edd95bf41f9a114</td>\n",
       "      <td>Sevilla</td>\n",
       "    </tr>\n",
       "    <tr>\n",
       "      <th>3</th>\n",
       "      <td>199</td>\n",
       "      <td>0deaf114889c42acb9b8e31090b968c6</td>\n",
       "      <td>Barcelona</td>\n",
       "    </tr>\n",
       "    <tr>\n",
       "      <th>4</th>\n",
       "      <td>65</td>\n",
       "      <td>31aab13d09a547258e2046a6bb22720c</td>\n",
       "      <td>Madrid</td>\n",
       "    </tr>\n",
       "  </tbody>\n",
       "</table>\n",
       "</div>"
      ],
      "text/plain": [
       "   value                           key_aux     ciudad\n",
       "0    139  932b5d683c1f4fe58529fdfac28fa6d9     Madrid\n",
       "1    246  1e5522d7a6984bde9527c77d8917ee5e     Madrid\n",
       "2    211  71884ce8a97841d98edd95bf41f9a114    Sevilla\n",
       "3    199  0deaf114889c42acb9b8e31090b968c6  Barcelona\n",
       "4     65  31aab13d09a547258e2046a6bb22720c     Madrid"
      ]
     },
     "execution_count": 18,
     "metadata": {},
     "output_type": "execute_result"
    }
   ],
   "source": [
    "rows = []\n",
    "for keys in bucket.stream_keys():\n",
    "    for key in keys:\n",
    "        rows.append(bucket.get(key).data)\n",
    "\n",
    "df = pd.read_json(json.dumps(rows))\n",
    "df"
   ]
  },
  {
   "cell_type": "markdown",
   "metadata": {},
   "source": [
    "Ahora vamos a localizar las claves de \"Madrid\" a través del ínidice"
   ]
  },
  {
   "cell_type": "code",
   "execution_count": 19,
   "metadata": {
    "collapsed": false,
    "jupyter": {
     "outputs_hidden": false
    }
   },
   "outputs": [
    {
     "name": "stdout",
     "output_type": "stream",
     "text": [
      "{'value': 65, 'key_aux': '31aab13d09a547258e2046a6bb22720c', 'ciudad': 'Madrid'}\n",
      "{'value': 139, 'key_aux': '932b5d683c1f4fe58529fdfac28fa6d9', 'ciudad': 'Madrid'}\n",
      "{'value': 246, 'key_aux': '1e5522d7a6984bde9527c77d8917ee5e', 'ciudad': 'Madrid'}\n"
     ]
    }
   ],
   "source": [
    "keys = bucket.get_index(\"idx_ciudad_bin\", 'Madrid')\n",
    "for key in keys.results:\n",
    "    print(bucket.get(key).data)"
   ]
  },
  {
   "cell_type": "markdown",
   "metadata": {},
   "source": [
    "Ahora vamos a localizar una clave auxiliar a través de su ínidice"
   ]
  },
  {
   "cell_type": "code",
   "execution_count": 25,
   "metadata": {},
   "outputs": [
    {
     "name": "stdout",
     "output_type": "stream",
     "text": [
      "932b5d683c1f4fe58529fdfac28fa6d9\n"
     ]
    }
   ],
   "source": [
    "key_aux = df.at[0, 'key_aux']\n",
    "print(key_aux)"
   ]
  },
  {
   "cell_type": "code",
   "execution_count": 26,
   "metadata": {
    "collapsed": false,
    "jupyter": {
     "outputs_hidden": false
    }
   },
   "outputs": [],
   "source": [
    "keys = bucket.get_index(\"idx_key_aux_bin\", key_aux)\n",
    "for key in keys.results:\n",
    "    print(bucket.get(key).data)"
   ]
  },
  {
   "cell_type": "markdown",
   "metadata": {},
   "source": [
    "## Listado de Buckets"
   ]
  },
  {
   "cell_type": "code",
   "execution_count": 27,
   "metadata": {
    "collapsed": false,
    "jupyter": {
     "outputs_hidden": false
    }
   },
   "outputs": [
    {
     "name": "stdout",
     "output_type": "stream",
     "text": [
      "Bucket <RiakBucket 'movimientos'>\n",
      "Bucket <RiakBucket 'users'>\n",
      "Bucket <RiakBucket 'tweets'>\n",
      "Bucket <RiakBucket 'images'>\n",
      "Bucket <RiakBucket 'hashtags'>\n",
      "Bucket <RiakBucket 'ejemplo_indices'>\n",
      "Bucket <RiakBucket 'people'>\n",
      "Bucket <RiakBucket 'bucket_name'>\n"
     ]
    }
   ],
   "source": [
    "for bucket in cliente.get_buckets():\n",
    "        print('Bucket %s' % bucket )"
   ]
  },
  {
   "cell_type": "markdown",
   "metadata": {},
   "source": [
    "## Listado de valores en un Bucket"
   ]
  },
  {
   "cell_type": "code",
   "execution_count": 28,
   "metadata": {
    "collapsed": false,
    "jupyter": {
     "outputs_hidden": false
    }
   },
   "outputs": [
    {
     "name": "stdout",
     "output_type": "stream",
     "text": [
      "Keys:  ['key_two']\n",
      "Key key_two: Dos\n",
      "Keys:  ['key_three']\n",
      "Key key_three: {'val1': 1, 'val2': 'Dos', 'val3': [1, 2, 3, 4, 5]}\n"
     ]
    }
   ],
   "source": [
    "for keys in bucket.stream_keys():\n",
    "    print(\"Keys: \", keys)\n",
    "    for key in keys:\n",
    "        value = bucket.get(key).data\n",
    "        print('Key %s: %s' % (key, value))"
   ]
  },
  {
   "cell_type": "code",
   "execution_count": 29,
   "metadata": {},
   "outputs": [
    {
     "name": "stdout",
     "output_type": "stream",
     "text": [
      "Key key_three: {'val1': 1, 'val2': 'Dos', 'val3': [1, 2, 3, 4, 5]}\n",
      "Key key_two: Dos\n"
     ]
    }
   ],
   "source": [
    "for key in bucket.get_keys():\n",
    "    value = bucket.get(key).data\n",
    "    print('Key %s: %s' % (key, value))"
   ]
  },
  {
   "cell_type": "code",
   "execution_count": null,
   "metadata": {},
   "outputs": [],
   "source": []
  }
 ],
 "metadata": {
  "kernelspec": {
   "display_name": "Python 3",
   "language": "python",
   "name": "python3"
  },
  "language_info": {
   "codemirror_mode": {
    "name": "ipython",
    "version": 3
   },
   "file_extension": ".py",
   "mimetype": "text/x-python",
   "name": "python",
   "nbconvert_exporter": "python",
   "pygments_lexer": "ipython3",
   "version": "3.6.9"
  }
 },
 "nbformat": 4,
 "nbformat_minor": 4
}
