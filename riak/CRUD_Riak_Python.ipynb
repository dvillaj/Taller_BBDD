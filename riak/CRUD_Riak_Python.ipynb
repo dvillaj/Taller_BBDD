{
 "cells": [
  {
   "cell_type": "markdown",
   "metadata": {},
   "source": [
    "# Operaciones CRUD en Riak con Python"
   ]
  },
  {
   "cell_type": "markdown",
   "metadata": {},
   "source": [
    "## Conexión a Riak"
   ]
  },
  {
   "cell_type": "code",
   "execution_count": null,
   "metadata": {},
   "outputs": [],
   "source": [
    "import riak"
   ]
  },
  {
   "cell_type": "code",
   "execution_count": null,
   "metadata": {
    "collapsed": false,
    "jupyter": {
     "outputs_hidden": false
    }
   },
   "outputs": [],
   "source": [
    "cliente = riak.RiakClient()\n",
    "print(\"¿Está Riak disponible?\", cliente.ping())"
   ]
  },
  {
   "cell_type": "code",
   "execution_count": null,
   "metadata": {
    "collapsed": false,
    "jupyter": {
     "outputs_hidden": false
    }
   },
   "outputs": [],
   "source": [
    "!curl -s http://localhost:8098/stats  | jq .riak_kv_version"
   ]
  },
  {
   "cell_type": "markdown",
   "metadata": {},
   "source": [
    "## Insertar valores"
   ]
  },
  {
   "cell_type": "code",
   "execution_count": null,
   "metadata": {},
   "outputs": [],
   "source": [
    "bucket = cliente.bucket(\"bucket_name\")"
   ]
  },
  {
   "cell_type": "code",
   "execution_count": null,
   "metadata": {
    "collapsed": false,
    "jupyter": {
     "outputs_hidden": false
    }
   },
   "outputs": [],
   "source": [
    "key1 = \"key_one\"\n",
    "val1 = 1\n",
    "key = bucket.new(key1, data = val1)\n",
    "key.store()"
   ]
  },
  {
   "cell_type": "code",
   "execution_count": null,
   "metadata": {
    "collapsed": false,
    "jupyter": {
     "outputs_hidden": false
    }
   },
   "outputs": [],
   "source": [
    "key2 = \"key_two\"\n",
    "val2 = \"Dos\"\n",
    "key = bucket.new(key2, data = val2)\n",
    "key.store()"
   ]
  },
  {
   "cell_type": "code",
   "execution_count": null,
   "metadata": {
    "collapsed": false,
    "jupyter": {
     "outputs_hidden": false
    }
   },
   "outputs": [],
   "source": [
    "key3 = \"key_three\"\n",
    "val3 = {\n",
    "    \"val1\" : 1,\n",
    "    \"val2\" : \"Dos\",\n",
    "    \"val3\" : [1, 2, 3, 4, 5],\n",
    "    \n",
    "}"
   ]
  },
  {
   "cell_type": "code",
   "execution_count": null,
   "metadata": {
    "collapsed": false,
    "jupyter": {
     "outputs_hidden": false
    }
   },
   "outputs": [],
   "source": [
    "key = bucket.new(key3, data = val3)\n",
    "key.store()"
   ]
  },
  {
   "cell_type": "markdown",
   "metadata": {},
   "source": [
    "## Insertando imágenes"
   ]
  },
  {
   "cell_type": "code",
   "execution_count": null,
   "metadata": {
    "collapsed": false,
    "jupyter": {
     "outputs_hidden": false
    }
   },
   "outputs": [],
   "source": [
    "image_bucket = cliente.bucket('images')\n",
    "\n",
    "photo = image_bucket.new_from_file('image_key', './images/demo.image.jpg')\n",
    "photo.store()"
   ]
  },
  {
   "cell_type": "markdown",
   "metadata": {},
   "source": [
    "## Recuperando información"
   ]
  },
  {
   "cell_type": "code",
   "execution_count": null,
   "metadata": {
    "collapsed": false,
    "jupyter": {
     "outputs_hidden": false
    }
   },
   "outputs": [],
   "source": [
    "from pprintpp import pprint as pp\n",
    "bucket = cliente.bucket(\"bucket_name\")\n",
    "\n",
    "print(\"key_one:\", bucket.get(\"key_one\").data)\n",
    "print(\"key_two:\", bucket.get(\"key_two\").data)\n",
    "data3 = bucket.get(\"key_three\").data\n",
    "\n",
    "print(\"key_three: \")\n",
    "pp(data3)"
   ]
  },
  {
   "cell_type": "code",
   "execution_count": null,
   "metadata": {
    "collapsed": false,
    "jupyter": {
     "outputs_hidden": false
    }
   },
   "outputs": [],
   "source": [
    "!curl http://localhost:8098/riak/bucket_name/key_one"
   ]
  },
  {
   "cell_type": "code",
   "execution_count": null,
   "metadata": {
    "collapsed": false,
    "jupyter": {
     "outputs_hidden": false
    }
   },
   "outputs": [],
   "source": [
    "!curl http://localhost:8098/riak/bucket_name/key_two"
   ]
  },
  {
   "cell_type": "code",
   "execution_count": null,
   "metadata": {
    "collapsed": false,
    "jupyter": {
     "outputs_hidden": false
    }
   },
   "outputs": [],
   "source": [
    "!curl -s http://localhost:8098/riak/bucket_name/key_three | jq"
   ]
  },
  {
   "cell_type": "markdown",
   "metadata": {},
   "source": [
    "http://localhost:8098/riak/images/image_key"
   ]
  },
  {
   "cell_type": "markdown",
   "metadata": {},
   "source": [
    "# Tablas"
   ]
  },
  {
   "cell_type": "code",
   "execution_count": null,
   "metadata": {},
   "outputs": [],
   "source": [
    "!pip install Faker"
   ]
  },
  {
   "cell_type": "markdown",
   "metadata": {},
   "source": [
    "## Escritura en Riak"
   ]
  },
  {
   "cell_type": "markdown",
   "metadata": {},
   "source": [
    "Vamos a crear un dataset de datos ficticio y lo vamos a cargar un dataframe de Pandas"
   ]
  },
  {
   "cell_type": "code",
   "execution_count": null,
   "metadata": {},
   "outputs": [],
   "source": [
    "from faker import Faker\n",
    "import pandas as pd\n",
    "import json\n",
    "\n",
    "faker = Faker()\n",
    "Faker.seed(4321)\n",
    "profiles = []\n",
    "for i in range(10):\n",
    "    profile = faker.simple_profile()\n",
    "    profile['birthdate'] = profile['birthdate'].isoformat()\n",
    "    profiles.append(profile) \n",
    "\n",
    "dataframe = pd.read_json(json.dumps(profiles, default=str))"
   ]
  },
  {
   "cell_type": "code",
   "execution_count": null,
   "metadata": {},
   "outputs": [],
   "source": [
    "dataframe"
   ]
  },
  {
   "cell_type": "markdown",
   "metadata": {},
   "source": [
    "Cada una de las filas del dataset es JSON (diccionario en Python)"
   ]
  },
  {
   "cell_type": "code",
   "execution_count": null,
   "metadata": {},
   "outputs": [],
   "source": [
    "profiles[0]"
   ]
  },
  {
   "cell_type": "code",
   "execution_count": null,
   "metadata": {},
   "outputs": [],
   "source": [
    "print(\"username:\", profiles[0]['username'])\n",
    "print(\"ser:\", profiles[0]['sex'])\n",
    "print(\"mail:\", profiles[0]['mail'])"
   ]
  },
  {
   "cell_type": "markdown",
   "metadata": {},
   "source": [
    "Cargamos la información en Riak en un backet llamado 'profile'-\n",
    "\n",
    "Adicionalmente creamos 2 indices, uno por sexo y otro por email.\n",
    "\n",
    "Los índices en Riak permiten buscar clavés de una manerá mucho más rápida que si recorrieramos todas las claves de un bucket una tras otra de forma secuencial"
   ]
  },
  {
   "cell_type": "code",
   "execution_count": null,
   "metadata": {},
   "outputs": [],
   "source": [
    "bucket = cliente.bucket(\"profile\")\n",
    "\n",
    "for profile in profiles:\n",
    "    riak_key = bucket.new(profile['username'], data = profile)\n",
    "    riak_key.add_index('idx_mail_bin', profile['mail'])\n",
    "    riak_key.add_index('idx_sex_bin', profile['sex'])\n",
    "    riak_key.store()"
   ]
  },
  {
   "cell_type": "markdown",
   "metadata": {},
   "source": [
    "## Lectura\n"
   ]
  },
  {
   "cell_type": "markdown",
   "metadata": {},
   "source": [
    "Obtenemos todas los valores de la tabla y cargamos la información en Pandas"
   ]
  },
  {
   "cell_type": "code",
   "execution_count": null,
   "metadata": {},
   "outputs": [],
   "source": [
    "rows = []\n",
    "for keys in bucket.stream_keys():\n",
    "    for key in keys:\n",
    "        rows.append(bucket.get(key).data)\n",
    "\n",
    "df = pd.read_json(json.dumps(rows))\n",
    "df"
   ]
  },
  {
   "cell_type": "markdown",
   "metadata": {},
   "source": [
    "Ahora vamos a localizar las claves del sexo \"M\" a través del ínidice"
   ]
  },
  {
   "cell_type": "code",
   "execution_count": null,
   "metadata": {
    "collapsed": false,
    "jupyter": {
     "outputs_hidden": false
    }
   },
   "outputs": [],
   "source": [
    "rows = []\n",
    "keys = bucket.get_index(\"idx_sex_bin\", 'M')\n",
    "for key in keys.results:\n",
    "    row = bucket.get(key).data\n",
    "    rows.append(row)\n",
    "       \n",
    "df = pd.read_json(json.dumps(rows))\n",
    "df"
   ]
  },
  {
   "cell_type": "code",
   "execution_count": null,
   "metadata": {},
   "outputs": [],
   "source": [
    "print(rows[0]) "
   ]
  },
  {
   "cell_type": "markdown",
   "metadata": {},
   "source": [
    "Ahora vamos a localizar las claves del mail \"joshua01@hotmail.com\" a través del ínidice"
   ]
  },
  {
   "cell_type": "code",
   "execution_count": null,
   "metadata": {},
   "outputs": [],
   "source": [
    "rows = []\n",
    "keys = bucket.get_index(\"idx_mail_bin\", 'joshua01@hotmail.com')\n",
    "for key in keys.results:\n",
    "    row = bucket.get(key).data\n",
    "    rows.append(row)\n",
    "       \n",
    "df = pd.read_json(json.dumps(rows))\n",
    "df"
   ]
  },
  {
   "cell_type": "markdown",
   "metadata": {},
   "source": [
    "## Listado de Buckets"
   ]
  },
  {
   "cell_type": "code",
   "execution_count": null,
   "metadata": {
    "collapsed": false,
    "jupyter": {
     "outputs_hidden": false
    }
   },
   "outputs": [],
   "source": [
    "for bucket in cliente.get_buckets():\n",
    "        print('Bucket %s' % bucket )"
   ]
  },
  {
   "cell_type": "markdown",
   "metadata": {},
   "source": [
    "## Listado de valores en un Bucket"
   ]
  },
  {
   "cell_type": "code",
   "execution_count": null,
   "metadata": {
    "collapsed": false,
    "jupyter": {
     "outputs_hidden": false
    }
   },
   "outputs": [],
   "source": [
    "for keys in bucket.stream_keys():\n",
    "    print(\"Keys: \", keys)\n",
    "    for key in keys:\n",
    "        value = bucket.get(key).data\n",
    "        print('Key %s: %s' % (key, value))"
   ]
  },
  {
   "cell_type": "code",
   "execution_count": null,
   "metadata": {},
   "outputs": [],
   "source": [
    "for key in bucket.get_keys():\n",
    "    value = bucket.get(key).data\n",
    "    print('Key %s: %s' % (key, value))"
   ]
  },
  {
   "cell_type": "code",
   "execution_count": null,
   "metadata": {},
   "outputs": [],
   "source": []
  }
 ],
 "metadata": {
  "kernelspec": {
   "display_name": "Python 3",
   "language": "python",
   "name": "python3"
  },
  "language_info": {
   "codemirror_mode": {
    "name": "ipython",
    "version": 3
   },
   "file_extension": ".py",
   "mimetype": "text/x-python",
   "name": "python",
   "nbconvert_exporter": "python",
   "pygments_lexer": "ipython3",
   "version": "3.6.13"
  }
 },
 "nbformat": 4,
 "nbformat_minor": 4
}
