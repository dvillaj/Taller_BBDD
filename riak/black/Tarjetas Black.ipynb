{
 "cells": [
  {
   "cell_type": "markdown",
   "metadata": {},
   "source": [
    "# Riak"
   ]
  },
  {
   "cell_type": "code",
   "execution_count": 1,
   "metadata": {},
   "outputs": [],
   "source": [
    "import riak\n",
    "from pprintpp import pprint as pp\n",
    "import json\n",
    "import pandas as pd\n",
    "\n",
    "import uuid\n",
    "import hashlib"
   ]
  },
  {
   "cell_type": "markdown",
   "metadata": {},
   "source": [
    "## Lectura de información en Pandas"
   ]
  },
  {
   "cell_type": "markdown",
   "metadata": {},
   "source": [
    "Partimos del dataset normalizado y lo desnormalizamos para guardarlo todo junto en RIAK"
   ]
  },
  {
   "cell_type": "code",
   "execution_count": 2,
   "metadata": {
    "collapsed": false,
    "jupyter": {
     "outputs_hidden": false
    }
   },
   "outputs": [
    {
     "name": "stdout",
     "output_type": "stream",
     "text": [
      "<class 'pandas.core.frame.DataFrame'>\n",
      "Int64Index: 7624 entries, 0 to 7623\n",
      "Data columns (total 11 columns):\n",
      " #   Column              Non-Null Count  Dtype         \n",
      "---  ------              --------------  -----         \n",
      " 0   id_miembro          7624 non-null   int64         \n",
      " 1   fecha               7624 non-null   datetime64[ns]\n",
      " 2   hora                7624 non-null   int64         \n",
      " 3   minuto              7624 non-null   int64         \n",
      " 4   importe             7624 non-null   float64       \n",
      " 5   comercio            6882 non-null   object        \n",
      " 6   actividad_completa  7621 non-null   object        \n",
      " 7   actividad           7621 non-null   object        \n",
      " 8   nombre              7624 non-null   object        \n",
      " 9   funcion             7624 non-null   object        \n",
      " 10  organizacion        6060 non-null   object        \n",
      "dtypes: datetime64[ns](1), float64(1), int64(3), object(6)\n",
      "memory usage: 714.8+ KB\n"
     ]
    }
   ],
   "source": [
    "df_mov = pd.read_excel(\"../../data/black.xlsx\", sheet_name= \"Movimientos\")\n",
    "df_miembros = pd.read_excel(\"../../data/black.xlsx\", sheet_name= \"Miembros\")\n",
    "df = pd.merge(df_mov, df_miembros, on = ['id_miembro'], how = 'inner')\n",
    "df.info()"
   ]
  },
  {
   "cell_type": "code",
   "execution_count": 3,
   "metadata": {
    "collapsed": false,
    "jupyter": {
     "outputs_hidden": false
    }
   },
   "outputs": [
    {
     "data": {
      "text/html": [
       "<div>\n",
       "<style scoped>\n",
       "    .dataframe tbody tr th:only-of-type {\n",
       "        vertical-align: middle;\n",
       "    }\n",
       "\n",
       "    .dataframe tbody tr th {\n",
       "        vertical-align: top;\n",
       "    }\n",
       "\n",
       "    .dataframe thead th {\n",
       "        text-align: right;\n",
       "    }\n",
       "</style>\n",
       "<table border=\"1\" class=\"dataframe\">\n",
       "  <thead>\n",
       "    <tr style=\"text-align: right;\">\n",
       "      <th></th>\n",
       "      <th>id_miembro</th>\n",
       "      <th>fecha</th>\n",
       "      <th>hora</th>\n",
       "      <th>minuto</th>\n",
       "      <th>importe</th>\n",
       "      <th>comercio</th>\n",
       "      <th>actividad_completa</th>\n",
       "      <th>actividad</th>\n",
       "      <th>nombre</th>\n",
       "      <th>funcion</th>\n",
       "      <th>organizacion</th>\n",
       "    </tr>\n",
       "  </thead>\n",
       "  <tbody>\n",
       "    <tr>\n",
       "      <th>0</th>\n",
       "      <td>77</td>\n",
       "      <td>2006-04-17</td>\n",
       "      <td>11</td>\n",
       "      <td>40</td>\n",
       "      <td>44.56</td>\n",
       "      <td>FCIA TORRES MU¬OZ</td>\n",
       "      <td>FARMACIAS</td>\n",
       "      <td>SALUD</td>\n",
       "      <td>Ricardo Romero de Tejada y Picatoste</td>\n",
       "      <td>concejal</td>\n",
       "      <td>Partido Popular</td>\n",
       "    </tr>\n",
       "    <tr>\n",
       "      <th>1</th>\n",
       "      <td>77</td>\n",
       "      <td>2010-12-18</td>\n",
       "      <td>14</td>\n",
       "      <td>35</td>\n",
       "      <td>3.65</td>\n",
       "      <td>PK VELAZQUEZ JORGE JUAN</td>\n",
       "      <td>GARAJES Y APARCAMIENTOS</td>\n",
       "      <td>COCHE</td>\n",
       "      <td>Ricardo Romero de Tejada y Picatoste</td>\n",
       "      <td>concejal</td>\n",
       "      <td>Partido Popular</td>\n",
       "    </tr>\n",
       "    <tr>\n",
       "      <th>2</th>\n",
       "      <td>77</td>\n",
       "      <td>2009-04-06</td>\n",
       "      <td>11</td>\n",
       "      <td>56</td>\n",
       "      <td>1000.00</td>\n",
       "      <td>ANTONIO HUESO</td>\n",
       "      <td>ELECTRODOMESTICOS,EQUIPOS ELECTRICOS</td>\n",
       "      <td>HOGAR</td>\n",
       "      <td>Ricardo Romero de Tejada y Picatoste</td>\n",
       "      <td>concejal</td>\n",
       "      <td>Partido Popular</td>\n",
       "    </tr>\n",
       "    <tr>\n",
       "      <th>3</th>\n",
       "      <td>77</td>\n",
       "      <td>2007-10-19</td>\n",
       "      <td>10</td>\n",
       "      <td>49</td>\n",
       "      <td>102.91</td>\n",
       "      <td>CEDIPSA 17017-1 TRUJILLO</td>\n",
       "      <td>CEPSA</td>\n",
       "      <td>COCHE</td>\n",
       "      <td>Ricardo Romero de Tejada y Picatoste</td>\n",
       "      <td>concejal</td>\n",
       "      <td>Partido Popular</td>\n",
       "    </tr>\n",
       "    <tr>\n",
       "      <th>4</th>\n",
       "      <td>77</td>\n",
       "      <td>2010-02-11</td>\n",
       "      <td>16</td>\n",
       "      <td>48</td>\n",
       "      <td>68.95</td>\n",
       "      <td>CEDIPSA 17018-1 TRUJILLO</td>\n",
       "      <td>CEPSA</td>\n",
       "      <td>COCHE</td>\n",
       "      <td>Ricardo Romero de Tejada y Picatoste</td>\n",
       "      <td>concejal</td>\n",
       "      <td>Partido Popular</td>\n",
       "    </tr>\n",
       "  </tbody>\n",
       "</table>\n",
       "</div>"
      ],
      "text/plain": [
       "   id_miembro      fecha  hora  minuto  importe                  comercio  \\\n",
       "0          77 2006-04-17    11      40    44.56         FCIA TORRES MU¬OZ   \n",
       "1          77 2010-12-18    14      35     3.65   PK VELAZQUEZ JORGE JUAN   \n",
       "2          77 2009-04-06    11      56  1000.00             ANTONIO HUESO   \n",
       "3          77 2007-10-19    10      49   102.91  CEDIPSA 17017-1 TRUJILLO   \n",
       "4          77 2010-02-11    16      48    68.95  CEDIPSA 17018-1 TRUJILLO   \n",
       "\n",
       "                     actividad_completa actividad  \\\n",
       "0                             FARMACIAS     SALUD   \n",
       "1               GARAJES Y APARCAMIENTOS     COCHE   \n",
       "2  ELECTRODOMESTICOS,EQUIPOS ELECTRICOS     HOGAR   \n",
       "3                                 CEPSA     COCHE   \n",
       "4                                 CEPSA     COCHE   \n",
       "\n",
       "                                 nombre   funcion     organizacion  \n",
       "0  Ricardo Romero de Tejada y Picatoste  concejal  Partido Popular  \n",
       "1  Ricardo Romero de Tejada y Picatoste  concejal  Partido Popular  \n",
       "2  Ricardo Romero de Tejada y Picatoste  concejal  Partido Popular  \n",
       "3  Ricardo Romero de Tejada y Picatoste  concejal  Partido Popular  \n",
       "4  Ricardo Romero de Tejada y Picatoste  concejal  Partido Popular  "
      ]
     },
     "execution_count": 3,
     "metadata": {},
     "output_type": "execute_result"
    }
   ],
   "source": [
    "df.head(5)"
   ]
  },
  {
   "cell_type": "markdown",
   "metadata": {},
   "source": [
    "## Riak ..."
   ]
  },
  {
   "cell_type": "code",
   "execution_count": 4,
   "metadata": {
    "collapsed": false,
    "jupyter": {
     "outputs_hidden": false
    }
   },
   "outputs": [
    {
     "data": {
      "text/plain": [
       "True"
      ]
     },
     "execution_count": 4,
     "metadata": {},
     "output_type": "execute_result"
    }
   ],
   "source": [
    "# connect to database\n",
    "cliente = riak.RiakClient()\n",
    "cliente.ping()"
   ]
  },
  {
   "cell_type": "markdown",
   "metadata": {},
   "source": [
    "Utilizamos un bucket para guardar los movimientos en formato JSON y otro para guardar el importe acumulado por miembro.\n",
    "\n",
    "En el bucket de movimientos utilizamos una clave autogenerada (no vamos a poder localizar los movimientos por clave) y en el bucket con el importe acumulado la clave es el nombre de la persona en formato HASH, para no tener problemas ni con los espacios del nombre ni con los acentos\n",
    "\n",
    "Se van a crear los siguientes buckets:"
   ]
  },
  {
   "cell_type": "markdown",
   "metadata": {},
   "source": [
    "<style>\n",
    "table {float:left}\n",
    "</style>\n",
    "\n",
    "|bucket|Clave|Contenido|\n",
    "|: -|-|-|\n",
    "|movimientos|Marca temporal|Todos los datos del dataset en formnato JSON y desnormalizados|\n",
    "|acum_importes|Código HASH de la persona que realiza el movimiento|Mapa con el nombre de la persona y el importe acumulado|"
   ]
  },
  {
   "cell_type": "markdown",
   "metadata": {},
   "source": [
    "El bucket de movientos tendrá los siguientes índices:"
   ]
  },
  {
   "cell_type": "markdown",
   "metadata": {},
   "source": [
    "|Nombre del índice|Contenido|¿Que busquedas permite hacer?|\n",
    "|-|-|-|\n",
    "|idx_miembro_bin|Nombre de la persona|Localizar movimientos de una persona concreta|"
   ]
  },
  {
   "cell_type": "code",
   "execution_count": 5,
   "metadata": {
    "collapsed": false,
    "jupyter": {
     "outputs_hidden": false
    }
   },
   "outputs": [],
   "source": [
    "BUCKET_MOVIMIENTOS = 'movimientos'\n",
    "BUCKET_ACUM_IMPORTES = 'acum_importes'\n",
    "\n",
    "bucket_mov = cliente.bucket(BUCKET_MOVIMIENTOS)\n",
    "bucket_acum_importes = cliente.bucket_type('maps').bucket(BUCKET_ACUM_IMPORTES)"
   ]
  },
  {
   "cell_type": "markdown",
   "metadata": {},
   "source": [
    "Función para eliminar los datos de un BUCKET de Riak"
   ]
  },
  {
   "cell_type": "code",
   "execution_count": 6,
   "metadata": {
    "collapsed": false,
    "jupyter": {
     "outputs_hidden": false
    }
   },
   "outputs": [],
   "source": [
    "def drop_keys(bucket):\n",
    "    for keys in bucket.stream_keys():\n",
    "        for key in keys:\n",
    "            bucket.delete(key)"
   ]
  },
  {
   "cell_type": "code",
   "execution_count": 7,
   "metadata": {
    "collapsed": false,
    "jupyter": {
     "outputs_hidden": false
    }
   },
   "outputs": [],
   "source": [
    "# Borramos los datos ..\n",
    "drop_keys(bucket_mov)\n",
    "drop_keys(bucket_acum_importes)"
   ]
  },
  {
   "cell_type": "markdown",
   "metadata": {},
   "source": [
    "## Inserción de información en Riak"
   ]
  },
  {
   "cell_type": "markdown",
   "metadata": {},
   "source": [
    "Para generar los datos en formato JSON partimos del DataFrame de Pandas y lo exportamos a JSON (en formato String) para luego cargarlo en un diccionario de Python\n",
    "\n",
    "Observa que cuando se genera el dato en formato JSON, los campos fechas se almacenan como un [TIMESTAMP de unix](http://www.unixtimestamp.com), por lo que habría que volver a convertirlo a fecha según el caso"
   ]
  },
  {
   "cell_type": "code",
   "execution_count": 8,
   "metadata": {
    "collapsed": false,
    "jupyter": {
     "outputs_hidden": false
    }
   },
   "outputs": [],
   "source": [
    "json_string = df.to_json(orient = 'records')\n",
    "json_list = json.loads(json_string)"
   ]
  },
  {
   "cell_type": "code",
   "execution_count": 9,
   "metadata": {
    "collapsed": false,
    "jupyter": {
     "outputs_hidden": false
    }
   },
   "outputs": [
    {
     "name": "stdout",
     "output_type": "stream",
     "text": [
      "7624\n"
     ]
    }
   ],
   "source": [
    "print(len(json_list))"
   ]
  },
  {
   "cell_type": "code",
   "execution_count": 10,
   "metadata": {
    "collapsed": false,
    "jupyter": {
     "outputs_hidden": false
    }
   },
   "outputs": [
    {
     "name": "stdout",
     "output_type": "stream",
     "text": [
      "{\n",
      "    'actividad': 'SALUD',\n",
      "    'actividad_completa': 'FARMACIAS',\n",
      "    'comercio': 'FCIA TORRES MU¬OZ',\n",
      "    'fecha': 1145232000000,\n",
      "    'funcion': 'concejal',\n",
      "    'hora': 11,\n",
      "    'id_miembro': 77,\n",
      "    'importe': 44.56,\n",
      "    'minuto': 40,\n",
      "    'nombre': 'Ricardo Romero de Tejada y Picatoste',\n",
      "    'organizacion': 'Partido Popular',\n",
      "}\n"
     ]
    }
   ],
   "source": [
    "pp(json_list[0])"
   ]
  },
  {
   "cell_type": "markdown",
   "metadata": {},
   "source": [
    "Vamos a utilizar el nombre de la persona como clave, por lo que necesitamos convertirla previamente a un código que no lleve ni espacios ni acentos.\n",
    "\n",
    "Este es precisamente el objetivo de la siguiente función ..."
   ]
  },
  {
   "cell_type": "code",
   "execution_count": 11,
   "metadata": {},
   "outputs": [],
   "source": [
    "def hash_string(s):\n",
    "    s_utf8 = s.encode('utf-8')\n",
    "    return hashlib.md5(s_utf8).hexdigest()"
   ]
  },
  {
   "cell_type": "markdown",
   "metadata": {},
   "source": [
    "Recorremos el dataset de movimientos, almacenando la información tanto en el bucket de movimientos como en el bucket que acumula los movimientos por cliente.\n",
    "\n",
    "En este último utilizamos una funcionalidad que nos da Riak para guardar la información tipificada. Utilizamos un mapa que tiene dos elementos: Un registro donde guardamos el nombre del cliente y un contador donde guardamos el importe (sin decimales)"
   ]
  },
  {
   "cell_type": "code",
   "execution_count": 12,
   "metadata": {
    "collapsed": false,
    "jupyter": {
     "outputs_hidden": false
    }
   },
   "outputs": [],
   "source": [
    "# Bucle de carga de datos ...\n",
    "for movimiento_json in json_list:\n",
    "    key = uuid.uuid4().hex\n",
    "    hash_nombre =  hash_string(movimiento_json[\"nombre\"])\n",
    "    \n",
    "    movimiento = bucket_mov.new(key, movimiento_json)\n",
    "    movimiento.add_index('idx_miembro_bin', hash_nombre)\n",
    "    movimiento.store()\n",
    "    \n",
    "    map_nombre = bucket_acum_importes.new(hash_nombre)\n",
    "    map_nombre.registers['nombre'].assign(movimiento_json[\"nombre\"])\n",
    "    map_nombre.counters['importe'].increment(int(round(movimiento_json[\"importe\"] * 100)))\n",
    "    map_nombre.store()\n",
    "    "
   ]
  },
  {
   "cell_type": "code",
   "execution_count": 13,
   "metadata": {},
   "outputs": [
    {
     "name": "stdout",
     "output_type": "stream",
     "text": [
      "47bcc2b2d1164bc8b5c486e28cf89316 -> {'id_miembro': 80, 'fecha': 1104796800000, 'hora': 17, 'minuto': 55, 'importe': 59.79, 'comercio': 'ESPASA CALPE-CASA DEL LIBRO', 'actividad_completa': 'LIBRERIAS, PAPELERIAS Y DISCOS', 'actividad': 'LIBRERIA', 'nombre': 'Rubén Cruz Orive', 'funcion': 'concejal', 'organizacion': 'Izquierda Unida'}\n",
      "479de4813e35469eb06a4a90f689f970 -> {'id_miembro': 42, 'fecha': 1077148800000, 'hora': 15, 'minuto': 18, 'importe': 79.4, 'comercio': 'MARISQUERIA LA PESQUERA', 'actividad_completa': 'RESTAURANTE RESTO NIVEL 2', 'actividad': 'RESTAURANTE', 'nombre': 'José María Fernández del Río', 'funcion': 'concejal', 'organizacion': 'Partido Popular'}\n",
      "4688a2c9614e4151bcf342020184b2df -> {'id_miembro': 60, 'fecha': 1242259200000, 'hora': 20, 'minuto': 31, 'importe': 19.75, 'comercio': 'TAXI DE MADRID 12822', 'actividad_completa': 'TAXIS', 'actividad': 'COCHE', 'nombre': 'Mercedes Rojo Izquierdo', 'funcion': 'concejal', 'organizacion': 'Partido Popular'}\n"
     ]
    }
   ],
   "source": [
    "for key in bucket_mov.get_keys()[0:3]:\n",
    "    data = bucket_mov.get(key).data\n",
    "    print('%s -> %s' % (key, data))"
   ]
  },
  {
   "cell_type": "code",
   "execution_count": 14,
   "metadata": {},
   "outputs": [
    {
     "name": "stdout",
     "output_type": "stream",
     "text": [
      "3d9c00de6972d1207cd19e12295754fc -> {('importe', 'counter'): 273266, ('nombre', 'register'): 'Ignacio Varela Díaz'}\n",
      "38f92f9231f3b264439d377b347de9de -> {('importe', 'counter'): 250058, ('nombre', 'register'): 'José Carlos Contreras Gómez'}\n",
      "f1c4b4704daf83ff555340400ec5d2cb -> {('importe', 'counter'): 1409109, ('nombre', 'register'): 'Luis Gabarda Durán'}\n"
     ]
    }
   ],
   "source": [
    "for key in bucket_acum_importes.get_keys()[0:3]:\n",
    "    data = bucket_acum_importes.get(key)\n",
    "    print('%s -> %s' % (key, data))"
   ]
  },
  {
   "cell_type": "markdown",
   "metadata": {},
   "source": [
    "# Lectura de información en Riak"
   ]
  },
  {
   "cell_type": "markdown",
   "metadata": {},
   "source": [
    "En la siguiente función partimos del objeto JSON que nos devuelve RIAK y generamos un DataFrame Pandas.\n",
    "\n",
    "En el caso de la fecha, lo convertimos desde un UNIX Timestamp al formato correcto para Pandas"
   ]
  },
  {
   "cell_type": "code",
   "execution_count": 15,
   "metadata": {},
   "outputs": [],
   "source": [
    "def json_to_pandas(rows):\n",
    "    # Convertimos el objeto JSON en un objeto pandas \n",
    "    df = pd.read_json(json.dumps(rows))\n",
    "    \n",
    "    if 'fecha' in df.columns:\n",
    "        # Las fechas están en formato UNIX TIMESTAMP. Las volvemos a convertir a formato Date...\n",
    "        df = df.assign(fecha = pd.to_datetime(df.fecha, unit = 'ms'))\n",
    "\n",
    "    return df"
   ]
  },
  {
   "cell_type": "markdown",
   "metadata": {},
   "source": [
    "### Lectura del bucket de movimientos"
   ]
  },
  {
   "cell_type": "markdown",
   "metadata": {},
   "source": [
    "Cargamos todos los movimientos de la base de datos y lo guardamos en un objeto Pandas, ya que hay ciertas preguntas que no pueden resolverse directamente por esta base de datos\n",
    "\n",
    "Recuerda que RIAK permite obtener información de un clave, pero no le es posible devolver la información ordenada ..."
   ]
  },
  {
   "cell_type": "code",
   "execution_count": 16,
   "metadata": {
    "collapsed": false,
    "jupyter": {
     "outputs_hidden": false
    }
   },
   "outputs": [],
   "source": [
    "rows = []\n",
    "for keys in bucket_mov.stream_keys():\n",
    "    for key in keys:\n",
    "        # print('Key %s' % key )\n",
    "        rows.append(bucket_mov.get(key).data)\n",
    "        \n",
    "# Convertimos el objeto json en un objeto pandas \n",
    "df_movimientos = json_to_pandas(rows)"
   ]
  },
  {
   "cell_type": "code",
   "execution_count": 17,
   "metadata": {
    "collapsed": false,
    "jupyter": {
     "outputs_hidden": false
    }
   },
   "outputs": [
    {
     "data": {
      "text/html": [
       "<div>\n",
       "<style scoped>\n",
       "    .dataframe tbody tr th:only-of-type {\n",
       "        vertical-align: middle;\n",
       "    }\n",
       "\n",
       "    .dataframe tbody tr th {\n",
       "        vertical-align: top;\n",
       "    }\n",
       "\n",
       "    .dataframe thead th {\n",
       "        text-align: right;\n",
       "    }\n",
       "</style>\n",
       "<table border=\"1\" class=\"dataframe\">\n",
       "  <thead>\n",
       "    <tr style=\"text-align: right;\">\n",
       "      <th></th>\n",
       "      <th>id_miembro</th>\n",
       "      <th>fecha</th>\n",
       "      <th>hora</th>\n",
       "      <th>minuto</th>\n",
       "      <th>importe</th>\n",
       "      <th>comercio</th>\n",
       "      <th>actividad_completa</th>\n",
       "      <th>actividad</th>\n",
       "      <th>nombre</th>\n",
       "      <th>funcion</th>\n",
       "      <th>organizacion</th>\n",
       "    </tr>\n",
       "  </thead>\n",
       "  <tbody>\n",
       "    <tr>\n",
       "      <th>0</th>\n",
       "      <td>52</td>\n",
       "      <td>2007-08-31</td>\n",
       "      <td>23</td>\n",
       "      <td>35</td>\n",
       "      <td>52.61</td>\n",
       "      <td>LA VACA ARGENTINA</td>\n",
       "      <td>CAFETERIAS,SNACKS</td>\n",
       "      <td>RESTAURANTE</td>\n",
       "      <td>Luis Gabarda Durán</td>\n",
       "      <td>directivo</td>\n",
       "      <td>None</td>\n",
       "    </tr>\n",
       "    <tr>\n",
       "      <th>1</th>\n",
       "      <td>74</td>\n",
       "      <td>2006-07-09</td>\n",
       "      <td>18</td>\n",
       "      <td>4</td>\n",
       "      <td>88.70</td>\n",
       "      <td>None</td>\n",
       "      <td>TAXIS</td>\n",
       "      <td>COCHE</td>\n",
       "      <td>Ramón Ferraz Ricarte</td>\n",
       "      <td>directivo</td>\n",
       "      <td>None</td>\n",
       "    </tr>\n",
       "    <tr>\n",
       "      <th>2</th>\n",
       "      <td>73</td>\n",
       "      <td>2006-10-14</td>\n",
       "      <td>20</td>\n",
       "      <td>51</td>\n",
       "      <td>23.20</td>\n",
       "      <td>FAST GOOD EUROBUILDING-GRUPONH</td>\n",
       "      <td>NH HOTELES</td>\n",
       "      <td>HOTEL</td>\n",
       "      <td>Ramón Espinar Gallego</td>\n",
       "      <td>concejal</td>\n",
       "      <td>PSOE</td>\n",
       "    </tr>\n",
       "    <tr>\n",
       "      <th>3</th>\n",
       "      <td>39</td>\n",
       "      <td>2007-10-04</td>\n",
       "      <td>10</td>\n",
       "      <td>50</td>\n",
       "      <td>1160.00</td>\n",
       "      <td>VIVATOURS</td>\n",
       "      <td>AGENCIAS DE VIAJES</td>\n",
       "      <td>VIAJE</td>\n",
       "      <td>José Manuel Fernández Norniella</td>\n",
       "      <td>concejal</td>\n",
       "      <td>Partido Popular</td>\n",
       "    </tr>\n",
       "    <tr>\n",
       "      <th>4</th>\n",
       "      <td>1</td>\n",
       "      <td>2007-02-16</td>\n",
       "      <td>9</td>\n",
       "      <td>27</td>\n",
       "      <td>150.00</td>\n",
       "      <td>GOLF SANTANDER S.A</td>\n",
       "      <td>CLUBS DEPORTIVOS</td>\n",
       "      <td>DEPORTE</td>\n",
       "      <td>Alberto Recarte García Andrade</td>\n",
       "      <td>concejal</td>\n",
       "      <td>Partido Popular</td>\n",
       "    </tr>\n",
       "  </tbody>\n",
       "</table>\n",
       "</div>"
      ],
      "text/plain": [
       "   id_miembro      fecha  hora  minuto  importe  \\\n",
       "0          52 2007-08-31    23      35    52.61   \n",
       "1          74 2006-07-09    18       4    88.70   \n",
       "2          73 2006-10-14    20      51    23.20   \n",
       "3          39 2007-10-04    10      50  1160.00   \n",
       "4           1 2007-02-16     9      27   150.00   \n",
       "\n",
       "                         comercio  actividad_completa    actividad  \\\n",
       "0               LA VACA ARGENTINA   CAFETERIAS,SNACKS  RESTAURANTE   \n",
       "1                            None               TAXIS        COCHE   \n",
       "2  FAST GOOD EUROBUILDING-GRUPONH          NH HOTELES        HOTEL   \n",
       "3                       VIVATOURS  AGENCIAS DE VIAJES        VIAJE   \n",
       "4              GOLF SANTANDER S.A    CLUBS DEPORTIVOS      DEPORTE   \n",
       "\n",
       "                            nombre    funcion     organizacion  \n",
       "0               Luis Gabarda Durán  directivo             None  \n",
       "1             Ramón Ferraz Ricarte  directivo             None  \n",
       "2            Ramón Espinar Gallego   concejal             PSOE  \n",
       "3  José Manuel Fernández Norniella   concejal  Partido Popular  \n",
       "4   Alberto Recarte García Andrade   concejal  Partido Popular  "
      ]
     },
     "execution_count": 17,
     "metadata": {},
     "output_type": "execute_result"
    }
   ],
   "source": [
    "df_movimientos.head()"
   ]
  },
  {
   "cell_type": "markdown",
   "metadata": {},
   "source": [
    "### Los 10 movimientos mas caros"
   ]
  },
  {
   "cell_type": "markdown",
   "metadata": {},
   "source": [
    "Esta consulta no la podemos contestar directamente con la Base de Datos por lo que nos apoyamos en un proceso en el cliente"
   ]
  },
  {
   "cell_type": "code",
   "execution_count": 18,
   "metadata": {
    "collapsed": false,
    "jupyter": {
     "outputs_hidden": false
    }
   },
   "outputs": [
    {
     "data": {
      "text/html": [
       "<div>\n",
       "<style scoped>\n",
       "    .dataframe tbody tr th:only-of-type {\n",
       "        vertical-align: middle;\n",
       "    }\n",
       "\n",
       "    .dataframe tbody tr th {\n",
       "        vertical-align: top;\n",
       "    }\n",
       "\n",
       "    .dataframe thead th {\n",
       "        text-align: right;\n",
       "    }\n",
       "</style>\n",
       "<table border=\"1\" class=\"dataframe\">\n",
       "  <thead>\n",
       "    <tr style=\"text-align: right;\">\n",
       "      <th></th>\n",
       "      <th>nombre</th>\n",
       "      <th>fecha</th>\n",
       "      <th>actividad_completa</th>\n",
       "      <th>importe</th>\n",
       "    </tr>\n",
       "  </thead>\n",
       "  <tbody>\n",
       "    <tr>\n",
       "      <th>6003</th>\n",
       "      <td>Enrique de la Torre Martínez</td>\n",
       "      <td>2007-11-28</td>\n",
       "      <td>AGENCIAS BANCARIAS(ANTICIPO VENTANILLA)</td>\n",
       "      <td>12000.00</td>\n",
       "    </tr>\n",
       "    <tr>\n",
       "      <th>3684</th>\n",
       "      <td>Ramón Ferraz Ricarte</td>\n",
       "      <td>2007-12-19</td>\n",
       "      <td>AGENCIAS BANCARIAS(ANTICIPO VENTANILLA)</td>\n",
       "      <td>9424.08</td>\n",
       "    </tr>\n",
       "    <tr>\n",
       "      <th>4721</th>\n",
       "      <td>Enrique de la Torre Martínez</td>\n",
       "      <td>2008-10-23</td>\n",
       "      <td>AGENCIAS BANCARIAS(ANTICIPO VENTANILLA)</td>\n",
       "      <td>9000.00</td>\n",
       "    </tr>\n",
       "    <tr>\n",
       "      <th>4191</th>\n",
       "      <td>Enrique de la Torre Martínez</td>\n",
       "      <td>2006-11-29</td>\n",
       "      <td>AGENCIAS BANCARIAS(ANTICIPO VENTANILLA)</td>\n",
       "      <td>8000.00</td>\n",
       "    </tr>\n",
       "    <tr>\n",
       "      <th>1315</th>\n",
       "      <td>Miguel Blesa de la Parra</td>\n",
       "      <td>2006-12-26</td>\n",
       "      <td>EL CORTE INGLES</td>\n",
       "      <td>6397.31</td>\n",
       "    </tr>\n",
       "    <tr>\n",
       "      <th>5298</th>\n",
       "      <td>Rafael Spottorno Díaz Caro</td>\n",
       "      <td>2007-11-30</td>\n",
       "      <td>CONFECCION TEXTIL EN GENERAL</td>\n",
       "      <td>6375.00</td>\n",
       "    </tr>\n",
       "    <tr>\n",
       "      <th>5888</th>\n",
       "      <td>Carmen Contreras Gómez</td>\n",
       "      <td>2006-08-13</td>\n",
       "      <td>HOTELES 4 Y 5 ESTRELLAS,BALNEARIOS,CAMPI</td>\n",
       "      <td>6198.02</td>\n",
       "    </tr>\n",
       "    <tr>\n",
       "      <th>1982</th>\n",
       "      <td>Matías Amat Roca</td>\n",
       "      <td>2006-08-13</td>\n",
       "      <td>BRITISH AIRWAYS - BRITISH A</td>\n",
       "      <td>5763.10</td>\n",
       "    </tr>\n",
       "    <tr>\n",
       "      <th>6018</th>\n",
       "      <td>Juan Manuel Astorqui Portera</td>\n",
       "      <td>2005-07-31</td>\n",
       "      <td>AUTOM.Y MOTOCICLETAS ( VENTAS Y REPARAC)</td>\n",
       "      <td>5403.97</td>\n",
       "    </tr>\n",
       "    <tr>\n",
       "      <th>6888</th>\n",
       "      <td>Enrique de la Torre Martínez</td>\n",
       "      <td>2004-12-06</td>\n",
       "      <td>AGENCIAS BANCARIAS(ANTICIPO VENTANILLA)</td>\n",
       "      <td>5390.00</td>\n",
       "    </tr>\n",
       "  </tbody>\n",
       "</table>\n",
       "</div>"
      ],
      "text/plain": [
       "                            nombre      fecha  \\\n",
       "6003  Enrique de la Torre Martínez 2007-11-28   \n",
       "3684          Ramón Ferraz Ricarte 2007-12-19   \n",
       "4721  Enrique de la Torre Martínez 2008-10-23   \n",
       "4191  Enrique de la Torre Martínez 2006-11-29   \n",
       "1315      Miguel Blesa de la Parra 2006-12-26   \n",
       "5298    Rafael Spottorno Díaz Caro 2007-11-30   \n",
       "5888        Carmen Contreras Gómez 2006-08-13   \n",
       "1982              Matías Amat Roca 2006-08-13   \n",
       "6018  Juan Manuel Astorqui Portera 2005-07-31   \n",
       "6888  Enrique de la Torre Martínez 2004-12-06   \n",
       "\n",
       "                            actividad_completa   importe  \n",
       "6003   AGENCIAS BANCARIAS(ANTICIPO VENTANILLA)  12000.00  \n",
       "3684   AGENCIAS BANCARIAS(ANTICIPO VENTANILLA)   9424.08  \n",
       "4721   AGENCIAS BANCARIAS(ANTICIPO VENTANILLA)   9000.00  \n",
       "4191   AGENCIAS BANCARIAS(ANTICIPO VENTANILLA)   8000.00  \n",
       "1315                           EL CORTE INGLES   6397.31  \n",
       "5298              CONFECCION TEXTIL EN GENERAL   6375.00  \n",
       "5888  HOTELES 4 Y 5 ESTRELLAS,BALNEARIOS,CAMPI   6198.02  \n",
       "1982               BRITISH AIRWAYS - BRITISH A   5763.10  \n",
       "6018  AUTOM.Y MOTOCICLETAS ( VENTAS Y REPARAC)   5403.97  \n",
       "6888   AGENCIAS BANCARIAS(ANTICIPO VENTANILLA)   5390.00  "
      ]
     },
     "execution_count": 18,
     "metadata": {},
     "output_type": "execute_result"
    }
   ],
   "source": [
    "df_movimientos \\\n",
    "    .sort_values('importe', ascending=False)\\\n",
    "    .filter(['nombre', 'fecha', 'actividad_completa', 'importe']) \\\n",
    "    .head(10)"
   ]
  },
  {
   "cell_type": "markdown",
   "metadata": {},
   "source": [
    "### Lectura a través de un índice"
   ]
  },
  {
   "cell_type": "code",
   "execution_count": 19,
   "metadata": {
    "collapsed": false,
    "jupyter": {
     "outputs_hidden": false
    }
   },
   "outputs": [],
   "source": [
    "rows = []\n",
    "keys = bucket_mov.stream_index(\"idx_miembro_bin\", hash_string(u\"Ildefonso José Sánchez Barcoj\"))\n",
    "for keys in keys.results:\n",
    "    for movimiento_key in keys:\n",
    "        rows.append(bucket_mov.get(movimiento_key).data)\n",
    "    \n",
    "df = json_to_pandas(rows)"
   ]
  },
  {
   "cell_type": "markdown",
   "metadata": {},
   "source": [
    "### Los movimientos de una persona concreta"
   ]
  },
  {
   "cell_type": "markdown",
   "metadata": {},
   "source": [
    "Para obtener los movimientos de una persona en concreto si podemos utilizar el índice que habíamos creado Ad-hoc, aunque la ordenación se realiza en Pandas"
   ]
  },
  {
   "cell_type": "code",
   "execution_count": 20,
   "metadata": {
    "collapsed": false,
    "jupyter": {
     "outputs_hidden": false
    }
   },
   "outputs": [
    {
     "data": {
      "text/html": [
       "<div>\n",
       "<style scoped>\n",
       "    .dataframe tbody tr th:only-of-type {\n",
       "        vertical-align: middle;\n",
       "    }\n",
       "\n",
       "    .dataframe tbody tr th {\n",
       "        vertical-align: top;\n",
       "    }\n",
       "\n",
       "    .dataframe thead th {\n",
       "        text-align: right;\n",
       "    }\n",
       "</style>\n",
       "<table border=\"1\" class=\"dataframe\">\n",
       "  <thead>\n",
       "    <tr style=\"text-align: right;\">\n",
       "      <th></th>\n",
       "      <th>nombre</th>\n",
       "      <th>fecha</th>\n",
       "      <th>actividad_completa</th>\n",
       "      <th>importe</th>\n",
       "    </tr>\n",
       "  </thead>\n",
       "  <tbody>\n",
       "    <tr>\n",
       "      <th>173</th>\n",
       "      <td>Ildefonso José Sánchez Barcoj</td>\n",
       "      <td>2009-05-04</td>\n",
       "      <td>AGENCIAS BANCARIAS(ANTICIPO VENTANILLA)</td>\n",
       "      <td>1500.00</td>\n",
       "    </tr>\n",
       "    <tr>\n",
       "      <th>138</th>\n",
       "      <td>Ildefonso José Sánchez Barcoj</td>\n",
       "      <td>2010-07-07</td>\n",
       "      <td>EL CORTE INGLES</td>\n",
       "      <td>1478.07</td>\n",
       "    </tr>\n",
       "    <tr>\n",
       "      <th>93</th>\n",
       "      <td>Ildefonso José Sánchez Barcoj</td>\n",
       "      <td>2008-03-21</td>\n",
       "      <td>HOTELES 4 Y 5 ESTRELLAS,BALNEARIOS,CAMPI</td>\n",
       "      <td>1392.79</td>\n",
       "    </tr>\n",
       "    <tr>\n",
       "      <th>165</th>\n",
       "      <td>Ildefonso José Sánchez Barcoj</td>\n",
       "      <td>2005-10-28</td>\n",
       "      <td>LOUIS VUITTON/LOEWE</td>\n",
       "      <td>1375.00</td>\n",
       "    </tr>\n",
       "    <tr>\n",
       "      <th>161</th>\n",
       "      <td>Ildefonso José Sánchez Barcoj</td>\n",
       "      <td>2009-09-28</td>\n",
       "      <td>AGENCIAS BANCARIAS(ANTICIPO VENTANILLA)</td>\n",
       "      <td>1000.00</td>\n",
       "    </tr>\n",
       "    <tr>\n",
       "      <th>253</th>\n",
       "      <td>Ildefonso José Sánchez Barcoj</td>\n",
       "      <td>2012-03-15</td>\n",
       "      <td>IBERIA</td>\n",
       "      <td>940.00</td>\n",
       "    </tr>\n",
       "    <tr>\n",
       "      <th>196</th>\n",
       "      <td>Ildefonso José Sánchez Barcoj</td>\n",
       "      <td>2010-02-05</td>\n",
       "      <td>CONFECCION TEXTIL EN GENERAL</td>\n",
       "      <td>930.00</td>\n",
       "    </tr>\n",
       "    <tr>\n",
       "      <th>88</th>\n",
       "      <td>Ildefonso José Sánchez Barcoj</td>\n",
       "      <td>2005-12-19</td>\n",
       "      <td>EL CORTE INGLES</td>\n",
       "      <td>731.00</td>\n",
       "    </tr>\n",
       "    <tr>\n",
       "      <th>187</th>\n",
       "      <td>Ildefonso José Sánchez Barcoj</td>\n",
       "      <td>2009-03-20</td>\n",
       "      <td>PARADORES NACIONALES</td>\n",
       "      <td>708.11</td>\n",
       "    </tr>\n",
       "    <tr>\n",
       "      <th>21</th>\n",
       "      <td>Ildefonso José Sánchez Barcoj</td>\n",
       "      <td>2009-12-07</td>\n",
       "      <td>HOTELES 4 Y 5 ESTRELLAS,BALNEARIOS,CAMPI</td>\n",
       "      <td>672.44</td>\n",
       "    </tr>\n",
       "  </tbody>\n",
       "</table>\n",
       "</div>"
      ],
      "text/plain": [
       "                            nombre      fecha  \\\n",
       "173  Ildefonso José Sánchez Barcoj 2009-05-04   \n",
       "138  Ildefonso José Sánchez Barcoj 2010-07-07   \n",
       "93   Ildefonso José Sánchez Barcoj 2008-03-21   \n",
       "165  Ildefonso José Sánchez Barcoj 2005-10-28   \n",
       "161  Ildefonso José Sánchez Barcoj 2009-09-28   \n",
       "253  Ildefonso José Sánchez Barcoj 2012-03-15   \n",
       "196  Ildefonso José Sánchez Barcoj 2010-02-05   \n",
       "88   Ildefonso José Sánchez Barcoj 2005-12-19   \n",
       "187  Ildefonso José Sánchez Barcoj 2009-03-20   \n",
       "21   Ildefonso José Sánchez Barcoj 2009-12-07   \n",
       "\n",
       "                           actividad_completa  importe  \n",
       "173   AGENCIAS BANCARIAS(ANTICIPO VENTANILLA)  1500.00  \n",
       "138                           EL CORTE INGLES  1478.07  \n",
       "93   HOTELES 4 Y 5 ESTRELLAS,BALNEARIOS,CAMPI  1392.79  \n",
       "165                       LOUIS VUITTON/LOEWE  1375.00  \n",
       "161   AGENCIAS BANCARIAS(ANTICIPO VENTANILLA)  1000.00  \n",
       "253                                    IBERIA   940.00  \n",
       "196              CONFECCION TEXTIL EN GENERAL   930.00  \n",
       "88                            EL CORTE INGLES   731.00  \n",
       "187                      PARADORES NACIONALES   708.11  \n",
       "21   HOTELES 4 Y 5 ESTRELLAS,BALNEARIOS,CAMPI   672.44  "
      ]
     },
     "execution_count": 20,
     "metadata": {},
     "output_type": "execute_result"
    }
   ],
   "source": [
    "df \\\n",
    "    .sort_values('importe', ascending=False) \\\n",
    "    .filter(['nombre', 'fecha', 'actividad_completa', 'importe']) \\\n",
    "    .head(10)"
   ]
  },
  {
   "cell_type": "markdown",
   "metadata": {},
   "source": [
    "### Lectura de una información agregada"
   ]
  },
  {
   "cell_type": "markdown",
   "metadata": {},
   "source": [
    "La información agregada está en un mapa, por lo que tenemos que procesarla y convertirla a formato JSON."
   ]
  },
  {
   "cell_type": "code",
   "execution_count": 21,
   "metadata": {
    "collapsed": false,
    "jupyter": {
     "outputs_hidden": false
    }
   },
   "outputs": [],
   "source": [
    "rows = []\n",
    "for keys in bucket_acum_importes.stream_keys():\n",
    "    #print(keys)\n",
    "    for key in keys:\n",
    "        map_nombre = bucket_acum_importes.get(key)\n",
    "        rows.append({'nombre' : map_nombre.registers['nombre'].value,\n",
    "                     \"importe\" : float(map_nombre.counters['importe'].value) / 100})\n",
    "        \n",
    "# Convertimos el objeto json en un objeto pandas \n",
    "df = json_to_pandas(rows)"
   ]
  },
  {
   "cell_type": "markdown",
   "metadata": {},
   "source": [
    "### Las 10 personas que mas han gastado"
   ]
  },
  {
   "cell_type": "markdown",
   "metadata": {},
   "source": [
    "Fácil si disponemos de un agregado. Utilizamos Pandas para ordenar la información ..,"
   ]
  },
  {
   "cell_type": "code",
   "execution_count": 22,
   "metadata": {
    "collapsed": false,
    "jupyter": {
     "outputs_hidden": false
    }
   },
   "outputs": [
    {
     "data": {
      "text/html": [
       "<div>\n",
       "<style scoped>\n",
       "    .dataframe tbody tr th:only-of-type {\n",
       "        vertical-align: middle;\n",
       "    }\n",
       "\n",
       "    .dataframe tbody tr th {\n",
       "        vertical-align: top;\n",
       "    }\n",
       "\n",
       "    .dataframe thead th {\n",
       "        text-align: right;\n",
       "    }\n",
       "</style>\n",
       "<table border=\"1\" class=\"dataframe\">\n",
       "  <thead>\n",
       "    <tr style=\"text-align: right;\">\n",
       "      <th></th>\n",
       "      <th>nombre</th>\n",
       "      <th>importe</th>\n",
       "    </tr>\n",
       "  </thead>\n",
       "  <tbody>\n",
       "    <tr>\n",
       "      <th>57</th>\n",
       "      <td>Enrique de la Torre Martínez</td>\n",
       "      <td>58826.28</td>\n",
       "    </tr>\n",
       "    <tr>\n",
       "      <th>24</th>\n",
       "      <td>José Antonio Moral Santín</td>\n",
       "      <td>52447.07</td>\n",
       "    </tr>\n",
       "    <tr>\n",
       "      <th>62</th>\n",
       "      <td>Ramón Ferraz Ricarte</td>\n",
       "      <td>45371.52</td>\n",
       "    </tr>\n",
       "    <tr>\n",
       "      <th>44</th>\n",
       "      <td>Miguel Blesa de la Parra</td>\n",
       "      <td>40298.84</td>\n",
       "    </tr>\n",
       "    <tr>\n",
       "      <th>20</th>\n",
       "      <td>Ildefonso José Sánchez Barcoj</td>\n",
       "      <td>39437.99</td>\n",
       "    </tr>\n",
       "    <tr>\n",
       "      <th>63</th>\n",
       "      <td>Juan Manuel Astorqui Portera</td>\n",
       "      <td>36627.89</td>\n",
       "    </tr>\n",
       "    <tr>\n",
       "      <th>36</th>\n",
       "      <td>Francisco Baquero Noriega</td>\n",
       "      <td>35256.67</td>\n",
       "    </tr>\n",
       "    <tr>\n",
       "      <th>71</th>\n",
       "      <td>Matías Amat Roca</td>\n",
       "      <td>33434.74</td>\n",
       "    </tr>\n",
       "    <tr>\n",
       "      <th>4</th>\n",
       "      <td>Carmen Contreras Gómez</td>\n",
       "      <td>31556.45</td>\n",
       "    </tr>\n",
       "    <tr>\n",
       "      <th>28</th>\n",
       "      <td>Estanislao Rodríguez-Ponga Salamanca</td>\n",
       "      <td>29350.65</td>\n",
       "    </tr>\n",
       "  </tbody>\n",
       "</table>\n",
       "</div>"
      ],
      "text/plain": [
       "                                  nombre   importe\n",
       "57          Enrique de la Torre Martínez  58826.28\n",
       "24             José Antonio Moral Santín  52447.07\n",
       "62                  Ramón Ferraz Ricarte  45371.52\n",
       "44              Miguel Blesa de la Parra  40298.84\n",
       "20         Ildefonso José Sánchez Barcoj  39437.99\n",
       "63          Juan Manuel Astorqui Portera  36627.89\n",
       "36             Francisco Baquero Noriega  35256.67\n",
       "71                      Matías Amat Roca  33434.74\n",
       "4                 Carmen Contreras Gómez  31556.45\n",
       "28  Estanislao Rodríguez-Ponga Salamanca  29350.65"
      ]
     },
     "execution_count": 22,
     "metadata": {},
     "output_type": "execute_result"
    }
   ],
   "source": [
    "df.sort_values('importe', ascending=False).head(10)"
   ]
  },
  {
   "cell_type": "code",
   "execution_count": null,
   "metadata": {},
   "outputs": [],
   "source": []
  }
 ],
 "metadata": {
  "kernelspec": {
   "display_name": "Python 3",
   "language": "python",
   "name": "python3"
  },
  "language_info": {
   "codemirror_mode": {
    "name": "ipython",
    "version": 3
   },
   "file_extension": ".py",
   "mimetype": "text/x-python",
   "name": "python",
   "nbconvert_exporter": "python",
   "pygments_lexer": "ipython3",
   "version": "3.6.9"
  }
 },
 "nbformat": 4,
 "nbformat_minor": 4
}
