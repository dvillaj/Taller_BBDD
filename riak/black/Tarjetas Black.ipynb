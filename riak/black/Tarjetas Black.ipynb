{
 "cells": [
  {
   "cell_type": "markdown",
   "metadata": {},
   "source": [
    "# Riak"
   ]
  },
  {
   "cell_type": "code",
   "execution_count": 1,
   "metadata": {
    "collapsed": true
   },
   "outputs": [],
   "source": [
    "import riak\n",
    "from pprintpp import pprint as pp\n",
    "import json\n",
    "import pandas as pd\n",
    "\n",
    "import uuid\n",
    "import hashlib"
   ]
  },
  {
   "cell_type": "markdown",
   "metadata": {},
   "source": [
    "## Lectura de información en Pandas"
   ]
  },
  {
   "cell_type": "markdown",
   "metadata": {},
   "source": [
    "Partimos del dataset normalizado y lo desnormalizamos para guardarlo todo junto en RIAK"
   ]
  },
  {
   "cell_type": "code",
   "execution_count": 2,
   "metadata": {
    "collapsed": false
   },
   "outputs": [
    {
     "name": "stdout",
     "output_type": "stream",
     "text": [
      "<class 'pandas.core.frame.DataFrame'>\n",
      "Int64Index: 7624 entries, 0 to 7623\n",
      "Data columns (total 11 columns):\n",
      "id_miembro            7624 non-null int64\n",
      "fecha                 7624 non-null datetime64[ns]\n",
      "minuto                7624 non-null int64\n",
      "hora                  7624 non-null int64\n",
      "importe               7624 non-null float64\n",
      "comercio              6864 non-null object\n",
      "actividad_completa    7622 non-null object\n",
      "actividad             7622 non-null object\n",
      "nombre                7624 non-null object\n",
      "funcion               7624 non-null object\n",
      "organizacion          6056 non-null object\n",
      "dtypes: datetime64[ns](1), float64(1), int64(3), object(6)\n",
      "memory usage: 714.8+ KB\n"
     ]
    }
   ],
   "source": [
    "df_mov = pd.read_excel(\"../../data/black.xlsx\", sheetname= \"Movimientos\")\n",
    "df_miembros = pd.read_excel(\"../../data/black.xlsx\", sheetname= \"Miembros\")\n",
    "df = pd.merge(df_mov, df_miembros, on = ['id_miembro'], how = 'inner')\n",
    "df.info()"
   ]
  },
  {
   "cell_type": "code",
   "execution_count": 3,
   "metadata": {
    "collapsed": false
   },
   "outputs": [
    {
     "data": {
      "text/html": [
       "<div>\n",
       "<style>\n",
       "    .dataframe thead tr:only-child th {\n",
       "        text-align: right;\n",
       "    }\n",
       "\n",
       "    .dataframe thead th {\n",
       "        text-align: left;\n",
       "    }\n",
       "\n",
       "    .dataframe tbody tr th {\n",
       "        vertical-align: top;\n",
       "    }\n",
       "</style>\n",
       "<table border=\"1\" class=\"dataframe\">\n",
       "  <thead>\n",
       "    <tr style=\"text-align: right;\">\n",
       "      <th></th>\n",
       "      <th>id_miembro</th>\n",
       "      <th>fecha</th>\n",
       "      <th>minuto</th>\n",
       "      <th>hora</th>\n",
       "      <th>importe</th>\n",
       "      <th>comercio</th>\n",
       "      <th>actividad_completa</th>\n",
       "      <th>actividad</th>\n",
       "      <th>nombre</th>\n",
       "      <th>funcion</th>\n",
       "      <th>organizacion</th>\n",
       "    </tr>\n",
       "  </thead>\n",
       "  <tbody>\n",
       "    <tr>\n",
       "      <th>0</th>\n",
       "      <td>40</td>\n",
       "      <td>2005-03-28</td>\n",
       "      <td>11</td>\n",
       "      <td>16</td>\n",
       "      <td>73.00</td>\n",
       "      <td>LA VACA ARGENTINA</td>\n",
       "      <td>RESTAURANTES RESTO</td>\n",
       "      <td>RESTAURANTE</td>\n",
       "      <td>José María Arteta Vico</td>\n",
       "      <td>concejal</td>\n",
       "      <td>PSOE</td>\n",
       "    </tr>\n",
       "    <tr>\n",
       "      <th>1</th>\n",
       "      <td>40</td>\n",
       "      <td>2004-05-31</td>\n",
       "      <td>59</td>\n",
       "      <td>16</td>\n",
       "      <td>10.10</td>\n",
       "      <td>CAFE DE ORIENTE</td>\n",
       "      <td>RESTAURANTES DE 4 Y 5 TENEDORES</td>\n",
       "      <td>RESTAURANTE</td>\n",
       "      <td>José María Arteta Vico</td>\n",
       "      <td>concejal</td>\n",
       "      <td>PSOE</td>\n",
       "    </tr>\n",
       "    <tr>\n",
       "      <th>2</th>\n",
       "      <td>40</td>\n",
       "      <td>2007-09-05</td>\n",
       "      <td>43</td>\n",
       "      <td>22</td>\n",
       "      <td>76.29</td>\n",
       "      <td>RESTAURANTE LA VACA ARGEN</td>\n",
       "      <td>RESTAURANTES RESTO</td>\n",
       "      <td>RESTAURANTE</td>\n",
       "      <td>José María Arteta Vico</td>\n",
       "      <td>concejal</td>\n",
       "      <td>PSOE</td>\n",
       "    </tr>\n",
       "    <tr>\n",
       "      <th>3</th>\n",
       "      <td>40</td>\n",
       "      <td>2006-12-14</td>\n",
       "      <td>13</td>\n",
       "      <td>0</td>\n",
       "      <td>78.50</td>\n",
       "      <td>EL CAPRICHO</td>\n",
       "      <td>RESTAURANTES DE 4 Y 5 TENEDORES</td>\n",
       "      <td>RESTAURANTE</td>\n",
       "      <td>José María Arteta Vico</td>\n",
       "      <td>concejal</td>\n",
       "      <td>PSOE</td>\n",
       "    </tr>\n",
       "    <tr>\n",
       "      <th>4</th>\n",
       "      <td>40</td>\n",
       "      <td>2008-12-12</td>\n",
       "      <td>38</td>\n",
       "      <td>20</td>\n",
       "      <td>59.90</td>\n",
       "      <td>EL CORTE INGLES</td>\n",
       "      <td>EL CORTE INGLES</td>\n",
       "      <td>COMPRA BIENES</td>\n",
       "      <td>José María Arteta Vico</td>\n",
       "      <td>concejal</td>\n",
       "      <td>PSOE</td>\n",
       "    </tr>\n",
       "  </tbody>\n",
       "</table>\n",
       "</div>"
      ],
      "text/plain": [
       "   id_miembro      fecha  minuto  hora  importe                   comercio  \\\n",
       "0          40 2005-03-28      11    16    73.00          LA VACA ARGENTINA   \n",
       "1          40 2004-05-31      59    16    10.10            CAFE DE ORIENTE   \n",
       "2          40 2007-09-05      43    22    76.29  RESTAURANTE LA VACA ARGEN   \n",
       "3          40 2006-12-14      13     0    78.50                EL CAPRICHO   \n",
       "4          40 2008-12-12      38    20    59.90            EL CORTE INGLES   \n",
       "\n",
       "                actividad_completa      actividad                  nombre  \\\n",
       "0               RESTAURANTES RESTO    RESTAURANTE  José María Arteta Vico   \n",
       "1  RESTAURANTES DE 4 Y 5 TENEDORES    RESTAURANTE  José María Arteta Vico   \n",
       "2               RESTAURANTES RESTO    RESTAURANTE  José María Arteta Vico   \n",
       "3  RESTAURANTES DE 4 Y 5 TENEDORES    RESTAURANTE  José María Arteta Vico   \n",
       "4                  EL CORTE INGLES  COMPRA BIENES  José María Arteta Vico   \n",
       "\n",
       "    funcion organizacion  \n",
       "0  concejal         PSOE  \n",
       "1  concejal         PSOE  \n",
       "2  concejal         PSOE  \n",
       "3  concejal         PSOE  \n",
       "4  concejal         PSOE  "
      ]
     },
     "execution_count": 3,
     "metadata": {},
     "output_type": "execute_result"
    }
   ],
   "source": [
    "df.head(5)"
   ]
  },
  {
   "cell_type": "markdown",
   "metadata": {},
   "source": [
    "## Riak ..."
   ]
  },
  {
   "cell_type": "code",
   "execution_count": 4,
   "metadata": {
    "collapsed": false
   },
   "outputs": [
    {
     "data": {
      "text/plain": [
       "True"
      ]
     },
     "execution_count": 4,
     "metadata": {},
     "output_type": "execute_result"
    }
   ],
   "source": [
    "# connect to database\n",
    "cliente = riak.RiakClient()\n",
    "cliente.ping()"
   ]
  },
  {
   "cell_type": "markdown",
   "metadata": {},
   "source": [
    "Utilizamos un bucket para guardar los movimientos en formato JSON y otro para guardar el importe acumulado por miembro.\n",
    "\n",
    "En el bucket de movimientos utilizamos una clave autogenerada (no vamos a poder localizar los movimientos por clave) y en el bucket con el importe acumulado la clave es el nombre de la persona en formato HASH, para no tener problemas ni con los espacios del nombre ni con los acentos\n",
    "\n",
    "Se van a crear los siguientes buckets:\n",
    "\n",
    "|bucket|Clave|Contenido|\n",
    "|-|-|-|\n",
    "|movimientos|Marca temporal|Todos los datos del dataset en formnato JSON y desnormalizados|\n",
    "|acum_importes|Código HASH de la persona que realiza el movimiento|Mapa con el nombre de la persona y el importe acumulado|\n",
    "\n",
    "El bucket de tweets tendrá los siguientes índices:\n",
    "\n",
    "|Nombre del índice|Contenido|¿Que busquedas permite hacer?|\n",
    "|-|-|-|\n",
    "|idx_miembro_bin|Nombre de la persona|Localizar movimientos de una persona concreta|"
   ]
  },
  {
   "cell_type": "code",
   "execution_count": 5,
   "metadata": {
    "collapsed": false
   },
   "outputs": [],
   "source": [
    "BUCKET_MOVIMIENTOS = 'movimientos'\n",
    "BUCKET_ACUM_IMPORTES = 'acum_importes'\n",
    "\n",
    "bucket_mov = cliente.bucket(BUCKET_MOVIMIENTOS)\n",
    "bucket_acum_importes = cliente.bucket_type('maps').bucket(BUCKET_ACUM_IMPORTES)"
   ]
  },
  {
   "cell_type": "markdown",
   "metadata": {},
   "source": [
    "Función para eliminar los datos de un BUCKET de Riak"
   ]
  },
  {
   "cell_type": "code",
   "execution_count": 6,
   "metadata": {
    "collapsed": false
   },
   "outputs": [],
   "source": [
    "def drop_keys(bucket):\n",
    "    for keys in bucket.stream_keys():\n",
    "        for key in keys:\n",
    "            bucket.delete(key)"
   ]
  },
  {
   "cell_type": "code",
   "execution_count": 21,
   "metadata": {
    "collapsed": false
   },
   "outputs": [],
   "source": [
    "# Borramos los datos ..\n",
    "drop_keys(bucket_mov)\n",
    "drop_keys(bucket_acum_importes)"
   ]
  },
  {
   "cell_type": "markdown",
   "metadata": {},
   "source": [
    "## Inserción de información en Riak"
   ]
  },
  {
   "cell_type": "markdown",
   "metadata": {},
   "source": [
    "Para generar los datos en formato JSON partimos del DataFrame de Pandas y lo exportamos a JSON (en formato String) para luego cargarlo en un diccionario de Python\n",
    "\n",
    "Observa que cuando se genera el dato en formato JSON, los campos fechas se almacenan como un [TIMESTAMP de unix](http://www.unixtimestamp.com), por lo que habría que volver a convertirlo a fecha según el caso"
   ]
  },
  {
   "cell_type": "code",
   "execution_count": 8,
   "metadata": {
    "collapsed": false
   },
   "outputs": [],
   "source": [
    "json_string = df.to_json(orient = 'records')\n",
    "json_list = json.loads(json_string)"
   ]
  },
  {
   "cell_type": "code",
   "execution_count": 9,
   "metadata": {
    "collapsed": false
   },
   "outputs": [
    {
     "name": "stdout",
     "output_type": "stream",
     "text": [
      "7624\n"
     ]
    }
   ],
   "source": [
    "print(len(json_list))"
   ]
  },
  {
   "cell_type": "code",
   "execution_count": 10,
   "metadata": {
    "collapsed": false
   },
   "outputs": [
    {
     "name": "stdout",
     "output_type": "stream",
     "text": [
      "{\n",
      "    u'actividad': u'RESTAURANTE',\n",
      "    u'actividad_completa': u'RESTAURANTES RESTO',\n",
      "    u'comercio': u'LA VACA ARGENTINA',\n",
      "    u'fecha': 1111968000000,\n",
      "    u'funcion': u'concejal',\n",
      "    u'hora': 16,\n",
      "    u'id_miembro': 40,\n",
      "    u'importe': 73.0,\n",
      "    u'minuto': 11,\n",
      "    u'nombre': u'José María Arteta Vico',\n",
      "    u'organizacion': u'PSOE',\n",
      "}\n"
     ]
    }
   ],
   "source": [
    "pp(json_list[0])"
   ]
  },
  {
   "cell_type": "markdown",
   "metadata": {},
   "source": [
    "Vamos a utilizar el nombre de la persona como clave, por lo que necesitamos convertirla previamente a un código que no lleve ni espacios ni acentos.\n",
    "\n",
    "Este es precisamente el objetivo de la siguiente función ..."
   ]
  },
  {
   "cell_type": "code",
   "execution_count": 11,
   "metadata": {
    "collapsed": true
   },
   "outputs": [],
   "source": [
    "def hash_string(s):\n",
    "    s_utf8 = s.encode('utf-8')\n",
    "    return hashlib.md5(s_utf8).hexdigest()"
   ]
  },
  {
   "cell_type": "markdown",
   "metadata": {},
   "source": [
    "Recorremos el dataset de movimientos, almacenando la información tanto en el bucket de movimientos como en el bucket que acumula los movimientos por cliente.\n",
    "\n",
    "En este último utilizamos una funcionalidad que nos da Riak para guardar la información tipificada. Utilizamos un mapa que tiene dos elementos: Un registro donde guardamos el nombre del cliente y un contador donde guardamos el importe (sin decimales)"
   ]
  },
  {
   "cell_type": "code",
   "execution_count": 12,
   "metadata": {
    "collapsed": false
   },
   "outputs": [],
   "source": [
    "# Bucle de carga de datos ...\n",
    "for movimiento_json in json_list:\n",
    "    key = uuid.uuid1().hex\n",
    "    hash_nombre =  hash_string(movimiento_json[\"nombre\"])\n",
    "    \n",
    "    movimiento = bucket_mov.new(key, movimiento_json)\n",
    "    movimiento.add_index('idx_miembro_bin', hash_nombre)\n",
    "    movimiento.store()\n",
    "    \n",
    "    map_nombre = bucket_acum_importes.new(hash_nombre)\n",
    "    map_nombre.registers['nombre'].assign(movimiento_json[\"nombre\"].encode('utf-8'))\n",
    "    map_nombre.counters['importe'].increment(int(round(movimiento_json[\"importe\"] * 100)))\n",
    "    map_nombre.store()\n",
    "    "
   ]
  },
  {
   "cell_type": "markdown",
   "metadata": {},
   "source": [
    "# Lectura de información en Riak"
   ]
  },
  {
   "cell_type": "markdown",
   "metadata": {},
   "source": [
    "En la siguiente función partimos del objeto JSON que nos devuelve RIAK y generamos un DataFrame Pandas.\n",
    "\n",
    "En el caso de la fecha, lo convertimos desde un UNIX Timestamp al formato correcto para Pandas"
   ]
  },
  {
   "cell_type": "code",
   "execution_count": 13,
   "metadata": {
    "collapsed": true
   },
   "outputs": [],
   "source": [
    "def json_to_pandas(rows):\n",
    "    # Convertimos el objeto JSON en un objeto pandas \n",
    "    df = pd.read_json(json.dumps(rows))\n",
    "    \n",
    "    if 'fecha' in df.columns:\n",
    "        # Las fechas están en formato UNIX TIMESTAMP. Las volvemos a convertir a formato Date...\n",
    "        df = df.assign(fecha = pd.to_datetime(df.fecha, unit = 'ms'))\n",
    "\n",
    "    return df"
   ]
  },
  {
   "cell_type": "markdown",
   "metadata": {},
   "source": [
    "### Lectura del bucket de movimientos"
   ]
  },
  {
   "cell_type": "markdown",
   "metadata": {},
   "source": [
    "Cargamos todos los movimientos de la base de datos y lo guardamos en un objeto Pandas, ya que hay ciertas preguntas que no pueden resolverse directamente por esta base de datos\n",
    "\n",
    "Recuerda que RIAK permite obtener información de un clave, pero no le es posible devolver la información ordenada ..."
   ]
  },
  {
   "cell_type": "code",
   "execution_count": 14,
   "metadata": {
    "collapsed": false
   },
   "outputs": [],
   "source": [
    "rows = []\n",
    "for keys in bucket_mov.stream_keys():\n",
    "    for key in keys:\n",
    "        # print('Key %s' % key )\n",
    "        rows.append(bucket_mov.get(key).data)\n",
    "        \n",
    "# Convertimos el objeto json en un objeto pandas \n",
    "df_movimientos = json_to_pandas(rows)"
   ]
  },
  {
   "cell_type": "code",
   "execution_count": 15,
   "metadata": {
    "collapsed": false
   },
   "outputs": [
    {
     "data": {
      "text/html": [
       "<div>\n",
       "<style>\n",
       "    .dataframe thead tr:only-child th {\n",
       "        text-align: right;\n",
       "    }\n",
       "\n",
       "    .dataframe thead th {\n",
       "        text-align: left;\n",
       "    }\n",
       "\n",
       "    .dataframe tbody tr th {\n",
       "        vertical-align: top;\n",
       "    }\n",
       "</style>\n",
       "<table border=\"1\" class=\"dataframe\">\n",
       "  <thead>\n",
       "    <tr style=\"text-align: right;\">\n",
       "      <th></th>\n",
       "      <th>actividad</th>\n",
       "      <th>actividad_completa</th>\n",
       "      <th>comercio</th>\n",
       "      <th>fecha</th>\n",
       "      <th>funcion</th>\n",
       "      <th>hora</th>\n",
       "      <th>id_miembro</th>\n",
       "      <th>importe</th>\n",
       "      <th>minuto</th>\n",
       "      <th>nombre</th>\n",
       "      <th>organizacion</th>\n",
       "    </tr>\n",
       "  </thead>\n",
       "  <tbody>\n",
       "    <tr>\n",
       "      <th>0</th>\n",
       "      <td>SUPERMERCADO</td>\n",
       "      <td>ALCAMPO</td>\n",
       "      <td>ALCAMPO-PIO XII</td>\n",
       "      <td>2007-04-25</td>\n",
       "      <td>concejal</td>\n",
       "      <td>14</td>\n",
       "      <td>4</td>\n",
       "      <td>36.43</td>\n",
       "      <td>5</td>\n",
       "      <td>Antonio Cámara Eguinoa</td>\n",
       "      <td>Partido Popular</td>\n",
       "    </tr>\n",
       "    <tr>\n",
       "      <th>1</th>\n",
       "      <td>COCHE</td>\n",
       "      <td>AUTOPISTAS (TERMINALES)</td>\n",
       "      <td>AUTOPISTA MADRID SUR R4</td>\n",
       "      <td>2005-10-17</td>\n",
       "      <td>concejal</td>\n",
       "      <td>15</td>\n",
       "      <td>4</td>\n",
       "      <td>1.64</td>\n",
       "      <td>45</td>\n",
       "      <td>Antonio Cámara Eguinoa</td>\n",
       "      <td>Partido Popular</td>\n",
       "    </tr>\n",
       "    <tr>\n",
       "      <th>2</th>\n",
       "      <td>RESTAURANTE</td>\n",
       "      <td>RESTAURANTES RESTO</td>\n",
       "      <td>RESTAURANTE SANT JAMES</td>\n",
       "      <td>2008-04-22</td>\n",
       "      <td>concejal</td>\n",
       "      <td>23</td>\n",
       "      <td>4</td>\n",
       "      <td>63.00</td>\n",
       "      <td>13</td>\n",
       "      <td>Antonio Cámara Eguinoa</td>\n",
       "      <td>Partido Popular</td>\n",
       "    </tr>\n",
       "    <tr>\n",
       "      <th>3</th>\n",
       "      <td>RESTAURANTE</td>\n",
       "      <td>COMIDA RAPIDA</td>\n",
       "      <td>EL SABROSO</td>\n",
       "      <td>2009-04-14</td>\n",
       "      <td>concejal</td>\n",
       "      <td>13</td>\n",
       "      <td>4</td>\n",
       "      <td>4.00</td>\n",
       "      <td>46</td>\n",
       "      <td>Antonio Cámara Eguinoa</td>\n",
       "      <td>Partido Popular</td>\n",
       "    </tr>\n",
       "    <tr>\n",
       "      <th>4</th>\n",
       "      <td>COCHE</td>\n",
       "      <td>ACESA</td>\n",
       "      <td>ACESA</td>\n",
       "      <td>2008-08-03</td>\n",
       "      <td>concejal</td>\n",
       "      <td>15</td>\n",
       "      <td>4</td>\n",
       "      <td>19.85</td>\n",
       "      <td>44</td>\n",
       "      <td>Antonio Cámara Eguinoa</td>\n",
       "      <td>Partido Popular</td>\n",
       "    </tr>\n",
       "  </tbody>\n",
       "</table>\n",
       "</div>"
      ],
      "text/plain": [
       "      actividad       actividad_completa                 comercio      fecha  \\\n",
       "0  SUPERMERCADO                  ALCAMPO          ALCAMPO-PIO XII 2007-04-25   \n",
       "1         COCHE  AUTOPISTAS (TERMINALES)  AUTOPISTA MADRID SUR R4 2005-10-17   \n",
       "2   RESTAURANTE       RESTAURANTES RESTO   RESTAURANTE SANT JAMES 2008-04-22   \n",
       "3   RESTAURANTE            COMIDA RAPIDA               EL SABROSO 2009-04-14   \n",
       "4         COCHE                    ACESA                    ACESA 2008-08-03   \n",
       "\n",
       "    funcion  hora  id_miembro  importe  minuto                  nombre  \\\n",
       "0  concejal    14           4    36.43       5  Antonio Cámara Eguinoa   \n",
       "1  concejal    15           4     1.64      45  Antonio Cámara Eguinoa   \n",
       "2  concejal    23           4    63.00      13  Antonio Cámara Eguinoa   \n",
       "3  concejal    13           4     4.00      46  Antonio Cámara Eguinoa   \n",
       "4  concejal    15           4    19.85      44  Antonio Cámara Eguinoa   \n",
       "\n",
       "      organizacion  \n",
       "0  Partido Popular  \n",
       "1  Partido Popular  \n",
       "2  Partido Popular  \n",
       "3  Partido Popular  \n",
       "4  Partido Popular  "
      ]
     },
     "execution_count": 15,
     "metadata": {},
     "output_type": "execute_result"
    }
   ],
   "source": [
    "df_movimientos.head()"
   ]
  },
  {
   "cell_type": "markdown",
   "metadata": {},
   "source": [
    "### Los 10 movimientos mas caros"
   ]
  },
  {
   "cell_type": "markdown",
   "metadata": {},
   "source": [
    "Esta consulta no la podemos contestar directamente con la Base de Datos por lo que nos apoyamos en un proceso en el cliente"
   ]
  },
  {
   "cell_type": "code",
   "execution_count": 16,
   "metadata": {
    "collapsed": false
   },
   "outputs": [
    {
     "data": {
      "text/html": [
       "<div>\n",
       "<style>\n",
       "    .dataframe thead tr:only-child th {\n",
       "        text-align: right;\n",
       "    }\n",
       "\n",
       "    .dataframe thead th {\n",
       "        text-align: left;\n",
       "    }\n",
       "\n",
       "    .dataframe tbody tr th {\n",
       "        vertical-align: top;\n",
       "    }\n",
       "</style>\n",
       "<table border=\"1\" class=\"dataframe\">\n",
       "  <thead>\n",
       "    <tr style=\"text-align: right;\">\n",
       "      <th></th>\n",
       "      <th>nombre</th>\n",
       "      <th>fecha</th>\n",
       "      <th>actividad_completa</th>\n",
       "      <th>importe</th>\n",
       "    </tr>\n",
       "  </thead>\n",
       "  <tbody>\n",
       "    <tr>\n",
       "      <th>3166</th>\n",
       "      <td>Ildefonso José Sánchez Barcoj</td>\n",
       "      <td>2006-02-14</td>\n",
       "      <td>AGENCIAS BANCARIAS(ANTICIPO VENTANILLA)</td>\n",
       "      <td>11000.00</td>\n",
       "    </tr>\n",
       "    <tr>\n",
       "      <th>5559</th>\n",
       "      <td>Ildefonso José Sánchez Barcoj</td>\n",
       "      <td>2008-11-19</td>\n",
       "      <td>EL CORTE INGLES</td>\n",
       "      <td>6593.20</td>\n",
       "    </tr>\n",
       "    <tr>\n",
       "      <th>5040</th>\n",
       "      <td>Matías Amat Roca</td>\n",
       "      <td>2010-11-30</td>\n",
       "      <td>AGENCIAS DE VIAJES</td>\n",
       "      <td>6519.12</td>\n",
       "    </tr>\n",
       "    <tr>\n",
       "      <th>4337</th>\n",
       "      <td>María Carmen Cafranga Cavestany</td>\n",
       "      <td>2011-02-14</td>\n",
       "      <td>V.DIST.VIAJES Y TRANSPORTE DE VIAJEROS</td>\n",
       "      <td>5500.00</td>\n",
       "    </tr>\n",
       "    <tr>\n",
       "      <th>2350</th>\n",
       "      <td>Ildefonso José Sánchez Barcoj</td>\n",
       "      <td>2004-01-08</td>\n",
       "      <td>AGENCIAS DE VIAJES</td>\n",
       "      <td>5283.33</td>\n",
       "    </tr>\n",
       "    <tr>\n",
       "      <th>1323</th>\n",
       "      <td>Ricardo Morado Iglesias</td>\n",
       "      <td>2007-02-01</td>\n",
       "      <td>AGENCIAS BANCARIAS(ANTICIPO VENTANILLA)</td>\n",
       "      <td>5000.00</td>\n",
       "    </tr>\n",
       "    <tr>\n",
       "      <th>22</th>\n",
       "      <td>Estanislao Rodríguez-Ponga Salamanca</td>\n",
       "      <td>2009-12-25</td>\n",
       "      <td>EL CORTE INGLES</td>\n",
       "      <td>5000.00</td>\n",
       "    </tr>\n",
       "    <tr>\n",
       "      <th>227</th>\n",
       "      <td>Ramón Martínez Vilches</td>\n",
       "      <td>2010-07-07</td>\n",
       "      <td>AGENCIAS DE VIAJES</td>\n",
       "      <td>4955.00</td>\n",
       "    </tr>\n",
       "    <tr>\n",
       "      <th>3300</th>\n",
       "      <td>Ricardo Morado Iglesias</td>\n",
       "      <td>2007-06-25</td>\n",
       "      <td>AGENCIAS BANCARIAS(ANTICIPO VENTANILLA)</td>\n",
       "      <td>4500.00</td>\n",
       "    </tr>\n",
       "    <tr>\n",
       "      <th>3956</th>\n",
       "      <td>Ildefonso José Sánchez Barcoj</td>\n",
       "      <td>2010-03-25</td>\n",
       "      <td>EL CORTE INGLES</td>\n",
       "      <td>4320.50</td>\n",
       "    </tr>\n",
       "  </tbody>\n",
       "</table>\n",
       "</div>"
      ],
      "text/plain": [
       "                                    nombre      fecha  \\\n",
       "3166         Ildefonso José Sánchez Barcoj 2006-02-14   \n",
       "5559         Ildefonso José Sánchez Barcoj 2008-11-19   \n",
       "5040                      Matías Amat Roca 2010-11-30   \n",
       "4337       María Carmen Cafranga Cavestany 2011-02-14   \n",
       "2350         Ildefonso José Sánchez Barcoj 2004-01-08   \n",
       "1323               Ricardo Morado Iglesias 2007-02-01   \n",
       "22    Estanislao Rodríguez-Ponga Salamanca 2009-12-25   \n",
       "227                 Ramón Martínez Vilches 2010-07-07   \n",
       "3300               Ricardo Morado Iglesias 2007-06-25   \n",
       "3956         Ildefonso José Sánchez Barcoj 2010-03-25   \n",
       "\n",
       "                           actividad_completa   importe  \n",
       "3166  AGENCIAS BANCARIAS(ANTICIPO VENTANILLA)  11000.00  \n",
       "5559                          EL CORTE INGLES   6593.20  \n",
       "5040                       AGENCIAS DE VIAJES   6519.12  \n",
       "4337   V.DIST.VIAJES Y TRANSPORTE DE VIAJEROS   5500.00  \n",
       "2350                       AGENCIAS DE VIAJES   5283.33  \n",
       "1323  AGENCIAS BANCARIAS(ANTICIPO VENTANILLA)   5000.00  \n",
       "22                            EL CORTE INGLES   5000.00  \n",
       "227                        AGENCIAS DE VIAJES   4955.00  \n",
       "3300  AGENCIAS BANCARIAS(ANTICIPO VENTANILLA)   4500.00  \n",
       "3956                          EL CORTE INGLES   4320.50  "
      ]
     },
     "execution_count": 16,
     "metadata": {},
     "output_type": "execute_result"
    }
   ],
   "source": [
    "df_movimientos.sort_values('importe', ascending=False)[['nombre', 'fecha', 'actividad_completa', 'importe']].head(10)"
   ]
  },
  {
   "cell_type": "markdown",
   "metadata": {},
   "source": [
    "### Lectura a través de un índice"
   ]
  },
  {
   "cell_type": "code",
   "execution_count": 17,
   "metadata": {
    "collapsed": false
   },
   "outputs": [],
   "source": [
    "rows = []\n",
    "keys = bucket_mov.stream_index(\"idx_miembro_bin\", hash_string(u\"Javier de Miguel Sánchez\"))\n",
    "for keys in keys.results:\n",
    "    for movimiento_key in keys:\n",
    "        rows.append(bucket_mov.get(movimiento_key).data)\n",
    "    \n",
    "df = json_to_pandas(rows)"
   ]
  },
  {
   "cell_type": "markdown",
   "metadata": {},
   "source": [
    "### Los movimientos de una persona concreta"
   ]
  },
  {
   "cell_type": "markdown",
   "metadata": {},
   "source": [
    "Para obtener los movimientos de una persona en concreto si podemos utilizar el índice que habíamos creado Ad-hoc, aunque la ordenación se realiza en Pandas"
   ]
  },
  {
   "cell_type": "code",
   "execution_count": 18,
   "metadata": {
    "collapsed": false
   },
   "outputs": [
    {
     "data": {
      "text/html": [
       "<div>\n",
       "<style>\n",
       "    .dataframe thead tr:only-child th {\n",
       "        text-align: right;\n",
       "    }\n",
       "\n",
       "    .dataframe thead th {\n",
       "        text-align: left;\n",
       "    }\n",
       "\n",
       "    .dataframe tbody tr th {\n",
       "        vertical-align: top;\n",
       "    }\n",
       "</style>\n",
       "<table border=\"1\" class=\"dataframe\">\n",
       "  <thead>\n",
       "    <tr style=\"text-align: right;\">\n",
       "      <th></th>\n",
       "      <th>nombre</th>\n",
       "      <th>fecha</th>\n",
       "      <th>actividad_completa</th>\n",
       "      <th>importe</th>\n",
       "    </tr>\n",
       "  </thead>\n",
       "  <tbody>\n",
       "    <tr>\n",
       "      <th>67</th>\n",
       "      <td>Javier de Miguel Sánchez</td>\n",
       "      <td>2010-01-12</td>\n",
       "      <td>MATERIALES CONSTRUCCION,FONTANERIA,SANEA</td>\n",
       "      <td>383.00</td>\n",
       "    </tr>\n",
       "    <tr>\n",
       "      <th>124</th>\n",
       "      <td>Javier de Miguel Sánchez</td>\n",
       "      <td>2009-05-30</td>\n",
       "      <td>CONFECCION TEXTIL EN GENERAL</td>\n",
       "      <td>350.00</td>\n",
       "    </tr>\n",
       "    <tr>\n",
       "      <th>113</th>\n",
       "      <td>Javier de Miguel Sánchez</td>\n",
       "      <td>2010-01-12</td>\n",
       "      <td>MATERIALES CONSTRUCCION,FONTANERIA,SANEA</td>\n",
       "      <td>345.00</td>\n",
       "    </tr>\n",
       "    <tr>\n",
       "      <th>92</th>\n",
       "      <td>Javier de Miguel Sánchez</td>\n",
       "      <td>2009-03-27</td>\n",
       "      <td>HIPERCOR SUPERMERCADOS EL CORTE INGLES</td>\n",
       "      <td>268.50</td>\n",
       "    </tr>\n",
       "    <tr>\n",
       "      <th>8</th>\n",
       "      <td>Javier de Miguel Sánchez</td>\n",
       "      <td>2010-01-19</td>\n",
       "      <td>FERRETERIA,BRICOLAJE,MENAJE DEL HOGAR</td>\n",
       "      <td>260.72</td>\n",
       "    </tr>\n",
       "    <tr>\n",
       "      <th>39</th>\n",
       "      <td>Javier de Miguel Sánchez</td>\n",
       "      <td>2004-04-21</td>\n",
       "      <td>JOYERIAS Y RELOJERIAS</td>\n",
       "      <td>240.00</td>\n",
       "    </tr>\n",
       "    <tr>\n",
       "      <th>151</th>\n",
       "      <td>Javier de Miguel Sánchez</td>\n",
       "      <td>2009-05-29</td>\n",
       "      <td>HIPERCOR SUPERMERCADOS EL CORTE INGLES</td>\n",
       "      <td>236.05</td>\n",
       "    </tr>\n",
       "    <tr>\n",
       "      <th>17</th>\n",
       "      <td>Javier de Miguel Sánchez</td>\n",
       "      <td>2008-12-29</td>\n",
       "      <td>HIPERCOR SUPERMERCADOS EL CORTE INGLES</td>\n",
       "      <td>236.00</td>\n",
       "    </tr>\n",
       "    <tr>\n",
       "      <th>115</th>\n",
       "      <td>Javier de Miguel Sánchez</td>\n",
       "      <td>2006-08-30</td>\n",
       "      <td>EL CORTE INGLES</td>\n",
       "      <td>233.39</td>\n",
       "    </tr>\n",
       "    <tr>\n",
       "      <th>95</th>\n",
       "      <td>Javier de Miguel Sánchez</td>\n",
       "      <td>2004-07-14</td>\n",
       "      <td>RESTAURANTES RESTO</td>\n",
       "      <td>213.25</td>\n",
       "    </tr>\n",
       "  </tbody>\n",
       "</table>\n",
       "</div>"
      ],
      "text/plain": [
       "                       nombre      fecha  \\\n",
       "67   Javier de Miguel Sánchez 2010-01-12   \n",
       "124  Javier de Miguel Sánchez 2009-05-30   \n",
       "113  Javier de Miguel Sánchez 2010-01-12   \n",
       "92   Javier de Miguel Sánchez 2009-03-27   \n",
       "8    Javier de Miguel Sánchez 2010-01-19   \n",
       "39   Javier de Miguel Sánchez 2004-04-21   \n",
       "151  Javier de Miguel Sánchez 2009-05-29   \n",
       "17   Javier de Miguel Sánchez 2008-12-29   \n",
       "115  Javier de Miguel Sánchez 2006-08-30   \n",
       "95   Javier de Miguel Sánchez 2004-07-14   \n",
       "\n",
       "                           actividad_completa  importe  \n",
       "67   MATERIALES CONSTRUCCION,FONTANERIA,SANEA   383.00  \n",
       "124              CONFECCION TEXTIL EN GENERAL   350.00  \n",
       "113  MATERIALES CONSTRUCCION,FONTANERIA,SANEA   345.00  \n",
       "92     HIPERCOR SUPERMERCADOS EL CORTE INGLES   268.50  \n",
       "8       FERRETERIA,BRICOLAJE,MENAJE DEL HOGAR   260.72  \n",
       "39                      JOYERIAS Y RELOJERIAS   240.00  \n",
       "151    HIPERCOR SUPERMERCADOS EL CORTE INGLES   236.05  \n",
       "17     HIPERCOR SUPERMERCADOS EL CORTE INGLES   236.00  \n",
       "115                           EL CORTE INGLES   233.39  \n",
       "95                         RESTAURANTES RESTO   213.25  "
      ]
     },
     "execution_count": 18,
     "metadata": {},
     "output_type": "execute_result"
    }
   ],
   "source": [
    "df.sort_values('importe', ascending=False)[['nombre', 'fecha', 'actividad_completa', 'importe']].head(10)"
   ]
  },
  {
   "cell_type": "markdown",
   "metadata": {},
   "source": [
    "### Lectura de una información agregada"
   ]
  },
  {
   "cell_type": "markdown",
   "metadata": {},
   "source": [
    "La información agregada está en un mapa, por lo que tenemos que procesarla y convertirla a formato JSON."
   ]
  },
  {
   "cell_type": "code",
   "execution_count": 19,
   "metadata": {
    "collapsed": false
   },
   "outputs": [],
   "source": [
    "rows = []\n",
    "for keys in bucket_acum_importes.stream_keys():\n",
    "    #print(keys)\n",
    "    for key in keys:\n",
    "        map_nombre = bucket_acum_importes.get(key)\n",
    "        rows.append({'nombre' : map_nombre.registers['nombre'].value,\n",
    "                     \"importe\" : float(map_nombre.counters['importe'].value) / 100})\n",
    "        \n",
    "# Convertimos el objeto json en un objeto pandas \n",
    "df = json_to_pandas(rows)"
   ]
  },
  {
   "cell_type": "markdown",
   "metadata": {},
   "source": [
    "### Las 10 personas que mas han gastado"
   ]
  },
  {
   "cell_type": "markdown",
   "metadata": {},
   "source": [
    "Fácil si disponemos de un agregado. Utilizamos Pandas para ordenar la información ..,"
   ]
  },
  {
   "cell_type": "code",
   "execution_count": 20,
   "metadata": {
    "collapsed": false
   },
   "outputs": [
    {
     "data": {
      "text/html": [
       "<div>\n",
       "<style>\n",
       "    .dataframe thead tr:only-child th {\n",
       "        text-align: right;\n",
       "    }\n",
       "\n",
       "    .dataframe thead th {\n",
       "        text-align: left;\n",
       "    }\n",
       "\n",
       "    .dataframe tbody tr th {\n",
       "        vertical-align: top;\n",
       "    }\n",
       "</style>\n",
       "<table border=\"1\" class=\"dataframe\">\n",
       "  <thead>\n",
       "    <tr style=\"text-align: right;\">\n",
       "      <th></th>\n",
       "      <th>importe</th>\n",
       "      <th>nombre</th>\n",
       "    </tr>\n",
       "  </thead>\n",
       "  <tbody>\n",
       "    <tr>\n",
       "      <th>16</th>\n",
       "      <td>64590.50</td>\n",
       "      <td>Ildefonso José Sánchez Barcoj</td>\n",
       "    </tr>\n",
       "    <tr>\n",
       "      <th>75</th>\n",
       "      <td>47292.08</td>\n",
       "      <td>Ricardo Morado Iglesias</td>\n",
       "    </tr>\n",
       "    <tr>\n",
       "      <th>10</th>\n",
       "      <td>41207.26</td>\n",
       "      <td>José Antonio Moral Santín</td>\n",
       "    </tr>\n",
       "    <tr>\n",
       "      <th>39</th>\n",
       "      <td>39946.33</td>\n",
       "      <td>Juan Manuel Astorqui Portera</td>\n",
       "    </tr>\n",
       "    <tr>\n",
       "      <th>82</th>\n",
       "      <td>39820.26</td>\n",
       "      <td>Matías Amat Roca</td>\n",
       "    </tr>\n",
       "    <tr>\n",
       "      <th>23</th>\n",
       "      <td>39473.01</td>\n",
       "      <td>Carlos María Martínez Martínez</td>\n",
       "    </tr>\n",
       "    <tr>\n",
       "      <th>4</th>\n",
       "      <td>35475.15</td>\n",
       "      <td>Miguel Blesa de la Parra</td>\n",
       "    </tr>\n",
       "    <tr>\n",
       "      <th>38</th>\n",
       "      <td>30612.27</td>\n",
       "      <td>Ramón Ferraz Ricarte</td>\n",
       "    </tr>\n",
       "    <tr>\n",
       "      <th>52</th>\n",
       "      <td>26030.22</td>\n",
       "      <td>Maria Mercedes de la Merced Monge</td>\n",
       "    </tr>\n",
       "    <tr>\n",
       "      <th>25</th>\n",
       "      <td>25113.06</td>\n",
       "      <td>Mariano Pérez Claver</td>\n",
       "    </tr>\n",
       "  </tbody>\n",
       "</table>\n",
       "</div>"
      ],
      "text/plain": [
       "     importe                             nombre\n",
       "16  64590.50      Ildefonso José Sánchez Barcoj\n",
       "75  47292.08            Ricardo Morado Iglesias\n",
       "10  41207.26          José Antonio Moral Santín\n",
       "39  39946.33       Juan Manuel Astorqui Portera\n",
       "82  39820.26                   Matías Amat Roca\n",
       "23  39473.01     Carlos María Martínez Martínez\n",
       "4   35475.15           Miguel Blesa de la Parra\n",
       "38  30612.27               Ramón Ferraz Ricarte\n",
       "52  26030.22  Maria Mercedes de la Merced Monge\n",
       "25  25113.06               Mariano Pérez Claver"
      ]
     },
     "execution_count": 20,
     "metadata": {},
     "output_type": "execute_result"
    }
   ],
   "source": [
    "df.sort_values('importe', ascending=False).head(10)"
   ]
  }
 ],
 "metadata": {
  "kernelspec": {
   "display_name": "Python 2",
   "language": "python",
   "name": "python2"
  },
  "language_info": {
   "codemirror_mode": {
    "name": "ipython",
    "version": 2
   },
   "file_extension": ".py",
   "mimetype": "text/x-python",
   "name": "python",
   "nbconvert_exporter": "python",
   "pygments_lexer": "ipython2",
   "version": "2.7.6"
  }
 },
 "nbformat": 4,
 "nbformat_minor": 0
}
