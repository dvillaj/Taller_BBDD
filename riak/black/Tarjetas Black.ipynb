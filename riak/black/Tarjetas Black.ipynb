{
 "cells": [
  {
   "cell_type": "markdown",
   "metadata": {},
   "source": [
    "# Riak"
   ]
  },
  {
   "cell_type": "code",
   "execution_count": 1,
   "metadata": {},
   "outputs": [],
   "source": [
    "import riak\n",
    "from pprintpp import pprint as pp\n",
    "import json\n",
    "import pandas as pd\n",
    "\n",
    "import uuid\n",
    "import hashlib"
   ]
  },
  {
   "cell_type": "markdown",
   "metadata": {},
   "source": [
    "## Lectura de información en Pandas"
   ]
  },
  {
   "cell_type": "markdown",
   "metadata": {},
   "source": [
    "Partimos del dataset normalizado y lo desnormalizamos para guardarlo todo junto en RIAK"
   ]
  },
  {
   "cell_type": "code",
   "execution_count": 3,
   "metadata": {
    "collapsed": false,
    "jupyter": {
     "outputs_hidden": false
    }
   },
   "outputs": [
    {
     "name": "stdout",
     "output_type": "stream",
     "text": [
      "<class 'pandas.core.frame.DataFrame'>\n",
      "Int64Index: 7624 entries, 0 to 7623\n",
      "Data columns (total 11 columns):\n",
      " #   Column              Non-Null Count  Dtype         \n",
      "---  ------              --------------  -----         \n",
      " 0   id_miembro          7624 non-null   int64         \n",
      " 1   fecha               7624 non-null   datetime64[ns]\n",
      " 2   minuto              7624 non-null   int64         \n",
      " 3   hora                7624 non-null   int64         \n",
      " 4   importe             7624 non-null   float64       \n",
      " 5   comercio            6882 non-null   object        \n",
      " 6   actividad_completa  7621 non-null   object        \n",
      " 7   actividad           7621 non-null   object        \n",
      " 8   nombre              7624 non-null   object        \n",
      " 9   funcion             7624 non-null   object        \n",
      " 10  organizacion        6086 non-null   object        \n",
      "dtypes: datetime64[ns](1), float64(1), int64(3), object(6)\n",
      "memory usage: 714.8+ KB\n"
     ]
    }
   ],
   "source": [
    "df_mov = pd.read_excel(\"../../data/black.xlsx\", sheet_name= \"Movimientos\")\n",
    "df_miembros = pd.read_excel(\"../../data/black.xlsx\", sheet_name= \"Miembros\")\n",
    "df = pd.merge(df_mov, df_miembros, on = ['id_miembro'], how = 'inner')\n",
    "df.info()"
   ]
  },
  {
   "cell_type": "code",
   "execution_count": 4,
   "metadata": {
    "collapsed": false,
    "jupyter": {
     "outputs_hidden": false
    }
   },
   "outputs": [
    {
     "data": {
      "text/html": [
       "<div>\n",
       "<style scoped>\n",
       "    .dataframe tbody tr th:only-of-type {\n",
       "        vertical-align: middle;\n",
       "    }\n",
       "\n",
       "    .dataframe tbody tr th {\n",
       "        vertical-align: top;\n",
       "    }\n",
       "\n",
       "    .dataframe thead th {\n",
       "        text-align: right;\n",
       "    }\n",
       "</style>\n",
       "<table border=\"1\" class=\"dataframe\">\n",
       "  <thead>\n",
       "    <tr style=\"text-align: right;\">\n",
       "      <th></th>\n",
       "      <th>id_miembro</th>\n",
       "      <th>fecha</th>\n",
       "      <th>minuto</th>\n",
       "      <th>hora</th>\n",
       "      <th>importe</th>\n",
       "      <th>comercio</th>\n",
       "      <th>actividad_completa</th>\n",
       "      <th>actividad</th>\n",
       "      <th>nombre</th>\n",
       "      <th>funcion</th>\n",
       "      <th>organizacion</th>\n",
       "    </tr>\n",
       "  </thead>\n",
       "  <tbody>\n",
       "    <tr>\n",
       "      <th>0</th>\n",
       "      <td>12</td>\n",
       "      <td>2008-12-28</td>\n",
       "      <td>18</td>\n",
       "      <td>16</td>\n",
       "      <td>37.70</td>\n",
       "      <td>BEISALFLOR</td>\n",
       "      <td>RESTAURANTES RESTO</td>\n",
       "      <td>RESTAURANTE</td>\n",
       "      <td>Cándido Cerón Escudero</td>\n",
       "      <td>concejal</td>\n",
       "      <td>Partido Popular</td>\n",
       "    </tr>\n",
       "    <tr>\n",
       "      <th>1</th>\n",
       "      <td>12</td>\n",
       "      <td>2010-09-07</td>\n",
       "      <td>17</td>\n",
       "      <td>16</td>\n",
       "      <td>83.00</td>\n",
       "      <td>EL ASADOR DE ARANDA S A</td>\n",
       "      <td>RESTAURANTES RESTO</td>\n",
       "      <td>RESTAURANTE</td>\n",
       "      <td>Cándido Cerón Escudero</td>\n",
       "      <td>concejal</td>\n",
       "      <td>Partido Popular</td>\n",
       "    </tr>\n",
       "    <tr>\n",
       "      <th>2</th>\n",
       "      <td>12</td>\n",
       "      <td>2008-10-31</td>\n",
       "      <td>41</td>\n",
       "      <td>15</td>\n",
       "      <td>127.80</td>\n",
       "      <td>CASA RIOS</td>\n",
       "      <td>RESTAURANTES RESTO</td>\n",
       "      <td>RESTAURANTE</td>\n",
       "      <td>Cándido Cerón Escudero</td>\n",
       "      <td>concejal</td>\n",
       "      <td>Partido Popular</td>\n",
       "    </tr>\n",
       "    <tr>\n",
       "      <th>3</th>\n",
       "      <td>12</td>\n",
       "      <td>2008-12-08</td>\n",
       "      <td>26</td>\n",
       "      <td>16</td>\n",
       "      <td>116.59</td>\n",
       "      <td>CASA RIOS</td>\n",
       "      <td>RESTAURANTES RESTO</td>\n",
       "      <td>RESTAURANTE</td>\n",
       "      <td>Cándido Cerón Escudero</td>\n",
       "      <td>concejal</td>\n",
       "      <td>Partido Popular</td>\n",
       "    </tr>\n",
       "    <tr>\n",
       "      <th>4</th>\n",
       "      <td>12</td>\n",
       "      <td>2009-03-06</td>\n",
       "      <td>26</td>\n",
       "      <td>21</td>\n",
       "      <td>22.28</td>\n",
       "      <td>INDUSTRIAS HOSTELERIA JUNCO</td>\n",
       "      <td>RESTAURANTES RESTO</td>\n",
       "      <td>RESTAURANTE</td>\n",
       "      <td>Cándido Cerón Escudero</td>\n",
       "      <td>concejal</td>\n",
       "      <td>Partido Popular</td>\n",
       "    </tr>\n",
       "  </tbody>\n",
       "</table>\n",
       "</div>"
      ],
      "text/plain": [
       "   id_miembro      fecha  minuto  hora  importe                     comercio  \\\n",
       "0          12 2008-12-28      18    16    37.70                   BEISALFLOR   \n",
       "1          12 2010-09-07      17    16    83.00      EL ASADOR DE ARANDA S A   \n",
       "2          12 2008-10-31      41    15   127.80                    CASA RIOS   \n",
       "3          12 2008-12-08      26    16   116.59                    CASA RIOS   \n",
       "4          12 2009-03-06      26    21    22.28  INDUSTRIAS HOSTELERIA JUNCO   \n",
       "\n",
       "   actividad_completa    actividad                  nombre   funcion  \\\n",
       "0  RESTAURANTES RESTO  RESTAURANTE  Cándido Cerón Escudero  concejal   \n",
       "1  RESTAURANTES RESTO  RESTAURANTE  Cándido Cerón Escudero  concejal   \n",
       "2  RESTAURANTES RESTO  RESTAURANTE  Cándido Cerón Escudero  concejal   \n",
       "3  RESTAURANTES RESTO  RESTAURANTE  Cándido Cerón Escudero  concejal   \n",
       "4  RESTAURANTES RESTO  RESTAURANTE  Cándido Cerón Escudero  concejal   \n",
       "\n",
       "      organizacion  \n",
       "0  Partido Popular  \n",
       "1  Partido Popular  \n",
       "2  Partido Popular  \n",
       "3  Partido Popular  \n",
       "4  Partido Popular  "
      ]
     },
     "execution_count": 4,
     "metadata": {},
     "output_type": "execute_result"
    }
   ],
   "source": [
    "df.head(5)"
   ]
  },
  {
   "cell_type": "markdown",
   "metadata": {},
   "source": [
    "## Riak ..."
   ]
  },
  {
   "cell_type": "code",
   "execution_count": 5,
   "metadata": {
    "collapsed": false,
    "jupyter": {
     "outputs_hidden": false
    }
   },
   "outputs": [
    {
     "data": {
      "text/plain": [
       "True"
      ]
     },
     "execution_count": 5,
     "metadata": {},
     "output_type": "execute_result"
    }
   ],
   "source": [
    "# connect to database\n",
    "cliente = riak.RiakClient()\n",
    "cliente.ping()"
   ]
  },
  {
   "cell_type": "markdown",
   "metadata": {},
   "source": [
    "Utilizamos un bucket para guardar los movimientos en formato JSON y otro para guardar el importe acumulado por miembro.\n",
    "\n",
    "En el bucket de movimientos utilizamos una clave autogenerada (no vamos a poder localizar los movimientos por clave) y en el bucket con el importe acumulado la clave es el nombre de la persona en formato HASH, para no tener problemas ni con los espacios del nombre ni con los acentos\n",
    "\n",
    "Se van a crear los siguientes buckets:\n",
    "\n",
    "|bucket|Clave|Contenido|\n",
    "|-|-|-|\n",
    "|movimientos|Marca temporal|Todos los datos del dataset en formnato JSON y desnormalizados|\n",
    "|acum_importes|Código HASH de la persona que realiza el movimiento|Mapa con el nombre de la persona y el importe acumulado|\n",
    "\n",
    "El bucket de tweets tendrá los siguientes índices:\n",
    "\n",
    "|Nombre del índice|Contenido|¿Que busquedas permite hacer?|\n",
    "|-|-|-|\n",
    "|idx_miembro_bin|Nombre de la persona|Localizar movimientos de una persona concreta|"
   ]
  },
  {
   "cell_type": "code",
   "execution_count": 6,
   "metadata": {
    "collapsed": false,
    "jupyter": {
     "outputs_hidden": false
    }
   },
   "outputs": [],
   "source": [
    "BUCKET_MOVIMIENTOS = 'movimientos'\n",
    "BUCKET_ACUM_IMPORTES = 'acum_importes'\n",
    "\n",
    "bucket_mov = cliente.bucket(BUCKET_MOVIMIENTOS)\n",
    "bucket_acum_importes = cliente.bucket_type('maps').bucket(BUCKET_ACUM_IMPORTES)"
   ]
  },
  {
   "cell_type": "markdown",
   "metadata": {},
   "source": [
    "Función para eliminar los datos de un BUCKET de Riak"
   ]
  },
  {
   "cell_type": "code",
   "execution_count": 7,
   "metadata": {
    "collapsed": false,
    "jupyter": {
     "outputs_hidden": false
    }
   },
   "outputs": [],
   "source": [
    "def drop_keys(bucket):\n",
    "    for keys in bucket.stream_keys():\n",
    "        for key in keys:\n",
    "            bucket.delete(key)"
   ]
  },
  {
   "cell_type": "code",
   "execution_count": 8,
   "metadata": {
    "collapsed": false,
    "jupyter": {
     "outputs_hidden": false
    }
   },
   "outputs": [],
   "source": [
    "# Borramos los datos ..\n",
    "drop_keys(bucket_mov)\n",
    "drop_keys(bucket_acum_importes)"
   ]
  },
  {
   "cell_type": "markdown",
   "metadata": {},
   "source": [
    "## Inserción de información en Riak"
   ]
  },
  {
   "cell_type": "markdown",
   "metadata": {},
   "source": [
    "Para generar los datos en formato JSON partimos del DataFrame de Pandas y lo exportamos a JSON (en formato String) para luego cargarlo en un diccionario de Python\n",
    "\n",
    "Observa que cuando se genera el dato en formato JSON, los campos fechas se almacenan como un [TIMESTAMP de unix](http://www.unixtimestamp.com), por lo que habría que volver a convertirlo a fecha según el caso"
   ]
  },
  {
   "cell_type": "code",
   "execution_count": 9,
   "metadata": {
    "collapsed": false,
    "jupyter": {
     "outputs_hidden": false
    }
   },
   "outputs": [],
   "source": [
    "json_string = df.to_json(orient = 'records')\n",
    "json_list = json.loads(json_string)"
   ]
  },
  {
   "cell_type": "code",
   "execution_count": 10,
   "metadata": {
    "collapsed": false,
    "jupyter": {
     "outputs_hidden": false
    }
   },
   "outputs": [
    {
     "name": "stdout",
     "output_type": "stream",
     "text": [
      "7624\n"
     ]
    }
   ],
   "source": [
    "print(len(json_list))"
   ]
  },
  {
   "cell_type": "code",
   "execution_count": 11,
   "metadata": {
    "collapsed": false,
    "jupyter": {
     "outputs_hidden": false
    }
   },
   "outputs": [
    {
     "name": "stdout",
     "output_type": "stream",
     "text": [
      "{\n",
      "    'actividad': 'RESTAURANTE',\n",
      "    'actividad_completa': 'RESTAURANTES RESTO',\n",
      "    'comercio': 'BEISALFLOR',\n",
      "    'fecha': 1230422400000,\n",
      "    'funcion': 'concejal',\n",
      "    'hora': 16,\n",
      "    'id_miembro': 12,\n",
      "    'importe': 37.7,\n",
      "    'minuto': 18,\n",
      "    'nombre': 'Cándido Cerón Escudero',\n",
      "    'organizacion': 'Partido Popular',\n",
      "}\n"
     ]
    }
   ],
   "source": [
    "pp(json_list[0])"
   ]
  },
  {
   "cell_type": "markdown",
   "metadata": {},
   "source": [
    "Vamos a utilizar el nombre de la persona como clave, por lo que necesitamos convertirla previamente a un código que no lleve ni espacios ni acentos.\n",
    "\n",
    "Este es precisamente el objetivo de la siguiente función ..."
   ]
  },
  {
   "cell_type": "code",
   "execution_count": 12,
   "metadata": {},
   "outputs": [],
   "source": [
    "def hash_string(s):\n",
    "    s_utf8 = s.encode('utf-8')\n",
    "    return hashlib.md5(s_utf8).hexdigest()"
   ]
  },
  {
   "cell_type": "markdown",
   "metadata": {},
   "source": [
    "Recorremos el dataset de movimientos, almacenando la información tanto en el bucket de movimientos como en el bucket que acumula los movimientos por cliente.\n",
    "\n",
    "En este último utilizamos una funcionalidad que nos da Riak para guardar la información tipificada. Utilizamos un mapa que tiene dos elementos: Un registro donde guardamos el nombre del cliente y un contador donde guardamos el importe (sin decimales)"
   ]
  },
  {
   "cell_type": "code",
   "execution_count": 15,
   "metadata": {
    "collapsed": false,
    "jupyter": {
     "outputs_hidden": false
    }
   },
   "outputs": [],
   "source": [
    "# Bucle de carga de datos ...\n",
    "for movimiento_json in json_list:\n",
    "    key = uuid.uuid1().hex\n",
    "    hash_nombre =  hash_string(movimiento_json[\"nombre\"])\n",
    "    \n",
    "    movimiento = bucket_mov.new(key, movimiento_json)\n",
    "    movimiento.add_index('idx_miembro_bin', hash_nombre)\n",
    "    movimiento.store()\n",
    "    \n",
    "    map_nombre = bucket_acum_importes.new(hash_nombre)\n",
    "    map_nombre.registers['nombre'].assign(movimiento_json[\"nombre\"])\n",
    "    map_nombre.counters['importe'].increment(int(round(movimiento_json[\"importe\"] * 100)))\n",
    "    map_nombre.store()\n",
    "    "
   ]
  },
  {
   "cell_type": "markdown",
   "metadata": {},
   "source": [
    "# Lectura de información en Riak"
   ]
  },
  {
   "cell_type": "markdown",
   "metadata": {},
   "source": [
    "En la siguiente función partimos del objeto JSON que nos devuelve RIAK y generamos un DataFrame Pandas.\n",
    "\n",
    "En el caso de la fecha, lo convertimos desde un UNIX Timestamp al formato correcto para Pandas"
   ]
  },
  {
   "cell_type": "code",
   "execution_count": 16,
   "metadata": {},
   "outputs": [],
   "source": [
    "def json_to_pandas(rows):\n",
    "    # Convertimos el objeto JSON en un objeto pandas \n",
    "    df = pd.read_json(json.dumps(rows))\n",
    "    \n",
    "    if 'fecha' in df.columns:\n",
    "        # Las fechas están en formato UNIX TIMESTAMP. Las volvemos a convertir a formato Date...\n",
    "        df = df.assign(fecha = pd.to_datetime(df.fecha, unit = 'ms'))\n",
    "\n",
    "    return df"
   ]
  },
  {
   "cell_type": "markdown",
   "metadata": {},
   "source": [
    "### Lectura del bucket de movimientos"
   ]
  },
  {
   "cell_type": "markdown",
   "metadata": {},
   "source": [
    "Cargamos todos los movimientos de la base de datos y lo guardamos en un objeto Pandas, ya que hay ciertas preguntas que no pueden resolverse directamente por esta base de datos\n",
    "\n",
    "Recuerda que RIAK permite obtener información de un clave, pero no le es posible devolver la información ordenada ..."
   ]
  },
  {
   "cell_type": "code",
   "execution_count": 17,
   "metadata": {
    "collapsed": false,
    "jupyter": {
     "outputs_hidden": false
    }
   },
   "outputs": [],
   "source": [
    "rows = []\n",
    "for keys in bucket_mov.stream_keys():\n",
    "    for key in keys:\n",
    "        # print('Key %s' % key )\n",
    "        rows.append(bucket_mov.get(key).data)\n",
    "        \n",
    "# Convertimos el objeto json en un objeto pandas \n",
    "df_movimientos = json_to_pandas(rows)"
   ]
  },
  {
   "cell_type": "code",
   "execution_count": 18,
   "metadata": {
    "collapsed": false,
    "jupyter": {
     "outputs_hidden": false
    }
   },
   "outputs": [
    {
     "data": {
      "text/html": [
       "<div>\n",
       "<style scoped>\n",
       "    .dataframe tbody tr th:only-of-type {\n",
       "        vertical-align: middle;\n",
       "    }\n",
       "\n",
       "    .dataframe tbody tr th {\n",
       "        vertical-align: top;\n",
       "    }\n",
       "\n",
       "    .dataframe thead th {\n",
       "        text-align: right;\n",
       "    }\n",
       "</style>\n",
       "<table border=\"1\" class=\"dataframe\">\n",
       "  <thead>\n",
       "    <tr style=\"text-align: right;\">\n",
       "      <th></th>\n",
       "      <th>id_miembro</th>\n",
       "      <th>fecha</th>\n",
       "      <th>minuto</th>\n",
       "      <th>hora</th>\n",
       "      <th>importe</th>\n",
       "      <th>comercio</th>\n",
       "      <th>actividad_completa</th>\n",
       "      <th>actividad</th>\n",
       "      <th>nombre</th>\n",
       "      <th>funcion</th>\n",
       "      <th>organizacion</th>\n",
       "    </tr>\n",
       "  </thead>\n",
       "  <tbody>\n",
       "    <tr>\n",
       "      <th>0</th>\n",
       "      <td>40</td>\n",
       "      <td>2007-08-04</td>\n",
       "      <td>19</td>\n",
       "      <td>16</td>\n",
       "      <td>159.97</td>\n",
       "      <td>BOCALEON IBERICA SL</td>\n",
       "      <td>RESTAURANTES RESTO</td>\n",
       "      <td>RESTAURANTE</td>\n",
       "      <td>José María Arteta Vico</td>\n",
       "      <td>concejal</td>\n",
       "      <td>PSOE</td>\n",
       "    </tr>\n",
       "    <tr>\n",
       "      <th>1</th>\n",
       "      <td>40</td>\n",
       "      <td>2006-02-03</td>\n",
       "      <td>15</td>\n",
       "      <td>16</td>\n",
       "      <td>98.00</td>\n",
       "      <td>THE CAPI TAVERN</td>\n",
       "      <td>CAFETERIAS,SNACKS</td>\n",
       "      <td>RESTAURANTE</td>\n",
       "      <td>José María Arteta Vico</td>\n",
       "      <td>concejal</td>\n",
       "      <td>PSOE</td>\n",
       "    </tr>\n",
       "    <tr>\n",
       "      <th>2</th>\n",
       "      <td>40</td>\n",
       "      <td>2005-11-04</td>\n",
       "      <td>55</td>\n",
       "      <td>16</td>\n",
       "      <td>94.34</td>\n",
       "      <td>EL PALADAR DE YIL -SCHASTIE-SL</td>\n",
       "      <td>RESTAURANTES RESTO</td>\n",
       "      <td>RESTAURANTE</td>\n",
       "      <td>José María Arteta Vico</td>\n",
       "      <td>concejal</td>\n",
       "      <td>PSOE</td>\n",
       "    </tr>\n",
       "    <tr>\n",
       "      <th>3</th>\n",
       "      <td>40</td>\n",
       "      <td>2008-09-19</td>\n",
       "      <td>29</td>\n",
       "      <td>16</td>\n",
       "      <td>60.13</td>\n",
       "      <td>PIZZERIA NABUCCO</td>\n",
       "      <td>RESTAURANTES RESTO</td>\n",
       "      <td>RESTAURANTE</td>\n",
       "      <td>José María Arteta Vico</td>\n",
       "      <td>concejal</td>\n",
       "      <td>PSOE</td>\n",
       "    </tr>\n",
       "    <tr>\n",
       "      <th>4</th>\n",
       "      <td>19</td>\n",
       "      <td>2003-10-07</td>\n",
       "      <td>32</td>\n",
       "      <td>15</td>\n",
       "      <td>40.00</td>\n",
       "      <td>GUIROPA S A</td>\n",
       "      <td>GASOLINERAS</td>\n",
       "      <td>COCHE</td>\n",
       "      <td>Francisco José Moure Bourio</td>\n",
       "      <td>concejal</td>\n",
       "      <td>Partido Popular</td>\n",
       "    </tr>\n",
       "  </tbody>\n",
       "</table>\n",
       "</div>"
      ],
      "text/plain": [
       "   id_miembro      fecha  minuto  hora  importe  \\\n",
       "0          40 2007-08-04      19    16   159.97   \n",
       "1          40 2006-02-03      15    16    98.00   \n",
       "2          40 2005-11-04      55    16    94.34   \n",
       "3          40 2008-09-19      29    16    60.13   \n",
       "4          19 2003-10-07      32    15    40.00   \n",
       "\n",
       "                         comercio  actividad_completa    actividad  \\\n",
       "0             BOCALEON IBERICA SL  RESTAURANTES RESTO  RESTAURANTE   \n",
       "1                 THE CAPI TAVERN   CAFETERIAS,SNACKS  RESTAURANTE   \n",
       "2  EL PALADAR DE YIL -SCHASTIE-SL  RESTAURANTES RESTO  RESTAURANTE   \n",
       "3                PIZZERIA NABUCCO  RESTAURANTES RESTO  RESTAURANTE   \n",
       "4                     GUIROPA S A         GASOLINERAS        COCHE   \n",
       "\n",
       "                        nombre   funcion     organizacion  \n",
       "0       José María Arteta Vico  concejal             PSOE  \n",
       "1       José María Arteta Vico  concejal             PSOE  \n",
       "2       José María Arteta Vico  concejal             PSOE  \n",
       "3       José María Arteta Vico  concejal             PSOE  \n",
       "4  Francisco José Moure Bourio  concejal  Partido Popular  "
      ]
     },
     "execution_count": 18,
     "metadata": {},
     "output_type": "execute_result"
    }
   ],
   "source": [
    "df_movimientos.head()"
   ]
  },
  {
   "cell_type": "markdown",
   "metadata": {},
   "source": [
    "### Los 10 movimientos mas caros"
   ]
  },
  {
   "cell_type": "markdown",
   "metadata": {},
   "source": [
    "Esta consulta no la podemos contestar directamente con la Base de Datos por lo que nos apoyamos en un proceso en el cliente"
   ]
  },
  {
   "cell_type": "code",
   "execution_count": 19,
   "metadata": {
    "collapsed": false,
    "jupyter": {
     "outputs_hidden": false
    }
   },
   "outputs": [
    {
     "data": {
      "text/html": [
       "<div>\n",
       "<style scoped>\n",
       "    .dataframe tbody tr th:only-of-type {\n",
       "        vertical-align: middle;\n",
       "    }\n",
       "\n",
       "    .dataframe tbody tr th {\n",
       "        vertical-align: top;\n",
       "    }\n",
       "\n",
       "    .dataframe thead th {\n",
       "        text-align: right;\n",
       "    }\n",
       "</style>\n",
       "<table border=\"1\" class=\"dataframe\">\n",
       "  <thead>\n",
       "    <tr style=\"text-align: right;\">\n",
       "      <th></th>\n",
       "      <th>nombre</th>\n",
       "      <th>fecha</th>\n",
       "      <th>actividad_completa</th>\n",
       "      <th>importe</th>\n",
       "    </tr>\n",
       "  </thead>\n",
       "  <tbody>\n",
       "    <tr>\n",
       "      <th>1043</th>\n",
       "      <td>Carmen Contreras Gómez</td>\n",
       "      <td>2010-08-15</td>\n",
       "      <td>HOTELES 4 Y 5 ESTRELLAS,BALNEARIOS,CAMPI</td>\n",
       "      <td>9076.76</td>\n",
       "    </tr>\n",
       "    <tr>\n",
       "      <th>1816</th>\n",
       "      <td>Carmen Contreras Gómez</td>\n",
       "      <td>2010-08-15</td>\n",
       "      <td>HOTELES 4 Y 5 ESTRELLAS,BALNEARIOS,CAMPI</td>\n",
       "      <td>9076.76</td>\n",
       "    </tr>\n",
       "    <tr>\n",
       "      <th>3159</th>\n",
       "      <td>Ildefonso José Sánchez Barcoj</td>\n",
       "      <td>2010-05-19</td>\n",
       "      <td>AGENCIAS BANCARIAS(ANTICIPO VENTANILLA)</td>\n",
       "      <td>7500.00</td>\n",
       "    </tr>\n",
       "    <tr>\n",
       "      <th>7672</th>\n",
       "      <td>Ildefonso José Sánchez Barcoj</td>\n",
       "      <td>2010-05-19</td>\n",
       "      <td>AGENCIAS BANCARIAS(ANTICIPO VENTANILLA)</td>\n",
       "      <td>7500.00</td>\n",
       "    </tr>\n",
       "    <tr>\n",
       "      <th>3252</th>\n",
       "      <td>Ildefonso José Sánchez Barcoj</td>\n",
       "      <td>2008-11-19</td>\n",
       "      <td>EL CORTE INGLES</td>\n",
       "      <td>6593.20</td>\n",
       "    </tr>\n",
       "    <tr>\n",
       "      <th>2879</th>\n",
       "      <td>Ildefonso José Sánchez Barcoj</td>\n",
       "      <td>2008-11-19</td>\n",
       "      <td>EL CORTE INGLES</td>\n",
       "      <td>6593.20</td>\n",
       "    </tr>\n",
       "    <tr>\n",
       "      <th>8473</th>\n",
       "      <td>Miguel Blesa de la Parra</td>\n",
       "      <td>2006-12-26</td>\n",
       "      <td>EL CORTE INGLES</td>\n",
       "      <td>6397.31</td>\n",
       "    </tr>\n",
       "    <tr>\n",
       "      <th>281</th>\n",
       "      <td>Miguel Blesa de la Parra</td>\n",
       "      <td>2006-12-26</td>\n",
       "      <td>EL CORTE INGLES</td>\n",
       "      <td>6397.31</td>\n",
       "    </tr>\n",
       "    <tr>\n",
       "      <th>1988</th>\n",
       "      <td>Ramón Ferraz Ricarte</td>\n",
       "      <td>2005-11-27</td>\n",
       "      <td>EL CORTE INGLES</td>\n",
       "      <td>6248.00</td>\n",
       "    </tr>\n",
       "    <tr>\n",
       "      <th>4965</th>\n",
       "      <td>Ramón Ferraz Ricarte</td>\n",
       "      <td>2005-11-27</td>\n",
       "      <td>EL CORTE INGLES</td>\n",
       "      <td>6248.00</td>\n",
       "    </tr>\n",
       "  </tbody>\n",
       "</table>\n",
       "</div>"
      ],
      "text/plain": [
       "                             nombre      fecha  \\\n",
       "1043         Carmen Contreras Gómez 2010-08-15   \n",
       "1816         Carmen Contreras Gómez 2010-08-15   \n",
       "3159  Ildefonso José Sánchez Barcoj 2010-05-19   \n",
       "7672  Ildefonso José Sánchez Barcoj 2010-05-19   \n",
       "3252  Ildefonso José Sánchez Barcoj 2008-11-19   \n",
       "2879  Ildefonso José Sánchez Barcoj 2008-11-19   \n",
       "8473       Miguel Blesa de la Parra 2006-12-26   \n",
       "281        Miguel Blesa de la Parra 2006-12-26   \n",
       "1988           Ramón Ferraz Ricarte 2005-11-27   \n",
       "4965           Ramón Ferraz Ricarte 2005-11-27   \n",
       "\n",
       "                            actividad_completa  importe  \n",
       "1043  HOTELES 4 Y 5 ESTRELLAS,BALNEARIOS,CAMPI  9076.76  \n",
       "1816  HOTELES 4 Y 5 ESTRELLAS,BALNEARIOS,CAMPI  9076.76  \n",
       "3159   AGENCIAS BANCARIAS(ANTICIPO VENTANILLA)  7500.00  \n",
       "7672   AGENCIAS BANCARIAS(ANTICIPO VENTANILLA)  7500.00  \n",
       "3252                           EL CORTE INGLES  6593.20  \n",
       "2879                           EL CORTE INGLES  6593.20  \n",
       "8473                           EL CORTE INGLES  6397.31  \n",
       "281                            EL CORTE INGLES  6397.31  \n",
       "1988                           EL CORTE INGLES  6248.00  \n",
       "4965                           EL CORTE INGLES  6248.00  "
      ]
     },
     "execution_count": 19,
     "metadata": {},
     "output_type": "execute_result"
    }
   ],
   "source": [
    "df_movimientos.sort_values('importe', ascending=False)[['nombre', 'fecha', 'actividad_completa', 'importe']].head(10)"
   ]
  },
  {
   "cell_type": "markdown",
   "metadata": {},
   "source": [
    "### Lectura a través de un índice"
   ]
  },
  {
   "cell_type": "code",
   "execution_count": 20,
   "metadata": {
    "collapsed": false,
    "jupyter": {
     "outputs_hidden": false
    }
   },
   "outputs": [],
   "source": [
    "rows = []\n",
    "keys = bucket_mov.stream_index(\"idx_miembro_bin\", hash_string(u\"Javier de Miguel Sánchez\"))\n",
    "for keys in keys.results:\n",
    "    for movimiento_key in keys:\n",
    "        rows.append(bucket_mov.get(movimiento_key).data)\n",
    "    \n",
    "df = json_to_pandas(rows)"
   ]
  },
  {
   "cell_type": "markdown",
   "metadata": {},
   "source": [
    "### Los movimientos de una persona concreta"
   ]
  },
  {
   "cell_type": "markdown",
   "metadata": {},
   "source": [
    "Para obtener los movimientos de una persona en concreto si podemos utilizar el índice que habíamos creado Ad-hoc, aunque la ordenación se realiza en Pandas"
   ]
  },
  {
   "cell_type": "code",
   "execution_count": 21,
   "metadata": {
    "collapsed": false,
    "jupyter": {
     "outputs_hidden": false
    }
   },
   "outputs": [
    {
     "data": {
      "text/html": [
       "<div>\n",
       "<style scoped>\n",
       "    .dataframe tbody tr th:only-of-type {\n",
       "        vertical-align: middle;\n",
       "    }\n",
       "\n",
       "    .dataframe tbody tr th {\n",
       "        vertical-align: top;\n",
       "    }\n",
       "\n",
       "    .dataframe thead th {\n",
       "        text-align: right;\n",
       "    }\n",
       "</style>\n",
       "<table border=\"1\" class=\"dataframe\">\n",
       "  <thead>\n",
       "    <tr style=\"text-align: right;\">\n",
       "      <th></th>\n",
       "      <th>nombre</th>\n",
       "      <th>fecha</th>\n",
       "      <th>actividad_completa</th>\n",
       "      <th>importe</th>\n",
       "    </tr>\n",
       "  </thead>\n",
       "  <tbody>\n",
       "    <tr>\n",
       "      <th>73</th>\n",
       "      <td>Javier de Miguel Sánchez</td>\n",
       "      <td>2003-02-11</td>\n",
       "      <td>EL CORTE INGLES</td>\n",
       "      <td>1190.00</td>\n",
       "    </tr>\n",
       "    <tr>\n",
       "      <th>94</th>\n",
       "      <td>Javier de Miguel Sánchez</td>\n",
       "      <td>2009-05-22</td>\n",
       "      <td>MATERIALES CONSTRUCCION,FONTANERIA,SANEA</td>\n",
       "      <td>380.00</td>\n",
       "    </tr>\n",
       "    <tr>\n",
       "      <th>124</th>\n",
       "      <td>Javier de Miguel Sánchez</td>\n",
       "      <td>2010-01-12</td>\n",
       "      <td>MATERIALES CONSTRUCCION,FONTANERIA,SANEA</td>\n",
       "      <td>345.00</td>\n",
       "    </tr>\n",
       "    <tr>\n",
       "      <th>37</th>\n",
       "      <td>Javier de Miguel Sánchez</td>\n",
       "      <td>2006-03-10</td>\n",
       "      <td>VETERINARIA (VENTA Y CURA DE ANIMALES)</td>\n",
       "      <td>332.02</td>\n",
       "    </tr>\n",
       "    <tr>\n",
       "      <th>104</th>\n",
       "      <td>Javier de Miguel Sánchez</td>\n",
       "      <td>2009-12-22</td>\n",
       "      <td>MATERIALES CONSTRUCCION,FONTANERIA,SANEA</td>\n",
       "      <td>272.85</td>\n",
       "    </tr>\n",
       "    <tr>\n",
       "      <th>137</th>\n",
       "      <td>Javier de Miguel Sánchez</td>\n",
       "      <td>2007-03-27</td>\n",
       "      <td>SERV.ORG.PUBL.Y GRANDES EMPRESAS</td>\n",
       "      <td>269.92</td>\n",
       "    </tr>\n",
       "    <tr>\n",
       "      <th>36</th>\n",
       "      <td>Javier de Miguel Sánchez</td>\n",
       "      <td>2008-07-09</td>\n",
       "      <td>EL CORTE INGLES</td>\n",
       "      <td>262.39</td>\n",
       "    </tr>\n",
       "    <tr>\n",
       "      <th>119</th>\n",
       "      <td>Javier de Miguel Sánchez</td>\n",
       "      <td>2007-08-24</td>\n",
       "      <td>EL CORTE INGLES</td>\n",
       "      <td>260.00</td>\n",
       "    </tr>\n",
       "    <tr>\n",
       "      <th>91</th>\n",
       "      <td>Javier de Miguel Sánchez</td>\n",
       "      <td>2010-01-12</td>\n",
       "      <td>MATERIALES CONSTRUCCION,FONTANERIA,SANEA</td>\n",
       "      <td>253.02</td>\n",
       "    </tr>\n",
       "    <tr>\n",
       "      <th>163</th>\n",
       "      <td>Javier de Miguel Sánchez</td>\n",
       "      <td>2005-09-05</td>\n",
       "      <td>HIPERCOR SUPERMERCADOS EL CORTE INGLES</td>\n",
       "      <td>243.97</td>\n",
       "    </tr>\n",
       "  </tbody>\n",
       "</table>\n",
       "</div>"
      ],
      "text/plain": [
       "                       nombre      fecha  \\\n",
       "73   Javier de Miguel Sánchez 2003-02-11   \n",
       "94   Javier de Miguel Sánchez 2009-05-22   \n",
       "124  Javier de Miguel Sánchez 2010-01-12   \n",
       "37   Javier de Miguel Sánchez 2006-03-10   \n",
       "104  Javier de Miguel Sánchez 2009-12-22   \n",
       "137  Javier de Miguel Sánchez 2007-03-27   \n",
       "36   Javier de Miguel Sánchez 2008-07-09   \n",
       "119  Javier de Miguel Sánchez 2007-08-24   \n",
       "91   Javier de Miguel Sánchez 2010-01-12   \n",
       "163  Javier de Miguel Sánchez 2005-09-05   \n",
       "\n",
       "                           actividad_completa  importe  \n",
       "73                            EL CORTE INGLES  1190.00  \n",
       "94   MATERIALES CONSTRUCCION,FONTANERIA,SANEA   380.00  \n",
       "124  MATERIALES CONSTRUCCION,FONTANERIA,SANEA   345.00  \n",
       "37     VETERINARIA (VENTA Y CURA DE ANIMALES)   332.02  \n",
       "104  MATERIALES CONSTRUCCION,FONTANERIA,SANEA   272.85  \n",
       "137          SERV.ORG.PUBL.Y GRANDES EMPRESAS   269.92  \n",
       "36                            EL CORTE INGLES   262.39  \n",
       "119                           EL CORTE INGLES   260.00  \n",
       "91   MATERIALES CONSTRUCCION,FONTANERIA,SANEA   253.02  \n",
       "163    HIPERCOR SUPERMERCADOS EL CORTE INGLES   243.97  "
      ]
     },
     "execution_count": 21,
     "metadata": {},
     "output_type": "execute_result"
    }
   ],
   "source": [
    "df.sort_values('importe', ascending=False)[['nombre', 'fecha', 'actividad_completa', 'importe']].head(10)"
   ]
  },
  {
   "cell_type": "markdown",
   "metadata": {},
   "source": [
    "### Lectura de una información agregada"
   ]
  },
  {
   "cell_type": "markdown",
   "metadata": {},
   "source": [
    "La información agregada está en un mapa, por lo que tenemos que procesarla y convertirla a formato JSON."
   ]
  },
  {
   "cell_type": "code",
   "execution_count": 22,
   "metadata": {
    "collapsed": false,
    "jupyter": {
     "outputs_hidden": false
    }
   },
   "outputs": [],
   "source": [
    "rows = []\n",
    "for keys in bucket_acum_importes.stream_keys():\n",
    "    #print(keys)\n",
    "    for key in keys:\n",
    "        map_nombre = bucket_acum_importes.get(key)\n",
    "        rows.append({'nombre' : map_nombre.registers['nombre'].value,\n",
    "                     \"importe\" : float(map_nombre.counters['importe'].value) / 100})\n",
    "        \n",
    "# Convertimos el objeto json en un objeto pandas \n",
    "df = json_to_pandas(rows)"
   ]
  },
  {
   "cell_type": "markdown",
   "metadata": {},
   "source": [
    "### Las 10 personas que mas han gastado"
   ]
  },
  {
   "cell_type": "markdown",
   "metadata": {},
   "source": [
    "Fácil si disponemos de un agregado. Utilizamos Pandas para ordenar la información ..,"
   ]
  },
  {
   "cell_type": "code",
   "execution_count": 23,
   "metadata": {
    "collapsed": false,
    "jupyter": {
     "outputs_hidden": false
    }
   },
   "outputs": [
    {
     "data": {
      "text/html": [
       "<div>\n",
       "<style scoped>\n",
       "    .dataframe tbody tr th:only-of-type {\n",
       "        vertical-align: middle;\n",
       "    }\n",
       "\n",
       "    .dataframe tbody tr th {\n",
       "        vertical-align: top;\n",
       "    }\n",
       "\n",
       "    .dataframe thead th {\n",
       "        text-align: right;\n",
       "    }\n",
       "</style>\n",
       "<table border=\"1\" class=\"dataframe\">\n",
       "  <thead>\n",
       "    <tr style=\"text-align: right;\">\n",
       "      <th></th>\n",
       "      <th>nombre</th>\n",
       "      <th>importe</th>\n",
       "    </tr>\n",
       "  </thead>\n",
       "  <tbody>\n",
       "    <tr>\n",
       "      <th>62</th>\n",
       "      <td>Ramón Ferraz Ricarte</td>\n",
       "      <td>92965.08</td>\n",
       "    </tr>\n",
       "    <tr>\n",
       "      <th>39</th>\n",
       "      <td>Ricardo Morado Iglesias</td>\n",
       "      <td>91709.74</td>\n",
       "    </tr>\n",
       "    <tr>\n",
       "      <th>78</th>\n",
       "      <td>Ildefonso José Sánchez Barcoj</td>\n",
       "      <td>85101.30</td>\n",
       "    </tr>\n",
       "    <tr>\n",
       "      <th>70</th>\n",
       "      <td>Miguel Blesa de la Parra</td>\n",
       "      <td>76595.54</td>\n",
       "    </tr>\n",
       "    <tr>\n",
       "      <th>20</th>\n",
       "      <td>Carmen Contreras Gómez</td>\n",
       "      <td>67811.08</td>\n",
       "    </tr>\n",
       "    <tr>\n",
       "      <th>40</th>\n",
       "      <td>Antonio Romero Lázaro</td>\n",
       "      <td>58254.04</td>\n",
       "    </tr>\n",
       "    <tr>\n",
       "      <th>16</th>\n",
       "      <td>Rubén Cruz Orive</td>\n",
       "      <td>43519.92</td>\n",
       "    </tr>\n",
       "    <tr>\n",
       "      <th>54</th>\n",
       "      <td>José Antonio Moral Santín</td>\n",
       "      <td>42184.51</td>\n",
       "    </tr>\n",
       "    <tr>\n",
       "      <th>2</th>\n",
       "      <td>José María de la Riva Amez</td>\n",
       "      <td>41728.18</td>\n",
       "    </tr>\n",
       "    <tr>\n",
       "      <th>46</th>\n",
       "      <td>Carlos María Martínez Martínez</td>\n",
       "      <td>40985.22</td>\n",
       "    </tr>\n",
       "  </tbody>\n",
       "</table>\n",
       "</div>"
      ],
      "text/plain": [
       "                            nombre   importe\n",
       "62            Ramón Ferraz Ricarte  92965.08\n",
       "39         Ricardo Morado Iglesias  91709.74\n",
       "78   Ildefonso José Sánchez Barcoj  85101.30\n",
       "70        Miguel Blesa de la Parra  76595.54\n",
       "20          Carmen Contreras Gómez  67811.08\n",
       "40           Antonio Romero Lázaro  58254.04\n",
       "16                Rubén Cruz Orive  43519.92\n",
       "54       José Antonio Moral Santín  42184.51\n",
       "2       José María de la Riva Amez  41728.18\n",
       "46  Carlos María Martínez Martínez  40985.22"
      ]
     },
     "execution_count": 23,
     "metadata": {},
     "output_type": "execute_result"
    }
   ],
   "source": [
    "df.sort_values('importe', ascending=False).head(10)"
   ]
  }
 ],
 "metadata": {
  "kernelspec": {
   "display_name": "Python 3",
   "language": "python",
   "name": "python3"
  },
  "language_info": {
   "codemirror_mode": {
    "name": "ipython",
    "version": 3
   },
   "file_extension": ".py",
   "mimetype": "text/x-python",
   "name": "python",
   "nbconvert_exporter": "python",
   "pygments_lexer": "ipython3",
   "version": "3.6.9"
  }
 },
 "nbformat": 4,
 "nbformat_minor": 4
}
