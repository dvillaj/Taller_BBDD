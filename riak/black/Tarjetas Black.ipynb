{
 "cells": [
  {
   "cell_type": "markdown",
   "metadata": {},
   "source": [
    "# Riak"
   ]
  },
  {
   "cell_type": "code",
   "execution_count": 1,
   "metadata": {},
   "outputs": [],
   "source": [
    "import riak\n",
    "from pprintpp import pprint as pp\n",
    "import json\n",
    "import pandas as pd\n",
    "\n",
    "import uuid\n",
    "import hashlib"
   ]
  },
  {
   "cell_type": "markdown",
   "metadata": {},
   "source": [
    "## Lectura de información en Pandas"
   ]
  },
  {
   "cell_type": "markdown",
   "metadata": {},
   "source": [
    "Partimos del dataset normalizado y lo desnormalizamos para guardarlo todo junto en RIAK"
   ]
  },
  {
   "cell_type": "code",
   "execution_count": 2,
   "metadata": {
    "collapsed": false,
    "jupyter": {
     "outputs_hidden": false
    }
   },
   "outputs": [
    {
     "name": "stdout",
     "output_type": "stream",
     "text": [
      "<class 'pandas.core.frame.DataFrame'>\n",
      "Int64Index: 7624 entries, 0 to 7623\n",
      "Data columns (total 11 columns):\n",
      " #   Column              Non-Null Count  Dtype         \n",
      "---  ------              --------------  -----         \n",
      " 0   id_miembro          7624 non-null   int64         \n",
      " 1   fecha               7624 non-null   datetime64[ns]\n",
      " 2   hora                7624 non-null   int64         \n",
      " 3   minuto              7624 non-null   int64         \n",
      " 4   importe             7624 non-null   float64       \n",
      " 5   comercio            6823 non-null   object        \n",
      " 6   actividad_completa  7623 non-null   object        \n",
      " 7   actividad           7623 non-null   object        \n",
      " 8   nombre              7624 non-null   object        \n",
      " 9   funcion             7624 non-null   object        \n",
      " 10  organizacion        6003 non-null   object        \n",
      "dtypes: datetime64[ns](1), float64(1), int64(3), object(6)\n",
      "memory usage: 714.8+ KB\n"
     ]
    }
   ],
   "source": [
    "df_mov = pd.read_excel(\"../../data/black.xlsx\", sheet_name= \"Movimientos\")\n",
    "df_miembros = pd.read_excel(\"../../data/black.xlsx\", sheet_name= \"Miembros\")\n",
    "df = pd.merge(df_mov, df_miembros, on = ['id_miembro'], how = 'inner')\n",
    "df.info()"
   ]
  },
  {
   "cell_type": "code",
   "execution_count": 3,
   "metadata": {
    "collapsed": false,
    "jupyter": {
     "outputs_hidden": false
    }
   },
   "outputs": [
    {
     "data": {
      "text/html": [
       "<div>\n",
       "<style scoped>\n",
       "    .dataframe tbody tr th:only-of-type {\n",
       "        vertical-align: middle;\n",
       "    }\n",
       "\n",
       "    .dataframe tbody tr th {\n",
       "        vertical-align: top;\n",
       "    }\n",
       "\n",
       "    .dataframe thead th {\n",
       "        text-align: right;\n",
       "    }\n",
       "</style>\n",
       "<table border=\"1\" class=\"dataframe\">\n",
       "  <thead>\n",
       "    <tr style=\"text-align: right;\">\n",
       "      <th></th>\n",
       "      <th>id_miembro</th>\n",
       "      <th>fecha</th>\n",
       "      <th>hora</th>\n",
       "      <th>minuto</th>\n",
       "      <th>importe</th>\n",
       "      <th>comercio</th>\n",
       "      <th>actividad_completa</th>\n",
       "      <th>actividad</th>\n",
       "      <th>nombre</th>\n",
       "      <th>funcion</th>\n",
       "      <th>organizacion</th>\n",
       "    </tr>\n",
       "  </thead>\n",
       "  <tbody>\n",
       "    <tr>\n",
       "      <th>0</th>\n",
       "      <td>6</td>\n",
       "      <td>2007-03-21</td>\n",
       "      <td>15</td>\n",
       "      <td>26</td>\n",
       "      <td>3.20</td>\n",
       "      <td>PARKING EGUISA C/SEVILLA</td>\n",
       "      <td>GARAJES Y APARCAMIENTOS</td>\n",
       "      <td>COCHE</td>\n",
       "      <td>Antonio Romero Lázaro</td>\n",
       "      <td>concejal</td>\n",
       "      <td>PSOE</td>\n",
       "    </tr>\n",
       "    <tr>\n",
       "      <th>1</th>\n",
       "      <td>6</td>\n",
       "      <td>2006-11-23</td>\n",
       "      <td>20</td>\n",
       "      <td>44</td>\n",
       "      <td>75.86</td>\n",
       "      <td>POZUELO 4 S L</td>\n",
       "      <td>GASOLINERAS</td>\n",
       "      <td>COCHE</td>\n",
       "      <td>Antonio Romero Lázaro</td>\n",
       "      <td>concejal</td>\n",
       "      <td>PSOE</td>\n",
       "    </tr>\n",
       "    <tr>\n",
       "      <th>2</th>\n",
       "      <td>6</td>\n",
       "      <td>2005-09-03</td>\n",
       "      <td>16</td>\n",
       "      <td>40</td>\n",
       "      <td>91.37</td>\n",
       "      <td>IL PORTONE</td>\n",
       "      <td>RESTAURANTES RESTO</td>\n",
       "      <td>RESTAURANTE</td>\n",
       "      <td>Antonio Romero Lázaro</td>\n",
       "      <td>concejal</td>\n",
       "      <td>PSOE</td>\n",
       "    </tr>\n",
       "    <tr>\n",
       "      <th>3</th>\n",
       "      <td>6</td>\n",
       "      <td>2005-12-29</td>\n",
       "      <td>20</td>\n",
       "      <td>34</td>\n",
       "      <td>63.40</td>\n",
       "      <td>MUSGO</td>\n",
       "      <td>GRAN ALMACEN (A)</td>\n",
       "      <td>COMPRA BIENES</td>\n",
       "      <td>Antonio Romero Lázaro</td>\n",
       "      <td>concejal</td>\n",
       "      <td>PSOE</td>\n",
       "    </tr>\n",
       "    <tr>\n",
       "      <th>4</th>\n",
       "      <td>6</td>\n",
       "      <td>2004-07-17</td>\n",
       "      <td>16</td>\n",
       "      <td>17</td>\n",
       "      <td>60.24</td>\n",
       "      <td>BERNABEU RIB S</td>\n",
       "      <td>RESTAURANTES RESTO</td>\n",
       "      <td>RESTAURANTE</td>\n",
       "      <td>Antonio Romero Lázaro</td>\n",
       "      <td>concejal</td>\n",
       "      <td>PSOE</td>\n",
       "    </tr>\n",
       "  </tbody>\n",
       "</table>\n",
       "</div>"
      ],
      "text/plain": [
       "   id_miembro      fecha  hora  minuto  importe                  comercio  \\\n",
       "0           6 2007-03-21    15      26     3.20  PARKING EGUISA C/SEVILLA   \n",
       "1           6 2006-11-23    20      44    75.86             POZUELO 4 S L   \n",
       "2           6 2005-09-03    16      40    91.37                IL PORTONE   \n",
       "3           6 2005-12-29    20      34    63.40                     MUSGO   \n",
       "4           6 2004-07-17    16      17    60.24            BERNABEU RIB S   \n",
       "\n",
       "        actividad_completa      actividad                 nombre   funcion  \\\n",
       "0  GARAJES Y APARCAMIENTOS          COCHE  Antonio Romero Lázaro  concejal   \n",
       "1              GASOLINERAS          COCHE  Antonio Romero Lázaro  concejal   \n",
       "2       RESTAURANTES RESTO    RESTAURANTE  Antonio Romero Lázaro  concejal   \n",
       "3         GRAN ALMACEN (A)  COMPRA BIENES  Antonio Romero Lázaro  concejal   \n",
       "4       RESTAURANTES RESTO    RESTAURANTE  Antonio Romero Lázaro  concejal   \n",
       "\n",
       "  organizacion  \n",
       "0         PSOE  \n",
       "1         PSOE  \n",
       "2         PSOE  \n",
       "3         PSOE  \n",
       "4         PSOE  "
      ]
     },
     "execution_count": 3,
     "metadata": {},
     "output_type": "execute_result"
    }
   ],
   "source": [
    "df.head(5)"
   ]
  },
  {
   "cell_type": "markdown",
   "metadata": {},
   "source": [
    "## Riak ..."
   ]
  },
  {
   "cell_type": "code",
   "execution_count": 4,
   "metadata": {
    "collapsed": false,
    "jupyter": {
     "outputs_hidden": false
    }
   },
   "outputs": [
    {
     "data": {
      "text/plain": [
       "True"
      ]
     },
     "execution_count": 4,
     "metadata": {},
     "output_type": "execute_result"
    }
   ],
   "source": [
    "# connect to database\n",
    "cliente = riak.RiakClient()\n",
    "cliente.ping()"
   ]
  },
  {
   "cell_type": "markdown",
   "metadata": {},
   "source": [
    "Utilizamos un bucket para guardar los movimientos en formato JSON y otro para guardar el importe acumulado por miembro.\n",
    "\n",
    "En el bucket de movimientos utilizamos una clave autogenerada (no vamos a poder localizar los movimientos por clave) y en el bucket con el importe acumulado la clave es el nombre de la persona en formato HASH, para no tener problemas ni con los espacios del nombre ni con los acentos\n",
    "\n",
    "Se van a crear los siguientes buckets:\n",
    "\n",
    "|bucket|Clave|Contenido|\n",
    "|-|-|-|\n",
    "|movimientos|Marca temporal|Todos los datos del dataset en formnato JSON y desnormalizados|\n",
    "|acum_importes|Código HASH de la persona que realiza el movimiento|Mapa con el nombre de la persona y el importe acumulado|\n",
    "\n",
    "El bucket de tweets tendrá los siguientes índices:\n",
    "\n",
    "|Nombre del índice|Contenido|¿Que busquedas permite hacer?|\n",
    "|-|-|-|\n",
    "|idx_miembro_bin|Nombre de la persona|Localizar movimientos de una persona concreta|"
   ]
  },
  {
   "cell_type": "code",
   "execution_count": 5,
   "metadata": {
    "collapsed": false,
    "jupyter": {
     "outputs_hidden": false
    }
   },
   "outputs": [],
   "source": [
    "BUCKET_MOVIMIENTOS = 'movimientos'\n",
    "BUCKET_ACUM_IMPORTES = 'acum_importes'\n",
    "\n",
    "bucket_mov = cliente.bucket(BUCKET_MOVIMIENTOS)\n",
    "bucket_acum_importes = cliente.bucket_type('maps').bucket(BUCKET_ACUM_IMPORTES)"
   ]
  },
  {
   "cell_type": "markdown",
   "metadata": {},
   "source": [
    "Función para eliminar los datos de un BUCKET de Riak"
   ]
  },
  {
   "cell_type": "code",
   "execution_count": 6,
   "metadata": {
    "collapsed": false,
    "jupyter": {
     "outputs_hidden": false
    }
   },
   "outputs": [],
   "source": [
    "def drop_keys(bucket):\n",
    "    for keys in bucket.stream_keys():\n",
    "        for key in keys:\n",
    "            bucket.delete(key)"
   ]
  },
  {
   "cell_type": "code",
   "execution_count": 7,
   "metadata": {
    "collapsed": false,
    "jupyter": {
     "outputs_hidden": false
    }
   },
   "outputs": [],
   "source": [
    "# Borramos los datos ..\n",
    "drop_keys(bucket_mov)\n",
    "drop_keys(bucket_acum_importes)"
   ]
  },
  {
   "cell_type": "markdown",
   "metadata": {},
   "source": [
    "## Inserción de información en Riak"
   ]
  },
  {
   "cell_type": "markdown",
   "metadata": {},
   "source": [
    "Para generar los datos en formato JSON partimos del DataFrame de Pandas y lo exportamos a JSON (en formato String) para luego cargarlo en un diccionario de Python\n",
    "\n",
    "Observa que cuando se genera el dato en formato JSON, los campos fechas se almacenan como un [TIMESTAMP de unix](http://www.unixtimestamp.com), por lo que habría que volver a convertirlo a fecha según el caso"
   ]
  },
  {
   "cell_type": "code",
   "execution_count": 8,
   "metadata": {
    "collapsed": false,
    "jupyter": {
     "outputs_hidden": false
    }
   },
   "outputs": [],
   "source": [
    "json_string = df.to_json(orient = 'records')\n",
    "json_list = json.loads(json_string)"
   ]
  },
  {
   "cell_type": "code",
   "execution_count": 9,
   "metadata": {
    "collapsed": false,
    "jupyter": {
     "outputs_hidden": false
    }
   },
   "outputs": [
    {
     "name": "stdout",
     "output_type": "stream",
     "text": [
      "7624\n"
     ]
    }
   ],
   "source": [
    "print(len(json_list))"
   ]
  },
  {
   "cell_type": "code",
   "execution_count": 10,
   "metadata": {
    "collapsed": false,
    "jupyter": {
     "outputs_hidden": false
    }
   },
   "outputs": [
    {
     "name": "stdout",
     "output_type": "stream",
     "text": [
      "{\n",
      "    'actividad': 'COCHE',\n",
      "    'actividad_completa': 'GARAJES Y APARCAMIENTOS',\n",
      "    'comercio': 'PARKING EGUISA C/SEVILLA',\n",
      "    'fecha': 1174435200000,\n",
      "    'funcion': 'concejal',\n",
      "    'hora': 15,\n",
      "    'id_miembro': 6,\n",
      "    'importe': 3.2,\n",
      "    'minuto': 26,\n",
      "    'nombre': 'Antonio Romero Lázaro',\n",
      "    'organizacion': 'PSOE',\n",
      "}\n"
     ]
    }
   ],
   "source": [
    "pp(json_list[0])"
   ]
  },
  {
   "cell_type": "markdown",
   "metadata": {},
   "source": [
    "Vamos a utilizar el nombre de la persona como clave, por lo que necesitamos convertirla previamente a un código que no lleve ni espacios ni acentos.\n",
    "\n",
    "Este es precisamente el objetivo de la siguiente función ..."
   ]
  },
  {
   "cell_type": "code",
   "execution_count": 11,
   "metadata": {},
   "outputs": [],
   "source": [
    "def hash_string(s):\n",
    "    s_utf8 = s.encode('utf-8')\n",
    "    return hashlib.md5(s_utf8).hexdigest()"
   ]
  },
  {
   "cell_type": "markdown",
   "metadata": {},
   "source": [
    "Recorremos el dataset de movimientos, almacenando la información tanto en el bucket de movimientos como en el bucket que acumula los movimientos por cliente.\n",
    "\n",
    "En este último utilizamos una funcionalidad que nos da Riak para guardar la información tipificada. Utilizamos un mapa que tiene dos elementos: Un registro donde guardamos el nombre del cliente y un contador donde guardamos el importe (sin decimales)"
   ]
  },
  {
   "cell_type": "code",
   "execution_count": 12,
   "metadata": {
    "collapsed": false,
    "jupyter": {
     "outputs_hidden": false
    }
   },
   "outputs": [],
   "source": [
    "# Bucle de carga de datos ...\n",
    "for movimiento_json in json_list:\n",
    "    key = uuid.uuid4().hex\n",
    "    hash_nombre =  hash_string(movimiento_json[\"nombre\"])\n",
    "    \n",
    "    movimiento = bucket_mov.new(key, movimiento_json)\n",
    "    movimiento.add_index('idx_miembro_bin', hash_nombre)\n",
    "    movimiento.store()\n",
    "    \n",
    "    map_nombre = bucket_acum_importes.new(hash_nombre)\n",
    "    map_nombre.registers['nombre'].assign(movimiento_json[\"nombre\"])\n",
    "    map_nombre.counters['importe'].increment(int(round(movimiento_json[\"importe\"] * 100)))\n",
    "    map_nombre.store()\n",
    "    "
   ]
  },
  {
   "cell_type": "code",
   "execution_count": 36,
   "metadata": {},
   "outputs": [
    {
     "name": "stdout",
     "output_type": "stream",
     "text": [
      "405c73ace96b476cabf12ef3908fa5a8 -> {'id_miembro': 61, 'fecha': 1171497600000, 'hora': 15, 'minuto': 49, 'importe': 21.52, 'comercio': 'CANAL DE EDITORIALES S A', 'actividad_completa': 'LIBRERIAS, PAPELERIAS Y DISCOS', 'actividad': 'LIBRERIA', 'nombre': 'Miguel Blesa de la Parra', 'funcion': 'directivo', 'organizacion': None}\n",
      "3f7d2e9e3681457a80d66e36d0a389e7 -> {'id_miembro': 6, 'fecha': 1160179200000, 'hora': 16, 'minuto': 16, 'importe': 87.69, 'comercio': 'LA VINOTECA', 'actividad_completa': 'RESTAURANTES RESTO', 'actividad': 'RESTAURANTE', 'nombre': 'Antonio Romero Lázaro', 'funcion': 'concejal', 'organizacion': 'PSOE'}\n",
      "3ddd1a13c7cb4e4a9e939950a982e771 -> {'id_miembro': 83, 'fecha': 1086480000000, 'hora': 17, 'minuto': 12, 'importe': 50.0, 'comercio': 'E S CONCORDY S A', 'actividad_completa': 'GASOLINERAS', 'actividad': 'COCHE', 'nombre': 'Ángel Eugenio Gómez del Pulgar Perales', 'funcion': 'concejal', 'organizacion': 'PSOE'}\n"
     ]
    }
   ],
   "source": [
    "for key in bucket_mov.get_keys()[0:3]:\n",
    "    data = bucket_mov.get(key).data\n",
    "    print('%s -> %s' % (key, data))"
   ]
  },
  {
   "cell_type": "code",
   "execution_count": 37,
   "metadata": {},
   "outputs": [
    {
     "name": "stdout",
     "output_type": "stream",
     "text": [
      "ebb7326e90b94d482c381db357646c61 -> {('importe', 'counter'): 2126307, ('nombre', 'register'): 'José María de la Riva Amez'}\n",
      "b1e48c4c41ce251603da76501a50a8ee -> {('importe', 'counter'): 565771, ('nombre', 'register'): 'María Elena Gil García'}\n",
      "6b2926b312574fa88c283ecd25c877e3 -> {('importe', 'counter'): 1435402, ('nombre', 'register'): 'Juan Gómez Castañeda'}\n"
     ]
    }
   ],
   "source": [
    "for key in bucket_acum_importes.get_keys()[0:3]:\n",
    "    data = bucket_acum_importes.get(key)\n",
    "    print('%s -> %s' % (key, data))"
   ]
  },
  {
   "cell_type": "markdown",
   "metadata": {},
   "source": [
    "# Lectura de información en Riak"
   ]
  },
  {
   "cell_type": "markdown",
   "metadata": {},
   "source": [
    "En la siguiente función partimos del objeto JSON que nos devuelve RIAK y generamos un DataFrame Pandas.\n",
    "\n",
    "En el caso de la fecha, lo convertimos desde un UNIX Timestamp al formato correcto para Pandas"
   ]
  },
  {
   "cell_type": "code",
   "execution_count": 38,
   "metadata": {},
   "outputs": [],
   "source": [
    "def json_to_pandas(rows):\n",
    "    # Convertimos el objeto JSON en un objeto pandas \n",
    "    df = pd.read_json(json.dumps(rows))\n",
    "    \n",
    "    if 'fecha' in df.columns:\n",
    "        # Las fechas están en formato UNIX TIMESTAMP. Las volvemos a convertir a formato Date...\n",
    "        df = df.assign(fecha = pd.to_datetime(df.fecha, unit = 'ms'))\n",
    "\n",
    "    return df"
   ]
  },
  {
   "cell_type": "markdown",
   "metadata": {},
   "source": [
    "### Lectura del bucket de movimientos"
   ]
  },
  {
   "cell_type": "markdown",
   "metadata": {},
   "source": [
    "Cargamos todos los movimientos de la base de datos y lo guardamos en un objeto Pandas, ya que hay ciertas preguntas que no pueden resolverse directamente por esta base de datos\n",
    "\n",
    "Recuerda que RIAK permite obtener información de un clave, pero no le es posible devolver la información ordenada ..."
   ]
  },
  {
   "cell_type": "code",
   "execution_count": 39,
   "metadata": {
    "collapsed": false,
    "jupyter": {
     "outputs_hidden": false
    }
   },
   "outputs": [],
   "source": [
    "rows = []\n",
    "for keys in bucket_mov.stream_keys():\n",
    "    for key in keys:\n",
    "        # print('Key %s' % key )\n",
    "        rows.append(bucket_mov.get(key).data)\n",
    "        \n",
    "# Convertimos el objeto json en un objeto pandas \n",
    "df_movimientos = json_to_pandas(rows)"
   ]
  },
  {
   "cell_type": "code",
   "execution_count": 40,
   "metadata": {
    "collapsed": false,
    "jupyter": {
     "outputs_hidden": false
    }
   },
   "outputs": [
    {
     "data": {
      "text/html": [
       "<div>\n",
       "<style scoped>\n",
       "    .dataframe tbody tr th:only-of-type {\n",
       "        vertical-align: middle;\n",
       "    }\n",
       "\n",
       "    .dataframe tbody tr th {\n",
       "        vertical-align: top;\n",
       "    }\n",
       "\n",
       "    .dataframe thead th {\n",
       "        text-align: right;\n",
       "    }\n",
       "</style>\n",
       "<table border=\"1\" class=\"dataframe\">\n",
       "  <thead>\n",
       "    <tr style=\"text-align: right;\">\n",
       "      <th></th>\n",
       "      <th>id_miembro</th>\n",
       "      <th>fecha</th>\n",
       "      <th>hora</th>\n",
       "      <th>minuto</th>\n",
       "      <th>importe</th>\n",
       "      <th>comercio</th>\n",
       "      <th>actividad_completa</th>\n",
       "      <th>actividad</th>\n",
       "      <th>nombre</th>\n",
       "      <th>funcion</th>\n",
       "      <th>organizacion</th>\n",
       "    </tr>\n",
       "  </thead>\n",
       "  <tbody>\n",
       "    <tr>\n",
       "      <th>0</th>\n",
       "      <td>20</td>\n",
       "      <td>2006-06-07</td>\n",
       "      <td>17</td>\n",
       "      <td>36</td>\n",
       "      <td>209.19</td>\n",
       "      <td>RESTAURANTE ERROTA ZAR</td>\n",
       "      <td>RESTAURANTES RESTO</td>\n",
       "      <td>RESTAURANTE</td>\n",
       "      <td>Francisco José Pérez Fernández</td>\n",
       "      <td>concejal</td>\n",
       "      <td>PSOE</td>\n",
       "    </tr>\n",
       "    <tr>\n",
       "      <th>1</th>\n",
       "      <td>54</td>\n",
       "      <td>2011-10-10</td>\n",
       "      <td>21</td>\n",
       "      <td>51</td>\n",
       "      <td>87.00</td>\n",
       "      <td>REST LA CARIHUELA CHICA</td>\n",
       "      <td>RESTAURANTES RESTO</td>\n",
       "      <td>RESTAURANTE</td>\n",
       "      <td>Maria Mercedes de la Merced Monge</td>\n",
       "      <td>concejal</td>\n",
       "      <td>Partido Popular</td>\n",
       "    </tr>\n",
       "    <tr>\n",
       "      <th>2</th>\n",
       "      <td>30</td>\n",
       "      <td>2010-03-31</td>\n",
       "      <td>23</td>\n",
       "      <td>47</td>\n",
       "      <td>14.00</td>\n",
       "      <td>MALLORCA</td>\n",
       "      <td>HIPERMERCADOS (TECNOLOGIA ELECTRONICA)</td>\n",
       "      <td>SUPERMERCADO</td>\n",
       "      <td>Jesús Pedroche Nieto</td>\n",
       "      <td>concejal</td>\n",
       "      <td>Partido Popular</td>\n",
       "    </tr>\n",
       "    <tr>\n",
       "      <th>3</th>\n",
       "      <td>81</td>\n",
       "      <td>2010-04-09</td>\n",
       "      <td>23</td>\n",
       "      <td>51</td>\n",
       "      <td>175.30</td>\n",
       "      <td>EL MONTERO DE CAZORLA</td>\n",
       "      <td>RESTAURANTES RESTO</td>\n",
       "      <td>RESTAURANTE</td>\n",
       "      <td>Santiago Javier Sánchez Carlos</td>\n",
       "      <td>concejal</td>\n",
       "      <td>PSOE</td>\n",
       "    </tr>\n",
       "    <tr>\n",
       "      <th>4</th>\n",
       "      <td>5</td>\n",
       "      <td>2003-06-06</td>\n",
       "      <td>0</td>\n",
       "      <td>14</td>\n",
       "      <td>148.30</td>\n",
       "      <td>RESTAURANTE LA TRAINERA</td>\n",
       "      <td>RESTAURANTE 4/5 TENEDORES NIVEL 3</td>\n",
       "      <td>RESTAURANTE</td>\n",
       "      <td>Antonio Rey de Viñas Sánchez-Majestad</td>\n",
       "      <td>concejal</td>\n",
       "      <td>CC OO</td>\n",
       "    </tr>\n",
       "  </tbody>\n",
       "</table>\n",
       "</div>"
      ],
      "text/plain": [
       "   id_miembro      fecha  hora  minuto  importe                 comercio  \\\n",
       "0          20 2006-06-07    17      36   209.19   RESTAURANTE ERROTA ZAR   \n",
       "1          54 2011-10-10    21      51    87.00  REST LA CARIHUELA CHICA   \n",
       "2          30 2010-03-31    23      47    14.00                 MALLORCA   \n",
       "3          81 2010-04-09    23      51   175.30    EL MONTERO DE CAZORLA   \n",
       "4           5 2003-06-06     0      14   148.30  RESTAURANTE LA TRAINERA   \n",
       "\n",
       "                       actividad_completa     actividad  \\\n",
       "0                      RESTAURANTES RESTO   RESTAURANTE   \n",
       "1                      RESTAURANTES RESTO   RESTAURANTE   \n",
       "2  HIPERMERCADOS (TECNOLOGIA ELECTRONICA)  SUPERMERCADO   \n",
       "3                      RESTAURANTES RESTO   RESTAURANTE   \n",
       "4       RESTAURANTE 4/5 TENEDORES NIVEL 3   RESTAURANTE   \n",
       "\n",
       "                                  nombre   funcion     organizacion  \n",
       "0         Francisco José Pérez Fernández  concejal             PSOE  \n",
       "1      Maria Mercedes de la Merced Monge  concejal  Partido Popular  \n",
       "2                   Jesús Pedroche Nieto  concejal  Partido Popular  \n",
       "3         Santiago Javier Sánchez Carlos  concejal             PSOE  \n",
       "4  Antonio Rey de Viñas Sánchez-Majestad  concejal            CC OO  "
      ]
     },
     "execution_count": 40,
     "metadata": {},
     "output_type": "execute_result"
    }
   ],
   "source": [
    "df_movimientos.head()"
   ]
  },
  {
   "cell_type": "markdown",
   "metadata": {},
   "source": [
    "### Los 10 movimientos mas caros"
   ]
  },
  {
   "cell_type": "markdown",
   "metadata": {},
   "source": [
    "Esta consulta no la podemos contestar directamente con la Base de Datos por lo que nos apoyamos en un proceso en el cliente"
   ]
  },
  {
   "cell_type": "code",
   "execution_count": 42,
   "metadata": {
    "collapsed": false,
    "jupyter": {
     "outputs_hidden": false
    }
   },
   "outputs": [
    {
     "data": {
      "text/html": [
       "<div>\n",
       "<style scoped>\n",
       "    .dataframe tbody tr th:only-of-type {\n",
       "        vertical-align: middle;\n",
       "    }\n",
       "\n",
       "    .dataframe tbody tr th {\n",
       "        vertical-align: top;\n",
       "    }\n",
       "\n",
       "    .dataframe thead th {\n",
       "        text-align: right;\n",
       "    }\n",
       "</style>\n",
       "<table border=\"1\" class=\"dataframe\">\n",
       "  <thead>\n",
       "    <tr style=\"text-align: right;\">\n",
       "      <th></th>\n",
       "      <th>nombre</th>\n",
       "      <th>fecha</th>\n",
       "      <th>actividad_completa</th>\n",
       "      <th>importe</th>\n",
       "    </tr>\n",
       "  </thead>\n",
       "  <tbody>\n",
       "    <tr>\n",
       "      <th>2812</th>\n",
       "      <td>Ildefonso José Sánchez Barcoj</td>\n",
       "      <td>2009-12-30</td>\n",
       "      <td>EL CORTE INGLES</td>\n",
       "      <td>16921.75</td>\n",
       "    </tr>\n",
       "    <tr>\n",
       "      <th>1935</th>\n",
       "      <td>Miguel Blesa de la Parra</td>\n",
       "      <td>2006-04-04</td>\n",
       "      <td>EL CORTE INGLES</td>\n",
       "      <td>12597.26</td>\n",
       "    </tr>\n",
       "    <tr>\n",
       "      <th>5004</th>\n",
       "      <td>Ramón Ferraz Ricarte</td>\n",
       "      <td>2003-04-03</td>\n",
       "      <td>AGENCIAS DE VIAJES</td>\n",
       "      <td>5998.35</td>\n",
       "    </tr>\n",
       "    <tr>\n",
       "      <th>1224</th>\n",
       "      <td>Ramón Ferraz Ricarte</td>\n",
       "      <td>2009-08-23</td>\n",
       "      <td>HOTELES 4 Y 5 ESTRELLAS,BALNEARIOS,CAMPI</td>\n",
       "      <td>5909.29</td>\n",
       "    </tr>\n",
       "    <tr>\n",
       "      <th>2938</th>\n",
       "      <td>Estanislao Rodríguez-Ponga Salamanca</td>\n",
       "      <td>2010-12-20</td>\n",
       "      <td>HIPERCOR SUPERMERCADOS EL CORTE INGLES</td>\n",
       "      <td>4985.00</td>\n",
       "    </tr>\n",
       "    <tr>\n",
       "      <th>5354</th>\n",
       "      <td>Matías Amat Roca</td>\n",
       "      <td>2006-08-02</td>\n",
       "      <td>AGENCIAS DE VIAJES</td>\n",
       "      <td>4972.00</td>\n",
       "    </tr>\n",
       "    <tr>\n",
       "      <th>2018</th>\n",
       "      <td>María Carmen Cafranga Cavestany</td>\n",
       "      <td>2010-10-07</td>\n",
       "      <td>AGENCIAS DE VIAJES</td>\n",
       "      <td>4336.00</td>\n",
       "    </tr>\n",
       "    <tr>\n",
       "      <th>7528</th>\n",
       "      <td>Ildefonso José Sánchez Barcoj</td>\n",
       "      <td>2010-03-25</td>\n",
       "      <td>EL CORTE INGLES</td>\n",
       "      <td>4320.50</td>\n",
       "    </tr>\n",
       "    <tr>\n",
       "      <th>5497</th>\n",
       "      <td>Carmen Contreras Gómez</td>\n",
       "      <td>2008-12-19</td>\n",
       "      <td>JOYERIAS Y RELOJERIAS</td>\n",
       "      <td>4218.00</td>\n",
       "    </tr>\n",
       "    <tr>\n",
       "      <th>3840</th>\n",
       "      <td>Carmen Contreras Gómez</td>\n",
       "      <td>2007-02-11</td>\n",
       "      <td>AIR EUROPA</td>\n",
       "      <td>4175.87</td>\n",
       "    </tr>\n",
       "  </tbody>\n",
       "</table>\n",
       "</div>"
      ],
      "text/plain": [
       "                                    nombre      fecha  \\\n",
       "2812         Ildefonso José Sánchez Barcoj 2009-12-30   \n",
       "1935              Miguel Blesa de la Parra 2006-04-04   \n",
       "5004                  Ramón Ferraz Ricarte 2003-04-03   \n",
       "1224                  Ramón Ferraz Ricarte 2009-08-23   \n",
       "2938  Estanislao Rodríguez-Ponga Salamanca 2010-12-20   \n",
       "5354                      Matías Amat Roca 2006-08-02   \n",
       "2018       María Carmen Cafranga Cavestany 2010-10-07   \n",
       "7528         Ildefonso José Sánchez Barcoj 2010-03-25   \n",
       "5497                Carmen Contreras Gómez 2008-12-19   \n",
       "3840                Carmen Contreras Gómez 2007-02-11   \n",
       "\n",
       "                            actividad_completa   importe  \n",
       "2812                           EL CORTE INGLES  16921.75  \n",
       "1935                           EL CORTE INGLES  12597.26  \n",
       "5004                        AGENCIAS DE VIAJES   5998.35  \n",
       "1224  HOTELES 4 Y 5 ESTRELLAS,BALNEARIOS,CAMPI   5909.29  \n",
       "2938    HIPERCOR SUPERMERCADOS EL CORTE INGLES   4985.00  \n",
       "5354                        AGENCIAS DE VIAJES   4972.00  \n",
       "2018                        AGENCIAS DE VIAJES   4336.00  \n",
       "7528                           EL CORTE INGLES   4320.50  \n",
       "5497                     JOYERIAS Y RELOJERIAS   4218.00  \n",
       "3840                                AIR EUROPA   4175.87  "
      ]
     },
     "execution_count": 42,
     "metadata": {},
     "output_type": "execute_result"
    }
   ],
   "source": [
    "df_movimientos \\\n",
    "    .sort_values('importe', ascending=False)\\\n",
    "    .filter(['nombre', 'fecha', 'actividad_completa', 'importe']) \\\n",
    "    .head(10)"
   ]
  },
  {
   "cell_type": "markdown",
   "metadata": {},
   "source": [
    "### Lectura a través de un índice"
   ]
  },
  {
   "cell_type": "code",
   "execution_count": 48,
   "metadata": {
    "collapsed": false,
    "jupyter": {
     "outputs_hidden": false
    }
   },
   "outputs": [],
   "source": [
    "rows = []\n",
    "keys = bucket_mov.stream_index(\"idx_miembro_bin\", hash_string(u\"Ildefonso José Sánchez Barcoj\"))\n",
    "for keys in keys.results:\n",
    "    for movimiento_key in keys:\n",
    "        rows.append(bucket_mov.get(movimiento_key).data)\n",
    "    \n",
    "df = json_to_pandas(rows)"
   ]
  },
  {
   "cell_type": "markdown",
   "metadata": {},
   "source": [
    "### Los movimientos de una persona concreta"
   ]
  },
  {
   "cell_type": "markdown",
   "metadata": {},
   "source": [
    "Para obtener los movimientos de una persona en concreto si podemos utilizar el índice que habíamos creado Ad-hoc, aunque la ordenación se realiza en Pandas"
   ]
  },
  {
   "cell_type": "code",
   "execution_count": 49,
   "metadata": {
    "collapsed": false,
    "jupyter": {
     "outputs_hidden": false
    }
   },
   "outputs": [
    {
     "data": {
      "text/html": [
       "<div>\n",
       "<style scoped>\n",
       "    .dataframe tbody tr th:only-of-type {\n",
       "        vertical-align: middle;\n",
       "    }\n",
       "\n",
       "    .dataframe tbody tr th {\n",
       "        vertical-align: top;\n",
       "    }\n",
       "\n",
       "    .dataframe thead th {\n",
       "        text-align: right;\n",
       "    }\n",
       "</style>\n",
       "<table border=\"1\" class=\"dataframe\">\n",
       "  <thead>\n",
       "    <tr style=\"text-align: right;\">\n",
       "      <th></th>\n",
       "      <th>nombre</th>\n",
       "      <th>fecha</th>\n",
       "      <th>actividad_completa</th>\n",
       "      <th>importe</th>\n",
       "    </tr>\n",
       "  </thead>\n",
       "  <tbody>\n",
       "    <tr>\n",
       "      <th>309</th>\n",
       "      <td>Ildefonso José Sánchez Barcoj</td>\n",
       "      <td>2009-12-30</td>\n",
       "      <td>EL CORTE INGLES</td>\n",
       "      <td>16921.75</td>\n",
       "    </tr>\n",
       "    <tr>\n",
       "      <th>207</th>\n",
       "      <td>Ildefonso José Sánchez Barcoj</td>\n",
       "      <td>2010-03-25</td>\n",
       "      <td>EL CORTE INGLES</td>\n",
       "      <td>4320.50</td>\n",
       "    </tr>\n",
       "    <tr>\n",
       "      <th>74</th>\n",
       "      <td>Ildefonso José Sánchez Barcoj</td>\n",
       "      <td>2007-11-01</td>\n",
       "      <td>EL CORTE INGLES</td>\n",
       "      <td>3882.00</td>\n",
       "    </tr>\n",
       "    <tr>\n",
       "      <th>212</th>\n",
       "      <td>Ildefonso José Sánchez Barcoj</td>\n",
       "      <td>2009-07-28</td>\n",
       "      <td>EL CORTE INGLES</td>\n",
       "      <td>2750.00</td>\n",
       "    </tr>\n",
       "    <tr>\n",
       "      <th>216</th>\n",
       "      <td>Ildefonso José Sánchez Barcoj</td>\n",
       "      <td>2011-12-18</td>\n",
       "      <td>AGENCIAS BANCARIAS(ANTICIPO VENTANILLA)</td>\n",
       "      <td>1400.00</td>\n",
       "    </tr>\n",
       "    <tr>\n",
       "      <th>137</th>\n",
       "      <td>Ildefonso José Sánchez Barcoj</td>\n",
       "      <td>2004-04-12</td>\n",
       "      <td>EL CORTE INGLES</td>\n",
       "      <td>1218.00</td>\n",
       "    </tr>\n",
       "    <tr>\n",
       "      <th>211</th>\n",
       "      <td>Ildefonso José Sánchez Barcoj</td>\n",
       "      <td>2008-12-07</td>\n",
       "      <td>HOTELES 4 Y 5 ESTRELLAS,BALNEARIOS,CAMPI</td>\n",
       "      <td>1024.65</td>\n",
       "    </tr>\n",
       "    <tr>\n",
       "      <th>91</th>\n",
       "      <td>Ildefonso José Sánchez Barcoj</td>\n",
       "      <td>2005-11-23</td>\n",
       "      <td>EL CORTE INGLES</td>\n",
       "      <td>972.71</td>\n",
       "    </tr>\n",
       "    <tr>\n",
       "      <th>136</th>\n",
       "      <td>Ildefonso José Sánchez Barcoj</td>\n",
       "      <td>2012-03-15</td>\n",
       "      <td>IBERIA</td>\n",
       "      <td>940.00</td>\n",
       "    </tr>\n",
       "    <tr>\n",
       "      <th>194</th>\n",
       "      <td>Ildefonso José Sánchez Barcoj</td>\n",
       "      <td>2012-04-10</td>\n",
       "      <td>AGENCIAS BANCARIAS(ANTICIPO VENTANILLA)</td>\n",
       "      <td>900.00</td>\n",
       "    </tr>\n",
       "  </tbody>\n",
       "</table>\n",
       "</div>"
      ],
      "text/plain": [
       "                            nombre      fecha  \\\n",
       "309  Ildefonso José Sánchez Barcoj 2009-12-30   \n",
       "207  Ildefonso José Sánchez Barcoj 2010-03-25   \n",
       "74   Ildefonso José Sánchez Barcoj 2007-11-01   \n",
       "212  Ildefonso José Sánchez Barcoj 2009-07-28   \n",
       "216  Ildefonso José Sánchez Barcoj 2011-12-18   \n",
       "137  Ildefonso José Sánchez Barcoj 2004-04-12   \n",
       "211  Ildefonso José Sánchez Barcoj 2008-12-07   \n",
       "91   Ildefonso José Sánchez Barcoj 2005-11-23   \n",
       "136  Ildefonso José Sánchez Barcoj 2012-03-15   \n",
       "194  Ildefonso José Sánchez Barcoj 2012-04-10   \n",
       "\n",
       "                           actividad_completa   importe  \n",
       "309                           EL CORTE INGLES  16921.75  \n",
       "207                           EL CORTE INGLES   4320.50  \n",
       "74                            EL CORTE INGLES   3882.00  \n",
       "212                           EL CORTE INGLES   2750.00  \n",
       "216   AGENCIAS BANCARIAS(ANTICIPO VENTANILLA)   1400.00  \n",
       "137                           EL CORTE INGLES   1218.00  \n",
       "211  HOTELES 4 Y 5 ESTRELLAS,BALNEARIOS,CAMPI   1024.65  \n",
       "91                            EL CORTE INGLES    972.71  \n",
       "136                                    IBERIA    940.00  \n",
       "194   AGENCIAS BANCARIAS(ANTICIPO VENTANILLA)    900.00  "
      ]
     },
     "execution_count": 49,
     "metadata": {},
     "output_type": "execute_result"
    }
   ],
   "source": [
    "df \\\n",
    "    .sort_values('importe', ascending=False) \\\n",
    "    .filter(['nombre', 'fecha', 'actividad_completa', 'importe']) \\\n",
    "    .head(10)"
   ]
  },
  {
   "cell_type": "markdown",
   "metadata": {},
   "source": [
    "### Lectura de una información agregada"
   ]
  },
  {
   "cell_type": "markdown",
   "metadata": {},
   "source": [
    "La información agregada está en un mapa, por lo que tenemos que procesarla y convertirla a formato JSON."
   ]
  },
  {
   "cell_type": "code",
   "execution_count": 50,
   "metadata": {
    "collapsed": false,
    "jupyter": {
     "outputs_hidden": false
    }
   },
   "outputs": [],
   "source": [
    "rows = []\n",
    "for keys in bucket_acum_importes.stream_keys():\n",
    "    #print(keys)\n",
    "    for key in keys:\n",
    "        map_nombre = bucket_acum_importes.get(key)\n",
    "        rows.append({'nombre' : map_nombre.registers['nombre'].value,\n",
    "                     \"importe\" : float(map_nombre.counters['importe'].value) / 100})\n",
    "        \n",
    "# Convertimos el objeto json en un objeto pandas \n",
    "df = json_to_pandas(rows)"
   ]
  },
  {
   "cell_type": "markdown",
   "metadata": {},
   "source": [
    "### Las 10 personas que mas han gastado"
   ]
  },
  {
   "cell_type": "markdown",
   "metadata": {},
   "source": [
    "Fácil si disponemos de un agregado. Utilizamos Pandas para ordenar la información ..,"
   ]
  },
  {
   "cell_type": "code",
   "execution_count": 51,
   "metadata": {
    "collapsed": false,
    "jupyter": {
     "outputs_hidden": false
    }
   },
   "outputs": [
    {
     "data": {
      "text/html": [
       "<div>\n",
       "<style scoped>\n",
       "    .dataframe tbody tr th:only-of-type {\n",
       "        vertical-align: middle;\n",
       "    }\n",
       "\n",
       "    .dataframe tbody tr th {\n",
       "        vertical-align: top;\n",
       "    }\n",
       "\n",
       "    .dataframe thead th {\n",
       "        text-align: right;\n",
       "    }\n",
       "</style>\n",
       "<table border=\"1\" class=\"dataframe\">\n",
       "  <thead>\n",
       "    <tr style=\"text-align: right;\">\n",
       "      <th></th>\n",
       "      <th>nombre</th>\n",
       "      <th>importe</th>\n",
       "    </tr>\n",
       "  </thead>\n",
       "  <tbody>\n",
       "    <tr>\n",
       "      <th>61</th>\n",
       "      <td>Ildefonso José Sánchez Barcoj</td>\n",
       "      <td>71331.33</td>\n",
       "    </tr>\n",
       "    <tr>\n",
       "      <th>51</th>\n",
       "      <td>Miguel Blesa de la Parra</td>\n",
       "      <td>60325.29</td>\n",
       "    </tr>\n",
       "    <tr>\n",
       "      <th>25</th>\n",
       "      <td>Ricardo Morado Iglesias</td>\n",
       "      <td>46435.74</td>\n",
       "    </tr>\n",
       "    <tr>\n",
       "      <th>46</th>\n",
       "      <td>José Antonio Moral Santín</td>\n",
       "      <td>45026.71</td>\n",
       "    </tr>\n",
       "    <tr>\n",
       "      <th>36</th>\n",
       "      <td>Ramón Ferraz Ricarte</td>\n",
       "      <td>44438.94</td>\n",
       "    </tr>\n",
       "    <tr>\n",
       "      <th>43</th>\n",
       "      <td>Matías Amat Roca</td>\n",
       "      <td>42663.76</td>\n",
       "    </tr>\n",
       "    <tr>\n",
       "      <th>52</th>\n",
       "      <td>Mariano Pérez Claver</td>\n",
       "      <td>32121.01</td>\n",
       "    </tr>\n",
       "    <tr>\n",
       "      <th>11</th>\n",
       "      <td>Francisco Baquero Noriega</td>\n",
       "      <td>31558.70</td>\n",
       "    </tr>\n",
       "    <tr>\n",
       "      <th>72</th>\n",
       "      <td>Carmen Contreras Gómez</td>\n",
       "      <td>30159.02</td>\n",
       "    </tr>\n",
       "    <tr>\n",
       "      <th>12</th>\n",
       "      <td>Antonio Romero Lázaro</td>\n",
       "      <td>27954.38</td>\n",
       "    </tr>\n",
       "  </tbody>\n",
       "</table>\n",
       "</div>"
      ],
      "text/plain": [
       "                           nombre   importe\n",
       "61  Ildefonso José Sánchez Barcoj  71331.33\n",
       "51       Miguel Blesa de la Parra  60325.29\n",
       "25        Ricardo Morado Iglesias  46435.74\n",
       "46      José Antonio Moral Santín  45026.71\n",
       "36           Ramón Ferraz Ricarte  44438.94\n",
       "43               Matías Amat Roca  42663.76\n",
       "52           Mariano Pérez Claver  32121.01\n",
       "11      Francisco Baquero Noriega  31558.70\n",
       "72         Carmen Contreras Gómez  30159.02\n",
       "12          Antonio Romero Lázaro  27954.38"
      ]
     },
     "execution_count": 51,
     "metadata": {},
     "output_type": "execute_result"
    }
   ],
   "source": [
    "df.sort_values('importe', ascending=False).head(10)"
   ]
  },
  {
   "cell_type": "code",
   "execution_count": null,
   "metadata": {},
   "outputs": [],
   "source": []
  }
 ],
 "metadata": {
  "kernelspec": {
   "display_name": "Python 3",
   "language": "python",
   "name": "python3"
  },
  "language_info": {
   "codemirror_mode": {
    "name": "ipython",
    "version": 3
   },
   "file_extension": ".py",
   "mimetype": "text/x-python",
   "name": "python",
   "nbconvert_exporter": "python",
   "pygments_lexer": "ipython3",
   "version": "3.6.9"
  }
 },
 "nbformat": 4,
 "nbformat_minor": 4
}
