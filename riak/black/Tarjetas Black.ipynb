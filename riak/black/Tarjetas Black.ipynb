{
 "cells": [
  {
   "cell_type": "markdown",
   "metadata": {},
   "source": [
    "# Riak"
   ]
  },
  {
   "cell_type": "code",
   "execution_count": 1,
   "metadata": {
    "collapsed": true
   },
   "outputs": [],
   "source": [
    "import riak\n",
    "from pprintpp import pprint as pp\n",
    "import json\n",
    "import pandas as pd\n",
    "\n",
    "import uuid\n",
    "import hashlib"
   ]
  },
  {
   "cell_type": "markdown",
   "metadata": {},
   "source": [
    "## Lectura de información en Pandas"
   ]
  },
  {
   "cell_type": "markdown",
   "metadata": {},
   "source": [
    "Partimos del dataset normalizado y lo desnormalizamos para guardarlo todo junto en RIAK"
   ]
  },
  {
   "cell_type": "code",
   "execution_count": 2,
   "metadata": {
    "collapsed": false
   },
   "outputs": [
    {
     "name": "stdout",
     "output_type": "stream",
     "text": [
      "<class 'pandas.core.frame.DataFrame'>\n",
      "Int64Index: 7624 entries, 0 to 7623\n",
      "Data columns (total 11 columns):\n",
      "id_miembro            7624 non-null int64\n",
      "fecha                 7624 non-null datetime64[ns]\n",
      "minuto                7624 non-null int64\n",
      "hora                  7624 non-null int64\n",
      "importe               7624 non-null float64\n",
      "comercio              6889 non-null object\n",
      "actividad_completa    7623 non-null object\n",
      "actividad             7623 non-null object\n",
      "nombre                7624 non-null object\n",
      "funcion               7624 non-null object\n",
      "organizacion          6041 non-null object\n",
      "dtypes: datetime64[ns](1), float64(1), int64(3), object(6)\n",
      "memory usage: 714.8+ KB\n"
     ]
    }
   ],
   "source": [
    "df_mov = pd.read_excel(\"../../data/black.xlsx\", sheetname= \"Movimientos\")\n",
    "df_miembros = pd.read_excel(\"../../data/black.xlsx\", sheetname= \"Miembros\")\n",
    "df = pd.merge(df_mov, df_miembros, on = ['id_miembro'], how = 'inner')\n",
    "df.info()"
   ]
  },
  {
   "cell_type": "code",
   "execution_count": 3,
   "metadata": {
    "collapsed": false
   },
   "outputs": [
    {
     "data": {
      "text/html": [
       "<div>\n",
       "<style>\n",
       "    .dataframe thead tr:only-child th {\n",
       "        text-align: right;\n",
       "    }\n",
       "\n",
       "    .dataframe thead th {\n",
       "        text-align: left;\n",
       "    }\n",
       "\n",
       "    .dataframe tbody tr th {\n",
       "        vertical-align: top;\n",
       "    }\n",
       "</style>\n",
       "<table border=\"1\" class=\"dataframe\">\n",
       "  <thead>\n",
       "    <tr style=\"text-align: right;\">\n",
       "      <th></th>\n",
       "      <th>id_miembro</th>\n",
       "      <th>fecha</th>\n",
       "      <th>minuto</th>\n",
       "      <th>hora</th>\n",
       "      <th>importe</th>\n",
       "      <th>comercio</th>\n",
       "      <th>actividad_completa</th>\n",
       "      <th>actividad</th>\n",
       "      <th>nombre</th>\n",
       "      <th>funcion</th>\n",
       "      <th>organizacion</th>\n",
       "    </tr>\n",
       "  </thead>\n",
       "  <tbody>\n",
       "    <tr>\n",
       "      <th>0</th>\n",
       "      <td>30</td>\n",
       "      <td>2009-09-14</td>\n",
       "      <td>52</td>\n",
       "      <td>9</td>\n",
       "      <td>19.26</td>\n",
       "      <td>FARMACIA M JESUS MARTINEZ</td>\n",
       "      <td>FARMACIAS</td>\n",
       "      <td>SALUD</td>\n",
       "      <td>Jesús Pedroche Nieto</td>\n",
       "      <td>concejal</td>\n",
       "      <td>Partido Popular</td>\n",
       "    </tr>\n",
       "    <tr>\n",
       "      <th>1</th>\n",
       "      <td>30</td>\n",
       "      <td>2009-06-04</td>\n",
       "      <td>22</td>\n",
       "      <td>16</td>\n",
       "      <td>55.00</td>\n",
       "      <td>EL CORTE INGLES</td>\n",
       "      <td>EL CORTE INGLES</td>\n",
       "      <td>COMPRA BIENES</td>\n",
       "      <td>Jesús Pedroche Nieto</td>\n",
       "      <td>concejal</td>\n",
       "      <td>Partido Popular</td>\n",
       "    </tr>\n",
       "    <tr>\n",
       "      <th>2</th>\n",
       "      <td>30</td>\n",
       "      <td>2011-08-26</td>\n",
       "      <td>3</td>\n",
       "      <td>14</td>\n",
       "      <td>10.05</td>\n",
       "      <td>IBERPISTAS, S.A.C.E.</td>\n",
       "      <td>AUTOPISTAS (TERMINALES)</td>\n",
       "      <td>COCHE</td>\n",
       "      <td>Jesús Pedroche Nieto</td>\n",
       "      <td>concejal</td>\n",
       "      <td>Partido Popular</td>\n",
       "    </tr>\n",
       "    <tr>\n",
       "      <th>3</th>\n",
       "      <td>30</td>\n",
       "      <td>2011-09-21</td>\n",
       "      <td>44</td>\n",
       "      <td>23</td>\n",
       "      <td>19.90</td>\n",
       "      <td>JUTECO</td>\n",
       "      <td>BODYBELL JUTECO</td>\n",
       "      <td>ESTETICA</td>\n",
       "      <td>Jesús Pedroche Nieto</td>\n",
       "      <td>concejal</td>\n",
       "      <td>Partido Popular</td>\n",
       "    </tr>\n",
       "    <tr>\n",
       "      <th>4</th>\n",
       "      <td>30</td>\n",
       "      <td>2008-12-19</td>\n",
       "      <td>37</td>\n",
       "      <td>11</td>\n",
       "      <td>153.00</td>\n",
       "      <td>DELSA NEBLI</td>\n",
       "      <td>LIBRERIAS, PAPELERIAS Y DISCOS</td>\n",
       "      <td>LIBRERIA</td>\n",
       "      <td>Jesús Pedroche Nieto</td>\n",
       "      <td>concejal</td>\n",
       "      <td>Partido Popular</td>\n",
       "    </tr>\n",
       "  </tbody>\n",
       "</table>\n",
       "</div>"
      ],
      "text/plain": [
       "   id_miembro      fecha  minuto  hora  importe                   comercio  \\\n",
       "0          30 2009-09-14      52     9    19.26  FARMACIA M JESUS MARTINEZ   \n",
       "1          30 2009-06-04      22    16    55.00            EL CORTE INGLES   \n",
       "2          30 2011-08-26       3    14    10.05       IBERPISTAS, S.A.C.E.   \n",
       "3          30 2011-09-21      44    23    19.90                     JUTECO   \n",
       "4          30 2008-12-19      37    11   153.00                DELSA NEBLI   \n",
       "\n",
       "               actividad_completa      actividad                nombre  \\\n",
       "0                       FARMACIAS          SALUD  Jesús Pedroche Nieto   \n",
       "1                 EL CORTE INGLES  COMPRA BIENES  Jesús Pedroche Nieto   \n",
       "2         AUTOPISTAS (TERMINALES)          COCHE  Jesús Pedroche Nieto   \n",
       "3                 BODYBELL JUTECO       ESTETICA  Jesús Pedroche Nieto   \n",
       "4  LIBRERIAS, PAPELERIAS Y DISCOS       LIBRERIA  Jesús Pedroche Nieto   \n",
       "\n",
       "    funcion     organizacion  \n",
       "0  concejal  Partido Popular  \n",
       "1  concejal  Partido Popular  \n",
       "2  concejal  Partido Popular  \n",
       "3  concejal  Partido Popular  \n",
       "4  concejal  Partido Popular  "
      ]
     },
     "execution_count": 3,
     "metadata": {},
     "output_type": "execute_result"
    }
   ],
   "source": [
    "df.head(5)"
   ]
  },
  {
   "cell_type": "markdown",
   "metadata": {},
   "source": [
    "## Riak ..."
   ]
  },
  {
   "cell_type": "code",
   "execution_count": 4,
   "metadata": {
    "collapsed": false
   },
   "outputs": [
    {
     "data": {
      "text/plain": [
       "True"
      ]
     },
     "execution_count": 4,
     "metadata": {},
     "output_type": "execute_result"
    }
   ],
   "source": [
    "# connect to database\n",
    "cliente = riak.RiakClient()\n",
    "cliente.ping()"
   ]
  },
  {
   "cell_type": "markdown",
   "metadata": {},
   "source": [
    "Utilizamos un bucket para guardar los movimientos en formato JSON y otro para guardar el importe acumulado por miembro.\n",
    "\n",
    "En el bucket de movimientos utilizamos una clave autogenerada (no vamos a poder localizar los movimientos por clave) y en el bucket con el importe acumulado la clave es el nombre de la persona en formato HASH, para no tener problemas ni con los espacios del nombre ni con los acentos\n",
    "\n",
    "Se van a crear los siguientes buckets:\n",
    "\n",
    "|bucket|Clave|Contenido|\n",
    "|-|-|-|\n",
    "|movimientos|Marca temporal|Todos los datos del dataset en formnato JSON y desnormalizados|\n",
    "|acum_importes|Código HASH de la persona que realiza el movimiento|Mapa con el nombre de la persona y el importe acumulado|\n",
    "\n",
    "El bucket de tweets tendrá los siguientes índices:\n",
    "\n",
    "|Nombre del índice|Contenido|¿Que busquedas permite hacer?|\n",
    "|-|-|-|\n",
    "|idx_miembro_bin|Nombre de la persona|Localizar movimientos de una persona concreta|"
   ]
  },
  {
   "cell_type": "code",
   "execution_count": 5,
   "metadata": {
    "collapsed": false
   },
   "outputs": [],
   "source": [
    "BUCKET_MOVIMIENTOS = 'movimientos'\n",
    "BUCKET_ACUM_IMPORTES = 'acum_importes'\n",
    "\n",
    "bucket_mov = cliente.bucket(BUCKET_MOVIMIENTOS)\n",
    "bucket_acum_importes = cliente.bucket_type('maps').bucket(BUCKET_ACUM_IMPORTES)"
   ]
  },
  {
   "cell_type": "markdown",
   "metadata": {},
   "source": [
    "Función para eliminar los datos de un BUCKET de Riak"
   ]
  },
  {
   "cell_type": "code",
   "execution_count": 6,
   "metadata": {
    "collapsed": false
   },
   "outputs": [],
   "source": [
    "def drop_keys(bucket):\n",
    "    for keys in bucket.stream_keys():\n",
    "        # print(keys)\n",
    "        for keys in bucket.stream_keys():\n",
    "            for key in keys:\n",
    "                bucket.delete(key)"
   ]
  },
  {
   "cell_type": "code",
   "execution_count": 7,
   "metadata": {
    "collapsed": false
   },
   "outputs": [],
   "source": [
    "# Borramos los datos ..\n",
    "drop_keys(bucket_mov)\n",
    "drop_keys(bucket_acum_importes)"
   ]
  },
  {
   "cell_type": "markdown",
   "metadata": {},
   "source": [
    "## Inserción de información en Riak"
   ]
  },
  {
   "cell_type": "markdown",
   "metadata": {},
   "source": [
    "Para generar los datos en formato JSON partimos del DataFrame de Pandas y lo exportamos a JSON (en formato String) para luego cargarlo en un diccionario de Python\n",
    "\n",
    "Observa que cuando se genera el dato en formato JSON, los campos fechas se almacenan como un [TIMESTAMP de unix](http://www.unixtimestamp.com), por lo que habría que volver a convertirlo a fecha según el caso"
   ]
  },
  {
   "cell_type": "code",
   "execution_count": 8,
   "metadata": {
    "collapsed": false
   },
   "outputs": [],
   "source": [
    "json_string = df.to_json(orient = 'records')\n",
    "json_list = json.loads(json_string)"
   ]
  },
  {
   "cell_type": "code",
   "execution_count": 9,
   "metadata": {
    "collapsed": false
   },
   "outputs": [
    {
     "name": "stdout",
     "output_type": "stream",
     "text": [
      "7624\n"
     ]
    }
   ],
   "source": [
    "print(len(json_list))"
   ]
  },
  {
   "cell_type": "code",
   "execution_count": 10,
   "metadata": {
    "collapsed": false
   },
   "outputs": [
    {
     "name": "stdout",
     "output_type": "stream",
     "text": [
      "{\n",
      "    u'actividad': u'SALUD',\n",
      "    u'actividad_completa': u'FARMACIAS',\n",
      "    u'comercio': u'FARMACIA M JESUS MARTINEZ',\n",
      "    u'fecha': 1252886400000,\n",
      "    u'funcion': u'concejal',\n",
      "    u'hora': 9,\n",
      "    u'id_miembro': 30,\n",
      "    u'importe': 19.26,\n",
      "    u'minuto': 52,\n",
      "    u'nombre': u'Jesús Pedroche Nieto',\n",
      "    u'organizacion': u'Partido Popular',\n",
      "}\n"
     ]
    }
   ],
   "source": [
    "pp(json_list[0])"
   ]
  },
  {
   "cell_type": "markdown",
   "metadata": {},
   "source": [
    "Vamos a utilizar el nombre de la persona como clave, por lo que necesitamos convertirla previamente a un código que no lleve ni espacios ni acentos.\n",
    "\n",
    "Este es precisamente el objetivo de la siguiente función ..."
   ]
  },
  {
   "cell_type": "code",
   "execution_count": 11,
   "metadata": {
    "collapsed": true
   },
   "outputs": [],
   "source": [
    "def hash_string(s):\n",
    "    s_utf8 = s.encode('utf-8')\n",
    "    return hashlib.md5(s_utf8).hexdigest()"
   ]
  },
  {
   "cell_type": "markdown",
   "metadata": {},
   "source": [
    "Recorremos el dataset de movimientos, almacenando la información tanto en el bucket de movimientos como en el bucket que acumula los movimientos por cliente.\n",
    "\n",
    "En este último utilizamos una funcionalidad que nos da Riak para guardar la información tipificada. Utilizamos un mapa que tiene dos elementos: Un registro donde guardamos el nombre del cliente y un contador donde guardamos el importe (sin decimales)"
   ]
  },
  {
   "cell_type": "code",
   "execution_count": 13,
   "metadata": {
    "collapsed": false
   },
   "outputs": [],
   "source": [
    "# Bucle de carga de datos ...\n",
    "for movimiento_json in json_list:\n",
    "    key = uuid.uuid1().hex\n",
    "    hash_nombre =  hash_string(movimiento_json[\"nombre\"])\n",
    "    \n",
    "    movimiento = bucket_mov.new(key, movimiento_json)\n",
    "    movimiento.add_index('idx_miembro_bin', hash_nombre)\n",
    "    movimiento.store()\n",
    "    \n",
    "    map_nombre = bucket_acum_importes.new(hash_nombre)\n",
    "    map_nombre.registers['nombre'].assign(movimiento_json[\"nombre\"].encode('utf-8'))\n",
    "    map_nombre.counters['importe'].increment(int(round(movimiento_json[\"importe\"] * 100)))\n",
    "    map_nombre.store()\n",
    "    "
   ]
  },
  {
   "cell_type": "markdown",
   "metadata": {},
   "source": [
    "# Lectura de información en Riak"
   ]
  },
  {
   "cell_type": "markdown",
   "metadata": {},
   "source": [
    "En la siguiente función partimos del objeto JSON que nos devuelve RIAK y generamos un DataFrame Pandas.\n",
    "\n",
    "En el caso de la fecha, lo convertimos desde un UNIX Timestamp al formato correcto para Pandas"
   ]
  },
  {
   "cell_type": "code",
   "execution_count": 14,
   "metadata": {
    "collapsed": true
   },
   "outputs": [],
   "source": [
    "def json_to_pandas(rows):\n",
    "    # Convertimos el objeto JSON en un objeto pandas \n",
    "    df = pd.read_json(json.dumps(rows))\n",
    "    \n",
    "    if 'fecha' in df.columns:\n",
    "        # Las fechas están en formato UNIX TIMESTAMP. Las volvemos a convertir a formato Date...\n",
    "        df = df.assign(fecha = pd.to_datetime(df.fecha, unit = 'ms'))\n",
    "\n",
    "    return df"
   ]
  },
  {
   "cell_type": "markdown",
   "metadata": {},
   "source": [
    "### Lectura del bucket de movimientos"
   ]
  },
  {
   "cell_type": "markdown",
   "metadata": {},
   "source": [
    "Cargamos todos los movimientos de la base de datos y lo guardamos en un objeto Pandas, ya que hay ciertas preguntas que no pueden resolverse directamente por esta base de datos\n",
    "\n",
    "Recuerda que RIAK permite obtener información de un clave, pero no le es posible devolver la información ordenada ..."
   ]
  },
  {
   "cell_type": "code",
   "execution_count": 15,
   "metadata": {
    "collapsed": false
   },
   "outputs": [],
   "source": [
    "rows = []\n",
    "for keys in bucket_mov.stream_keys():\n",
    "    for key in keys:\n",
    "        # print('Key %s' % key )\n",
    "        rows.append(bucket_mov.get(key).data)\n",
    "        \n",
    "# Convertimos el objeto json en un objeto pandas \n",
    "df_movimientos = json_to_pandas(rows)"
   ]
  },
  {
   "cell_type": "code",
   "execution_count": 16,
   "metadata": {
    "collapsed": false
   },
   "outputs": [
    {
     "data": {
      "text/html": [
       "<div>\n",
       "<style>\n",
       "    .dataframe thead tr:only-child th {\n",
       "        text-align: right;\n",
       "    }\n",
       "\n",
       "    .dataframe thead th {\n",
       "        text-align: left;\n",
       "    }\n",
       "\n",
       "    .dataframe tbody tr th {\n",
       "        vertical-align: top;\n",
       "    }\n",
       "</style>\n",
       "<table border=\"1\" class=\"dataframe\">\n",
       "  <thead>\n",
       "    <tr style=\"text-align: right;\">\n",
       "      <th></th>\n",
       "      <th>actividad</th>\n",
       "      <th>actividad_completa</th>\n",
       "      <th>comercio</th>\n",
       "      <th>fecha</th>\n",
       "      <th>funcion</th>\n",
       "      <th>hora</th>\n",
       "      <th>id_miembro</th>\n",
       "      <th>importe</th>\n",
       "      <th>minuto</th>\n",
       "      <th>nombre</th>\n",
       "      <th>organizacion</th>\n",
       "    </tr>\n",
       "  </thead>\n",
       "  <tbody>\n",
       "    <tr>\n",
       "      <th>0</th>\n",
       "      <td>SUPERMERCADO</td>\n",
       "      <td>HIPERCOR SUPERMERCADOS EL CORTE INGLES</td>\n",
       "      <td>EL CORTE INGLES</td>\n",
       "      <td>2004-01-22</td>\n",
       "      <td>directivo</td>\n",
       "      <td>14</td>\n",
       "      <td>28</td>\n",
       "      <td>236.41</td>\n",
       "      <td>10</td>\n",
       "      <td>Ildefonso José Sánchez Barcoj</td>\n",
       "      <td>None</td>\n",
       "    </tr>\n",
       "    <tr>\n",
       "      <th>1</th>\n",
       "      <td>COCHE</td>\n",
       "      <td>GASOLINERAS</td>\n",
       "      <td>None</td>\n",
       "      <td>2010-08-13</td>\n",
       "      <td>directivo</td>\n",
       "      <td>14</td>\n",
       "      <td>28</td>\n",
       "      <td>73.51</td>\n",
       "      <td>34</td>\n",
       "      <td>Ildefonso José Sánchez Barcoj</td>\n",
       "      <td>None</td>\n",
       "    </tr>\n",
       "    <tr>\n",
       "      <th>2</th>\n",
       "      <td>SALIDAS</td>\n",
       "      <td>ESPECTACULOS Y DEPORTES</td>\n",
       "      <td>TICKETMASTER ENTRADAS WEB</td>\n",
       "      <td>2007-03-08</td>\n",
       "      <td>directivo</td>\n",
       "      <td>18</td>\n",
       "      <td>28</td>\n",
       "      <td>15.30</td>\n",
       "      <td>18</td>\n",
       "      <td>Ildefonso José Sánchez Barcoj</td>\n",
       "      <td>None</td>\n",
       "    </tr>\n",
       "    <tr>\n",
       "      <th>3</th>\n",
       "      <td>COCHE</td>\n",
       "      <td>AUTOPISTAS (TERMINALES)</td>\n",
       "      <td>AUTOPISTAS AUMAR SA</td>\n",
       "      <td>2003-11-03</td>\n",
       "      <td>directivo</td>\n",
       "      <td>15</td>\n",
       "      <td>28</td>\n",
       "      <td>4.50</td>\n",
       "      <td>49</td>\n",
       "      <td>Ildefonso José Sánchez Barcoj</td>\n",
       "      <td>None</td>\n",
       "    </tr>\n",
       "    <tr>\n",
       "      <th>4</th>\n",
       "      <td>ROPA</td>\n",
       "      <td>CONFECCION TEXTIL EN GENERAL</td>\n",
       "      <td>TIENDAS NIKE - ARONA</td>\n",
       "      <td>2009-12-05</td>\n",
       "      <td>directivo</td>\n",
       "      <td>1</td>\n",
       "      <td>28</td>\n",
       "      <td>162.80</td>\n",
       "      <td>58</td>\n",
       "      <td>Ildefonso José Sánchez Barcoj</td>\n",
       "      <td>None</td>\n",
       "    </tr>\n",
       "  </tbody>\n",
       "</table>\n",
       "</div>"
      ],
      "text/plain": [
       "      actividad                      actividad_completa  \\\n",
       "0  SUPERMERCADO  HIPERCOR SUPERMERCADOS EL CORTE INGLES   \n",
       "1         COCHE                             GASOLINERAS   \n",
       "2       SALIDAS                 ESPECTACULOS Y DEPORTES   \n",
       "3         COCHE                 AUTOPISTAS (TERMINALES)   \n",
       "4          ROPA            CONFECCION TEXTIL EN GENERAL   \n",
       "\n",
       "                    comercio      fecha    funcion  hora  id_miembro  importe  \\\n",
       "0            EL CORTE INGLES 2004-01-22  directivo    14          28   236.41   \n",
       "1                       None 2010-08-13  directivo    14          28    73.51   \n",
       "2  TICKETMASTER ENTRADAS WEB 2007-03-08  directivo    18          28    15.30   \n",
       "3        AUTOPISTAS AUMAR SA 2003-11-03  directivo    15          28     4.50   \n",
       "4       TIENDAS NIKE - ARONA 2009-12-05  directivo     1          28   162.80   \n",
       "\n",
       "   minuto                         nombre organizacion  \n",
       "0      10  Ildefonso José Sánchez Barcoj         None  \n",
       "1      34  Ildefonso José Sánchez Barcoj         None  \n",
       "2      18  Ildefonso José Sánchez Barcoj         None  \n",
       "3      49  Ildefonso José Sánchez Barcoj         None  \n",
       "4      58  Ildefonso José Sánchez Barcoj         None  "
      ]
     },
     "execution_count": 16,
     "metadata": {},
     "output_type": "execute_result"
    }
   ],
   "source": [
    "df_movimientos.head()"
   ]
  },
  {
   "cell_type": "markdown",
   "metadata": {},
   "source": [
    "### Los 10 movimientos mas caros"
   ]
  },
  {
   "cell_type": "markdown",
   "metadata": {},
   "source": [
    "Esta consulta no la podemos contestar directamente con la Base de Datos por lo que nos apoyamos en un proceso en el cliente"
   ]
  },
  {
   "cell_type": "code",
   "execution_count": 17,
   "metadata": {
    "collapsed": false
   },
   "outputs": [
    {
     "data": {
      "text/html": [
       "<div>\n",
       "<style>\n",
       "    .dataframe thead tr:only-child th {\n",
       "        text-align: right;\n",
       "    }\n",
       "\n",
       "    .dataframe thead th {\n",
       "        text-align: left;\n",
       "    }\n",
       "\n",
       "    .dataframe tbody tr th {\n",
       "        vertical-align: top;\n",
       "    }\n",
       "</style>\n",
       "<table border=\"1\" class=\"dataframe\">\n",
       "  <thead>\n",
       "    <tr style=\"text-align: right;\">\n",
       "      <th></th>\n",
       "      <th>nombre</th>\n",
       "      <th>fecha</th>\n",
       "      <th>actividad_completa</th>\n",
       "      <th>importe</th>\n",
       "    </tr>\n",
       "  </thead>\n",
       "  <tbody>\n",
       "    <tr>\n",
       "      <th>3281</th>\n",
       "      <td>Ricardo Romero de Tejada y Picatoste</td>\n",
       "      <td>2007-11-25</td>\n",
       "      <td>AGENCIAS BANCARIAS(ANTICIPO VENTANILLA)</td>\n",
       "      <td>11930.00</td>\n",
       "    </tr>\n",
       "    <tr>\n",
       "      <th>4151</th>\n",
       "      <td>Carlos Vela García</td>\n",
       "      <td>2006-11-01</td>\n",
       "      <td>VIAJES MARSANS-INTERNACIONAL EXPRESSO</td>\n",
       "      <td>9825.00</td>\n",
       "    </tr>\n",
       "    <tr>\n",
       "      <th>4299</th>\n",
       "      <td>Ildefonso José Sánchez Barcoj</td>\n",
       "      <td>2009-03-30</td>\n",
       "      <td>EL CORTE INGLES</td>\n",
       "      <td>9804.15</td>\n",
       "    </tr>\n",
       "    <tr>\n",
       "      <th>1093</th>\n",
       "      <td>Carmen Contreras Gómez</td>\n",
       "      <td>2010-08-15</td>\n",
       "      <td>HOTELES 4 Y 5 ESTRELLAS,BALNEARIOS,CAMPI</td>\n",
       "      <td>9076.76</td>\n",
       "    </tr>\n",
       "    <tr>\n",
       "      <th>6751</th>\n",
       "      <td>Enrique de la Torre Martínez</td>\n",
       "      <td>2006-11-29</td>\n",
       "      <td>AGENCIAS BANCARIAS(ANTICIPO VENTANILLA)</td>\n",
       "      <td>8000.00</td>\n",
       "    </tr>\n",
       "    <tr>\n",
       "      <th>782</th>\n",
       "      <td>Ildefonso José Sánchez Barcoj</td>\n",
       "      <td>2005-07-19</td>\n",
       "      <td>AGENCIAS BANCARIAS(ANTICIPO VENTANILLA)</td>\n",
       "      <td>7200.00</td>\n",
       "    </tr>\n",
       "    <tr>\n",
       "      <th>6817</th>\n",
       "      <td>Miguel Blesa de la Parra</td>\n",
       "      <td>2007-08-02</td>\n",
       "      <td>EL CORTE INGLES</td>\n",
       "      <td>6990.87</td>\n",
       "    </tr>\n",
       "    <tr>\n",
       "      <th>5627</th>\n",
       "      <td>María Elena Gil García</td>\n",
       "      <td>2004-03-30</td>\n",
       "      <td>JOYERIAS Y RELOJERIAS</td>\n",
       "      <td>6905.72</td>\n",
       "    </tr>\n",
       "    <tr>\n",
       "      <th>3842</th>\n",
       "      <td>Enrique de la Torre Martínez</td>\n",
       "      <td>2005-11-24</td>\n",
       "      <td>AGENCIAS BANCARIAS(ANTICIPO VENTANILLA)</td>\n",
       "      <td>6000.00</td>\n",
       "    </tr>\n",
       "    <tr>\n",
       "      <th>3757</th>\n",
       "      <td>María Elena Gil García</td>\n",
       "      <td>2003-08-28</td>\n",
       "      <td>JOYERIAS Y RELOJERIAS</td>\n",
       "      <td>6000.00</td>\n",
       "    </tr>\n",
       "  </tbody>\n",
       "</table>\n",
       "</div>"
      ],
      "text/plain": [
       "                                    nombre      fecha  \\\n",
       "3281  Ricardo Romero de Tejada y Picatoste 2007-11-25   \n",
       "4151                    Carlos Vela García 2006-11-01   \n",
       "4299         Ildefonso José Sánchez Barcoj 2009-03-30   \n",
       "1093                Carmen Contreras Gómez 2010-08-15   \n",
       "6751          Enrique de la Torre Martínez 2006-11-29   \n",
       "782          Ildefonso José Sánchez Barcoj 2005-07-19   \n",
       "6817              Miguel Blesa de la Parra 2007-08-02   \n",
       "5627                María Elena Gil García 2004-03-30   \n",
       "3842          Enrique de la Torre Martínez 2005-11-24   \n",
       "3757                María Elena Gil García 2003-08-28   \n",
       "\n",
       "                            actividad_completa   importe  \n",
       "3281   AGENCIAS BANCARIAS(ANTICIPO VENTANILLA)  11930.00  \n",
       "4151     VIAJES MARSANS-INTERNACIONAL EXPRESSO   9825.00  \n",
       "4299                           EL CORTE INGLES   9804.15  \n",
       "1093  HOTELES 4 Y 5 ESTRELLAS,BALNEARIOS,CAMPI   9076.76  \n",
       "6751   AGENCIAS BANCARIAS(ANTICIPO VENTANILLA)   8000.00  \n",
       "782    AGENCIAS BANCARIAS(ANTICIPO VENTANILLA)   7200.00  \n",
       "6817                           EL CORTE INGLES   6990.87  \n",
       "5627                     JOYERIAS Y RELOJERIAS   6905.72  \n",
       "3842   AGENCIAS BANCARIAS(ANTICIPO VENTANILLA)   6000.00  \n",
       "3757                     JOYERIAS Y RELOJERIAS   6000.00  "
      ]
     },
     "execution_count": 17,
     "metadata": {},
     "output_type": "execute_result"
    }
   ],
   "source": [
    "df_movimientos.sort_values('importe', ascending=False)[['nombre', 'fecha', 'actividad_completa', 'importe']].head(10)"
   ]
  },
  {
   "cell_type": "markdown",
   "metadata": {},
   "source": [
    "### Lectura a través de un índice"
   ]
  },
  {
   "cell_type": "code",
   "execution_count": 18,
   "metadata": {
    "collapsed": false
   },
   "outputs": [],
   "source": [
    "rows = []\n",
    "keys = bucket_mov.stream_index(\"idx_miembro_bin\", hash_string(u\"Javier de Miguel Sánchez\"))\n",
    "for keys in keys.results:\n",
    "    for movimiento_key in keys:\n",
    "        rows.append(bucket_mov.get(movimiento_key).data)\n",
    "    \n",
    "df = json_to_pandas(rows)"
   ]
  },
  {
   "cell_type": "markdown",
   "metadata": {},
   "source": [
    "### Los movimientos de una persona concreta"
   ]
  },
  {
   "cell_type": "markdown",
   "metadata": {},
   "source": [
    "Para obtener los movimientos de una persona en concreto si podemos utilizar el índice que habíamos creado Ad-hoc, aunque la ordenación se realiza en Pandas"
   ]
  },
  {
   "cell_type": "code",
   "execution_count": 19,
   "metadata": {
    "collapsed": false
   },
   "outputs": [
    {
     "data": {
      "text/html": [
       "<div>\n",
       "<style>\n",
       "    .dataframe thead tr:only-child th {\n",
       "        text-align: right;\n",
       "    }\n",
       "\n",
       "    .dataframe thead th {\n",
       "        text-align: left;\n",
       "    }\n",
       "\n",
       "    .dataframe tbody tr th {\n",
       "        vertical-align: top;\n",
       "    }\n",
       "</style>\n",
       "<table border=\"1\" class=\"dataframe\">\n",
       "  <thead>\n",
       "    <tr style=\"text-align: right;\">\n",
       "      <th></th>\n",
       "      <th>nombre</th>\n",
       "      <th>fecha</th>\n",
       "      <th>actividad_completa</th>\n",
       "      <th>importe</th>\n",
       "    </tr>\n",
       "  </thead>\n",
       "  <tbody>\n",
       "    <tr>\n",
       "      <th>145</th>\n",
       "      <td>Javier de Miguel Sánchez</td>\n",
       "      <td>2008-06-12</td>\n",
       "      <td>ELECTRODOMESTICOS,EQUIPOS ELECTRICOS</td>\n",
       "      <td>572.00</td>\n",
       "    </tr>\n",
       "    <tr>\n",
       "      <th>163</th>\n",
       "      <td>Javier de Miguel Sánchez</td>\n",
       "      <td>2006-05-01</td>\n",
       "      <td>HOTELES,MOTELES,BALNEARIOS,CAMPINGS REST</td>\n",
       "      <td>571.65</td>\n",
       "    </tr>\n",
       "    <tr>\n",
       "      <th>22</th>\n",
       "      <td>Javier de Miguel Sánchez</td>\n",
       "      <td>2003-09-30</td>\n",
       "      <td>AUTOM.Y MOTOCICLETAS ( VENTAS Y REPARAC)</td>\n",
       "      <td>417.88</td>\n",
       "    </tr>\n",
       "    <tr>\n",
       "      <th>87</th>\n",
       "      <td>Javier de Miguel Sánchez</td>\n",
       "      <td>2010-01-12</td>\n",
       "      <td>MATERIALES CONSTRUCCION,FONTANERIA,SANEA</td>\n",
       "      <td>383.00</td>\n",
       "    </tr>\n",
       "    <tr>\n",
       "      <th>106</th>\n",
       "      <td>Javier de Miguel Sánchez</td>\n",
       "      <td>2006-12-08</td>\n",
       "      <td>EL CORTE INGLES</td>\n",
       "      <td>304.66</td>\n",
       "    </tr>\n",
       "    <tr>\n",
       "      <th>147</th>\n",
       "      <td>Javier de Miguel Sánchez</td>\n",
       "      <td>2008-03-16</td>\n",
       "      <td>HOTELES 4 Y 5 ESTRELLAS,BALNEARIOS,CAMPI</td>\n",
       "      <td>287.07</td>\n",
       "    </tr>\n",
       "    <tr>\n",
       "      <th>90</th>\n",
       "      <td>Javier de Miguel Sánchez</td>\n",
       "      <td>2009-06-19</td>\n",
       "      <td>HIPERCOR SUPERMERCADOS EL CORTE INGLES</td>\n",
       "      <td>283.00</td>\n",
       "    </tr>\n",
       "    <tr>\n",
       "      <th>85</th>\n",
       "      <td>Javier de Miguel Sánchez</td>\n",
       "      <td>2009-12-22</td>\n",
       "      <td>MATERIALES CONSTRUCCION,FONTANERIA,SANEA</td>\n",
       "      <td>272.85</td>\n",
       "    </tr>\n",
       "    <tr>\n",
       "      <th>41</th>\n",
       "      <td>Javier de Miguel Sánchez</td>\n",
       "      <td>2003-08-13</td>\n",
       "      <td>HOTELES,MOTELES,BALNEARIOS,CAMPINGS REST</td>\n",
       "      <td>268.00</td>\n",
       "    </tr>\n",
       "    <tr>\n",
       "      <th>155</th>\n",
       "      <td>Javier de Miguel Sánchez</td>\n",
       "      <td>2009-08-16</td>\n",
       "      <td>PARADORES NACIONALES</td>\n",
       "      <td>250.38</td>\n",
       "    </tr>\n",
       "  </tbody>\n",
       "</table>\n",
       "</div>"
      ],
      "text/plain": [
       "                       nombre      fecha  \\\n",
       "145  Javier de Miguel Sánchez 2008-06-12   \n",
       "163  Javier de Miguel Sánchez 2006-05-01   \n",
       "22   Javier de Miguel Sánchez 2003-09-30   \n",
       "87   Javier de Miguel Sánchez 2010-01-12   \n",
       "106  Javier de Miguel Sánchez 2006-12-08   \n",
       "147  Javier de Miguel Sánchez 2008-03-16   \n",
       "90   Javier de Miguel Sánchez 2009-06-19   \n",
       "85   Javier de Miguel Sánchez 2009-12-22   \n",
       "41   Javier de Miguel Sánchez 2003-08-13   \n",
       "155  Javier de Miguel Sánchez 2009-08-16   \n",
       "\n",
       "                           actividad_completa  importe  \n",
       "145      ELECTRODOMESTICOS,EQUIPOS ELECTRICOS   572.00  \n",
       "163  HOTELES,MOTELES,BALNEARIOS,CAMPINGS REST   571.65  \n",
       "22   AUTOM.Y MOTOCICLETAS ( VENTAS Y REPARAC)   417.88  \n",
       "87   MATERIALES CONSTRUCCION,FONTANERIA,SANEA   383.00  \n",
       "106                           EL CORTE INGLES   304.66  \n",
       "147  HOTELES 4 Y 5 ESTRELLAS,BALNEARIOS,CAMPI   287.07  \n",
       "90     HIPERCOR SUPERMERCADOS EL CORTE INGLES   283.00  \n",
       "85   MATERIALES CONSTRUCCION,FONTANERIA,SANEA   272.85  \n",
       "41   HOTELES,MOTELES,BALNEARIOS,CAMPINGS REST   268.00  \n",
       "155                      PARADORES NACIONALES   250.38  "
      ]
     },
     "execution_count": 19,
     "metadata": {},
     "output_type": "execute_result"
    }
   ],
   "source": [
    "df.sort_values('importe', ascending=False)[['nombre', 'fecha', 'actividad_completa', 'importe']].head(10)"
   ]
  },
  {
   "cell_type": "markdown",
   "metadata": {},
   "source": [
    "### Lectura de una información agregada"
   ]
  },
  {
   "cell_type": "markdown",
   "metadata": {},
   "source": [
    "La información agregada está en un mapa, por lo que tenemos que procesarla y convertirla a formato JSON."
   ]
  },
  {
   "cell_type": "code",
   "execution_count": 20,
   "metadata": {
    "collapsed": false
   },
   "outputs": [],
   "source": [
    "rows = []\n",
    "for keys in bucket_acum_importes.stream_keys():\n",
    "    #print(keys)\n",
    "    for key in keys:\n",
    "        map_nombre = bucket_acum_importes.get(key)\n",
    "        rows.append({'nombre' : map_nombre.registers['nombre'].value,\n",
    "                     \"importe\" : float(map_nombre.counters['importe'].value) / 100})\n",
    "        \n",
    "# Convertimos el objeto json en un objeto pandas \n",
    "df = json_to_pandas(rows)"
   ]
  },
  {
   "cell_type": "markdown",
   "metadata": {},
   "source": [
    "### Las 10 personas que mas han gastado"
   ]
  },
  {
   "cell_type": "markdown",
   "metadata": {},
   "source": [
    "Fácil si disponemos de un agregado. Utilizamos Pandas para ordenar la información ..,"
   ]
  },
  {
   "cell_type": "code",
   "execution_count": 21,
   "metadata": {
    "collapsed": false
   },
   "outputs": [
    {
     "data": {
      "text/html": [
       "<div>\n",
       "<style>\n",
       "    .dataframe thead tr:only-child th {\n",
       "        text-align: right;\n",
       "    }\n",
       "\n",
       "    .dataframe thead th {\n",
       "        text-align: left;\n",
       "    }\n",
       "\n",
       "    .dataframe tbody tr th {\n",
       "        vertical-align: top;\n",
       "    }\n",
       "</style>\n",
       "<table border=\"1\" class=\"dataframe\">\n",
       "  <thead>\n",
       "    <tr style=\"text-align: right;\">\n",
       "      <th></th>\n",
       "      <th>importe</th>\n",
       "      <th>nombre</th>\n",
       "    </tr>\n",
       "  </thead>\n",
       "  <tbody>\n",
       "    <tr>\n",
       "      <th>79</th>\n",
       "      <td>66444.15</td>\n",
       "      <td>Ildefonso José Sánchez Barcoj</td>\n",
       "    </tr>\n",
       "    <tr>\n",
       "      <th>18</th>\n",
       "      <td>40356.29</td>\n",
       "      <td>José Antonio Moral Santín</td>\n",
       "    </tr>\n",
       "    <tr>\n",
       "      <th>7</th>\n",
       "      <td>37639.57</td>\n",
       "      <td>Carlos Vela García</td>\n",
       "    </tr>\n",
       "    <tr>\n",
       "      <th>8</th>\n",
       "      <td>37608.99</td>\n",
       "      <td>Miguel Blesa de la Parra</td>\n",
       "    </tr>\n",
       "    <tr>\n",
       "      <th>28</th>\n",
       "      <td>37472.01</td>\n",
       "      <td>Enrique de la Torre Martínez</td>\n",
       "    </tr>\n",
       "    <tr>\n",
       "      <th>40</th>\n",
       "      <td>36590.68</td>\n",
       "      <td>Matías Amat Roca</td>\n",
       "    </tr>\n",
       "    <tr>\n",
       "      <th>69</th>\n",
       "      <td>36086.89</td>\n",
       "      <td>Maria Mercedes de la Merced Monge</td>\n",
       "    </tr>\n",
       "    <tr>\n",
       "      <th>41</th>\n",
       "      <td>35901.41</td>\n",
       "      <td>Ricardo Romero de Tejada y Picatoste</td>\n",
       "    </tr>\n",
       "    <tr>\n",
       "      <th>34</th>\n",
       "      <td>35574.91</td>\n",
       "      <td>Ricardo Morado Iglesias</td>\n",
       "    </tr>\n",
       "    <tr>\n",
       "      <th>62</th>\n",
       "      <td>35136.97</td>\n",
       "      <td>Ramón Ferraz Ricarte</td>\n",
       "    </tr>\n",
       "  </tbody>\n",
       "</table>\n",
       "</div>"
      ],
      "text/plain": [
       "     importe                                nombre\n",
       "79  66444.15         Ildefonso José Sánchez Barcoj\n",
       "18  40356.29             José Antonio Moral Santín\n",
       "7   37639.57                    Carlos Vela García\n",
       "8   37608.99              Miguel Blesa de la Parra\n",
       "28  37472.01          Enrique de la Torre Martínez\n",
       "40  36590.68                      Matías Amat Roca\n",
       "69  36086.89     Maria Mercedes de la Merced Monge\n",
       "41  35901.41  Ricardo Romero de Tejada y Picatoste\n",
       "34  35574.91               Ricardo Morado Iglesias\n",
       "62  35136.97                  Ramón Ferraz Ricarte"
      ]
     },
     "execution_count": 21,
     "metadata": {},
     "output_type": "execute_result"
    }
   ],
   "source": [
    "df.sort_values('importe', ascending=False).head(10)"
   ]
  }
 ],
 "metadata": {
  "kernelspec": {
   "display_name": "Python 2",
   "language": "python",
   "name": "python2"
  },
  "language_info": {
   "codemirror_mode": {
    "name": "ipython",
    "version": 2
   },
   "file_extension": ".py",
   "mimetype": "text/x-python",
   "name": "python",
   "nbconvert_exporter": "python",
   "pygments_lexer": "ipython2",
   "version": "2.7.6"
  }
 },
 "nbformat": 4,
 "nbformat_minor": 0
}
