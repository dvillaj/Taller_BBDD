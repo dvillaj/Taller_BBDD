{
 "cells": [
  {
   "cell_type": "markdown",
   "metadata": {},
   "source": [
    "# Almacenando datos de Twitter en Neo4j"
   ]
  },
  {
   "cell_type": "markdown",
   "metadata": {},
   "source": [
    "![png](http://d20tdhwx2i89n1.cloudfront.net/image/upload/t_next_gen_article_large_767/btp7c4imyevfdt9icxlo.jpg)"
   ]
  },
  {
   "cell_type": "code",
   "execution_count": null,
   "metadata": {
    "collapsed": false,
    "jupyter": {
     "outputs_hidden": false
    }
   },
   "outputs": [],
   "source": [
    "%load_ext cypher"
   ]
  },
  {
   "cell_type": "code",
   "execution_count": null,
   "metadata": {
    "collapsed": false,
    "jupyter": {
     "outputs_hidden": false
    }
   },
   "outputs": [],
   "source": [
    "%%cypher\n",
    "MATCH (n)\n",
    "OPTIONAL MATCH (n)-[r]-()\n",
    "DELETE n,r"
   ]
  },
  {
   "cell_type": "code",
   "execution_count": null,
   "metadata": {
    "collapsed": false,
    "jupyter": {
     "outputs_hidden": false
    }
   },
   "outputs": [],
   "source": [
    "%cypher CREATE CONSTRAINT ON (t:Tweet) ASSERT t.id IS UNIQUE"
   ]
  },
  {
   "cell_type": "code",
   "execution_count": null,
   "metadata": {
    "collapsed": false,
    "jupyter": {
     "outputs_hidden": false
    }
   },
   "outputs": [],
   "source": [
    "%cypher CREATE CONSTRAINT ON (u:User) ASSERT u.username IS UNIQUE"
   ]
  },
  {
   "cell_type": "code",
   "execution_count": null,
   "metadata": {
    "collapsed": false,
    "jupyter": {
     "outputs_hidden": false
    }
   },
   "outputs": [],
   "source": [
    "%cypher CREATE CONSTRAINT ON (h:HashTag) ASSERT h.hashtag IS UNIQUE"
   ]
  },
  {
   "cell_type": "markdown",
   "metadata": {},
   "source": [
    "![png](./../images/Model.png)"
   ]
  },
  {
   "cell_type": "code",
   "execution_count": null,
   "metadata": {},
   "outputs": [],
   "source": [
    "from pprintpp import pprint as pp\n"
   ]
  },
  {
   "cell_type": "code",
   "execution_count": null,
   "metadata": {
    "collapsed": false,
    "jupyter": {
     "outputs_hidden": false
    }
   },
   "outputs": [],
   "source": [
    "from py2neo import Graph, Relationship, Node\n",
    "import json\n",
    "\n",
    "graph = Graph()"
   ]
  },
  {
   "cell_type": "code",
   "execution_count": null,
   "metadata": {},
   "outputs": [],
   "source": [
    "def parse_user(user_json): \n",
    "    node_user = Node(\"User\", username= user_json.get('screen_name'), name = user_json.get('name'))\n",
    "    graph.merge(node_user)\n",
    "    \n",
    "    node_user.update(created_at = user_json.get('user_json', None),\n",
    "                     description = user_json.get('description', None),\n",
    "                     favourites_count = user_json.get('favourites_count', None),\n",
    "                     followers_count = user_json.get('followers_count', None),\n",
    "                     friends_count = user_json.get('friends_count', None),\n",
    "                     statuses_count = user_json.get('statuses_count', None),\n",
    "                     time_zone = user_json.get('time_zone', None),\n",
    "                     profile_image_url = user_json.get('profile_image_url', None))\n",
    "    graph.push(node_user)\n",
    "                \n",
    "    return node_user"
   ]
  },
  {
   "cell_type": "code",
   "execution_count": null,
   "metadata": {
    "collapsed": false,
    "jupyter": {
     "outputs_hidden": false
    }
   },
   "outputs": [],
   "source": [
    "def parse_tweet(tweet_json):\n",
    "    node_user = parse_user(tweet_json['user'])\n",
    "    \n",
    "    node_tweet = Node(\"Tweet\", id= tweet_json.get('id'),\n",
    "                created_at = tweet_json.get('created_at', None),\n",
    "                lang = tweet_json.get('lang', None),\n",
    "                retweet_count = tweet_json.get('retweet_count', None),\n",
    "                source = tweet_json.get('source', None),\n",
    "                text = tweet_json.get('text', None)\n",
    "            )\n",
    "    \n",
    "    graph.merge(node_tweet)\n",
    "    graph.merge(Relationship(node_user, \"TWEETED\", node_tweet))\n",
    "    \n",
    "    if 'user_mentions' in tweet_json:\n",
    "        for user_mention_json in tweet_json['user_mentions']:\n",
    "            node_user_mencioned = parse_user(user_mention_json)\n",
    "            graph.merge(Relationship(node_tweet, \"MENCIONED\", node_user_mencioned))\n",
    " \n",
    "    if 'entities' in tweet_json:\n",
    "        for entity in tweet_json['entities']:\n",
    "            node_entity = Node(\"HashTag\", hashtag = entity)\n",
    "            graph.merge(node_entity)\n",
    "            graph.merge(Relationship(node_tweet, \"HASHTAG\", node_entity))\n",
    "\n",
    "    if 'retweeted_status' in tweet_json:\n",
    "        node_user_retweeted = parse_user(tweet_json['retweeted_status']['user'])\n",
    "        graph.merge(Relationship(node_tweet, \"RETWEET_OF\", node_user_retweeted))\n",
    "        \n",
    "        parse_tweet(tweet_json['retweeted_status'])"
   ]
  },
  {
   "cell_type": "code",
   "execution_count": null,
   "metadata": {
    "collapsed": false,
    "jupyter": {
     "outputs_hidden": false
    }
   },
   "outputs": [],
   "source": [
    "def load_file(tweets_data_path):\n",
    "    tweets_file = open(tweets_data_path, \"r\")\n",
    "    for index, tweet in enumerate(tweets_file):\n",
    "        parse_tweet(json.loads(tweet))\n",
    "        \n",
    "        if index % 500 == 0:\n",
    "            print(index)"
   ]
  },
  {
   "cell_type": "code",
   "execution_count": null,
   "metadata": {
    "collapsed": false,
    "jupyter": {
     "outputs_hidden": false
    }
   },
   "outputs": [],
   "source": [
    "load_file('../../data/tweets.json')"
   ]
  },
  {
   "cell_type": "code",
   "execution_count": null,
   "metadata": {
    "collapsed": false,
    "jupyter": {
     "outputs_hidden": false
    }
   },
   "outputs": [],
   "source": [
    "%%cypher\n",
    "MATCH p = ((u:User {username : 'couchbase'})-[r:TWEETED]->(t))\n",
    "RETURN u.username, t.text, type(r)\n",
    "LIMIT 10"
   ]
  },
  {
   "cell_type": "code",
   "execution_count": null,
   "metadata": {
    "collapsed": false,
    "jupyter": {
     "outputs_hidden": false
    }
   },
   "outputs": [],
   "source": [
    "%%cypher match (n:HashTag)-[r]-() \n",
    "return n.hashtag, count(r) as degree \n",
    "order by degree desc\n",
    "limit 10"
   ]
  },
  {
   "cell_type": "code",
   "execution_count": null,
   "metadata": {},
   "outputs": [],
   "source": [
    "%matplotlib inline"
   ]
  },
  {
   "cell_type": "code",
   "execution_count": null,
   "metadata": {
    "collapsed": false,
    "jupyter": {
     "outputs_hidden": false
    }
   },
   "outputs": [],
   "source": [
    "results = %cypher match (n:HashTag)-[r]-()  return n.hashtag as HashTag, count(r) as Degree order by Degree desc limit 10"
   ]
  },
  {
   "cell_type": "code",
   "execution_count": null,
   "metadata": {
    "collapsed": false,
    "jupyter": {
     "outputs_hidden": false
    }
   },
   "outputs": [],
   "source": [
    "results.get_dataframe()"
   ]
  },
  {
   "cell_type": "code",
   "execution_count": null,
   "metadata": {
    "collapsed": false,
    "jupyter": {
     "outputs_hidden": false
    }
   },
   "outputs": [],
   "source": [
    "results.pie()"
   ]
  },
  {
   "cell_type": "code",
   "execution_count": null,
   "metadata": {
    "collapsed": false,
    "jupyter": {
     "outputs_hidden": false
    }
   },
   "outputs": [],
   "source": [
    "results.plot()"
   ]
  },
  {
   "cell_type": "code",
   "execution_count": null,
   "metadata": {
    "collapsed": false,
    "jupyter": {
     "outputs_hidden": false
    }
   },
   "outputs": [],
   "source": [
    "results.bar()"
   ]
  },
  {
   "cell_type": "code",
   "execution_count": null,
   "metadata": {
    "collapsed": false,
    "jupyter": {
     "outputs_hidden": false
    }
   },
   "outputs": [],
   "source": [
    "from py2neo import Graph\n",
    "graph = Graph()"
   ]
  },
  {
   "cell_type": "code",
   "execution_count": null,
   "metadata": {
    "collapsed": false,
    "jupyter": {
     "outputs_hidden": false
    }
   },
   "outputs": [],
   "source": [
    "query = \"\"\"\n",
    "    MATCH (h:HashTag)<-[:HASHTAG]-(:Tweet)-[:HASHTAG]->(HashTag {hashtag:\"neo4j\"}) \n",
    "    WHERE h.hashtag <> \"neo4j\"\n",
    "    RETURN h.hashtag AS hashtag, COUNT(*) AS count\n",
    "    ORDER BY count DESC\n",
    "    LIMIT 10\n",
    "\"\"\"\n",
    "\n",
    "results = graph.run(query )\n",
    "for d in results:\n",
    "    print(d)\n",
    "\n"
   ]
  },
  {
   "cell_type": "code",
   "execution_count": null,
   "metadata": {
    "collapsed": false,
    "jupyter": {
     "outputs_hidden": false
    }
   },
   "outputs": [],
   "source": [
    "results = graph.run(\n",
    "\"\"\"\n",
    "MATCH (u:User)\n",
    "WHERE exists(u.followers_count)\n",
    "return distinct u.username, u.followers_count\n",
    "order by u.followers_count DESC LIMIT 10\n",
    "\"\"\")\n",
    "\n",
    "for d in results:\n",
    "    print(d)"
   ]
  },
  {
   "cell_type": "code",
   "execution_count": null,
   "metadata": {
    "collapsed": false,
    "jupyter": {
     "outputs_hidden": false
    }
   },
   "outputs": [],
   "source": [
    "type(results)"
   ]
  },
  {
   "cell_type": "code",
   "execution_count": null,
   "metadata": {
    "collapsed": false,
    "jupyter": {
     "outputs_hidden": false
    }
   },
   "outputs": [],
   "source": [
    "%%cypher\n",
    "MATCH (u:User)\n",
    "WHERE exists(u.followers_count)\n",
    "return distinct u.username, u.followers_count\n",
    "order by u.followers_count DESC LIMIT 10"
   ]
  },
  {
   "cell_type": "code",
   "execution_count": null,
   "metadata": {
    "collapsed": false,
    "jupyter": {
     "outputs_hidden": false
    }
   },
   "outputs": [],
   "source": [
    "%%cypher\n",
    "match (n)\n",
    "return distinct labels(n)"
   ]
  },
  {
   "cell_type": "code",
   "execution_count": null,
   "metadata": {
    "collapsed": false,
    "jupyter": {
     "outputs_hidden": false
    }
   },
   "outputs": [],
   "source": [
    "result = %cypher MATCH (hashtag:HashTag)<-[:HASHTAG]-(tweet:Tweet) \\\n",
    "                 RETURN hashtag.name AS hashtag, COUNT(tweet) AS tweets \\\n",
    "                 ORDER BY tweets DESC LIMIT 5\n",
    "        \n",
    "df = result.get_dataframe()\n",
    "df.head()"
   ]
  }
 ],
 "metadata": {
  "kernelspec": {
   "display_name": "Python 3",
   "language": "python",
   "name": "python3"
  },
  "language_info": {
   "codemirror_mode": {
    "name": "ipython",
    "version": 3
   },
   "file_extension": ".py",
   "mimetype": "text/x-python",
   "name": "python",
   "nbconvert_exporter": "python",
   "pygments_lexer": "ipython3",
   "version": "3.6.9"
  }
 },
 "nbformat": 4,
 "nbformat_minor": 4
}
