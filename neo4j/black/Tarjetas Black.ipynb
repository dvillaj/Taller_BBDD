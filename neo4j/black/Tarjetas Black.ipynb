{
 "cells": [
  {
   "cell_type": "markdown",
   "metadata": {},
   "source": [
    "# Neo4j"
   ]
  },
  {
   "cell_type": "markdown",
   "metadata": {},
   "source": [
    "## Conexión con Cassandra y borrado de datos"
   ]
  },
  {
   "cell_type": "code",
   "execution_count": 1,
   "metadata": {
    "collapsed": false
   },
   "outputs": [],
   "source": [
    "%load_ext cypher"
   ]
  },
  {
   "cell_type": "code",
   "execution_count": 2,
   "metadata": {
    "collapsed": false
   },
   "outputs": [],
   "source": [
    "from py2neo import Graph, Node, Relationship\n",
    "\n",
    "graph = Graph()"
   ]
  },
  {
   "cell_type": "code",
   "execution_count": 3,
   "metadata": {
    "collapsed": true
   },
   "outputs": [],
   "source": [
    "# Borrado de todos los nodos y relaciones\n",
    "graph.delete_all()"
   ]
  },
  {
   "cell_type": "markdown",
   "metadata": {},
   "source": [
    "## Carga de datos en Pandas"
   ]
  },
  {
   "cell_type": "markdown",
   "metadata": {},
   "source": [
    "A partir del fichero Excel desnormalizamos los datos"
   ]
  },
  {
   "cell_type": "code",
   "execution_count": 11,
   "metadata": {
    "collapsed": false
   },
   "outputs": [
    {
     "name": "stdout",
     "output_type": "stream",
     "text": [
      "<class 'pandas.core.frame.DataFrame'>\n",
      "Int64Index: 7624 entries, 0 to 7623\n",
      "Data columns (total 11 columns):\n",
      "id_miembro            7624 non-null int64\n",
      "fecha                 7624 non-null datetime64[ns]\n",
      "minuto                7624 non-null int64\n",
      "hora                  7624 non-null int64\n",
      "importe               7624 non-null float64\n",
      "comercio              6864 non-null object\n",
      "actividad_completa    7622 non-null object\n",
      "actividad             7622 non-null object\n",
      "nombre                7624 non-null object\n",
      "funcion               7624 non-null object\n",
      "organizacion          6056 non-null object\n",
      "dtypes: datetime64[ns](1), float64(1), int64(3), object(6)\n",
      "memory usage: 714.8+ KB\n"
     ]
    }
   ],
   "source": [
    "import pandas as pd\n",
    "df_mov = pd.read_excel(\"../../data/black.xlsx\", sheetname= \"Movimientos\")\n",
    "df_miembros = pd.read_excel(\"../../data/black.xlsx\", sheetname= \"Miembros\")\n",
    "df = pd.merge(df_mov, df_miembros, on = ['id_miembro'], how = 'inner')\n",
    "df.info()"
   ]
  },
  {
   "cell_type": "markdown",
   "metadata": {},
   "source": [
    "## Carga de datos en Neo4j"
   ]
  },
  {
   "cell_type": "markdown",
   "metadata": {},
   "source": [
    "La carga se realizará en Neo a partir de la lista de datos en formato JSON, generados con Pandas"
   ]
  },
  {
   "cell_type": "code",
   "execution_count": 12,
   "metadata": {
    "collapsed": false
   },
   "outputs": [],
   "source": [
    "import json\n",
    "\n",
    "json_string = df.to_json(orient = 'records')\n",
    "json_list = json.loads(json_string)"
   ]
  },
  {
   "cell_type": "markdown",
   "metadata": {},
   "source": [
    "En Neo se van a crear 3 tipos de nodos y 2 tipos de relaciones"
   ]
  },
  {
   "cell_type": "markdown",
   "metadata": {},
   "source": [
    "<br><br> \n",
    "\n",
    "<img src=\"images/Modelo%20Neo4j.png\",width=600,height=500>\n",
    "\n",
    "<br><br> "
   ]
  },
  {
   "cell_type": "markdown",
   "metadata": {},
   "source": [
    "Adicionalmente se van a guardar los siguientes atributos:\n",
    "\n",
    "**Nodo Comercio**\n",
    "- Nombre del comercio\n",
    "- Actividad a la que se dedica\n",
    "- Categoría de actividad (Podríamos haber creado un tipo de nodo independente)\n",
    "\n",
    "**Nodo Persona**\n",
    "- Nombre de la persona\n",
    "\n",
    "**Nodo Organización**\n",
    "- Nombre de la organización\n",
    "\n",
    "**Nodo Movimiento**\n",
    "- Fecha en formato UNIX Timestamp (el mismo formato que está en el JSON)\n",
    "- hora y minuto de la compra\n",
    "- Importe de la compra\n",
    "\n",
    "Respecto a las relaciones, vamos a almacenar los siguientes atributos:\n",
    "\n",
    "**Relación PERTECENE**\n",
    "- Función que hace la persona en una organización"
   ]
  },
  {
   "cell_type": "markdown",
   "metadata": {},
   "source": [
    "Creamos los nodos y relaciones en Neo4j simplemente iterando sobre la lista de JSONs."
   ]
  },
  {
   "cell_type": "code",
   "execution_count": 6,
   "metadata": {
    "collapsed": false
   },
   "outputs": [],
   "source": [
    "import datetime\n",
    "\n",
    "for movimiento_json in json_list:\n",
    "    # Nodos\n",
    "    persona = Node(\"Persona\", nombre=movimiento_json[\"nombre\"])\n",
    "    comercio = Node(\"Comercio\", nombre=movimiento_json[\"comercio\"], \n",
    "                                actividad = movimiento_json[\"actividad\"],\n",
    "                                actividad_completa = movimiento_json[\"actividad_completa\"])\n",
    "    organizacion = Node(\"Organizacion\", nombre = movimiento_json[\"organizacion\"])\n",
    "    movimiento = Node(\"Movimiento\",\n",
    "            fecha = movimiento_json['fecha'],\n",
    "            hora =  movimiento_json[\"hora\"],\n",
    "            minuto =  movimiento_json[\"minuto\"],\n",
    "            importe = movimiento_json[\"importe\"])\n",
    "    \n",
    "        \n",
    "    # Relaciones  \n",
    "    rel_persona_organizacion = Relationship(persona, \"PERTENECE\", organizacion,\n",
    "                                           funcion = movimiento_json[\"funcion\"])\n",
    "    rel_persona_movimiento = Relationship(persona, \"REALIZA\", movimiento)\n",
    "    rel_movimiento_comercio = Relationship(movimiento, \"OCURRE\", comercio)\n",
    "       \n",
    "    graph.merge(persona | comercio | organizacion | movimiento | \n",
    "                rel_persona_organizacion | rel_persona_movimiento | rel_movimiento_comercio)\n"
   ]
  },
  {
   "cell_type": "markdown",
   "metadata": {},
   "source": [
    "<br><br> \n",
    "\n",
    "<img src=\"images/Resultado%20Neo4j.png\",width=800,height=600>\n",
    "\n",
    "<br><br> "
   ]
  },
  {
   "cell_type": "markdown",
   "metadata": {},
   "source": [
    "### Comprobaciones previas ..."
   ]
  },
  {
   "cell_type": "markdown",
   "metadata": {},
   "source": [
    "Número de movimientos ..."
   ]
  },
  {
   "cell_type": "code",
   "execution_count": 7,
   "metadata": {
    "collapsed": false
   },
   "outputs": [
    {
     "name": "stdout",
     "output_type": "stream",
     "text": [
      "1 rows affected.\n"
     ]
    },
    {
     "data": {
      "text/html": [
       "<table>\n",
       "    <tr>\n",
       "        <th>count(*)</th>\n",
       "    </tr>\n",
       "    <tr>\n",
       "        <td>7621</td>\n",
       "    </tr>\n",
       "</table>"
      ],
      "text/plain": [
       "[[7621]]"
      ]
     },
     "execution_count": 7,
     "metadata": {},
     "output_type": "execute_result"
    }
   ],
   "source": [
    "%%cypher\n",
    "MATCH (:Movimiento)\n",
    "RETURN count(*)"
   ]
  },
  {
   "cell_type": "markdown",
   "metadata": {},
   "source": [
    "Número de personas ..."
   ]
  },
  {
   "cell_type": "code",
   "execution_count": 8,
   "metadata": {
    "collapsed": false
   },
   "outputs": [
    {
     "name": "stdout",
     "output_type": "stream",
     "text": [
      "1 rows affected.\n"
     ]
    },
    {
     "data": {
      "text/html": [
       "<table>\n",
       "    <tr>\n",
       "        <th>count(*)</th>\n",
       "    </tr>\n",
       "    <tr>\n",
       "        <td>83</td>\n",
       "    </tr>\n",
       "</table>"
      ],
      "text/plain": [
       "[[83]]"
      ]
     },
     "execution_count": 8,
     "metadata": {},
     "output_type": "execute_result"
    }
   ],
   "source": [
    "%%cypher\n",
    "MATCH (:Persona)\n",
    "RETURN count(*)"
   ]
  },
  {
   "cell_type": "markdown",
   "metadata": {},
   "source": [
    "Número de comercios"
   ]
  },
  {
   "cell_type": "code",
   "execution_count": 9,
   "metadata": {
    "collapsed": false
   },
   "outputs": [
    {
     "name": "stdout",
     "output_type": "stream",
     "text": [
      "1 rows affected.\n"
     ]
    },
    {
     "data": {
      "text/html": [
       "<table>\n",
       "    <tr>\n",
       "        <th>count(*)</th>\n",
       "    </tr>\n",
       "    <tr>\n",
       "        <td>3283</td>\n",
       "    </tr>\n",
       "</table>"
      ],
      "text/plain": [
       "[[3283]]"
      ]
     },
     "execution_count": 9,
     "metadata": {},
     "output_type": "execute_result"
    }
   ],
   "source": [
    "%%cypher\n",
    "MATCH (:Comercio)\n",
    "RETURN count(*)"
   ]
  },
  {
   "cell_type": "markdown",
   "metadata": {},
   "source": [
    "Número de organizaciones"
   ]
  },
  {
   "cell_type": "code",
   "execution_count": 10,
   "metadata": {
    "collapsed": false
   },
   "outputs": [
    {
     "name": "stdout",
     "output_type": "stream",
     "text": [
      "1 rows affected.\n"
     ]
    },
    {
     "data": {
      "text/html": [
       "<table>\n",
       "    <tr>\n",
       "        <th>count(*)</th>\n",
       "    </tr>\n",
       "    <tr>\n",
       "        <td>10</td>\n",
       "    </tr>\n",
       "</table>"
      ],
      "text/plain": [
       "[[10]]"
      ]
     },
     "execution_count": 10,
     "metadata": {},
     "output_type": "execute_result"
    }
   ],
   "source": [
    "%%cypher\n",
    "MATCH (:Organizacion)\n",
    "RETURN count(*)"
   ]
  },
  {
   "cell_type": "markdown",
   "metadata": {},
   "source": [
    "All good!"
   ]
  },
  {
   "cell_type": "markdown",
   "metadata": {},
   "source": [
    "## Funciones de utilidad para la consulta de datos"
   ]
  },
  {
   "cell_type": "markdown",
   "metadata": {},
   "source": [
    "Neo4j, en su versión actual, no puede guardar datos de tipo fecha en los atributos, por lo que se almacena en formato TIMESTAMP de Unix (el formato original).  \n",
    "\n",
    "La siguiente función de utilidad convierte una columna de una DataFrame en formato TIMESTAMP a Fecha"
   ]
  },
  {
   "cell_type": "code",
   "execution_count": 13,
   "metadata": {
    "collapsed": false
   },
   "outputs": [],
   "source": [
    "def transform_date(df, column_name):\n",
    "    if column_name in df.columns:\n",
    "        # Las fechas están en formato UNIX TIMESTAMP. Las volvemos a convertir a formato Date...\n",
    "        df[column_name] = pd.to_datetime(df[column_name], unit = 'ms')\n",
    "        \n",
    "    return df"
   ]
  },
  {
   "cell_type": "markdown",
   "metadata": {},
   "source": [
    "Función de utilidad para convertir los resultados devueltos por la base de datos en un DataFrame de Pandas"
   ]
  },
  {
   "cell_type": "code",
   "execution_count": 14,
   "metadata": {
    "collapsed": true
   },
   "outputs": [],
   "source": [
    "def get_dataframe(data):\n",
    "    df = pd.DataFrame(list(data), columns = data.keys())\n",
    "        \n",
    "    return df"
   ]
  },
  {
   "cell_type": "markdown",
   "metadata": {
    "collapsed": true
   },
   "source": [
    "## Consulta a Neo4j"
   ]
  },
  {
   "cell_type": "markdown",
   "metadata": {},
   "source": [
    "### Los 10 movimientos mas caros"
   ]
  },
  {
   "cell_type": "markdown",
   "metadata": {},
   "source": [
    "Para obtener las lista de personas que mas han gastado simplemente relacionamos los 3 tipos de nodos y devolvemos los campos que nos interesan"
   ]
  },
  {
   "cell_type": "code",
   "execution_count": 16,
   "metadata": {
    "collapsed": false
   },
   "outputs": [
    {
     "name": "stdout",
     "output_type": "stream",
     "text": [
      "10 rows affected.\n"
     ]
    },
    {
     "data": {
      "text/html": [
       "<table>\n",
       "    <tr>\n",
       "        <th>persona.nombre</th>\n",
       "        <th>comercio.actividad_completa</th>\n",
       "        <th>movimiento.importe</th>\n",
       "    </tr>\n",
       "    <tr>\n",
       "        <td>Ildefonso José Sánchez Barcoj</td>\n",
       "        <td>AGENCIAS BANCARIAS(ANTICIPO VENTANILLA)</td>\n",
       "        <td>11000.0</td>\n",
       "    </tr>\n",
       "    <tr>\n",
       "        <td>Ildefonso José Sánchez Barcoj</td>\n",
       "        <td>EL CORTE INGLES</td>\n",
       "        <td>6593.2</td>\n",
       "    </tr>\n",
       "    <tr>\n",
       "        <td>Matías Amat Roca</td>\n",
       "        <td>AGENCIAS DE VIAJES</td>\n",
       "        <td>6519.12</td>\n",
       "    </tr>\n",
       "    <tr>\n",
       "        <td>María Carmen Cafranga Cavestany</td>\n",
       "        <td>V.DIST.VIAJES Y TRANSPORTE DE VIAJEROS</td>\n",
       "        <td>5500.0</td>\n",
       "    </tr>\n",
       "    <tr>\n",
       "        <td>Ildefonso José Sánchez Barcoj</td>\n",
       "        <td>AGENCIAS DE VIAJES</td>\n",
       "        <td>5283.33</td>\n",
       "    </tr>\n",
       "    <tr>\n",
       "        <td>Estanislao Rodríguez-Ponga Salamanca</td>\n",
       "        <td>EL CORTE INGLES</td>\n",
       "        <td>5000.0</td>\n",
       "    </tr>\n",
       "    <tr>\n",
       "        <td>Ricardo Morado Iglesias</td>\n",
       "        <td>AGENCIAS BANCARIAS(ANTICIPO VENTANILLA)</td>\n",
       "        <td>5000.0</td>\n",
       "    </tr>\n",
       "    <tr>\n",
       "        <td>Ramón Martínez Vilches</td>\n",
       "        <td>AGENCIAS DE VIAJES</td>\n",
       "        <td>4955.0</td>\n",
       "    </tr>\n",
       "    <tr>\n",
       "        <td>Ricardo Morado Iglesias</td>\n",
       "        <td>AGENCIAS BANCARIAS(ANTICIPO VENTANILLA)</td>\n",
       "        <td>4500.0</td>\n",
       "    </tr>\n",
       "    <tr>\n",
       "        <td>Ildefonso José Sánchez Barcoj</td>\n",
       "        <td>EL CORTE INGLES</td>\n",
       "        <td>4320.5</td>\n",
       "    </tr>\n",
       "</table>"
      ],
      "text/plain": [
       "[[u'Ildefonso Jos\\xe9 S\\xe1nchez Barcoj',\n",
       "  u'AGENCIAS BANCARIAS(ANTICIPO VENTANILLA)',\n",
       "  11000.0],\n",
       " [u'Ildefonso Jos\\xe9 S\\xe1nchez Barcoj', u'EL CORTE INGLES', 6593.2],\n",
       " [u'Mat\\xedas Amat Roca', u'AGENCIAS DE VIAJES', 6519.12],\n",
       " [u'Mar\\xeda Carmen Cafranga Cavestany',\n",
       "  u'V.DIST.VIAJES Y TRANSPORTE DE VIAJEROS',\n",
       "  5500.0],\n",
       " [u'Ildefonso Jos\\xe9 S\\xe1nchez Barcoj', u'AGENCIAS DE VIAJES', 5283.33],\n",
       " [u'Estanislao Rodr\\xedguez-Ponga Salamanca', u'EL CORTE INGLES', 5000.0],\n",
       " [u'Ricardo Morado Iglesias',\n",
       "  u'AGENCIAS BANCARIAS(ANTICIPO VENTANILLA)',\n",
       "  5000.0],\n",
       " [u'Ram\\xf3n Mart\\xednez Vilches', u'AGENCIAS DE VIAJES', 4955.0],\n",
       " [u'Ricardo Morado Iglesias',\n",
       "  u'AGENCIAS BANCARIAS(ANTICIPO VENTANILLA)',\n",
       "  4500.0],\n",
       " [u'Ildefonso Jos\\xe9 S\\xe1nchez Barcoj', u'EL CORTE INGLES', 4320.5]]"
      ]
     },
     "execution_count": 16,
     "metadata": {},
     "output_type": "execute_result"
    }
   ],
   "source": [
    "%%cypher\n",
    "MATCH (persona:Persona)-[:REALIZA]-(movimiento:Movimiento)-[:OCURRE]-(comercio:Comercio)\n",
    "RETURN persona.nombre, comercio.actividad_completa, movimiento.importe\n",
    "ORDER BY movimiento.importe DESC\n",
    "LIMIT 10"
   ]
  },
  {
   "cell_type": "markdown",
   "metadata": {},
   "source": [
    "Utilizamos la función ** graph.run()** para obtener un ResultSet de datos, que es transformada en un Dataframe de Pandas"
   ]
  },
  {
   "cell_type": "code",
   "execution_count": 17,
   "metadata": {
    "collapsed": false
   },
   "outputs": [
    {
     "data": {
      "text/html": [
       "<div>\n",
       "<style>\n",
       "    .dataframe thead tr:only-child th {\n",
       "        text-align: right;\n",
       "    }\n",
       "\n",
       "    .dataframe thead th {\n",
       "        text-align: left;\n",
       "    }\n",
       "\n",
       "    .dataframe tbody tr th {\n",
       "        vertical-align: top;\n",
       "    }\n",
       "</style>\n",
       "<table border=\"1\" class=\"dataframe\">\n",
       "  <thead>\n",
       "    <tr style=\"text-align: right;\">\n",
       "      <th></th>\n",
       "      <th>persona.nombre</th>\n",
       "      <th>comercio.actividad_completa</th>\n",
       "      <th>movimiento.importe</th>\n",
       "    </tr>\n",
       "  </thead>\n",
       "  <tbody>\n",
       "    <tr>\n",
       "      <th>0</th>\n",
       "      <td>Ildefonso José Sánchez Barcoj</td>\n",
       "      <td>AGENCIAS BANCARIAS(ANTICIPO VENTANILLA)</td>\n",
       "      <td>11000.00</td>\n",
       "    </tr>\n",
       "    <tr>\n",
       "      <th>1</th>\n",
       "      <td>Ildefonso José Sánchez Barcoj</td>\n",
       "      <td>EL CORTE INGLES</td>\n",
       "      <td>6593.20</td>\n",
       "    </tr>\n",
       "    <tr>\n",
       "      <th>2</th>\n",
       "      <td>Matías Amat Roca</td>\n",
       "      <td>AGENCIAS DE VIAJES</td>\n",
       "      <td>6519.12</td>\n",
       "    </tr>\n",
       "    <tr>\n",
       "      <th>3</th>\n",
       "      <td>María Carmen Cafranga Cavestany</td>\n",
       "      <td>V.DIST.VIAJES Y TRANSPORTE DE VIAJEROS</td>\n",
       "      <td>5500.00</td>\n",
       "    </tr>\n",
       "    <tr>\n",
       "      <th>4</th>\n",
       "      <td>Ildefonso José Sánchez Barcoj</td>\n",
       "      <td>AGENCIAS DE VIAJES</td>\n",
       "      <td>5283.33</td>\n",
       "    </tr>\n",
       "    <tr>\n",
       "      <th>5</th>\n",
       "      <td>Estanislao Rodríguez-Ponga Salamanca</td>\n",
       "      <td>EL CORTE INGLES</td>\n",
       "      <td>5000.00</td>\n",
       "    </tr>\n",
       "    <tr>\n",
       "      <th>6</th>\n",
       "      <td>Ricardo Morado Iglesias</td>\n",
       "      <td>AGENCIAS BANCARIAS(ANTICIPO VENTANILLA)</td>\n",
       "      <td>5000.00</td>\n",
       "    </tr>\n",
       "    <tr>\n",
       "      <th>7</th>\n",
       "      <td>Ramón Martínez Vilches</td>\n",
       "      <td>AGENCIAS DE VIAJES</td>\n",
       "      <td>4955.00</td>\n",
       "    </tr>\n",
       "    <tr>\n",
       "      <th>8</th>\n",
       "      <td>Ricardo Morado Iglesias</td>\n",
       "      <td>AGENCIAS BANCARIAS(ANTICIPO VENTANILLA)</td>\n",
       "      <td>4500.00</td>\n",
       "    </tr>\n",
       "    <tr>\n",
       "      <th>9</th>\n",
       "      <td>Ildefonso José Sánchez Barcoj</td>\n",
       "      <td>EL CORTE INGLES</td>\n",
       "      <td>4320.50</td>\n",
       "    </tr>\n",
       "  </tbody>\n",
       "</table>\n",
       "</div>"
      ],
      "text/plain": [
       "                         persona.nombre  \\\n",
       "0         Ildefonso José Sánchez Barcoj   \n",
       "1         Ildefonso José Sánchez Barcoj   \n",
       "2                      Matías Amat Roca   \n",
       "3       María Carmen Cafranga Cavestany   \n",
       "4         Ildefonso José Sánchez Barcoj   \n",
       "5  Estanislao Rodríguez-Ponga Salamanca   \n",
       "6               Ricardo Morado Iglesias   \n",
       "7                Ramón Martínez Vilches   \n",
       "8               Ricardo Morado Iglesias   \n",
       "9         Ildefonso José Sánchez Barcoj   \n",
       "\n",
       "               comercio.actividad_completa  movimiento.importe  \n",
       "0  AGENCIAS BANCARIAS(ANTICIPO VENTANILLA)            11000.00  \n",
       "1                          EL CORTE INGLES             6593.20  \n",
       "2                       AGENCIAS DE VIAJES             6519.12  \n",
       "3   V.DIST.VIAJES Y TRANSPORTE DE VIAJEROS             5500.00  \n",
       "4                       AGENCIAS DE VIAJES             5283.33  \n",
       "5                          EL CORTE INGLES             5000.00  \n",
       "6  AGENCIAS BANCARIAS(ANTICIPO VENTANILLA)             5000.00  \n",
       "7                       AGENCIAS DE VIAJES             4955.00  \n",
       "8  AGENCIAS BANCARIAS(ANTICIPO VENTANILLA)             4500.00  \n",
       "9                          EL CORTE INGLES             4320.50  "
      ]
     },
     "execution_count": 17,
     "metadata": {},
     "output_type": "execute_result"
    }
   ],
   "source": [
    "query = \"\"\"\n",
    "MATCH (persona:Persona)-[:REALIZA]-(movimiento:Movimiento)-[:OCURRE]-(comercio:Comercio)\n",
    "RETURN persona.nombre, comercio.actividad_completa, movimiento.importe\n",
    "ORDER BY movimiento.importe DESC\n",
    "LIMIT 10\n",
    "\"\"\" \n",
    "\n",
    "data = graph.run(query)\n",
    "df = get_dataframe(data)\n",
    "df = transform_date(df, 'compra.fecha')\n",
    "df"
   ]
  },
  {
   "cell_type": "markdown",
   "metadata": {},
   "source": [
    "La misma query que el caso anterior pero utilizando un método distinto.  \n",
    "El fin es el mismo: Una DataFrame de Pandas"
   ]
  },
  {
   "cell_type": "code",
   "execution_count": 18,
   "metadata": {
    "collapsed": false
   },
   "outputs": [
    {
     "name": "stdout",
     "output_type": "stream",
     "text": [
      "10 rows affected.\n"
     ]
    },
    {
     "data": {
      "text/html": [
       "<div>\n",
       "<style>\n",
       "    .dataframe thead tr:only-child th {\n",
       "        text-align: right;\n",
       "    }\n",
       "\n",
       "    .dataframe thead th {\n",
       "        text-align: left;\n",
       "    }\n",
       "\n",
       "    .dataframe tbody tr th {\n",
       "        vertical-align: top;\n",
       "    }\n",
       "</style>\n",
       "<table border=\"1\" class=\"dataframe\">\n",
       "  <thead>\n",
       "    <tr style=\"text-align: right;\">\n",
       "      <th></th>\n",
       "      <th>persona.nombre</th>\n",
       "      <th>comercio.actividad_completa</th>\n",
       "      <th>movimiento.importe</th>\n",
       "    </tr>\n",
       "  </thead>\n",
       "  <tbody>\n",
       "    <tr>\n",
       "      <th>0</th>\n",
       "      <td>Ildefonso José Sánchez Barcoj</td>\n",
       "      <td>AGENCIAS BANCARIAS(ANTICIPO VENTANILLA)</td>\n",
       "      <td>11000.00</td>\n",
       "    </tr>\n",
       "    <tr>\n",
       "      <th>1</th>\n",
       "      <td>Ildefonso José Sánchez Barcoj</td>\n",
       "      <td>EL CORTE INGLES</td>\n",
       "      <td>6593.20</td>\n",
       "    </tr>\n",
       "    <tr>\n",
       "      <th>2</th>\n",
       "      <td>Matías Amat Roca</td>\n",
       "      <td>AGENCIAS DE VIAJES</td>\n",
       "      <td>6519.12</td>\n",
       "    </tr>\n",
       "    <tr>\n",
       "      <th>3</th>\n",
       "      <td>María Carmen Cafranga Cavestany</td>\n",
       "      <td>V.DIST.VIAJES Y TRANSPORTE DE VIAJEROS</td>\n",
       "      <td>5500.00</td>\n",
       "    </tr>\n",
       "    <tr>\n",
       "      <th>4</th>\n",
       "      <td>Ildefonso José Sánchez Barcoj</td>\n",
       "      <td>AGENCIAS DE VIAJES</td>\n",
       "      <td>5283.33</td>\n",
       "    </tr>\n",
       "    <tr>\n",
       "      <th>5</th>\n",
       "      <td>Estanislao Rodríguez-Ponga Salamanca</td>\n",
       "      <td>EL CORTE INGLES</td>\n",
       "      <td>5000.00</td>\n",
       "    </tr>\n",
       "    <tr>\n",
       "      <th>6</th>\n",
       "      <td>Ricardo Morado Iglesias</td>\n",
       "      <td>AGENCIAS BANCARIAS(ANTICIPO VENTANILLA)</td>\n",
       "      <td>5000.00</td>\n",
       "    </tr>\n",
       "    <tr>\n",
       "      <th>7</th>\n",
       "      <td>Ramón Martínez Vilches</td>\n",
       "      <td>AGENCIAS DE VIAJES</td>\n",
       "      <td>4955.00</td>\n",
       "    </tr>\n",
       "    <tr>\n",
       "      <th>8</th>\n",
       "      <td>Ricardo Morado Iglesias</td>\n",
       "      <td>AGENCIAS BANCARIAS(ANTICIPO VENTANILLA)</td>\n",
       "      <td>4500.00</td>\n",
       "    </tr>\n",
       "    <tr>\n",
       "      <th>9</th>\n",
       "      <td>Ildefonso José Sánchez Barcoj</td>\n",
       "      <td>EL CORTE INGLES</td>\n",
       "      <td>4320.50</td>\n",
       "    </tr>\n",
       "  </tbody>\n",
       "</table>\n",
       "</div>"
      ],
      "text/plain": [
       "                         persona.nombre  \\\n",
       "0         Ildefonso José Sánchez Barcoj   \n",
       "1         Ildefonso José Sánchez Barcoj   \n",
       "2                      Matías Amat Roca   \n",
       "3       María Carmen Cafranga Cavestany   \n",
       "4         Ildefonso José Sánchez Barcoj   \n",
       "5  Estanislao Rodríguez-Ponga Salamanca   \n",
       "6               Ricardo Morado Iglesias   \n",
       "7                Ramón Martínez Vilches   \n",
       "8               Ricardo Morado Iglesias   \n",
       "9         Ildefonso José Sánchez Barcoj   \n",
       "\n",
       "               comercio.actividad_completa  movimiento.importe  \n",
       "0  AGENCIAS BANCARIAS(ANTICIPO VENTANILLA)            11000.00  \n",
       "1                          EL CORTE INGLES             6593.20  \n",
       "2                       AGENCIAS DE VIAJES             6519.12  \n",
       "3   V.DIST.VIAJES Y TRANSPORTE DE VIAJEROS             5500.00  \n",
       "4                       AGENCIAS DE VIAJES             5283.33  \n",
       "5                          EL CORTE INGLES             5000.00  \n",
       "6  AGENCIAS BANCARIAS(ANTICIPO VENTANILLA)             5000.00  \n",
       "7                       AGENCIAS DE VIAJES             4955.00  \n",
       "8  AGENCIAS BANCARIAS(ANTICIPO VENTANILLA)             4500.00  \n",
       "9                          EL CORTE INGLES             4320.50  "
      ]
     },
     "execution_count": 18,
     "metadata": {},
     "output_type": "execute_result"
    }
   ],
   "source": [
    "df = %cypher MATCH (persona:Persona)-[:REALIZA]-(movimiento:Movimiento)-[:OCURRE]-(comercio:Comercio) \\\n",
    "             RETURN persona.nombre, comercio.actividad_completa, movimiento.importe \\\n",
    "             ORDER BY movimiento.importe DESC \\\n",
    "             LIMIT 10\n",
    "            \n",
    "df.get_dataframe()"
   ]
  },
  {
   "cell_type": "markdown",
   "metadata": {
    "collapsed": true
   },
   "source": [
    "### Importes de una persona agrupados por actividad"
   ]
  },
  {
   "cell_type": "markdown",
   "metadata": {},
   "source": [
    "En este caso se realiza una agrupación de los datos. Observa que Neo4j lo realiza automáticamente al utilizar una función de agrupación de datos como **SUM()**"
   ]
  },
  {
   "cell_type": "code",
   "execution_count": 19,
   "metadata": {
    "collapsed": false
   },
   "outputs": [
    {
     "name": "stdout",
     "output_type": "stream",
     "text": [
      "10 rows affected.\n"
     ]
    },
    {
     "data": {
      "text/html": [
       "<table>\n",
       "    <tr>\n",
       "        <th>persona.nombre</th>\n",
       "        <th>comercio.actividad_completa</th>\n",
       "        <th>importe</th>\n",
       "    </tr>\n",
       "    <tr>\n",
       "        <td>Mariano Pérez Claver</td>\n",
       "        <td>MUEBLES,ANTIGUEDADES Y GALERIAS DE ARTE</td>\n",
       "        <td>2210.41</td>\n",
       "    </tr>\n",
       "    <tr>\n",
       "        <td>Miguel Ángel Araujo Serrano</td>\n",
       "        <td>MUEBLES,ANTIGUEDADES Y GALERIAS DE ARTE</td>\n",
       "        <td>2150.0</td>\n",
       "    </tr>\n",
       "    <tr>\n",
       "        <td>Carlos María Martínez Martínez</td>\n",
       "        <td>MUEBLES,ANTIGUEDADES Y GALERIAS DE ARTE</td>\n",
       "        <td>2031.6</td>\n",
       "    </tr>\n",
       "    <tr>\n",
       "        <td>Ricardo Romero de Tejada y Picatoste</td>\n",
       "        <td>TAPICERIAS,ALFOMBRAS</td>\n",
       "        <td>1339.94</td>\n",
       "    </tr>\n",
       "    <tr>\n",
       "        <td>Rafael Spottorno Díaz Caro</td>\n",
       "        <td>ELECTRODOMESTICOS,EQUIPOS ELECTRICOS</td>\n",
       "        <td>1283.0</td>\n",
       "    </tr>\n",
       "    <tr>\n",
       "        <td>Rafael Spottorno Díaz Caro</td>\n",
       "        <td>MIRO ESTABLECIMIENTOS</td>\n",
       "        <td>1198.0</td>\n",
       "    </tr>\n",
       "    <tr>\n",
       "        <td>Ricardo Romero de Tejada y Picatoste</td>\n",
       "        <td>ELECTRODOMESTICOS,EQUIPOS ELECTRICOS</td>\n",
       "        <td>1108.0</td>\n",
       "    </tr>\n",
       "    <tr>\n",
       "        <td>Ricardo Romero de Tejada y Picatoste</td>\n",
       "        <td>FLORES Y PLANTAS</td>\n",
       "        <td>1000.0</td>\n",
       "    </tr>\n",
       "    <tr>\n",
       "        <td>Alejandro Couceiro Ojeda</td>\n",
       "        <td>ELECTRODOMESTICOS,EQUIPOS ELECTRICOS</td>\n",
       "        <td>980.95</td>\n",
       "    </tr>\n",
       "    <tr>\n",
       "        <td>Carlos María Martínez Martínez</td>\n",
       "        <td>FLORES Y PLANTAS</td>\n",
       "        <td>962.6</td>\n",
       "    </tr>\n",
       "</table>"
      ],
      "text/plain": [
       "[[u'Mariano P\\xe9rez Claver',\n",
       "  u'MUEBLES,ANTIGUEDADES Y GALERIAS DE ARTE',\n",
       "  2210.41],\n",
       " [u'Miguel \\xc1ngel Araujo Serrano',\n",
       "  u'MUEBLES,ANTIGUEDADES Y GALERIAS DE ARTE',\n",
       "  2150.0],\n",
       " [u'Carlos Mar\\xeda Mart\\xednez Mart\\xednez',\n",
       "  u'MUEBLES,ANTIGUEDADES Y GALERIAS DE ARTE',\n",
       "  2031.6],\n",
       " [u'Ricardo Romero de Tejada y Picatoste', u'TAPICERIAS,ALFOMBRAS', 1339.94],\n",
       " [u'Rafael Spottorno D\\xedaz Caro',\n",
       "  u'ELECTRODOMESTICOS,EQUIPOS ELECTRICOS',\n",
       "  1283.0],\n",
       " [u'Rafael Spottorno D\\xedaz Caro', u'MIRO ESTABLECIMIENTOS', 1198.0],\n",
       " [u'Ricardo Romero de Tejada y Picatoste',\n",
       "  u'ELECTRODOMESTICOS,EQUIPOS ELECTRICOS',\n",
       "  1108.0],\n",
       " [u'Ricardo Romero de Tejada y Picatoste', u'FLORES Y PLANTAS', 1000.0],\n",
       " [u'Alejandro Couceiro Ojeda',\n",
       "  u'ELECTRODOMESTICOS,EQUIPOS ELECTRICOS',\n",
       "  980.95],\n",
       " [u'Carlos Mar\\xeda Mart\\xednez Mart\\xednez', u'FLORES Y PLANTAS', 962.6]]"
      ]
     },
     "execution_count": 19,
     "metadata": {},
     "output_type": "execute_result"
    }
   ],
   "source": [
    "%%cypher\n",
    "MATCH (persona:Persona)-[:REALIZA]-(movimiento:Movimiento)-[:OCURRE]-(comercio:Comercio)\n",
    "WHERE comercio.actividad = 'HOGAR'\n",
    "RETURN persona.nombre, comercio.actividad_completa, SUM(movimiento.importe) as importe\n",
    "ORDER BY importe DESC\n",
    "LIMIT 10\n"
   ]
  },
  {
   "cell_type": "code",
   "execution_count": 23,
   "metadata": {
    "collapsed": false
   },
   "outputs": [
    {
     "data": {
      "text/html": [
       "<div>\n",
       "<style>\n",
       "    .dataframe thead tr:only-child th {\n",
       "        text-align: right;\n",
       "    }\n",
       "\n",
       "    .dataframe thead th {\n",
       "        text-align: left;\n",
       "    }\n",
       "\n",
       "    .dataframe tbody tr th {\n",
       "        vertical-align: top;\n",
       "    }\n",
       "</style>\n",
       "<table border=\"1\" class=\"dataframe\">\n",
       "  <thead>\n",
       "    <tr style=\"text-align: right;\">\n",
       "      <th></th>\n",
       "      <th>persona.nombre</th>\n",
       "      <th>comercio.actividad</th>\n",
       "      <th>importe</th>\n",
       "    </tr>\n",
       "  </thead>\n",
       "  <tbody>\n",
       "    <tr>\n",
       "      <th>0</th>\n",
       "      <td>Mariano Pérez Claver</td>\n",
       "      <td>CA$H</td>\n",
       "      <td>4200.00</td>\n",
       "    </tr>\n",
       "    <tr>\n",
       "      <th>1</th>\n",
       "      <td>Mariano Pérez Claver</td>\n",
       "      <td>AVION</td>\n",
       "      <td>3596.71</td>\n",
       "    </tr>\n",
       "    <tr>\n",
       "      <th>2</th>\n",
       "      <td>Mariano Pérez Claver</td>\n",
       "      <td>RESTAURANTE</td>\n",
       "      <td>2992.66</td>\n",
       "    </tr>\n",
       "    <tr>\n",
       "      <th>3</th>\n",
       "      <td>Mariano Pérez Claver</td>\n",
       "      <td>VIAJE</td>\n",
       "      <td>2959.67</td>\n",
       "    </tr>\n",
       "    <tr>\n",
       "      <th>4</th>\n",
       "      <td>Mariano Pérez Claver</td>\n",
       "      <td>HOGAR</td>\n",
       "      <td>2383.18</td>\n",
       "    </tr>\n",
       "    <tr>\n",
       "      <th>5</th>\n",
       "      <td>Mariano Pérez Claver</td>\n",
       "      <td>ROPA</td>\n",
       "      <td>2177.81</td>\n",
       "    </tr>\n",
       "    <tr>\n",
       "      <th>6</th>\n",
       "      <td>Mariano Pérez Claver</td>\n",
       "      <td>BARCO</td>\n",
       "      <td>1909.69</td>\n",
       "    </tr>\n",
       "    <tr>\n",
       "      <th>7</th>\n",
       "      <td>Mariano Pérez Claver</td>\n",
       "      <td>COMPRA BIENES</td>\n",
       "      <td>1554.10</td>\n",
       "    </tr>\n",
       "    <tr>\n",
       "      <th>8</th>\n",
       "      <td>Mariano Pérez Claver</td>\n",
       "      <td>SUPERMERCADO</td>\n",
       "      <td>1295.54</td>\n",
       "    </tr>\n",
       "    <tr>\n",
       "      <th>9</th>\n",
       "      <td>Mariano Pérez Claver</td>\n",
       "      <td>COCHE</td>\n",
       "      <td>584.14</td>\n",
       "    </tr>\n",
       "    <tr>\n",
       "      <th>10</th>\n",
       "      <td>Mariano Pérez Claver</td>\n",
       "      <td>IMAGEN</td>\n",
       "      <td>461.00</td>\n",
       "    </tr>\n",
       "    <tr>\n",
       "      <th>11</th>\n",
       "      <td>Mariano Pérez Claver</td>\n",
       "      <td>TREN</td>\n",
       "      <td>415.99</td>\n",
       "    </tr>\n",
       "    <tr>\n",
       "      <th>12</th>\n",
       "      <td>Mariano Pérez Claver</td>\n",
       "      <td>HOTEL</td>\n",
       "      <td>301.90</td>\n",
       "    </tr>\n",
       "    <tr>\n",
       "      <th>13</th>\n",
       "      <td>Mariano Pérez Claver</td>\n",
       "      <td>COMPRA BIENES LUJO</td>\n",
       "      <td>129.49</td>\n",
       "    </tr>\n",
       "    <tr>\n",
       "      <th>14</th>\n",
       "      <td>Mariano Pérez Claver</td>\n",
       "      <td>ESCUELA</td>\n",
       "      <td>93.23</td>\n",
       "    </tr>\n",
       "    <tr>\n",
       "      <th>15</th>\n",
       "      <td>Mariano Pérez Claver</td>\n",
       "      <td>MISC</td>\n",
       "      <td>57.95</td>\n",
       "    </tr>\n",
       "  </tbody>\n",
       "</table>\n",
       "</div>"
      ],
      "text/plain": [
       "          persona.nombre  comercio.actividad  importe\n",
       "0   Mariano Pérez Claver                CA$H  4200.00\n",
       "1   Mariano Pérez Claver               AVION  3596.71\n",
       "2   Mariano Pérez Claver         RESTAURANTE  2992.66\n",
       "3   Mariano Pérez Claver               VIAJE  2959.67\n",
       "4   Mariano Pérez Claver               HOGAR  2383.18\n",
       "5   Mariano Pérez Claver                ROPA  2177.81\n",
       "6   Mariano Pérez Claver               BARCO  1909.69\n",
       "7   Mariano Pérez Claver       COMPRA BIENES  1554.10\n",
       "8   Mariano Pérez Claver        SUPERMERCADO  1295.54\n",
       "9   Mariano Pérez Claver               COCHE   584.14\n",
       "10  Mariano Pérez Claver              IMAGEN   461.00\n",
       "11  Mariano Pérez Claver                TREN   415.99\n",
       "12  Mariano Pérez Claver               HOTEL   301.90\n",
       "13  Mariano Pérez Claver  COMPRA BIENES LUJO   129.49\n",
       "14  Mariano Pérez Claver             ESCUELA    93.23\n",
       "15  Mariano Pérez Claver                MISC    57.95"
      ]
     },
     "execution_count": 23,
     "metadata": {},
     "output_type": "execute_result"
    }
   ],
   "source": [
    "query = \"\"\"\n",
    "MATCH (organizacion:Organizacion)-[:PERTENECE]-(persona:Persona)-[:REALIZA]-(movimiento:Movimiento)-[:OCURRE]-(comercio:Comercio)\n",
    "WHERE persona.nombre = {name}\n",
    "RETURN persona.nombre, comercio.actividad, SUM(movimiento.importe) as importe\n",
    "ORDER BY importe DESC\n",
    "\"\"\"\n",
    "\n",
    "data = graph.run(query, name='Mariano Pérez Claver')\n",
    "get_dataframe(data)"
   ]
  },
  {
   "cell_type": "code",
   "execution_count": null,
   "metadata": {
    "collapsed": true
   },
   "outputs": [],
   "source": []
  }
 ],
 "metadata": {
  "kernelspec": {
   "display_name": "Python 2",
   "language": "python",
   "name": "python2"
  },
  "language_info": {
   "codemirror_mode": {
    "name": "ipython",
    "version": 2
   },
   "file_extension": ".py",
   "mimetype": "text/x-python",
   "name": "python",
   "nbconvert_exporter": "python",
   "pygments_lexer": "ipython2",
   "version": "2.7.6"
  }
 },
 "nbformat": 4,
 "nbformat_minor": 0
}
