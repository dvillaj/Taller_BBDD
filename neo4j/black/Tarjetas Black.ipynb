{
 "cells": [
  {
   "cell_type": "markdown",
   "metadata": {},
   "source": [
    "# Neo4j"
   ]
  },
  {
   "cell_type": "markdown",
   "metadata": {},
   "source": [
    "## Conexión con Cassandra y borrado de datos"
   ]
  },
  {
   "cell_type": "code",
   "execution_count": null,
   "metadata": {
    "collapsed": false,
    "jupyter": {
     "outputs_hidden": false
    }
   },
   "outputs": [],
   "source": [
    "%load_ext cypher"
   ]
  },
  {
   "cell_type": "code",
   "execution_count": null,
   "metadata": {
    "collapsed": false,
    "jupyter": {
     "outputs_hidden": false
    }
   },
   "outputs": [],
   "source": [
    "from py2neo import Graph, Node, Relationship\n",
    "\n",
    "graph = Graph()"
   ]
  },
  {
   "cell_type": "code",
   "execution_count": null,
   "metadata": {},
   "outputs": [],
   "source": [
    "# Borrado de todos los nodos y relaciones\n",
    "graph.delete_all()"
   ]
  },
  {
   "cell_type": "markdown",
   "metadata": {},
   "source": [
    "## Carga de datos en Pandas"
   ]
  },
  {
   "cell_type": "markdown",
   "metadata": {},
   "source": [
    "A partir del fichero Excel desnormalizamos los datos"
   ]
  },
  {
   "cell_type": "code",
   "execution_count": null,
   "metadata": {
    "collapsed": false,
    "jupyter": {
     "outputs_hidden": false
    }
   },
   "outputs": [],
   "source": [
    "import pandas as pd\n",
    "df_mov = pd.read_excel(\"../../data/black.xlsx\", sheet_name= \"Movimientos\")\n",
    "df_miembros = pd.read_excel(\"../../data/black.xlsx\", sheet_name= \"Miembros\")\n",
    "df = pd.merge(df_mov, df_miembros, on = ['id_miembro'], how = 'inner')\n",
    "df.info()"
   ]
  },
  {
   "cell_type": "markdown",
   "metadata": {},
   "source": [
    "## Carga de datos en Neo4j"
   ]
  },
  {
   "cell_type": "markdown",
   "metadata": {},
   "source": [
    "Limpiamos los datos para que no tengan nulos y evitar problemas con la sentencia MERGE de Neo"
   ]
  },
  {
   "cell_type": "code",
   "execution_count": null,
   "metadata": {},
   "outputs": [],
   "source": [
    "df.loc[df.comercio.isnull(),['comercio']] = 'Desconocido'\n",
    "df.loc[df.organizacion.isnull(),['organizacion']] = 'Desconocido'\n",
    "df.loc[df.actividad.isnull(),['actividad']] = 'Desconocido'\n",
    "df.loc[df.actividad_completa.isnull(),['actividad_completa']] = 'Desconocido'"
   ]
  },
  {
   "cell_type": "raw",
   "metadata": {
    "jupyter": {
     "outputs_hidden": false
    }
   },
   "source": [
    "df.loc[pd.isnull(df['comercio']),['comercio']] = 'Desconocido'\n",
    "df.loc[pd.isnull(df['organizacion']),['organizacion']] = 'Desconocido'\n",
    "df.loc[pd.isnull(df['actividad']),['actividad']] = 'Desconocido'\n",
    "df.loc[pd.isnull(df['actividad_completa']),['actividad_completa']] = 'Desconocido'"
   ]
  },
  {
   "cell_type": "markdown",
   "metadata": {},
   "source": [
    "La carga se realizará en Neo a partir de la lista de datos en formato JSON, generados con Pandas"
   ]
  },
  {
   "cell_type": "code",
   "execution_count": null,
   "metadata": {
    "collapsed": false,
    "jupyter": {
     "outputs_hidden": false
    }
   },
   "outputs": [],
   "source": [
    "import json\n",
    "\n",
    "json_string = df.to_json(orient = 'records')\n",
    "json_list = json.loads(json_string)"
   ]
  },
  {
   "cell_type": "markdown",
   "metadata": {},
   "source": [
    "En Neo se van a crear 3 tipos de nodos y 2 tipos de relaciones"
   ]
  },
  {
   "cell_type": "markdown",
   "metadata": {},
   "source": [
    "<br><br> \n",
    "\n",
    "<img src=\"images/Modelo%20Neo4j.png\" width=600 height=500>\n",
    "\n",
    "<br><br> "
   ]
  },
  {
   "cell_type": "markdown",
   "metadata": {},
   "source": [
    "Adicionalmente se van a guardar los siguientes atributos:\n",
    "\n",
    "**Nodo Comercio**\n",
    "- Nombre del comercio\n",
    "- Actividad a la que se dedica\n",
    "- Categoría de actividad (Podríamos haber creado un tipo de nodo independente)\n",
    "\n",
    "**Nodo Persona**\n",
    "- Nombre de la persona\n",
    "\n",
    "**Nodo Organización**\n",
    "- Nombre de la organización\n",
    "\n",
    "**Nodo Movimiento**\n",
    "- Fecha en formato UNIX Timestamp (el mismo formato que está en el JSON)\n",
    "- hora y minuto de la compra\n",
    "- Importe de la compra\n",
    "\n",
    "Respecto a las relaciones, vamos a almacenar los siguientes atributos:\n",
    "\n",
    "**Relación PERTECENE**\n",
    "- Función que hace la persona en una organización"
   ]
  },
  {
   "cell_type": "markdown",
   "metadata": {},
   "source": [
    "Creamos los nodos y relaciones en Neo4j simplemente iterando sobre la lista de JSONs."
   ]
  },
  {
   "cell_type": "code",
   "execution_count": null,
   "metadata": {
    "collapsed": false,
    "jupyter": {
     "outputs_hidden": false
    }
   },
   "outputs": [],
   "source": [
    "import datetime\n",
    "\n",
    "for index, movimiento_json in enumerate(json_list):\n",
    "    # Nodos\n",
    "    persona = Node(\"Persona\", nombre=movimiento_json[\"nombre\"])\n",
    "    comercio = Node(\"Comercio\", nombre=movimiento_json[\"comercio\"], \n",
    "                                actividad = movimiento_json[\"actividad\"],\n",
    "                                actividad_completa = movimiento_json[\"actividad_completa\"])\n",
    "    organizacion = Node(\"Organizacion\", nombre = movimiento_json[\"organizacion\"])\n",
    "    movimiento = Node(\"Movimiento\",\n",
    "            fecha = movimiento_json['fecha'],\n",
    "            hora =  movimiento_json[\"hora\"],\n",
    "            minuto =  movimiento_json[\"minuto\"],\n",
    "            importe = movimiento_json[\"importe\"])\n",
    "    \n",
    "        \n",
    "    # Relaciones  \n",
    "    rel_persona_organizacion = Relationship(persona, \"PERTENECE\", organizacion,\n",
    "                                           funcion = movimiento_json[\"funcion\"])\n",
    "    rel_persona_movimiento = Relationship(persona, \"REALIZA\", movimiento)\n",
    "    rel_movimiento_comercio = Relationship(movimiento, \"OCURRE\", comercio)\n",
    "       \n",
    "    graph.merge(persona | comercio | organizacion | rel_persona_organizacion)\n",
    "    graph.create(movimiento | rel_persona_movimiento | rel_movimiento_comercio)\n",
    "    \n",
    "    if index % 500 == 0:\n",
    "        print(index)\n"
   ]
  },
  {
   "cell_type": "markdown",
   "metadata": {},
   "source": [
    "<br><br> \n",
    "\n",
    "<img src=\"images/Resultado%20Neo4j.png\" width=800 height=600>\n",
    "\n",
    "<br><br> "
   ]
  },
  {
   "cell_type": "markdown",
   "metadata": {},
   "source": [
    "### Comprobaciones previas ..."
   ]
  },
  {
   "cell_type": "markdown",
   "metadata": {},
   "source": [
    "Número de movimientos ..."
   ]
  },
  {
   "cell_type": "code",
   "execution_count": null,
   "metadata": {
    "collapsed": false,
    "jupyter": {
     "outputs_hidden": false
    }
   },
   "outputs": [],
   "source": [
    "%%cypher\n",
    "MATCH (:Movimiento)\n",
    "RETURN count(*)"
   ]
  },
  {
   "cell_type": "markdown",
   "metadata": {},
   "source": [
    "Número de personas ..."
   ]
  },
  {
   "cell_type": "code",
   "execution_count": null,
   "metadata": {
    "collapsed": false,
    "jupyter": {
     "outputs_hidden": false
    }
   },
   "outputs": [],
   "source": [
    "%%cypher\n",
    "MATCH (:Persona)\n",
    "RETURN count(*)"
   ]
  },
  {
   "cell_type": "markdown",
   "metadata": {},
   "source": [
    "Número de comercios"
   ]
  },
  {
   "cell_type": "code",
   "execution_count": null,
   "metadata": {
    "collapsed": false,
    "jupyter": {
     "outputs_hidden": false
    }
   },
   "outputs": [],
   "source": [
    "%%cypher\n",
    "MATCH (c:Comercio)\n",
    "WHERE c.nombre <> 'Desconocido'\n",
    "RETURN count(*)"
   ]
  },
  {
   "cell_type": "markdown",
   "metadata": {},
   "source": [
    "Número de organizaciones"
   ]
  },
  {
   "cell_type": "code",
   "execution_count": null,
   "metadata": {
    "collapsed": false,
    "jupyter": {
     "outputs_hidden": false
    }
   },
   "outputs": [],
   "source": [
    "%%cypher\n",
    "MATCH (o:Organizacion)\n",
    "WHERE o.nombre <> 'Desconocido'\n",
    "RETURN count(*)"
   ]
  },
  {
   "cell_type": "markdown",
   "metadata": {},
   "source": [
    "All good!"
   ]
  },
  {
   "cell_type": "markdown",
   "metadata": {},
   "source": [
    "## Funciones de utilidad para la consulta de datos"
   ]
  },
  {
   "cell_type": "markdown",
   "metadata": {},
   "source": [
    "Neo4j, en su versión actual, no puede guardar datos de tipo fecha en los atributos, por lo que se almacena en formato TIMESTAMP de Unix (el formato original).  \n",
    "\n",
    "La siguiente función de utilidad convierte una columna de una DataFrame en formato TIMESTAMP a Fecha"
   ]
  },
  {
   "cell_type": "code",
   "execution_count": null,
   "metadata": {
    "collapsed": false,
    "jupyter": {
     "outputs_hidden": false
    }
   },
   "outputs": [],
   "source": [
    "def transform_date(df, column_name):\n",
    "    if column_name in df.columns:\n",
    "        # Las fechas están en formato UNIX TIMESTAMP. Las volvemos a convertir a formato Date...\n",
    "        df[column_name] = pd.to_datetime(df[column_name], unit = 'ms')\n",
    "        \n",
    "    return df"
   ]
  },
  {
   "cell_type": "markdown",
   "metadata": {},
   "source": [
    "Función de utilidad para convertir los resultados devueltos por la base de datos en un DataFrame de Pandas"
   ]
  },
  {
   "cell_type": "code",
   "execution_count": null,
   "metadata": {},
   "outputs": [],
   "source": [
    "def get_dataframe(data):\n",
    "    df = pd.DataFrame(list(data), columns = data.keys())\n",
    "        \n",
    "    return df"
   ]
  },
  {
   "cell_type": "markdown",
   "metadata": {},
   "source": [
    "## Consulta a Neo4j"
   ]
  },
  {
   "cell_type": "markdown",
   "metadata": {},
   "source": [
    "### Los 10 movimientos mas caros"
   ]
  },
  {
   "cell_type": "markdown",
   "metadata": {},
   "source": [
    "Para obtener las lista de personas que mas han gastado simplemente relacionamos los 3 tipos de nodos y devolvemos los campos que nos interesan"
   ]
  },
  {
   "cell_type": "code",
   "execution_count": null,
   "metadata": {
    "collapsed": false,
    "jupyter": {
     "outputs_hidden": false
    }
   },
   "outputs": [],
   "source": [
    "%%cypher\n",
    "MATCH (persona:Persona)-[:REALIZA]-(movimiento:Movimiento)-[:OCURRE]-(comercio:Comercio)\n",
    "RETURN persona.nombre, comercio.actividad_completa, movimiento.importe\n",
    "ORDER BY movimiento.importe DESC\n",
    "LIMIT 10"
   ]
  },
  {
   "cell_type": "markdown",
   "metadata": {},
   "source": [
    "Utilizamos la función ** graph.run()** para obtener un ResultSet de datos, que es transformada en un Dataframe de Pandas"
   ]
  },
  {
   "cell_type": "code",
   "execution_count": null,
   "metadata": {
    "collapsed": false,
    "jupyter": {
     "outputs_hidden": false
    }
   },
   "outputs": [],
   "source": [
    "query = \"\"\"\n",
    "MATCH (persona:Persona)-[:REALIZA]-(movimiento:Movimiento)-[:OCURRE]-(comercio:Comercio)\n",
    "RETURN persona.nombre, comercio.actividad_completa, movimiento.importe\n",
    "ORDER BY movimiento.importe DESC\n",
    "LIMIT 10\n",
    "\"\"\" \n",
    "\n",
    "data = graph.run(query)\n",
    "df = get_dataframe(data)\n",
    "df = transform_date(df, 'compra.fecha')\n",
    "df"
   ]
  },
  {
   "cell_type": "markdown",
   "metadata": {},
   "source": [
    "La misma query que el caso anterior pero utilizando un método distinto.  \n",
    "El fin es el mismo: Una DataFrame de Pandas"
   ]
  },
  {
   "cell_type": "code",
   "execution_count": null,
   "metadata": {
    "collapsed": false,
    "jupyter": {
     "outputs_hidden": false
    }
   },
   "outputs": [],
   "source": [
    "df = %cypher MATCH (persona:Persona)-[:REALIZA]-(movimiento:Movimiento)-[:OCURRE]-(comercio:Comercio) \\\n",
    "             RETURN persona.nombre, comercio.actividad_completa, movimiento.importe \\\n",
    "             ORDER BY movimiento.importe DESC \\\n",
    "             LIMIT 10\n",
    "            \n",
    "df.get_dataframe()"
   ]
  },
  {
   "cell_type": "markdown",
   "metadata": {},
   "source": [
    "### Importes de una persona agrupados por actividad"
   ]
  },
  {
   "cell_type": "markdown",
   "metadata": {},
   "source": [
    "En este caso se realiza una agrupación de los datos. Observa que Neo4j lo realiza automáticamente al utilizar una función de agrupación de datos como **SUM()**"
   ]
  },
  {
   "cell_type": "code",
   "execution_count": null,
   "metadata": {
    "collapsed": false,
    "jupyter": {
     "outputs_hidden": false
    }
   },
   "outputs": [],
   "source": [
    "%%cypher\n",
    "MATCH (persona:Persona)-[:REALIZA]-(movimiento:Movimiento)-[:OCURRE]-(comercio:Comercio)\n",
    "WHERE comercio.actividad = 'HOGAR'\n",
    "RETURN persona.nombre, comercio.actividad_completa, SUM(movimiento.importe) as importe\n",
    "ORDER BY importe DESC\n",
    "LIMIT 10\n"
   ]
  },
  {
   "cell_type": "code",
   "execution_count": null,
   "metadata": {
    "collapsed": false,
    "jupyter": {
     "outputs_hidden": false
    }
   },
   "outputs": [],
   "source": [
    "query = \"\"\"\n",
    "MATCH (organizacion:Organizacion)-[:PERTENECE]-(persona:Persona)-[:REALIZA]-(movimiento:Movimiento)-[:OCURRE]-(comercio:Comercio)\n",
    "WHERE persona.nombre = {name}\n",
    "RETURN persona.nombre, comercio.actividad, SUM(movimiento.importe) as importe\n",
    "ORDER BY importe DESC\n",
    "\"\"\"\n",
    "\n",
    "data = graph.run(query, name='Mariano Pérez Claver')\n",
    "get_dataframe(data)"
   ]
  },
  {
   "cell_type": "code",
   "execution_count": null,
   "metadata": {},
   "outputs": [],
   "source": []
  },
  {
   "cell_type": "code",
   "execution_count": null,
   "metadata": {},
   "outputs": [],
   "source": []
  }
 ],
 "metadata": {
  "kernelspec": {
   "display_name": "Python 3",
   "language": "python",
   "name": "python3"
  },
  "language_info": {
   "codemirror_mode": {
    "name": "ipython",
    "version": 3
   },
   "file_extension": ".py",
   "mimetype": "text/x-python",
   "name": "python",
   "nbconvert_exporter": "python",
   "pygments_lexer": "ipython3",
   "version": "3.6.9"
  }
 },
 "nbformat": 4,
 "nbformat_minor": 4
}
