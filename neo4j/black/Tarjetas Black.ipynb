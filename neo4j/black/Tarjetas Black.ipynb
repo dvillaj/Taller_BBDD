{
 "cells": [
  {
   "cell_type": "markdown",
   "metadata": {},
   "source": [
    "# Neo4j"
   ]
  },
  {
   "cell_type": "markdown",
   "metadata": {},
   "source": [
    "## Conexión con Cassandra y borrado de datos"
   ]
  },
  {
   "cell_type": "code",
   "execution_count": 1,
   "metadata": {
    "collapsed": false,
    "jupyter": {
     "outputs_hidden": false
    }
   },
   "outputs": [],
   "source": [
    "%load_ext cypher"
   ]
  },
  {
   "cell_type": "code",
   "execution_count": 2,
   "metadata": {
    "collapsed": false,
    "jupyter": {
     "outputs_hidden": false
    }
   },
   "outputs": [],
   "source": [
    "from py2neo import Graph, Node, Relationship\n",
    "\n",
    "graph = Graph()"
   ]
  },
  {
   "cell_type": "code",
   "execution_count": 3,
   "metadata": {},
   "outputs": [],
   "source": [
    "# Borrado de todos los nodos y relaciones\n",
    "graph.delete_all()"
   ]
  },
  {
   "cell_type": "markdown",
   "metadata": {},
   "source": [
    "## Carga de datos en Pandas"
   ]
  },
  {
   "cell_type": "markdown",
   "metadata": {},
   "source": [
    "A partir del fichero Excel desnormalizamos los datos"
   ]
  },
  {
   "cell_type": "code",
   "execution_count": 5,
   "metadata": {
    "collapsed": false,
    "jupyter": {
     "outputs_hidden": false
    }
   },
   "outputs": [
    {
     "name": "stdout",
     "output_type": "stream",
     "text": [
      "<class 'pandas.core.frame.DataFrame'>\n",
      "Int64Index: 7624 entries, 0 to 7623\n",
      "Data columns (total 11 columns):\n",
      " #   Column              Non-Null Count  Dtype         \n",
      "---  ------              --------------  -----         \n",
      " 0   id_miembro          7624 non-null   int64         \n",
      " 1   fecha               7624 non-null   datetime64[ns]\n",
      " 2   minuto              7624 non-null   int64         \n",
      " 3   hora                7624 non-null   int64         \n",
      " 4   importe             7624 non-null   float64       \n",
      " 5   comercio            6882 non-null   object        \n",
      " 6   actividad_completa  7621 non-null   object        \n",
      " 7   actividad           7621 non-null   object        \n",
      " 8   nombre              7624 non-null   object        \n",
      " 9   funcion             7624 non-null   object        \n",
      " 10  organizacion        6086 non-null   object        \n",
      "dtypes: datetime64[ns](1), float64(1), int64(3), object(6)\n",
      "memory usage: 714.8+ KB\n"
     ]
    }
   ],
   "source": [
    "import pandas as pd\n",
    "df_mov = pd.read_excel(\"../../data/black.xlsx\", sheet_name= \"Movimientos\")\n",
    "df_miembros = pd.read_excel(\"../../data/black.xlsx\", sheet_name= \"Miembros\")\n",
    "df = pd.merge(df_mov, df_miembros, on = ['id_miembro'], how = 'inner')\n",
    "df.info()"
   ]
  },
  {
   "cell_type": "markdown",
   "metadata": {},
   "source": [
    "## Carga de datos en Neo4j"
   ]
  },
  {
   "cell_type": "markdown",
   "metadata": {},
   "source": [
    "Limpiamos los datos para que no tengan nulos y evitar problemas con la sentencia MERGE de Neo"
   ]
  },
  {
   "cell_type": "code",
   "execution_count": 7,
   "metadata": {
    "collapsed": false,
    "jupyter": {
     "outputs_hidden": false
    }
   },
   "outputs": [],
   "source": [
    "df.loc[pd.isnull(df['comercio']),['comercio']] = 'Desconocido'\n",
    "df.loc[pd.isnull(df['organizacion']),['organizacion']] = 'Desconocido'\n",
    "df.loc[pd.isnull(df['actividad']),['actividad']] = 'Desconocido'\n",
    "df.loc[pd.isnull(df['actividad_completa']),['actividad_completa']] = 'Desconocido'"
   ]
  },
  {
   "cell_type": "markdown",
   "metadata": {},
   "source": [
    "La carga se realizará en Neo a partir de la lista de datos en formato JSON, generados con Pandas"
   ]
  },
  {
   "cell_type": "code",
   "execution_count": 8,
   "metadata": {
    "collapsed": false,
    "jupyter": {
     "outputs_hidden": false
    }
   },
   "outputs": [],
   "source": [
    "import json\n",
    "\n",
    "json_string = df.to_json(orient = 'records')\n",
    "json_list = json.loads(json_string)"
   ]
  },
  {
   "cell_type": "markdown",
   "metadata": {},
   "source": [
    "En Neo se van a crear 3 tipos de nodos y 2 tipos de relaciones"
   ]
  },
  {
   "cell_type": "markdown",
   "metadata": {},
   "source": [
    "<br><br> \n",
    "\n",
    "<img src=\"images/Modelo%20Neo4j.png\" width=600 height=500>\n",
    "\n",
    "<br><br> "
   ]
  },
  {
   "cell_type": "markdown",
   "metadata": {},
   "source": [
    "Adicionalmente se van a guardar los siguientes atributos:\n",
    "\n",
    "**Nodo Comercio**\n",
    "- Nombre del comercio\n",
    "- Actividad a la que se dedica\n",
    "- Categoría de actividad (Podríamos haber creado un tipo de nodo independente)\n",
    "\n",
    "**Nodo Persona**\n",
    "- Nombre de la persona\n",
    "\n",
    "**Nodo Organización**\n",
    "- Nombre de la organización\n",
    "\n",
    "**Nodo Movimiento**\n",
    "- Fecha en formato UNIX Timestamp (el mismo formato que está en el JSON)\n",
    "- hora y minuto de la compra\n",
    "- Importe de la compra\n",
    "\n",
    "Respecto a las relaciones, vamos a almacenar los siguientes atributos:\n",
    "\n",
    "**Relación PERTECENE**\n",
    "- Función que hace la persona en una organización"
   ]
  },
  {
   "cell_type": "markdown",
   "metadata": {},
   "source": [
    "Creamos los nodos y relaciones en Neo4j simplemente iterando sobre la lista de JSONs."
   ]
  },
  {
   "cell_type": "code",
   "execution_count": 10,
   "metadata": {
    "collapsed": false,
    "jupyter": {
     "outputs_hidden": false
    }
   },
   "outputs": [
    {
     "name": "stdout",
     "output_type": "stream",
     "text": [
      "0\n",
      "500\n",
      "1000\n",
      "1500\n",
      "2000\n",
      "2500\n",
      "3000\n",
      "3500\n",
      "4000\n",
      "4500\n",
      "5000\n",
      "5500\n",
      "6000\n",
      "6500\n",
      "7000\n",
      "7500\n"
     ]
    }
   ],
   "source": [
    "import datetime\n",
    "\n",
    "for index, movimiento_json in enumerate(json_list):\n",
    "    # Nodos\n",
    "    persona = Node(\"Persona\", nombre=movimiento_json[\"nombre\"])\n",
    "    comercio = Node(\"Comercio\", nombre=movimiento_json[\"comercio\"], \n",
    "                                actividad = movimiento_json[\"actividad\"],\n",
    "                                actividad_completa = movimiento_json[\"actividad_completa\"])\n",
    "    organizacion = Node(\"Organizacion\", nombre = movimiento_json[\"organizacion\"])\n",
    "    movimiento = Node(\"Movimiento\",\n",
    "            fecha = movimiento_json['fecha'],\n",
    "            hora =  movimiento_json[\"hora\"],\n",
    "            minuto =  movimiento_json[\"minuto\"],\n",
    "            importe = movimiento_json[\"importe\"])\n",
    "    \n",
    "        \n",
    "    # Relaciones  \n",
    "    rel_persona_organizacion = Relationship(persona, \"PERTENECE\", organizacion,\n",
    "                                           funcion = movimiento_json[\"funcion\"])\n",
    "    rel_persona_movimiento = Relationship(persona, \"REALIZA\", movimiento)\n",
    "    rel_movimiento_comercio = Relationship(movimiento, \"OCURRE\", comercio)\n",
    "       \n",
    "    graph.merge(persona | comercio | organizacion | rel_persona_organizacion)\n",
    "    graph.create(movimiento | rel_persona_movimiento | rel_movimiento_comercio)\n",
    "    \n",
    "    if index % 500 == 0:\n",
    "        print(index)\n"
   ]
  },
  {
   "cell_type": "markdown",
   "metadata": {},
   "source": [
    "<br><br> \n",
    "\n",
    "<img src=\"images/Resultado%20Neo4j.png\" width=800 height=600>\n",
    "\n",
    "<br><br> "
   ]
  },
  {
   "cell_type": "markdown",
   "metadata": {},
   "source": [
    "### Comprobaciones previas ..."
   ]
  },
  {
   "cell_type": "markdown",
   "metadata": {},
   "source": [
    "Número de movimientos ..."
   ]
  },
  {
   "cell_type": "code",
   "execution_count": 11,
   "metadata": {
    "collapsed": false,
    "jupyter": {
     "outputs_hidden": false
    }
   },
   "outputs": [
    {
     "name": "stdout",
     "output_type": "stream",
     "text": [
      "1 rows affected.\n"
     ]
    },
    {
     "data": {
      "text/html": [
       "<table>\n",
       "    <tr>\n",
       "        <th>count(*)</th>\n",
       "    </tr>\n",
       "    <tr>\n",
       "        <td>7624</td>\n",
       "    </tr>\n",
       "</table>"
      ],
      "text/plain": [
       "[[7624]]"
      ]
     },
     "execution_count": 11,
     "metadata": {},
     "output_type": "execute_result"
    }
   ],
   "source": [
    "%%cypher\n",
    "MATCH (:Movimiento)\n",
    "RETURN count(*)"
   ]
  },
  {
   "cell_type": "markdown",
   "metadata": {},
   "source": [
    "Número de personas ..."
   ]
  },
  {
   "cell_type": "code",
   "execution_count": 12,
   "metadata": {
    "collapsed": false,
    "jupyter": {
     "outputs_hidden": false
    }
   },
   "outputs": [
    {
     "name": "stdout",
     "output_type": "stream",
     "text": [
      "1 rows affected.\n"
     ]
    },
    {
     "data": {
      "text/html": [
       "<table>\n",
       "    <tr>\n",
       "        <th>count(*)</th>\n",
       "    </tr>\n",
       "    <tr>\n",
       "        <td>82</td>\n",
       "    </tr>\n",
       "</table>"
      ],
      "text/plain": [
       "[[82]]"
      ]
     },
     "execution_count": 12,
     "metadata": {},
     "output_type": "execute_result"
    }
   ],
   "source": [
    "%%cypher\n",
    "MATCH (:Persona)\n",
    "RETURN count(*)"
   ]
  },
  {
   "cell_type": "markdown",
   "metadata": {},
   "source": [
    "Número de comercios"
   ]
  },
  {
   "cell_type": "code",
   "execution_count": 13,
   "metadata": {
    "collapsed": false,
    "jupyter": {
     "outputs_hidden": false
    }
   },
   "outputs": [
    {
     "name": "stdout",
     "output_type": "stream",
     "text": [
      "1 rows affected.\n"
     ]
    },
    {
     "data": {
      "text/html": [
       "<table>\n",
       "    <tr>\n",
       "        <th>count(*)</th>\n",
       "    </tr>\n",
       "    <tr>\n",
       "        <td>3177</td>\n",
       "    </tr>\n",
       "</table>"
      ],
      "text/plain": [
       "[[3177]]"
      ]
     },
     "execution_count": 13,
     "metadata": {},
     "output_type": "execute_result"
    }
   ],
   "source": [
    "%%cypher\n",
    "MATCH (c:Comercio)\n",
    "WHERE c.nombre <> 'Desconocido'\n",
    "RETURN count(*)"
   ]
  },
  {
   "cell_type": "markdown",
   "metadata": {},
   "source": [
    "Número de organizaciones"
   ]
  },
  {
   "cell_type": "code",
   "execution_count": 14,
   "metadata": {
    "collapsed": false,
    "jupyter": {
     "outputs_hidden": false
    }
   },
   "outputs": [
    {
     "name": "stdout",
     "output_type": "stream",
     "text": [
      "1 rows affected.\n"
     ]
    },
    {
     "data": {
      "text/html": [
       "<table>\n",
       "    <tr>\n",
       "        <th>count(*)</th>\n",
       "    </tr>\n",
       "    <tr>\n",
       "        <td>10</td>\n",
       "    </tr>\n",
       "</table>"
      ],
      "text/plain": [
       "[[10]]"
      ]
     },
     "execution_count": 14,
     "metadata": {},
     "output_type": "execute_result"
    }
   ],
   "source": [
    "%%cypher\n",
    "MATCH (o:Organizacion)\n",
    "WHERE o.nombre <> 'Desconocido'\n",
    "RETURN count(*)"
   ]
  },
  {
   "cell_type": "markdown",
   "metadata": {},
   "source": [
    "All good!"
   ]
  },
  {
   "cell_type": "markdown",
   "metadata": {},
   "source": [
    "## Funciones de utilidad para la consulta de datos"
   ]
  },
  {
   "cell_type": "markdown",
   "metadata": {},
   "source": [
    "Neo4j, en su versión actual, no puede guardar datos de tipo fecha en los atributos, por lo que se almacena en formato TIMESTAMP de Unix (el formato original).  \n",
    "\n",
    "La siguiente función de utilidad convierte una columna de una DataFrame en formato TIMESTAMP a Fecha"
   ]
  },
  {
   "cell_type": "code",
   "execution_count": 15,
   "metadata": {
    "collapsed": false,
    "jupyter": {
     "outputs_hidden": false
    }
   },
   "outputs": [],
   "source": [
    "def transform_date(df, column_name):\n",
    "    if column_name in df.columns:\n",
    "        # Las fechas están en formato UNIX TIMESTAMP. Las volvemos a convertir a formato Date...\n",
    "        df[column_name] = pd.to_datetime(df[column_name], unit = 'ms')\n",
    "        \n",
    "    return df"
   ]
  },
  {
   "cell_type": "markdown",
   "metadata": {},
   "source": [
    "Función de utilidad para convertir los resultados devueltos por la base de datos en un DataFrame de Pandas"
   ]
  },
  {
   "cell_type": "code",
   "execution_count": 16,
   "metadata": {},
   "outputs": [],
   "source": [
    "def get_dataframe(data):\n",
    "    df = pd.DataFrame(list(data), columns = data.keys())\n",
    "        \n",
    "    return df"
   ]
  },
  {
   "cell_type": "markdown",
   "metadata": {},
   "source": [
    "## Consulta a Neo4j"
   ]
  },
  {
   "cell_type": "markdown",
   "metadata": {},
   "source": [
    "### Los 10 movimientos mas caros"
   ]
  },
  {
   "cell_type": "markdown",
   "metadata": {},
   "source": [
    "Para obtener las lista de personas que mas han gastado simplemente relacionamos los 3 tipos de nodos y devolvemos los campos que nos interesan"
   ]
  },
  {
   "cell_type": "code",
   "execution_count": 17,
   "metadata": {
    "collapsed": false,
    "jupyter": {
     "outputs_hidden": false
    }
   },
   "outputs": [
    {
     "name": "stdout",
     "output_type": "stream",
     "text": [
      "10 rows affected.\n"
     ]
    },
    {
     "data": {
      "text/html": [
       "<table>\n",
       "    <tr>\n",
       "        <th>persona.nombre</th>\n",
       "        <th>comercio.actividad_completa</th>\n",
       "        <th>movimiento.importe</th>\n",
       "    </tr>\n",
       "    <tr>\n",
       "        <td>Carmen Contreras Gómez</td>\n",
       "        <td>HOTELES 4 Y 5 ESTRELLAS,BALNEARIOS,CAMPI</td>\n",
       "        <td>9076.76</td>\n",
       "    </tr>\n",
       "    <tr>\n",
       "        <td>Ildefonso José Sánchez Barcoj</td>\n",
       "        <td>AGENCIAS BANCARIAS(ANTICIPO VENTANILLA)</td>\n",
       "        <td>7500.0</td>\n",
       "    </tr>\n",
       "    <tr>\n",
       "        <td>Ildefonso José Sánchez Barcoj</td>\n",
       "        <td>EL CORTE INGLES</td>\n",
       "        <td>6593.2</td>\n",
       "    </tr>\n",
       "    <tr>\n",
       "        <td>Miguel Blesa de la Parra</td>\n",
       "        <td>EL CORTE INGLES</td>\n",
       "        <td>6397.31</td>\n",
       "    </tr>\n",
       "    <tr>\n",
       "        <td>Ramón Ferraz Ricarte</td>\n",
       "        <td>EL CORTE INGLES</td>\n",
       "        <td>6248.0</td>\n",
       "    </tr>\n",
       "    <tr>\n",
       "        <td>Ramón Ferraz Ricarte</td>\n",
       "        <td>HYATT HOTELS</td>\n",
       "        <td>6160.81</td>\n",
       "    </tr>\n",
       "    <tr>\n",
       "        <td>Carmen Contreras Gómez</td>\n",
       "        <td>HOTELES 4 Y 5 ESTRELLAS,BALNEARIOS,CAMPI</td>\n",
       "        <td>6102.68</td>\n",
       "    </tr>\n",
       "    <tr>\n",
       "        <td>Mariano Pérez Claver</td>\n",
       "        <td>AGENCIAS DE VIAJES</td>\n",
       "        <td>6000.0</td>\n",
       "    </tr>\n",
       "    <tr>\n",
       "        <td>María Carmen Cafranga Cavestany</td>\n",
       "        <td>V.DIST.VIAJES Y TRANSPORTE DE VIAJEROS</td>\n",
       "        <td>5500.0</td>\n",
       "    </tr>\n",
       "    <tr>\n",
       "        <td>Estanislao Rodríguez-Ponga Salamanca</td>\n",
       "        <td>EL CORTE INGLES</td>\n",
       "        <td>5500.0</td>\n",
       "    </tr>\n",
       "</table>"
      ],
      "text/plain": [
       "[['Carmen Contreras Gómez',\n",
       "  'HOTELES 4 Y 5 ESTRELLAS,BALNEARIOS,CAMPI',\n",
       "  9076.76],\n",
       " ['Ildefonso José Sánchez Barcoj',\n",
       "  'AGENCIAS BANCARIAS(ANTICIPO VENTANILLA)',\n",
       "  7500.0],\n",
       " ['Ildefonso José Sánchez Barcoj', 'EL CORTE INGLES', 6593.2],\n",
       " ['Miguel Blesa de la Parra', 'EL CORTE INGLES', 6397.31],\n",
       " ['Ramón Ferraz Ricarte', 'EL CORTE INGLES', 6248.0],\n",
       " ['Ramón Ferraz Ricarte', 'HYATT HOTELS', 6160.81],\n",
       " ['Carmen Contreras Gómez',\n",
       "  'HOTELES 4 Y 5 ESTRELLAS,BALNEARIOS,CAMPI',\n",
       "  6102.68],\n",
       " ['Mariano Pérez Claver', 'AGENCIAS DE VIAJES', 6000.0],\n",
       " ['María Carmen Cafranga Cavestany',\n",
       "  'V.DIST.VIAJES Y TRANSPORTE DE VIAJEROS',\n",
       "  5500.0],\n",
       " ['Estanislao Rodríguez-Ponga Salamanca', 'EL CORTE INGLES', 5500.0]]"
      ]
     },
     "execution_count": 17,
     "metadata": {},
     "output_type": "execute_result"
    }
   ],
   "source": [
    "%%cypher\n",
    "MATCH (persona:Persona)-[:REALIZA]-(movimiento:Movimiento)-[:OCURRE]-(comercio:Comercio)\n",
    "RETURN persona.nombre, comercio.actividad_completa, movimiento.importe\n",
    "ORDER BY movimiento.importe DESC\n",
    "LIMIT 10"
   ]
  },
  {
   "cell_type": "markdown",
   "metadata": {},
   "source": [
    "Utilizamos la función ** graph.run()** para obtener un ResultSet de datos, que es transformada en un Dataframe de Pandas"
   ]
  },
  {
   "cell_type": "code",
   "execution_count": 18,
   "metadata": {
    "collapsed": false,
    "jupyter": {
     "outputs_hidden": false
    }
   },
   "outputs": [
    {
     "data": {
      "text/html": [
       "<div>\n",
       "<style scoped>\n",
       "    .dataframe tbody tr th:only-of-type {\n",
       "        vertical-align: middle;\n",
       "    }\n",
       "\n",
       "    .dataframe tbody tr th {\n",
       "        vertical-align: top;\n",
       "    }\n",
       "\n",
       "    .dataframe thead th {\n",
       "        text-align: right;\n",
       "    }\n",
       "</style>\n",
       "<table border=\"1\" class=\"dataframe\">\n",
       "  <thead>\n",
       "    <tr style=\"text-align: right;\">\n",
       "      <th></th>\n",
       "      <th>persona.nombre</th>\n",
       "      <th>comercio.actividad_completa</th>\n",
       "      <th>movimiento.importe</th>\n",
       "    </tr>\n",
       "  </thead>\n",
       "  <tbody>\n",
       "    <tr>\n",
       "      <th>0</th>\n",
       "      <td>Carmen Contreras Gómez</td>\n",
       "      <td>HOTELES 4 Y 5 ESTRELLAS,BALNEARIOS,CAMPI</td>\n",
       "      <td>9076.76</td>\n",
       "    </tr>\n",
       "    <tr>\n",
       "      <th>1</th>\n",
       "      <td>Ildefonso José Sánchez Barcoj</td>\n",
       "      <td>AGENCIAS BANCARIAS(ANTICIPO VENTANILLA)</td>\n",
       "      <td>7500.00</td>\n",
       "    </tr>\n",
       "    <tr>\n",
       "      <th>2</th>\n",
       "      <td>Ildefonso José Sánchez Barcoj</td>\n",
       "      <td>EL CORTE INGLES</td>\n",
       "      <td>6593.20</td>\n",
       "    </tr>\n",
       "    <tr>\n",
       "      <th>3</th>\n",
       "      <td>Miguel Blesa de la Parra</td>\n",
       "      <td>EL CORTE INGLES</td>\n",
       "      <td>6397.31</td>\n",
       "    </tr>\n",
       "    <tr>\n",
       "      <th>4</th>\n",
       "      <td>Ramón Ferraz Ricarte</td>\n",
       "      <td>EL CORTE INGLES</td>\n",
       "      <td>6248.00</td>\n",
       "    </tr>\n",
       "    <tr>\n",
       "      <th>5</th>\n",
       "      <td>Ramón Ferraz Ricarte</td>\n",
       "      <td>HYATT HOTELS</td>\n",
       "      <td>6160.81</td>\n",
       "    </tr>\n",
       "    <tr>\n",
       "      <th>6</th>\n",
       "      <td>Carmen Contreras Gómez</td>\n",
       "      <td>HOTELES 4 Y 5 ESTRELLAS,BALNEARIOS,CAMPI</td>\n",
       "      <td>6102.68</td>\n",
       "    </tr>\n",
       "    <tr>\n",
       "      <th>7</th>\n",
       "      <td>Mariano Pérez Claver</td>\n",
       "      <td>AGENCIAS DE VIAJES</td>\n",
       "      <td>6000.00</td>\n",
       "    </tr>\n",
       "    <tr>\n",
       "      <th>8</th>\n",
       "      <td>María Carmen Cafranga Cavestany</td>\n",
       "      <td>V.DIST.VIAJES Y TRANSPORTE DE VIAJEROS</td>\n",
       "      <td>5500.00</td>\n",
       "    </tr>\n",
       "    <tr>\n",
       "      <th>9</th>\n",
       "      <td>Estanislao Rodríguez-Ponga Salamanca</td>\n",
       "      <td>EL CORTE INGLES</td>\n",
       "      <td>5500.00</td>\n",
       "    </tr>\n",
       "  </tbody>\n",
       "</table>\n",
       "</div>"
      ],
      "text/plain": [
       "                         persona.nombre  \\\n",
       "0                Carmen Contreras Gómez   \n",
       "1         Ildefonso José Sánchez Barcoj   \n",
       "2         Ildefonso José Sánchez Barcoj   \n",
       "3              Miguel Blesa de la Parra   \n",
       "4                  Ramón Ferraz Ricarte   \n",
       "5                  Ramón Ferraz Ricarte   \n",
       "6                Carmen Contreras Gómez   \n",
       "7                  Mariano Pérez Claver   \n",
       "8       María Carmen Cafranga Cavestany   \n",
       "9  Estanislao Rodríguez-Ponga Salamanca   \n",
       "\n",
       "                comercio.actividad_completa  movimiento.importe  \n",
       "0  HOTELES 4 Y 5 ESTRELLAS,BALNEARIOS,CAMPI             9076.76  \n",
       "1   AGENCIAS BANCARIAS(ANTICIPO VENTANILLA)             7500.00  \n",
       "2                           EL CORTE INGLES             6593.20  \n",
       "3                           EL CORTE INGLES             6397.31  \n",
       "4                           EL CORTE INGLES             6248.00  \n",
       "5                              HYATT HOTELS             6160.81  \n",
       "6  HOTELES 4 Y 5 ESTRELLAS,BALNEARIOS,CAMPI             6102.68  \n",
       "7                        AGENCIAS DE VIAJES             6000.00  \n",
       "8    V.DIST.VIAJES Y TRANSPORTE DE VIAJEROS             5500.00  \n",
       "9                           EL CORTE INGLES             5500.00  "
      ]
     },
     "execution_count": 18,
     "metadata": {},
     "output_type": "execute_result"
    }
   ],
   "source": [
    "query = \"\"\"\n",
    "MATCH (persona:Persona)-[:REALIZA]-(movimiento:Movimiento)-[:OCURRE]-(comercio:Comercio)\n",
    "RETURN persona.nombre, comercio.actividad_completa, movimiento.importe\n",
    "ORDER BY movimiento.importe DESC\n",
    "LIMIT 10\n",
    "\"\"\" \n",
    "\n",
    "data = graph.run(query)\n",
    "df = get_dataframe(data)\n",
    "df = transform_date(df, 'compra.fecha')\n",
    "df"
   ]
  },
  {
   "cell_type": "markdown",
   "metadata": {},
   "source": [
    "La misma query que el caso anterior pero utilizando un método distinto.  \n",
    "El fin es el mismo: Una DataFrame de Pandas"
   ]
  },
  {
   "cell_type": "code",
   "execution_count": 19,
   "metadata": {
    "collapsed": false,
    "jupyter": {
     "outputs_hidden": false
    }
   },
   "outputs": [
    {
     "name": "stdout",
     "output_type": "stream",
     "text": [
      "10 rows affected.\n"
     ]
    },
    {
     "data": {
      "text/html": [
       "<div>\n",
       "<style scoped>\n",
       "    .dataframe tbody tr th:only-of-type {\n",
       "        vertical-align: middle;\n",
       "    }\n",
       "\n",
       "    .dataframe tbody tr th {\n",
       "        vertical-align: top;\n",
       "    }\n",
       "\n",
       "    .dataframe thead th {\n",
       "        text-align: right;\n",
       "    }\n",
       "</style>\n",
       "<table border=\"1\" class=\"dataframe\">\n",
       "  <thead>\n",
       "    <tr style=\"text-align: right;\">\n",
       "      <th></th>\n",
       "      <th>persona.nombre</th>\n",
       "      <th>comercio.actividad_completa</th>\n",
       "      <th>movimiento.importe</th>\n",
       "    </tr>\n",
       "  </thead>\n",
       "  <tbody>\n",
       "    <tr>\n",
       "      <th>0</th>\n",
       "      <td>Carmen Contreras Gómez</td>\n",
       "      <td>HOTELES 4 Y 5 ESTRELLAS,BALNEARIOS,CAMPI</td>\n",
       "      <td>9076.76</td>\n",
       "    </tr>\n",
       "    <tr>\n",
       "      <th>1</th>\n",
       "      <td>Ildefonso José Sánchez Barcoj</td>\n",
       "      <td>AGENCIAS BANCARIAS(ANTICIPO VENTANILLA)</td>\n",
       "      <td>7500.00</td>\n",
       "    </tr>\n",
       "    <tr>\n",
       "      <th>2</th>\n",
       "      <td>Ildefonso José Sánchez Barcoj</td>\n",
       "      <td>EL CORTE INGLES</td>\n",
       "      <td>6593.20</td>\n",
       "    </tr>\n",
       "    <tr>\n",
       "      <th>3</th>\n",
       "      <td>Miguel Blesa de la Parra</td>\n",
       "      <td>EL CORTE INGLES</td>\n",
       "      <td>6397.31</td>\n",
       "    </tr>\n",
       "    <tr>\n",
       "      <th>4</th>\n",
       "      <td>Ramón Ferraz Ricarte</td>\n",
       "      <td>EL CORTE INGLES</td>\n",
       "      <td>6248.00</td>\n",
       "    </tr>\n",
       "    <tr>\n",
       "      <th>5</th>\n",
       "      <td>Ramón Ferraz Ricarte</td>\n",
       "      <td>HYATT HOTELS</td>\n",
       "      <td>6160.81</td>\n",
       "    </tr>\n",
       "    <tr>\n",
       "      <th>6</th>\n",
       "      <td>Carmen Contreras Gómez</td>\n",
       "      <td>HOTELES 4 Y 5 ESTRELLAS,BALNEARIOS,CAMPI</td>\n",
       "      <td>6102.68</td>\n",
       "    </tr>\n",
       "    <tr>\n",
       "      <th>7</th>\n",
       "      <td>Mariano Pérez Claver</td>\n",
       "      <td>AGENCIAS DE VIAJES</td>\n",
       "      <td>6000.00</td>\n",
       "    </tr>\n",
       "    <tr>\n",
       "      <th>8</th>\n",
       "      <td>María Carmen Cafranga Cavestany</td>\n",
       "      <td>V.DIST.VIAJES Y TRANSPORTE DE VIAJEROS</td>\n",
       "      <td>5500.00</td>\n",
       "    </tr>\n",
       "    <tr>\n",
       "      <th>9</th>\n",
       "      <td>Estanislao Rodríguez-Ponga Salamanca</td>\n",
       "      <td>EL CORTE INGLES</td>\n",
       "      <td>5500.00</td>\n",
       "    </tr>\n",
       "  </tbody>\n",
       "</table>\n",
       "</div>"
      ],
      "text/plain": [
       "                         persona.nombre  \\\n",
       "0                Carmen Contreras Gómez   \n",
       "1         Ildefonso José Sánchez Barcoj   \n",
       "2         Ildefonso José Sánchez Barcoj   \n",
       "3              Miguel Blesa de la Parra   \n",
       "4                  Ramón Ferraz Ricarte   \n",
       "5                  Ramón Ferraz Ricarte   \n",
       "6                Carmen Contreras Gómez   \n",
       "7                  Mariano Pérez Claver   \n",
       "8       María Carmen Cafranga Cavestany   \n",
       "9  Estanislao Rodríguez-Ponga Salamanca   \n",
       "\n",
       "                comercio.actividad_completa  movimiento.importe  \n",
       "0  HOTELES 4 Y 5 ESTRELLAS,BALNEARIOS,CAMPI             9076.76  \n",
       "1   AGENCIAS BANCARIAS(ANTICIPO VENTANILLA)             7500.00  \n",
       "2                           EL CORTE INGLES             6593.20  \n",
       "3                           EL CORTE INGLES             6397.31  \n",
       "4                           EL CORTE INGLES             6248.00  \n",
       "5                              HYATT HOTELS             6160.81  \n",
       "6  HOTELES 4 Y 5 ESTRELLAS,BALNEARIOS,CAMPI             6102.68  \n",
       "7                        AGENCIAS DE VIAJES             6000.00  \n",
       "8    V.DIST.VIAJES Y TRANSPORTE DE VIAJEROS             5500.00  \n",
       "9                           EL CORTE INGLES             5500.00  "
      ]
     },
     "execution_count": 19,
     "metadata": {},
     "output_type": "execute_result"
    }
   ],
   "source": [
    "df = %cypher MATCH (persona:Persona)-[:REALIZA]-(movimiento:Movimiento)-[:OCURRE]-(comercio:Comercio) \\\n",
    "             RETURN persona.nombre, comercio.actividad_completa, movimiento.importe \\\n",
    "             ORDER BY movimiento.importe DESC \\\n",
    "             LIMIT 10\n",
    "            \n",
    "df.get_dataframe()"
   ]
  },
  {
   "cell_type": "markdown",
   "metadata": {},
   "source": [
    "### Importes de una persona agrupados por actividad"
   ]
  },
  {
   "cell_type": "markdown",
   "metadata": {},
   "source": [
    "En este caso se realiza una agrupación de los datos. Observa que Neo4j lo realiza automáticamente al utilizar una función de agrupación de datos como **SUM()**"
   ]
  },
  {
   "cell_type": "code",
   "execution_count": 20,
   "metadata": {
    "collapsed": false,
    "jupyter": {
     "outputs_hidden": false
    }
   },
   "outputs": [
    {
     "name": "stdout",
     "output_type": "stream",
     "text": [
      "10 rows affected.\n"
     ]
    },
    {
     "data": {
      "text/html": [
       "<table>\n",
       "    <tr>\n",
       "        <th>persona.nombre</th>\n",
       "        <th>comercio.actividad_completa</th>\n",
       "        <th>importe</th>\n",
       "    </tr>\n",
       "    <tr>\n",
       "        <td>Mariano Pérez Claver</td>\n",
       "        <td>MUEBLES,ANTIGUEDADES Y GALERIAS DE ARTE</td>\n",
       "        <td>4321.23</td>\n",
       "    </tr>\n",
       "    <tr>\n",
       "        <td>Carlos María Martínez Martínez</td>\n",
       "        <td>MUEBLES,ANTIGUEDADES Y GALERIAS DE ARTE</td>\n",
       "        <td>2127.6</td>\n",
       "    </tr>\n",
       "    <tr>\n",
       "        <td>Javier de Miguel Sánchez</td>\n",
       "        <td>MATERIALES CONSTRUCCION,FONTANERIA,SANEA</td>\n",
       "        <td>1588.06</td>\n",
       "    </tr>\n",
       "    <tr>\n",
       "        <td>Francisco Baquero Noriega</td>\n",
       "        <td>MUEBLES,ANTIGUEDADES Y GALERIAS DE ARTE</td>\n",
       "        <td>1371.0</td>\n",
       "    </tr>\n",
       "    <tr>\n",
       "        <td>Rafael Spottorno Díaz Caro</td>\n",
       "        <td>MIRO ESTABLECIMIENTOS</td>\n",
       "        <td>1198.0</td>\n",
       "    </tr>\n",
       "    <tr>\n",
       "        <td>Jesús Pedroche Nieto</td>\n",
       "        <td>MUEBLES,ANTIGUEDADES Y GALERIAS DE ARTE</td>\n",
       "        <td>1190.19</td>\n",
       "    </tr>\n",
       "    <tr>\n",
       "        <td>Maria Mercedes de la Merced Monge</td>\n",
       "        <td>MUEBLES,ANTIGUEDADES Y GALERIAS DE ARTE</td>\n",
       "        <td>1063.85</td>\n",
       "    </tr>\n",
       "    <tr>\n",
       "        <td>Mariano Pérez Claver</td>\n",
       "        <td>FLORES Y PLANTAS</td>\n",
       "        <td>1054.23</td>\n",
       "    </tr>\n",
       "    <tr>\n",
       "        <td>Carlos Vela García</td>\n",
       "        <td>FLORES Y PLANTAS</td>\n",
       "        <td>1042.3899999999999</td>\n",
       "    </tr>\n",
       "    <tr>\n",
       "        <td>Pedro Bugidos Garay</td>\n",
       "        <td>MUEBLES,ANTIGUEDADES Y GALERIAS DE ARTE</td>\n",
       "        <td>1000.0</td>\n",
       "    </tr>\n",
       "</table>"
      ],
      "text/plain": [
       "[['Mariano Pérez Claver', 'MUEBLES,ANTIGUEDADES Y GALERIAS DE ARTE', 4321.23],\n",
       " ['Carlos María Martínez Martínez',\n",
       "  'MUEBLES,ANTIGUEDADES Y GALERIAS DE ARTE',\n",
       "  2127.6],\n",
       " ['Javier de Miguel Sánchez',\n",
       "  'MATERIALES CONSTRUCCION,FONTANERIA,SANEA',\n",
       "  1588.06],\n",
       " ['Francisco Baquero Noriega',\n",
       "  'MUEBLES,ANTIGUEDADES Y GALERIAS DE ARTE',\n",
       "  1371.0],\n",
       " ['Rafael Spottorno Díaz Caro', 'MIRO ESTABLECIMIENTOS', 1198.0],\n",
       " ['Jesús Pedroche Nieto', 'MUEBLES,ANTIGUEDADES Y GALERIAS DE ARTE', 1190.19],\n",
       " ['Maria Mercedes de la Merced Monge',\n",
       "  'MUEBLES,ANTIGUEDADES Y GALERIAS DE ARTE',\n",
       "  1063.85],\n",
       " ['Mariano Pérez Claver', 'FLORES Y PLANTAS', 1054.23],\n",
       " ['Carlos Vela García', 'FLORES Y PLANTAS', 1042.3899999999999],\n",
       " ['Pedro Bugidos Garay', 'MUEBLES,ANTIGUEDADES Y GALERIAS DE ARTE', 1000.0]]"
      ]
     },
     "execution_count": 20,
     "metadata": {},
     "output_type": "execute_result"
    }
   ],
   "source": [
    "%%cypher\n",
    "MATCH (persona:Persona)-[:REALIZA]-(movimiento:Movimiento)-[:OCURRE]-(comercio:Comercio)\n",
    "WHERE comercio.actividad = 'HOGAR'\n",
    "RETURN persona.nombre, comercio.actividad_completa, SUM(movimiento.importe) as importe\n",
    "ORDER BY importe DESC\n",
    "LIMIT 10\n"
   ]
  },
  {
   "cell_type": "code",
   "execution_count": 21,
   "metadata": {
    "collapsed": false,
    "jupyter": {
     "outputs_hidden": false
    }
   },
   "outputs": [
    {
     "data": {
      "text/html": [
       "<div>\n",
       "<style scoped>\n",
       "    .dataframe tbody tr th:only-of-type {\n",
       "        vertical-align: middle;\n",
       "    }\n",
       "\n",
       "    .dataframe tbody tr th {\n",
       "        vertical-align: top;\n",
       "    }\n",
       "\n",
       "    .dataframe thead th {\n",
       "        text-align: right;\n",
       "    }\n",
       "</style>\n",
       "<table border=\"1\" class=\"dataframe\">\n",
       "  <thead>\n",
       "    <tr style=\"text-align: right;\">\n",
       "      <th></th>\n",
       "      <th>persona.nombre</th>\n",
       "      <th>comercio.actividad</th>\n",
       "      <th>importe</th>\n",
       "    </tr>\n",
       "  </thead>\n",
       "  <tbody>\n",
       "    <tr>\n",
       "      <th>0</th>\n",
       "      <td>Mariano Pérez Claver</td>\n",
       "      <td>CA$H</td>\n",
       "      <td>10222.17</td>\n",
       "    </tr>\n",
       "    <tr>\n",
       "      <th>1</th>\n",
       "      <td>Mariano Pérez Claver</td>\n",
       "      <td>HOGAR</td>\n",
       "      <td>5548.23</td>\n",
       "    </tr>\n",
       "    <tr>\n",
       "      <th>2</th>\n",
       "      <td>Mariano Pérez Claver</td>\n",
       "      <td>SALUD</td>\n",
       "      <td>3749.50</td>\n",
       "    </tr>\n",
       "    <tr>\n",
       "      <th>3</th>\n",
       "      <td>Mariano Pérez Claver</td>\n",
       "      <td>RESTAURANTE</td>\n",
       "      <td>2659.54</td>\n",
       "    </tr>\n",
       "    <tr>\n",
       "      <th>4</th>\n",
       "      <td>Mariano Pérez Claver</td>\n",
       "      <td>SUPERMERCADO</td>\n",
       "      <td>2231.46</td>\n",
       "    </tr>\n",
       "    <tr>\n",
       "      <th>5</th>\n",
       "      <td>Mariano Pérez Claver</td>\n",
       "      <td>COCHE</td>\n",
       "      <td>2124.28</td>\n",
       "    </tr>\n",
       "    <tr>\n",
       "      <th>6</th>\n",
       "      <td>Mariano Pérez Claver</td>\n",
       "      <td>COMPRA BIENES</td>\n",
       "      <td>1921.21</td>\n",
       "    </tr>\n",
       "    <tr>\n",
       "      <th>7</th>\n",
       "      <td>Mariano Pérez Claver</td>\n",
       "      <td>BARCO</td>\n",
       "      <td>1909.69</td>\n",
       "    </tr>\n",
       "    <tr>\n",
       "      <th>8</th>\n",
       "      <td>Mariano Pérez Claver</td>\n",
       "      <td>HOTEL</td>\n",
       "      <td>1491.21</td>\n",
       "    </tr>\n",
       "    <tr>\n",
       "      <th>9</th>\n",
       "      <td>Mariano Pérez Claver</td>\n",
       "      <td>TREN</td>\n",
       "      <td>1042.49</td>\n",
       "    </tr>\n",
       "    <tr>\n",
       "      <th>10</th>\n",
       "      <td>Mariano Pérez Claver</td>\n",
       "      <td>ROPA</td>\n",
       "      <td>270.00</td>\n",
       "    </tr>\n",
       "    <tr>\n",
       "      <th>11</th>\n",
       "      <td>Mariano Pérez Claver</td>\n",
       "      <td>DUTYFREE</td>\n",
       "      <td>186.81</td>\n",
       "    </tr>\n",
       "    <tr>\n",
       "      <th>12</th>\n",
       "      <td>Mariano Pérez Claver</td>\n",
       "      <td>MISC</td>\n",
       "      <td>110.79</td>\n",
       "    </tr>\n",
       "    <tr>\n",
       "      <th>13</th>\n",
       "      <td>Mariano Pérez Claver</td>\n",
       "      <td>AVION</td>\n",
       "      <td>35.00</td>\n",
       "    </tr>\n",
       "    <tr>\n",
       "      <th>14</th>\n",
       "      <td>Mariano Pérez Claver</td>\n",
       "      <td>VIAJE</td>\n",
       "      <td>-541.70</td>\n",
       "    </tr>\n",
       "  </tbody>\n",
       "</table>\n",
       "</div>"
      ],
      "text/plain": [
       "          persona.nombre comercio.actividad   importe\n",
       "0   Mariano Pérez Claver               CA$H  10222.17\n",
       "1   Mariano Pérez Claver              HOGAR   5548.23\n",
       "2   Mariano Pérez Claver              SALUD   3749.50\n",
       "3   Mariano Pérez Claver        RESTAURANTE   2659.54\n",
       "4   Mariano Pérez Claver       SUPERMERCADO   2231.46\n",
       "5   Mariano Pérez Claver              COCHE   2124.28\n",
       "6   Mariano Pérez Claver      COMPRA BIENES   1921.21\n",
       "7   Mariano Pérez Claver              BARCO   1909.69\n",
       "8   Mariano Pérez Claver              HOTEL   1491.21\n",
       "9   Mariano Pérez Claver               TREN   1042.49\n",
       "10  Mariano Pérez Claver               ROPA    270.00\n",
       "11  Mariano Pérez Claver           DUTYFREE    186.81\n",
       "12  Mariano Pérez Claver               MISC    110.79\n",
       "13  Mariano Pérez Claver              AVION     35.00\n",
       "14  Mariano Pérez Claver              VIAJE   -541.70"
      ]
     },
     "execution_count": 21,
     "metadata": {},
     "output_type": "execute_result"
    }
   ],
   "source": [
    "query = \"\"\"\n",
    "MATCH (organizacion:Organizacion)-[:PERTENECE]-(persona:Persona)-[:REALIZA]-(movimiento:Movimiento)-[:OCURRE]-(comercio:Comercio)\n",
    "WHERE persona.nombre = {name}\n",
    "RETURN persona.nombre, comercio.actividad, SUM(movimiento.importe) as importe\n",
    "ORDER BY importe DESC\n",
    "\"\"\"\n",
    "\n",
    "data = graph.run(query, name='Mariano Pérez Claver')\n",
    "get_dataframe(data)"
   ]
  }
 ],
 "metadata": {
  "kernelspec": {
   "display_name": "Python 3",
   "language": "python",
   "name": "python3"
  },
  "language_info": {
   "codemirror_mode": {
    "name": "ipython",
    "version": 3
   },
   "file_extension": ".py",
   "mimetype": "text/x-python",
   "name": "python",
   "nbconvert_exporter": "python",
   "pygments_lexer": "ipython3",
   "version": "3.6.9"
  }
 },
 "nbformat": 4,
 "nbformat_minor": 4
}
