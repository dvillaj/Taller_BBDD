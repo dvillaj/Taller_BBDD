{
 "cells": [
  {
   "cell_type": "markdown",
   "metadata": {},
   "source": [
    "# Neo4j"
   ]
  },
  {
   "cell_type": "markdown",
   "metadata": {},
   "source": [
    "## Conexión con Cassandra y borrado de datos"
   ]
  },
  {
   "cell_type": "code",
   "execution_count": null,
   "metadata": {
    "collapsed": false
   },
   "outputs": [],
   "source": [
    "%load_ext cypher"
   ]
  },
  {
   "cell_type": "code",
   "execution_count": null,
   "metadata": {
    "collapsed": false
   },
   "outputs": [],
   "source": [
    "from py2neo import Graph, Node, Relationship\n",
    "\n",
    "graph = Graph()"
   ]
  },
  {
   "cell_type": "code",
   "execution_count": null,
   "metadata": {
    "collapsed": true
   },
   "outputs": [],
   "source": [
    "# Borrado de todos los nodos y relaciones\n",
    "graph.delete_all()"
   ]
  },
  {
   "cell_type": "markdown",
   "metadata": {},
   "source": [
    "## Carga de datos en Pandas"
   ]
  },
  {
   "cell_type": "markdown",
   "metadata": {},
   "source": [
    "A partir del fichero Excel desnormalizamos los datos "
   ]
  },
  {
   "cell_type": "code",
   "execution_count": null,
   "metadata": {
    "collapsed": false
   },
   "outputs": [],
   "source": [
    "import pandas as pd\n",
    "df_mov = pd.read_excel(\"../../data/black.xlsx\", sheetname= \"Movimientos\")\n",
    "df_miembros = pd.read_excel(\"../../data/black.xlsx\", sheetname= \"Miembros\")\n",
    "df = pd.merge(df_mov, df_miembros, on = ['id_miembro'], how = 'inner')\n",
    "df.info()"
   ]
  },
  {
   "cell_type": "markdown",
   "metadata": {},
   "source": [
    "## Carga de datos en Neo4j"
   ]
  },
  {
   "cell_type": "markdown",
   "metadata": {},
   "source": [
    "La carga se realizará en Neo a partir de la lista de datos en formato JSON, generados con Pandas"
   ]
  },
  {
   "cell_type": "code",
   "execution_count": null,
   "metadata": {
    "collapsed": false
   },
   "outputs": [],
   "source": [
    "import json\n",
    "\n",
    "json_string = df.to_json(orient = 'records')\n",
    "json_list = json.loads(json_string)"
   ]
  },
  {
   "cell_type": "markdown",
   "metadata": {},
   "source": [
    "En Neo se van a crear 3 tipos de nodos y 2 tipos de relaciones"
   ]
  },
  {
   "cell_type": "markdown",
   "metadata": {},
   "source": [
    "<br><br> \n",
    "\n",
    "<img src=\"images/Modelo%20Neo4j.png\",width=400,height=300>\n",
    "\n",
    "<br><br> "
   ]
  },
  {
   "cell_type": "markdown",
   "metadata": {},
   "source": [
    "Adicionalmente se van a guardar los siguientes atributos:\n",
    "\n",
    "**Nodo Comercio**\n",
    "- Nombre del comercio\n",
    "- Actividad a la que se dedica\n",
    "- Categoría de actividad (Podríamos haber creado un tipo de nodo independente)\n",
    "\n",
    "**Nodo Persona**\n",
    "- Nombre de la persona\n",
    "\n",
    "**Nodo Organización**\n",
    "- Nombre de la organización\n",
    "\n",
    "Respecto a las relaciones, vamos a almacenar los siguientes atributos:\n",
    "\n",
    "**Relación COMPRA**\n",
    "- Fecha en formato UNIX Timestamp (el mismo formato que está en el JSON)\n",
    "- hora y minuto de la compra\n",
    "- Importe de la compra\n",
    "\n",
    "**Relación PERTECENE**\n",
    "- Función que hace la persona en una organización"
   ]
  },
  {
   "cell_type": "markdown",
   "metadata": {},
   "source": [
    "Creamos los nodos y relaciones en Neo4j simplemente iterando sobre la lista de JSONs"
   ]
  },
  {
   "cell_type": "code",
   "execution_count": null,
   "metadata": {
    "collapsed": false
   },
   "outputs": [],
   "source": [
    "import datetime\n",
    "\n",
    "for movimiento_json in json_list:\n",
    "    # Nodos\n",
    "    persona = Node(\"Persona\", nombre=movimiento_json[\"nombre\"])\n",
    "    comercio = Node(\"Comercio\", nombre=movimiento_json[\"comercio\"], \n",
    "                                actividad = movimiento_json[\"actividad\"],\n",
    "                                actividad_completa = movimiento_json[\"actividad_completa\"])\n",
    "    organizacion = Node(\"Organizacion\", nombre = movimiento_json[\"organizacion\"])\n",
    "        \n",
    "    # Relaciones  \n",
    "    rel_persona_organizacion = Relationship(persona, \"PERTENECE\", organizacion,\n",
    "                                           funcion = movimiento_json[\"funcion\"])\n",
    "\n",
    "    rel_persona_comercio = Relationship(persona, \"COMPRA\", comercio, \n",
    "            fecha = movimiento_json['fecha'],\n",
    "            hora =  movimiento_json[\"hora\"],\n",
    "            minuto =  movimiento_json[\"minuto\"],\n",
    "            importe = movimiento_json[\"importe\"])\n",
    "       \n",
    "    graph.merge(persona | comercio | organizacion | rel_persona_comercio | rel_persona_organizacion)\n"
   ]
  },
  {
   "cell_type": "markdown",
   "metadata": {},
   "source": [
    "<br><br> \n",
    "\n",
    "<img src=\"images/Resultado.png\",width=800,height=600>\n",
    "\n",
    "<br><br> "
   ]
  },
  {
   "cell_type": "markdown",
   "metadata": {},
   "source": [
    "## Funciones de utilidad para la consulta de datos"
   ]
  },
  {
   "cell_type": "markdown",
   "metadata": {},
   "source": [
    "Neo4j, en su versión actual, no puede guardar datos de tipo fecha en los atributos, por lo que se almacena en formato TIMESTAMP de Unix (el formato original).  \n",
    "\n",
    "La siguiente función de utilidad convierte una columna de una DataFrame en formato TIMESTAMP a Fecha"
   ]
  },
  {
   "cell_type": "code",
   "execution_count": null,
   "metadata": {
    "collapsed": false
   },
   "outputs": [],
   "source": [
    "def transform_date(df, column_name):\n",
    "    if column_name in df.columns:\n",
    "        # Las fechas están en formato UNIX TIMESTAMP. Las volvemos a convertir a formato Date...\n",
    "        df[column_name] = pd.to_datetime(df[column_name], unit = 'ms')\n",
    "        \n",
    "    return df"
   ]
  },
  {
   "cell_type": "markdown",
   "metadata": {},
   "source": [
    "Función de utilidad para convertir los resultados devueltos por la base de datos en un DataFrame de Pandas"
   ]
  },
  {
   "cell_type": "code",
   "execution_count": null,
   "metadata": {
    "collapsed": true
   },
   "outputs": [],
   "source": [
    "def get_dataframe(data):\n",
    "    df = pd.DataFrame(list(data), columns = data.keys())\n",
    "        \n",
    "    return df"
   ]
  },
  {
   "cell_type": "markdown",
   "metadata": {
    "collapsed": true
   },
   "source": [
    "## Consulta a Neo4j"
   ]
  },
  {
   "cell_type": "markdown",
   "metadata": {},
   "source": [
    "### Los 10 movimientos mas caros"
   ]
  },
  {
   "cell_type": "markdown",
   "metadata": {},
   "source": [
    "Para obtener las lista de personas que mas han gastado simplemente relacionamos los 3 tipos de nodos y devolvemos los campos que nos interesan"
   ]
  },
  {
   "cell_type": "code",
   "execution_count": null,
   "metadata": {
    "collapsed": false
   },
   "outputs": [],
   "source": [
    "%%cypher\n",
    "MATCH (persona:Persona)-[compra:COMPRA]-(comercio:Comercio)\n",
    "RETURN persona.nombre, comercio.actividad_completa, compra.importe\n",
    "ORDER BY compra.importe DESC\n",
    "LIMIT 10"
   ]
  },
  {
   "cell_type": "markdown",
   "metadata": {},
   "source": [
    "Utilizamos la función ** graph.run()** para obtener un ResultSet de datos, que es transformada en un Dataframe de Pandas"
   ]
  },
  {
   "cell_type": "code",
   "execution_count": null,
   "metadata": {
    "collapsed": false
   },
   "outputs": [],
   "source": [
    "query = \"\"\"\n",
    "MATCH (persona:Persona)-[compra:COMPRA]-(comercio:Comercio)\n",
    "RETURN persona.nombre, comercio.actividad_completa, compra.importe, compra.fecha\n",
    "ORDER BY compra.importe DESC\n",
    "LIMIT 10\n",
    "\"\"\" \n",
    "\n",
    "data = graph.run(query)\n",
    "df = get_dataframe(data)\n",
    "df = transform_date(df, 'compra.fecha')\n",
    "df"
   ]
  },
  {
   "cell_type": "markdown",
   "metadata": {},
   "source": [
    "La misma query que el caso anterior pero utilizando un método distinto.  \n",
    "El fin es el mismo: Una DataFrame de Pandas"
   ]
  },
  {
   "cell_type": "code",
   "execution_count": null,
   "metadata": {
    "collapsed": false
   },
   "outputs": [],
   "source": [
    "df = %cypher MATCH (persona:Persona)-[compra:COMPRA]-(comercio:Comercio) \\\n",
    "             RETURN persona.nombre, comercio.actividad_completa, compra.importe \\\n",
    "             ORDER BY compra.importe DESC \\\n",
    "             LIMIT 10\n",
    "            \n",
    "df.get_dataframe()"
   ]
  },
  {
   "cell_type": "markdown",
   "metadata": {
    "collapsed": true
   },
   "source": [
    "### Importes de una persona agrupados por actividad"
   ]
  },
  {
   "cell_type": "markdown",
   "metadata": {},
   "source": [
    "En este caso se realiza una agrupación de los datos. Observa que Neo4j lo realiza automáticamente al utilizar una función de agrupación de datos como **SUM()**"
   ]
  },
  {
   "cell_type": "code",
   "execution_count": null,
   "metadata": {
    "collapsed": false
   },
   "outputs": [],
   "source": [
    "%%cypher\n",
    "MATCH (persona:Persona)-[compra:COMPRA]-(comercio:Comercio)\n",
    "WHERE comercio.actividad = 'HOGAR'\n",
    "RETURN persona.nombre, comercio.actividad_completa, SUM(compra.importe) as importe\n",
    "ORDER BY importe DESC\n",
    "LIMIT 10\n"
   ]
  },
  {
   "cell_type": "code",
   "execution_count": null,
   "metadata": {
    "collapsed": false
   },
   "outputs": [],
   "source": [
    "query = \"\"\"\n",
    "MATCH (persona:Persona)-[compra:COMPRA]-(comercio:Comercio)\n",
    "WHERE persona.nombre = {name}\n",
    "RETURN persona.nombre, comercio.actividad, SUM(compra.importe) as importe\n",
    "ORDER BY importe DESC\n",
    "\"\"\"\n",
    "\n",
    "data = graph.run(query, name='Mariano Pérez Claver')\n",
    "get_dataframe(data)"
   ]
  }
 ],
 "metadata": {
  "kernelspec": {
   "display_name": "Python 2",
   "language": "python",
   "name": "python2"
  },
  "language_info": {
   "codemirror_mode": {
    "name": "ipython",
    "version": 2
   },
   "file_extension": ".py",
   "mimetype": "text/x-python",
   "name": "python",
   "nbconvert_exporter": "python",
   "pygments_lexer": "ipython2",
   "version": "2.7.6"
  }
 },
 "nbformat": 4,
 "nbformat_minor": 0
}
