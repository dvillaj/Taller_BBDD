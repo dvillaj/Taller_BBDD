{
 "cells": [
  {
   "cell_type": "markdown",
   "metadata": {},
   "source": [
    "# Neo4j con Python"
   ]
  },
  {
   "cell_type": "markdown",
   "metadata": {},
   "source": [
    "http://nicolewhite.github.io/neo4j-jupyter/hello-world.html"
   ]
  },
  {
   "cell_type": "code",
   "execution_count": 1,
   "metadata": {
    "collapsed": true
   },
   "outputs": [],
   "source": [
    "from py2neo import Graph\n",
    "\n",
    "graph = Graph()"
   ]
  },
  {
   "cell_type": "code",
   "execution_count": 2,
   "metadata": {
    "collapsed": true
   },
   "outputs": [],
   "source": [
    "graph.delete_all()"
   ]
  },
  {
   "cell_type": "code",
   "execution_count": 3,
   "metadata": {
    "collapsed": false
   },
   "outputs": [],
   "source": [
    "from py2neo import Node\n",
    "\n",
    "nicole = Node(\"Person\", name=\"Nicole\", age=24)\n",
    "drew = Node(\"Person\", name=\"Drew\", age=20)\n",
    "\n",
    "mtdew = Node(\"Drink\", name=\"Mountain Dew\", calories=9000)\n",
    "cokezero = Node(\"Drink\", name=\"Coke Zero\", calories=0)\n",
    "\n",
    "coke = Node(\"Manufacturer\", name=\"Coca Cola\")\n",
    "pepsi = Node(\"Manufacturer\", name=\"Pepsi\")\n",
    "\n",
    "graph.create(nicole | drew | mtdew | cokezero | coke | pepsi)"
   ]
  },
  {
   "cell_type": "code",
   "execution_count": 4,
   "metadata": {
    "collapsed": false
   },
   "outputs": [
    {
     "data": {
      "text/html": [
       "\n",
       "        <iframe\n",
       "            width=\"100%\"\n",
       "            height=\"400\"\n",
       "            src=\"/tmp/graph-537b75ed-6e29-4a8a-ab95-4dbb09046260.html\"\n",
       "            frameborder=\"0\"\n",
       "            allowfullscreen\n",
       "        ></iframe>\n",
       "        "
      ],
      "text/plain": [
       "<IPython.lib.display.IFrame at 0x7f1e8a450b50>"
      ]
     },
     "execution_count": 4,
     "metadata": {},
     "output_type": "execute_result"
    }
   ],
   "source": [
    "from scripts.vis import draw\n",
    "\n",
    "options = {\"Person\": \"name\", \"Drink\": \"name\", \"Manufacturer\": \"name\"}\n",
    "draw(graph, options)"
   ]
  },
  {
   "cell_type": "code",
   "execution_count": 5,
   "metadata": {
    "collapsed": false
   },
   "outputs": [
    {
     "data": {
      "text/html": [
       "\n",
       "        <iframe\n",
       "            width=\"100%\"\n",
       "            height=\"400\"\n",
       "            src=\"/tmp/graph-829aef46-0725-462e-bf60-67c1f4f9b8be.html\"\n",
       "            frameborder=\"0\"\n",
       "            allowfullscreen\n",
       "        ></iframe>\n",
       "        "
      ],
      "text/plain": [
       "<IPython.lib.display.IFrame at 0x7f1e8a1d8ed0>"
      ]
     },
     "execution_count": 5,
     "metadata": {},
     "output_type": "execute_result"
    }
   ],
   "source": [
    "from py2neo import Relationship\n",
    "\n",
    "graph.create(Relationship(nicole, \"LIKES\", cokezero))\n",
    "graph.create(Relationship(nicole, \"LIKES\", mtdew))\n",
    "graph.create(Relationship(drew, \"LIKES\", mtdew))\n",
    "graph.create(Relationship(coke, \"MAKES\", cokezero))\n",
    "graph.create(Relationship(pepsi, \"MAKES\", mtdew))\n",
    "\n",
    "draw(graph, options)"
   ]
  },
  {
   "cell_type": "code",
   "execution_count": 6,
   "metadata": {
    "collapsed": false
   },
   "outputs": [
    {
     "name": "stdout",
     "output_type": "stream",
     "text": [
      "(u'name': u'Drew', u'drink': u'Mountain Dew')\n",
      "(u'name': u'Nicole', u'drink': u'Mountain Dew')\n",
      "(u'name': u'Nicole', u'drink': u'Coke Zero')\n"
     ]
    }
   ],
   "source": [
    "query = \"\"\"\n",
    "MATCH (person:Person)-[:LIKES]->(drink:Drink)\n",
    "RETURN person.name AS name, drink.name AS drink\n",
    "\"\"\"\n",
    "\n",
    "data = graph.run(query)\n",
    "\n",
    "for d in data:\n",
    "    print(d)"
   ]
  },
  {
   "cell_type": "code",
   "execution_count": 7,
   "metadata": {
    "collapsed": false
   },
   "outputs": [
    {
     "name": "stdout",
     "output_type": "stream",
     "text": [
      "(u'name': u'Nicole', u'avg_calories': 4500.0)\n"
     ]
    }
   ],
   "source": [
    "query = \"\"\"\n",
    "MATCH (p:Person)-[:LIKES]->(drink:Drink)\n",
    "WHERE p.name = {name}\n",
    "RETURN p.name AS name, AVG(drink.calories) AS avg_calories\n",
    "\"\"\"\n",
    "\n",
    "data = graph.run(query, name=\"Nicole\")\n",
    "\n",
    "for d in data:\n",
    "    print(d)"
   ]
  },
  {
   "cell_type": "code",
   "execution_count": 8,
   "metadata": {
    "collapsed": true
   },
   "outputs": [],
   "source": [
    "%load_ext cypher"
   ]
  },
  {
   "cell_type": "code",
   "execution_count": 9,
   "metadata": {
    "collapsed": false
   },
   "outputs": [
    {
     "name": "stdout",
     "output_type": "stream",
     "text": [
      "3 rows affected.\n"
     ]
    },
    {
     "data": {
      "text/html": [
       "<table>\n",
       "    <tr>\n",
       "        <th>person.name</th>\n",
       "        <th>drink.name</th>\n",
       "        <th>drink.calories</th>\n",
       "    </tr>\n",
       "    <tr>\n",
       "        <td>Drew</td>\n",
       "        <td>Mountain Dew</td>\n",
       "        <td>9000</td>\n",
       "    </tr>\n",
       "    <tr>\n",
       "        <td>Nicole</td>\n",
       "        <td>Mountain Dew</td>\n",
       "        <td>9000</td>\n",
       "    </tr>\n",
       "    <tr>\n",
       "        <td>Nicole</td>\n",
       "        <td>Coke Zero</td>\n",
       "        <td>0</td>\n",
       "    </tr>\n",
       "</table>"
      ],
      "text/plain": [
       "[[u'Drew', u'Mountain Dew', 9000],\n",
       " [u'Nicole', u'Mountain Dew', 9000],\n",
       " [u'Nicole', u'Coke Zero', 0]]"
      ]
     },
     "execution_count": 9,
     "metadata": {},
     "output_type": "execute_result"
    }
   ],
   "source": [
    "%%cypher\n",
    "MATCH (person:Person)-[:LIKES]->(drink:Drink)\n",
    "RETURN person.name, drink.name, drink.calories"
   ]
  },
  {
   "cell_type": "code",
   "execution_count": 10,
   "metadata": {
    "collapsed": false
   },
   "outputs": [
    {
     "name": "stdout",
     "output_type": "stream",
     "text": [
      "3 rows affected.\n"
     ]
    },
    {
     "data": {
      "text/html": [
       "<div>\n",
       "<table border=\"1\" class=\"dataframe\">\n",
       "  <thead>\n",
       "    <tr style=\"text-align: right;\">\n",
       "      <th></th>\n",
       "      <th>name</th>\n",
       "      <th>drink</th>\n",
       "    </tr>\n",
       "  </thead>\n",
       "  <tbody>\n",
       "    <tr>\n",
       "      <th>0</th>\n",
       "      <td>Drew</td>\n",
       "      <td>Mountain Dew</td>\n",
       "    </tr>\n",
       "    <tr>\n",
       "      <th>1</th>\n",
       "      <td>Nicole</td>\n",
       "      <td>Mountain Dew</td>\n",
       "    </tr>\n",
       "    <tr>\n",
       "      <th>2</th>\n",
       "      <td>Nicole</td>\n",
       "      <td>Coke Zero</td>\n",
       "    </tr>\n",
       "  </tbody>\n",
       "</table>\n",
       "</div>"
      ],
      "text/plain": [
       "     name         drink\n",
       "0    Drew  Mountain Dew\n",
       "1  Nicole  Mountain Dew\n",
       "2  Nicole     Coke Zero"
      ]
     },
     "execution_count": 10,
     "metadata": {},
     "output_type": "execute_result"
    }
   ],
   "source": [
    "results = %cypher MATCH (person:Person)-[:LIKES]->(drink:Drink) \\\n",
    "                  RETURN person.name AS name, drink.name AS drink\n",
    "    \n",
    "df = results.get_dataframe()\n",
    "\n",
    "df"
   ]
  },
  {
   "cell_type": "code",
   "execution_count": 11,
   "metadata": {
    "collapsed": false
   },
   "outputs": [
    {
     "name": "stdout",
     "output_type": "stream",
     "text": [
      "3 rows affected.\n"
     ]
    },
    {
     "data": {
      "image/png": "[encoded data removed]",
      "text/plain": [
       "<matplotlib.figure.Figure at 0x7f1e78180b90>"
      ]
     },
     "metadata": {},
     "output_type": "display_data"
    }
   ],
   "source": [
    "import networkx as nx\n",
    "%matplotlib inline\n",
    "\n",
    "results = %cypher MATCH p = (:Person)-[:LIKES]->(:Drink) RETURN p\n",
    "\n",
    "g = results.get_graph()\n",
    "\n",
    "nx.draw(g)"
   ]
  },
  {
   "cell_type": "code",
   "execution_count": 12,
   "metadata": {
    "collapsed": false
   },
   "outputs": [
    {
     "data": {
      "text/plain": [
       "[(u'1', {u'calories': 0, 'labels': [u'Drink'], u'name': u'Coke Zero'}),\n",
       " (u'0', {u'age': 20, 'labels': [u'Person'], u'name': u'Drew'}),\n",
       " (u'3', {u'calories': 9000, 'labels': [u'Drink'], u'name': u'Mountain Dew'}),\n",
       " (u'4', {u'age': 24, 'labels': [u'Person'], u'name': u'Nicole'})]"
      ]
     },
     "execution_count": 12,
     "metadata": {},
     "output_type": "execute_result"
    }
   ],
   "source": [
    "g.nodes(data=True)"
   ]
  },
  {
   "cell_type": "code",
   "execution_count": 13,
   "metadata": {
    "collapsed": false
   },
   "outputs": [
    {
     "data": {
      "text/plain": [
       "{u'0': 1, u'1': 1, u'3': 2, u'4': 2}"
      ]
     },
     "execution_count": 13,
     "metadata": {},
     "output_type": "execute_result"
    }
   ],
   "source": [
    "nx.degree(g)"
   ]
  },
  {
   "cell_type": "code",
   "execution_count": 14,
   "metadata": {
    "collapsed": true
   },
   "outputs": [],
   "source": [
    "from py2neo import Graph as PGraph\n",
    "from igraph import Graph as IGraph\n",
    "\n",
    "neo4j = PGraph()\n",
    "\n",
    "query = \"\"\"\n",
    "MATCH (person:Person)-[:LIKES]->(drink:Drink)\n",
    "RETURN person.name AS source, drink.name AS target\n",
    "\"\"\"\n",
    "\n",
    "data = neo4j.run(query)\n",
    "tups = []\n",
    "\n",
    "for d in data:\n",
    "    tups.append((d[\"source\"], d[\"target\"]))"
   ]
  },
  {
   "cell_type": "code",
   "execution_count": 15,
   "metadata": {
    "collapsed": false
   },
   "outputs": [
    {
     "data": {
      "text/plain": [
       "<igraph.Graph at 0x7f1e77b90338>"
      ]
     },
     "execution_count": 15,
     "metadata": {},
     "output_type": "execute_result"
    }
   ],
   "source": [
    "ig = IGraph.TupleList(tups)\n",
    "\n",
    "ig"
   ]
  },
  {
   "cell_type": "code",
   "execution_count": 16,
   "metadata": {
    "collapsed": false
   },
   "outputs": [
    {
     "data": {
      "text/plain": [
       "[u'Mountain Dew', u'Nicole']"
      ]
     },
     "execution_count": 16,
     "metadata": {},
     "output_type": "execute_result"
    }
   ],
   "source": [
    "best = ig.vs.select(_degree = ig.maxdegree())[\"name\"]\n",
    "best"
   ]
  },
  {
   "cell_type": "code",
   "execution_count": 17,
   "metadata": {
    "collapsed": false,
    "scrolled": true
   },
   "outputs": [
    {
     "ename": "ImportError",
     "evalue": "No module named jgraph",
     "output_type": "error",
     "traceback": [
      "\u001b[1;31m---------------------------------------------------------------------------\u001b[0m",
      "\u001b[1;31mImportError\u001b[0m                               Traceback (most recent call last)",
      "\u001b[1;32m<ipython-input-17-a6b08f9febca>\u001b[0m in \u001b[0;36m<module>\u001b[1;34m()\u001b[0m\n\u001b[1;32m----> 1\u001b[1;33m \u001b[1;32mimport\u001b[0m \u001b[0mjgraph\u001b[0m\u001b[1;33m\u001b[0m\u001b[0m\n\u001b[0m\u001b[0;32m      2\u001b[0m \u001b[1;33m\u001b[0m\u001b[0m\n\u001b[0;32m      3\u001b[0m \u001b[0mjgraph\u001b[0m\u001b[1;33m.\u001b[0m\u001b[0mdraw\u001b[0m\u001b[1;33m(\u001b[0m\u001b[1;33m[\u001b[0m\u001b[1;33m(\u001b[0m\u001b[1;36m1\u001b[0m\u001b[1;33m,\u001b[0m \u001b[1;36m2\u001b[0m\u001b[1;33m)\u001b[0m\u001b[1;33m,\u001b[0m \u001b[1;33m(\u001b[0m\u001b[1;36m2\u001b[0m\u001b[1;33m,\u001b[0m \u001b[1;36m3\u001b[0m\u001b[1;33m)\u001b[0m\u001b[1;33m,\u001b[0m \u001b[1;33m(\u001b[0m\u001b[1;36m3\u001b[0m\u001b[1;33m,\u001b[0m \u001b[1;36m4\u001b[0m\u001b[1;33m)\u001b[0m\u001b[1;33m,\u001b[0m \u001b[1;33m(\u001b[0m\u001b[1;36m4\u001b[0m\u001b[1;33m,\u001b[0m \u001b[1;36m1\u001b[0m\u001b[1;33m)\u001b[0m\u001b[1;33m,\u001b[0m \u001b[1;33m(\u001b[0m\u001b[1;36m4\u001b[0m\u001b[1;33m,\u001b[0m \u001b[1;36m5\u001b[0m\u001b[1;33m)\u001b[0m\u001b[1;33m,\u001b[0m \u001b[1;33m(\u001b[0m\u001b[1;36m5\u001b[0m\u001b[1;33m,\u001b[0m \u001b[1;36m2\u001b[0m\u001b[1;33m)\u001b[0m\u001b[1;33m]\u001b[0m\u001b[1;33m)\u001b[0m\u001b[1;33m\u001b[0m\u001b[0m\n",
      "\u001b[1;31mImportError\u001b[0m: No module named jgraph"
     ]
    }
   ],
   "source": [
    "import jgraph\n",
    "\n",
    "jgraph.draw([(1, 2), (2, 3), (3, 4), (4, 1), (4, 5), (5, 2)])"
   ]
  },
  {
   "cell_type": "code",
   "execution_count": 20,
   "metadata": {
    "collapsed": false
   },
   "outputs": [
    {
     "data": {
      "text/html": [
       "<div id=\"graph-dc7f552a-79fd-4d2f-8bbd-8e34a9800db7\"></div>\n",
       "           <script type=\"text/javascript\">\n",
       "           require.config({baseUrl: '/',\n",
       "                             paths: {jgraph: ['nbextensions/jgraph.min', 'https://rawgit.com/patrickfuller/jgraph/master/js/build/jgraph.min']}});\n",
       "           require(['jgraph'], function () {\n",
       "               var $d = $('#graph-dc7f552a-79fd-4d2f-8bbd-8e34a9800db7');\n",
       "               $d.width(600); $d.height(400);\n",
       "               $d.jgraph = jQuery.extend({}, jgraph);\n",
       "               $d.jgraph.create($d, {nodeSize: 2.000000,\n",
       "                                     edgeSize: 0.250000,\n",
       "                                     defaultNodeColor: '0x5bc0de',\n",
       "                                     defaultEdgeColor: '0xaaaaaa',\n",
       "                                     shader: 'basic',\n",
       "                                     z: 100,\n",
       "                                     runOptimization: true,\n",
       "                                     directed: true,\n",
       "                                     showSave: false});\n",
       "               $d.jgraph.draw({\n",
       "    \"edges\": [\n",
       "        { \"source\": 48, \"target\": 51 },\n",
       "        { \"source\": 50, \"target\": 51 },\n",
       "        { \"source\": 52, \"target\": 51 },\n",
       "        { \"source\": 52, \"target\": 49 },\n",
       "        { \"source\": 53, \"target\": 49 }\n",
       "    ],\n",
       "    \"nodes\": {\n",
       "        \"48\": { \"location\": [ -2.000, -2.000, -2.000 ] },\n",
       "        \"49\": { \"location\": [ -1.543, -1.365, -1.742 ] },\n",
       "        \"50\": { \"location\": [ -0.249, -0.378, -0.680 ] },\n",
       "        \"51\": { \"location\": [ 0.600, 0.409, 0.511 ] },\n",
       "        \"52\": { \"location\": [ 1.693, 1.531, 1.558 ] },\n",
       "        \"53\": { \"location\": [ 2.000, 2.000, 2.000 ] }\n",
       "    }\n",
       "});\n",
       "\n",
       "               $d.resizable({\n",
       "                   aspectRatio: 600 / 400,\n",
       "                   resize: function (evt, ui) {\n",
       "                       $d.jgraph.renderer.setSize(ui.size.width,\n",
       "                                                  ui.size.height);\n",
       "                   }\n",
       "               });\n",
       "           });\n",
       "           </script>"
      ],
      "text/plain": [
       "<IPython.core.display.HTML object>"
      ]
     },
     "metadata": {},
     "output_type": "display_data"
    }
   ],
   "source": [
    "data = graph.run(\"MATCH (n)-->(m) RETURN ID(n), ID(m)\")\n",
    "data = [tuple(x) for x in data]\n",
    "\n",
    "jgraph.draw(data)"
   ]
  },
  {
   "cell_type": "code",
   "execution_count": null,
   "metadata": {
    "collapsed": true
   },
   "outputs": [],
   "source": []
  },
  {
   "cell_type": "code",
   "execution_count": null,
   "metadata": {
    "collapsed": true
   },
   "outputs": [],
   "source": []
  }
 ],
 "metadata": {
  "kernelspec": {
   "display_name": "Python 2",
   "language": "python",
   "name": "python2"
  },
  "language_info": {
   "codemirror_mode": {
    "name": "ipython",
    "version": 2
   },
   "file_extension": ".py",
   "mimetype": "text/x-python",
   "name": "python",
   "nbconvert_exporter": "python",
   "pygments_lexer": "ipython2",
   "version": "2.7.6"
  }
 },
 "nbformat": 4,
 "nbformat_minor": 0
}
