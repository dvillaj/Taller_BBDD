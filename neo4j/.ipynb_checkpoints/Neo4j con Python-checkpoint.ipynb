{
 "cells": [
  {
   "cell_type": "markdown",
   "metadata": {},
   "source": [
    "# Neo4j con Python"
   ]
  },
  {
   "cell_type": "markdown",
   "metadata": {},
   "source": [
    "http://nicolewhite.github.io/neo4j-jupyter/hello-world.html"
   ]
  },
  {
   "cell_type": "markdown",
   "metadata": {},
   "source": [
    "## py2neo"
   ]
  },
  {
   "cell_type": "markdown",
   "metadata": {},
   "source": [
    "py2neo is one of Neo4j's Python drivers. It offers a fully-featured interface for interacting with your data in Neo4j."
   ]
  },
  {
   "cell_type": "markdown",
   "metadata": {},
   "source": [
    "http://py2neo.org/v3/#"
   ]
  },
  {
   "cell_type": "code",
   "execution_count": 3,
   "metadata": {
    "collapsed": false
   },
   "outputs": [
    {
     "name": "stdout",
     "output_type": "stream",
     "text": [
      "3.1.2\n"
     ]
    }
   ],
   "source": [
    "import py2neo \n",
    "print py2neo.__version__"
   ]
  },
  {
   "cell_type": "code",
   "execution_count": 4,
   "metadata": {
    "collapsed": false
   },
   "outputs": [
    {
     "name": "stdout",
     "output_type": "stream",
     "text": [
      "[sudo] password for learner: Requirement already up-to-date: py2neo in /usr/local/lib/python2.7/dist-packages\n",
      "Cleaning up...\n"
     ]
    }
   ],
   "source": [
    "!echo 'learner' | sudo -S pip install py2neo --upgrade"
   ]
  },
  {
   "cell_type": "markdown",
   "metadata": {},
   "source": [
    "## Connect\n",
    "Connect to Neo4j with the Graph class."
   ]
  },
  {
   "cell_type": "code",
   "execution_count": null,
   "metadata": {
    "collapsed": true
   },
   "outputs": [],
   "source": [
    "from py2neo import Graph\n",
    "\n",
    "graph = Graph()"
   ]
  },
  {
   "cell_type": "code",
   "execution_count": null,
   "metadata": {
    "collapsed": true
   },
   "outputs": [],
   "source": [
    "graph.delete_all()"
   ]
  },
  {
   "cell_type": "markdown",
   "metadata": {},
   "source": [
    "## Nodes\n",
    "Create nodes with the Node class. The first argument is the node's label. The remaining arguments are an arbitrary amount of node properties or key-value pairs."
   ]
  },
  {
   "cell_type": "code",
   "execution_count": null,
   "metadata": {
    "collapsed": true
   },
   "outputs": [],
   "source": [
    "from py2neo import Node"
   ]
  },
  {
   "cell_type": "code",
   "execution_count": null,
   "metadata": {
    "collapsed": false
   },
   "outputs": [],
   "source": [
    "nicole = Node(\"Person\", name=\"Nicole\", age=24)\n",
    "drew = Node(\"Person\", name=\"Drew\", age=20)\n",
    "\n",
    "mtdew = Node(\"Drink\", name=\"Mountain Dew\", calories=9000)\n",
    "cokezero = Node(\"Drink\", name=\"Coke Zero\", calories=0)\n",
    "\n",
    "coke = Node(\"Manufacturer\", name=\"Coca Cola\")\n",
    "pepsi = Node(\"Manufacturer\", name=\"Pepsi\")\n",
    "\n",
    "graph.create(nicole | drew | mtdew | cokezero | coke | pepsi)"
   ]
  },
  {
   "cell_type": "code",
   "execution_count": null,
   "metadata": {
    "collapsed": true
   },
   "outputs": [],
   "source": [
    "drew.update(city = 'NY', country = 'US')\n",
    "drew.push()"
   ]
  },
  {
   "cell_type": "markdown",
   "metadata": {},
   "source": [
    "We have only one Nicole!"
   ]
  },
  {
   "cell_type": "code",
   "execution_count": null,
   "metadata": {
    "collapsed": true
   },
   "outputs": [],
   "source": [
    "graph.merge(Node(\"Person\", name=\"Nicole\", age=24))"
   ]
  },
  {
   "cell_type": "code",
   "execution_count": null,
   "metadata": {
    "collapsed": false
   },
   "outputs": [],
   "source": [
    "from scripts.vis import draw\n",
    "\n",
    "options = {\"Person\": \"name\", \"Drink\": \"name\", \"Manufacturer\": \"name\"}\n",
    "draw(graph, options)"
   ]
  },
  {
   "cell_type": "markdown",
   "metadata": {},
   "source": [
    "## Relationships\n",
    "Create relationships between nodes with the Relationship class."
   ]
  },
  {
   "cell_type": "code",
   "execution_count": null,
   "metadata": {
    "collapsed": false
   },
   "outputs": [],
   "source": [
    "from py2neo import Relationship\n",
    "\n",
    "graph.create(Relationship(nicole, \"LIKES\", cokezero))\n",
    "graph.create(Relationship(nicole, \"LIKES\", mtdew))\n",
    "graph.create(Relationship(drew, \"LIKES\", mtdew))\n",
    "graph.create(Relationship(coke, \"MAKES\", cokezero))\n",
    "graph.create(Relationship(pepsi, \"MAKES\", mtdew))\n",
    "\n",
    "draw(graph, options)"
   ]
  },
  {
   "cell_type": "markdown",
   "metadata": {},
   "source": [
    "## Cypher\n",
    "Retrieve Cypher query results with Graph.cypher.execute."
   ]
  },
  {
   "cell_type": "code",
   "execution_count": null,
   "metadata": {
    "collapsed": false
   },
   "outputs": [],
   "source": [
    "query = \"\"\"\n",
    "MATCH (person:Person)-[:LIKES]->(drink:Drink)\n",
    "RETURN person.name AS name, person.city as City, drink.name AS drink\n",
    "\"\"\"\n",
    "\n",
    "data = graph.run(query)\n",
    "\n",
    "for d in data:\n",
    "    print(d)"
   ]
  },
  {
   "cell_type": "markdown",
   "metadata": {},
   "source": [
    "## Parameterized Cypher\n",
    "Pass parameters to Cypher queries by passing additional key-value arguments to Graph.cypher.execute. Parameters in Cypher are named and are wrapped in curly braces."
   ]
  },
  {
   "cell_type": "code",
   "execution_count": null,
   "metadata": {
    "collapsed": false
   },
   "outputs": [],
   "source": [
    "query = \"\"\"\n",
    "MATCH (p:Person)-[:LIKES]->(drink:Drink)\n",
    "WHERE p.name = {name}\n",
    "RETURN p.name AS name, AVG(drink.calories) AS avg_calories\n",
    "\"\"\"\n",
    "\n",
    "data = graph.run(query, name=\"Nicole\")\n",
    "\n",
    "for d in data:\n",
    "    print(d)"
   ]
  },
  {
   "cell_type": "markdown",
   "metadata": {},
   "source": [
    "## ipython-cypher\n",
    "ipython-cypher exposes %cypher magic in Jupyter. Install ipython-cypher with pip install ipython-cypher."
   ]
  },
  {
   "cell_type": "code",
   "execution_count": null,
   "metadata": {
    "collapsed": false
   },
   "outputs": [],
   "source": [
    "%load_ext cypher"
   ]
  },
  {
   "cell_type": "markdown",
   "metadata": {},
   "source": [
    "## Cypher\n",
    "%cypher is intended for one-line Cypher queries and %%cypher is intended for multi-line Cypher queries. Placing %%cypher above a Cypher query will display that query's results."
   ]
  },
  {
   "cell_type": "code",
   "execution_count": null,
   "metadata": {
    "collapsed": false
   },
   "outputs": [],
   "source": [
    "%%cypher\n",
    "MATCH (person:Person)-[:LIKES]->(drink:Drink)\n",
    "RETURN person.name, drink.name, drink.calories"
   ]
  },
  {
   "cell_type": "markdown",
   "metadata": {},
   "source": [
    "## Pandas Data Frames\n",
    "Cypher query results can be coerced to pandas data frames with the get_dataframe method. To assign Cypher query results to a variable, you need to use **%cypher** and separate lines with \\ \n",
    "\n",
    "You'll first need to install pandas with pip install pandas."
   ]
  },
  {
   "cell_type": "code",
   "execution_count": null,
   "metadata": {
    "collapsed": false
   },
   "outputs": [],
   "source": [
    "results = %cypher MATCH (person:Person)-[:LIKES]->(drink:Drink) \\\n",
    "                  RETURN person.name AS name, drink.name AS drink\n",
    "    \n",
    "df = results.get_dataframe()\n",
    "\n",
    "df"
   ]
  },
  {
   "cell_type": "markdown",
   "metadata": {},
   "source": [
    "## NetworkX Graphs\n",
    "Cypher query results can be coerced to NetworkX MultiDiGraphs, graphs that permit multiple edges between nodes, with the get_graph method"
   ]
  },
  {
   "cell_type": "code",
   "execution_count": null,
   "metadata": {
    "collapsed": false
   },
   "outputs": [],
   "source": [
    "import networkx as nx\n",
    "%matplotlib inline\n",
    "\n",
    "results = %cypher MATCH p = (:Person)-[:LIKES]->(:Drink) RETURN p\n",
    "\n",
    "g = results.get_graph()\n",
    "\n",
    "nx.draw(g)"
   ]
  },
  {
   "cell_type": "code",
   "execution_count": null,
   "metadata": {
    "collapsed": false
   },
   "outputs": [],
   "source": [
    "g.nodes(data=True)"
   ]
  },
  {
   "cell_type": "code",
   "execution_count": null,
   "metadata": {
    "collapsed": false
   },
   "outputs": [],
   "source": [
    "nx.degree(g)"
   ]
  },
  {
   "cell_type": "markdown",
   "metadata": {},
   "source": [
    "## igraph\n",
    "Cypher query results can be imported into igraph with py2neo. You'll need to install igraph with pip install python-igraph. Query results should be returned as edgelists, as igraph has a method for building an igraph object from a list of tuples representing edges between nodes."
   ]
  },
  {
   "cell_type": "code",
   "execution_count": null,
   "metadata": {
    "collapsed": true
   },
   "outputs": [],
   "source": [
    "from py2neo import Graph as PGraph\n",
    "from igraph import Graph as IGraph\n",
    "\n",
    "neo4j = PGraph()\n",
    "\n",
    "query = \"\"\"\n",
    "MATCH (person:Person)-[:LIKES]->(drink:Drink)\n",
    "RETURN person.name AS source, drink.name AS target\n",
    "\"\"\"\n",
    "\n",
    "data = neo4j.run(query)\n",
    "tups = []\n",
    "\n",
    "for d in data:\n",
    "    tups.append((d[\"source\"], d[\"target\"]))"
   ]
  },
  {
   "cell_type": "code",
   "execution_count": null,
   "metadata": {
    "collapsed": false
   },
   "outputs": [],
   "source": [
    "ig = IGraph.TupleList(tups)\n",
    "\n",
    "ig"
   ]
  },
  {
   "cell_type": "code",
   "execution_count": null,
   "metadata": {
    "collapsed": false
   },
   "outputs": [],
   "source": [
    "best = ig.vs.select(_degree = ig.maxdegree())[\"name\"]\n",
    "best"
   ]
  },
  {
   "cell_type": "markdown",
   "metadata": {},
   "source": [
    "## jgraph\n",
    "jgraph will plot tuple lists as 3D graphs."
   ]
  },
  {
   "cell_type": "code",
   "execution_count": null,
   "metadata": {
    "collapsed": false,
    "scrolled": true
   },
   "outputs": [],
   "source": [
    "import jgraph\n",
    "\n",
    "jgraph.draw([(1, 2), (2, 3), (3, 4), (4, 1), (4, 5), (5, 2)])"
   ]
  },
  {
   "cell_type": "code",
   "execution_count": null,
   "metadata": {
    "collapsed": false
   },
   "outputs": [],
   "source": [
    "data = graph.run(\"MATCH (n)-->(m) RETURN ID(n), ID(m)\")\n",
    "data = [tuple(x) for x in data]\n",
    "\n",
    "jgraph.draw(data)"
   ]
  },
  {
   "cell_type": "code",
   "execution_count": null,
   "metadata": {
    "collapsed": true
   },
   "outputs": [],
   "source": []
  }
 ],
 "metadata": {
  "kernelspec": {
   "display_name": "Python 2",
   "language": "python",
   "name": "python2"
  },
  "language_info": {
   "codemirror_mode": {
    "name": "ipython",
    "version": 2
   },
   "file_extension": ".py",
   "mimetype": "text/x-python",
   "name": "python",
   "nbconvert_exporter": "python",
   "pygments_lexer": "ipython2",
   "version": "2.7.6"
  }
 },
 "nbformat": 4,
 "nbformat_minor": 0
}
