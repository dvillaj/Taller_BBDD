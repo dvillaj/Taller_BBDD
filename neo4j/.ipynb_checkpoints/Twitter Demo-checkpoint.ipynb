{
 "cells": [
  {
   "cell_type": "code",
   "execution_count": 2,
   "metadata": {
    "collapsed": false
   },
   "outputs": [],
   "source": [
    "%load_ext cypher"
   ]
  },
  {
   "cell_type": "code",
   "execution_count": 3,
   "metadata": {
    "collapsed": false
   },
   "outputs": [
    {
     "name": "stdout",
     "output_type": "stream",
     "text": [
      "15705 relationship deleted.\n",
      "4821 nodes deleted.\n"
     ]
    },
    {
     "data": {
      "text/html": [
       "<table>\n",
       "    <tr>\n",
       "    </tr>\n",
       "</table>"
      ],
      "text/plain": [
       "[]"
      ]
     },
     "execution_count": 3,
     "metadata": {},
     "output_type": "execute_result"
    }
   ],
   "source": [
    "%%cypher\n",
    "MATCH (n)\n",
    "OPTIONAL MATCH (n)-[r]-()\n",
    "DELETE n,r"
   ]
  },
  {
   "cell_type": "code",
   "execution_count": 4,
   "metadata": {
    "collapsed": false
   },
   "outputs": [
    {
     "name": "stdout",
     "output_type": "stream",
     "text": [
      "0 rows affected.\n"
     ]
    },
    {
     "data": {
      "text/html": [
       "<table>\n",
       "    <tr>\n",
       "    </tr>\n",
       "</table>"
      ],
      "text/plain": [
       "[]"
      ]
     },
     "execution_count": 4,
     "metadata": {},
     "output_type": "execute_result"
    }
   ],
   "source": [
    "%cypher CREATE CONSTRAINT ON (t:Tweet) ASSERT t.id IS UNIQUE"
   ]
  },
  {
   "cell_type": "code",
   "execution_count": 5,
   "metadata": {
    "collapsed": false
   },
   "outputs": [
    {
     "name": "stdout",
     "output_type": "stream",
     "text": [
      "0 rows affected.\n"
     ]
    },
    {
     "data": {
      "text/html": [
       "<table>\n",
       "    <tr>\n",
       "    </tr>\n",
       "</table>"
      ],
      "text/plain": [
       "[]"
      ]
     },
     "execution_count": 5,
     "metadata": {},
     "output_type": "execute_result"
    }
   ],
   "source": [
    "%cypher CREATE CONSTRAINT ON (u:User) ASSERT u.username IS UNIQUE"
   ]
  },
  {
   "cell_type": "code",
   "execution_count": 6,
   "metadata": {
    "collapsed": false
   },
   "outputs": [
    {
     "name": "stdout",
     "output_type": "stream",
     "text": [
      "0 rows affected.\n"
     ]
    },
    {
     "data": {
      "text/html": [
       "<table>\n",
       "    <tr>\n",
       "    </tr>\n",
       "</table>"
      ],
      "text/plain": [
       "[]"
      ]
     },
     "execution_count": 6,
     "metadata": {},
     "output_type": "execute_result"
    }
   ],
   "source": [
    "%cypher CREATE CONSTRAINT ON (h:HashTag) ASSERT h.hashtag IS UNIQUE"
   ]
  },
  {
   "cell_type": "markdown",
   "metadata": {},
   "source": [
    "![png](./images/Model.png)"
   ]
  },
  {
   "cell_type": "code",
   "execution_count": 7,
   "metadata": {
    "collapsed": true
   },
   "outputs": [],
   "source": [
    "from pprintpp import pprint as pp\n"
   ]
  },
  {
   "cell_type": "code",
   "execution_count": 8,
   "metadata": {
    "collapsed": false
   },
   "outputs": [],
   "source": [
    "from py2neo import Graph, Relationship\n",
    "import json\n",
    "\n",
    "graph = Graph()"
   ]
  },
  {
   "cell_type": "code",
   "execution_count": 9,
   "metadata": {
    "collapsed": true
   },
   "outputs": [],
   "source": [
    "def add_property(obj, json, name):\n",
    "    if name in json:\n",
    "        obj[name] = json[name]"
   ]
  },
  {
   "cell_type": "code",
   "execution_count": 10,
   "metadata": {
    "collapsed": true
   },
   "outputs": [],
   "source": [
    "def parse_user(user_json):\n",
    "    user = graph.merge_one(\"User\", \"username\", user_json['screen_name'])\n",
    "    \n",
    "    add_property(user, user_json, 'created_at')\n",
    "    add_property(user, user_json, 'description')\n",
    "    add_property(user, user_json, 'favourites_count')\n",
    "    add_property(user, user_json, 'followers_count')\n",
    "    add_property(user, user_json, 'friends_count')\n",
    "    add_property(user, user_json, 'statuses_count')\n",
    "    add_property(user, user_json, 'time_zone')\n",
    "    add_property(user, user_json, 'name')\n",
    "    add_property(user, user_json, 'profile_image_url')\n",
    "    \n",
    "    user.push()\n",
    "    return user"
   ]
  },
  {
   "cell_type": "code",
   "execution_count": 11,
   "metadata": {
    "collapsed": false
   },
   "outputs": [],
   "source": [
    "def parse_tweet(tweet_json):\n",
    "    user = parse_user(tweet_json['user'])\n",
    "    \n",
    "    tweet = graph.merge_one(\"Tweet\", \"id\", tweet_json['id'])\n",
    "    add_property(tweet, tweet_json, 'created_at')\n",
    "    add_property(tweet, tweet_json, 'lang')\n",
    "    add_property(tweet, tweet_json, 'retweet_count')\n",
    "    add_property(tweet, tweet_json, 'source')\n",
    "    add_property(tweet, tweet_json, 'text')\n",
    "    \n",
    "    tweet.push()\n",
    "    \n",
    "    user_tweeted_tweet = Relationship(user, \"TWEETED\", tweet)\n",
    "    graph.create_unique(user_tweeted_tweet)\n",
    "    \n",
    "    if 'user_mentions' in tweet_json:\n",
    "        for user_mention_json in tweet_json['user_mentions']:\n",
    "            user_mencioned = parse_user(user_mention_json)\n",
    "            tweet_mencioned_user = Relationship(tweet, \"MENCIONED\", user_mencioned)\n",
    "            graph.create_unique(tweet_mencioned_user)\n",
    " \n",
    "    if 'entities' in tweet_json:\n",
    "        for entity in tweet_json['entities']:\n",
    "            hashtag = graph.merge_one(\"HashTag\", \"hashtag\", entity)\n",
    "            tweet_HashTag_hashtag = Relationship(tweet, \"HASHTAG\", hashtag)\n",
    "            graph.create_unique(tweet_HashTag_hashtag)\n",
    "\n",
    "    if 'retweeted_status' in tweet_json:\n",
    "        user_retweeted = parse_user(tweet_json['retweeted_status']['user'])\n",
    "        tweet_retweetOf_user = Relationship(tweet, \"RETWEET_OF\", user_retweeted)\n",
    "        graph.create_unique(tweet_retweetOf_user)\n",
    "        \n",
    "        parse_tweet(tweet_json['retweeted_status'])"
   ]
  },
  {
   "cell_type": "code",
   "execution_count": 12,
   "metadata": {
    "collapsed": true
   },
   "outputs": [],
   "source": [
    "def load_file(tweets_data_path):\n",
    "    tweets_file = open(tweets_data_path, \"r\")\n",
    "    for tweet in tweets_file:\n",
    "        parse_tweet(json.loads(tweet))"
   ]
  },
  {
   "cell_type": "code",
   "execution_count": 13,
   "metadata": {
    "collapsed": false
   },
   "outputs": [],
   "source": [
    "load_file('../data/tweets.json')"
   ]
  },
  {
   "cell_type": "code",
   "execution_count": 14,
   "metadata": {
    "collapsed": false
   },
   "outputs": [
    {
     "name": "stdout",
     "output_type": "stream",
     "text": [
      "10 rows affected.\n"
     ]
    },
    {
     "data": {
      "text/html": [
       "<table>\n",
       "    <tr>\n",
       "        <th>u.username</th>\n",
       "        <th>t.text</th>\n",
       "        <th>type(r)</th>\n",
       "    </tr>\n",
       "    <tr>\n",
       "        <td>couchbase</td>\n",
       "        <td>Want to quickly learn to build #NoSQL applications? Get FREE online training today: https://t.co/pPYZvZdqDi https://t.co/9DFR3yTTfL</td>\n",
       "        <td>TWEETED</td>\n",
       "    </tr>\n",
       "    <tr>\n",
       "        <td>couchbase</td>\n",
       "        <td>RT @arungupta: Blogged: Why Couchbase over MongoDB? #SayNoToMongoDB: MongoDB is one of the most popular NoSQL databases. Its ... https://t.…</td>\n",
       "        <td>TWEETED</td>\n",
       "    </tr>\n",
       "    <tr>\n",
       "        <td>couchbase</td>\n",
       "        <td>Top 5 reasons to secure #NoSQL deployments. Protect data using #Vormetric's Data Security platform for #Couchbase: https://t.co/tDnyyUzayz</td>\n",
       "        <td>TWEETED</td>\n",
       "    </tr>\n",
       "    <tr>\n",
       "        <td>couchbase</td>\n",
       "        <td>Download #Couchbase 4.0 and build apps using #SQL for #JSON. Fast, efficient, powerful query http://t.co/Xt8cpz7Ffk #database #developers</td>\n",
       "        <td>TWEETED</td>\n",
       "    </tr>\n",
       "    <tr>\n",
       "        <td>couchbase</td>\n",
       "        <td>#CBLiveNY presentations &amp;amp; videos are now posted. Learn about the latest innovations in 4.0 &amp;amp; #N1QL. Watch now: https://t.co/1lXyLtUbNV</td>\n",
       "        <td>TWEETED</td>\n",
       "    </tr>\n",
       "    <tr>\n",
       "        <td>couchbase</td>\n",
       "        <td>Want to quickly learn to build #NoSQL applications? Get FREE online training today: http://t.co/pPYZvZdqDi http://t.co/62jJwTR7AI</td>\n",
       "        <td>TWEETED</td>\n",
       "    </tr>\n",
       "    <tr>\n",
       "        <td>couchbase</td>\n",
       "        <td>Missed #CBLiveNY or just want to revisit the great presentations? Slides are posted: http://t.co/SJB6CMRkSU #Couchbase #NoSQL #N1QL</td>\n",
       "        <td>TWEETED</td>\n",
       "    </tr>\n",
       "    <tr>\n",
       "        <td>couchbase</td>\n",
       "        <td>Download #Couchbase 4.0 and build apps using #SQL for #JSON. Fast, efficient, powerful query https://t.co/Xt8cpzpgDU #database #developers</td>\n",
       "        <td>TWEETED</td>\n",
       "    </tr>\n",
       "    <tr>\n",
       "        <td>couchbase</td>\n",
       "        <td>From Cache to Query: CenterEdge tells @diginomica about how Black Friday performances prompted the switch to #NoSQL https://t.co/SAWZEPtIJI</td>\n",
       "        <td>TWEETED</td>\n",
       "    </tr>\n",
       "    <tr>\n",
       "        <td>couchbase</td>\n",
       "        <td>Sign up in Oslo, Helsinki &amp;amp; Stockholm next month &amp;amp; get FREE expert #bigdata training. Get developer agility w/ JSON https://t.co/4gjNQgHXkd</td>\n",
       "        <td>TWEETED</td>\n",
       "    </tr>\n",
       "</table>"
      ],
      "text/plain": [
       "[[u'couchbase',\n",
       "  u'Want to quickly learn to build #NoSQL applications? Get FREE online training today: https://t.co/pPYZvZdqDi https://t.co/9DFR3yTTfL',\n",
       "  u'TWEETED'],\n",
       " [u'couchbase',\n",
       "  u'RT @arungupta: Blogged: Why Couchbase over MongoDB? #SayNoToMongoDB: MongoDB is one of the most popular NoSQL databases. Its ... https://t.\\u2026',\n",
       "  u'TWEETED'],\n",
       " [u'couchbase',\n",
       "  u\"Top 5 reasons to secure #NoSQL deployments. Protect data using #Vormetric's Data Security platform for #Couchbase: https://t.co/tDnyyUzayz\",\n",
       "  u'TWEETED'],\n",
       " [u'couchbase',\n",
       "  u'Download #Couchbase 4.0 and build apps using #SQL for #JSON. Fast, efficient, powerful query http://t.co/Xt8cpz7Ffk #database #developers',\n",
       "  u'TWEETED'],\n",
       " [u'couchbase',\n",
       "  u'#CBLiveNY presentations &amp; videos are now posted. Learn about the latest innovations in 4.0 &amp; #N1QL. Watch now: https://t.co/1lXyLtUbNV',\n",
       "  u'TWEETED'],\n",
       " [u'couchbase',\n",
       "  u'Want to quickly learn to build #NoSQL applications? Get FREE online training today: http://t.co/pPYZvZdqDi http://t.co/62jJwTR7AI',\n",
       "  u'TWEETED'],\n",
       " [u'couchbase',\n",
       "  u'Missed #CBLiveNY or just want to revisit the great presentations? Slides are posted: http://t.co/SJB6CMRkSU #Couchbase #NoSQL #N1QL',\n",
       "  u'TWEETED'],\n",
       " [u'couchbase',\n",
       "  u'Download #Couchbase 4.0 and build apps using #SQL for #JSON. Fast, efficient, powerful query https://t.co/Xt8cpzpgDU #database #developers',\n",
       "  u'TWEETED'],\n",
       " [u'couchbase',\n",
       "  u'From Cache to Query: CenterEdge tells @diginomica about how Black Friday performances prompted the switch to #NoSQL https://t.co/SAWZEPtIJI',\n",
       "  u'TWEETED'],\n",
       " [u'couchbase',\n",
       "  u'Sign up in Oslo, Helsinki &amp; Stockholm next month &amp; get FREE expert #bigdata training. Get developer agility w/ JSON https://t.co/4gjNQgHXkd',\n",
       "  u'TWEETED']]"
      ]
     },
     "execution_count": 14,
     "metadata": {},
     "output_type": "execute_result"
    }
   ],
   "source": [
    "%%cypher\n",
    "MATCH p = ((u:User {username : 'couchbase'})-[r:TWEETED]->t)\n",
    "RETURN u.username, t.text, type(r)\n",
    "LIMIT 10"
   ]
  },
  {
   "cell_type": "code",
   "execution_count": 15,
   "metadata": {
    "collapsed": false
   },
   "outputs": [
    {
     "name": "stdout",
     "output_type": "stream",
     "text": [
      "10 rows affected.\n"
     ]
    },
    {
     "data": {
      "text/html": [
       "<table>\n",
       "    <tr>\n",
       "        <th>n.hashtag</th>\n",
       "        <th>degree</th>\n",
       "    </tr>\n",
       "    <tr>\n",
       "        <td>NoSQL</td>\n",
       "        <td>1230</td>\n",
       "    </tr>\n",
       "    <tr>\n",
       "        <td>BigData</td>\n",
       "        <td>574</td>\n",
       "    </tr>\n",
       "    <tr>\n",
       "        <td>Java</td>\n",
       "        <td>531</td>\n",
       "    </tr>\n",
       "    <tr>\n",
       "        <td>MongoDB</td>\n",
       "        <td>502</td>\n",
       "    </tr>\n",
       "    <tr>\n",
       "        <td>Hadoop</td>\n",
       "        <td>469</td>\n",
       "    </tr>\n",
       "    <tr>\n",
       "        <td>nosql</td>\n",
       "        <td>426</td>\n",
       "    </tr>\n",
       "    <tr>\n",
       "        <td>SoapUi</td>\n",
       "        <td>408</td>\n",
       "    </tr>\n",
       "    <tr>\n",
       "        <td>hive</td>\n",
       "        <td>310</td>\n",
       "    </tr>\n",
       "    <tr>\n",
       "        <td>bigdata</td>\n",
       "        <td>176</td>\n",
       "    </tr>\n",
       "    <tr>\n",
       "        <td>MongoDb</td>\n",
       "        <td>112</td>\n",
       "    </tr>\n",
       "</table>"
      ],
      "text/plain": [
       "[[u'NoSQL', 1230],\n",
       " [u'BigData', 574],\n",
       " [u'Java', 531],\n",
       " [u'MongoDB', 502],\n",
       " [u'Hadoop', 469],\n",
       " [u'nosql', 426],\n",
       " [u'SoapUi', 408],\n",
       " [u'hive', 310],\n",
       " [u'bigdata', 176],\n",
       " [u'MongoDb', 112]]"
      ]
     },
     "execution_count": 15,
     "metadata": {},
     "output_type": "execute_result"
    }
   ],
   "source": [
    "%%cypher match (n:HashTag)-[r]-() \n",
    "return n.hashtag, count(r) as degree \n",
    "order by degree desc\n",
    "limit 10"
   ]
  },
  {
   "cell_type": "code",
   "execution_count": 16,
   "metadata": {
    "collapsed": true
   },
   "outputs": [],
   "source": [
    "%matplotlib inline"
   ]
  },
  {
   "cell_type": "code",
   "execution_count": 17,
   "metadata": {
    "collapsed": false
   },
   "outputs": [
    {
     "name": "stdout",
     "output_type": "stream",
     "text": [
      "10 rows affected.\n"
     ]
    }
   ],
   "source": [
    "results = %%cypher match (n:HashTag)-[r]-()  return n.hashtag as HashTag, count(r) as Degree order by Degree desc limit 10"
   ]
  },
  {
   "cell_type": "code",
   "execution_count": 18,
   "metadata": {
    "collapsed": false
   },
   "outputs": [
    {
     "data": {
      "text/html": [
       "<div>\n",
       "<table border=\"1\" class=\"dataframe\">\n",
       "  <thead>\n",
       "    <tr style=\"text-align: right;\">\n",
       "      <th></th>\n",
       "      <th>HashTag</th>\n",
       "      <th>Degree</th>\n",
       "    </tr>\n",
       "  </thead>\n",
       "  <tbody>\n",
       "    <tr>\n",
       "      <th>0</th>\n",
       "      <td>NoSQL</td>\n",
       "      <td>1230</td>\n",
       "    </tr>\n",
       "    <tr>\n",
       "      <th>1</th>\n",
       "      <td>BigData</td>\n",
       "      <td>574</td>\n",
       "    </tr>\n",
       "    <tr>\n",
       "      <th>2</th>\n",
       "      <td>Java</td>\n",
       "      <td>531</td>\n",
       "    </tr>\n",
       "    <tr>\n",
       "      <th>3</th>\n",
       "      <td>MongoDB</td>\n",
       "      <td>502</td>\n",
       "    </tr>\n",
       "    <tr>\n",
       "      <th>4</th>\n",
       "      <td>Hadoop</td>\n",
       "      <td>469</td>\n",
       "    </tr>\n",
       "    <tr>\n",
       "      <th>5</th>\n",
       "      <td>nosql</td>\n",
       "      <td>426</td>\n",
       "    </tr>\n",
       "    <tr>\n",
       "      <th>6</th>\n",
       "      <td>SoapUi</td>\n",
       "      <td>408</td>\n",
       "    </tr>\n",
       "    <tr>\n",
       "      <th>7</th>\n",
       "      <td>hive</td>\n",
       "      <td>310</td>\n",
       "    </tr>\n",
       "    <tr>\n",
       "      <th>8</th>\n",
       "      <td>bigdata</td>\n",
       "      <td>176</td>\n",
       "    </tr>\n",
       "    <tr>\n",
       "      <th>9</th>\n",
       "      <td>MongoDb</td>\n",
       "      <td>112</td>\n",
       "    </tr>\n",
       "  </tbody>\n",
       "</table>\n",
       "</div>"
      ],
      "text/plain": [
       "   HashTag  Degree\n",
       "0    NoSQL    1230\n",
       "1  BigData     574\n",
       "2     Java     531\n",
       "3  MongoDB     502\n",
       "4   Hadoop     469\n",
       "5    nosql     426\n",
       "6   SoapUi     408\n",
       "7     hive     310\n",
       "8  bigdata     176\n",
       "9  MongoDb     112"
      ]
     },
     "execution_count": 18,
     "metadata": {},
     "output_type": "execute_result"
    }
   ],
   "source": [
    "results.get_dataframe()"
   ]
  },
  {
   "cell_type": "code",
   "execution_count": 19,
   "metadata": {
    "collapsed": false
   },
   "outputs": [
    {
     "data": {
      "text/plain": [
       "([<matplotlib.patches.Wedge at 0x7f5396c25950>,\n",
       "  <matplotlib.patches.Wedge at 0x7f5396c4f390>,\n",
       "  <matplotlib.patches.Wedge at 0x7f5396c4fd10>,\n",
       "  <matplotlib.patches.Wedge at 0x7f5396c1d6d0>,\n",
       "  <matplotlib.patches.Wedge at 0x7f5396c47090>,\n",
       "  <matplotlib.patches.Wedge at 0x7f5396c47a10>,\n",
       "  <matplotlib.patches.Wedge at 0x7f53968c23d0>,\n",
       "  <matplotlib.patches.Wedge at 0x7f53968c2d50>,\n",
       "  <matplotlib.patches.Wedge at 0x7f53968ba710>,\n",
       "  <matplotlib.patches.Wedge at 0x7f53968a40d0>],\n",
       " [<matplotlib.text.Text at 0x7f5396c25f10>,\n",
       "  <matplotlib.text.Text at 0x7f5396c4f950>,\n",
       "  <matplotlib.text.Text at 0x7f5396c1d310>,\n",
       "  <matplotlib.text.Text at 0x7f5396c1dc90>,\n",
       "  <matplotlib.text.Text at 0x7f5396c47650>,\n",
       "  <matplotlib.text.Text at 0x7f5396c47fd0>,\n",
       "  <matplotlib.text.Text at 0x7f53968c2990>,\n",
       "  <matplotlib.text.Text at 0x7f53968ba350>,\n",
       "  <matplotlib.text.Text at 0x7f53968bacd0>,\n",
       "  <matplotlib.text.Text at 0x7f53968a4690>])"
      ]
     },
     "execution_count": 19,
     "metadata": {},
     "output_type": "execute_result"
    },
    {
     "data": {
      "image/png": "[encoded data removed]",
      "text/plain": [
       "<matplotlib.figure.Figure at 0x7f5396a96bd0>"
      ]
     },
     "metadata": {},
     "output_type": "display_data"
    }
   ],
   "source": [
    "results.pie()"
   ]
  },
  {
   "cell_type": "code",
   "execution_count": 20,
   "metadata": {
    "collapsed": false
   },
   "outputs": [
    {
     "data": {
      "text/plain": [
       "[<matplotlib.lines.Line2D at 0x7f5396bb7d10>]"
      ]
     },
     "execution_count": 20,
     "metadata": {},
     "output_type": "execute_result"
    },
    {
     "data": {
      "image/png": "[encoded data removed]",
      "text/plain": [
       "<matplotlib.figure.Figure at 0x7f5396aa7990>"
      ]
     },
     "metadata": {},
     "output_type": "display_data"
    }
   ],
   "source": [
    "results.plot()"
   ]
  },
  {
   "cell_type": "code",
   "execution_count": 21,
   "metadata": {
    "collapsed": false
   },
   "outputs": [
    {
     "data": {
      "text/plain": [
       "<Container object of 10 artists>"
      ]
     },
     "execution_count": 21,
     "metadata": {},
     "output_type": "execute_result"
    },
    {
     "data": {
      "image/png": "[encoded data removed]",
      "text/plain": [
       "<matplotlib.figure.Figure at 0x7f53969bc4d0>"
      ]
     },
     "metadata": {},
     "output_type": "display_data"
    }
   ],
   "source": [
    "results.bar()"
   ]
  },
  {
   "cell_type": "code",
   "execution_count": 22,
   "metadata": {
    "collapsed": false
   },
   "outputs": [
    {
     "name": "stdout",
     "output_type": "stream",
     "text": [
      "10 rows affected.\n"
     ]
    },
    {
     "data": {
      "text/plain": [
       "(<networkx.classes.multidigraph.MultiDiGraph at 0x7f53968f8f50>,\n",
       " <matplotlib.axes.AxesSubplot at 0x7f5396cd7d10>,\n",
       " <matplotlib.collections.PathCollection at 0x7f5396d556d0>)"
      ]
     },
     "execution_count": 22,
     "metadata": {},
     "output_type": "execute_result"
    },
    {
     "data": {
      "image/png": "[encoded data removed]",
      "text/plain": [
       "<matplotlib.figure.Figure at 0x7f53968f8390>"
      ]
     },
     "metadata": {},
     "output_type": "display_data"
    }
   ],
   "source": [
    "results = %cypher match (n)-[r]-() return n, r limit 10\n",
    "results.draw()"
   ]
  },
  {
   "cell_type": "code",
   "execution_count": null,
   "metadata": {
    "collapsed": true
   },
   "outputs": [],
   "source": [
    "from py2neo import Graph\n",
    "graph = Graph()\n",
    "cypher = graph.cypher"
   ]
  },
  {
   "cell_type": "code",
   "execution_count": 37,
   "metadata": {
    "collapsed": false
   },
   "outputs": [
    {
     "name": "stdout",
     "output_type": "stream",
     "text": [
      "    | hashtag        | count\n",
      "----+----------------+-------\n",
      "  1 | nosql          |    19\n",
      "  2 | hadoop         |     8\n",
      "  3 | mongodb        |     8\n",
      "  4 | spark          |     8\n",
      "  5 | couchbase      |     8\n",
      "  6 | redis          |     8\n",
      "  7 | socialNetworks |     5\n",
      "  8 | graphdb        |     5\n",
      "  9 | nodejs         |     4\n",
      " 10 | job            |     4\n",
      "\n"
     ]
    }
   ],
   "source": [
    "query = \"\"\"\n",
    "    MATCH (h:HashTag)<-[:HASHTAG]-(:Tweet)-[:HASHTAG]->(HashTag {hashtag:\"neo4j\"}) \n",
    "    WHERE h.hashtag <> \"neo4j\"\n",
    "    RETURN h.hashtag AS hashtag, COUNT(*) AS count\n",
    "    ORDER BY count DESC\n",
    "    LIMIT 10\n",
    "\"\"\"\n",
    "\n",
    "results = cypher.execute(query )\n",
    "print results\n",
    "\n"
   ]
  },
  {
   "cell_type": "code",
   "execution_count": 38,
   "metadata": {
    "collapsed": false
   },
   "outputs": [
    {
     "name": "stdout",
     "output_type": "stream",
     "text": [
      "    | u.username     | u.followers_count\n",
      "----+----------------+-------------------\n",
      "  1 | googlecloud    |            447590\n",
      "  2 | Azure          |            383977\n",
      "  3 | craigbrownphd  |            368570\n",
      "  4 | DavidPapp      |            215114\n",
      "  5 | couchbase      |            160978\n",
      "  6 | iamdevloper    |            125526\n",
      "  7 | analyticbridge |            117146\n",
      "  8 | docker         |             91037\n",
      "  9 | javacodegeeks  |             79307\n",
      " 10 | developerWorks |             75534\n",
      "\n"
     ]
    }
   ],
   "source": [
    "results = cypher.execute(\n",
    "\"\"\"\n",
    "MATCH (u:User)\n",
    "WHERE exists(u.followers_count)\n",
    "return distinct u.username, u.followers_count\n",
    "order by u.followers_count DESC LIMIT 10\n",
    "\"\"\")\n",
    "\n",
    "print results"
   ]
  },
  {
   "cell_type": "code",
   "execution_count": 39,
   "metadata": {
    "collapsed": false
   },
   "outputs": [
    {
     "data": {
      "text/plain": [
       "py2neo.cypher.core.RecordList"
      ]
     },
     "execution_count": 39,
     "metadata": {},
     "output_type": "execute_result"
    }
   ],
   "source": [
    "type(results)"
   ]
  },
  {
   "cell_type": "code",
   "execution_count": 40,
   "metadata": {
    "collapsed": false
   },
   "outputs": [
    {
     "name": "stdout",
     "output_type": "stream",
     "text": [
      "10 rows affected.\n"
     ]
    },
    {
     "data": {
      "text/html": [
       "<table>\n",
       "    <tr>\n",
       "        <th>u.username</th>\n",
       "        <th>u.followers_count</th>\n",
       "    </tr>\n",
       "    <tr>\n",
       "        <td>googlecloud</td>\n",
       "        <td>447590</td>\n",
       "    </tr>\n",
       "    <tr>\n",
       "        <td>Azure</td>\n",
       "        <td>383977</td>\n",
       "    </tr>\n",
       "    <tr>\n",
       "        <td>craigbrownphd</td>\n",
       "        <td>368570</td>\n",
       "    </tr>\n",
       "    <tr>\n",
       "        <td>DavidPapp</td>\n",
       "        <td>215114</td>\n",
       "    </tr>\n",
       "    <tr>\n",
       "        <td>couchbase</td>\n",
       "        <td>160978</td>\n",
       "    </tr>\n",
       "    <tr>\n",
       "        <td>iamdevloper</td>\n",
       "        <td>125526</td>\n",
       "    </tr>\n",
       "    <tr>\n",
       "        <td>analyticbridge</td>\n",
       "        <td>117146</td>\n",
       "    </tr>\n",
       "    <tr>\n",
       "        <td>docker</td>\n",
       "        <td>91037</td>\n",
       "    </tr>\n",
       "    <tr>\n",
       "        <td>javacodegeeks</td>\n",
       "        <td>79307</td>\n",
       "    </tr>\n",
       "    <tr>\n",
       "        <td>developerWorks</td>\n",
       "        <td>75534</td>\n",
       "    </tr>\n",
       "</table>"
      ],
      "text/plain": [
       "[[u'googlecloud', 447590],\n",
       " [u'Azure', 383977],\n",
       " [u'craigbrownphd', 368570],\n",
       " [u'DavidPapp', 215114],\n",
       " [u'couchbase', 160978],\n",
       " [u'iamdevloper', 125526],\n",
       " [u'analyticbridge', 117146],\n",
       " [u'docker', 91037],\n",
       " [u'javacodegeeks', 79307],\n",
       " [u'developerWorks', 75534]]"
      ]
     },
     "execution_count": 40,
     "metadata": {},
     "output_type": "execute_result"
    }
   ],
   "source": [
    "%%cypher\n",
    "MATCH (u:User)\n",
    "WHERE exists(u.followers_count)\n",
    "return distinct u.username, u.followers_count\n",
    "order by u.followers_count DESC LIMIT 10"
   ]
  },
  {
   "cell_type": "code",
   "execution_count": 41,
   "metadata": {
    "collapsed": false
   },
   "outputs": [
    {
     "name": "stdout",
     "output_type": "stream",
     "text": [
      "3 rows affected.\n"
     ]
    },
    {
     "data": {
      "text/html": [
       "<table>\n",
       "    <tr>\n",
       "        <th>labels(n)</th>\n",
       "    </tr>\n",
       "    <tr>\n",
       "        <td>[u'User']</td>\n",
       "    </tr>\n",
       "    <tr>\n",
       "        <td>[u'Tweet']</td>\n",
       "    </tr>\n",
       "    <tr>\n",
       "        <td>[u'HashTag']</td>\n",
       "    </tr>\n",
       "</table>"
      ],
      "text/plain": [
       "[[[u'User']], [[u'Tweet']], [[u'HashTag']]]"
      ]
     },
     "execution_count": 41,
     "metadata": {},
     "output_type": "execute_result"
    }
   ],
   "source": [
    "%%cypher\n",
    "match n\n",
    "return distinct labels(n)"
   ]
  },
  {
   "cell_type": "code",
   "execution_count": 42,
   "metadata": {
    "collapsed": false
   },
   "outputs": [
    {
     "name": "stdout",
     "output_type": "stream",
     "text": [
      "1 rows affected.\n"
     ]
    },
    {
     "data": {
      "text/html": [
       "<div>\n",
       "<table border=\"1\" class=\"dataframe\">\n",
       "  <thead>\n",
       "    <tr style=\"text-align: right;\">\n",
       "      <th></th>\n",
       "      <th>hashtag</th>\n",
       "      <th>tweets</th>\n",
       "    </tr>\n",
       "  </thead>\n",
       "  <tbody>\n",
       "    <tr>\n",
       "      <th>0</th>\n",
       "      <td>None</td>\n",
       "      <td>9382</td>\n",
       "    </tr>\n",
       "  </tbody>\n",
       "</table>\n",
       "</div>"
      ],
      "text/plain": [
       "  hashtag  tweets\n",
       "0    None    9382"
      ]
     },
     "execution_count": 42,
     "metadata": {},
     "output_type": "execute_result"
    }
   ],
   "source": [
    "\n",
    "result = %cypher MATCH (hashtag:HashTag)<-[:HASHTAG]-(tweet:Tweet) \\\n",
    "                 RETURN hashtag.name AS hashtag, COUNT(tweet) AS tweets \\\n",
    "                 ORDER BY tweets DESC LIMIT 5\n",
    "        \n",
    "df = result.get_dataframe()\n",
    "df.head()"
   ]
  },
  {
   "cell_type": "code",
   "execution_count": null,
   "metadata": {
    "collapsed": true
   },
   "outputs": [],
   "source": []
  }
 ],
 "metadata": {
  "kernelspec": {
   "display_name": "Python 2",
   "language": "python",
   "name": "python2"
  },
  "language_info": {
   "codemirror_mode": {
    "name": "ipython",
    "version": 2
   },
   "file_extension": ".py",
   "mimetype": "text/x-python",
   "name": "python",
   "nbconvert_exporter": "python",
   "pygments_lexer": "ipython2",
   "version": "2.7.6"
  }
 },
 "nbformat": 4,
 "nbformat_minor": 0
}
