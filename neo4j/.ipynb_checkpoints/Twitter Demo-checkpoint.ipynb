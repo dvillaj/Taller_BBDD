{
 "cells": [
  {
   "cell_type": "markdown",
   "metadata": {},
   "source": [
    "# Almacenando datos de Twitter en Neo4j"
   ]
  },
  {
   "cell_type": "markdown",
   "metadata": {},
   "source": [
    "![png](http://d20tdhwx2i89n1.cloudfront.net/image/upload/t_next_gen_article_large_767/btp7c4imyevfdt9icxlo.jpg)"
   ]
  },
  {
   "cell_type": "code",
   "execution_count": null,
   "metadata": {
    "collapsed": false
   },
   "outputs": [],
   "source": [
    "%load_ext cypher"
   ]
  },
  {
   "cell_type": "code",
   "execution_count": null,
   "metadata": {
    "collapsed": false
   },
   "outputs": [],
   "source": [
    "%%cypher\n",
    "MATCH (n)\n",
    "OPTIONAL MATCH (n)-[r]-()\n",
    "DELETE n,r"
   ]
  },
  {
   "cell_type": "code",
   "execution_count": null,
   "metadata": {
    "collapsed": false
   },
   "outputs": [],
   "source": [
    "%cypher CREATE CONSTRAINT ON (t:Tweet) ASSERT t.id IS UNIQUE"
   ]
  },
  {
   "cell_type": "code",
   "execution_count": null,
   "metadata": {
    "collapsed": false
   },
   "outputs": [],
   "source": [
    "%cypher CREATE CONSTRAINT ON (u:User) ASSERT u.username IS UNIQUE"
   ]
  },
  {
   "cell_type": "code",
   "execution_count": null,
   "metadata": {
    "collapsed": false
   },
   "outputs": [],
   "source": [
    "%cypher CREATE CONSTRAINT ON (h:HashTag) ASSERT h.hashtag IS UNIQUE"
   ]
  },
  {
   "cell_type": "markdown",
   "metadata": {},
   "source": [
    "![png](./images/Model.png)"
   ]
  },
  {
   "cell_type": "code",
   "execution_count": null,
   "metadata": {
    "collapsed": true
   },
   "outputs": [],
   "source": [
    "from pprintpp import pprint as pp\n"
   ]
  },
  {
   "cell_type": "code",
   "execution_count": null,
   "metadata": {
    "collapsed": false
   },
   "outputs": [],
   "source": [
    "from py2neo import Graph, Relationship\n",
    "import json\n",
    "\n",
    "graph = Graph()"
   ]
  },
  {
   "cell_type": "code",
   "execution_count": null,
   "metadata": {
    "collapsed": true
   },
   "outputs": [],
   "source": [
    "def add_property(obj, json, name):\n",
    "    if name in json:\n",
    "        obj[name] = json[name]"
   ]
  },
  {
   "cell_type": "code",
   "execution_count": null,
   "metadata": {
    "collapsed": true
   },
   "outputs": [],
   "source": [
    "def parse_user(user_json):\n",
    "    user = graph.merge_one(\"User\", \"username\", user_json['screen_name'])\n",
    "    \n",
    "    add_property(user, user_json, 'created_at')\n",
    "    add_property(user, user_json, 'description')\n",
    "    add_property(user, user_json, 'favourites_count')\n",
    "    add_property(user, user_json, 'followers_count')\n",
    "    add_property(user, user_json, 'friends_count')\n",
    "    add_property(user, user_json, 'statuses_count')\n",
    "    add_property(user, user_json, 'time_zone')\n",
    "    add_property(user, user_json, 'name')\n",
    "    add_property(user, user_json, 'profile_image_url')\n",
    "    \n",
    "    user.push()\n",
    "    return user"
   ]
  },
  {
   "cell_type": "code",
   "execution_count": null,
   "metadata": {
    "collapsed": false
   },
   "outputs": [],
   "source": [
    "def parse_tweet(tweet_json):\n",
    "    user = parse_user(tweet_json['user'])\n",
    "    \n",
    "    tweet = graph.merge_one(\"Tweet\", \"id\", tweet_json['id'])\n",
    "    add_property(tweet, tweet_json, 'created_at')\n",
    "    add_property(tweet, tweet_json, 'lang')\n",
    "    add_property(tweet, tweet_json, 'retweet_count')\n",
    "    add_property(tweet, tweet_json, 'source')\n",
    "    add_property(tweet, tweet_json, 'text')\n",
    "    \n",
    "    tweet.push()\n",
    "    \n",
    "    user_tweeted_tweet = Relationship(user, \"TWEETED\", tweet)\n",
    "    graph.create_unique(user_tweeted_tweet)\n",
    "    \n",
    "    if 'user_mentions' in tweet_json:\n",
    "        for user_mention_json in tweet_json['user_mentions']:\n",
    "            user_mencioned = parse_user(user_mention_json)\n",
    "            tweet_mencioned_user = Relationship(tweet, \"MENCIONED\", user_mencioned)\n",
    "            graph.create_unique(tweet_mencioned_user)\n",
    " \n",
    "    if 'entities' in tweet_json:\n",
    "        for entity in tweet_json['entities']:\n",
    "            hashtag = graph.merge_one(\"HashTag\", \"hashtag\", entity)\n",
    "            tweet_HashTag_hashtag = Relationship(tweet, \"HASHTAG\", hashtag)\n",
    "            graph.create_unique(tweet_HashTag_hashtag)\n",
    "\n",
    "    if 'retweeted_status' in tweet_json:\n",
    "        user_retweeted = parse_user(tweet_json['retweeted_status']['user'])\n",
    "        tweet_retweetOf_user = Relationship(tweet, \"RETWEET_OF\", user_retweeted)\n",
    "        graph.create_unique(tweet_retweetOf_user)\n",
    "        \n",
    "        parse_tweet(tweet_json['retweeted_status'])"
   ]
  },
  {
   "cell_type": "code",
   "execution_count": null,
   "metadata": {
    "collapsed": true
   },
   "outputs": [],
   "source": [
    "def load_file(tweets_data_path):\n",
    "    tweets_file = open(tweets_data_path, \"r\")\n",
    "    for tweet in tweets_file:\n",
    "        parse_tweet(json.loads(tweet))"
   ]
  },
  {
   "cell_type": "code",
   "execution_count": null,
   "metadata": {
    "collapsed": false
   },
   "outputs": [],
   "source": [
    "load_file('../data/tweets.json')"
   ]
  },
  {
   "cell_type": "code",
   "execution_count": null,
   "metadata": {
    "collapsed": false
   },
   "outputs": [],
   "source": [
    "%%cypher\n",
    "MATCH p = ((u:User {username : 'couchbase'})-[r:TWEETED]->t)\n",
    "RETURN u.username, t.text, type(r)\n",
    "LIMIT 10"
   ]
  },
  {
   "cell_type": "code",
   "execution_count": null,
   "metadata": {
    "collapsed": false
   },
   "outputs": [],
   "source": [
    "%%cypher match (n:HashTag)-[r]-() \n",
    "return n.hashtag, count(r) as degree \n",
    "order by degree desc\n",
    "limit 10"
   ]
  },
  {
   "cell_type": "code",
   "execution_count": null,
   "metadata": {
    "collapsed": true
   },
   "outputs": [],
   "source": [
    "%matplotlib inline"
   ]
  },
  {
   "cell_type": "code",
   "execution_count": null,
   "metadata": {
    "collapsed": false
   },
   "outputs": [],
   "source": [
    "results = %%cypher match (n:HashTag)-[r]-()  return n.hashtag as HashTag, count(r) as Degree order by Degree desc limit 10"
   ]
  },
  {
   "cell_type": "code",
   "execution_count": null,
   "metadata": {
    "collapsed": false
   },
   "outputs": [],
   "source": [
    "results.get_dataframe()"
   ]
  },
  {
   "cell_type": "code",
   "execution_count": null,
   "metadata": {
    "collapsed": false
   },
   "outputs": [],
   "source": [
    "results.pie()"
   ]
  },
  {
   "cell_type": "code",
   "execution_count": null,
   "metadata": {
    "collapsed": false
   },
   "outputs": [],
   "source": [
    "results.plot()"
   ]
  },
  {
   "cell_type": "code",
   "execution_count": null,
   "metadata": {
    "collapsed": false
   },
   "outputs": [],
   "source": [
    "results.bar()"
   ]
  },
  {
   "cell_type": "code",
   "execution_count": null,
   "metadata": {
    "collapsed": false
   },
   "outputs": [],
   "source": [
    "results = %cypher match (n)-[r]-() return n, r limit 10\n",
    "results.draw()"
   ]
  },
  {
   "cell_type": "code",
   "execution_count": null,
   "metadata": {
    "collapsed": true
   },
   "outputs": [],
   "source": [
    "from py2neo import Graph\n",
    "graph = Graph()\n",
    "cypher = graph.cypher"
   ]
  },
  {
   "cell_type": "code",
   "execution_count": null,
   "metadata": {
    "collapsed": false
   },
   "outputs": [],
   "source": [
    "query = \"\"\"\n",
    "    MATCH (h:HashTag)<-[:HASHTAG]-(:Tweet)-[:HASHTAG]->(HashTag {hashtag:\"neo4j\"}) \n",
    "    WHERE h.hashtag <> \"neo4j\"\n",
    "    RETURN h.hashtag AS hashtag, COUNT(*) AS count\n",
    "    ORDER BY count DESC\n",
    "    LIMIT 10\n",
    "\"\"\"\n",
    "\n",
    "results = cypher.execute(query )\n",
    "print results\n",
    "\n"
   ]
  },
  {
   "cell_type": "code",
   "execution_count": null,
   "metadata": {
    "collapsed": false
   },
   "outputs": [],
   "source": [
    "results = cypher.execute(\n",
    "\"\"\"\n",
    "MATCH (u:User)\n",
    "WHERE exists(u.followers_count)\n",
    "return distinct u.username, u.followers_count\n",
    "order by u.followers_count DESC LIMIT 10\n",
    "\"\"\")\n",
    "\n",
    "print results"
   ]
  },
  {
   "cell_type": "code",
   "execution_count": null,
   "metadata": {
    "collapsed": false
   },
   "outputs": [],
   "source": [
    "type(results)"
   ]
  },
  {
   "cell_type": "code",
   "execution_count": null,
   "metadata": {
    "collapsed": false
   },
   "outputs": [],
   "source": [
    "%%cypher\n",
    "MATCH (u:User)\n",
    "WHERE exists(u.followers_count)\n",
    "return distinct u.username, u.followers_count\n",
    "order by u.followers_count DESC LIMIT 10"
   ]
  },
  {
   "cell_type": "code",
   "execution_count": null,
   "metadata": {
    "collapsed": false
   },
   "outputs": [],
   "source": [
    "%%cypher\n",
    "match n\n",
    "return distinct labels(n)"
   ]
  },
  {
   "cell_type": "code",
   "execution_count": null,
   "metadata": {
    "collapsed": false
   },
   "outputs": [],
   "source": [
    "\n",
    "result = %cypher MATCH (hashtag:HashTag)<-[:HASHTAG]-(tweet:Tweet) \\\n",
    "                 RETURN hashtag.name AS hashtag, COUNT(tweet) AS tweets \\\n",
    "                 ORDER BY tweets DESC LIMIT 5\n",
    "        \n",
    "df = result.get_dataframe()\n",
    "df.head()"
   ]
  },
  {
   "cell_type": "code",
   "execution_count": null,
   "metadata": {
    "collapsed": true
   },
   "outputs": [],
   "source": []
  }
 ],
 "metadata": {
  "kernelspec": {
   "display_name": "Python 2",
   "language": "python",
   "name": "python2"
  },
  "language_info": {
   "codemirror_mode": {
    "name": "ipython",
    "version": 2
   },
   "file_extension": ".py",
   "mimetype": "text/x-python",
   "name": "python",
   "nbconvert_exporter": "python",
   "pygments_lexer": "ipython2",
   "version": "2.7.6"
  }
 },
 "nbformat": 4,
 "nbformat_minor": 0
}
