{
 "cells": [
  {
   "cell_type": "markdown",
   "metadata": {},
   "source": [
    "# Operaciones CRUD en Neo4j"
   ]
  },
  {
   "cell_type": "code",
   "execution_count": 1,
   "metadata": {
    "collapsed": false
   },
   "outputs": [],
   "source": [
    "%load_ext cypher\n",
    "%matplotlib inline"
   ]
  },
  {
   "cell_type": "code",
   "execution_count": 2,
   "metadata": {
    "collapsed": false
   },
   "outputs": [
    {
     "name": "stdout",
     "output_type": "stream",
     "text": [
      "  \"neo4j_version\" : \"3.1.1\"\r\n"
     ]
    }
   ],
   "source": [
    "!curl -s http://localhost:7474/db/data/ | grep neo4j_version"
   ]
  },
  {
   "cell_type": "markdown",
   "metadata": {},
   "source": [
    "## Borrado de todos los nodos y relaciones de la base de datos"
   ]
  },
  {
   "cell_type": "code",
   "execution_count": 3,
   "metadata": {
    "collapsed": false
   },
   "outputs": [
    {
     "name": "stdout",
     "output_type": "stream",
     "text": [
      "0 rows affected.\n"
     ]
    },
    {
     "data": {
      "text/html": [
       "<table>\n",
       "    <tr>\n",
       "    </tr>\n",
       "</table>"
      ],
      "text/plain": [
       "[]"
      ]
     },
     "execution_count": 3,
     "metadata": {},
     "output_type": "execute_result"
    }
   ],
   "source": [
    "%%cypher\n",
    "MATCH (n) DETACH DELETE n"
   ]
  },
  {
   "cell_type": "markdown",
   "metadata": {},
   "source": [
    "## Crear 1 nodo"
   ]
  },
  {
   "cell_type": "code",
   "execution_count": 4,
   "metadata": {
    "collapsed": false,
    "scrolled": true
   },
   "outputs": [
    {
     "name": "stdout",
     "output_type": "stream",
     "text": [
      "1 labels added.\n",
      "1 nodes created.\n",
      "1 properties set.\n"
     ]
    },
    {
     "data": {
      "text/html": [
       "<table>\n",
       "    <tr>\n",
       "        <th>ann</th>\n",
       "    </tr>\n",
       "    <tr>\n",
       "        <td>{u'name': u'Ann'}</td>\n",
       "    </tr>\n",
       "</table>"
      ],
      "text/plain": [
       "[[{u'name': u'Ann'}]]"
      ]
     },
     "execution_count": 4,
     "metadata": {},
     "output_type": "execute_result"
    }
   ],
   "source": [
    "%%cypher\n",
    "CREATE (ann:Person { name: 'Ann' }) \n",
    "RETURN ann"
   ]
  },
  {
   "cell_type": "code",
   "execution_count": 5,
   "metadata": {
    "collapsed": false,
    "scrolled": true
   },
   "outputs": [
    {
     "name": "stdout",
     "output_type": "stream",
     "text": [
      "1 labels added.\n",
      "1 nodes created.\n",
      "1 properties set.\n"
     ]
    },
    {
     "data": {
      "text/html": [
       "<table>\n",
       "    <tr>\n",
       "        <th>dan</th>\n",
       "    </tr>\n",
       "    <tr>\n",
       "        <td>{u'name': u'Dan'}</td>\n",
       "    </tr>\n",
       "</table>"
      ],
      "text/plain": [
       "[[{u'name': u'Dan'}]]"
      ]
     },
     "execution_count": 5,
     "metadata": {},
     "output_type": "execute_result"
    }
   ],
   "source": [
    "%cypher CREATE (dan:Person { name: 'Dan' }) RETURN dan"
   ]
  },
  {
   "cell_type": "markdown",
   "metadata": {},
   "source": [
    "## Crear relaciones"
   ]
  },
  {
   "cell_type": "code",
   "execution_count": 6,
   "metadata": {
    "collapsed": false,
    "scrolled": true
   },
   "outputs": [
    {
     "name": "stdout",
     "output_type": "stream",
     "text": [
      "1 relationships created.\n"
     ]
    },
    {
     "data": {
      "text/html": [
       "<table>\n",
       "    <tr>\n",
       "    </tr>\n",
       "</table>"
      ],
      "text/plain": [
       "[]"
      ]
     },
     "execution_count": 6,
     "metadata": {},
     "output_type": "execute_result"
    }
   ],
   "source": [
    "%%cypher\n",
    "MATCH (a:Person { name: 'Ann' }), \n",
    "    (b:Person { name: 'Dan' })\n",
    "CREATE (a)-[:KNOWS]->(b)"
   ]
  },
  {
   "cell_type": "markdown",
   "metadata": {},
   "source": [
    "## Crear un nodo con MERGE"
   ]
  },
  {
   "cell_type": "markdown",
   "metadata": {},
   "source": [
    "Sólo se crea si no existe previamente"
   ]
  },
  {
   "cell_type": "code",
   "execution_count": 7,
   "metadata": {
    "collapsed": false,
    "scrolled": true
   },
   "outputs": [
    {
     "name": "stdout",
     "output_type": "stream",
     "text": [
      "1 labels added.\n",
      "1 nodes created.\n",
      "2 properties set.\n"
     ]
    },
    {
     "data": {
      "text/html": [
       "<table>\n",
       "    <tr>\n",
       "        <th>n</th>\n",
       "    </tr>\n",
       "    <tr>\n",
       "        <td>{u'age': 20, u'name': u'Victor'}</td>\n",
       "    </tr>\n",
       "</table>"
      ],
      "text/plain": [
       "[[{u'age': 20, u'name': u'Victor'}]]"
      ]
     },
     "execution_count": 7,
     "metadata": {},
     "output_type": "execute_result"
    }
   ],
   "source": [
    "%%cypher\n",
    "MERGE (n:Person { name: 'Victor' , age : 20}) RETURN n"
   ]
  },
  {
   "cell_type": "markdown",
   "metadata": {},
   "source": [
    "## Crear una relación con MERGE"
   ]
  },
  {
   "cell_type": "code",
   "execution_count": 8,
   "metadata": {
    "collapsed": false,
    "scrolled": true
   },
   "outputs": [
    {
     "name": "stdout",
     "output_type": "stream",
     "text": [
      "1 rows affected.\n"
     ]
    },
    {
     "data": {
      "text/html": [
       "<table>\n",
       "    <tr>\n",
       "        <th>a</th>\n",
       "        <th>type(r)</th>\n",
       "        <th>b</th>\n",
       "    </tr>\n",
       "    <tr>\n",
       "        <td>{u'name': u'Ann'}</td>\n",
       "        <td>KNOWS</td>\n",
       "        <td>{u'name': u'Dan'}</td>\n",
       "    </tr>\n",
       "</table>"
      ],
      "text/plain": [
       "[[{u'name': u'Ann'}, u'KNOWS', {u'name': u'Dan'}]]"
      ]
     },
     "execution_count": 8,
     "metadata": {},
     "output_type": "execute_result"
    }
   ],
   "source": [
    "%%cypher\n",
    "MATCH (a:Person { name: 'Ann' })\n",
    "MATCH (b:Person { name: 'Dan' })\n",
    "MERGE (a)-[r:KNOWS]->(b)\n",
    "RETURN a,type(r),b"
   ]
  },
  {
   "cell_type": "code",
   "execution_count": 9,
   "metadata": {
    "collapsed": false,
    "scrolled": true
   },
   "outputs": [
    {
     "name": "stdout",
     "output_type": "stream",
     "text": [
      "1 relationships created.\n"
     ]
    },
    {
     "data": {
      "text/html": [
       "<table>\n",
       "    <tr>\n",
       "        <th>a</th>\n",
       "        <th>type(r)</th>\n",
       "        <th>b</th>\n",
       "    </tr>\n",
       "    <tr>\n",
       "        <td>{u'name': u'Ann'}</td>\n",
       "        <td>KNOWS</td>\n",
       "        <td>{u'age': 20, u'name': u'Victor'}</td>\n",
       "    </tr>\n",
       "</table>"
      ],
      "text/plain": [
       "[[{u'name': u'Ann'}, u'KNOWS', {u'age': 20, u'name': u'Victor'}]]"
      ]
     },
     "execution_count": 9,
     "metadata": {},
     "output_type": "execute_result"
    }
   ],
   "source": [
    "%%cypher\n",
    "MATCH (a:Person { name: 'Ann' }), (b:Person { name: 'Victor' })\n",
    "MERGE (a)-[r:KNOWS]->(b)\n",
    "RETURN a,type(r),b"
   ]
  },
  {
   "cell_type": "markdown",
   "metadata": {},
   "source": [
    "## Nodos y relaciones al mismo tiempo"
   ]
  },
  {
   "cell_type": "code",
   "execution_count": 10,
   "metadata": {
    "collapsed": false,
    "scrolled": true
   },
   "outputs": [
    {
     "name": "stdout",
     "output_type": "stream",
     "text": [
      "2 labels added.\n",
      "2 nodes created.\n",
      "4 properties set.\n",
      "1 relationships created.\n"
     ]
    },
    {
     "data": {
      "text/html": [
       "<table>\n",
       "    <tr>\n",
       "    </tr>\n",
       "</table>"
      ],
      "text/plain": [
       "[]"
      ]
     },
     "execution_count": 10,
     "metadata": {},
     "output_type": "execute_result"
    }
   ],
   "source": [
    "%%cypher\n",
    "CREATE (Felix:Person {name:'Felix'})\n",
    "CREATE (Mariam:Person {name:'Mariam',\n",
    "                       born:1964})\n",
    "CREATE\n",
    "  (Felix)-[:KNOWS {since:2010}]->(Mariam)\n",
    ";"
   ]
  },
  {
   "cell_type": "markdown",
   "metadata": {},
   "source": [
    "## Encontrar patrones"
   ]
  },
  {
   "cell_type": "code",
   "execution_count": 11,
   "metadata": {
    "collapsed": false,
    "scrolled": true
   },
   "outputs": [
    {
     "name": "stdout",
     "output_type": "stream",
     "text": [
      "1 rows affected.\n"
     ]
    },
    {
     "data": {
      "text/html": [
       "<table>\n",
       "    <tr>\n",
       "        <th>n</th>\n",
       "    </tr>\n",
       "    <tr>\n",
       "        <td>{u'name': u'Ann'}</td>\n",
       "    </tr>\n",
       "</table>"
      ],
      "text/plain": [
       "[[{u'name': u'Ann'}]]"
      ]
     },
     "execution_count": 11,
     "metadata": {},
     "output_type": "execute_result"
    }
   ],
   "source": [
    "%%cypher\n",
    "MATCH (n:Person { name: 'Ann' }) \n",
    "RETURN n"
   ]
  },
  {
   "cell_type": "code",
   "execution_count": 12,
   "metadata": {
    "collapsed": false,
    "scrolled": true
   },
   "outputs": [
    {
     "name": "stdout",
     "output_type": "stream",
     "text": [
      "5 rows affected.\n"
     ]
    },
    {
     "data": {
      "text/html": [
       "<table>\n",
       "    <tr>\n",
       "        <th>n</th>\n",
       "    </tr>\n",
       "    <tr>\n",
       "        <td>{u'name': u'Ann'}</td>\n",
       "    </tr>\n",
       "    <tr>\n",
       "        <td>{u'name': u'Dan'}</td>\n",
       "    </tr>\n",
       "    <tr>\n",
       "        <td>{u'age': 20, u'name': u'Victor'}</td>\n",
       "    </tr>\n",
       "    <tr>\n",
       "        <td>{u'name': u'Felix'}</td>\n",
       "    </tr>\n",
       "    <tr>\n",
       "        <td>{u'born': 1964, u'name': u'Mariam'}</td>\n",
       "    </tr>\n",
       "</table>"
      ],
      "text/plain": [
       "[[{u'name': u'Ann'}],\n",
       " [{u'name': u'Dan'}],\n",
       " [{u'age': 20, u'name': u'Victor'}],\n",
       " [{u'name': u'Felix'}],\n",
       " [{u'born': 1964, u'name': u'Mariam'}]]"
      ]
     },
     "execution_count": 12,
     "metadata": {},
     "output_type": "execute_result"
    }
   ],
   "source": [
    "%%cypher \n",
    "MATCH (n:Person) RETURN n"
   ]
  },
  {
   "cell_type": "code",
   "execution_count": 13,
   "metadata": {
    "collapsed": false,
    "scrolled": true
   },
   "outputs": [
    {
     "name": "stdout",
     "output_type": "stream",
     "text": [
      "1 rows affected.\n"
     ]
    },
    {
     "data": {
      "text/html": [
       "<table>\n",
       "    <tr>\n",
       "        <th>n</th>\n",
       "    </tr>\n",
       "    <tr>\n",
       "        <td>{u'age': 20, u'name': u'Victor'}</td>\n",
       "    </tr>\n",
       "</table>"
      ],
      "text/plain": [
       "[[{u'age': 20, u'name': u'Victor'}]]"
      ]
     },
     "execution_count": 13,
     "metadata": {},
     "output_type": "execute_result"
    }
   ],
   "source": [
    "%%cypher \n",
    "MATCH (n:Person) \n",
    "WHERE n.age > 10\n",
    "RETURN n"
   ]
  },
  {
   "cell_type": "code",
   "execution_count": 14,
   "metadata": {
    "collapsed": false,
    "scrolled": true
   },
   "outputs": [
    {
     "name": "stdout",
     "output_type": "stream",
     "text": [
      "2 rows affected.\n"
     ]
    },
    {
     "data": {
      "text/html": [
       "<table>\n",
       "    <tr>\n",
       "        <th>n</th>\n",
       "        <th>neighbors</th>\n",
       "    </tr>\n",
       "    <tr>\n",
       "        <td>{u'name': u'Ann'}</td>\n",
       "        <td>{u'age': 20, u'name': u'Victor'}</td>\n",
       "    </tr>\n",
       "    <tr>\n",
       "        <td>{u'name': u'Ann'}</td>\n",
       "        <td>{u'name': u'Dan'}</td>\n",
       "    </tr>\n",
       "</table>"
      ],
      "text/plain": [
       "[[{u'name': u'Ann'}, {u'age': 20, u'name': u'Victor'}],\n",
       " [{u'name': u'Ann'}, {u'name': u'Dan'}]]"
      ]
     },
     "execution_count": 14,
     "metadata": {},
     "output_type": "execute_result"
    }
   ],
   "source": [
    "%%cypher \n",
    "MATCH (n:Person { name: 'Ann' })-[r:KNOWS]-(neighbors) \n",
    "RETURN n,neighbors"
   ]
  },
  {
   "cell_type": "code",
   "execution_count": 15,
   "metadata": {
    "collapsed": false,
    "scrolled": true
   },
   "outputs": [
    {
     "name": "stdout",
     "output_type": "stream",
     "text": [
      "2 rows affected.\n"
     ]
    },
    {
     "data": {
      "text/html": [
       "<table>\n",
       "    <tr>\n",
       "        <th>Name</th>\n",
       "        <th>count</th>\n",
       "    </tr>\n",
       "    <tr>\n",
       "        <td>Victor</td>\n",
       "        <td>1</td>\n",
       "    </tr>\n",
       "    <tr>\n",
       "        <td>Dan</td>\n",
       "        <td>1</td>\n",
       "    </tr>\n",
       "</table>"
      ],
      "text/plain": [
       "[[u'Victor', 1], [u'Dan', 1]]"
      ]
     },
     "execution_count": 15,
     "metadata": {},
     "output_type": "execute_result"
    }
   ],
   "source": [
    "%%cypher\n",
    "MATCH (h:Person)<-[:KNOWS]-(:Person)-[:KNOWS]->(Person) \n",
    "RETURN h.name AS Name, COUNT(*) AS count\n",
    "ORDER BY count DESC\n",
    "LIMIT 10"
   ]
  },
  {
   "cell_type": "code",
   "execution_count": 16,
   "metadata": {
    "collapsed": false,
    "scrolled": true
   },
   "outputs": [
    {
     "name": "stdout",
     "output_type": "stream",
     "text": [
      "2 rows affected.\n"
     ]
    },
    {
     "data": {
      "text/html": [
       "<table>\n",
       "    <tr>\n",
       "        <th>n</th>\n",
       "        <th>neighbors</th>\n",
       "    </tr>\n",
       "    <tr>\n",
       "        <td>{u'age': 20, u'name': u'Victor'}</td>\n",
       "        <td>{u'name': u'Ann'}</td>\n",
       "    </tr>\n",
       "    <tr>\n",
       "        <td>{u'age': 20, u'name': u'Victor'}</td>\n",
       "        <td>{u'name': u'Dan'}</td>\n",
       "    </tr>\n",
       "</table>"
      ],
      "text/plain": [
       "[[{u'age': 20, u'name': u'Victor'}, {u'name': u'Ann'}],\n",
       " [{u'age': 20, u'name': u'Victor'}, {u'name': u'Dan'}]]"
      ]
     },
     "execution_count": 16,
     "metadata": {},
     "output_type": "execute_result"
    }
   ],
   "source": [
    "%%cypher\n",
    "MATCH (n:Person { name: 'Victor' })-[:KNOWS*1..3]-(neighbors) \n",
    "RETURN DISTINCT n, neighbors"
   ]
  },
  {
   "cell_type": "code",
   "execution_count": 17,
   "metadata": {
    "collapsed": false,
    "scrolled": true
   },
   "outputs": [
    {
     "name": "stdout",
     "output_type": "stream",
     "text": [
      "1 rows affected.\n"
     ]
    },
    {
     "data": {
      "text/html": [
       "<table>\n",
       "    <tr>\n",
       "        <th>n</th>\n",
       "        <th>collect(DISTINCT neighbors)</th>\n",
       "    </tr>\n",
       "    <tr>\n",
       "        <td>{u'name': u'Dan'}</td>\n",
       "        <td>[{u'name': u'Ann'}, {u'age': 20, u'name': u'Victor'}]</td>\n",
       "    </tr>\n",
       "</table>"
      ],
      "text/plain": [
       "[[{u'name': u'Dan'}, [{u'name': u'Ann'}, {u'age': 20, u'name': u'Victor'}]]]"
      ]
     },
     "execution_count": 17,
     "metadata": {},
     "output_type": "execute_result"
    }
   ],
   "source": [
    "%%cypher\n",
    "MATCH (n:Person { name: 'Dan' })-[:KNOWS*1..3]-(neighbors) \n",
    "RETURN n, collect(DISTINCT neighbors)"
   ]
  },
  {
   "cell_type": "markdown",
   "metadata": {},
   "source": [
    "## Actualizar 1 nodo"
   ]
  },
  {
   "cell_type": "code",
   "execution_count": 18,
   "metadata": {
    "collapsed": false,
    "scrolled": true
   },
   "outputs": [
    {
     "name": "stdout",
     "output_type": "stream",
     "text": [
      "1 properties set.\n"
     ]
    },
    {
     "data": {
      "text/html": [
       "<table>\n",
       "    <tr>\n",
       "    </tr>\n",
       "</table>"
      ],
      "text/plain": [
       "[]"
      ]
     },
     "execution_count": 18,
     "metadata": {},
     "output_type": "execute_result"
    }
   ],
   "source": [
    "%%cypher\n",
    "MATCH (n:Person {name : \"Ann\"})\n",
    "SET n.hair = \"Brown\""
   ]
  },
  {
   "cell_type": "markdown",
   "metadata": {},
   "source": [
    "## Borrar 1 nodo"
   ]
  },
  {
   "cell_type": "code",
   "execution_count": 19,
   "metadata": {
    "collapsed": false,
    "scrolled": true
   },
   "outputs": [
    {
     "name": "stdout",
     "output_type": "stream",
     "text": [
      "1 labels added.\n",
      "1 nodes created.\n",
      "1 properties set.\n"
     ]
    },
    {
     "data": {
      "text/html": [
       "<table>\n",
       "    <tr>\n",
       "        <th>n</th>\n",
       "    </tr>\n",
       "    <tr>\n",
       "        <td>{u'name': u'Alex'}</td>\n",
       "    </tr>\n",
       "</table>"
      ],
      "text/plain": [
       "[[{u'name': u'Alex'}]]"
      ]
     },
     "execution_count": 19,
     "metadata": {},
     "output_type": "execute_result"
    }
   ],
   "source": [
    "%%cypher\n",
    "CREATE (n:Person {name : \"Alex\"})\n",
    "RETURN n;"
   ]
  },
  {
   "cell_type": "code",
   "execution_count": 20,
   "metadata": {
    "collapsed": false,
    "scrolled": true
   },
   "outputs": [
    {
     "name": "stdout",
     "output_type": "stream",
     "text": [
      "1 nodes deleted.\n"
     ]
    },
    {
     "data": {
      "text/html": [
       "<table>\n",
       "    <tr>\n",
       "    </tr>\n",
       "</table>"
      ],
      "text/plain": [
       "[]"
      ]
     },
     "execution_count": 20,
     "metadata": {},
     "output_type": "execute_result"
    }
   ],
   "source": [
    "%%cypher\n",
    "MATCH (Alex:Person {name:\"Alex\"})\n",
    "DELETE Alex"
   ]
  },
  {
   "cell_type": "markdown",
   "metadata": {},
   "source": [
    "## Algoritmos"
   ]
  },
  {
   "cell_type": "code",
   "execution_count": 21,
   "metadata": {
    "collapsed": false,
    "scrolled": true
   },
   "outputs": [
    {
     "name": "stdout",
     "output_type": "stream",
     "text": [
      "1 rows affected.\n"
     ]
    },
    {
     "data": {
      "text/html": [
       "<table>\n",
       "    <tr>\n",
       "        <th>p</th>\n",
       "    </tr>\n",
       "    <tr>\n",
       "        <td>[{u'hair': u'Brown', u'name': u'Ann'}, {}, {u'name': u'Dan'}]</td>\n",
       "    </tr>\n",
       "</table>"
      ],
      "text/plain": [
       "[[[{u'hair': u'Brown', u'name': u'Ann'}, {}, {u'name': u'Dan'}]]]"
      ]
     },
     "execution_count": 21,
     "metadata": {},
     "output_type": "execute_result"
    }
   ],
   "source": [
    "%%cypher\n",
    "MATCH p=shortestPath(\n",
    "  (a:Person { name: 'Ann' })-[:KNOWS]-(b:Person { name: 'Dan'})\n",
    ")\n",
    "RETURN p"
   ]
  },
  {
   "cell_type": "code",
   "execution_count": 22,
   "metadata": {
    "collapsed": false,
    "scrolled": true
   },
   "outputs": [
    {
     "name": "stdout",
     "output_type": "stream",
     "text": [
      "1 rows affected.\n"
     ]
    },
    {
     "data": {
      "text/html": [
       "<table>\n",
       "    <tr>\n",
       "        <th>p</th>\n",
       "    </tr>\n",
       "    <tr>\n",
       "        <td>[{u'age': 20, u'name': u'Victor'}, {}, {u'hair': u'Brown', u'name': u'Ann'}, {}, {u'name': u'Dan'}]</td>\n",
       "    </tr>\n",
       "</table>"
      ],
      "text/plain": [
       "[[[{u'age': 20, u'name': u'Victor'},\n",
       "   {},\n",
       "   {u'hair': u'Brown', u'name': u'Ann'},\n",
       "   {},\n",
       "   {u'name': u'Dan'}]]]"
      ]
     },
     "execution_count": 22,
     "metadata": {},
     "output_type": "execute_result"
    }
   ],
   "source": [
    "%%cypher\n",
    "MATCH p=shortestPath(\n",
    "  (a:Person { name: 'Victor' })-[:KNOWS*1..3]-(b:Person { name: 'Dan'})\n",
    ")\n",
    "RETURN p"
   ]
  },
  {
   "cell_type": "code",
   "execution_count": null,
   "metadata": {
    "collapsed": true
   },
   "outputs": [],
   "source": []
  },
  {
   "cell_type": "code",
   "execution_count": null,
   "metadata": {
    "collapsed": true
   },
   "outputs": [],
   "source": []
  }
 ],
 "metadata": {
  "kernelspec": {
   "display_name": "Python 2",
   "language": "python",
   "name": "python2"
  },
  "language_info": {
   "codemirror_mode": {
    "name": "ipython",
    "version": 2
   },
   "file_extension": ".py",
   "mimetype": "text/x-python",
   "name": "python",
   "nbconvert_exporter": "python",
   "pygments_lexer": "ipython2",
   "version": "2.7.6"
  }
 },
 "nbformat": 4,
 "nbformat_minor": 0
}
