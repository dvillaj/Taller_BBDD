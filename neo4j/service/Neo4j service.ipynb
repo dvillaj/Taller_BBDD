{
 "cells": [
  {
   "cell_type": "markdown",
   "metadata": {},
   "source": [
    "# Setup"
   ]
  },
  {
   "cell_type": "code",
   "execution_count": 1,
   "metadata": {},
   "outputs": [],
   "source": [
    "%alias neo4j /usr/local/bin/docker-compose -f /opt/compose/compose-neo4j/docker-compose.yml"
   ]
  },
  {
   "cell_type": "markdown",
   "metadata": {},
   "source": [
    "# Start Service"
   ]
  },
  {
   "cell_type": "code",
   "execution_count": 3,
   "metadata": {},
   "outputs": [
    {
     "name": "stdout",
     "output_type": "stream",
     "text": [
      "Creating network \"compose-neo4j_neo4j\" with driver \"bridge\"\n",
      "Creating volume \"compose-neo4j_data_volume\" with default driver\n",
      "Creating volume \"compose-neo4j_import_volume\" with default driver\n",
      "Creating volume \"compose-neo4j_plugins_volume\" with default driver\n",
      "Creating neo4j_container ... \n",
      "\u001b[1Bting neo4j_container ... \u001b[32mdone\u001b[0m"
     ]
    }
   ],
   "source": [
    "neo4j up -d"
   ]
  },
  {
   "cell_type": "markdown",
   "metadata": {},
   "source": [
    "# Neo4j Client"
   ]
  },
  {
   "cell_type": "markdown",
   "metadata": {},
   "source": [
    "http://localhost:7474"
   ]
  },
  {
   "cell_type": "markdown",
   "metadata": {},
   "source": [
    "# Containers"
   ]
  },
  {
   "cell_type": "code",
   "execution_count": 39,
   "metadata": {},
   "outputs": [
    {
     "name": "stdout",
     "output_type": "stream",
     "text": [
      "       Name                  Command            State            Ports          \n",
      "--------------------------------------------------------------------------------\n",
      "pgadmin_container    /entrypoint.sh             Up      443/tcp,                \n",
      "                                                        0.0.0.0:5050->80/tcp    \n",
      "postgres_container   docker-entrypoint.sh       Up      0.0.0.0:5432->5432/tcp  \n",
      "                     postgres                                                   \n"
     ]
    }
   ],
   "source": [
    "neo4j ps"
   ]
  },
  {
   "cell_type": "markdown",
   "metadata": {},
   "source": [
    "# Logs"
   ]
  },
  {
   "cell_type": "code",
   "execution_count": 40,
   "metadata": {},
   "outputs": [
    {
     "name": "stdout",
     "output_type": "stream",
     "text": [
      "Attaching to postgres_container, pgadmin_container\n",
      "\u001b[33mpostgres_container |\u001b[0m \n",
      "\u001b[33mpostgres_container |\u001b[0m PostgreSQL Database directory appears to contain a database; Skipping initialization\n",
      "\u001b[33mpostgres_container |\u001b[0m \n",
      "\u001b[33mpostgres_container |\u001b[0m 2020-12-13 09:31:17.382 UTC [1] LOG:  starting PostgreSQL 12.2 (Debian 12.2-2.pgdg100+1) on x86_64-pc-linux-gnu, compiled by gcc (Debian 8.3.0-6) 8.3.0, 64-bit\n",
      "\u001b[33mpostgres_container |\u001b[0m 2020-12-13 09:31:17.382 UTC [1] LOG:  listening on IPv4 address \"0.0.0.0\", port 5432\n",
      "\u001b[33mpostgres_container |\u001b[0m 2020-12-13 09:31:17.382 UTC [1] LOG:  listening on IPv6 address \"::\", port 5432\n",
      "\u001b[33mpostgres_container |\u001b[0m 2020-12-13 09:31:17.438 UTC [1] LOG:  listening on Unix socket \"/var/run/postgresql/.s.PGSQL.5432\"\n",
      "\u001b[33mpostgres_container |\u001b[0m 2020-12-13 09:31:17.483 UTC [26] LOG:  database system was interrupted; last known up at 2020-12-13 07:01:45 UTC\n",
      "\u001b[33mpostgres_container |\u001b[0m 2020-12-13 09:31:19.569 UTC [26] LOG:  database system was not properly shut down; automatic recovery in progress\n",
      "\u001b[33mpostgres_container |\u001b[0m 2020-12-13 09:31:19.593 UTC [26] LOG:  redo starts at 0/1F846168\n",
      "\u001b[33mpostgres_container |\u001b[0m 2020-12-13 09:31:19.593 UTC [26] LOG:  invalid record length at 0/1F846250: wanted 24, got 0\n",
      "\u001b[33mpostgres_container |\u001b[0m 2020-12-13 09:31:19.593 UTC [26] LOG:  redo done at 0/1F846218\n",
      "\u001b[33mpostgres_container |\u001b[0m 2020-12-13 09:31:19.626 UTC [1] LOG:  database system is ready to accept connections\n",
      "\u001b[36mpgadmin_container |\u001b[0m NOTE: Configuring authentication for SERVER mode.\n",
      "\u001b[36mpgadmin_container |\u001b[0m \n",
      "\u001b[36mpgadmin_container |\u001b[0m [2020-12-13 09:31:21 +0000] [1] [INFO] Starting gunicorn 19.9.0\n",
      "\u001b[36mpgadmin_container |\u001b[0m [2020-12-13 09:31:21 +0000] [1] [INFO] Listening at: http://[::]:80 (1)\n",
      "\u001b[36mpgadmin_container |\u001b[0m [2020-12-13 09:31:21 +0000] [1] [INFO] Using worker: threads\n",
      "\u001b[36mpgadmin_container |\u001b[0m [2020-12-13 09:31:21 +0000] [87] [INFO] Booting worker with pid: 87\n"
     ]
    }
   ],
   "source": [
    "neo4j logs"
   ]
  },
  {
   "cell_type": "markdown",
   "metadata": {},
   "source": [
    "# Stop Service"
   ]
  },
  {
   "cell_type": "code",
   "execution_count": 36,
   "metadata": {},
   "outputs": [
    {
     "name": "stdout",
     "output_type": "stream",
     "text": [
      "Stopping postgres_container ... \n",
      "Stopping pgadmin_container  ... \n",
      "\u001b[2Bping postgres_container ... \u001b[32mdone\u001b[0m\u001b[2A\u001b[2KRemoving postgres_container ... \n",
      "Removing pgadmin_container  ... \n",
      "\u001b[2BRemoving network compose-postgres_postgres\n"
     ]
    }
   ],
   "source": [
    "neo4j down"
   ]
  },
  {
   "cell_type": "code",
   "execution_count": null,
   "metadata": {},
   "outputs": [],
   "source": []
  }
 ],
 "metadata": {
  "kernelspec": {
   "display_name": "Python 3",
   "language": "python",
   "name": "python3"
  },
  "language_info": {
   "codemirror_mode": {
    "name": "ipython",
    "version": 3
   },
   "file_extension": ".py",
   "mimetype": "text/x-python",
   "name": "python",
   "nbconvert_exporter": "python",
   "pygments_lexer": "ipython3",
   "version": "3.6.9"
  }
 },
 "nbformat": 4,
 "nbformat_minor": 4
}
